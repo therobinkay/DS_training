{
 "cells": [
  {
   "cell_type": "code",
   "execution_count": null,
   "id": "b820fde3",
   "metadata": {},
   "outputs": [],
   "source": [
    "import numpy as np\n",
    "import pandas as pd\n",
    "\n",
    "import matplotlib\n",
    "import matplotlib.pyplot as plt\n",
    "\n",
    "%matplotlib inline\n",
    "\n",
    "import seaborn as sns\n",
    "\n",
    "import os\n",
    "\n",
    "path = os.getcwd()\n",
    "os.chdir(f\"{path}\")"
   ]
  },
  {
   "cell_type": "code",
   "execution_count": null,
   "id": "7bdd38d3",
   "metadata": {},
   "outputs": [],
   "source": [
    "trn = pd.read_csv('./santander-product-recommendation/train_ver2.csv.zip')"
   ]
  },
  {
   "cell_type": "markdown",
   "id": "facb8fe3",
   "metadata": {},
   "source": [
    "# EDA"
   ]
  },
  {
   "cell_type": "code",
   "execution_count": null,
   "id": "3af1fb69",
   "metadata": {},
   "outputs": [],
   "source": [
    "trn.shape"
   ]
  },
  {
   "cell_type": "code",
   "execution_count": null,
   "id": "d4a0ca2b",
   "metadata": {},
   "outputs": [],
   "source": [
    "trn.head()"
   ]
  },
  {
   "cell_type": "code",
   "execution_count": null,
   "id": "7292f319",
   "metadata": {},
   "outputs": [],
   "source": [
    "for col in trn.columns:\n",
    "    print('{}\\n'.format(trn[col].head()))"
   ]
  },
  {
   "cell_type": "code",
   "execution_count": null,
   "id": "03777988",
   "metadata": {},
   "outputs": [],
   "source": [
    "trn.info()"
   ]
  },
  {
   "cell_type": "markdown",
   "id": "6202891f",
   "metadata": {},
   "source": [
    "**It is crucial to know what each column indicates.**\n",
    "\n",
    "## 1.1 Quantitative columns observation\n",
    "\n",
    "Find the basic statistics of int- and float- type data from the first 24 columns, which are customer features."
   ]
  },
  {
   "cell_type": "code",
   "execution_count": null,
   "id": "b88eece8",
   "metadata": {},
   "outputs": [],
   "source": [
    "num_cols = [col for col in trn.columns[:24] if trn[col].dtype in ['int64', 'float64']]\n",
    "trn[num_cols].describe()"
   ]
  },
  {
   "cell_type": "markdown",
   "id": "6f90dbad",
   "metadata": {},
   "source": [
    "- <u>ncodpers</u>: works like an id\n",
    "- <u>ind_nuevo</u>: the bottom 75% is 0, and the rest is 1.\n",
    "- <u>indrel</u>: the bottom 75% is 1, and the rest is 99.\n",
    "- <u>tipodom</u>: all values are 1, *and hence is unimportant for feature engineering*.\n",
    "- <u>cod_prov</u>: ranges from 1 to 52; it is quantitative, but works as a qualitative column as it explains area code.\n",
    "- <u>ind_actividad_cliente</u>: the bottom 50% is 0, and the rest is 1.\n",
    "- <u>renta</u>: regular quantitative data.\n",
    "\n",
    "## 1.2 Qualitative columns observation"
   ]
  },
  {
   "cell_type": "code",
   "execution_count": null,
   "id": "00dbf15c",
   "metadata": {},
   "outputs": [],
   "source": [
    "# object type columns out of the first 24 columns (customer feature)\n",
    "\n",
    "cat_cols = [col for col in trn.columns[:24] if trn[col].dtype in ['O']]\n",
    "trn[cat_cols].describe()"
   ]
  },
  {
   "cell_type": "markdown",
   "id": "30495150",
   "metadata": {},
   "source": [
    "Worth noting:\n",
    "\n",
    "1. 'age' should be quantitative, but is categorized as qualitative.\n",
    "2. 'antiguedad' should also be quantitative."
   ]
  },
  {
   "cell_type": "code",
   "execution_count": null,
   "id": "31b8741d",
   "metadata": {},
   "outputs": [],
   "source": [
    "# find unique values per column\n",
    "\n",
    "for col in cat_cols:\n",
    "    uniq = np.unique(trn[col].astype(str))\n",
    "    print('-' * 50)\n",
    "    print('# col {}, n_uniq {}, uniq {}'.format(col, len(uniq), uniq))"
   ]
  },
  {
   "cell_type": "markdown",
   "id": "baad2723",
   "metadata": {},
   "source": [
    "**IT IS EXTREMELY IMPORTANT TO WRITE DOWN THE ANALYSIS NOTE.**\n",
    "\n",
    "## 1.3 Visual observation\n",
    "\n",
    "'ncodpers', which works like an id, and 'renta' have too many unique values, so for now we skip for visualization."
   ]
  },
  {
   "cell_type": "code",
   "execution_count": null,
   "id": "be8b3cd1",
   "metadata": {},
   "outputs": [],
   "source": [
    "skip_cols = ['ncodpers', 'renta']\n",
    "for col in trn.columns:\n",
    "    if col in skip_cols:\n",
    "        continue\n",
    "    \n",
    "    print('-' * 50)\n",
    "    print('col : ', col)\n",
    "    \n",
    "    f, ax = plt.subplots(figsize=(12,9))\n",
    "    sns.countplot(x=col, data=trn, alpha=0.5)\n",
    "    \n",
    "    plt.show()"
   ]
  },
  {
   "cell_type": "markdown",
   "id": "0d3c2908",
   "metadata": {},
   "source": [
    "**IT IS EXTREMELY IMPORTANT TO WRITE DOWN THE ANALYSIS NOTE.**\n",
    "\n",
    "### 1.3.1 Temporal data visual observation\n",
    "\n",
    "Some binary visualizations don't help much for feature engineering. We include the temporal factor into our analysis."
   ]
  },
  {
   "cell_type": "code",
   "execution_count": null,
   "id": "00b38009",
   "metadata": {},
   "outputs": [],
   "source": [
    "months = trn['fecha_dato'].unique().tolist()\n",
    "label_cols = trn.columns[24:].tolist()\n",
    "\n",
    "label_over_time = []\n",
    "for i in range(len(label_cols)):\n",
    "    label_sum = trn.groupby(['fecha_dato'])[label_cols[i]].agg('sum')\n",
    "    label_over_time.append(label_sum.tolist())\n",
    "    \n",
    "label_sum_over_time = []\n",
    "for i in range(len(label_cols)):\n",
    "    label_sum_over_time.append(np.asarray(label_over_time[i:]).sum(axis=0))\n",
    "    \n",
    "color_list = ['#F5B7B1', '#D2B4DE', '#AED6F1', '#A2D9CE', '#ABEBC6', '#F9E79F',\n",
    "              '#F5CBA7', '#CCD1D1']\n",
    "\n",
    "f, ax = plt.subplots(figsize=(20, 10))\n",
    "for i in range(len(label_cols)):\n",
    "    sns.barplot(x=months, y=label_sum_over_time[i], color=color_list[i%8], alpha=0.7)\n",
    "    \n",
    "plt.legend([plt.Rectangle((0,0),1,1,fc=color_list[i%8], edgecolor='none') for i in range(len(label_cols))],\n",
    "          label_cols, loc=1, ncol=2, prop={'size':16})"
   ]
  }
 ],
 "metadata": {
  "kernelspec": {
   "display_name": "Python 3",
   "language": "python",
   "name": "python3"
  },
  "language_info": {
   "codemirror_mode": {
    "name": "ipython",
    "version": 3
   },
   "file_extension": ".py",
   "mimetype": "text/x-python",
   "name": "python",
   "nbconvert_exporter": "python",
   "pygments_lexer": "ipython3",
   "version": "3.8.8"
  }
 },
 "nbformat": 4,
 "nbformat_minor": 5
}
