{
 "cells": [
  {
   "cell_type": "code",
   "execution_count": 151,
   "metadata": {
    "execution": {
     "iopub.execute_input": "2022-04-13T05:05:58.202943Z",
     "iopub.status.busy": "2022-04-13T05:05:58.202578Z",
     "iopub.status.idle": "2022-04-13T05:05:58.214078Z",
     "shell.execute_reply": "2022-04-13T05:05:58.213143Z",
     "shell.execute_reply.started": "2022-04-13T05:05:58.202905Z"
    }
   },
   "outputs": [],
   "source": [
    "import numpy as np\n",
    "import pandas as pd\n",
    "import matplotlib.pyplot as plt\n",
    "import seaborn as sns\n",
    "\n",
    "plt.style.use('seaborn')\n",
    "sns.set(font_scale=2)\n",
    "import missingno as msno\n",
    "\n",
    "#ignore warnings\n",
    "import warnings\n",
    "warnings.filterwarnings('ignore')\n",
    "\n",
    "%matplotlib inline"
   ]
  },
  {
   "cell_type": "markdown",
   "metadata": {},
   "source": [
    "# 1. Check Data"
   ]
  },
  {
   "cell_type": "code",
   "execution_count": 152,
   "metadata": {
    "execution": {
     "iopub.execute_input": "2022-04-13T05:05:58.529633Z",
     "iopub.status.busy": "2022-04-13T05:05:58.528694Z",
     "iopub.status.idle": "2022-04-13T05:05:58.552371Z",
     "shell.execute_reply": "2022-04-13T05:05:58.551621Z",
     "shell.execute_reply.started": "2022-04-13T05:05:58.529589Z"
    }
   },
   "outputs": [],
   "source": [
    "df_train = pd.read_csv('../input/titanic/train.csv')\n",
    "df_test = pd.read_csv('../input/titanic/test.csv')"
   ]
  },
  {
   "cell_type": "code",
   "execution_count": 153,
   "metadata": {
    "execution": {
     "iopub.execute_input": "2022-04-13T05:05:58.674382Z",
     "iopub.status.busy": "2022-04-13T05:05:58.673920Z",
     "iopub.status.idle": "2022-04-13T05:05:58.691432Z",
     "shell.execute_reply": "2022-04-13T05:05:58.690499Z",
     "shell.execute_reply.started": "2022-04-13T05:05:58.674347Z"
    }
   },
   "outputs": [],
   "source": [
    "df_train.head()"
   ]
  },
  {
   "cell_type": "code",
   "execution_count": 154,
   "metadata": {
    "execution": {
     "iopub.execute_input": "2022-04-13T05:05:58.817910Z",
     "iopub.status.busy": "2022-04-13T05:05:58.817347Z",
     "iopub.status.idle": "2022-04-13T05:05:58.848915Z",
     "shell.execute_reply": "2022-04-13T05:05:58.847946Z",
     "shell.execute_reply.started": "2022-04-13T05:05:58.817867Z"
    }
   },
   "outputs": [],
   "source": [
    "df_train.describe()"
   ]
  },
  {
   "cell_type": "markdown",
   "metadata": {},
   "source": [
    "Seems like there exists null data. Visualize using msno."
   ]
  },
  {
   "cell_type": "markdown",
   "metadata": {},
   "source": [
    "## 1.1 Check Null Data"
   ]
  },
  {
   "cell_type": "code",
   "execution_count": 155,
   "metadata": {
    "execution": {
     "iopub.execute_input": "2022-04-13T05:05:59.161176Z",
     "iopub.status.busy": "2022-04-13T05:05:59.160894Z",
     "iopub.status.idle": "2022-04-13T05:05:59.173190Z",
     "shell.execute_reply": "2022-04-13T05:05:59.172409Z",
     "shell.execute_reply.started": "2022-04-13T05:05:59.161137Z"
    }
   },
   "outputs": [],
   "source": [
    "for col in df_train.columns:\n",
    "    msg = 'column: {:>10}\\t Percent of NaN value: {:.2f}%'.format(\n",
    "        col, 100 * (df_train[col].isnull().sum() / df_train[col].shape[0]))\n",
    "    print(msg)"
   ]
  },
  {
   "cell_type": "code",
   "execution_count": 156,
   "metadata": {
    "execution": {
     "iopub.execute_input": "2022-04-13T05:05:59.263335Z",
     "iopub.status.busy": "2022-04-13T05:05:59.262453Z",
     "iopub.status.idle": "2022-04-13T05:05:59.275505Z",
     "shell.execute_reply": "2022-04-13T05:05:59.274763Z",
     "shell.execute_reply.started": "2022-04-13T05:05:59.263299Z"
    }
   },
   "outputs": [],
   "source": [
    "for col in df_test.columns:\n",
    "    msg = 'column: {:>10}\\t Percent of NaN value: {:.2f}%'.format(\n",
    "        col, 100 * (df_test[col].isnull().sum() / df_test[col].shape[0]))\n",
    "    print(msg)"
   ]
  },
  {
   "cell_type": "markdown",
   "metadata": {},
   "source": [
    "Both train and test sets have null data in Age (20%) and Cabin (80%). Train set also has null data in Embarked (0.22%). Test set has null data in Fare (0.24%)."
   ]
  },
  {
   "cell_type": "code",
   "execution_count": 157,
   "metadata": {
    "execution": {
     "iopub.execute_input": "2022-04-13T05:05:59.536643Z",
     "iopub.status.busy": "2022-04-13T05:05:59.536218Z",
     "iopub.status.idle": "2022-04-13T05:05:59.831940Z",
     "shell.execute_reply": "2022-04-13T05:05:59.831191Z",
     "shell.execute_reply.started": "2022-04-13T05:05:59.536612Z"
    }
   },
   "outputs": [],
   "source": [
    "msno.matrix(df=df_train.iloc[:, :], figsize=(8, 8), color=(0.8, 0.5, 0.2))"
   ]
  },
  {
   "cell_type": "code",
   "execution_count": 158,
   "metadata": {
    "execution": {
     "iopub.execute_input": "2022-04-13T05:05:59.834467Z",
     "iopub.status.busy": "2022-04-13T05:05:59.833658Z",
     "iopub.status.idle": "2022-04-13T05:06:00.875945Z",
     "shell.execute_reply": "2022-04-13T05:06:00.874998Z",
     "shell.execute_reply.started": "2022-04-13T05:05:59.834417Z"
    }
   },
   "outputs": [],
   "source": [
    "msno.bar(df=df_train.iloc[:, :], figsize=(8, 8), color=(0.8, 0.5, 0.2))"
   ]
  },
  {
   "cell_type": "code",
   "execution_count": 159,
   "metadata": {
    "execution": {
     "iopub.execute_input": "2022-04-13T05:06:00.878907Z",
     "iopub.status.busy": "2022-04-13T05:06:00.877446Z",
     "iopub.status.idle": "2022-04-13T05:06:01.841088Z",
     "shell.execute_reply": "2022-04-13T05:06:01.840119Z",
     "shell.execute_reply.started": "2022-04-13T05:06:00.878847Z"
    }
   },
   "outputs": [],
   "source": [
    "msno.bar(df=df_test.iloc[:, :], figsize=(8, 8), color=(0.8, 0.5, 0.2))"
   ]
  },
  {
   "cell_type": "markdown",
   "metadata": {},
   "source": [
    "## 1.2 Check Target Label\n",
    "\n",
    "We check the distribution of the target label, as **the distribution of the target label determines the evaluation metric.**\n",
    "\n",
    "(e.g. if the distribution shows that everyone but one died, it wouldn't make sense to evaluate on the accuracy of the model that only returns 0.)"
   ]
  },
  {
   "cell_type": "code",
   "execution_count": 160,
   "metadata": {
    "execution": {
     "iopub.execute_input": "2022-04-13T05:06:01.844323Z",
     "iopub.status.busy": "2022-04-13T05:06:01.843758Z",
     "iopub.status.idle": "2022-04-13T05:06:02.148736Z",
     "shell.execute_reply": "2022-04-13T05:06:02.148085Z",
     "shell.execute_reply.started": "2022-04-13T05:06:01.844274Z"
    }
   },
   "outputs": [],
   "source": [
    "f, ax = plt.subplots(1, 2, figsize=(18, 8))\n",
    "\n",
    "df_train['Survived'].value_counts().plot.pie(explode=[0, 0.1], autopct='%1.1f%%', ax=ax[0], shadow=True)\n",
    "ax[0].set_title('Pie plot - Survived')\n",
    "ax[0].set_ylabel('')\n",
    "sns.countplot('Survived', data=df_train, ax=ax[1])\n",
    "ax[1].set_title('Count plot - Survived')\n",
    "\n",
    "plt.show()"
   ]
  },
  {
   "cell_type": "markdown",
   "metadata": {},
   "source": [
    "Only 38.4% has survived. But we consider the distribution of target label balanced, as it is not too extreme."
   ]
  },
  {
   "cell_type": "markdown",
   "metadata": {},
   "source": [
    "# 2. EDA"
   ]
  },
  {
   "cell_type": "markdown",
   "metadata": {},
   "source": [
    "## 2.1 Pclass\n",
    "\n",
    "We check Pclass first. Pclass column is *ordinal*."
   ]
  },
  {
   "cell_type": "code",
   "execution_count": 161,
   "metadata": {
    "execution": {
     "iopub.execute_input": "2022-04-13T05:06:02.150111Z",
     "iopub.status.busy": "2022-04-13T05:06:02.149794Z",
     "iopub.status.idle": "2022-04-13T05:06:02.161168Z",
     "shell.execute_reply": "2022-04-13T05:06:02.160289Z",
     "shell.execute_reply.started": "2022-04-13T05:06:02.150083Z"
    }
   },
   "outputs": [],
   "source": [
    "# distribution by Pclass\n",
    "df_train[['Pclass', 'Survived']].groupby(['Pclass'], as_index=True).count()"
   ]
  },
  {
   "cell_type": "code",
   "execution_count": 162,
   "metadata": {
    "execution": {
     "iopub.execute_input": "2022-04-13T05:06:02.163376Z",
     "iopub.status.busy": "2022-04-13T05:06:02.162635Z",
     "iopub.status.idle": "2022-04-13T05:06:02.176126Z",
     "shell.execute_reply": "2022-04-13T05:06:02.175349Z",
     "shell.execute_reply.started": "2022-04-13T05:06:02.163332Z"
    }
   },
   "outputs": [],
   "source": [
    "df_train[['Pclass', 'Survived']].groupby(['Pclass'], as_index=True).sum()"
   ]
  },
  {
   "cell_type": "code",
   "execution_count": 163,
   "metadata": {
    "execution": {
     "iopub.execute_input": "2022-04-13T05:06:02.177903Z",
     "iopub.status.busy": "2022-04-13T05:06:02.177608Z",
     "iopub.status.idle": "2022-04-13T05:06:02.234432Z",
     "shell.execute_reply": "2022-04-13T05:06:02.233455Z",
     "shell.execute_reply.started": "2022-04-13T05:06:02.177865Z"
    }
   },
   "outputs": [],
   "source": [
    "# better visualization! Shows Pclass vs. Survived\n",
    "\n",
    "pd.crosstab(df_train['Pclass'], df_train['Survived'],\n",
    "            margins=True).style.background_gradient(cmap='summer_r')"
   ]
  },
  {
   "cell_type": "code",
   "execution_count": 164,
   "metadata": {
    "execution": {
     "iopub.execute_input": "2022-04-13T05:06:02.236136Z",
     "iopub.status.busy": "2022-04-13T05:06:02.235799Z",
     "iopub.status.idle": "2022-04-13T05:06:02.448733Z",
     "shell.execute_reply": "2022-04-13T05:06:02.448124Z",
     "shell.execute_reply.started": "2022-04-13T05:06:02.236090Z"
    }
   },
   "outputs": [],
   "source": [
    "# shows Pclass vs. Survived in ratio\n",
    "\n",
    "df_train[['Pclass', 'Survived']].groupby(['Pclass'], as_index=True).mean().sort_values(\n",
    "    by='Survived', ascending=False).plot.bar()"
   ]
  },
  {
   "cell_type": "code",
   "execution_count": 165,
   "metadata": {
    "execution": {
     "iopub.execute_input": "2022-04-13T05:06:02.450836Z",
     "iopub.status.busy": "2022-04-13T05:06:02.450502Z",
     "iopub.status.idle": "2022-04-13T05:06:02.780870Z",
     "shell.execute_reply": "2022-04-13T05:06:02.780247Z",
     "shell.execute_reply.started": "2022-04-13T05:06:02.450807Z"
    }
   },
   "outputs": [],
   "source": [
    "# frequency between Pclass\n",
    "\n",
    "y_position = 1.02\n",
    "f, ax = plt.subplots(1, 2, figsize=(18, 8))\n",
    "df_train['Pclass'].value_counts().plot.bar(color=['#CD7F32','#FFDF00','#D3D3D3'], ax=ax[0])\n",
    "ax[0].set_title('Number of Passengers By Pclass', y=y_position)\n",
    "ax[0].set_ylabel('Count')\n",
    "sns.countplot('Pclass', hue='Survived', data=df_train, ax=ax[1])\n",
    "ax[1].set_title('Pclass: Survived vs Dead', y=y_position)\n",
    "plt.show()"
   ]
  },
  {
   "cell_type": "markdown",
   "metadata": {},
   "source": [
    "The survival rate shows a decreasing trend as Pclass ordinally increases (i.e. Passenger class gets lower). Hence, we can determine that Pclass affects survival, and that we will be using this feature for our model."
   ]
  },
  {
   "cell_type": "markdown",
   "metadata": {},
   "source": [
    "## 2.2 Sex"
   ]
  },
  {
   "cell_type": "code",
   "execution_count": 166,
   "metadata": {
    "execution": {
     "iopub.execute_input": "2022-04-13T05:06:02.782433Z",
     "iopub.status.busy": "2022-04-13T05:06:02.781813Z",
     "iopub.status.idle": "2022-04-13T05:06:03.150243Z",
     "shell.execute_reply": "2022-04-13T05:06:03.149282Z",
     "shell.execute_reply.started": "2022-04-13T05:06:02.782397Z"
    }
   },
   "outputs": [],
   "source": [
    "f, ax = plt.subplots(1, 2, figsize=(18, 8))\n",
    "df_train[['Sex', 'Survived']].groupby(['Sex'], as_index=True).mean().plot.bar(ax=ax[0])\n",
    "ax[0].set_title('Survived vs Sex')\n",
    "sns.countplot('Sex', hue='Survived', data=df_train, ax=ax[1])\n",
    "ax[1].set_title('Sex: Survived vs Dead')\n",
    "plt.show()"
   ]
  },
  {
   "cell_type": "markdown",
   "metadata": {},
   "source": [
    "As shown, women are more likely to survive."
   ]
  },
  {
   "cell_type": "code",
   "execution_count": 167,
   "metadata": {
    "execution": {
     "iopub.execute_input": "2022-04-13T05:06:03.151632Z",
     "iopub.status.busy": "2022-04-13T05:06:03.151409Z",
     "iopub.status.idle": "2022-04-13T05:06:03.167235Z",
     "shell.execute_reply": "2022-04-13T05:06:03.166228Z",
     "shell.execute_reply.started": "2022-04-13T05:06:03.151604Z"
    }
   },
   "outputs": [],
   "source": [
    "df_train[['Sex', 'Survived']].groupby(['Sex'], as_index=False).mean().sort_values(\n",
    "    by='Survived', ascending=False)"
   ]
  },
  {
   "cell_type": "code",
   "execution_count": 168,
   "metadata": {
    "execution": {
     "iopub.execute_input": "2022-04-13T05:06:03.168668Z",
     "iopub.status.busy": "2022-04-13T05:06:03.168427Z",
     "iopub.status.idle": "2022-04-13T05:06:03.217949Z",
     "shell.execute_reply": "2022-04-13T05:06:03.216897Z",
     "shell.execute_reply.started": "2022-04-13T05:06:03.168639Z"
    }
   },
   "outputs": [],
   "source": [
    "pd.crosstab(df_train['Sex'], df_train['Survived'],\n",
    "            margins=True).style.background_gradient(cmap='summer_r')"
   ]
  },
  {
   "cell_type": "markdown",
   "metadata": {},
   "source": [
    "Like Pclass, Sex is an important feature to determine survival."
   ]
  },
  {
   "cell_type": "markdown",
   "metadata": {},
   "source": [
    "## 2.3 Sex and Pclass\n",
    "\n",
    "We determine the survival rate based on **both** Sex and Pclass.\n",
    "\n",
    "(Use factorplot for three-dimensional plotting)"
   ]
  },
  {
   "cell_type": "code",
   "execution_count": 169,
   "metadata": {
    "execution": {
     "iopub.execute_input": "2022-04-13T05:06:03.219924Z",
     "iopub.status.busy": "2022-04-13T05:06:03.219569Z",
     "iopub.status.idle": "2022-04-13T05:06:03.939736Z",
     "shell.execute_reply": "2022-04-13T05:06:03.938707Z",
     "shell.execute_reply.started": "2022-04-13T05:06:03.219878Z"
    }
   },
   "outputs": [],
   "source": [
    "sns.factorplot('Pclass', 'Survived', hue='Sex', data=df_train, \n",
    "               size=6, aspect=1.5)"
   ]
  },
  {
   "cell_type": "markdown",
   "metadata": {},
   "source": [
    "Findings:\n",
    "\n",
    "1. In all classes, female are more likely to survive than male.\n",
    "2. For both male and female, higher Pclass shows higher survival rate."
   ]
  },
  {
   "cell_type": "markdown",
   "metadata": {},
   "source": [
    "## 2.4 Age"
   ]
  },
  {
   "cell_type": "code",
   "execution_count": 170,
   "metadata": {
    "execution": {
     "iopub.execute_input": "2022-04-13T05:06:03.942339Z",
     "iopub.status.busy": "2022-04-13T05:06:03.942090Z",
     "iopub.status.idle": "2022-04-13T05:06:03.948670Z",
     "shell.execute_reply": "2022-04-13T05:06:03.947757Z",
     "shell.execute_reply.started": "2022-04-13T05:06:03.942310Z"
    }
   },
   "outputs": [],
   "source": [
    "print('The oldest passenger : {:.1f} Years'.format(df_train['Age'].max()))\n",
    "print('The youngest passenger : {:.1f} Years'.format(df_train['Age'].min()))\n",
    "print('Passenger mean age : {:.1f} Years'.format(df_train['Age'].mean()))"
   ]
  },
  {
   "cell_type": "code",
   "execution_count": 171,
   "metadata": {
    "execution": {
     "iopub.execute_input": "2022-04-13T05:06:03.950759Z",
     "iopub.status.busy": "2022-04-13T05:06:03.950085Z",
     "iopub.status.idle": "2022-04-13T05:06:04.236075Z",
     "shell.execute_reply": "2022-04-13T05:06:04.235469Z",
     "shell.execute_reply.started": "2022-04-13T05:06:03.950715Z"
    }
   },
   "outputs": [],
   "source": [
    "fig, ax = plt.subplots(1, 1, figsize=(9, 5))\n",
    "sns.kdeplot(df_train[df_train['Survived'] == 1]['Age'], ax=ax)\n",
    "sns.kdeplot(df_train[df_train['Survived'] == 0]['Age'], ax=ax)\n",
    "plt.legend(['Survived', 'Deceased'])\n",
    "plt.show()"
   ]
  },
  {
   "cell_type": "markdown",
   "metadata": {},
   "source": [
    "Younger age seems to show higher survival rate."
   ]
  },
  {
   "cell_type": "code",
   "execution_count": 172,
   "metadata": {
    "execution": {
     "iopub.execute_input": "2022-04-13T05:06:04.237754Z",
     "iopub.status.busy": "2022-04-13T05:06:04.237020Z",
     "iopub.status.idle": "2022-04-13T05:06:04.556283Z",
     "shell.execute_reply": "2022-04-13T05:06:04.555346Z",
     "shell.execute_reply.started": "2022-04-13T05:06:04.237719Z"
    }
   },
   "outputs": [],
   "source": [
    "# Age distribution withing classes\n",
    "plt.figure(figsize=(8, 6))\n",
    "df_train['Age'][df_train['Pclass'] == 1].plot(kind='kde')\n",
    "df_train['Age'][df_train['Pclass'] == 2].plot(kind='kde')\n",
    "df_train['Age'][df_train['Pclass'] == 3].plot(kind='kde')\n",
    "\n",
    "plt.xlabel('Age')\n",
    "plt.title('Age Distribution within classes')\n",
    "plt.legend(['1st Class', '2nd Class', '3rd Class'])"
   ]
  },
  {
   "cell_type": "markdown",
   "metadata": {},
   "source": [
    "Higher class tends to have more aged people."
   ]
  },
  {
   "cell_type": "code",
   "execution_count": 173,
   "metadata": {
    "execution": {
     "iopub.execute_input": "2022-04-13T05:06:04.557762Z",
     "iopub.status.busy": "2022-04-13T05:06:04.557518Z",
     "iopub.status.idle": "2022-04-13T05:06:04.859650Z",
     "shell.execute_reply": "2022-04-13T05:06:04.858570Z",
     "shell.execute_reply.started": "2022-04-13T05:06:04.557733Z"
    }
   },
   "outputs": [],
   "source": [
    "cummulate_survival_ratio = []\n",
    "for i in range(1, 80):\n",
    "    cummulate_survival_ratio.append(\n",
    "        df_train[df_train['Age'] < i]['Survived'].sum() / len(df_train[df_train['Age'] < i]['Survived']))\n",
    "    \n",
    "plt.figure(figsize=(7, 7))\n",
    "plt.plot(cummulate_survival_ratio)\n",
    "plt.title('Survival rate change depending on range of Age', y=1.02)\n",
    "plt.ylabel('Survival rate')\n",
    "plt.xlabel('Range of Age(0~x)')\n",
    "plt.show()"
   ]
  },
  {
   "cell_type": "markdown",
   "metadata": {},
   "source": [
    "As shown, the younger the passengers are, the higher their survival rate is. Hence, Age can also be an important feature."
   ]
  },
  {
   "cell_type": "markdown",
   "metadata": {},
   "source": [
    "## 2.5 Pclass, Sex, Age"
   ]
  },
  {
   "cell_type": "code",
   "execution_count": 174,
   "metadata": {
    "execution": {
     "iopub.execute_input": "2022-04-13T05:06:04.861298Z",
     "iopub.status.busy": "2022-04-13T05:06:04.861075Z",
     "iopub.status.idle": "2022-04-13T05:06:05.382800Z",
     "shell.execute_reply": "2022-04-13T05:06:05.381809Z",
     "shell.execute_reply.started": "2022-04-13T05:06:04.861270Z"
    }
   },
   "outputs": [],
   "source": [
    "f,ax=plt.subplots(1,2,figsize=(18,8))\n",
    "sns.violinplot(\"Pclass\",\"Age\", hue=\"Survived\", data=df_train, scale='count', split=True,ax=ax[0])\n",
    "ax[0].set_title('Pclass and Age vs Survived')\n",
    "ax[0].set_yticks(range(0,110,10))\n",
    "sns.violinplot(\"Sex\",\"Age\", hue=\"Survived\", data=df_train, scale='count', split=True,ax=ax[1])\n",
    "ax[1].set_title('Sex and Age vs Survived')\n",
    "ax[1].set_yticks(range(0,110,10))\n",
    "plt.show()"
   ]
  },
  {
   "cell_type": "markdown",
   "metadata": {},
   "source": [
    "By observing the survived on the left subfigure, we know that in every class, younger passengers seemed to have survived more. (See 0 vs. 1)\n",
    "\n",
    "By observing the right subfigure, we know that female has clearly survived more.\n",
    "\n",
    "Hence, we can determine that they prioritized the survival of women and babies."
   ]
  },
  {
   "cell_type": "markdown",
   "metadata": {},
   "source": [
    "## 2.6 Embarked"
   ]
  },
  {
   "cell_type": "code",
   "execution_count": 175,
   "metadata": {
    "execution": {
     "iopub.execute_input": "2022-04-13T05:06:05.384258Z",
     "iopub.status.busy": "2022-04-13T05:06:05.384018Z",
     "iopub.status.idle": "2022-04-13T05:06:05.624579Z",
     "shell.execute_reply": "2022-04-13T05:06:05.623809Z",
     "shell.execute_reply.started": "2022-04-13T05:06:05.384228Z"
    }
   },
   "outputs": [],
   "source": [
    "f, ax = plt.subplots(1, 1, figsize=(7, 7))\n",
    "df_train[['Embarked', 'Survived']].groupby(['Embarked'], as_index=True).mean().sort_values(\n",
    "    by='Survived', ascending=False).plot.bar(ax=ax)"
   ]
  },
  {
   "cell_type": "markdown",
   "metadata": {},
   "source": [
    "It seems like that passengers who embarked at C harbor survived more.\n",
    "\n",
    "**We observe Embarked vs. other features to see whether other features affect Embarked.**"
   ]
  },
  {
   "cell_type": "code",
   "execution_count": 176,
   "metadata": {
    "execution": {
     "iopub.execute_input": "2022-04-13T05:06:05.627389Z",
     "iopub.status.busy": "2022-04-13T05:06:05.627156Z",
     "iopub.status.idle": "2022-04-13T05:06:06.305489Z",
     "shell.execute_reply": "2022-04-13T05:06:06.304538Z",
     "shell.execute_reply.started": "2022-04-13T05:06:05.627361Z"
    }
   },
   "outputs": [],
   "source": [
    "f,ax=plt.subplots(2, 2, figsize=(20,15))\n",
    "sns.countplot('Embarked', data=df_train, ax=ax[0,0])\n",
    "ax[0,0].set_title('(1) No. Of Passengers Boarded')\n",
    "sns.countplot('Embarked', hue='Sex', data=df_train, ax=ax[0,1])\n",
    "ax[0,1].set_title('(2) Male-Female Split for Embarked')\n",
    "sns.countplot('Embarked', hue='Survived', data=df_train, ax=ax[1,0])\n",
    "ax[1,0].set_title('(3) Embarked vs Survived')\n",
    "sns.countplot('Embarked', hue='Pclass', data=df_train, ax=ax[1,1])\n",
    "ax[1,1].set_title('(4) Embarked vs Pclass')\n",
    "plt.subplots_adjust(wspace=0.2, hspace=0.5)\n",
    "plt.show()"
   ]
  },
  {
   "cell_type": "markdown",
   "metadata": {},
   "source": [
    "Figure(1) - Overall, people embarked at Harbor S the most.\n",
    "\n",
    "Figure(2) - Harbor C and Q show similar gender distribution, whereas in Harbor S it is male-dominant.\n",
    "\n",
    "Figure(3) - As we already demonstrated, people who embarked at Harbor S shows lower survival rate.\n",
    "\n",
    "Figure(4) - By splitting into class, we can infer that Harbor C shows a better survival rate as it has high proportion of 1st Pclass. Harbor S has high proportion of 3rd class, which affects its low survival rate."
   ]
  },
  {
   "cell_type": "markdown",
   "metadata": {},
   "source": [
    "## 2.7 SibSp + Parch\n",
    "\n",
    "SibSp is the number of siblings and spouses on board. Parch is the number of parents and children on board. **Together, we can make a new feature column, FamilySize.**"
   ]
  },
  {
   "cell_type": "code",
   "execution_count": 177,
   "metadata": {
    "execution": {
     "iopub.execute_input": "2022-04-13T05:06:06.307194Z",
     "iopub.status.busy": "2022-04-13T05:06:06.306900Z",
     "iopub.status.idle": "2022-04-13T05:06:06.315325Z",
     "shell.execute_reply": "2022-04-13T05:06:06.314420Z",
     "shell.execute_reply.started": "2022-04-13T05:06:06.307155Z"
    }
   },
   "outputs": [],
   "source": [
    "df_train['FamilySize'] = df_train['SibSp'] + df_train['Parch'] + 1 # add 1 to include oneself\n",
    "df_test['FamilySize'] = df_test['SibSp'] + df_test['Parch'] + 1 # add 1 to include oneself"
   ]
  },
  {
   "cell_type": "code",
   "execution_count": 178,
   "metadata": {
    "execution": {
     "iopub.execute_input": "2022-04-13T05:06:06.317597Z",
     "iopub.status.busy": "2022-04-13T05:06:06.317276Z",
     "iopub.status.idle": "2022-04-13T05:06:06.330420Z",
     "shell.execute_reply": "2022-04-13T05:06:06.329492Z",
     "shell.execute_reply.started": "2022-04-13T05:06:06.317553Z"
    }
   },
   "outputs": [],
   "source": [
    "print(\"Maximum size of Family: \", df_train['FamilySize'].max())\n",
    "print(\"Minimum size of Family: \", df_train['FamilySize'].min())"
   ]
  },
  {
   "cell_type": "code",
   "execution_count": 179,
   "metadata": {
    "execution": {
     "iopub.execute_input": "2022-04-13T05:06:06.331658Z",
     "iopub.status.busy": "2022-04-13T05:06:06.331432Z",
     "iopub.status.idle": "2022-04-13T05:06:07.002347Z",
     "shell.execute_reply": "2022-04-13T05:06:07.001263Z",
     "shell.execute_reply.started": "2022-04-13T05:06:06.331631Z"
    }
   },
   "outputs": [],
   "source": [
    "f,ax=plt.subplots(1, 3, figsize=(40,10))\n",
    "sns.countplot('FamilySize', data=df_train, ax=ax[0])\n",
    "ax[0].set_title('(1) No. Of Passengers Boarded', y=1.02)\n",
    "\n",
    "sns.countplot('FamilySize', hue='Survived', data=df_train, ax=ax[1])\n",
    "ax[1].set_title('(2) Survived countplot depending on FamilySize',  y=1.02)\n",
    "\n",
    "df_train[['FamilySize', 'Survived']].groupby(['FamilySize'], as_index=True).mean().sort_values(by='Survived', ascending=False).plot.bar(ax=ax[2])\n",
    "ax[2].set_title('(3) Survived rate depending on FamilySize',  y=1.02)\n",
    "\n",
    "plt.subplots_adjust(wspace=0.2, hspace=0.5)\n",
    "plt.show()"
   ]
  },
  {
   "cell_type": "markdown",
   "metadata": {},
   "source": [
    "Figure (1) - Shows the distribution of Family Size. The maximum size of family is 11, and the frequency of family size is the highest in 1, 2, 3, and then 4.\n",
    "\n",
    "Figure (2), (3) - Survival rate is the highest for Family Size of 4. This shows that family size of 3-4 shows a better survival rate, indicating that **too small or too big of a family size affects the survival rate negatively.**"
   ]
  },
  {
   "cell_type": "markdown",
   "metadata": {},
   "source": [
    "## 2.8 Fare"
   ]
  },
  {
   "cell_type": "code",
   "execution_count": 180,
   "metadata": {
    "execution": {
     "iopub.execute_input": "2022-04-13T05:06:07.003906Z",
     "iopub.status.busy": "2022-04-13T05:06:07.003574Z",
     "iopub.status.idle": "2022-04-13T05:06:07.648998Z",
     "shell.execute_reply": "2022-04-13T05:06:07.647736Z",
     "shell.execute_reply.started": "2022-04-13T05:06:07.003867Z"
    }
   },
   "outputs": [],
   "source": [
    "fig, ax = plt.subplots(1, 1, figsize=(8, 8))\n",
    "g = sns.distplot(df_train['Fare'], color='b', label='Skewness : {:.2f}'.format(\n",
    "    df_train['Fare'].skew()), ax=ax)\n",
    "g = g.legend(loc='best')"
   ]
  },
  {
   "cell_type": "markdown",
   "metadata": {},
   "source": [
    "Fare is very skewed. We can take care of this during the feature engineering."
   ]
  },
  {
   "cell_type": "markdown",
   "metadata": {},
   "source": [
    "## 2.9 Cabin & Ticket\n",
    "\n",
    "Cabin has 80% null value. We exclude this feature from our model.\n",
    "\n",
    "Ticked does not have a null value, but it is a string data."
   ]
  },
  {
   "cell_type": "code",
   "execution_count": 181,
   "metadata": {
    "execution": {
     "iopub.execute_input": "2022-04-13T05:06:07.650809Z",
     "iopub.status.busy": "2022-04-13T05:06:07.650457Z",
     "iopub.status.idle": "2022-04-13T05:06:07.659702Z",
     "shell.execute_reply": "2022-04-13T05:06:07.658853Z",
     "shell.execute_reply.started": "2022-04-13T05:06:07.650778Z"
    }
   },
   "outputs": [],
   "source": [
    "df_train['Ticket'].value_counts()"
   ]
  },
  {
   "cell_type": "markdown",
   "metadata": {},
   "source": [
    "For now, we exclude Ticket from our features, but **we should include it during feature engineering to ameliorate our model.**"
   ]
  },
  {
   "cell_type": "markdown",
   "metadata": {},
   "source": [
    "# 3. Feature Engineering\n",
    "\n",
    "## 3.1 Fill Null Data\n",
    "\n",
    "### 3.1.1 Fill Null in Age using title\n",
    "\n",
    "As we've seen, Age has 177 null data. **We can try various ways to fill in null data**, and here we use *title + statistics*.\n",
    "\n",
    "We see titles such as 'Mr., Mrs., Miss'. We first make an Initial column and extract the titles there."
   ]
  },
  {
   "cell_type": "code",
   "execution_count": 182,
   "metadata": {
    "execution": {
     "iopub.execute_input": "2022-04-13T05:06:07.660990Z",
     "iopub.status.busy": "2022-04-13T05:06:07.660751Z",
     "iopub.status.idle": "2022-04-13T05:06:07.681096Z",
     "shell.execute_reply": "2022-04-13T05:06:07.680041Z",
     "shell.execute_reply.started": "2022-04-13T05:06:07.660961Z"
    }
   },
   "outputs": [],
   "source": [
    "df_train['Initial']= df_train.Name.str.extract('([A-Za-z]+)\\.') #lets extract the Salutations\n",
    "    \n",
    "df_test['Initial']= df_test.Name.str.extract('([A-Za-z]+)\\.') #lets extract the Salutations"
   ]
  },
  {
   "cell_type": "code",
   "execution_count": 183,
   "metadata": {
    "execution": {
     "iopub.execute_input": "2022-04-13T05:06:07.683159Z",
     "iopub.status.busy": "2022-04-13T05:06:07.682604Z",
     "iopub.status.idle": "2022-04-13T05:06:07.744588Z",
     "shell.execute_reply": "2022-04-13T05:06:07.743742Z",
     "shell.execute_reply.started": "2022-04-13T05:06:07.683119Z"
    }
   },
   "outputs": [],
   "source": [
    "#Checking the Initials with the Sex\n",
    "pd.crosstab(df_train['Initial'], df_train['Sex']).T.style.background_gradient(cmap='summer_r')"
   ]
  },
  {
   "cell_type": "markdown",
   "metadata": {},
   "source": [
    "We replace initials to representative ones. (Changing 'Dr.' to 'Mr.' may be controversial, but given the population distribution, maybe...)"
   ]
  },
  {
   "cell_type": "code",
   "execution_count": 184,
   "metadata": {
    "execution": {
     "iopub.execute_input": "2022-04-13T05:06:07.746041Z",
     "iopub.status.busy": "2022-04-13T05:06:07.745799Z",
     "iopub.status.idle": "2022-04-13T05:06:07.760630Z",
     "shell.execute_reply": "2022-04-13T05:06:07.759611Z",
     "shell.execute_reply.started": "2022-04-13T05:06:07.746012Z"
    }
   },
   "outputs": [],
   "source": [
    "df_train['Initial'].replace(['Mlle','Mme','Ms','Dr','Major','Lady','Countess','Jonkheer','Col',\n",
    "                             'Rev','Capt','Sir','Don', 'Dona'],\n",
    "                            ['Miss','Miss','Miss','Mr','Mr','Mrs','Mrs','Other','Other',\n",
    "                             'Other','Mr','Mr','Mr', 'Mr'],inplace=True)\n",
    "\n",
    "df_test['Initial'].replace(['Mlle','Mme','Ms','Dr','Major','Lady','Countess','Jonkheer','Col',\n",
    "                            'Rev','Capt','Sir','Don', 'Dona'],\n",
    "                           ['Miss','Miss','Miss','Mr','Mr','Mrs','Mrs','Other','Other',\n",
    "                            'Other','Mr','Mr','Mr', 'Mr'],inplace=True)"
   ]
  },
  {
   "cell_type": "code",
   "execution_count": 185,
   "metadata": {
    "execution": {
     "iopub.execute_input": "2022-04-13T05:06:07.762824Z",
     "iopub.status.busy": "2022-04-13T05:06:07.762487Z",
     "iopub.status.idle": "2022-04-13T05:06:07.786525Z",
     "shell.execute_reply": "2022-04-13T05:06:07.785621Z",
     "shell.execute_reply.started": "2022-04-13T05:06:07.762779Z"
    }
   },
   "outputs": [],
   "source": [
    "df_train.groupby('Initial').mean()"
   ]
  },
  {
   "cell_type": "markdown",
   "metadata": {},
   "source": [
    "We can see that the survival rates of Miss and Mrs are high, as expected."
   ]
  },
  {
   "cell_type": "code",
   "execution_count": 186,
   "metadata": {
    "execution": {
     "iopub.execute_input": "2022-04-13T05:06:07.790095Z",
     "iopub.status.busy": "2022-04-13T05:06:07.789856Z",
     "iopub.status.idle": "2022-04-13T05:06:08.035252Z",
     "shell.execute_reply": "2022-04-13T05:06:08.034343Z",
     "shell.execute_reply.started": "2022-04-13T05:06:07.790066Z"
    }
   },
   "outputs": [],
   "source": [
    "df_train.groupby('Initial')['Survived'].mean().plot.bar()"
   ]
  },
  {
   "cell_type": "markdown",
   "metadata": {},
   "source": [
    "**We use the mean age to fill in the null value.**"
   ]
  },
  {
   "cell_type": "code",
   "execution_count": 187,
   "metadata": {
    "execution": {
     "iopub.execute_input": "2022-04-13T05:06:08.037759Z",
     "iopub.status.busy": "2022-04-13T05:06:08.036709Z",
     "iopub.status.idle": "2022-04-13T05:06:08.060175Z",
     "shell.execute_reply": "2022-04-13T05:06:08.059245Z",
     "shell.execute_reply.started": "2022-04-13T05:06:08.037711Z"
    }
   },
   "outputs": [],
   "source": [
    "df_train.loc[(df_train.Age.isnull())&(df_train.Initial=='Mr'),'Age'] = 33\n",
    "df_train.loc[(df_train.Age.isnull())&(df_train.Initial=='Mrs'),'Age'] = 36\n",
    "df_train.loc[(df_train.Age.isnull())&(df_train.Initial=='Master'),'Age'] = 5\n",
    "df_train.loc[(df_train.Age.isnull())&(df_train.Initial=='Miss'),'Age'] = 22\n",
    "df_train.loc[(df_train.Age.isnull())&(df_train.Initial=='Other'),'Age'] = 46\n",
    "\n",
    "df_test.loc[(df_test.Age.isnull())&(df_test.Initial=='Mr'),'Age'] = 33\n",
    "df_test.loc[(df_test.Age.isnull())&(df_test.Initial=='Mrs'),'Age'] = 36\n",
    "df_test.loc[(df_test.Age.isnull())&(df_test.Initial=='Master'),'Age'] = 5\n",
    "df_test.loc[(df_test.Age.isnull())&(df_test.Initial=='Miss'),'Age'] = 22\n",
    "df_test.loc[(df_test.Age.isnull())&(df_test.Initial=='Other'),'Age'] = 46"
   ]
  },
  {
   "cell_type": "markdown",
   "metadata": {},
   "source": [
    "### 3.1.2 Fill Null in Embarked"
   ]
  },
  {
   "cell_type": "code",
   "execution_count": 188,
   "metadata": {
    "execution": {
     "iopub.execute_input": "2022-04-13T05:06:08.062411Z",
     "iopub.status.busy": "2022-04-13T05:06:08.061574Z",
     "iopub.status.idle": "2022-04-13T05:06:08.075813Z",
     "shell.execute_reply": "2022-04-13T05:06:08.074662Z",
     "shell.execute_reply.started": "2022-04-13T05:06:08.062364Z"
    }
   },
   "outputs": [],
   "source": [
    "print('Embarked has ', sum(df_train['Embarked'].isnull()), ' Null values')"
   ]
  },
  {
   "cell_type": "markdown",
   "metadata": {},
   "source": [
    "There are only 2 null values in Embarked. Replace them with S, the most frequent value."
   ]
  },
  {
   "cell_type": "code",
   "execution_count": 189,
   "metadata": {
    "execution": {
     "iopub.execute_input": "2022-04-13T05:06:08.077657Z",
     "iopub.status.busy": "2022-04-13T05:06:08.077393Z",
     "iopub.status.idle": "2022-04-13T05:06:08.089015Z",
     "shell.execute_reply": "2022-04-13T05:06:08.087826Z",
     "shell.execute_reply.started": "2022-04-13T05:06:08.077626Z"
    }
   },
   "outputs": [],
   "source": [
    "df_train['Embarked'].fillna('S', inplace=True)"
   ]
  },
  {
   "cell_type": "markdown",
   "metadata": {},
   "source": [
    "### 3.1.3 Fill Null in Fare"
   ]
  },
  {
   "cell_type": "code",
   "execution_count": 190,
   "metadata": {
    "execution": {
     "iopub.execute_input": "2022-04-13T05:06:08.091120Z",
     "iopub.status.busy": "2022-04-13T05:06:08.090324Z",
     "iopub.status.idle": "2022-04-13T05:06:08.102512Z",
     "shell.execute_reply": "2022-04-13T05:06:08.101815Z",
     "shell.execute_reply.started": "2022-04-13T05:06:08.091081Z"
    }
   },
   "outputs": [],
   "source": [
    "print('Fare has ', sum(df_test['Fare'].isnull()), ' Null values')"
   ]
  },
  {
   "cell_type": "markdown",
   "metadata": {},
   "source": [
    "There is only 1 null value in Fare in the test dataset. Replace it with the median value, for the distribution of Fare is skewed."
   ]
  },
  {
   "cell_type": "code",
   "execution_count": 191,
   "metadata": {
    "execution": {
     "iopub.execute_input": "2022-04-13T05:06:08.104481Z",
     "iopub.status.busy": "2022-04-13T05:06:08.104011Z",
     "iopub.status.idle": "2022-04-13T05:06:08.115042Z",
     "shell.execute_reply": "2022-04-13T05:06:08.114339Z",
     "shell.execute_reply.started": "2022-04-13T05:06:08.104435Z"
    }
   },
   "outputs": [],
   "source": [
    "df_test['Fare'].fillna(df_test[\"Fare\"].median(), inplace=True)"
   ]
  },
  {
   "cell_type": "markdown",
   "metadata": {},
   "source": [
    "## 3.2 Apply log to Fare\n",
    "\n",
    "Since Fare is too skewed, applying to our model directly might harm the quality of the model. For instance, if we have a high fare value, the weight applied to that specific entry would be over-emphasized. To reduce the effect of outliers, we apply log to Fare."
   ]
  },
  {
   "cell_type": "code",
   "execution_count": 192,
   "metadata": {
    "execution": {
     "iopub.execute_input": "2022-04-13T05:06:08.116892Z",
     "iopub.status.busy": "2022-04-13T05:06:08.116453Z",
     "iopub.status.idle": "2022-04-13T05:06:08.132729Z",
     "shell.execute_reply": "2022-04-13T05:06:08.131720Z",
     "shell.execute_reply.started": "2022-04-13T05:06:08.116860Z"
    }
   },
   "outputs": [],
   "source": [
    "df_test.loc[df_test.Fare.isnull(), 'Fare'] = df_test['Fare'].mean()\n",
    "\n",
    "df_train['Fare'] = df_train['Fare'].map(lambda i: np.log(i) if i > 0 else 0)\n",
    "df_test['Fare'] = df_test['Fare'].map(lambda i: np.log(i) if i > 0 else 0)"
   ]
  },
  {
   "cell_type": "code",
   "execution_count": 193,
   "metadata": {
    "execution": {
     "iopub.execute_input": "2022-04-13T05:06:08.134050Z",
     "iopub.status.busy": "2022-04-13T05:06:08.133806Z",
     "iopub.status.idle": "2022-04-13T05:06:08.512424Z",
     "shell.execute_reply": "2022-04-13T05:06:08.511429Z",
     "shell.execute_reply.started": "2022-04-13T05:06:08.134021Z"
    }
   },
   "outputs": [],
   "source": [
    "fig, ax = plt.subplots(1, 1, figsize=(8, 8))\n",
    "g = sns.distplot(df_train['Fare'], color='b', label='Skewness : {:.2f}'.format(\n",
    "    df_train['Fare'].skew()), ax=ax)\n",
    "g = g.legend(loc='best')"
   ]
  },
  {
   "cell_type": "markdown",
   "metadata": {},
   "source": [
    "We can see that Fare is now less skewed."
   ]
  },
  {
   "cell_type": "markdown",
   "metadata": {},
   "source": [
    "## 3.3 Change Age (continuous to categorical)\n",
    "\n",
    "Age is a continuous feature, which can make the model work. But we can also group Age into certain categories and make it categorical.\n",
    "\n",
    "**Note that converting a continuous data to categorical may cause information loss.**"
   ]
  },
  {
   "cell_type": "code",
   "execution_count": 194,
   "metadata": {
    "execution": {
     "iopub.execute_input": "2022-04-13T05:06:08.514333Z",
     "iopub.status.busy": "2022-04-13T05:06:08.514102Z",
     "iopub.status.idle": "2022-04-13T05:06:08.525543Z",
     "shell.execute_reply": "2022-04-13T05:06:08.524748Z",
     "shell.execute_reply.started": "2022-04-13T05:06:08.514304Z"
    }
   },
   "outputs": [],
   "source": [
    "def category_age(x):\n",
    "    if x < 10:\n",
    "        return 0\n",
    "    elif x < 20:\n",
    "        return 1\n",
    "    elif x < 30:\n",
    "        return 2\n",
    "    elif x < 40:\n",
    "        return 3\n",
    "    elif x < 50:\n",
    "        return 4\n",
    "    elif x < 60:\n",
    "        return 5\n",
    "    elif x < 70:\n",
    "        return 6\n",
    "    else:\n",
    "        return 7    \n",
    "    \n",
    "df_train['Age_cat'] = df_train['Age'].apply(category_age)\n",
    "df_test['Age_cat'] = df_train['Age'].apply(category_age)"
   ]
  },
  {
   "cell_type": "code",
   "execution_count": 195,
   "metadata": {
    "execution": {
     "iopub.execute_input": "2022-04-13T05:06:08.527070Z",
     "iopub.status.busy": "2022-04-13T05:06:08.526830Z",
     "iopub.status.idle": "2022-04-13T05:06:08.541527Z",
     "shell.execute_reply": "2022-04-13T05:06:08.540597Z",
     "shell.execute_reply.started": "2022-04-13T05:06:08.527041Z"
    }
   },
   "outputs": [],
   "source": [
    "df_train.drop(['Age'], axis=1, inplace=True)\n",
    "df_test.drop(['Age'], axis=1, inplace=True)"
   ]
  },
  {
   "cell_type": "markdown",
   "metadata": {},
   "source": [
    "## 3.4 Change Initial, Embarked and Sex (string to numerical)\n",
    "\n",
    "**We need to change string data to numerical so that when we put these columns into model, the machine can detect them.**\n",
    "\n",
    "We use the map method to do so."
   ]
  },
  {
   "cell_type": "code",
   "execution_count": 196,
   "metadata": {
    "execution": {
     "iopub.execute_input": "2022-04-13T05:06:08.543396Z",
     "iopub.status.busy": "2022-04-13T05:06:08.543098Z",
     "iopub.status.idle": "2022-04-13T05:06:08.557258Z",
     "shell.execute_reply": "2022-04-13T05:06:08.556308Z",
     "shell.execute_reply.started": "2022-04-13T05:06:08.543368Z"
    }
   },
   "outputs": [],
   "source": [
    "df_train['Initial'] = df_train['Initial'].map({'Master': 0, 'Miss': 1, 'Mr': 2, 'Mrs': 3, 'Other': 4})\n",
    "df_test['Initial'] = df_test['Initial'].map({'Master': 0, 'Miss': 1, 'Mr': 2, 'Mrs': 3, 'Other': 4})"
   ]
  },
  {
   "cell_type": "code",
   "execution_count": 197,
   "metadata": {
    "execution": {
     "iopub.execute_input": "2022-04-13T05:06:08.558842Z",
     "iopub.status.busy": "2022-04-13T05:06:08.558281Z",
     "iopub.status.idle": "2022-04-13T05:06:08.572623Z",
     "shell.execute_reply": "2022-04-13T05:06:08.571922Z",
     "shell.execute_reply.started": "2022-04-13T05:06:08.558797Z"
    }
   },
   "outputs": [],
   "source": [
    "df_train['Embarked'] = df_train['Embarked'].map({'C': 0, 'Q': 1, 'S': 2})\n",
    "df_test['Embarked'] = df_test['Embarked'].map({'C': 0, 'Q': 1, 'S': 2})"
   ]
  },
  {
   "cell_type": "code",
   "execution_count": 198,
   "metadata": {
    "execution": {
     "iopub.execute_input": "2022-04-13T05:06:08.574271Z",
     "iopub.status.busy": "2022-04-13T05:06:08.573577Z",
     "iopub.status.idle": "2022-04-13T05:06:08.587402Z",
     "shell.execute_reply": "2022-04-13T05:06:08.586751Z",
     "shell.execute_reply.started": "2022-04-13T05:06:08.574238Z"
    }
   },
   "outputs": [],
   "source": [
    "df_train['Sex'] = df_train['Sex'].map({'female': 0, 'male': 1})\n",
    "df_test['Sex'] = df_test['Sex'].map({'female': 0, 'male': 1})"
   ]
  },
  {
   "cell_type": "markdown",
   "metadata": {},
   "source": [
    "Now, we find the correlation between the features:"
   ]
  },
  {
   "cell_type": "code",
   "execution_count": 199,
   "metadata": {
    "execution": {
     "iopub.execute_input": "2022-04-13T05:06:08.588947Z",
     "iopub.status.busy": "2022-04-13T05:06:08.588482Z",
     "iopub.status.idle": "2022-04-13T05:06:09.291440Z",
     "shell.execute_reply": "2022-04-13T05:06:09.290611Z",
     "shell.execute_reply.started": "2022-04-13T05:06:08.588895Z"
    }
   },
   "outputs": [],
   "source": [
    "heatmap_data = df_train[['Survived', 'Pclass', 'Sex', 'Fare', 'Embarked', 'FamilySize', 'Initial', 'Age_cat']] \n",
    "\n",
    "colormap = plt.cm.RdBu\n",
    "plt.figure(figsize=(14, 12))\n",
    "plt.title('Pearson Correlation of Features', y=1.05, size=15)\n",
    "sns.heatmap(heatmap_data.astype(float).corr(), linewidths=0.1, vmax=1.0,\n",
    "           square=True, cmap=colormap, linecolor='white', annot=True, annot_kws={\"size\": 16})\n",
    "\n",
    "del heatmap_data"
   ]
  },
  {
   "cell_type": "markdown",
   "metadata": {},
   "source": [
    "1. As we already demonstrated during the EDA, Sex and Pclass are somewhat correlated to Survival.\n",
    "2. Fare and Pclass are also negatively correlated.\n",
    "3. **There are no features that show extremely high correlation.** This indicates that no features suffer from multicolinearity. Multicolinearity can cause redundant features to be present."
   ]
  },
  {
   "cell_type": "markdown",
   "metadata": {},
   "source": [
    "## 3.5 One-hot encoding on Initial and Embarked\n",
    "\n",
    "Numerized categorical data can be directly applied, but to enhance the model we can do the one-hot encoding."
   ]
  },
  {
   "cell_type": "code",
   "execution_count": 200,
   "metadata": {
    "execution": {
     "iopub.execute_input": "2022-04-13T05:06:09.296502Z",
     "iopub.status.busy": "2022-04-13T05:06:09.295961Z",
     "iopub.status.idle": "2022-04-13T05:06:09.311663Z",
     "shell.execute_reply": "2022-04-13T05:06:09.310715Z",
     "shell.execute_reply.started": "2022-04-13T05:06:09.296456Z"
    }
   },
   "outputs": [],
   "source": [
    "df_train = pd.get_dummies(df_train, columns=['Initial'], prefix='Initial')\n",
    "df_test = pd.get_dummies(df_test, columns=['Initial'], prefix='Initial')"
   ]
  },
  {
   "cell_type": "code",
   "execution_count": 201,
   "metadata": {
    "execution": {
     "iopub.execute_input": "2022-04-13T05:06:09.313856Z",
     "iopub.status.busy": "2022-04-13T05:06:09.313514Z",
     "iopub.status.idle": "2022-04-13T05:06:09.328787Z",
     "shell.execute_reply": "2022-04-13T05:06:09.327872Z",
     "shell.execute_reply.started": "2022-04-13T05:06:09.313812Z"
    }
   },
   "outputs": [],
   "source": [
    "df_train = pd.get_dummies(df_train, columns=['Embarked'], prefix='Embarked')\n",
    "df_test = pd.get_dummies(df_test, columns=['Embarked'], prefix='Embarked')"
   ]
  },
  {
   "cell_type": "code",
   "execution_count": 202,
   "metadata": {
    "execution": {
     "iopub.execute_input": "2022-04-13T05:06:09.332543Z",
     "iopub.status.busy": "2022-04-13T05:06:09.332279Z",
     "iopub.status.idle": "2022-04-13T05:06:09.357443Z",
     "shell.execute_reply": "2022-04-13T05:06:09.356577Z",
     "shell.execute_reply.started": "2022-04-13T05:06:09.332510Z"
    }
   },
   "outputs": [],
   "source": [
    "df_train.head()"
   ]
  },
  {
   "cell_type": "markdown",
   "metadata": {},
   "source": [
    "**If there are too many categories, using one-hot encoding may not be the most efficient approach.**"
   ]
  },
  {
   "cell_type": "markdown",
   "metadata": {},
   "source": [
    "## 3.6 Drop columns\n",
    "\n",
    "Remove all unnecessary columns."
   ]
  },
  {
   "cell_type": "code",
   "execution_count": 203,
   "metadata": {
    "execution": {
     "iopub.execute_input": "2022-04-13T05:06:09.359347Z",
     "iopub.status.busy": "2022-04-13T05:06:09.358943Z",
     "iopub.status.idle": "2022-04-13T05:06:09.367621Z",
     "shell.execute_reply": "2022-04-13T05:06:09.367005Z",
     "shell.execute_reply.started": "2022-04-13T05:06:09.359300Z"
    }
   },
   "outputs": [],
   "source": [
    "df_train.drop(['PassengerId', 'Name', 'SibSp', 'Parch', 'Ticket', 'Cabin'], axis=1, inplace=True)\n",
    "df_test.drop(['PassengerId', 'Name',  'SibSp', 'Parch', 'Ticket', 'Cabin'], axis=1, inplace=True)"
   ]
  },
  {
   "cell_type": "code",
   "execution_count": 204,
   "metadata": {
    "execution": {
     "iopub.execute_input": "2022-04-13T05:06:09.369200Z",
     "iopub.status.busy": "2022-04-13T05:06:09.368620Z",
     "iopub.status.idle": "2022-04-13T05:06:09.395069Z",
     "shell.execute_reply": "2022-04-13T05:06:09.394220Z",
     "shell.execute_reply.started": "2022-04-13T05:06:09.369169Z"
    }
   },
   "outputs": [],
   "source": [
    "df_train.head()"
   ]
  },
  {
   "cell_type": "code",
   "execution_count": 205,
   "metadata": {
    "execution": {
     "iopub.execute_input": "2022-04-13T05:06:09.397116Z",
     "iopub.status.busy": "2022-04-13T05:06:09.396456Z",
     "iopub.status.idle": "2022-04-13T05:06:09.411396Z",
     "shell.execute_reply": "2022-04-13T05:06:09.410543Z",
     "shell.execute_reply.started": "2022-04-13T05:06:09.397074Z"
    }
   },
   "outputs": [],
   "source": [
    "df_test.head()"
   ]
  },
  {
   "cell_type": "markdown",
   "metadata": {},
   "source": [
    "# 4. Building machine learning model and prediction using the trained model"
   ]
  },
  {
   "cell_type": "code",
   "execution_count": 206,
   "metadata": {
    "execution": {
     "iopub.execute_input": "2022-04-13T05:06:09.414053Z",
     "iopub.status.busy": "2022-04-13T05:06:09.413097Z",
     "iopub.status.idle": "2022-04-13T05:06:09.422357Z",
     "shell.execute_reply": "2022-04-13T05:06:09.421646Z",
     "shell.execute_reply.started": "2022-04-13T05:06:09.414002Z"
    }
   },
   "outputs": [],
   "source": [
    "#importing all the required ML packages\n",
    "\n",
    "from sklearn import metrics # for the evaluation metric\n",
    "\n",
    "from sklearn.ensemble import RandomForestClassifier, AdaBoostClassifier, GradientBoostingClassifier, ExtraTreesClassifier, VotingClassifier\n",
    "from sklearn.discriminant_analysis import LinearDiscriminantAnalysis\n",
    "from sklearn.linear_model import LogisticRegression\n",
    "from sklearn.neighbors import KNeighborsClassifier\n",
    "from sklearn.tree import DecisionTreeClassifier\n",
    "from sklearn.neural_network import MLPClassifier\n",
    "from sklearn.svm import SVC\n",
    "from sklearn.model_selection import GridSearchCV, cross_val_score, StratifiedKFold, learning_curve, train_test_split\n",
    "from sklearn.naive_bayes import GaussianNB #Naive bayes\n",
    "from sklearn.metrics import confusion_matrix #for confusion matrix"
   ]
  },
  {
   "cell_type": "markdown",
   "metadata": {},
   "source": [
    "**This is a binary classification problem.**"
   ]
  },
  {
   "cell_type": "markdown",
   "metadata": {},
   "source": [
    "## 4.1 Preparation - Split dataset into train, valid, test set"
   ]
  },
  {
   "cell_type": "code",
   "execution_count": 207,
   "metadata": {
    "execution": {
     "iopub.execute_input": "2022-04-13T05:06:09.424178Z",
     "iopub.status.busy": "2022-04-13T05:06:09.423516Z",
     "iopub.status.idle": "2022-04-13T05:06:09.434285Z",
     "shell.execute_reply": "2022-04-13T05:06:09.433315Z",
     "shell.execute_reply.started": "2022-04-13T05:06:09.424130Z"
    }
   },
   "outputs": [],
   "source": [
    "# X_train = df_train.drop('Survived', axis=1).values\n",
    "# target_label = df_train['Survived'].values\n",
    "# X_test = df_test.values"
   ]
  },
  {
   "cell_type": "code",
   "execution_count": 208,
   "metadata": {
    "execution": {
     "iopub.execute_input": "2022-04-13T05:06:09.435968Z",
     "iopub.status.busy": "2022-04-13T05:06:09.435323Z",
     "iopub.status.idle": "2022-04-13T05:06:09.444989Z",
     "shell.execute_reply": "2022-04-13T05:06:09.444162Z",
     "shell.execute_reply.started": "2022-04-13T05:06:09.435933Z"
    }
   },
   "outputs": [],
   "source": [
    "# X_tr, X_vld, y_tr, y_vld = train_test_split(X_train, target_label, test_size=0.3, random_state=42)"
   ]
  },
  {
   "cell_type": "markdown",
   "metadata": {},
   "source": [
    "Think of it as this:\n",
    "\n",
    "the data is trained (train), goes through a skrimmage to evaluate how well the model is trained (valid), and then put to test (test)."
   ]
  },
  {
   "cell_type": "code",
   "execution_count": 209,
   "metadata": {
    "execution": {
     "iopub.execute_input": "2022-04-13T05:06:09.446584Z",
     "iopub.status.busy": "2022-04-13T05:06:09.445963Z",
     "iopub.status.idle": "2022-04-13T05:06:09.458177Z",
     "shell.execute_reply": "2022-04-13T05:06:09.457466Z",
     "shell.execute_reply.started": "2022-04-13T05:06:09.446547Z"
    }
   },
   "outputs": [],
   "source": [
    "X_train = df_train.drop('Survived', axis=1)\n",
    "y_train = df_train['Survived']"
   ]
  },
  {
   "cell_type": "markdown",
   "metadata": {},
   "source": [
    "## 4.2 Model generation and comparison\n",
    "\n",
    "We try different models."
   ]
  },
  {
   "cell_type": "code",
   "execution_count": 210,
   "metadata": {
    "execution": {
     "iopub.execute_input": "2022-04-13T05:06:09.461236Z",
     "iopub.status.busy": "2022-04-13T05:06:09.460717Z",
     "iopub.status.idle": "2022-04-13T05:06:09.474779Z",
     "shell.execute_reply": "2022-04-13T05:06:09.473781Z",
     "shell.execute_reply.started": "2022-04-13T05:06:09.461182Z"
    }
   },
   "outputs": [],
   "source": [
    "train, vld = train_test_split(df_train,test_size=0.3,random_state=0,stratify=df_train['Survived'])\n",
    "train_X = train[train.columns[1:]]\n",
    "train_Y = train[train.columns[:1]]\n",
    "vld_X = vld[vld.columns[1:]]\n",
    "vld_Y = vld[vld.columns[:1]]\n",
    "X = df_train[df_train.columns[1:]]\n",
    "target_column = df_train['Survived']"
   ]
  },
  {
   "cell_type": "markdown",
   "metadata": {},
   "source": [
    "### 4.2.1 Radial Support Vector Machines(rbf-SVM)"
   ]
  },
  {
   "cell_type": "code",
   "execution_count": 211,
   "metadata": {
    "execution": {
     "iopub.execute_input": "2022-04-13T05:06:09.488728Z",
     "iopub.status.busy": "2022-04-13T05:06:09.488410Z",
     "iopub.status.idle": "2022-04-13T05:06:09.520782Z",
     "shell.execute_reply": "2022-04-13T05:06:09.519700Z",
     "shell.execute_reply.started": "2022-04-13T05:06:09.488694Z"
    }
   },
   "outputs": [],
   "source": [
    "model=SVC(kernel='rbf',C=1,gamma=0.1)\n",
    "model.fit(train_X,train_Y)\n",
    "prediction1=model.predict(vld_X)\n",
    "print('Accuracy for rbf SVM is ',metrics.accuracy_score(prediction1,vld_Y))"
   ]
  },
  {
   "cell_type": "markdown",
   "metadata": {},
   "source": [
    "### 4.2.2 Linear Support Vector Machine(linear-SVM)"
   ]
  },
  {
   "cell_type": "code",
   "execution_count": 212,
   "metadata": {
    "execution": {
     "iopub.execute_input": "2022-04-13T05:06:09.641093Z",
     "iopub.status.busy": "2022-04-13T05:06:09.640512Z",
     "iopub.status.idle": "2022-04-13T05:06:09.668851Z",
     "shell.execute_reply": "2022-04-13T05:06:09.667814Z",
     "shell.execute_reply.started": "2022-04-13T05:06:09.641047Z"
    }
   },
   "outputs": [],
   "source": [
    "model=svm.SVC(kernel='linear',C=0.1,gamma=0.1)\n",
    "model.fit(train_X,train_Y)\n",
    "prediction2=model.predict(vld_X)\n",
    "print('Accuracy for linear SVM is',metrics.accuracy_score(prediction2,vld_Y))"
   ]
  },
  {
   "cell_type": "markdown",
   "metadata": {},
   "source": [
    "### 4.2.3 Logistic Regression"
   ]
  },
  {
   "cell_type": "code",
   "execution_count": 213,
   "metadata": {
    "execution": {
     "iopub.execute_input": "2022-04-13T05:06:10.431062Z",
     "iopub.status.busy": "2022-04-13T05:06:10.430371Z",
     "iopub.status.idle": "2022-04-13T05:06:10.469025Z",
     "shell.execute_reply": "2022-04-13T05:06:10.468042Z",
     "shell.execute_reply.started": "2022-04-13T05:06:10.431022Z"
    }
   },
   "outputs": [],
   "source": [
    "model = LogisticRegression()\n",
    "model.fit(train_X,train_Y)\n",
    "prediction3=model.predict(vld_X)\n",
    "print('Accuracy for Logistic Regression is',metrics.accuracy_score(prediction3,vld_Y))"
   ]
  },
  {
   "cell_type": "markdown",
   "metadata": {},
   "source": [
    "### 4.2.4 Decision Tree"
   ]
  },
  {
   "cell_type": "code",
   "execution_count": 214,
   "metadata": {
    "execution": {
     "iopub.execute_input": "2022-04-13T05:06:11.007843Z",
     "iopub.status.busy": "2022-04-13T05:06:11.007483Z",
     "iopub.status.idle": "2022-04-13T05:06:11.021232Z",
     "shell.execute_reply": "2022-04-13T05:06:11.020282Z",
     "shell.execute_reply.started": "2022-04-13T05:06:11.007806Z"
    }
   },
   "outputs": [],
   "source": [
    "model=DecisionTreeClassifier()\n",
    "model.fit(train_X,train_Y)\n",
    "prediction4=model.predict(vld_X)\n",
    "print('Accuracy for Decision Tree is',metrics.accuracy_score(prediction4,vld_Y))"
   ]
  },
  {
   "cell_type": "markdown",
   "metadata": {},
   "source": [
    "### 4.2.5 k-Nearest Neighbors (kNN)"
   ]
  },
  {
   "cell_type": "code",
   "execution_count": 215,
   "metadata": {
    "execution": {
     "iopub.execute_input": "2022-04-13T05:06:11.470987Z",
     "iopub.status.busy": "2022-04-13T05:06:11.470600Z",
     "iopub.status.idle": "2022-04-13T05:06:11.502742Z",
     "shell.execute_reply": "2022-04-13T05:06:11.501963Z",
     "shell.execute_reply.started": "2022-04-13T05:06:11.470943Z"
    }
   },
   "outputs": [],
   "source": [
    "model=KNeighborsClassifier() \n",
    "model.fit(train_X,train_Y)\n",
    "prediction5=model.predict(vld_X)\n",
    "print('Accuracy for KNN is',metrics.accuracy_score(prediction5,vld_Y))"
   ]
  },
  {
   "cell_type": "markdown",
   "metadata": {},
   "source": [
    "We find the ideal number of groups."
   ]
  },
  {
   "cell_type": "code",
   "execution_count": 216,
   "metadata": {
    "execution": {
     "iopub.execute_input": "2022-04-13T05:06:11.759094Z",
     "iopub.status.busy": "2022-04-13T05:06:11.758603Z",
     "iopub.status.idle": "2022-04-13T05:06:12.242957Z",
     "shell.execute_reply": "2022-04-13T05:06:12.241810Z",
     "shell.execute_reply.started": "2022-04-13T05:06:11.759053Z"
    }
   },
   "outputs": [],
   "source": [
    "a_index=list(range(1,11))\n",
    "a=pd.Series()\n",
    "x=[0,1,2,3,4,5,6,7,8,9,10]\n",
    "for i in list(range(1,11)):\n",
    "    model=KNeighborsClassifier(n_neighbors=i) \n",
    "    model.fit(train_X,train_Y)\n",
    "    prediction=model.predict(vld_X)\n",
    "    a=a.append(pd.Series(metrics.accuracy_score(prediction,vld_Y)))\n",
    "plt.plot(a_index, a)\n",
    "plt.xticks(x)\n",
    "fig=plt.gcf()\n",
    "fig.set_size_inches(12,6)\n",
    "plt.show()\n",
    "print('Accuracies for different values of n are:',a.values,'with the max value as ',a.values.max())"
   ]
  },
  {
   "cell_type": "markdown",
   "metadata": {},
   "source": [
    "### 4.2.6 Gaussian Naive Bayes"
   ]
  },
  {
   "cell_type": "code",
   "execution_count": 217,
   "metadata": {
    "execution": {
     "iopub.execute_input": "2022-04-13T05:06:12.245981Z",
     "iopub.status.busy": "2022-04-13T05:06:12.245562Z",
     "iopub.status.idle": "2022-04-13T05:06:12.260550Z",
     "shell.execute_reply": "2022-04-13T05:06:12.259598Z",
     "shell.execute_reply.started": "2022-04-13T05:06:12.245881Z"
    }
   },
   "outputs": [],
   "source": [
    "model=GaussianNB()\n",
    "model.fit(train_X,train_Y)\n",
    "prediction6=model.predict(vld_X)\n",
    "print('Accuracy for Naive Bayes is',metrics.accuracy_score(prediction6,vld_Y))"
   ]
  },
  {
   "cell_type": "markdown",
   "metadata": {},
   "source": [
    "### 4.2.7 Random Forests"
   ]
  },
  {
   "cell_type": "code",
   "execution_count": 218,
   "metadata": {
    "execution": {
     "iopub.execute_input": "2022-04-13T05:06:12.372243Z",
     "iopub.status.busy": "2022-04-13T05:06:12.370105Z",
     "iopub.status.idle": "2022-04-13T05:06:12.595229Z",
     "shell.execute_reply": "2022-04-13T05:06:12.594219Z",
     "shell.execute_reply.started": "2022-04-13T05:06:12.372202Z"
    }
   },
   "outputs": [],
   "source": [
    "model=RandomForestClassifier(n_estimators=100)\n",
    "model.fit(train_X,train_Y)\n",
    "prediction7=model.predict(vld_X)\n",
    "print('Accuracy for Random Forests is',metrics.accuracy_score(prediction7,vld_Y))"
   ]
  },
  {
   "cell_type": "markdown",
   "metadata": {},
   "source": [
    "## 4.3 Cross validation"
   ]
  },
  {
   "cell_type": "code",
   "execution_count": 219,
   "metadata": {
    "execution": {
     "iopub.execute_input": "2022-04-13T05:06:12.646576Z",
     "iopub.status.busy": "2022-04-13T05:06:12.646290Z",
     "iopub.status.idle": "2022-04-13T05:06:16.537253Z",
     "shell.execute_reply": "2022-04-13T05:06:16.536511Z",
     "shell.execute_reply.started": "2022-04-13T05:06:12.646546Z"
    }
   },
   "outputs": [],
   "source": [
    "from sklearn.model_selection import KFold #for K-fold cross validation\n",
    "from sklearn.model_selection import cross_val_score #score evaluation\n",
    "from sklearn.model_selection import cross_val_predict #prediction\n",
    "kfold = KFold(n_splits=10, random_state=42, shuffle=True) # k=10, split the data into 10 equal parts\n",
    "xyz=[]\n",
    "accuracy=[]\n",
    "std=[]\n",
    "classifiers=['Linear Svm','Radial Svm','Logistic Regression','KNN','Decision Tree','Naive Bayes','Random Forest']\n",
    "models=[svm.SVC(kernel='linear'),svm.SVC(kernel='rbf'),LogisticRegression(),\n",
    "        KNeighborsClassifier(n_neighbors=9),DecisionTreeClassifier(),GaussianNB(),\n",
    "        RandomForestClassifier(n_estimators=100)]\n",
    "for i in models:\n",
    "    model = i\n",
    "    cv_result = cross_val_score(model, X, target_column, cv = kfold, scoring = \"accuracy\")\n",
    "    xyz.append(cv_result.mean())\n",
    "    std.append(cv_result.std())\n",
    "    accuracy.append(cv_result)\n",
    "    \n",
    "new_models_dataframe2=pd.DataFrame({'CV Mean':xyz,'Std':std},index=classifiers)       \n",
    "new_models_dataframe2"
   ]
  },
  {
   "cell_type": "code",
   "execution_count": 220,
   "metadata": {
    "execution": {
     "iopub.execute_input": "2022-04-13T05:06:16.538920Z",
     "iopub.status.busy": "2022-04-13T05:06:16.538697Z",
     "iopub.status.idle": "2022-04-13T05:06:16.866663Z",
     "shell.execute_reply": "2022-04-13T05:06:16.866031Z",
     "shell.execute_reply.started": "2022-04-13T05:06:16.538894Z"
    }
   },
   "outputs": [],
   "source": [
    "plt.subplots(figsize=(12,6))\n",
    "box=pd.DataFrame(accuracy,index=[classifiers])\n",
    "box.T.boxplot()"
   ]
  },
  {
   "cell_type": "code",
   "execution_count": 221,
   "metadata": {
    "execution": {
     "iopub.execute_input": "2022-04-13T05:06:16.868079Z",
     "iopub.status.busy": "2022-04-13T05:06:16.867724Z",
     "iopub.status.idle": "2022-04-13T05:06:17.117184Z",
     "shell.execute_reply": "2022-04-13T05:06:17.116577Z",
     "shell.execute_reply.started": "2022-04-13T05:06:16.868050Z"
    }
   },
   "outputs": [],
   "source": [
    "new_models_dataframe2['CV Mean'].plot.barh(width=0.8)\n",
    "plt.title('Average CV Mean Accuracy')\n",
    "fig=plt.gcf()\n",
    "fig.set_size_inches(8,5)\n",
    "plt.show()"
   ]
  },
  {
   "cell_type": "markdown",
   "metadata": {},
   "source": [
    "## 4.4 Confusion Matrix"
   ]
  },
  {
   "cell_type": "code",
   "execution_count": 222,
   "metadata": {
    "execution": {
     "iopub.execute_input": "2022-04-13T05:06:17.119568Z",
     "iopub.status.busy": "2022-04-13T05:06:17.118833Z",
     "iopub.status.idle": "2022-04-13T05:06:23.218650Z",
     "shell.execute_reply": "2022-04-13T05:06:23.217980Z",
     "shell.execute_reply.started": "2022-04-13T05:06:17.119531Z"
    }
   },
   "outputs": [],
   "source": [
    "f,ax=plt.subplots(3,3,figsize=(12,10))\n",
    "y_pred = cross_val_predict(svm.SVC(kernel='rbf'),X,target_column,cv=10)\n",
    "sns.heatmap(confusion_matrix(target_column,y_pred),ax=ax[0,0],annot=True,fmt='2.0f')\n",
    "ax[0,0].set_title('Matrix for rbf-SVM')\n",
    "y_pred = cross_val_predict(svm.SVC(kernel='linear'),X,target_column,cv=10)\n",
    "sns.heatmap(confusion_matrix(target_column,y_pred),ax=ax[0,1],annot=True,fmt='2.0f')\n",
    "ax[0,1].set_title('Matrix for Linear-SVM')\n",
    "y_pred = cross_val_predict(KNeighborsClassifier(n_neighbors=9),X,target_column,cv=10)\n",
    "sns.heatmap(confusion_matrix(target_column,y_pred),ax=ax[0,2],annot=True,fmt='2.0f')\n",
    "ax[0,2].set_title('Matrix for KNN')\n",
    "y_pred = cross_val_predict(RandomForestClassifier(n_estimators=100),X,target_column,cv=10)\n",
    "sns.heatmap(confusion_matrix(target_column,y_pred),ax=ax[1,0],annot=True,fmt='2.0f')\n",
    "ax[1,0].set_title('Matrix for Random-Forests')\n",
    "y_pred = cross_val_predict(LogisticRegression(),X,target_column,cv=10)\n",
    "sns.heatmap(confusion_matrix(target_column,y_pred),ax=ax[1,1],annot=True,fmt='2.0f')\n",
    "ax[1,1].set_title('Matrix for Logistic Regression')\n",
    "y_pred = cross_val_predict(DecisionTreeClassifier(),X,target_column,cv=10)\n",
    "sns.heatmap(confusion_matrix(target_column,y_pred),ax=ax[1,2],annot=True,fmt='2.0f')\n",
    "ax[1,2].set_title('Matrix for Decision Tree')\n",
    "y_pred = cross_val_predict(GaussianNB(),X,target_column,cv=10)\n",
    "sns.heatmap(confusion_matrix(target_column,y_pred),ax=ax[2,0],annot=True,fmt='2.0f')\n",
    "ax[2,0].set_title('Matrix for Naive Bayes')\n",
    "plt.subplots_adjust(hspace=0.2,wspace=0.2)\n",
    "plt.show()"
   ]
  },
  {
   "cell_type": "markdown",
   "metadata": {},
   "source": [
    "## 4.5 Hyperparameter tuning\n",
    "\n",
    "### 4.5.1 SVM"
   ]
  },
  {
   "cell_type": "code",
   "execution_count": 223,
   "metadata": {
    "execution": {
     "iopub.execute_input": "2022-04-13T05:06:23.220058Z",
     "iopub.status.busy": "2022-04-13T05:06:23.219737Z",
     "iopub.status.idle": "2022-04-13T05:06:55.429039Z",
     "shell.execute_reply": "2022-04-13T05:06:55.428131Z",
     "shell.execute_reply.started": "2022-04-13T05:06:23.220028Z"
    }
   },
   "outputs": [],
   "source": [
    "from sklearn.model_selection import GridSearchCV\n",
    "\n",
    "C=[0.05,0.1,0.2,0.3,0.25,0.4,0.5,0.6,0.7,0.8,0.9,1]\n",
    "gamma=[0.1,0.2,0.3,0.4,0.5,0.6,0.7,0.8,0.9,1.0]\n",
    "kernel=['rbf','linear']\n",
    "hyper={'kernel':kernel,'C':C,'gamma':gamma}\n",
    "gd=GridSearchCV(estimator=SVC(),param_grid=hyper,verbose=True)\n",
    "gd.fit(X,target_column)\n",
    "print(gd.best_score_)\n",
    "print(gd.best_estimator_)"
   ]
  },
  {
   "cell_type": "markdown",
   "metadata": {},
   "source": [
    "### 4.5.2 Random Forest"
   ]
  },
  {
   "cell_type": "code",
   "execution_count": 224,
   "metadata": {
    "execution": {
     "iopub.execute_input": "2022-04-13T05:06:55.430805Z",
     "iopub.status.busy": "2022-04-13T05:06:55.430523Z",
     "iopub.status.idle": "2022-04-13T05:07:45.055159Z",
     "shell.execute_reply": "2022-04-13T05:07:45.054246Z",
     "shell.execute_reply.started": "2022-04-13T05:06:55.430772Z"
    }
   },
   "outputs": [],
   "source": [
    "n_estimators=range(100,1000,100)\n",
    "hyper={'n_estimators':n_estimators}\n",
    "gd=GridSearchCV(estimator=RandomForestClassifier(random_state=42),param_grid=hyper,verbose=True)\n",
    "gd.fit(X,target_column)\n",
    "print(gd.best_score_)\n",
    "print(gd.best_estimator_)"
   ]
  },
  {
   "cell_type": "markdown",
   "metadata": {},
   "source": [
    "## 4.6 Ensembling\n",
    "\n",
    "### 4.6.1 Voting Classifier"
   ]
  },
  {
   "cell_type": "code",
   "execution_count": 225,
   "metadata": {
    "execution": {
     "iopub.execute_input": "2022-04-13T05:07:45.056670Z",
     "iopub.status.busy": "2022-04-13T05:07:45.056427Z",
     "iopub.status.idle": "2022-04-13T05:08:05.615172Z",
     "shell.execute_reply": "2022-04-13T05:08:05.614284Z",
     "shell.execute_reply.started": "2022-04-13T05:07:45.056640Z"
    }
   },
   "outputs": [],
   "source": [
    "from sklearn.ensemble import VotingClassifier\n",
    "ensemble_lin_rbf=VotingClassifier(estimators=[('KNN',KNeighborsClassifier(n_neighbors=9)),\n",
    "                                              ('RBF',svm.SVC(probability=True,kernel='rbf',C=1,gamma=0.3)),\n",
    "                                              ('RFor',RandomForestClassifier(n_estimators=700,random_state=42)),\n",
    "                                              ('LR',LogisticRegression(C=0.05)),\n",
    "                                              ('DT',DecisionTreeClassifier(random_state=42)),\n",
    "                                              ('NB',GaussianNB()),\n",
    "                                              ('svm',svm.SVC(kernel='linear',probability=True))\n",
    "                                             ], \n",
    "                       voting='soft').fit(train_X,train_Y)\n",
    "print('The accuracy for ensembled model is:',ensemble_lin_rbf.score(vld_X,vld_Y))\n",
    "cross=cross_val_score(ensemble_lin_rbf,X,target_column, cv = 10,scoring = \"accuracy\")\n",
    "print('The cross validated score is',cross.mean())"
   ]
  },
  {
   "cell_type": "markdown",
   "metadata": {},
   "source": [
    "### 4.6.2 Bagging\n",
    "\n",
    "#### 4.6.2.1 Bagged kNN"
   ]
  },
  {
   "cell_type": "code",
   "execution_count": 226,
   "metadata": {
    "execution": {
     "iopub.execute_input": "2022-04-13T05:08:05.616766Z",
     "iopub.status.busy": "2022-04-13T05:08:05.616509Z",
     "iopub.status.idle": "2022-04-13T05:08:10.085835Z",
     "shell.execute_reply": "2022-04-13T05:08:10.084837Z",
     "shell.execute_reply.started": "2022-04-13T05:08:05.616735Z"
    }
   },
   "outputs": [],
   "source": [
    "from sklearn.ensemble import BaggingClassifier\n",
    "model=BaggingClassifier(base_estimator=KNeighborsClassifier(n_neighbors=9),random_state=42,n_estimators=100)\n",
    "model.fit(train_X,train_Y)\n",
    "prediction=model.predict(vld_X)\n",
    "print('The accuracy for bagged KNN is:',metrics.accuracy_score(prediction,vld_Y))\n",
    "result=cross_val_score(model,X,target_column,cv=10,scoring='accuracy')\n",
    "print('The cross validated score for bagged KNN is:',result.mean())"
   ]
  },
  {
   "cell_type": "markdown",
   "metadata": {},
   "source": [
    "#### 4.6.2.2 Bagged Decision Tree"
   ]
  },
  {
   "cell_type": "code",
   "execution_count": 227,
   "metadata": {
    "execution": {
     "iopub.execute_input": "2022-04-13T05:08:10.087351Z",
     "iopub.status.busy": "2022-04-13T05:08:10.087107Z",
     "iopub.status.idle": "2022-04-13T05:08:13.482419Z",
     "shell.execute_reply": "2022-04-13T05:08:13.481404Z",
     "shell.execute_reply.started": "2022-04-13T05:08:10.087320Z"
    }
   },
   "outputs": [],
   "source": [
    "model=BaggingClassifier(base_estimator=DecisionTreeClassifier(),random_state=42,n_estimators=100)\n",
    "model.fit(train_X,train_Y)\n",
    "prediction=model.predict(vld_X)\n",
    "print('The accuracy for bagged Decision Tree is:',metrics.accuracy_score(prediction,vld_Y))\n",
    "result=cross_val_score(model,X,target_column,cv=10,scoring='accuracy')\n",
    "print('The cross validated score for bagged Decision Tree is:',result.mean())"
   ]
  },
  {
   "cell_type": "markdown",
   "metadata": {},
   "source": [
    "### 4.6.3 Boosting\n",
    "\n",
    "#### 4.6.3.1 AdaBoost"
   ]
  },
  {
   "cell_type": "code",
   "execution_count": 228,
   "metadata": {
    "execution": {
     "iopub.execute_input": "2022-04-13T05:08:13.485528Z",
     "iopub.status.busy": "2022-04-13T05:08:13.485154Z",
     "iopub.status.idle": "2022-04-13T05:08:17.644180Z",
     "shell.execute_reply": "2022-04-13T05:08:17.643299Z",
     "shell.execute_reply.started": "2022-04-13T05:08:13.485488Z"
    }
   },
   "outputs": [],
   "source": [
    "from sklearn.ensemble import AdaBoostClassifier\n",
    "ada=AdaBoostClassifier(n_estimators=200,random_state=42,learning_rate=0.1)\n",
    "result=cross_val_score(ada,X,target_column,cv=10,scoring='accuracy')\n",
    "print('The cross validated score for AdaBoost is:',result.mean())"
   ]
  },
  {
   "cell_type": "markdown",
   "metadata": {},
   "source": [
    "#### 4.6.3.2 Stochastic Gradient Boosting"
   ]
  },
  {
   "cell_type": "code",
   "execution_count": 229,
   "metadata": {
    "execution": {
     "iopub.execute_input": "2022-04-13T05:08:17.645501Z",
     "iopub.status.busy": "2022-04-13T05:08:17.645259Z",
     "iopub.status.idle": "2022-04-13T05:08:23.207065Z",
     "shell.execute_reply": "2022-04-13T05:08:23.206167Z",
     "shell.execute_reply.started": "2022-04-13T05:08:17.645473Z"
    }
   },
   "outputs": [],
   "source": [
    "from sklearn.ensemble import GradientBoostingClassifier\n",
    "grad=GradientBoostingClassifier(n_estimators=500,random_state=42,learning_rate=0.1)\n",
    "result=cross_val_score(grad,X,target_column,cv=10,scoring='accuracy')\n",
    "print('The cross validated score for Gradient Boosting is:',result.mean())"
   ]
  },
  {
   "cell_type": "markdown",
   "metadata": {},
   "source": [
    "#### 4.6.3.3 XGBoost"
   ]
  },
  {
   "cell_type": "code",
   "execution_count": 230,
   "metadata": {
    "execution": {
     "iopub.execute_input": "2022-04-13T05:08:23.208783Z",
     "iopub.status.busy": "2022-04-13T05:08:23.208420Z",
     "iopub.status.idle": "2022-04-13T05:08:48.323834Z",
     "shell.execute_reply": "2022-04-13T05:08:48.323096Z",
     "shell.execute_reply.started": "2022-04-13T05:08:23.208748Z"
    }
   },
   "outputs": [],
   "source": [
    "import xgboost as xg\n",
    "xgboost=xg.XGBClassifier(n_estimators=900,learning_rate=0.1)\n",
    "result=cross_val_score(xgboost,X,target_column,cv=10,scoring='accuracy')\n",
    "print('The cross validated score for XGBoost is:',result.mean())"
   ]
  },
  {
   "cell_type": "markdown",
   "metadata": {},
   "source": [
    "#### 4.6.3.4 Boosting Hyperparameter Tuning\n",
    "\n",
    "We try the hyperparameter tuning to Stochastic Gradient Boosting, the one with the most accuracy."
   ]
  },
  {
   "cell_type": "code",
   "execution_count": 231,
   "metadata": {
    "execution": {
     "iopub.execute_input": "2022-04-13T05:08:48.328156Z",
     "iopub.status.busy": "2022-04-13T05:08:48.324947Z",
     "iopub.status.idle": "2022-04-13T05:08:48.334261Z",
     "shell.execute_reply": "2022-04-13T05:08:48.333488Z",
     "shell.execute_reply.started": "2022-04-13T05:08:48.328102Z"
    }
   },
   "outputs": [],
   "source": [
    "# n_estimators=list(range(100,1100,100))\n",
    "# learn_rate=[0.05,0.1,0.2,0.3,0.25,0.4,0.5,0.6,0.7,0.8,0.9,1]\n",
    "# hyper={'n_estimators':n_estimators,'learning_rate':learn_rate}\n",
    "# gd=GridSearchCV(estimator=GradientBoostingClassifier(),param_grid=hyper,verbose=True)\n",
    "# gd.fit(X,target_column)\n",
    "# print(gd.best_score_)\n",
    "# print(gd.best_estimator_)"
   ]
  },
  {
   "cell_type": "code",
   "execution_count": 232,
   "metadata": {
    "execution": {
     "iopub.execute_input": "2022-04-13T05:08:48.336761Z",
     "iopub.status.busy": "2022-04-13T05:08:48.335863Z",
     "iopub.status.idle": "2022-04-13T05:08:51.828818Z",
     "shell.execute_reply": "2022-04-13T05:08:51.827838Z",
     "shell.execute_reply.started": "2022-04-13T05:08:48.336708Z"
    }
   },
   "outputs": [],
   "source": [
    "gd = GradientBoostingClassifier(n_estimators=300,random_state=42,learning_rate=0.05)\n",
    "result = cross_val_predict(gd,X,target_column,cv=10)\n",
    "sns.heatmap(confusion_matrix(target_column,result),cmap='winter',annot=True,fmt='2.0f')\n",
    "plt.show()"
   ]
  },
  {
   "cell_type": "markdown",
   "metadata": {},
   "source": [
    "## 4.7 Feature Importance"
   ]
  },
  {
   "cell_type": "code",
   "execution_count": 233,
   "metadata": {
    "execution": {
     "iopub.execute_input": "2022-04-13T05:08:51.830268Z",
     "iopub.status.busy": "2022-04-13T05:08:51.830025Z",
     "iopub.status.idle": "2022-04-13T05:08:55.860790Z",
     "shell.execute_reply": "2022-04-13T05:08:55.859917Z",
     "shell.execute_reply.started": "2022-04-13T05:08:51.830239Z"
    }
   },
   "outputs": [],
   "source": [
    "f,ax=plt.subplots(2,2,figsize=(15,12))\n",
    "model=RandomForestClassifier(n_estimators=500,random_state=42)\n",
    "model.fit(X,target_column)\n",
    "pd.Series(model.feature_importances_,X.columns).sort_values(ascending=True).plot.barh(width=0.8,ax=ax[0,0])\n",
    "ax[0,0].set_title('Feature Importance in Random Forests')\n",
    "model=AdaBoostClassifier(n_estimators=200,learning_rate=0.05,random_state=42)\n",
    "model.fit(X,target_column)\n",
    "pd.Series(model.feature_importances_,X.columns).sort_values(ascending=True).plot.barh(width=0.8,ax=ax[0,1],color='#ddff11')\n",
    "ax[0,1].set_title('Feature Importance in AdaBoost')\n",
    "model=GradientBoostingClassifier(n_estimators=500,learning_rate=0.1,random_state=42)\n",
    "model.fit(X,target_column)\n",
    "pd.Series(model.feature_importances_,X.columns).sort_values(ascending=True).plot.barh(width=0.8,ax=ax[1,0],cmap='RdYlGn_r')\n",
    "ax[1,0].set_title('Feature Importance in Gradient Boosting')\n",
    "model=xg.XGBClassifier(n_estimators=300,learning_rate=0.1)\n",
    "model.fit(X,target_column)\n",
    "pd.Series(model.feature_importances_,X.columns).sort_values(ascending=True).plot.barh(width=0.8,ax=ax[1,1],color='#FD0F00')\n",
    "ax[1,1].set_title('Feature Importance in XgBoost')\n",
    "plt.show()"
   ]
  },
  {
   "cell_type": "markdown",
   "metadata": {},
   "source": [
    "Note that feature importance shows the importance **in this model**. If we use a different model, feature importance may return a different result.\n",
    "\n",
    "**Using feature importance, we can use feature selection to increase accuracy, or we can remove features to increase speed.**"
   ]
  },
  {
   "cell_type": "code",
   "execution_count": 234,
   "metadata": {
    "execution": {
     "iopub.execute_input": "2022-04-13T05:08:55.863468Z",
     "iopub.status.busy": "2022-04-13T05:08:55.862509Z",
     "iopub.status.idle": "2022-04-13T05:08:55.867282Z",
     "shell.execute_reply": "2022-04-13T05:08:55.866401Z",
     "shell.execute_reply.started": "2022-04-13T05:08:55.863423Z"
    }
   },
   "outputs": [],
   "source": [
    "# from pandas import Series\n",
    "\n",
    "# feature_importance = model.feature_importances_\n",
    "# Series_feat_imp = Series(feature_importance, index=df_test.columns)\n",
    "\n",
    "# plt.figure(figsize=(8, 8))\n",
    "# Series_feat_imp.sort_values(ascending=True).plot.barh()\n",
    "# plt.xlabel('Feature importance')\n",
    "# plt.ylabel('Feature')\n",
    "# plt.show()"
   ]
  },
  {
   "cell_type": "markdown",
   "metadata": {},
   "source": [
    "## 4.8 Prediction on Test Set"
   ]
  },
  {
   "cell_type": "code",
   "execution_count": 235,
   "metadata": {
    "execution": {
     "iopub.execute_input": "2022-04-13T05:08:55.868948Z",
     "iopub.status.busy": "2022-04-13T05:08:55.868481Z",
     "iopub.status.idle": "2022-04-13T05:08:55.884067Z",
     "shell.execute_reply": "2022-04-13T05:08:55.883115Z",
     "shell.execute_reply.started": "2022-04-13T05:08:55.868906Z"
    }
   },
   "outputs": [],
   "source": [
    "submission = pd.read_csv('../input/titanic/gender_submission.csv')"
   ]
  },
  {
   "cell_type": "code",
   "execution_count": 236,
   "metadata": {
    "execution": {
     "iopub.execute_input": "2022-04-13T05:08:55.885819Z",
     "iopub.status.busy": "2022-04-13T05:08:55.885566Z",
     "iopub.status.idle": "2022-04-13T05:08:55.896983Z",
     "shell.execute_reply": "2022-04-13T05:08:55.895903Z",
     "shell.execute_reply.started": "2022-04-13T05:08:55.885789Z"
    }
   },
   "outputs": [],
   "source": [
    "submission.head()"
   ]
  },
  {
   "cell_type": "code",
   "execution_count": 237,
   "metadata": {
    "execution": {
     "iopub.execute_input": "2022-04-13T05:08:55.899179Z",
     "iopub.status.busy": "2022-04-13T05:08:55.898734Z",
     "iopub.status.idle": "2022-04-13T05:09:16.428212Z",
     "shell.execute_reply": "2022-04-13T05:09:16.427485Z",
     "shell.execute_reply.started": "2022-04-13T05:08:55.899140Z"
    }
   },
   "outputs": [],
   "source": [
    "ensemble_selective=VotingClassifier(estimators=[('KNN',KNeighborsClassifier(n_neighbors=9)),\n",
    "                                              ('RBF',svm.SVC(probability=True,kernel='rbf',C=1,gamma=0.3)),\n",
    "                                              ('RFor',RandomForestClassifier(n_estimators=700,random_state=42)),\n",
    "                                              ('LR',LogisticRegression(C=0.05))], \n",
    "                       voting='soft').fit(train_X,train_Y)\n",
    "print('The accuracy for ensembled model is:',ensemble_lin_rbf.score(vld_X,vld_Y))\n",
    "cross=cross_val_score(ensemble_lin_rbf,X,target_column, cv = 10,scoring = \"accuracy\")\n",
    "print('The cross validated score is',cross.mean())"
   ]
  },
  {
   "cell_type": "code",
   "execution_count": 238,
   "metadata": {
    "execution": {
     "iopub.execute_input": "2022-04-13T05:09:16.429928Z",
     "iopub.status.busy": "2022-04-13T05:09:16.429154Z",
     "iopub.status.idle": "2022-04-13T05:09:16.572829Z",
     "shell.execute_reply": "2022-04-13T05:09:16.572129Z",
     "shell.execute_reply.started": "2022-04-13T05:09:16.429869Z"
    }
   },
   "outputs": [],
   "source": [
    "X_test = df_test.values\n",
    "\n",
    "prediction = ensemble_selective.predict(X_test)\n",
    "submission['Survived'] = prediction"
   ]
  },
  {
   "cell_type": "code",
   "execution_count": 239,
   "metadata": {
    "execution": {
     "iopub.execute_input": "2022-04-13T05:09:16.574668Z",
     "iopub.status.busy": "2022-04-13T05:09:16.573776Z",
     "iopub.status.idle": "2022-04-13T05:09:16.580753Z",
     "shell.execute_reply": "2022-04-13T05:09:16.579775Z",
     "shell.execute_reply.started": "2022-04-13T05:09:16.574624Z"
    }
   },
   "outputs": [],
   "source": [
    "submission.to_csv('./my_second_submission.csv', index=False)"
   ]
  },
  {
   "cell_type": "code",
   "execution_count": null,
   "metadata": {},
   "outputs": [],
   "source": []
  }
 ],
 "metadata": {
  "kernelspec": {
   "display_name": "Python 3",
   "language": "python",
   "name": "python3"
  },
  "language_info": {
   "codemirror_mode": {
    "name": "ipython",
    "version": 3
   },
   "file_extension": ".py",
   "mimetype": "text/x-python",
   "name": "python",
   "nbconvert_exporter": "python",
   "pygments_lexer": "ipython3",
   "version": "3.7.12"
  }
 },
 "nbformat": 4,
 "nbformat_minor": 4
}
