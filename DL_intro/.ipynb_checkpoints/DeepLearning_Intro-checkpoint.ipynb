{
 "cells": [
  {
   "cell_type": "code",
   "execution_count": 2,
   "id": "85cc9c99",
   "metadata": {},
   "outputs": [],
   "source": [
    "import numpy as np"
   ]
  },
  {
   "cell_type": "markdown",
   "id": "a8fdf5ec",
   "metadata": {},
   "source": [
    "# 2. 퍼셉트론\n",
    "\n",
    "퍼셉트론은 다수의 신호를 입력으로, 하나의 신호를 출력으로 하는 알고리즘이다. 딥러닝의 기반이 되는 알고리즘이기도 하다. 가중치 w를 고려하며, 임계값 theta를 넘을 때 신호가 1을 출력하고 넘지 않을 때는 0을 출력한다.\n"
   ]
  },
  {
   "cell_type": "markdown",
   "id": "8954e88d",
   "metadata": {},
   "source": [
    "<div>\n",
    "<img src=\"fig2.1.jpg\" width=\"500\"/>\n",
    "</div>\n",
    "\n",
    "<div>\n",
    "<img src=\"equ2.1.jpg\" width=\"500\"/>\n",
    "</div>"
   ]
  },
  {
   "cell_type": "markdown",
   "id": "52ca6da9",
   "metadata": {},
   "source": [
    "## 2.2 단순 논리 회로 (AND, NAND, OR)\n",
    "\n",
    "논리 회로에는 AND, NAND, OR 게이트가 있다. 단순히 이야기하자면, AND는 y=1을 조건으로 x1과 x2의 교집합, OR는 합집합, NAND는 AND의 반대 게이트 역할을 한다. 게이트마다 가능한 w1, w2, theta 조합은 무한하다.\n",
    "\n",
    "e.g.\n",
    "- AND: x1 = 0, x2 = 1, then y = 0\n",
    "- NAND: x1 = 1, x2 = 1, then y = 0\n",
    "- OR: x1 = 1, x2 = 0, then y = 1"
   ]
  },
  {
   "cell_type": "code",
   "execution_count": 1,
   "id": "1b926c1f",
   "metadata": {},
   "outputs": [
    {
     "name": "stdout",
     "output_type": "stream",
     "text": [
      "0\n",
      "0\n",
      "0\n",
      "1\n"
     ]
    }
   ],
   "source": [
    "# AND gate\n",
    "\n",
    "def AND(x1, x2):\n",
    "    w1, w2, theta = 0.5, 0.5, 0.7\n",
    "    tmp = x1*w1 + x2*w2\n",
    "    if tmp <= theta:\n",
    "        return 0\n",
    "    elif tmp > theta:\n",
    "        return 1\n",
    "    \n",
    "print(AND(0, 0))\n",
    "print(AND(1, 0))\n",
    "print(AND(0, 1))\n",
    "print(AND(1, 1))"
   ]
  },
  {
   "cell_type": "markdown",
   "id": "581ee5ee",
   "metadata": {},
   "source": [
    "<div>\n",
    "<img src=\"equ2.2.jpg\" width=\"500\"/>\n",
    "</div>"
   ]
  },
  {
   "cell_type": "markdown",
   "id": "cd5255a1",
   "metadata": {},
   "source": [
    "여기서는 임계값 대신 편향 b를 사용했다. 입력 신호에 가중치를 곱한 값과 편향을 합하여 0 이상이면 1을, 그렇지 않다면 0을 출력한다."
   ]
  },
  {
   "cell_type": "code",
   "execution_count": 3,
   "id": "989a2789",
   "metadata": {},
   "outputs": [
    {
     "name": "stdout",
     "output_type": "stream",
     "text": [
      "[0.  0.5]\n",
      "0.5\n",
      "-0.19999999999999996\n"
     ]
    }
   ],
   "source": [
    "x = np.array([0, 1])\n",
    "w = np.array([0.5, 0.5])\n",
    "b = -0.7\n",
    "\n",
    "print(w*x)\n",
    "print(np.sum(w*x))\n",
    "print(np.sum(w*x)+b)"
   ]
  },
  {
   "cell_type": "markdown",
   "id": "e9af0e3d",
   "metadata": {},
   "source": [
    "**가중치 w는 입력 신호가 결과에 주는 영향력을 조절**하는 매개변수고, **편향 b는 뉴런이 얼마나 쉽게 활성화(1 출력)되는지 조정**하는 매개변수다."
   ]
  },
  {
   "cell_type": "code",
   "execution_count": 11,
   "id": "dd034fc0",
   "metadata": {},
   "outputs": [],
   "source": [
    "# AND gate using bias\n",
    "\n",
    "def AND(x1, x2):\n",
    "    x = np.array([x1, x2])\n",
    "    w = np.array([0.5, 0.5])\n",
    "    b = -0.7\n",
    "    tmp = np.sum(w*x) + b\n",
    "    if tmp <= 0:\n",
    "        return 0\n",
    "    else:\n",
    "        return 1"
   ]
  },
  {
   "cell_type": "code",
   "execution_count": 9,
   "id": "02146739",
   "metadata": {},
   "outputs": [],
   "source": [
    "# NAND gate using bias\n",
    "\n",
    "def NAND(x1, x2):\n",
    "    x = np.array([x1, x2])\n",
    "    w = np.array([-0.5, -0.5]) # Note that w is reversed\n",
    "    b = 0.7                    # Note that b is reversed\n",
    "    tmp = np.sum(w*x) + b\n",
    "    if tmp <= 0:\n",
    "        return 0\n",
    "    else:\n",
    "        return 1"
   ]
  },
  {
   "cell_type": "code",
   "execution_count": 7,
   "id": "4b328875",
   "metadata": {},
   "outputs": [],
   "source": [
    "# OR gate using bias\n",
    "\n",
    "def OR(x1, x2):\n",
    "    x = np.array([x1, x2])\n",
    "    w = np.array([0.5, 0.5]) # Note that w is different\n",
    "    b = -0.2                 # Note that b is different\n",
    "    tmp = np.sum(w*x) + b\n",
    "    if tmp <= 0:\n",
    "        return 0\n",
    "    else:\n",
    "        return 1"
   ]
  },
  {
   "cell_type": "markdown",
   "id": "63e0f601",
   "metadata": {},
   "source": [
    "## 2.4 퍼셉트론의 한계\n",
    "\n",
    "XOR 게이트는 배타적 논리합으로, x1과 x2 중 하나가 1일 때만 1을 출력한다. 하나의 퍼셉트론으로 구분할 수 없는 이유는 그림으로 설명 가능하다."
   ]
  },
  {
   "cell_type": "markdown",
   "id": "60ded13f",
   "metadata": {},
   "source": [
    "<div>\n",
    "<img src=\"fig2.2.jpg\" width=\"500\"/>\n",
    "</div>"
   ]
  },
  {
   "cell_type": "markdown",
   "id": "f6690f37",
   "metadata": {},
   "source": [
    "퍼셉트론은 직선 하나로 영역을 나누는데, XOR 게이트는 그림에서 보이듯 곡선으로만 영역을 나눌 수 있다. 따라서 비선형 영역이기에 하나의 퍼셉트론으로는 구현할 수 없다.\n",
    "\n",
    "이와 같은 논리 회로를 구현하려면 층을 쌓아 **다층 퍼셉트론**을 구현한다:\n",
    "\n",
    "1. x1과 x2를 NAND 게이트로 입력시킨다.\n",
    "2. x1과 x2를 OR 게이트로 입력시킨다. (1과 독립적으로)\n",
    "3. NAND 출력값과 OR 출력값을 AND 게이트로 입력시킨다."
   ]
  },
  {
   "cell_type": "markdown",
   "id": "dffa4539",
   "metadata": {},
   "source": [
    "<div>\n",
    "<img src=\"fig2.3.jpg\" width=\"500\"/>\n",
    "</div>"
   ]
  },
  {
   "cell_type": "code",
   "execution_count": 12,
   "id": "ff24d69c",
   "metadata": {},
   "outputs": [
    {
     "name": "stdout",
     "output_type": "stream",
     "text": [
      "0\n",
      "1\n",
      "1\n",
      "0\n"
     ]
    }
   ],
   "source": [
    "# XOR gate\n",
    "\n",
    "def XOR(x1, x2):\n",
    "    s1 = NAND(x1, x2)\n",
    "    s2 = OR(x1, x2)\n",
    "    y = AND(s1, s2)\n",
    "    return y\n",
    "\n",
    "print(XOR(0, 0))\n",
    "print(XOR(1, 0))\n",
    "print(XOR(0, 1))\n",
    "print(XOR(0, 0))"
   ]
  },
  {
   "cell_type": "markdown",
   "id": "6ab530e6",
   "metadata": {},
   "source": [
    "## Takeaways:\n",
    "\n",
    "- 퍼셉트론은 입출력을 갖춘 알고리즘이다. 입력을 주면 정해진 규칙에 따른 값을 출력한다.\n",
    "- 퍼셉트론에서는 *가중치*와 *편향*을 매개변수로 설정한다.\n",
    "- 퍼셉트론으로 AND, NAND, OR 게이트 등의 논리 회로를 표현할 수 있다.\n",
    "- XOR 게이트는 단층 퍼셉트론으로는 표현할 수 없다. 2층 퍼셉트론으로 표현할 수 있다.\n",
    "- 단층 퍼셉트론은 직선형 영역만 표현할 수 있고, 다층 퍼셉트론은 비선형 영역도 표현할 수 있다. (다층 퍼셉트론은 이론상 컴퓨터도 표현 가능하다.)"
   ]
  },
  {
   "cell_type": "markdown",
   "id": "7a7166e1",
   "metadata": {},
   "source": [
    "# 3. 신경망\n",
    "\n",
    "퍼셉트론으로 복잡한 함수도 표현이 가능하나, 단점은 가중치 설정은 여전히 수동으로 해야 한다는 점이다. 신경망의 경우 해당 단점이 개선된다."
   ]
  },
  {
   "cell_type": "markdown",
   "id": "8b556b00",
   "metadata": {},
   "source": [
    "## 3.1 신경망의 개념"
   ]
  },
  {
   "cell_type": "markdown",
   "id": "fada470d",
   "metadata": {},
   "source": [
    "<div>\n",
    "<img src=\"fig3.1.jpg\" width=\"500\"/>\n",
    "</div>"
   ]
  },
  {
   "cell_type": "markdown",
   "id": "e4be6350",
   "metadata": {},
   "source": [
    "신경망의 형태는 퍼셉트론과 다르지 않으나, 신호를 보내는 방식이 다양해진다. 편향을 사용했던 퍼셉트론 공식을 다음과 같이 다른 형태로 바꿔 쓸 수 있다."
   ]
  },
  {
   "cell_type": "markdown",
   "id": "acc2d011",
   "metadata": {},
   "source": [
    "<div>\n",
    "<img src=\"equ3.1.jpg\" width=\"500\"/>\n",
    "</div>"
   ]
  },
  {
   "cell_type": "markdown",
   "id": "011c4a1c",
   "metadata": {},
   "source": [
    "여기서 h(x)를 **활성화 함수**라 칭하며, 해당 함수는 **입력 신호의 총합이 활성화를 일으키는지 판단**한다."
   ]
  },
  {
   "cell_type": "code",
   "execution_count": null,
   "id": "44f40c17",
   "metadata": {},
   "outputs": [],
   "source": []
  }
 ],
 "metadata": {
  "kernelspec": {
   "display_name": "Python 3",
   "language": "python",
   "name": "python3"
  },
  "language_info": {
   "codemirror_mode": {
    "name": "ipython",
    "version": 3
   },
   "file_extension": ".py",
   "mimetype": "text/x-python",
   "name": "python",
   "nbconvert_exporter": "python",
   "pygments_lexer": "ipython3",
   "version": "3.8.8"
  }
 },
 "nbformat": 4,
 "nbformat_minor": 5
}
