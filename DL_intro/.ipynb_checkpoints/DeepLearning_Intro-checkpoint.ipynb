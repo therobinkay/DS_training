{
 "cells": [
  {
   "cell_type": "code",
   "execution_count": 41,
   "id": "b37d1383",
   "metadata": {},
   "outputs": [],
   "source": [
    "import numpy as np\n",
    "import matplotlib.pyplot as plt\n",
    "import sys, os\n",
    "import warnings\n",
    "warnings.filterwarnings(\"ignore\")\n",
    "import pickle\n",
    "from collections import OrderedDict\n",
    "sys.path.append(os.pardir) "
   ]
  },
  {
   "cell_type": "markdown",
   "id": "a8fdf5ec",
   "metadata": {},
   "source": [
    "# 2. 퍼셉트론\n",
    "\n",
    "퍼셉트론은 다수의 신호를 입력으로, 하나의 신호를 출력으로 하는 알고리즘이다. 딥러닝의 기반이 되는 알고리즘이기도 하다. 가중치 $w$를 고려하며, 임계값 $\\theta$를 넘을 때 신호가 1을 출력하고 넘지 않을 때는 0을 출력한다.\n"
   ]
  },
  {
   "cell_type": "markdown",
   "id": "64b1343a",
   "metadata": {},
   "source": [
    "<div>\n",
    "<img src=\"fig2.1.jpg\" width=\"500\"/>\n",
    "</div>"
   ]
  },
  {
   "cell_type": "markdown",
   "id": "96cabb0a",
   "metadata": {},
   "source": [
    "<div>\n",
    "<img src=\"equ2.1.jpg\" width=\"500\"/>\n",
    "</div>"
   ]
  },
  {
   "cell_type": "markdown",
   "id": "7a878b40",
   "metadata": {},
   "source": [
    "## 2.2 단순 논리 회로 (AND, NAND, OR)\n",
    "\n",
    "논리 회로에는 AND, NAND, OR 게이트가 있다. 단순히 이야기하자면, AND는 $y=1$을 조건으로 $x_1$과 $x_2$의 교집합, OR는 합집합, NAND는 AND의 반대 게이트 역할을 한다. 게이트마다 가능한 $w_1$, $w_2$, $\\theta$ 조합은 무한하다.\n",
    "\n",
    "e.g.\n",
    "- AND: $x_1 = 0$, $x_2 = 1$, then $y = 0$\n",
    "- NAND: $x_1 = 1$, $x_2 = 1$, then $y = 0$\n",
    "- OR: $x_1 = 1$, $x_2 = 0$, then $y = 1$"
   ]
  },
  {
   "cell_type": "code",
   "execution_count": 1,
   "id": "2d521eca",
   "metadata": {},
   "outputs": [
    {
     "name": "stdout",
     "output_type": "stream",
     "text": [
      "0\n",
      "0\n",
      "0\n",
      "1\n"
     ]
    }
   ],
   "source": [
    "# AND gate\n",
    "\n",
    "def AND(x1, x2):\n",
    "    w1, w2, theta = 0.5, 0.5, 0.7\n",
    "    tmp = x1*w1 + x2*w2\n",
    "    if tmp <= theta:\n",
    "        return 0\n",
    "    elif tmp > theta:\n",
    "        return 1\n",
    "    \n",
    "print(AND(0, 0))\n",
    "print(AND(1, 0))\n",
    "print(AND(0, 1))\n",
    "print(AND(1, 1))"
   ]
  },
  {
   "cell_type": "markdown",
   "id": "ab5338d0",
   "metadata": {},
   "source": [
    "<div>\n",
    "<img src=\"equ2.2.jpg\" width=\"500\"/>\n",
    "</div>"
   ]
  },
  {
   "cell_type": "markdown",
   "id": "5b89d25c",
   "metadata": {},
   "source": [
    "여기서는 임계값 대신 편향 $b$를 사용했다. 입력 신호에 가중치를 곱한 값과 편향을 합하여 0 이상이면 1을, 그렇지 않다면 0을 출력한다."
   ]
  },
  {
   "cell_type": "code",
   "execution_count": 3,
   "id": "83ac22d2",
   "metadata": {},
   "outputs": [
    {
     "name": "stdout",
     "output_type": "stream",
     "text": [
      "[0.  0.5]\n",
      "0.5\n",
      "-0.19999999999999996\n"
     ]
    }
   ],
   "source": [
    "x = np.array([0, 1])\n",
    "w = np.array([0.5, 0.5])\n",
    "b = -0.7\n",
    "\n",
    "print(w*x)\n",
    "print(np.sum(w*x))\n",
    "print(np.sum(w*x)+b)"
   ]
  },
  {
   "cell_type": "markdown",
   "id": "7ea2fb5c",
   "metadata": {},
   "source": [
    "**가중치 $w$는 입력 신호가 결과에 주는 영향력을 조절**하는 매개변수고, **편향 $b$는 뉴런이 얼마나 쉽게 활성화(1 출력)되는지 조정**하는 매개변수다."
   ]
  },
  {
   "cell_type": "code",
   "execution_count": 11,
   "id": "c254120d",
   "metadata": {},
   "outputs": [],
   "source": [
    "# AND gate using bias\n",
    "\n",
    "def AND(x1, x2):\n",
    "    x = np.array([x1, x2])\n",
    "    w = np.array([0.5, 0.5])\n",
    "    b = -0.7\n",
    "    tmp = np.sum(w*x) + b\n",
    "    if tmp <= 0:\n",
    "        return 0\n",
    "    else:\n",
    "        return 1"
   ]
  },
  {
   "cell_type": "code",
   "execution_count": 9,
   "id": "bc49d04b",
   "metadata": {},
   "outputs": [],
   "source": [
    "# NAND gate using bias\n",
    "\n",
    "def NAND(x1, x2):\n",
    "    x = np.array([x1, x2])\n",
    "    w = np.array([-0.5, -0.5]) # Note that w is reversed\n",
    "    b = 0.7                    # Note that b is reversed\n",
    "    tmp = np.sum(w*x) + b\n",
    "    if tmp <= 0:\n",
    "        return 0\n",
    "    else:\n",
    "        return 1"
   ]
  },
  {
   "cell_type": "code",
   "execution_count": 7,
   "id": "6d413344",
   "metadata": {},
   "outputs": [],
   "source": [
    "# OR gate using bias\n",
    "\n",
    "def OR(x1, x2):\n",
    "    x = np.array([x1, x2])\n",
    "    w = np.array([0.5, 0.5]) # Note that w is different\n",
    "    b = -0.2                 # Note that b is different\n",
    "    tmp = np.sum(w*x) + b\n",
    "    if tmp <= 0:\n",
    "        return 0\n",
    "    else:\n",
    "        return 1"
   ]
  },
  {
   "cell_type": "markdown",
   "id": "f83189b9",
   "metadata": {},
   "source": [
    "## 2.4 퍼셉트론의 한계\n",
    "\n",
    "XOR 게이트는 배타적 논리합으로, $x_1$과 $x_2$ 중 하나가 1일 때만 1을 출력한다. 하나의 퍼셉트론으로 구분할 수 없는 이유는 그림으로 설명 가능하다."
   ]
  },
  {
   "cell_type": "markdown",
   "id": "cc68f0bd",
   "metadata": {},
   "source": [
    "<div>\n",
    "<img src=\"fig2.2.jpg\" width=\"500\"/>\n",
    "</div>"
   ]
  },
  {
   "cell_type": "markdown",
   "id": "aaf1a38e",
   "metadata": {},
   "source": [
    "퍼셉트론은 직선 하나로 영역을 나누는데, XOR 게이트는 그림에서 보이듯 곡선으로만 영역을 나눌 수 있다. 따라서 비선형 영역이기에 하나의 퍼셉트론으로는 구현할 수 없다.\n",
    "\n",
    "이와 같은 논리 회로를 구현하려면 층을 쌓아 **다층 퍼셉트론**을 구현한다:\n",
    "\n",
    "1. $x_1$과 $x_2$를 NAND 게이트로 입력시킨다.\n",
    "2. $x_1$과 $x_2$를 OR 게이트로 입력시킨다. (1과 독립적으로)\n",
    "3. NAND 출력값과 OR 출력값을 AND 게이트로 입력시킨다."
   ]
  },
  {
   "cell_type": "markdown",
   "id": "ddc404cf",
   "metadata": {},
   "source": [
    "<div>\n",
    "<img src=\"fig2.3.jpg\" width=\"500\"/>\n",
    "</div>"
   ]
  },
  {
   "cell_type": "code",
   "execution_count": 12,
   "id": "f5fdb0ae",
   "metadata": {},
   "outputs": [
    {
     "name": "stdout",
     "output_type": "stream",
     "text": [
      "0\n",
      "1\n",
      "1\n",
      "0\n"
     ]
    }
   ],
   "source": [
    "# XOR gate\n",
    "\n",
    "def XOR(x1, x2):\n",
    "    s1 = NAND(x1, x2)\n",
    "    s2 = OR(x1, x2)\n",
    "    y = AND(s1, s2)\n",
    "    return y\n",
    "\n",
    "print(XOR(0, 0))\n",
    "print(XOR(1, 0))\n",
    "print(XOR(0, 1))\n",
    "print(XOR(0, 0))"
   ]
  },
  {
   "cell_type": "markdown",
   "id": "4d14f1a2",
   "metadata": {},
   "source": [
    "## Takeaways:\n",
    "\n",
    "- 퍼셉트론은 입출력을 갖춘 알고리즘이다. 입력을 주면 정해진 규칙에 따른 값을 출력한다.\n",
    "- 퍼셉트론에서는 *가중치*와 *편향*을 매개변수로 설정한다.\n",
    "- 퍼셉트론으로 AND, NAND, OR 게이트 등의 논리 회로를 표현할 수 있다.\n",
    "- XOR 게이트는 단층 퍼셉트론으로는 표현할 수 없다. 2층 퍼셉트론으로 표현할 수 있다.\n",
    "- 단층 퍼셉트론은 직선형 영역만 표현할 수 있고, 다층 퍼셉트론은 비선형 영역도 표현할 수 있다. (다층 퍼셉트론은 이론상 컴퓨터도 표현 가능하다.)"
   ]
  },
  {
   "cell_type": "markdown",
   "id": "18c3f510",
   "metadata": {},
   "source": [
    "# 3. 신경망\n",
    "\n",
    "퍼셉트론으로 복잡한 함수도 표현이 가능하나, 단점은 가중치 설정은 여전히 수동으로 해야 한다는 점이다. 신경망의 경우 해당 단점이 개선된다."
   ]
  },
  {
   "cell_type": "markdown",
   "id": "7562fb74",
   "metadata": {},
   "source": [
    "## 3.1 신경망의 개념"
   ]
  },
  {
   "cell_type": "markdown",
   "id": "7dc41fad",
   "metadata": {},
   "source": [
    "<div>\n",
    "<img src=\"fig3.1.jpg\" width=\"500\"/>\n",
    "</div>"
   ]
  },
  {
   "cell_type": "markdown",
   "id": "1b6ccd00",
   "metadata": {},
   "source": [
    "신경망의 형태는 퍼셉트론과 다르지 않으나, 신호를 보내는 방식이 다양해진다. 편향을 사용했던 퍼셉트론 공식을 다음과 같이 다른 형태로 바꿔 쓸 수 있다."
   ]
  },
  {
   "cell_type": "markdown",
   "id": "97318490",
   "metadata": {},
   "source": [
    "<div>\n",
    "<img src=\"equ3.1.jpg\" width=\"500\"/>\n",
    "</div>"
   ]
  },
  {
   "cell_type": "markdown",
   "id": "10428345",
   "metadata": {},
   "source": [
    "여기서 h(x)를 **활성화 함수**라 칭하며, 해당 함수는 **입력 신호의 총합이 활성화를 일으키는지 판단**한다. 시각화하면 다음과 같이 표현할 수 있다."
   ]
  },
  {
   "cell_type": "markdown",
   "id": "9921637e",
   "metadata": {},
   "source": [
    "<div>\n",
    "<img src=\"equ3.2.jpg\" width=\"500\"/>\n",
    "</div>"
   ]
  },
  {
   "cell_type": "markdown",
   "id": "77e2420a",
   "metadata": {},
   "source": [
    "<div>\n",
    "<img src=\"fig3.2.jpg\" width=\"500\"/>\n",
    "</div>"
   ]
  },
  {
   "cell_type": "markdown",
   "id": "55c47f3d",
   "metadata": {},
   "source": [
    "## 3.2 활성화 함수\n",
    "\n",
    "퍼셉트론에서는 활성화 함수를 **계단 함수**로 사용한다."
   ]
  },
  {
   "cell_type": "code",
   "execution_count": 17,
   "id": "6c97a077",
   "metadata": {},
   "outputs": [],
   "source": [
    "def step_function(x):\n",
    "    return np.array(x>0, dtype=int)"
   ]
  },
  {
   "cell_type": "code",
   "execution_count": 18,
   "id": "b1ecde42",
   "metadata": {},
   "outputs": [
    {
     "data": {
      "image/png": "[encoded data removed]",
      "text/plain": [
       "<Figure size 432x288 with 1 Axes>"
      ]
     },
     "metadata": {
      "needs_background": "light"
     },
     "output_type": "display_data"
    }
   ],
   "source": [
    "# visualize step function\n",
    "\n",
    "x = np.arange(-5.0, 5.0, 0.1)\n",
    "y = step_function(x)\n",
    "plt.plot(x,y)\n",
    "plt.ylim(-0.1, 1.1)\n",
    "plt.show()"
   ]
  },
  {
   "cell_type": "markdown",
   "id": "dc119959",
   "metadata": {},
   "source": [
    "신경망에서는 **시그모이드 함수**를 자주 사용한다."
   ]
  },
  {
   "cell_type": "markdown",
   "id": "df4ddcf9",
   "metadata": {},
   "source": [
    "<div>\n",
    "<img src=\"equ3.3.jpg\" width=\"500\"/>\n",
    "</div>"
   ]
  },
  {
   "cell_type": "code",
   "execution_count": 19,
   "id": "3d817a09",
   "metadata": {},
   "outputs": [],
   "source": [
    "def sigmoid(x):\n",
    "    return 1/(1+np.exp(-x))"
   ]
  },
  {
   "cell_type": "code",
   "execution_count": 20,
   "id": "1cf461fb",
   "metadata": {},
   "outputs": [
    {
     "data": {
      "image/png": "[encoded data removed]",
      "text/plain": [
       "<Figure size 432x288 with 1 Axes>"
      ]
     },
     "metadata": {
      "needs_background": "light"
     },
     "output_type": "display_data"
    }
   ],
   "source": [
    "# visualize sigmoid function\n",
    "\n",
    "x = np.arange(-5.0, 5.0, 0.1)\n",
    "y = sigmoid(x)\n",
    "plt.plot(x,y)\n",
    "plt.ylim(-0.1, 1.1)\n",
    "plt.show()"
   ]
  },
  {
   "cell_type": "markdown",
   "id": "2a821fda",
   "metadata": {},
   "source": [
    "계단 함수와 시그모이드 함수는 **매끄러움**에서 차이가 있다. 즉, 시그모이드 함수를 사용하는 신경망에서는 계단 함수를 사용하는 퍼셉트론과는 다르게 출력이 연속적으로 변화하며 연속적인 실수가 흐른다.\n",
    "\n",
    "한편 중요한 공통점도 있는데, 두 함수 모두 *비선형 함수*다. **신경망에서는 활성화 함수로 비선형 함수를 사용해야 한다.** 선형 함수를 사용한다면 층을 더한다고 하더라도 은닉층이 없는 네트워크로 표현할 수 있기 때문에, 여러 층으로 구성하는 의미가 없기 때문이다.\n",
    "\n",
    "e.g. $h(x) = cx$, then 3rd-layer $y(x) = h(h(h(x))) = c^3 * x$"
   ]
  },
  {
   "cell_type": "markdown",
   "id": "02192ae3",
   "metadata": {},
   "source": [
    "한편, 최근에는 주로 ReLU 함수가 활성화 함수로 사용된다."
   ]
  },
  {
   "cell_type": "markdown",
   "id": "2961aa0b",
   "metadata": {},
   "source": [
    "<div>\n",
    "<img src=\"equ3.4.jpg\" width=\"500\"/>\n",
    "</div>"
   ]
  },
  {
   "cell_type": "code",
   "execution_count": 21,
   "id": "af058c1e",
   "metadata": {},
   "outputs": [],
   "source": [
    "def relu(x):\n",
    "    return np.maximum(0, x)"
   ]
  },
  {
   "cell_type": "code",
   "execution_count": 24,
   "id": "6dd61998",
   "metadata": {},
   "outputs": [
    {
     "data": {
      "image/png": "[encoded data removed]",
      "text/plain": [
       "<Figure size 432x288 with 1 Axes>"
      ]
     },
     "metadata": {
      "needs_background": "light"
     },
     "output_type": "display_data"
    }
   ],
   "source": [
    "# visualize ReLU function\n",
    "\n",
    "x = np.arange(-5.0, 5.0, 0.1)\n",
    "y = relu(x)\n",
    "plt.plot(x,y)\n",
    "plt.ylim(-1.1, 6.1)\n",
    "plt.show()"
   ]
  },
  {
   "cell_type": "markdown",
   "id": "3f1eb870",
   "metadata": {},
   "source": [
    "3층 신경망의 경우 **$A = XW + B$**, 즉 다음 그림과 같이 구현한다."
   ]
  },
  {
   "cell_type": "markdown",
   "id": "a75fdc4d",
   "metadata": {},
   "source": [
    "<div>\n",
    "<img src=\"fig3.3.jpg\" width=\"500\"/>\n",
    "</div>"
   ]
  },
  {
   "cell_type": "markdown",
   "id": "433c024b",
   "metadata": {},
   "source": [
    "첫 두 층 동안은 내적 곱과 이전에 언급했던 활성화 함수(시그모이드)를 사용하며, 출력층에서는 다른 활성화 함수를 사용한다. 출력층에서 사용하는 활성화 함수는 항등 함수이며, **항등 함수는 입력을 그대로 출력하는 함수**다."
   ]
  },
  {
   "cell_type": "code",
   "execution_count": 26,
   "id": "656d80a5",
   "metadata": {},
   "outputs": [],
   "source": [
    "def identity_function(x):\n",
    "    return x"
   ]
  },
  {
   "cell_type": "markdown",
   "id": "351a8465",
   "metadata": {},
   "source": [
    "<div>\n",
    "<img src=\"fig3.4.jpg\" width=\"500\"/>\n",
    "</div>"
   ]
  },
  {
   "cell_type": "code",
   "execution_count": 27,
   "id": "2138ad43",
   "metadata": {},
   "outputs": [
    {
     "name": "stdout",
     "output_type": "stream",
     "text": [
      "[0.31682708 0.69627909]\n"
     ]
    }
   ],
   "source": [
    "# 3-layer neural net\n",
    "\n",
    "# make weight and bias default and save it in a dictionary\n",
    "def init_network():\n",
    "    network = {}\n",
    "    network['W1'] = np.array([[0.1, 0.3, 0.5], [0.2, 0.4, 0.6]])\n",
    "    network['b1'] = np.array([0.1, 0.2, 0.3])\n",
    "    network['W2'] = np.array([[0.1, 0.4], [0.2, 0.5], [0.3, 0.6]])\n",
    "    network['b2'] = np.array([0.1, 0.2])\n",
    "    network['W3'] = np.array([[0.1, 0.3], [0.2, 0.4]])\n",
    "    network['b3'] = np.array([0.1, 0.2])\n",
    "    \n",
    "    return network\n",
    "\n",
    "# forward neural net\n",
    "def forward(network, x):\n",
    "    W1, W2, W3 = network['W1'], network['W2'], network['W3']\n",
    "    b1, b2, b3 = network['b1'], network['b2'], network['b3']\n",
    "    \n",
    "    a1 = np.dot(x, W1) + b1\n",
    "    z1 = sigmoid(a1)\n",
    "    a2 = np.dot(z1, W2) + b2\n",
    "    z2 = sigmoid(a2)\n",
    "    a3 = np.dot(z2, W3) + b3\n",
    "    y = identity_function(a3)\n",
    "    \n",
    "    return y\n",
    "\n",
    "network = init_network()\n",
    "x = np.array([1.0, 0.5])\n",
    "y = forward(network, x)\n",
    "print(y)"
   ]
  },
  {
   "cell_type": "markdown",
   "id": "4bd8bac1",
   "metadata": {},
   "source": [
    "## 3.5 출력층 설계\n",
    "\n",
    "신경망은 분류와 회귀에 모두 사용 가능하며, 분류에 사용되는 출력층 활성화 함수와 회귀에 사용되는 출력층 활성화 함수가 다르다. **회귀에는 항등 함수를, 분류에는 소프트맥스 함수를 사용**한다. 소프트맥스 함수는 다음과 같다. ($n$은 출력층의 뉴런 수, $y_k$는 $k$번째 출력)"
   ]
  },
  {
   "cell_type": "markdown",
   "id": "c616634e",
   "metadata": {},
   "source": [
    "<div>\n",
    "<img src=\"equ3.5.jpg\" width=\"500\"/>\n",
    "</div>"
   ]
  },
  {
   "cell_type": "markdown",
   "id": "e3a7d2c5",
   "metadata": {},
   "source": [
    "<div>\n",
    "<img src=\"fig3.5.jpg\" width=\"500\"/>\n",
    "</div>"
   ]
  },
  {
   "cell_type": "code",
   "execution_count": 18,
   "id": "be3fd7b6",
   "metadata": {},
   "outputs": [
    {
     "name": "stdout",
     "output_type": "stream",
     "text": [
      "[0.01821127 0.24519181 0.73659691]\n"
     ]
    }
   ],
   "source": [
    "def softmax(a):\n",
    "    exp_a = np.exp(a)\n",
    "    sum_exp_a = np.sum(exp_a)\n",
    "    y = exp_a / sum_exp_a\n",
    "    \n",
    "    return y\n",
    "\n",
    "a = np.array([0.3, 2.9, 4.0])\n",
    "print(softmax(a))"
   ]
  },
  {
   "cell_type": "markdown",
   "id": "fbee9c3a",
   "metadata": {},
   "source": [
    "소프트맥스 함수는 오버플로 문제에 취약하다. 지수 함수의 결과값은 기하급수적으로 커지기 때문에 임의의 정수 $C$를 분자와 분모에 곱해준다."
   ]
  },
  {
   "cell_type": "markdown",
   "id": "fca8e2af",
   "metadata": {},
   "source": [
    "<div>\n",
    "<img src=\"equ3.6.jpg\" width=\"500\"/>\n",
    "</div>"
   ]
  },
  {
   "cell_type": "markdown",
   "id": "8932e437",
   "metadata": {},
   "source": [
    "즉, **소프트맥스의 지수 함수를 계산할 때 정수를 더하는 것은 결과에 영향을 미치지 않는다**. 보편적으로 *$C'$의 값은 입력 신호의 최댓값으로 설정*한다."
   ]
  },
  {
   "cell_type": "code",
   "execution_count": 30,
   "id": "81146db0",
   "metadata": {},
   "outputs": [
    {
     "name": "stdout",
     "output_type": "stream",
     "text": [
      "[9.99954600e-01 4.53978686e-05 2.06106005e-09]\n"
     ]
    }
   ],
   "source": [
    "def softmax(a):\n",
    "    c = np.max(a)\n",
    "    exp_a = np.exp(a - c) # fix overflow\n",
    "    sum_exp_a = np.sum(exp_a)\n",
    "    y = exp_a / sum_exp_a\n",
    "    \n",
    "    return y\n",
    "\n",
    "a = np.array([1010, 1000, 990])\n",
    "print(softmax(a))"
   ]
  },
  {
   "cell_type": "markdown",
   "id": "4b76e43b",
   "metadata": {},
   "source": [
    "소프트맥스 함수의 출력은 $[0, 1]$의 범위를 가지며, **출력의 총합은 1**이다. 덕분에 소프트맥스 함수의 출력을 확률로 해석 가능하다."
   ]
  },
  {
   "cell_type": "markdown",
   "id": "e7108773",
   "metadata": {},
   "source": [
    "## 3.6 손글씨 숫자 인식 (실전)\n",
    "\n",
    "**분류 문제에서 출력층의 뉴런 수는 분류하려는 클래스 수와 같도록 한다.**\n",
    "\n",
    "학습된 매개변수를 사용하여 추론하는 과정을 신경망의 **순전파**라고 한다."
   ]
  },
  {
   "cell_type": "code",
   "execution_count": 34,
   "id": "6500da72",
   "metadata": {},
   "outputs": [
    {
     "name": "stdout",
     "output_type": "stream",
     "text": [
      "(60000, 784)\n",
      "(60000,)\n",
      "(10000, 784)\n",
      "(10000,)\n",
      "5\n",
      "(784,)\n",
      "(28, 28)\n"
     ]
    }
   ],
   "source": [
    "sys.path.append(os.pardir)  # 부모 디렉터리의 파일을 가져올 수 있도록 설정\n",
    "from dataset.mnist import load_mnist\n",
    "from PIL import Image\n",
    "\n",
    "def img_show(img):\n",
    "    pil_img = Image.fromarray(np.uint8(img))\n",
    "    pil_img.show()\n",
    "\n",
    "(x_train, t_train), (x_test, t_test) = load_mnist(flatten=True, normalize=False)\n",
    "\n",
    "# print the shape of each data\n",
    "print(x_train.shape)\n",
    "print(t_train.shape)\n",
    "print(x_test.shape)\n",
    "print(t_test.shape)\n",
    "\n",
    "img = x_train[0]\n",
    "label = t_train[0]\n",
    "print(label)  # 5\n",
    "\n",
    "print(img.shape)  # (784,)\n",
    "img = img.reshape(28, 28)  # 형상을 원래 이미지의 크기로 변형\n",
    "print(img.shape)  # (28, 28)\n",
    "\n",
    "img_show(img)"
   ]
  },
  {
   "cell_type": "markdown",
   "id": "719127d0",
   "metadata": {},
   "source": [
    "구현은 이전과 거의 흡사하다."
   ]
  },
  {
   "cell_type": "code",
   "execution_count": 37,
   "id": "1cf71c8c",
   "metadata": {},
   "outputs": [],
   "source": [
    "from common.functions import sigmoid, softmax\n",
    "\n",
    "def get_data():\n",
    "    (x_train, t_train), (x_test, t_test) = load_mnist(normalize=True, flatten=True, one_hot_label=False)\n",
    "    return x_test, t_test\n",
    "\n",
    "\n",
    "# read weights and bias from sample_weight.pkl\n",
    "def init_network():\n",
    "    with open(\"sample_weight.pkl\", 'rb') as f:\n",
    "        network = pickle.load(f)\n",
    "    return network\n",
    "\n",
    "\n",
    "def predict(network, x):\n",
    "    W1, W2, W3 = network['W1'], network['W2'], network['W3']\n",
    "    b1, b2, b3 = network['b1'], network['b2'], network['b3']\n",
    "\n",
    "    a1 = np.dot(x, W1) + b1\n",
    "    z1 = sigmoid(a1)\n",
    "    a2 = np.dot(z1, W2) + b2\n",
    "    z2 = sigmoid(a2)\n",
    "    a3 = np.dot(z2, W3) + b3\n",
    "    y = softmax(a3)\n",
    "\n",
    "    return y"
   ]
  },
  {
   "cell_type": "markdown",
   "id": "eac01512",
   "metadata": {},
   "source": [
    "정확도 계산을 위해 확률이 가장 높은 원소의 인덱스를 분류 레이블로 지정 후 대조한다."
   ]
  },
  {
   "cell_type": "code",
   "execution_count": 39,
   "id": "d0285629",
   "metadata": {},
   "outputs": [
    {
     "name": "stdout",
     "output_type": "stream",
     "text": [
      "Accuracy:0.9352\n"
     ]
    }
   ],
   "source": [
    "x, t = get_data()\n",
    "network = init_network()\n",
    "\n",
    "accuracy_cnt = 0\n",
    "\n",
    "for i in range(len(x)):\n",
    "    y = predict(network, x[i])\n",
    "    p= np.argmax(y) # 확률이 가장 높은 원소의 인덱스를 얻는다.\n",
    "    if p == t[i]:\n",
    "        accuracy_cnt += 1\n",
    "\n",
    "print(\"Accuracy:\" + str(float(accuracy_cnt) / len(x)))"
   ]
  },
  {
   "cell_type": "markdown",
   "id": "cc88240b",
   "metadata": {},
   "source": [
    "1차원 배열을 입력하면 다음과 같은 배열 형상을 보인다."
   ]
  },
  {
   "cell_type": "markdown",
   "id": "762346f4",
   "metadata": {},
   "source": [
    "<div>\n",
    "<img src=\"fig3.6.jpg\" width=\"500\"/>\n",
    "</div>"
   ]
  },
  {
   "cell_type": "markdown",
   "id": "e3bde907",
   "metadata": {},
   "source": [
    "여러 장, 다시 말해 고차원의 배열을 입력할 때 입력 데이터를 한 번에 묶어 처리한다면 출력 데이터도 한 번에 받을 수 있게 된다. 하나로 묶은 입력 데이터를 **배치**라고 한다. 배치 처리는 다음과 같은 형상을 보인다."
   ]
  },
  {
   "cell_type": "markdown",
   "id": "7be72da5",
   "metadata": {},
   "source": [
    "<div>\n",
    "<img src=\"fig3.7.jpg\" width=\"500\"/>\n",
    "</div>"
   ]
  },
  {
   "cell_type": "code",
   "execution_count": 40,
   "id": "d6a9e62b",
   "metadata": {},
   "outputs": [
    {
     "name": "stdout",
     "output_type": "stream",
     "text": [
      "Accuracy:0.9352\n"
     ]
    }
   ],
   "source": [
    "x, t = get_data()\n",
    "network = init_network()\n",
    "\n",
    "batch_size = 100 # 배치 크기\n",
    "accuracy_cnt = 0\n",
    "\n",
    "for i in range(0, len(x), batch_size):\n",
    "    x_batch = x[i:i+batch_size] # batch 길이만큼 잘라서 입력\n",
    "    y_batch = predict(network, x_batch)\n",
    "    p = np.argmax(y_batch, axis=1)\n",
    "    accuracy_cnt += np.sum(p == t[i:i+batch_size])\n",
    "\n",
    "print(\"Accuracy:\" + str(float(accuracy_cnt) / len(x)))"
   ]
  },
  {
   "cell_type": "markdown",
   "id": "713ac77c",
   "metadata": {},
   "source": [
    "데이터를 배치로 처리한다면 더 효율적이고 빠르게 처리할 수 있다."
   ]
  },
  {
   "cell_type": "markdown",
   "id": "3a328680",
   "metadata": {},
   "source": [
    "## Takeaways:\n",
    "\n",
    "- 신경망에서는 활성화 함수로 시그모이드 함수와 ReLU 함수 같은 매끄럽게 변화하는 함수를 이용한다.\n",
    "- 넘파이의 다차원 배열을 잘 사용하면 신경망을 효율적으로 구현할 수 있다.\n",
    "- 기계학습 문제는 크게 회귀와 분류로 나눌 수 있다.\n",
    "- 출력층의 활성화 함수로는 회귀에서는 주로 항등 함수를, 분류에서는 주로 소프트맥스 함수를 이용한다.\n",
    "- 분류에서는 출력층의 뉴런 수로 분류하려는 클래스 수와 같게 설정한다.\n",
    "- 입력 데이터를 묶은 것을 배치라 하며, 추론 처리를 이 배치 단위로 진행하면 결과를 훨씬 빠르게 얻을 수 있다."
   ]
  },
  {
   "cell_type": "markdown",
   "id": "11cb9070",
   "metadata": {},
   "source": [
    "# 4. 신경망 학습\n",
    "\n",
    "신경망 **학습**이란 훈련 데이터로부터 매개변수 $w$, $b$의 최적값을 자동으로 알아내는 것을 뜻한다. 피처를 직접 추출한 후에 학습하는 머신러닝과는 달리 신경망(딥러닝)은 end-to-end 학습, 즉 데이터 그대로를 입력 데이터로 활용해 학습한다."
   ]
  },
  {
   "cell_type": "markdown",
   "id": "0614f2de",
   "metadata": {},
   "source": [
    "## 4.2 손실 함수\n",
    "\n",
    "최적의 매개변수 값을 탐색할 때 사용되는 지표가 **손실 함수**다. 일반적으로는 평균 제곱 오차와 교차 엔트로피 오차를 사용한다. 손실 함수가 높을수록 오답일 가능성이 높다고 판단한다.\n",
    "\n",
    "평균 제곱 오차는 다음과 같다. ($y_k$는 신경망의 출력, $t_k$는 정답 레이블, $k$는 데이터의 차원 수)"
   ]
  },
  {
   "cell_type": "markdown",
   "id": "69b393b4",
   "metadata": {},
   "source": [
    "<div>\n",
    "<img src=\"equ4.1.jpg\" width=\"500\"/>\n",
    "</div>"
   ]
  },
  {
   "cell_type": "code",
   "execution_count": 41,
   "id": "ddba35cb",
   "metadata": {},
   "outputs": [
    {
     "name": "stdout",
     "output_type": "stream",
     "text": [
      "0.09750000000000003\n",
      "\n",
      "0.5975\n"
     ]
    }
   ],
   "source": [
    "def mean_squared_error(y, t):\n",
    "    return 0.5 * np.sum((y-t)**2)\n",
    "\n",
    "# correct answer: 2\n",
    "t = [0, 0, 1, 0, 0, 0, 0, 0, 0, 0]\n",
    "\n",
    "# returns the highest probability for 2\n",
    "y = [0.1, 0.05, 0.6, 0.0, 0.05, 0.1, 0.0, 0.1, 0.0, 0.0]\n",
    "print(mean_squared_error(np.array(y), np.array(t)))\n",
    "print(\"\")\n",
    "\n",
    "# returns the highest probability for 7\n",
    "y = [0.1, 0.05, 0.1, 0.0, 0.05, 0.1, 0.0, 0.6, 0.0, 0.0]\n",
    "print(mean_squared_error(np.array(y), np.array(t)))"
   ]
  },
  {
   "cell_type": "markdown",
   "id": "5d7b367d",
   "metadata": {},
   "source": [
    "교차 엔트로피 오차는 다음과 같다. ($\\log$ = $\\ln$)"
   ]
  },
  {
   "cell_type": "markdown",
   "id": "6baa7eb1",
   "metadata": {},
   "source": [
    "<div>\n",
    "<img src=\"equ4.2.jpg\" width=\"500\"/>\n",
    "</div>"
   ]
  },
  {
   "cell_type": "code",
   "execution_count": 20,
   "id": "b4a50f79",
   "metadata": {},
   "outputs": [
    {
     "name": "stdout",
     "output_type": "stream",
     "text": [
      "0.510825457099338\n",
      "\n",
      "2.302584092994546\n"
     ]
    }
   ],
   "source": [
    "def cross_entropy_error(y, t):\n",
    "    # to prevent log(0) error\n",
    "    delta = 1e-7\n",
    "    return -np.sum(t * np.log(y + delta))\n",
    "\n",
    "# correct answer: 2\n",
    "t = [0, 0, 1, 0, 0, 0, 0, 0, 0, 0]\n",
    "\n",
    "# returns the highest probability for 2\n",
    "y = [0.1, 0.05, 0.6, 0.0, 0.05, 0.1, 0.0, 0.1, 0.0, 0.0]\n",
    "print(cross_entropy_error(np.array(y), np.array(t)))\n",
    "print(\"\")\n",
    "\n",
    "# returns the highest probability for 7\n",
    "y = [0.1, 0.05, 0.1, 0.0, 0.05, 0.1, 0.0, 0.6, 0.0, 0.0]\n",
    "print(cross_entropy_error(np.array(y), np.array(t)))"
   ]
  },
  {
   "cell_type": "markdown",
   "id": "99f8531b",
   "metadata": {},
   "source": [
    "교차 엔트로피 오차는 $\\log$함수를 쓰기 때문에 정답 출력값이 낮을수록 오차가 기하급수적으로 늘어난다.\n",
    "\n",
    "단일 데이터의 손실 함수만 구하는 것보다, **훈련 데이터 모두에 대한 손실 함수의 합을 구하는 경우**가 더 많다. 교차 엔트로피 오차를 사용할 경우 다음과 같다."
   ]
  },
  {
   "cell_type": "markdown",
   "id": "5b75fffb",
   "metadata": {},
   "source": [
    "<div>\n",
    "<img src=\"equ4.3.jpg\" width=\"500\"/>\n",
    "</div>"
   ]
  },
  {
   "cell_type": "markdown",
   "id": "6c23df9a",
   "metadata": {},
   "source": [
    "($N$개의 데이터가 있다고 가정할 때, $t_{nk}$는 $n$번째 데이터의 $k$차원 값이다.) 마지막에 $N$으로 나눔으로써 정규화를 하며, 평균 손실 함수를 구한다.\n",
    "\n",
    "커다란 규모의 데이터의 경우, 모든 데이터의 손실 함수를 계산하는 대신 데이터 일부를 추출해 근사치를 계산, 학습한다. 해당 일부를 **미니배치**라고 한다. \n",
    "(예를 들어, 60,000개의 데이터 중 100개를 무작위로 추출해 사용하여 학습하는 것을 **미니배치 학습**이라고 한다.)"
   ]
  },
  {
   "cell_type": "code",
   "execution_count": 55,
   "id": "8dcca5dd",
   "metadata": {},
   "outputs": [
    {
     "name": "stdout",
     "output_type": "stream",
     "text": [
      "(60000, 784)\n",
      "(60000, 10)\n",
      "\n",
      "(10, 784)\n",
      "(10, 10)\n"
     ]
    }
   ],
   "source": [
    "# by one-hot encoding, get 1 for correct answer and 0 otherwise\n",
    "(x_train, t_train), (x_test, t_test) = load_mnist(normalize=True, one_hot_label=True)\n",
    "\n",
    "print(x_train.shape)\n",
    "print(t_train.shape)\n",
    "print(\"\")\n",
    "\n",
    "# randomly choose 10 from 60000\n",
    "train_size = x_train.shape[0]\n",
    "batch_size = 10\n",
    "batch_mask = np.random.choice(train_size, batch_size)\n",
    "x_batch = x_train[batch_mask]\n",
    "t_batch = t_train[batch_mask]\n",
    "\n",
    "print(x_batch.shape)\n",
    "print(t_batch.shape)"
   ]
  },
  {
   "cell_type": "markdown",
   "id": "b53bf053",
   "metadata": {},
   "source": [
    "One-hot encoding이 된 정답 레이블을 다룰 때, 미니배치용 교차 엔트로피 오차는 다음과 같이 구할 수 있다."
   ]
  },
  {
   "cell_type": "code",
   "execution_count": 56,
   "id": "9fc0df9c",
   "metadata": {},
   "outputs": [],
   "source": [
    "def cross_entropy_error(y, t):\n",
    "    if y_ndim == 1:\n",
    "        t = t.reshape(1, t.size)\n",
    "        y = y.reshape(1, y.size)\n",
    "        \n",
    "    batch_size = y.shape[0]\n",
    "    return -np.sum(t * np.log(y)) / batch_size"
   ]
  },
  {
   "cell_type": "markdown",
   "id": "fd19e884",
   "metadata": {},
   "source": [
    "One-hot encoding 대신 숫자 레이블 (2, 7, etc.)이 주어질 때는 다음과 같이 구할 수 있다."
   ]
  },
  {
   "cell_type": "code",
   "execution_count": 57,
   "id": "69343772",
   "metadata": {},
   "outputs": [],
   "source": [
    "def cross_entropy_error(y, t):\n",
    "    if y.ndim == 1:\n",
    "        t = t.reshape(1, t.size)\n",
    "        y = y.reshape(1, y.size)\n",
    "        \n",
    "    # 훈련 데이터가 원-핫 벡터라면 정답 레이블의 인덱스로 반환\n",
    "    if t.size == y.size:\n",
    "        t = t.argmax(axis=1)\n",
    "             \n",
    "    batch_size = y.shape[0]\n",
    "    return -np.sum(np.log(y[np.arange(batch_size), t] + 1e-7)) / batch_size"
   ]
  },
  {
   "cell_type": "markdown",
   "id": "29f268bc",
   "metadata": {},
   "source": [
    "차이가 있는 이유는 one-hot encoding이 되었을 때는 신경망의 출력(0, 1)만으로 교차 엔트로피를 구할 수 있지만, 숫자 레이블일 경우 각 데이터의 정답 레이블 index의 출력을 받아와야 하기 때문이다.\n",
    "\n",
    "정확도 대신 손실 함수를 지표로 삼는 이유는 **최적화를 진행할 때 미분을 사용하기 때문**이다. 정확도와 달리 손실 함수는 연속적으로 나타낼 수 있다. 따라서 매개변수의 최대 기울기를 계산한 후 손실 함수 값을 최소화할 수 있다. (정확도의 경우, 32%가 나왔다고 가정하면 매개변수를 조금씩 조정해도 정확도는 변하지 않을 것이다. 즉, 미분은 대부분 0이 나오게 된다.)"
   ]
  },
  {
   "cell_type": "code",
   "execution_count": 59,
   "id": "963bc83d",
   "metadata": {},
   "outputs": [],
   "source": [
    "# differentiation (preventing rounding error)\n",
    "def numerical_diff(f, x):\n",
    "    h = 1e-4\n",
    "    return (f(x+h) - f(x-h)) / (2*h)"
   ]
  },
  {
   "cell_type": "code",
   "execution_count": 60,
   "id": "d7219cea",
   "metadata": {},
   "outputs": [
    {
     "data": {
      "image/png": "[encoded data removed]",
      "text/plain": [
       "<Figure size 432x288 with 1 Axes>"
      ]
     },
     "metadata": {
      "needs_background": "light"
     },
     "output_type": "display_data"
    },
    {
     "name": "stdout",
     "output_type": "stream",
     "text": [
      "0.1999999999990898\n",
      "0.2999999999986347\n"
     ]
    }
   ],
   "source": [
    "# example\n",
    "def function_1(x):\n",
    "    return 0.01*x**2 + 0.1*x\n",
    "\n",
    "x = np.arange(0.0, 20.0, 0.1)\n",
    "y = function_1(x)\n",
    "plt.xlabel(\"x\")\n",
    "plt.ylabel(\"f(x)\")\n",
    "plt.plot(x,y)\n",
    "plt.show()\n",
    "\n",
    "print(numerical_diff(function_1, 5))\n",
    "print(numerical_diff(function_1, 10))"
   ]
  },
  {
   "cell_type": "markdown",
   "id": "2b2d8e20",
   "metadata": {},
   "source": [
    "## 4.4 기울기\n",
    "\n",
    "When calculating partial differential equations, we use gradients:"
   ]
  },
  {
   "cell_type": "code",
   "execution_count": 63,
   "id": "ee6645cd",
   "metadata": {},
   "outputs": [],
   "source": [
    "def numerical_gradient(f, x):\n",
    "    h = 1e-4\n",
    "    grad = np.zeros_like(x)\n",
    "    \n",
    "    for idx in range(x.size):\n",
    "        tmp_val = x[idx]\n",
    "        \n",
    "        # calculate f(x+h)\n",
    "        x[idx] = tmp_val + h\n",
    "        fxh1 = f(x)\n",
    "        \n",
    "        # calculate f(x-h)\n",
    "        x[idx] = tmp_val - h\n",
    "        fxh2 = f(x)\n",
    "        \n",
    "        grad[idx] = (fxh1-fxh2) / (2*h)\n",
    "        x[idx] = tmp_val # recover value\n",
    "        \n",
    "    return grad"
   ]
  },
  {
   "cell_type": "code",
   "execution_count": 77,
   "id": "d33ead79",
   "metadata": {},
   "outputs": [
    {
     "name": "stdout",
     "output_type": "stream",
     "text": [
      "[6. 8.]\n",
      "[0. 4.]\n",
      "[6. 0.]\n"
     ]
    }
   ],
   "source": [
    "# example\n",
    "def function_2(x):\n",
    "    return x[0]**2 + x[1]**2\n",
    "\n",
    "# getting a gradient in each point\n",
    "print(numerical_gradient(function_2, np.array([3.0, 4.0])))\n",
    "print(numerical_gradient(function_2, np.array([0.0, 2.0])))\n",
    "print(numerical_gradient(function_2, np.array([3.0, 0.0])))"
   ]
  },
  {
   "cell_type": "code",
   "execution_count": 69,
   "id": "0e8b77d5",
   "metadata": {},
   "outputs": [
    {
     "data": {
      "image/png": "[encoded data removed]",
      "text/plain": [
       "<Figure size 432x288 with 1 Axes>"
      ]
     },
     "metadata": {
      "needs_background": "light"
     },
     "output_type": "display_data"
    }
   ],
   "source": [
    "# source code for visualization\n",
    "\n",
    "from mpl_toolkits.mplot3d import Axes3D\n",
    "\n",
    "\n",
    "def _numerical_gradient_no_batch(f, x):\n",
    "    h = 1e-4 # 0.0001\n",
    "    grad = np.zeros_like(x) # x와 형상이 같은 배열을 생성\n",
    "    \n",
    "    for idx in range(x.size):\n",
    "        tmp_val = x[idx]\n",
    "        \n",
    "        # f(x+h) 계산\n",
    "        x[idx] = float(tmp_val) + h\n",
    "        fxh1 = f(x)\n",
    "        \n",
    "        # f(x-h) 계산\n",
    "        x[idx] = tmp_val - h \n",
    "        fxh2 = f(x) \n",
    "        \n",
    "        grad[idx] = (fxh1 - fxh2) / (2*h)\n",
    "        x[idx] = tmp_val # 값 복원\n",
    "        \n",
    "    return grad\n",
    "\n",
    "\n",
    "def numerical_gradient(f, X):\n",
    "    if X.ndim == 1:\n",
    "        return _numerical_gradient_no_batch(f, X)\n",
    "    else:\n",
    "        grad = np.zeros_like(X)\n",
    "        \n",
    "        for idx, x in enumerate(X):\n",
    "            grad[idx] = _numerical_gradient_no_batch(f, x)\n",
    "        \n",
    "        return grad\n",
    "\n",
    "\n",
    "def tangent_line(f, x):\n",
    "    d = numerical_gradient(f, x)\n",
    "    print(d)\n",
    "    y = f(x) - d*x\n",
    "    return lambda t: d*t + y\n",
    "     \n",
    "if __name__ == '__main__':\n",
    "    x0 = np.arange(-2, 2.5, 0.25)\n",
    "    x1 = np.arange(-2, 2.5, 0.25)\n",
    "    X, Y = np.meshgrid(x0, x1)\n",
    "    \n",
    "    X = X.flatten()\n",
    "    Y = Y.flatten()\n",
    "    \n",
    "    grad = numerical_gradient(function_2, np.array([X, Y]) )\n",
    "    \n",
    "    plt.figure()\n",
    "    plt.quiver(X, Y, -grad[0], -grad[1],  angles=\"xy\",color=\"#666666\")#,headwidth=10,scale=40,color=\"#444444\")\n",
    "    plt.xlim([-2, 2])\n",
    "    plt.ylim([-2, 2])\n",
    "    plt.xlabel('x0')\n",
    "    plt.ylabel('x1')\n",
    "    plt.grid()\n",
    "    plt.draw()\n",
    "    plt.show()"
   ]
  },
  {
   "cell_type": "markdown",
   "id": "5af01e06",
   "metadata": {},
   "source": [
    "위 시각화 그래프에서 기울기가 가리키는 쪽은 각 장소에서 **함수의 출력 값을 가장 줄이는 방향**이다.\n",
    "\n",
    "경사 하강법은 다음과 같이 나타낼 수 있다."
   ]
  },
  {
   "cell_type": "markdown",
   "id": "ffa3bb5f",
   "metadata": {},
   "source": [
    "<div>\n",
    "<img src=\"equ4.4.jpg\" width=\"500\"/>\n",
    "</div>"
   ]
  },
  {
   "cell_type": "markdown",
   "id": "bd02704b",
   "metadata": {},
   "source": [
    "해당 식은 1회 갱신량을 보여주며, 갱신량은 **학습률**이라고 표현한다. 학습률 값은 미리 지정하며, 학습률 값을 변경하면서 학습이 제대로 되고 있는지 확인한다."
   ]
  },
  {
   "cell_type": "code",
   "execution_count": 75,
   "id": "bee31b79",
   "metadata": {},
   "outputs": [],
   "source": [
    "def gradient_descent(f, init_x, lr=0.01, step_num=100):\n",
    "    x = init_x\n",
    "    \n",
    "    for i in range(step_num):\n",
    "        grad = numerical_gradient(f, x)\n",
    "        x -= lr * grad\n",
    "    return x"
   ]
  },
  {
   "cell_type": "code",
   "execution_count": 68,
   "id": "4dc584d3",
   "metadata": {},
   "outputs": [
    {
     "name": "stdout",
     "output_type": "stream",
     "text": [
      "[-6.11110793e-10  8.14814391e-10]\n"
     ]
    }
   ],
   "source": [
    "# example\n",
    "init_x = np.array([-3.0, 4.0])\n",
    "print(gradient_descent(function_2, init_x, lr=0.1, step_num=100))"
   ]
  },
  {
   "cell_type": "code",
   "execution_count": 73,
   "id": "393f7fdc",
   "metadata": {},
   "outputs": [
    {
     "data": {
      "image/png": "[encoded data removed]",
      "text/plain": [
       "<Figure size 432x288 with 1 Axes>"
      ]
     },
     "metadata": {
      "needs_background": "light"
     },
     "output_type": "display_data"
    }
   ],
   "source": [
    "# source code for visualization\n",
    "\n",
    "from gradient_2d import numerical_gradient\n",
    "\n",
    "\n",
    "def gradient_descent(f, init_x, lr=0.01, step_num=100):\n",
    "    x = init_x\n",
    "    x_history = []\n",
    "\n",
    "    for i in range(step_num):\n",
    "        x_history.append( x.copy() )\n",
    "\n",
    "        grad = numerical_gradient(f, x)\n",
    "        x -= lr * grad\n",
    "\n",
    "    return x, np.array(x_history)\n",
    "\n",
    "init_x = np.array([-3.0, 4.0])\n",
    "\n",
    "x, x_history = gradient_descent(function_2, init_x, lr=0.1, step_num=20)\n",
    "\n",
    "plt.plot( [-5, 5], [0,0], '--b')\n",
    "plt.plot( [0,0], [-5, 5], '--b')\n",
    "plt.plot(x_history[:,0], x_history[:,1], 'o')\n",
    "\n",
    "plt.xlim(-3.5, 3.5)\n",
    "plt.ylim(-4.5, 4.5)\n",
    "plt.xlabel(\"X0\")\n",
    "plt.ylabel(\"X1\")\n",
    "plt.show()"
   ]
  },
  {
   "cell_type": "markdown",
   "id": "17d69955",
   "metadata": {},
   "source": [
    "학습률이 너무 크면 값도 크고, 너무 작으면 거의 갱신되지 않는다. 학습률이 극단적인 값이면 다음과 같은 문제가 발생한다."
   ]
  },
  {
   "cell_type": "code",
   "execution_count": 79,
   "id": "544fdaff",
   "metadata": {},
   "outputs": [
    {
     "name": "stdout",
     "output_type": "stream",
     "text": [
      "[-2.58983747e+13 -1.29524862e+12]\n",
      "[-2.99999994  3.99999992]\n"
     ]
    }
   ],
   "source": [
    "init_x = np.array([-3.0, 4.0])\n",
    "print(gradient_descent(function_2, init_x, lr=10.0, step_num=100))\n",
    "\n",
    "init_x = np.array([-3.0, 4.0])\n",
    "print(gradient_descent(function_2, init_x, lr=1e-10, step_num=100))"
   ]
  },
  {
   "cell_type": "markdown",
   "id": "6a8053be",
   "metadata": {},
   "source": [
    "신경망에서도 기울기를 구하곤 한다. $2\\times3$의 형태를 가지며 가중치가 $W$, 손실 함수가 $L$일 때 경사는 편미분인 $\\frac{\\partial L}{\\partial W}$로 나타낼 수 있다. 각 원소의 편미분을 구하는 것이며, $\\frac{\\partial L}{\\partial W}$ 역시 $W$와 같은 형태를 가진다."
   ]
  },
  {
   "cell_type": "code",
   "execution_count": 80,
   "id": "863582df",
   "metadata": {},
   "outputs": [
    {
     "name": "stdout",
     "output_type": "stream",
     "text": [
      "[[ 0.07222616  0.47662636 -0.54885252]\n",
      " [ 0.10833923  0.71493955 -0.82327878]]\n"
     ]
    }
   ],
   "source": [
    "from common.functions import softmax, cross_entropy_error\n",
    "from common.gradient import numerical_gradient\n",
    "\n",
    "\n",
    "class simpleNet:\n",
    "    def __init__(self):\n",
    "        self.W = np.random.randn(2,3) # 정규분포로 초기화\n",
    "\n",
    "    def predict(self, x):\n",
    "        return np.dot(x, self.W)\n",
    "\n",
    "    def loss(self, x, t):\n",
    "        z = self.predict(x)\n",
    "        y = softmax(z)\n",
    "        loss = cross_entropy_error(y, t)\n",
    "\n",
    "        return loss\n",
    "\n",
    "x = np.array([0.6, 0.9])\n",
    "t = np.array([0, 0, 1])\n",
    "\n",
    "net = simpleNet()\n",
    "\n",
    "f = lambda w: net.loss(x, t)\n",
    "dW = numerical_gradient(f, net.W)\n",
    "\n",
    "print(dW)"
   ]
  },
  {
   "cell_type": "markdown",
   "id": "fef3cd5d",
   "metadata": {},
   "source": [
    "## 4.5 학습 알고리즘 구현하기\n",
    "\n",
    "신경망 학습의 절차는 다음과 같다.\n",
    "\n",
    "1. 미니배치 (미니배치로 무작위로 선정하기 때문에 **확률적 경사 하강법[SGD]**라고 불린다.)\n",
    "2. 기울기 산출\n",
    "3. 매개변수 갱신\n",
    "4. 반복\n",
    "\n",
    "2층 신경망 클래스는 다음과 같이 구현한다."
   ]
  },
  {
   "cell_type": "code",
   "execution_count": 58,
   "id": "78fac516",
   "metadata": {},
   "outputs": [],
   "source": [
    "from common.functions import *\n",
    "from common.gradient import numerical_gradient\n",
    "\n",
    "\n",
    "class TwoLayerNet:\n",
    "\n",
    "    def __init__(self, input_size, hidden_size, output_size, weight_init_std=0.01):\n",
    "        # 가중치 초기화\n",
    "        self.params = {}\n",
    "        self.params['W1'] = weight_init_std * np.random.randn(input_size, hidden_size)\n",
    "        self.params['b1'] = np.zeros(hidden_size)\n",
    "        self.params['W2'] = weight_init_std * np.random.randn(hidden_size, output_size)\n",
    "        self.params['b2'] = np.zeros(output_size)\n",
    "\n",
    "    # 예측 수행\n",
    "    def predict(self, x):\n",
    "        W1, W2 = self.params['W1'], self.params['W2']\n",
    "        b1, b2 = self.params['b1'], self.params['b2']\n",
    "    \n",
    "        a1 = np.dot(x, W1) + b1\n",
    "        z1 = sigmoid(a1)\n",
    "        a2 = np.dot(z1, W2) + b2\n",
    "        y = softmax(a2)\n",
    "        \n",
    "        return y\n",
    "    \n",
    "    # 손실 함수 값 구하기\n",
    "    # x : 입력 데이터, t : 정답 레이블\n",
    "    def loss(self, x, t):\n",
    "        y = self.predict(x)\n",
    "        \n",
    "        return cross_entropy_error(y, t)\n",
    "    \n",
    "    # 정확도 구하기\n",
    "    def accuracy(self, x, t):\n",
    "        y = self.predict(x)\n",
    "        y = np.argmax(y, axis=1)\n",
    "        t = np.argmax(t, axis=1)\n",
    "        \n",
    "        accuracy = np.sum(y == t) / float(x.shape[0])\n",
    "        return accuracy\n",
    "    \n",
    "    # 가중치 매개변수의 기울기 구하기\n",
    "    # x : 입력 데이터, t : 정답 레이블\n",
    "    def numerical_gradient(self, x, t):\n",
    "        loss_W = lambda W: self.loss(x, t)\n",
    "        \n",
    "        grads = {}\n",
    "        grads['W1'] = numerical_gradient(loss_W, self.params['W1'])\n",
    "        grads['b1'] = numerical_gradient(loss_W, self.params['b1'])\n",
    "        grads['W2'] = numerical_gradient(loss_W, self.params['W2'])\n",
    "        grads['b2'] = numerical_gradient(loss_W, self.params['b2'])\n",
    "        \n",
    "        return grads\n",
    "    \n",
    "    # 오차역전파법을 사용해 빠르게 기울기 구하기 (다음 챕터에 후술)\n",
    "    def gradient(self, x, t):\n",
    "        W1, W2 = self.params['W1'], self.params['W2']\n",
    "        b1, b2 = self.params['b1'], self.params['b2']\n",
    "        grads = {}\n",
    "        \n",
    "        batch_num = x.shape[0]\n",
    "        \n",
    "        # forward\n",
    "        a1 = np.dot(x, W1) + b1\n",
    "        z1 = sigmoid(a1)\n",
    "        a2 = np.dot(z1, W2) + b2\n",
    "        y = softmax(a2)\n",
    "        \n",
    "        # backward\n",
    "        dy = (y - t) / batch_num\n",
    "        grads['W2'] = np.dot(z1.T, dy)\n",
    "        grads['b2'] = np.sum(dy, axis=0)\n",
    "        \n",
    "        da1 = np.dot(dy, W2.T)\n",
    "        dz1 = sigmoid_grad(a1) * da1\n",
    "        grads['W1'] = np.dot(x.T, dz1)\n",
    "        grads['b1'] = np.sum(dz1, axis=0)\n",
    "\n",
    "        return grads"
   ]
  },
  {
   "cell_type": "markdown",
   "id": "25f08366",
   "metadata": {},
   "source": [
    "상기한 미니배치 학습을 활용해보자."
   ]
  },
  {
   "cell_type": "code",
   "execution_count": 59,
   "id": "a77904bb",
   "metadata": {},
   "outputs": [
    {
     "data": {
      "image/png": "[encoded data removed]",
      "text/plain": [
       "<Figure size 432x288 with 1 Axes>"
      ]
     },
     "metadata": {
      "needs_background": "light"
     },
     "output_type": "display_data"
    }
   ],
   "source": [
    "from dataset.mnist import load_mnist\n",
    "\n",
    "# 데이터 읽기\n",
    "(x_train, t_train), (x_test, t_test) = load_mnist(normalize=True, one_hot_label=True)\n",
    "\n",
    "network = TwoLayerNet(input_size=784, hidden_size=50, output_size=10)\n",
    "\n",
    "# 하이퍼파라미터\n",
    "iters_num = 10000  # 반복 횟수를 적절히 설정한다.\n",
    "train_size = x_train.shape[0]\n",
    "batch_size = 100   # 미니배치 크기\n",
    "learning_rate = 0.1\n",
    "\n",
    "train_loss_list = []\n",
    "train_acc_list = []\n",
    "test_acc_list = []\n",
    "\n",
    "# 1에폭당 반복 수\n",
    "iter_per_epoch = max(train_size / batch_size, 1)\n",
    "\n",
    "for i in range(iters_num):\n",
    "    # 미니배치 획득\n",
    "    batch_mask = np.random.choice(train_size, batch_size)\n",
    "    x_batch = x_train[batch_mask]\n",
    "    t_batch = t_train[batch_mask]\n",
    "    \n",
    "    # 기울기 계산\n",
    "    #grad = network.numerical_gradient(x_batch, t_batch)\n",
    "    grad = network.gradient(x_batch, t_batch)\n",
    "    \n",
    "    # 매개변수 갱신\n",
    "    for key in ('W1', 'b1', 'W2', 'b2'):\n",
    "        network.params[key] -= learning_rate * grad[key]\n",
    "    \n",
    "    # 학습 경과 기록\n",
    "    loss = network.loss(x_batch, t_batch)\n",
    "    train_loss_list.append(loss)\n",
    "    \n",
    "    # 1에폭당 정확도 계산\n",
    "    if i % iter_per_epoch == 0:\n",
    "        train_acc = network.accuracy(x_train, t_train)\n",
    "        test_acc = network.accuracy(x_test, t_test)\n",
    "        train_acc_list.append(train_acc)\n",
    "        test_acc_list.append(test_acc)\n",
    "#         print(\"train acc, test acc | \" + str(train_acc) + \", \" + str(test_acc))\n",
    "\n",
    "# 그래프 그리기\n",
    "markers = {'train': 'o', 'test': 's'}\n",
    "x = np.arange(len(train_acc_list))\n",
    "plt.plot(x, train_acc_list, label='train acc')\n",
    "plt.plot(x, test_acc_list, label='test acc', linestyle='--')\n",
    "plt.xlabel(\"epochs\")\n",
    "plt.ylabel(\"accuracy\")\n",
    "plt.ylim(0, 1.0)\n",
    "plt.legend(loc='lower right')\n",
    "plt.show()"
   ]
  },
  {
   "cell_type": "markdown",
   "id": "122731f0",
   "metadata": {},
   "source": [
    "에폭이 증가할수록 학습 정확도도 증가했으며, 훈련 데이터와 시험 데이터의 정확도가 거의 일치하므로 오버피팅은 일어나지 않았다."
   ]
  },
  {
   "cell_type": "markdown",
   "id": "f16fdd83",
   "metadata": {},
   "source": [
    "## Takeaways:\n",
    "\n",
    "- 기계학습에서 사용하는 데이터셋은 훈련 데이터와 시험 데이터로 나눠 사용한다.\n",
    "- 훈련 데이터에서 학습한 모델의 범용 능력을 시험 데이터로 평가한다.\n",
    "- 신경망 학습은 손실 함수를 지표로, 손실 함수의 값이 작아지는 방향으로 가중치 매개변수를 갱신한다.\n",
    "- 가중치 매개변수를 갱신할 때는 가중치 매개변수의 기울기를 이용하고, 기울어진 방향으로 가중치의 값을 갱신하는 작업을 반복한다.\n",
    "- 아주 작은 값을 주었을 때의 차분으로 미분을 구하는 것을 수치 미분이라고 한다.\n",
    "- 수치 미분을 이용해 가중치 매개변수의 기울기를 구할 수 있다.\n",
    "- 수치 미분을 이용한 계산에는 시간이 걸리지만, 그 구현은 간단하다. (다음 장에서 구현하는 다소 복잡한 오차역전파법은 기울기를 고속으로 구할 수 있다.)"
   ]
  },
  {
   "cell_type": "markdown",
   "id": "fc866de4",
   "metadata": {},
   "source": [
    "# 5. 오차역전파법\n",
    "\n",
    "상기했듯 수치 미분을 활용해 매개변수의 기울기를 구하는 것은 구현이 쉬우나 시간이 오래 걸린다. **오차역전파법**의 경우, 구현은 보다 복잡하지만 효율적으로 기울기를 구할 수 있다.\n",
    "\n",
    "역전파는 계산 그래프로 쉽게 시각적으로 나타낼 수 있으며, 국소적 계산에 집중해 복잡한 계산 과정을 보다 간단히 할 수 있다. Chain Rule도 역전파로 사용할 수 있다."
   ]
  },
  {
   "cell_type": "markdown",
   "id": "8f8824ef",
   "metadata": {},
   "source": [
    "<div>\n",
    "<img src=\"fig5.1.jpg\" width=\"500\"/>\n",
    "</div>"
   ]
  },
  {
   "cell_type": "markdown",
   "id": "b61ff7fc",
   "metadata": {},
   "source": [
    "<div>\n",
    "<img src=\"fig5.2.jpg\" width=\"500\"/>\n",
    "</div>"
   ]
  },
  {
   "cell_type": "markdown",
   "id": "e0d694d9",
   "metadata": {},
   "source": [
    "**덧셈 노드의 역전파**는 다음과 같다. $z = x + y$라고 가정할 때, $\\frac{\\partial z}{\\partial x}=1$, $\\frac{\\partial z}{\\partial y}=1$이 된다. (예제에서는 역전파 때 상류에서 1.3 값이 흘러온다고 가정하자.)"
   ]
  },
  {
   "cell_type": "markdown",
   "id": "c8569df6",
   "metadata": {},
   "source": [
    "<div>\n",
    "<img src=\"fig5.3.jpg\" width=\"500\"/>\n",
    "</div>"
   ]
  },
  {
   "cell_type": "markdown",
   "id": "fb037667",
   "metadata": {},
   "source": [
    "<div>\n",
    "<img src=\"fig5.4.jpg\" width=\"500\"/>\n",
    "</div>"
   ]
  },
  {
   "cell_type": "markdown",
   "id": "2b2f887e",
   "metadata": {},
   "source": [
    "**곱셈 노드의 역전파**는 다음과 같다. $z = xy$라고 가정할 때, $\\frac{\\partial z}{\\partial x}=y$, $\\frac{\\partial z}{\\partial y}=x$이 된다. (예제에서는 역전파 때 상류에서 1.3 값이 흘러온다고 가정하자.)"
   ]
  },
  {
   "cell_type": "markdown",
   "id": "46f5f7a3",
   "metadata": {},
   "source": [
    "<div>\n",
    "<img src=\"fig5.5.jpg\" width=\"500\"/>\n",
    "</div>"
   ]
  },
  {
   "cell_type": "markdown",
   "id": "3d34cd53",
   "metadata": {},
   "source": [
    "<div>\n",
    "<img src=\"fig5.6.jpg\" width=\"500\"/>\n",
    "</div>"
   ]
  },
  {
   "cell_type": "markdown",
   "id": "1e900425",
   "metadata": {},
   "source": [
    "순전파의 입력 신호를 유지해야 곱셈 노드 역전파가 가능하다.\n",
    "\n",
    "다음 예제를 보자. (옅은 화살표가 순전파, 짙은 화살표가 역전파다.)"
   ]
  },
  {
   "cell_type": "markdown",
   "id": "dc460c69",
   "metadata": {},
   "source": [
    "<div>\n",
    "<img src=\"fig5.7.jpg\" width=\"500\"/>\n",
    "</div>"
   ]
  },
  {
   "cell_type": "markdown",
   "id": "b7b3d146",
   "metadata": {},
   "source": [
    "위 예제에서 얻을 수 있는 결론은 다음과 같다.\n",
    "\n",
    "- 사과 가격에 대한 지불 금액의 미분 값은 2.2다.\n",
    "- 사과가 1원 오르면 최종 금액은 2.2원 오른다. ($x$원 오르면 $2.2x$원 오른다.)\n",
    "- 소비세와 사과 가격이 같은 양만큼 오르면 최종 금액에는 소비세가 200만큼, 사과 가격이 2.2만큼 영향을 준다. (단위가 다르다는 것에 유념. 소비세의 1은 100%, 사과 가격의 1은 1원이다.)"
   ]
  },
  {
   "cell_type": "code",
   "execution_count": 86,
   "id": "bb651d08",
   "metadata": {},
   "outputs": [],
   "source": [
    "# 곱셈 계층\n",
    "class MulLayer:\n",
    "    # x와 y 초기화\n",
    "    def __init__(self):\n",
    "        self.x = None\n",
    "        self.y = None\n",
    "\n",
    "    # 순전파 처리\n",
    "    def forward(self, x, y):\n",
    "        self.x = x\n",
    "        self.y = y                \n",
    "        out = x * y\n",
    "\n",
    "        return out\n",
    "\n",
    "    # 역전파 처리\n",
    "    def backward(self, dout):\n",
    "        dx = dout * self.y  # x와 y를 바꾼다.\n",
    "        dy = dout * self.x\n",
    "\n",
    "        return dx, dy\n",
    "\n",
    "# 덧셈 계층\n",
    "class AddLayer:\n",
    "    def __init__(self):\n",
    "        pass\n",
    "\n",
    "    def forward(self, x, y):\n",
    "        out = x + y\n",
    "\n",
    "        return out\n",
    "\n",
    "    def backward(self, dout):\n",
    "        dx = dout * 1\n",
    "        dy = dout * 1\n",
    "\n",
    "        return dx, dy"
   ]
  },
  {
   "cell_type": "code",
   "execution_count": 88,
   "id": "9a8fd44c",
   "metadata": {},
   "outputs": [
    {
     "name": "stdout",
     "output_type": "stream",
     "text": [
      "price: 220\n",
      "dApple: 2.2\n",
      "dApple_num: 110\n",
      "dTax: 200\n"
     ]
    }
   ],
   "source": [
    "# 사과 예제 구현\n",
    "apple = 100\n",
    "apple_num = 2\n",
    "tax = 1.1\n",
    "\n",
    "mul_apple_layer = MulLayer()\n",
    "mul_tax_layer = MulLayer()\n",
    "\n",
    "# forward\n",
    "apple_price = mul_apple_layer.forward(apple, apple_num)\n",
    "price = mul_tax_layer.forward(apple_price, tax)\n",
    "\n",
    "# backward\n",
    "dprice = 1\n",
    "dapple_price, dtax = mul_tax_layer.backward(dprice)\n",
    "dapple, dapple_num = mul_apple_layer.backward(dapple_price)\n",
    "\n",
    "print(\"price:\", int(price))\n",
    "print(\"dApple:\", dapple)\n",
    "print(\"dApple_num:\", int(dapple_num))\n",
    "print(\"dTax:\", dtax)"
   ]
  },
  {
   "cell_type": "markdown",
   "id": "6b4c57bf",
   "metadata": {},
   "source": [
    "다음 예제도 구현 가능하다."
   ]
  },
  {
   "cell_type": "markdown",
   "id": "a05aaf92",
   "metadata": {},
   "source": [
    "<div>\n",
    "<img src=\"fig5.8.jpg\" width=\"500\"/>\n",
    "</div>"
   ]
  },
  {
   "cell_type": "code",
   "execution_count": 90,
   "id": "8921cdc6",
   "metadata": {},
   "outputs": [
    {
     "name": "stdout",
     "output_type": "stream",
     "text": [
      "price: 715\n",
      "dApple: 2.2\n",
      "dApple_num: 110\n",
      "dOrange: 3.3000000000000003\n",
      "dOrange_num: 165\n",
      "dTax: 650\n"
     ]
    }
   ],
   "source": [
    "apple = 100\n",
    "apple_num = 2\n",
    "orange = 150\n",
    "orange_num = 3\n",
    "tax = 1.1\n",
    "\n",
    "# layer\n",
    "mul_apple_layer = MulLayer()\n",
    "mul_orange_layer = MulLayer()\n",
    "add_apple_orange_layer = AddLayer()\n",
    "mul_tax_layer = MulLayer()\n",
    "\n",
    "# forward\n",
    "apple_price = mul_apple_layer.forward(apple, apple_num)  # (1)\n",
    "orange_price = mul_orange_layer.forward(orange, orange_num)  # (2)\n",
    "all_price = add_apple_orange_layer.forward(apple_price, orange_price)  # (3)\n",
    "price = mul_tax_layer.forward(all_price, tax)  # (4)\n",
    "\n",
    "# backward\n",
    "dprice = 1\n",
    "dall_price, dtax = mul_tax_layer.backward(dprice)  # (4)\n",
    "dapple_price, dorange_price = add_apple_orange_layer.backward(dall_price)  # (3)\n",
    "dorange, dorange_num = mul_orange_layer.backward(dorange_price)  # (2)\n",
    "dapple, dapple_num = mul_apple_layer.backward(dapple_price)  # (1)\n",
    "\n",
    "print(\"price:\", int(price))\n",
    "print(\"dApple:\", dapple)\n",
    "print(\"dApple_num:\", int(dapple_num))\n",
    "print(\"dOrange:\", dorange)\n",
    "print(\"dOrange_num:\", int(dorange_num))\n",
    "print(\"dTax:\", dtax)"
   ]
  },
  {
   "cell_type": "markdown",
   "id": "ee1e6aa9",
   "metadata": {},
   "source": [
    "## 5.5 활성화 함수 계층 구현\n",
    "\n",
    "ReLU 함수의 경우, 미분 $\\frac{\\partial y}{\\partial x}$는 입력 $x$가 양수일 경우 1, 0 이하일 경우 0을 반환한다. 계산 그래프로 나타내면 다음과 같다."
   ]
  },
  {
   "cell_type": "markdown",
   "id": "10d6bcd6",
   "metadata": {},
   "source": [
    "<div>\n",
    "<img src=\"fig5.9.jpg\" width=\"500\"/>\n",
    "</div>"
   ]
  },
  {
   "cell_type": "markdown",
   "id": "69e6f619",
   "metadata": {},
   "source": [
    "파이썬으로 구현하면 다음과 같다. (mask 변수는 bool type으로, $x\\leq0$일 경우 True, $x>0$일 경우 False다."
   ]
  },
  {
   "cell_type": "code",
   "execution_count": 11,
   "id": "9191f2dc",
   "metadata": {},
   "outputs": [
    {
     "name": "stdout",
     "output_type": "stream",
     "text": [
      "[[ 1.  -0.5]\n",
      " [-2.   3. ]]\n",
      "\n",
      "[[False  True]\n",
      " [ True False]]\n"
     ]
    }
   ],
   "source": [
    "class Relu:\n",
    "    def __init__(self):\n",
    "        self.mask = None\n",
    "\n",
    "    def forward(self, x):\n",
    "        self.mask = (x <= 0)\n",
    "        out = x.copy()\n",
    "        out[self.mask] = 0\n",
    "\n",
    "        return out\n",
    "\n",
    "    def backward(self, dout):\n",
    "        dout[self.mask] = 0\n",
    "        dx = dout\n",
    "\n",
    "        return dx\n",
    "    \n",
    "# mask 작동 원리 확인\n",
    "x = np.array([[1.0, -0.5], [-2.0, 3.0]])\n",
    "mask = (x <= 0)\n",
    "print(x)\n",
    "print(\"\")\n",
    "print(mask)"
   ]
  },
  {
   "cell_type": "markdown",
   "id": "1e33d48b",
   "metadata": {},
   "source": [
    "Sigmoid 함수의 경우 곱셈과 덧셈 노드 외에도 exp노드와 나눗셈 노드가 존재한다. 미분하면 입력 값이 $\\frac{\\partial L}{\\partial y}$일 때, 마지막 출력 값은 $\\frac{\\partial y}{\\partial x} y^2 \\exp(-x)=\\frac{\\partial y}{\\partial x} y(1-y)$가 된다."
   ]
  },
  {
   "cell_type": "markdown",
   "id": "d68b1c4e",
   "metadata": {},
   "source": [
    "<div>\n",
    "<img src=\"fig5.10.jpg\" width=\"500\"/>\n",
    "</div>"
   ]
  },
  {
   "cell_type": "markdown",
   "id": "0d14375a",
   "metadata": {},
   "source": [
    "다시 말해, 순전파의 출력 y만으로도 sigmoid의 역전파를 계산할 수 있다.\n",
    "\n",
    "파이썬으로 구현하면 다음과 같다."
   ]
  },
  {
   "cell_type": "code",
   "execution_count": 9,
   "id": "87708ba7",
   "metadata": {},
   "outputs": [],
   "source": [
    "class Sigmoid:\n",
    "    def __init__(self):\n",
    "        self.out = None\n",
    "\n",
    "    def forward(self, x):\n",
    "        out = sigmoid(x)\n",
    "        self.out = out\n",
    "        return out\n",
    "\n",
    "    def backward(self, dout):\n",
    "        dx = dout * (1.0 - self.out) * self.out\n",
    "\n",
    "        return dx"
   ]
  },
  {
   "cell_type": "markdown",
   "id": "1988efef",
   "metadata": {},
   "source": [
    "행렬의 내적(dot product)을 **어파인 변환**이라고 하며, 어파인 변환을 수행하는 처리는 어파인 계층에서 이뤄진다. 단순 값이 아니라 행렬, 즉 다차원 배열이라는 점에서 계산 그래프를 이해할 때 유념해야 한다."
   ]
  },
  {
   "cell_type": "markdown",
   "id": "206c0179",
   "metadata": {},
   "source": [
    "<div>\n",
    "<img src=\"fig5.11.jpg\" width=\"500\"/>\n",
    "</div>"
   ]
  },
  {
   "cell_type": "markdown",
   "id": "31c80c98",
   "metadata": {},
   "source": [
    "내적에서 유의해야 할 점은 행렬의 형상이다. 예를 들어, $\\textbf{X}$의 경우 $\\frac{\\partial L}{\\partial \\textbf{X}}$와 형상이 같다. $\\textbf{W}$와 $\\frac{\\partial L}{\\partial \\textbf{W}}$도 마찬가지다.\n",
    "\n",
    "입력 데이터를 $N$개로 묶어 순전파하는, 배치용 어파인 계층의 경우 다음과 같다."
   ]
  },
  {
   "cell_type": "markdown",
   "id": "c8c8bf6f",
   "metadata": {},
   "source": [
    "<div>\n",
    "<img src=\"fig5.12.jpg\" width=\"500\"/>\n",
    "</div>"
   ]
  },
  {
   "cell_type": "markdown",
   "id": "cba0dec8",
   "metadata": {},
   "source": [
    "단순히 편향을 더한다면 $N$개 데이터 전부에 편향이 더해지므로, 역전파를 할 때는 각 데이터의 역전파 값이 편향의 원소에 모여야 한다. 즉, 단순히 array `B`를 더하는 것이 아니라 배치 2개가 묶인 array `dY`의 편향을 `np.sum(DY, axis=0)`으로 구한다."
   ]
  },
  {
   "cell_type": "code",
   "execution_count": 15,
   "id": "7c9c24bc",
   "metadata": {},
   "outputs": [],
   "source": [
    "class Affine:\n",
    "    def __init__(self, W, b):\n",
    "        self.W = W\n",
    "        self.b = b\n",
    "        \n",
    "        self.x = None\n",
    "        self.original_x_shape = None\n",
    "        # 가중치와 편향 매개변수의 미분\n",
    "        self.dW = None\n",
    "        self.db = None\n",
    "\n",
    "    def forward(self, x):\n",
    "        # 텐서 대응\n",
    "        self.original_x_shape = x.shape\n",
    "        x = x.reshape(x.shape[0], -1)\n",
    "        self.x = x\n",
    "\n",
    "        out = np.dot(self.x, self.W) + self.b\n",
    "\n",
    "        return out\n",
    "\n",
    "    def backward(self, dout):\n",
    "        dx = np.dot(dout, self.W.T)\n",
    "        self.dW = np.dot(self.x.T, dout)\n",
    "        self.db = np.sum(dout, axis=0)\n",
    "        \n",
    "        dx = dx.reshape(*self.original_x_shape)  # 입력 데이터 모양 변경(텐서 대응)\n",
    "        return dx"
   ]
  },
  {
   "cell_type": "markdown",
   "id": "a9697978",
   "metadata": {},
   "source": [
    "이전 장에서 접했던 손글씨 숫자 인식의 계층을 시각화하면 다음과 같다."
   ]
  },
  {
   "cell_type": "markdown",
   "id": "6d307f06",
   "metadata": {},
   "source": [
    "<div>\n",
    "<img src=\"fig5.13.jpg\" width=\"500\"/>\n",
    "</div>"
   ]
  },
  {
   "cell_type": "markdown",
   "id": "a20921e5",
   "metadata": {},
   "source": [
    "소프트맥스 계층을 손실 함수인 교차 엔트로피 오차를 포함해 Softmax-with-Loss 계층으로 구현한다. 미분 과정은 복잡하지만 단순 계산의 반복이므로 결과값과 간단화한 계산 그래프를 보자."
   ]
  },
  {
   "cell_type": "markdown",
   "id": "29f52f54",
   "metadata": {},
   "source": [
    "<div>\n",
    "<img src=\"fig5.14.jpg\" width=\"700\"/>\n",
    "</div>"
   ]
  },
  {
   "cell_type": "markdown",
   "id": "344fd47f",
   "metadata": {},
   "source": [
    "<div>\n",
    "<img src=\"fig5.15.jpg\" width=\"500\"/>\n",
    "</div>"
   ]
  },
  {
   "cell_type": "markdown",
   "id": "f8af4ab4",
   "metadata": {},
   "source": [
    "신경망 학습의 목적은 신경망의 출력, 즉 Softmax의 출력이 정답 레이블과 가까워지도록 가중치 매개변수를 조정하는 것이다. 따라서 역전파를 할 때 출력값과 정답의 오차를 앞 계층에 효율적으로 전달해야 하며, 따라서 매우 직관적인 오차를 나타내는 $y_1 - t_1$등의 값이 전달되는 것이다."
   ]
  },
  {
   "cell_type": "code",
   "execution_count": 16,
   "id": "57de79c4",
   "metadata": {},
   "outputs": [],
   "source": [
    "class SoftmaxWithLoss:\n",
    "    def __init__(self):\n",
    "        self.loss = None # 손실함수\n",
    "        self.y = None    # softmax의 출력\n",
    "        self.t = None    # 정답 레이블(원-핫 인코딩 형태)\n",
    "        \n",
    "    def forward(self, x, t):\n",
    "        self.t = t\n",
    "        self.y = softmax(x)\n",
    "        self.loss = cross_entropy_error(self.y, self.t)\n",
    "        \n",
    "        return self.loss\n",
    "\n",
    "    def backward(self, dout=1):\n",
    "        batch_size = self.t.shape[0]\n",
    "        if self.t.size == self.y.size: # 정답 레이블이 원-핫 인코딩 형태일 때\n",
    "            dx = (self.y - self.t) / batch_size\n",
    "        else:\n",
    "            dx = self.y.copy()\n",
    "            dx[np.arange(batch_size), self.t] -= 1\n",
    "            dx = dx / batch_size\n",
    "        \n",
    "        return dx"
   ]
  },
  {
   "cell_type": "markdown",
   "id": "69f4fc6f",
   "metadata": {},
   "source": [
    "## 5.7 오차역전파법 구현\n",
    "\n",
    "신경망 학습의 절차를 복습해보자.\n",
    "\n",
    "1. 미니배치\n",
    "2. 기울기 산출\n",
    "3. 매개변수 갱신\n",
    "4. 반복\n",
    "\n",
    "오차역전파법은 이 중 2단계인 기울기 산출에 해당된다.\n",
    "\n",
    "오차역전파법을 활용한 2층 신경망 클래스는 다음과 같이 구현한다."
   ]
  },
  {
   "cell_type": "code",
   "execution_count": 98,
   "id": "dd0c720b",
   "metadata": {},
   "outputs": [],
   "source": [
    "from collections import OrderedDict\n",
    "\n",
    "\n",
    "class TwoLayerNet:\n",
    "\n",
    "    def __init__(self, input_size, hidden_size, output_size, weight_init_std = 0.01):\n",
    "        # 가중치 초기화\n",
    "        self.params = {}\n",
    "        self.params['W1'] = weight_init_std * np.random.randn(input_size, hidden_size)\n",
    "        self.params['b1'] = np.zeros(hidden_size)\n",
    "        self.params['W2'] = weight_init_std * np.random.randn(hidden_size, output_size) \n",
    "        self.params['b2'] = np.zeros(output_size)\n",
    "\n",
    "        # 계층 생성\n",
    "        self.layers = OrderedDict()\n",
    "        self.layers['Affine1'] = Affine(self.params['W1'], self.params['b1'])\n",
    "        self.layers['Relu1'] = Relu()\n",
    "        self.layers['Affine2'] = Affine(self.params['W2'], self.params['b2'])\n",
    "\n",
    "        self.lastLayer = SoftmaxWithLoss()\n",
    "        \n",
    "    def predict(self, x):\n",
    "        for layer in self.layers.values():\n",
    "            x = layer.forward(x)\n",
    "        \n",
    "        return x\n",
    "        \n",
    "    # x : 입력 데이터, t : 정답 레이블\n",
    "    def loss(self, x, t):\n",
    "        y = self.predict(x)\n",
    "        return self.lastLayer.forward(y, t)\n",
    "    \n",
    "    def accuracy(self, x, t):\n",
    "        y = self.predict(x)\n",
    "        y = np.argmax(y, axis=1)\n",
    "        if t.ndim != 1 : t = np.argmax(t, axis=1)\n",
    "        \n",
    "        accuracy = np.sum(y == t) / float(x.shape[0])\n",
    "        return accuracy\n",
    "        \n",
    "    # x : 입력 데이터, t : 정답 레이블\n",
    "    def numerical_gradient(self, x, t):\n",
    "        loss_W = lambda W: self.loss(x, t)\n",
    "        \n",
    "        grads = {}\n",
    "        grads['W1'] = numerical_gradient(loss_W, self.params['W1'])\n",
    "        grads['b1'] = numerical_gradient(loss_W, self.params['b1'])\n",
    "        grads['W2'] = numerical_gradient(loss_W, self.params['W2'])\n",
    "        grads['b2'] = numerical_gradient(loss_W, self.params['b2'])\n",
    "        \n",
    "        return grads\n",
    "        \n",
    "    def gradient(self, x, t):\n",
    "        # forward\n",
    "        self.loss(x, t)\n",
    "\n",
    "        # backward\n",
    "        dout = 1\n",
    "        dout = self.lastLayer.backward(dout)\n",
    "        \n",
    "        layers = list(self.layers.values())\n",
    "        layers.reverse()\n",
    "        for layer in layers:\n",
    "            dout = layer.backward(dout)\n",
    "\n",
    "        # 결과 저장\n",
    "        grads = {}\n",
    "        grads['W1'], grads['b1'] = self.layers['Affine1'].dW, self.layers['Affine1'].db\n",
    "        grads['W2'], grads['b2'] = self.layers['Affine2'].dW, self.layers['Affine2'].db\n",
    "\n",
    "        return grads"
   ]
  },
  {
   "cell_type": "markdown",
   "id": "715c5397",
   "metadata": {},
   "source": [
    "앞서 배운 수치 미분과 오차역전파법 모두 기울기를 나타내는 방법이다. 따라서 기울기 산출의 정확성을 위해 두 방법을 각각 사용하고 결과값인 기울기를 서로 비교하는 작업(**기울기 확인**)을 한다."
   ]
  },
  {
   "cell_type": "code",
   "execution_count": 99,
   "id": "b1280abc",
   "metadata": {},
   "outputs": [
    {
     "name": "stdout",
     "output_type": "stream",
     "text": [
      "W1:4.3363130908355303e-10\n",
      "b1:2.251000127279361e-09\n",
      "W2:7.427926275595242e-09\n",
      "b2:1.4094857478663681e-07\n"
     ]
    }
   ],
   "source": [
    "from dataset.mnist import load_mnist\n",
    "\n",
    "# 데이터 읽기\n",
    "(x_train, t_train), (x_test, t_test) = load_mnist(normalize=True, one_hot_label=True)\n",
    "\n",
    "network = TwoLayerNet(input_size=784, hidden_size=50, output_size=10)\n",
    "\n",
    "x_batch = x_train[:3]\n",
    "t_batch = t_train[:3]\n",
    "\n",
    "grad_numerical = network.numerical_gradient(x_batch, t_batch)\n",
    "grad_backprop = network.gradient(x_batch, t_batch)\n",
    "\n",
    "# 각 가중치의 절대 오차의 평균을 구한다.\n",
    "for key in grad_numerical.keys():\n",
    "    diff = np.average( np.abs(grad_backprop[key] - grad_numerical[key]) )\n",
    "    print(key + \":\" + str(diff))"
   ]
  },
  {
   "cell_type": "markdown",
   "id": "534d307a",
   "metadata": {},
   "source": [
    "기울기 확인 결과, 큰 차이가 없음을 알 수 있다. (유한한 정밀도의 한계 때문에 0이 나오는 경우는 거의 없다.)\n",
    "\n",
    "오차역전파법을 사용한 학습 또한 구현할 수 있다. 이전 학습 구현과 매우 유사하다."
   ]
  },
  {
   "cell_type": "code",
   "execution_count": 100,
   "id": "60fd6f8d",
   "metadata": {},
   "outputs": [
    {
     "name": "stdout",
     "output_type": "stream",
     "text": [
      "0.102 0.1046\n",
      "0.89955 0.9019\n",
      "0.9224166666666667 0.9242\n",
      "0.9346166666666667 0.9313\n",
      "0.9419833333333333 0.9387\n",
      "0.95015 0.9469\n",
      "0.9534 0.9505\n",
      "0.9586333333333333 0.9566\n",
      "0.9632666666666667 0.9597\n",
      "0.9657 0.9626\n",
      "0.9692833333333334 0.9645\n",
      "0.9708833333333333 0.9651\n",
      "0.9735666666666667 0.9683\n",
      "0.9732666666666666 0.9666\n",
      "0.9761166666666666 0.9694\n",
      "0.9779333333333333 0.9715\n",
      "0.9781 0.9706\n"
     ]
    }
   ],
   "source": [
    "# 데이터 읽기\n",
    "(x_train, t_train), (x_test, t_test) = load_mnist(normalize=True, one_hot_label=True)\n",
    "\n",
    "network = TwoLayerNet(input_size=784, hidden_size=50, output_size=10)\n",
    "\n",
    "iters_num = 10000\n",
    "train_size = x_train.shape[0]\n",
    "batch_size = 100\n",
    "learning_rate = 0.1\n",
    "\n",
    "train_loss_list = []\n",
    "train_acc_list = []\n",
    "test_acc_list = []\n",
    "\n",
    "iter_per_epoch = max(train_size / batch_size, 1)\n",
    "\n",
    "for i in range(iters_num):\n",
    "    batch_mask = np.random.choice(train_size, batch_size)\n",
    "    x_batch = x_train[batch_mask]\n",
    "    t_batch = t_train[batch_mask]\n",
    "    \n",
    "    # 기울기 계산\n",
    "    #grad = network.numerical_gradient(x_batch, t_batch) # 수치 미분 방식\n",
    "    grad = network.gradient(x_batch, t_batch) # 오차역전파법 방식(훨씬 빠르다)\n",
    "    \n",
    "    # 갱신\n",
    "    for key in ('W1', 'b1', 'W2', 'b2'):\n",
    "        network.params[key] -= learning_rate * grad[key]\n",
    "    \n",
    "    loss = network.loss(x_batch, t_batch)\n",
    "    train_loss_list.append(loss)\n",
    "    \n",
    "    if i % iter_per_epoch == 0:\n",
    "        train_acc = network.accuracy(x_train, t_train)\n",
    "        test_acc = network.accuracy(x_test, t_test)\n",
    "        train_acc_list.append(train_acc)\n",
    "        test_acc_list.append(test_acc)\n",
    "        print(train_acc, test_acc)"
   ]
  },
  {
   "cell_type": "markdown",
   "id": "29912ff6",
   "metadata": {},
   "source": [
    "## Takeaways:\n",
    "- 계산 그래프를 이용하면 계산 과정을 시각적으로 파악할 수 있다.\n",
    "- 계산 그래프의 노드는 국소적 계산으로 구성된다. 국소적 계산을 조합해 전체 계산을 구성한다.\n",
    "- 계산 그래프의 순전파는 통상의 계산을 수행한다. 한편, 계산 그래프의 역전파로는 각 노드의 미분을 구할 수 있다.\n",
    "- 신경망의 구성 요소를 계층으로 구현하여 기울기를 효율적으로 계산할 수 있다. 이를 **오차역전파법**이라고 한다.\n",
    "- 수치 미분과 오차역전파법의 결과를 비교하면 구현이 제대로 되었는지 확인할 수 있다. (기울기 확인)"
   ]
  },
  {
   "cell_type": "markdown",
   "id": "9e6de4d5",
   "metadata": {},
   "source": [
    "# 6. 학습 관련 기술들\n",
    "\n",
    "이전에 소개했던 **확률적 경사 하강법 (SGD)**은 기울어진 매개변수 방향으로 계속해서 갱신해 나가는 방법이었다.\n",
    "\n",
    "수식으로는 다음과 같다. ($\\textbf{W}$는 갱신할 가중치 매개변수, $\\frac{\\partial L}{\\partial \\textbf{W}}$는 $\\textbf{W}$에 대한 손실 함수의 기울기, $\\eta$는 학습률, $\\leftarrow$는 우변의 값으로 좌변의 값을 갱신한다는 뜻이다. $\\eta$는 주로 $0.01$이나 $0.001$의 값을 미리 정해 사용한다.)"
   ]
  },
  {
   "cell_type": "markdown",
   "id": "62e9ad58",
   "metadata": {},
   "source": [
    "<div>\n",
    "<img src=\"equ6.1.jpg\" width=\"500\"/>\n",
    "</div>"
   ]
  },
  {
   "cell_type": "code",
   "execution_count": 2,
   "id": "b0c5ade9",
   "metadata": {},
   "outputs": [],
   "source": [
    "'''\n",
    "SGD의 pseudo-code\n",
    "실제로는 작동하지 않는 의사 코드이나, 설명을 위해 삽입했다.\n",
    "'''\n",
    "\n",
    "class SGD:\n",
    "    def __init__(self, lr=0.01):\n",
    "        self.lr = lr\n",
    "        \n",
    "    def update(self, params, grads):\n",
    "        for key in params.keys():\n",
    "            params[key] -= self.lr * grads[key]\n",
    "            \n",
    "network = TwoLayerNet(...)\n",
    "optimizer = SGD()\n",
    "\n",
    "for i in range(10000):\n",
    "    ...\n",
    "    x_batch, t_batch = get_mini_batch(...) # 미니배치\n",
    "    grads = network.gradient(x_batch, t_batch)\n",
    "    params = network.params\n",
    "    optimizer.update(params, grads)\n",
    "    ..."
   ]
  },
  {
   "cell_type": "markdown",
   "id": "d4a90bd7",
   "metadata": {},
   "source": [
    "그러나 SGD는 함수에 따라 매우 비효율적일 수 있다. $f(x,y)=\\frac{1}{20} x^2 + y^2$가 주어졌을 때, 그래프와 기울기는 다음과 같다."
   ]
  },
  {
   "cell_type": "markdown",
   "id": "b992c03d",
   "metadata": {},
   "source": [
    "<div>\n",
    "<img src=\"fig6.1.jpg\" width=\"700\"/>\n",
    "</div>"
   ]
  },
  {
   "cell_type": "markdown",
   "id": "370f2ef4",
   "metadata": {},
   "source": [
    "<div>\n",
    "<img src=\"fig6.2.jpg\" width=\"500\"/>\n",
    "</div>"
   ]
  },
  {
   "cell_type": "markdown",
   "id": "b6da477f",
   "metadata": {},
   "source": [
    "이에 SGD를 적용하면 다음 그림과 같이 최적화가 진행된다."
   ]
  },
  {
   "cell_type": "markdown",
   "id": "fbb50506",
   "metadata": {},
   "source": [
    "<div>\n",
    "<img src=\"fig6.3.jpg\" width=\"500\"/>\n",
    "</div>"
   ]
  },
  {
   "cell_type": "markdown",
   "id": "ccd25088",
   "metadata": {},
   "source": [
    "방향에 따라 성질이 달라지는 *비등방성* 함수의 경우, SGD의 탐색 경로는 비효율적이다.\n",
    "\n",
    "**모멘텀** 기법은 수식으로 다음과 같이 나타낼 수 있다. ($\\textbf{v}$는 velocity에 해당한다. $\\alpha$는 0.9 등의 값을 지닌 상수다.)"
   ]
  },
  {
   "cell_type": "markdown",
   "id": "2ef7e353",
   "metadata": {},
   "source": [
    "<div>\n",
    "<img src=\"equ6.2.jpg\" width=\"500\"/>\n",
    "</div>"
   ]
  },
  {
   "cell_type": "markdown",
   "id": "4a33d2a5",
   "metadata": {},
   "source": [
    "모멘텀은 기울기 방향으로 힘을 받아 물체가 가속되는 물리 법칙을 나타내며, $\\alpha\\textbf{v}$는 물체가 아무런 힘을 받지 않을 때 서서히 하강시키는 역할을 한다 (마찰, 공기 저항 등)."
   ]
  },
  {
   "cell_type": "code",
   "execution_count": 62,
   "id": "00f8889e",
   "metadata": {},
   "outputs": [],
   "source": [
    "class Momentum:\n",
    "\n",
    "    \"\"\"모멘텀 SGD\"\"\"\n",
    "\n",
    "    def __init__(self, lr=0.01, momentum=0.9):\n",
    "        self.lr = lr\n",
    "        self.momentum = momentum\n",
    "        self.v = None\n",
    "        \n",
    "    def update(self, params, grads):\n",
    "        if self.v is None:\n",
    "            self.v = {}\n",
    "            for key, val in params.items():                                \n",
    "                self.v[key] = np.zeros_like(val)\n",
    "                \n",
    "        for key in params.keys():\n",
    "            self.v[key] = self.momentum*self.v[key] - self.lr*grads[key] \n",
    "            params[key] += self.v[key]"
   ]
  },
  {
   "cell_type": "markdown",
   "id": "84a77d39",
   "metadata": {},
   "source": [
    "<div>\n",
    "<img src=\"fig6.4.jpg\" width=\"500\"/>\n",
    "</div>"
   ]
  },
  {
   "cell_type": "markdown",
   "id": "caf460fa",
   "metadata": {},
   "source": [
    "모멘텀은 SGD와 비교했을 때 지그재그의 정도가 덜하며, 이는 x축 방향으로 일정하게 가속할 수 있기 때문에 SGD보다 x축 이동이 더 빠르기 때문이다.\n",
    "\n",
    "학습률 $\\eta$를 최적의 값으로 정하는 기술로 *학습률 감소*가 있다. 학습을 진행하며 큰 학습률을 점차 줄여나가는 방식이다. **AdaGrad**는 각각의 매개변수에 맞춤형 값을 설정한다."
   ]
  },
  {
   "cell_type": "markdown",
   "id": "26bbd824",
   "metadata": {},
   "source": [
    "<div>\n",
    "<img src=\"equ6.3.jpg\" width=\"500\"/>\n",
    "</div>"
   ]
  },
  {
   "cell_type": "markdown",
   "id": "5170a2fd",
   "metadata": {},
   "source": [
    "$h$는 기존 기울기 값을 제곱하여 계속 더해주는 역할을 한다. ($\\odot$는 행렬의 원소별 곱셈을 의미) $\\frac{1}{\\sqrt{h}}$를 곱해 갱신하는 것은 매개변수의 원소 중에서 크게 갱신된 원소는 학습률이 낮아진다는 것을 뜻한다 (즉 각각의 매개변수의 값이 달라진다)."
   ]
  },
  {
   "cell_type": "code",
   "execution_count": 63,
   "id": "465958ad",
   "metadata": {},
   "outputs": [],
   "source": [
    "class AdaGrad:\n",
    "\n",
    "    \"\"\"AdaGrad\"\"\"\n",
    "\n",
    "    def __init__(self, lr=0.01):\n",
    "        self.lr = lr\n",
    "        self.h = None\n",
    "        \n",
    "    def update(self, params, grads):\n",
    "        if self.h is None:\n",
    "            self.h = {}\n",
    "            for key, val in params.items():\n",
    "                self.h[key] = np.zeros_like(val)\n",
    "            \n",
    "        for key in params.keys():\n",
    "            self.h[key] += grads[key] * grads[key]\n",
    "            params[key] -= self.lr * grads[key] / (np.sqrt(self.h[key]) + 1e-7)\n",
    "            # 1e-7를 더함으로써 0으로 나누는 에러를 막아준다."
   ]
  },
  {
   "cell_type": "markdown",
   "id": "fb5933e9",
   "metadata": {},
   "source": [
    "<div>\n",
    "<img src=\"fig6.5.jpg\" width=\"500\"/>\n",
    "</div>"
   ]
  },
  {
   "cell_type": "markdown",
   "id": "c1e06d92",
   "metadata": {},
   "source": [
    "그림에서 보이듯 AdaGrad의 경우 효율적으로 움직인다. 상기했듯 처음에는 크게 움직이나, 큰 움직임에 비례해 갱신 정도도 크게 작아졌고 따라서 지그재그의 움직임도 줄어들었다.\n",
    "\n",
    "물리 법칙을 활용한 모멘텀과 각 매개변수의 움직임에 적응해 그에 따라 갱신 정도를 조정한 AdaGrad를 융합한 것이 **Adam**이다."
   ]
  },
  {
   "cell_type": "code",
   "execution_count": 64,
   "id": "1d071d66",
   "metadata": {},
   "outputs": [],
   "source": [
    "class Adam:\n",
    "\n",
    "    \"\"\"Adam (http://arxiv.org/abs/1412.6980v8)\"\"\"\n",
    "\n",
    "    def __init__(self, lr=0.001, beta1=0.9, beta2=0.999):\n",
    "        self.lr = lr\n",
    "        self.beta1 = beta1\n",
    "        self.beta2 = beta2\n",
    "        self.iter = 0\n",
    "        self.m = None\n",
    "        self.v = None\n",
    "        \n",
    "    def update(self, params, grads):\n",
    "        if self.m is None:\n",
    "            self.m, self.v = {}, {}\n",
    "            for key, val in params.items():\n",
    "                self.m[key] = np.zeros_like(val)\n",
    "                self.v[key] = np.zeros_like(val)\n",
    "        \n",
    "        self.iter += 1\n",
    "        lr_t  = self.lr * np.sqrt(1.0 - self.beta2**self.iter) / (1.0 - self.beta1**self.iter)         \n",
    "        \n",
    "        for key in params.keys():\n",
    "            #self.m[key] = self.beta1*self.m[key] + (1-self.beta1)*grads[key]\n",
    "            #self.v[key] = self.beta2*self.v[key] + (1-self.beta2)*(grads[key]**2)\n",
    "            self.m[key] += (1 - self.beta1) * (grads[key] - self.m[key])\n",
    "            self.v[key] += (1 - self.beta2) * (grads[key]**2 - self.v[key])\n",
    "            \n",
    "            params[key] -= lr_t * self.m[key] / (np.sqrt(self.v[key]) + 1e-7)\n",
    "            \n",
    "            #unbias_m += (1 - self.beta1) * (grads[key] - self.m[key]) # correct bias\n",
    "            #unbisa_b += (1 - self.beta2) * (grads[key]*grads[key] - self.v[key]) # correct bias\n",
    "            #params[key] += self.lr * unbias_m / (np.sqrt(unbisa_b) + 1e-7)"
   ]
  },
  {
   "cell_type": "markdown",
   "id": "6e5d0e56",
   "metadata": {},
   "source": [
    "<div>\n",
    "<img src=\"fig6.6.jpg\" width=\"500\"/>\n",
    "</div>"
   ]
  },
  {
   "cell_type": "markdown",
   "id": "030e54fe",
   "metadata": {},
   "source": [
    "완벽한 상위호환인 기법은 존재하지 않는다. 풀어야 할 문제가 무엇이냐에 따라서 최적의 기법이 다르다."
   ]
  },
  {
   "cell_type": "code",
   "execution_count": 45,
   "id": "8bda2508",
   "metadata": {},
   "outputs": [],
   "source": [
    "# 준비 코드\n",
    "\n",
    "class MultiLayerNet:\n",
    "    \"\"\"완전연결 다층 신경망\n",
    "    Parameters\n",
    "    ----------\n",
    "    input_size : 입력 크기（MNIST의 경우엔 784）\n",
    "    hidden_size_list : 각 은닉층의 뉴런 수를 담은 리스트（e.g. [100, 100, 100]）\n",
    "    output_size : 출력 크기（MNIST의 경우엔 10）\n",
    "    activation : 활성화 함수 - 'relu' 혹은 'sigmoid'\n",
    "    weight_init_std : 가중치의 표준편차 지정（e.g. 0.01）\n",
    "        'relu'나 'he'로 지정하면 'He 초깃값'으로 설정\n",
    "        'sigmoid'나 'xavier'로 지정하면 'Xavier 초깃값'으로 설정\n",
    "    weight_decay_lambda : 가중치 감소(L2 법칙)의 세기\n",
    "    \"\"\"\n",
    "    def __init__(self, input_size, hidden_size_list, output_size,\n",
    "                 activation='relu', weight_init_std='relu', weight_decay_lambda=0):\n",
    "        self.input_size = input_size\n",
    "        self.output_size = output_size\n",
    "        self.hidden_size_list = hidden_size_list\n",
    "        self.hidden_layer_num = len(hidden_size_list)\n",
    "        self.weight_decay_lambda = weight_decay_lambda\n",
    "        self.params = {}\n",
    "\n",
    "        # 가중치 초기화\n",
    "        self.__init_weight(weight_init_std)\n",
    "\n",
    "        # 계층 생성\n",
    "        activation_layer = {'sigmoid': Sigmoid, 'relu': Relu}\n",
    "        self.layers = OrderedDict()\n",
    "        for idx in range(1, self.hidden_layer_num+1):\n",
    "            self.layers['Affine' + str(idx)] = Affine(self.params['W' + str(idx)],\n",
    "                                                      self.params['b' + str(idx)])\n",
    "            self.layers['Activation_function' + str(idx)] = activation_layer[activation]()\n",
    "\n",
    "        idx = self.hidden_layer_num + 1\n",
    "        self.layers['Affine' + str(idx)] = Affine(self.params['W' + str(idx)],\n",
    "            self.params['b' + str(idx)])\n",
    "\n",
    "        self.last_layer = SoftmaxWithLoss()\n",
    "\n",
    "    def __init_weight(self, weight_init_std):\n",
    "        \"\"\"가중치 초기화\n",
    "        \n",
    "        Parameters\n",
    "        ----------\n",
    "        weight_init_std : 가중치의 표준편차 지정（e.g. 0.01）\n",
    "            'relu'나 'he'로 지정하면 'He 초깃값'으로 설정\n",
    "            'sigmoid'나 'xavier'로 지정하면 'Xavier 초깃값'으로 설정\n",
    "        \"\"\"\n",
    "        all_size_list = [self.input_size] + self.hidden_size_list + [self.output_size]\n",
    "        for idx in range(1, len(all_size_list)):\n",
    "            scale = weight_init_std\n",
    "            if str(weight_init_std).lower() in ('relu', 'he'):\n",
    "                scale = np.sqrt(2.0 / all_size_list[idx - 1])  # ReLU를 사용할 때의 권장 초깃값\n",
    "            elif str(weight_init_std).lower() in ('sigmoid', 'xavier'):\n",
    "                scale = np.sqrt(1.0 / all_size_list[idx - 1])  # sigmoid를 사용할 때의 권장 초깃값\n",
    "            self.params['W' + str(idx)] = scale * np.random.randn(all_size_list[idx-1], all_size_list[idx])\n",
    "            self.params['b' + str(idx)] = np.zeros(all_size_list[idx])\n",
    "\n",
    "    def predict(self, x):\n",
    "        for layer in self.layers.values():\n",
    "            x = layer.forward(x)\n",
    "\n",
    "        return x\n",
    "\n",
    "    def loss(self, x, t):\n",
    "        \"\"\"손실 함수를 구한다.\n",
    "        \n",
    "        Parameters\n",
    "        ----------\n",
    "        x : 입력 데이터\n",
    "        t : 정답 레이블 \n",
    "        \n",
    "        Returns\n",
    "        -------\n",
    "        손실 함수의 값\n",
    "        \"\"\"\n",
    "        y = self.predict(x)\n",
    "\n",
    "        weight_decay = 0\n",
    "        for idx in range(1, self.hidden_layer_num + 2):\n",
    "            W = self.params['W' + str(idx)]\n",
    "            weight_decay += 0.5 * self.weight_decay_lambda * np.sum(W ** 2)\n",
    "\n",
    "        return self.last_layer.forward(y, t) + weight_decay\n",
    "\n",
    "    def accuracy(self, x, t):\n",
    "        y = self.predict(x)\n",
    "        y = np.argmax(y, axis=1)\n",
    "        if t.ndim != 1 : t = np.argmax(t, axis=1)\n",
    "\n",
    "        accuracy = np.sum(y == t) / float(x.shape[0])\n",
    "        return accuracy\n",
    "\n",
    "    def numerical_gradient(self, x, t):\n",
    "        \"\"\"기울기를 구한다(수치 미분).\n",
    "        \n",
    "        Parameters\n",
    "        ----------\n",
    "        x : 입력 데이터\n",
    "        t : 정답 레이블\n",
    "        \n",
    "        Returns\n",
    "        -------\n",
    "        각 층의 기울기를 담은 딕셔너리(dictionary) 변수\n",
    "            grads['W1']、grads['W2']、... 각 층의 가중치\n",
    "            grads['b1']、grads['b2']、... 각 층의 편향\n",
    "        \"\"\"\n",
    "        loss_W = lambda W: self.loss(x, t)\n",
    "\n",
    "        grads = {}\n",
    "        for idx in range(1, self.hidden_layer_num+2):\n",
    "            grads['W' + str(idx)] = numerical_gradient(loss_W, self.params['W' + str(idx)])\n",
    "            grads['b' + str(idx)] = numerical_gradient(loss_W, self.params['b' + str(idx)])\n",
    "\n",
    "        return grads\n",
    "\n",
    "    def gradient(self, x, t):\n",
    "        \"\"\"기울기를 구한다(오차역전파법).\n",
    "        Parameters\n",
    "        ----------\n",
    "        x : 입력 데이터\n",
    "        t : 정답 레이블\n",
    "        \n",
    "        Returns\n",
    "        -------\n",
    "        각 층의 기울기를 담은 딕셔너리(dictionary) 변수\n",
    "            grads['W1']、grads['W2']、... 각 층의 가중치\n",
    "            grads['b1']、grads['b2']、... 각 층의 편향\n",
    "        \"\"\"\n",
    "        # forward\n",
    "        self.loss(x, t)\n",
    "\n",
    "        # backward\n",
    "        dout = 1\n",
    "        dout = self.last_layer.backward(dout)\n",
    "\n",
    "        layers = list(self.layers.values())\n",
    "        layers.reverse()\n",
    "        for layer in layers:\n",
    "            dout = layer.backward(dout)\n",
    "\n",
    "        # 결과 저장\n",
    "        grads = {}\n",
    "        for idx in range(1, self.hidden_layer_num+2):\n",
    "            grads['W' + str(idx)] = self.layers['Affine' + str(idx)].dW + self.weight_decay_lambda * self.layers['Affine' + str(idx)].W\n",
    "            grads['b' + str(idx)] = self.layers['Affine' + str(idx)].db\n",
    "\n",
    "        return grads\n",
    "    \n",
    "def smooth_curve(x):\n",
    "    \"\"\"손실 함수의 그래프를 매끄럽게 하기 위해 사용\n",
    "    \n",
    "    참고：http://glowingpython.blogspot.jp/2012/02/convolution-with-numpy.html\n",
    "    \"\"\"\n",
    "    window_len = 11\n",
    "    s = np.r_[x[window_len-1:0:-1], x, x[-1:-window_len:-1]]\n",
    "    w = np.kaiser(window_len, 2)\n",
    "    y = np.convolve(w/w.sum(), s, mode='valid')\n",
    "    return y[5:len(y)-5]"
   ]
  },
  {
   "cell_type": "code",
   "execution_count": 65,
   "id": "f076746c",
   "metadata": {},
   "outputs": [
    {
     "data": {
      "image/png": "[encoded data removed]",
      "text/plain": [
       "<Figure size 432x288 with 1 Axes>"
      ]
     },
     "metadata": {
      "needs_background": "light"
     },
     "output_type": "display_data"
    }
   ],
   "source": [
    "# import os\n",
    "# import sys\n",
    "# sys.path.append(os.pardir)  # 부모 디렉터리의 파일을 가져올 수 있도록 설정\n",
    "# import matplotlib.pyplot as plt\n",
    "# from dataset.mnist import load_mnist\n",
    "# from common.util import smooth_curve\n",
    "# from common.multi_layer_net import MultiLayerNet\n",
    "# from common.optimizer import *\n",
    "\n",
    "\n",
    "# 0. MNIST 데이터 읽기==========\n",
    "(x_train, t_train), (x_test, t_test) = load_mnist(normalize=True)\n",
    "\n",
    "train_size = x_train.shape[0]\n",
    "batch_size = 128\n",
    "max_iterations = 2000\n",
    "\n",
    "\n",
    "# 1. 실험용 설정==========\n",
    "optimizers = {}\n",
    "optimizers['SGD'] = SGD()\n",
    "optimizers['Momentum'] = Momentum()\n",
    "optimizers['AdaGrad'] = AdaGrad()\n",
    "optimizers['Adam'] = Adam()\n",
    "#optimizers['RMSprop'] = RMSprop()\n",
    "\n",
    "networks = {}\n",
    "train_loss = {}\n",
    "for key in optimizers.keys():\n",
    "    networks[key] = MultiLayerNet(\n",
    "        input_size=784, hidden_size_list=[100, 100, 100, 100],\n",
    "        output_size=10)\n",
    "    train_loss[key] = []    \n",
    "\n",
    "\n",
    "# 2. 훈련 시작==========\n",
    "for i in range(max_iterations):\n",
    "    batch_mask = np.random.choice(train_size, batch_size)\n",
    "    x_batch = x_train[batch_mask]\n",
    "    t_batch = t_train[batch_mask]\n",
    "    \n",
    "    for key in optimizers.keys():\n",
    "        grads = networks[key].gradient(x_batch, t_batch)\n",
    "        optimizers[key].update(networks[key].params, grads)\n",
    "    \n",
    "        loss = networks[key].loss(x_batch, t_batch)\n",
    "        train_loss[key].append(loss)\n",
    "    \n",
    "    if i % 100 == 0:\n",
    "#         print( \"===========\" + \"iteration:\" + str(i) + \"===========\")\n",
    "        for key in optimizers.keys():\n",
    "            loss = networks[key].loss(x_batch, t_batch)\n",
    "#             print(key + \":\" + str(loss))\n",
    "\n",
    "\n",
    "# 3. 그래프 그리기==========\n",
    "markers = {\"SGD\": \"o\", \"Momentum\": \"x\", \"AdaGrad\": \"s\", \"Adam\": \"D\"}\n",
    "x = np.arange(max_iterations)\n",
    "for key in optimizers.keys():\n",
    "    plt.plot(x, smooth_curve(train_loss[key]), marker=markers[key], markevery=100, label=key)\n",
    "plt.xlabel(\"iterations\")\n",
    "plt.ylabel(\"loss\")\n",
    "plt.ylim(0, 1)\n",
    "plt.legend()\n",
    "plt.show()"
   ]
  },
  {
   "cell_type": "markdown",
   "id": "8d99c124",
   "metadata": {},
   "source": [
    "## 6.2 가중치의 초깃값\n",
    "\n",
    "가중치의 초깃값은 신경망 학습의 성능을 좌우하기도 한다. 오버피팅을 억제해 성능을 높히는 기법으로는 **가중치 감소**가 있다. 가중치 매개변수를 작아지도록 학습해 오버피팅을 방지하는 기법이다. 그러려면 초깃값도 작게 설정하는 것이 대체로 좋으며, 현재까지는 `0.01*np.random.randn(10,100)`을 사용했다.\n",
    "\n",
    "가중치 초깃값을 0으로 설정하면 비효율적인 이유는 오차역전파법에서 모든 가중치의 값이 똑같이 갱신되기 때문이다. (순전파 때 두 번째 층의 뉴런에 같은 값이 전달되며, 결국 역전파 때 두 번째 층의 가중치가 모두 똑같이 갱신된다.) 즉, *초깃값을 무작위로 설정해야 한다.*\n",
    "\n",
    "가중치의 초깃값은 은닉층 활성화값에 다음과 같은 영향을 미친다 (활성화 함수는 시그모이드, 신경망은 5층을 사용한다)."
   ]
  },
  {
   "cell_type": "code",
   "execution_count": 112,
   "id": "d5d9c691",
   "metadata": {},
   "outputs": [],
   "source": [
    "def sigmoid(x):\n",
    "    return 1 / (1 + np.exp(-x))\n",
    "\n",
    "\n",
    "def ReLU(x):\n",
    "    return np.maximum(0, x)\n",
    "\n",
    "\n",
    "def tanh(x):\n",
    "    return np.tanh(x)"
   ]
  },
  {
   "cell_type": "code",
   "execution_count": 113,
   "id": "32a5f302",
   "metadata": {},
   "outputs": [
    {
     "data": {
      "image/png": "[encoded data removed]",
      "text/plain": [
       "<Figure size 432x288 with 5 Axes>"
      ]
     },
     "metadata": {
      "needs_background": "light"
     },
     "output_type": "display_data"
    }
   ],
   "source": [
    "input_data = np.random.randn(1000, 100)  # 1000개의 데이터\n",
    "node_num = 100  # 각 은닉층의 노드(뉴런) 수\n",
    "hidden_layer_size = 5  # 은닉층이 5개\n",
    "activations = {}  # 이곳에 활성화 결과를 저장\n",
    "\n",
    "x = input_data\n",
    "\n",
    "for i in range(hidden_layer_size):\n",
    "    if i != 0:\n",
    "        x = activations[i-1]\n",
    "\n",
    "    # 초깃값을 다양하게 바꿔가며 실험해보자！\n",
    "    w = np.random.randn(node_num, node_num) * 1\n",
    "    # w = np.random.randn(node_num, node_num) * 0.01\n",
    "    # w = np.random.randn(node_num, node_num) * np.sqrt(1.0 / node_num)\n",
    "    # w = np.random.randn(node_num, node_num) * np.sqrt(2.0 / node_num)\n",
    "\n",
    "\n",
    "    a = np.dot(x, w)\n",
    "\n",
    "\n",
    "    # 활성화 함수도 바꿔가며 실험해보자！\n",
    "    z = sigmoid(a)\n",
    "    # z = ReLU(a)\n",
    "    # z = tanh(a)\n",
    "\n",
    "    activations[i] = z\n",
    "\n",
    "# 히스토그램 그리기\n",
    "for i, a in activations.items():\n",
    "    plt.subplot(1, len(activations), i+1)\n",
    "    plt.title(str(i+1) + \"-layer\")\n",
    "    if i != 0: plt.yticks([], [])\n",
    "    # plt.xlim(0.1, 1)\n",
    "    # plt.ylim(0, 7000)\n",
    "    plt.hist(a.flatten(), 30, range=(0,1))\n",
    "plt.show()"
   ]
  },
  {
   "cell_type": "markdown",
   "id": "640fad1d",
   "metadata": {},
   "source": [
    "활성화값들이 0과 1에 치우쳐 있으며, 이는 층이 많을수록 더 빈번히 일어나는 현상이다. 시그모이드 함수는 0이나 1에 가까운 값일수록 미분이 0에 가까워지며, 따라서 역전파의 기울기 값이 점점 작아지다가 사라진다. 이를 **기울기 소실** 문제라고 한다.\n",
    "\n",
    "가중치의 표준편차가 0.01이라면 어떨까?"
   ]
  },
  {
   "cell_type": "code",
   "execution_count": 114,
   "id": "dc0c37df",
   "metadata": {},
   "outputs": [
    {
     "data": {
      "image/png": "[encoded data removed]",
      "text/plain": [
       "<Figure size 432x288 with 5 Axes>"
      ]
     },
     "metadata": {
      "needs_background": "light"
     },
     "output_type": "display_data"
    }
   ],
   "source": [
    "input_data = np.random.randn(1000, 100)  # 1000개의 데이터\n",
    "node_num = 100  # 각 은닉층의 노드(뉴런) 수\n",
    "hidden_layer_size = 5  # 은닉층이 5개\n",
    "activations = {}  # 이곳에 활성화 결과를 저장\n",
    "\n",
    "x = input_data\n",
    "\n",
    "for i in range(hidden_layer_size):\n",
    "    if i != 0:\n",
    "        x = activations[i-1]\n",
    "\n",
    "    # 초깃값을 다양하게 바꿔가며 실험해보자！\n",
    "    # w = np.random.randn(node_num, node_num) * 1\n",
    "    w = np.random.randn(node_num, node_num) * 0.01\n",
    "    # w = np.random.randn(node_num, node_num) * np.sqrt(1.0 / node_num)\n",
    "    # w = np.random.randn(node_num, node_num) * np.sqrt(2.0 / node_num)\n",
    "\n",
    "\n",
    "    a = np.dot(x, w)\n",
    "\n",
    "\n",
    "    # 활성화 함수도 바꿔가며 실험해보자！\n",
    "    z = sigmoid(a)\n",
    "    # z = ReLU(a)\n",
    "    # z = tanh(a)\n",
    "\n",
    "    activations[i] = z\n",
    "\n",
    "# 히스토그램 그리기\n",
    "for i, a in activations.items():\n",
    "    plt.subplot(1, len(activations), i+1)\n",
    "    plt.title(str(i+1) + \"-layer\")\n",
    "    if i != 0: plt.yticks([], [])\n",
    "    # plt.xlim(0.1, 1)\n",
    "    # plt.ylim(0, 7000)\n",
    "    plt.hist(a.flatten(), 30, range=(0,1))\n",
    "plt.show()"
   ]
  },
  {
   "cell_type": "markdown",
   "id": "796d53e2",
   "metadata": {},
   "source": [
    "이번에는 기울기 소실 문제가 없지만, 활성화값들이 0.5로 치우쳐져 있기에 **표현력이 제한**된다. 즉, *다수의 뉴런이 거의 같은 값을 출력하기에 뉴런을 여러 개 둔 의미가 없다*.\n",
    "\n",
    "새로운 초깃값으로 **Xavier 초깃값**을 설정한다. 이전 층의 노드 수가 $n$개일 때, 초깃값의 표준편차가 $\\frac{1}{\\sqrt{n}}$의 분포가 되도록 설정한다."
   ]
  },
  {
   "cell_type": "code",
   "execution_count": 115,
   "id": "cde6b55f",
   "metadata": {},
   "outputs": [
    {
     "data": {
      "image/png": "[encoded data removed]",
      "text/plain": [
       "<Figure size 432x288 with 5 Axes>"
      ]
     },
     "metadata": {
      "needs_background": "light"
     },
     "output_type": "display_data"
    }
   ],
   "source": [
    "input_data = np.random.randn(1000, 100)  # 1000개의 데이터\n",
    "node_num = 100  # 각 은닉층의 노드(뉴런) 수\n",
    "hidden_layer_size = 5  # 은닉층이 5개\n",
    "activations = {}  # 이곳에 활성화 결과를 저장\n",
    "\n",
    "x = input_data\n",
    "\n",
    "for i in range(hidden_layer_size):\n",
    "    if i != 0:\n",
    "        x = activations[i-1]\n",
    "\n",
    "    # 초깃값을 다양하게 바꿔가며 실험해보자！\n",
    "    # w = np.random.randn(node_num, node_num) * 1\n",
    "    # w = np.random.randn(node_num, node_num) * 0.01\n",
    "    w = np.random.randn(node_num, node_num) * np.sqrt(1.0 / node_num)\n",
    "    # w = np.random.randn(node_num, node_num) * np.sqrt(2.0 / node_num)\n",
    "\n",
    "\n",
    "    a = np.dot(x, w)\n",
    "\n",
    "\n",
    "    # 활성화 함수도 바꿔가며 실험해보자！\n",
    "    z = sigmoid(a)\n",
    "    # z = ReLU(a)\n",
    "    # z = tanh(a)\n",
    "\n",
    "    activations[i] = z\n",
    "\n",
    "# 히스토그램 그리기\n",
    "for i, a in activations.items():\n",
    "    plt.subplot(1, len(activations), i+1)\n",
    "    plt.title(str(i+1) + \"-layer\")\n",
    "    if i != 0: plt.yticks([], [])\n",
    "    # plt.xlim(0.1, 1)\n",
    "    # plt.ylim(0, 7000)\n",
    "    plt.hist(a.flatten(), 30, range=(0,1))\n",
    "plt.show()"
   ]
  },
  {
   "cell_type": "markdown",
   "id": "b9549714",
   "metadata": {},
   "source": [
    "표현력이 제한되지 않고, 기울기 소실 문제도 없는 것을 볼 수 있다. **Xavier 초깃값은 좌우 대칭의 sigmoid 함수와 tanh 함수를 사용할 때 적당하다**. (좌우 대칭이면 중앙 부근이 선형이기 때문)\n",
    "\n",
    "이번에는 시그모이드 함수 대신 ReLU를 사용할 때 특화된 **He 초깃값**을 알아보자. Xavier 초깃값과 매우 유사하나, 음의 영역이 0이기 때문에 더 넓은 분포를 위해 표준편차가 $\\frac{2}{\\sqrt{n}}$인 정규분포를 사용한다."
   ]
  },
  {
   "cell_type": "code",
   "execution_count": 118,
   "id": "11876328",
   "metadata": {},
   "outputs": [
    {
     "data": {
      "image/png": "[encoded data removed]",
      "text/plain": [
       "<Figure size 432x288 with 5 Axes>"
      ]
     },
     "metadata": {
      "needs_background": "light"
     },
     "output_type": "display_data"
    }
   ],
   "source": [
    "# 0.01일 때\n",
    "\n",
    "x = input_data\n",
    "\n",
    "for i in range(hidden_layer_size):\n",
    "    if i != 0:\n",
    "        x = activations[i-1]\n",
    "\n",
    "    w = np.random.randn(node_num, node_num) * 0.01\n",
    "    a = np.dot(x, w)\n",
    "    z = ReLU(a)\n",
    "    activations[i] = z\n",
    "\n",
    "# 히스토그램 그리기\n",
    "for i, a in activations.items():\n",
    "    plt.subplot(1, len(activations), i+1)\n",
    "    plt.title(str(i+1) + \"-layer\")\n",
    "    if i != 0: plt.yticks([], [])\n",
    "    # plt.xlim(0.1, 1)\n",
    "    # plt.ylim(0, 7000)\n",
    "    plt.hist(a.flatten(), 30, range=(0,1))\n",
    "plt.show()"
   ]
  },
  {
   "cell_type": "markdown",
   "id": "310368f6",
   "metadata": {},
   "source": [
    "ReLU에 표준편차가 0.01인 정규분포를 가중치 초깃값으로 사용했을 때, 각 층의 활성화값들은 매우 작다. 그렇기에 역전파 때 가중치의 기울기 역시 작아지며, 학습의 효과도 미미하다."
   ]
  },
  {
   "cell_type": "code",
   "execution_count": 119,
   "id": "d421cff3",
   "metadata": {},
   "outputs": [
    {
     "data": {
      "image/png": "[encoded data removed]",
      "text/plain": [
       "<Figure size 432x288 with 5 Axes>"
      ]
     },
     "metadata": {
      "needs_background": "light"
     },
     "output_type": "display_data"
    }
   ],
   "source": [
    "# Xavier 초깃값일 때\n",
    "\n",
    "x = input_data\n",
    "\n",
    "for i in range(hidden_layer_size):\n",
    "    if i != 0:\n",
    "        x = activations[i-1]\n",
    "\n",
    "    w = np.random.randn(node_num, node_num) * np.sqrt(1.0 / node_num)\n",
    "    a = np.dot(x, w)\n",
    "    z = ReLU(a)\n",
    "    activations[i] = z\n",
    "\n",
    "# 히스토그램 그리기\n",
    "for i, a in activations.items():\n",
    "    plt.subplot(1, len(activations), i+1)\n",
    "    plt.title(str(i+1) + \"-layer\")\n",
    "    if i != 0: plt.yticks([], [])\n",
    "    # plt.xlim(0.1, 1)\n",
    "    # plt.ylim(0, 7000)\n",
    "    plt.hist(a.flatten(), 30, range=(0,1))\n",
    "plt.show()"
   ]
  },
  {
   "cell_type": "markdown",
   "id": "c25de7da",
   "metadata": {},
   "source": [
    "ReLU에 Xavier 초깃값을 가중치 초깃값으로 사용했을 때, 층이 깊어지면서 치우침이 커진다. 층이 더욱 깊어진다면 치우침이 더 커져서 기울기 소실 문제가 일어난다."
   ]
  },
  {
   "cell_type": "code",
   "execution_count": 120,
   "id": "6ee437e8",
   "metadata": {},
   "outputs": [
    {
     "data": {
      "image/png": "[encoded data removed]",
      "text/plain": [
       "<Figure size 432x288 with 5 Axes>"
      ]
     },
     "metadata": {
      "needs_background": "light"
     },
     "output_type": "display_data"
    }
   ],
   "source": [
    "# He 초깃값일 때\n",
    "\n",
    "x = input_data\n",
    "\n",
    "for i in range(hidden_layer_size):\n",
    "    if i != 0:\n",
    "        x = activations[i-1]\n",
    "\n",
    "    w = np.random.randn(node_num, node_num) * np.sqrt(2.0 / node_num)\n",
    "    a = np.dot(x, w)\n",
    "    z = ReLU(a)\n",
    "    activations[i] = z\n",
    "\n",
    "# 히스토그램 그리기\n",
    "for i, a in activations.items():\n",
    "    plt.subplot(1, len(activations), i+1)\n",
    "    plt.title(str(i+1) + \"-layer\")\n",
    "    if i != 0: plt.yticks([], [])\n",
    "    # plt.xlim(0.1, 1)\n",
    "    # plt.ylim(0, 7000)\n",
    "    plt.hist(a.flatten(), 30, range=(0,1))\n",
    "plt.show()"
   ]
  },
  {
   "cell_type": "markdown",
   "id": "812a290a",
   "metadata": {},
   "source": [
    "ReLU에 He 초깃값을 가중치 초깃값으로 사용했을 때, 모든 층에서 균일하게 분포되기에 역전파 때도 적절한 값이 나올 것이다.\n",
    "\n",
    "**즉, 활성화 함수로 ReLU를 사용할 때는 He 초깃값을, sigmoid나 tanh 등의 S자 모양 곡선일 때는 Xavier 초깃값을 사용한다.**\n",
    "\n",
    "가중치 초깃값을 비교해보자."
   ]
  },
  {
   "cell_type": "code",
   "execution_count": 60,
   "id": "9bd16dd1",
   "metadata": {},
   "outputs": [
    {
     "data": {
      "image/png": "[encoded data removed]",
      "text/plain": [
       "<Figure size 432x288 with 1 Axes>"
      ]
     },
     "metadata": {
      "needs_background": "light"
     },
     "output_type": "display_data"
    }
   ],
   "source": [
    "# 0. MNIST 데이터 읽기==========\n",
    "(x_train, t_train), (x_test, t_test) = load_mnist(normalize=True)\n",
    "\n",
    "train_size = x_train.shape[0]\n",
    "batch_size = 128\n",
    "max_iterations = 2000\n",
    "\n",
    "\n",
    "# 1. 실험용 설정==========\n",
    "weight_init_types = {'std=0.01': 0.01, 'Xavier': 'sigmoid', 'He': 'relu'}\n",
    "optimizer = SGD(lr=0.01)\n",
    "\n",
    "networks = {}\n",
    "train_loss = {}\n",
    "for key, weight_type in weight_init_types.items():\n",
    "    networks[key] = MultiLayerNet(input_size=784, hidden_size_list=[100, 100, 100, 100],\n",
    "                                  output_size=10, weight_init_std=weight_type)\n",
    "    train_loss[key] = []\n",
    "\n",
    "\n",
    "# 2. 훈련 시작==========\n",
    "for i in range(max_iterations):\n",
    "    batch_mask = np.random.choice(train_size, batch_size)\n",
    "    x_batch = x_train[batch_mask]\n",
    "    t_batch = t_train[batch_mask]\n",
    "    \n",
    "    for key in weight_init_types.keys():\n",
    "        grads = networks[key].gradient(x_batch, t_batch)\n",
    "        optimizer.update(networks[key].params, grads)\n",
    "    \n",
    "        loss = networks[key].loss(x_batch, t_batch)\n",
    "        train_loss[key].append(loss)\n",
    "    \n",
    "    if i % 100 == 0:\n",
    "#         print(\"===========\" + \"iteration:\" + str(i) + \"===========\")\n",
    "        for key in weight_init_types.keys():\n",
    "            loss = networks[key].loss(x_batch, t_batch)\n",
    "#             print(key + \":\" + str(loss))\n",
    "\n",
    "\n",
    "# 3. 그래프 그리기==========\n",
    "markers = {'std=0.01': 'o', 'Xavier': 's', 'He': 'D'}\n",
    "x = np.arange(max_iterations)\n",
    "for key in weight_init_types.keys():\n",
    "    plt.plot(x, smooth_curve(train_loss[key]), marker=markers[key], markevery=100, label=key)\n",
    "plt.xlabel(\"iterations\")\n",
    "plt.ylabel(\"loss\")\n",
    "plt.ylim(0, 2.5)\n",
    "plt.legend()\n",
    "plt.show()"
   ]
  },
  {
   "cell_type": "markdown",
   "id": "fcec3c9d",
   "metadata": {},
   "source": [
    "`std=0.01`의 경우 학습이 전혀 이뤄지지 않으며, 나머지 두 개의 초깃값의 경우 학습이 잘 이뤄진다. 진도는 He 초깃값 쪽이 조금 더 빠르다."
   ]
  },
  {
   "cell_type": "markdown",
   "id": "c5828907",
   "metadata": {},
   "source": [
    "## 6.3 배치 정규화\n",
    "\n",
    "**배치 정규화**는 각 층에서의 활성화값이 적당히 분포되도록 조정하는 것이다. 다음과 같은 이점이 있다.\n",
    "\n",
    "1. 학습을 빨리 진행할 수 있다 (속도 개선).\n",
    "2. 초깃값에 크게 의존하지 않는다.\n",
    "3. 오버피팅을 억제한다 (드롭아웃 등의 필요성 감소)."
   ]
  },
  {
   "cell_type": "markdown",
   "id": "58f5fe72",
   "metadata": {},
   "source": [
    "<div>\n",
    "<img src=\"fig6.7.jpg\" width=\"700\"/>\n",
    "</div>"
   ]
  },
  {
   "cell_type": "markdown",
   "id": "752a0850",
   "metadata": {},
   "source": [
    "배치 정규화는 그림처럼 학습 시 미니배치를 단위로 정규화($N\\sim(0,1)$)한다.\n",
    "\n",
    "수식으로는 아래와 같이 표현한다."
   ]
  },
  {
   "cell_type": "markdown",
   "id": "d039d1b5",
   "metadata": {},
   "source": [
    "<div>\n",
    "<img src=\"equ6.4.jpg\" width=\"500\"/>\n",
    "</div>"
   ]
  },
  {
   "cell_type": "markdown",
   "id": "22e891ec",
   "metadata": {},
   "source": [
    "미니배치 $B={x_1, x_2, ..., x_m}$는 $m$개의 입력 데이터의 집합이며, 이에 대한 평균 $\\mu_B$와 분산 $\\sigma^2_B$를 구한 후 $N\\sim(0,1)$으로 정규화한다. $\\epsilon$은 division by 0 error를 막기 위한 작은 수 (`10e-7`, etc.)다.\n",
    "\n",
    "또한, 배치 정규화 계층마다 이 정규화된 데이터에 고유한 확대와 이동 변환을 수행한다."
   ]
  },
  {
   "cell_type": "markdown",
   "id": "8e02e8b3",
   "metadata": {},
   "source": [
    "<div>\n",
    "<img src=\"equ6.5.jpg\" width=\"300\"/>\n",
    "</div>"
   ]
  },
  {
   "cell_type": "markdown",
   "id": "6e411c0f",
   "metadata": {},
   "source": [
    "$\\gamma$가 확대를, $\\beta$가 이동을 담당한다. 초깃값은 $\\gamma=1, \\beta=0$이다.\n",
    "\n",
    "계산 그래프는 다음과 같이 나타낸다."
   ]
  },
  {
   "cell_type": "markdown",
   "id": "03c715ce",
   "metadata": {},
   "source": [
    "<div>\n",
    "<img src=\"fig6.8.jpg\" width=\"700\"/>\n",
    "</div>"
   ]
  },
  {
   "cell_type": "code",
   "execution_count": 38,
   "id": "42d39f69",
   "metadata": {},
   "outputs": [],
   "source": [
    "# 준비 코드\n",
    "class MultiLayerNetExtend:\n",
    "    \"\"\"완전 연결 다층 신경망(확장판)\n",
    "    가중치 감소, 드롭아웃, 배치 정규화 구현\n",
    "    Parameters\n",
    "    ----------\n",
    "    input_size : 입력 크기（MNIST의 경우엔 784）\n",
    "    hidden_size_list : 각 은닉층의 뉴런 수를 담은 리스트（e.g. [100, 100, 100]）\n",
    "    output_size : 출력 크기（MNIST의 경우엔 10）\n",
    "    activation : 활성화 함수 - 'relu' 혹은 'sigmoid'\n",
    "    weight_init_std : 가중치의 표준편차 지정（e.g. 0.01）\n",
    "        'relu'나 'he'로 지정하면 'He 초깃값'으로 설정\n",
    "        'sigmoid'나 'xavier'로 지정하면 'Xavier 초깃값'으로 설정\n",
    "    weight_decay_lambda : 가중치 감소(L2 법칙)의 세기\n",
    "    use_dropout : 드롭아웃 사용 여부\n",
    "    dropout_ration : 드롭아웃 비율\n",
    "    use_batchNorm : 배치 정규화 사용 여부\n",
    "    \"\"\"\n",
    "    def __init__(self, input_size, hidden_size_list, output_size,\n",
    "                 activation='relu', weight_init_std='relu', weight_decay_lambda=0, \n",
    "                 use_dropout = False, dropout_ration = 0.5, use_batchnorm=False):\n",
    "        self.input_size = input_size\n",
    "        self.output_size = output_size\n",
    "        self.hidden_size_list = hidden_size_list\n",
    "        self.hidden_layer_num = len(hidden_size_list)\n",
    "        self.use_dropout = use_dropout\n",
    "        self.weight_decay_lambda = weight_decay_lambda\n",
    "        self.use_batchnorm = use_batchnorm\n",
    "        self.params = {}\n",
    "\n",
    "        # 가중치 초기화\n",
    "        self.__init_weight(weight_init_std)\n",
    "\n",
    "        # 계층 생성\n",
    "        activation_layer = {'sigmoid': Sigmoid, 'relu': Relu}\n",
    "        self.layers = OrderedDict()\n",
    "        for idx in range(1, self.hidden_layer_num+1):\n",
    "            self.layers['Affine' + str(idx)] = Affine(self.params['W' + str(idx)],\n",
    "                                                      self.params['b' + str(idx)])\n",
    "            if self.use_batchnorm:\n",
    "                self.params['gamma' + str(idx)] = np.ones(hidden_size_list[idx-1])\n",
    "                self.params['beta' + str(idx)] = np.zeros(hidden_size_list[idx-1])\n",
    "                self.layers['BatchNorm' + str(idx)] = BatchNormalization(self.params['gamma' + str(idx)], self.params['beta' + str(idx)])\n",
    "                \n",
    "            self.layers['Activation_function' + str(idx)] = activation_layer[activation]()\n",
    "            \n",
    "            if self.use_dropout:\n",
    "                self.layers['Dropout' + str(idx)] = Dropout(dropout_ration)\n",
    "\n",
    "        idx = self.hidden_layer_num + 1\n",
    "        self.layers['Affine' + str(idx)] = Affine(self.params['W' + str(idx)], self.params['b' + str(idx)])\n",
    "\n",
    "        self.last_layer = SoftmaxWithLoss()\n",
    "\n",
    "    def __init_weight(self, weight_init_std):\n",
    "        \"\"\"가중치 초기화\n",
    "        \n",
    "        Parameters\n",
    "        ----------\n",
    "        weight_init_std : 가중치의 표준편차 지정（e.g. 0.01）\n",
    "            'relu'나 'he'로 지정하면 'He 초깃값'으로 설정\n",
    "            'sigmoid'나 'xavier'로 지정하면 'Xavier 초깃값'으로 설정\n",
    "        \"\"\"\n",
    "        all_size_list = [self.input_size] + self.hidden_size_list + [self.output_size]\n",
    "        for idx in range(1, len(all_size_list)):\n",
    "            scale = weight_init_std\n",
    "            if str(weight_init_std).lower() in ('relu', 'he'):\n",
    "                scale = np.sqrt(2.0 / all_size_list[idx - 1])  # ReLUを使う場合に推奨される初期値\n",
    "            elif str(weight_init_std).lower() in ('sigmoid', 'xavier'):\n",
    "                scale = np.sqrt(1.0 / all_size_list[idx - 1])  # sigmoidを使う場合に推奨される初期値\n",
    "            self.params['W' + str(idx)] = scale * np.random.randn(all_size_list[idx-1], all_size_list[idx])\n",
    "            self.params['b' + str(idx)] = np.zeros(all_size_list[idx])\n",
    "\n",
    "    def predict(self, x, train_flg=False):\n",
    "        for key, layer in self.layers.items():\n",
    "            if \"Dropout\" in key or \"BatchNorm\" in key:\n",
    "                x = layer.forward(x, train_flg)\n",
    "            else:\n",
    "                x = layer.forward(x)\n",
    "\n",
    "        return x\n",
    "\n",
    "    def loss(self, x, t, train_flg=False):\n",
    "        \"\"\"손실 함수를 구한다.\n",
    "        \n",
    "        Parameters\n",
    "        ----------\n",
    "        x : 입력 데이터\n",
    "        t : 정답 레이블 \n",
    "        \"\"\"\n",
    "        y = self.predict(x, train_flg)\n",
    "\n",
    "        weight_decay = 0\n",
    "        for idx in range(1, self.hidden_layer_num + 2):\n",
    "            W = self.params['W' + str(idx)]\n",
    "            weight_decay += 0.5 * self.weight_decay_lambda * np.sum(W**2)\n",
    "\n",
    "        return self.last_layer.forward(y, t) + weight_decay\n",
    "\n",
    "    def accuracy(self, X, T):\n",
    "        Y = self.predict(X, train_flg=False)\n",
    "        Y = np.argmax(Y, axis=1)\n",
    "        if T.ndim != 1 : T = np.argmax(T, axis=1)\n",
    "\n",
    "        accuracy = np.sum(Y == T) / float(X.shape[0])\n",
    "        return accuracy\n",
    "\n",
    "    def numerical_gradient(self, X, T):\n",
    "        \"\"\"기울기를 구한다(수치 미분).\n",
    "        \n",
    "        Parameters\n",
    "        ----------\n",
    "        x : 입력 데이터\n",
    "        t : 정답 레이블\n",
    "        \n",
    "        Returns\n",
    "        -------\n",
    "        각 층의 기울기를 담은 사전(dictionary) 변수\n",
    "            grads['W1']、grads['W2']、... 각 층의 가중치\n",
    "            grads['b1']、grads['b2']、... 각 층의 편향\n",
    "        \"\"\"\n",
    "        loss_W = lambda W: self.loss(X, T, train_flg=True)\n",
    "\n",
    "        grads = {}\n",
    "        for idx in range(1, self.hidden_layer_num+2):\n",
    "            grads['W' + str(idx)] = numerical_gradient(loss_W, self.params['W' + str(idx)])\n",
    "            grads['b' + str(idx)] = numerical_gradient(loss_W, self.params['b' + str(idx)])\n",
    "            \n",
    "            if self.use_batchnorm and idx != self.hidden_layer_num+1:\n",
    "                grads['gamma' + str(idx)] = numerical_gradient(loss_W, self.params['gamma' + str(idx)])\n",
    "                grads['beta' + str(idx)] = numerical_gradient(loss_W, self.params['beta' + str(idx)])\n",
    "\n",
    "        return grads\n",
    "        \n",
    "    def gradient(self, x, t):\n",
    "        # forward\n",
    "        self.loss(x, t, train_flg=True)\n",
    "\n",
    "        # backward\n",
    "        dout = 1\n",
    "        dout = self.last_layer.backward(dout)\n",
    "\n",
    "        layers = list(self.layers.values())\n",
    "        layers.reverse()\n",
    "        for layer in layers:\n",
    "            dout = layer.backward(dout)\n",
    "\n",
    "        # 결과 저장\n",
    "        grads = {}\n",
    "        for idx in range(1, self.hidden_layer_num+2):\n",
    "            grads['W' + str(idx)] = self.layers['Affine' + str(idx)].dW + self.weight_decay_lambda * self.params['W' + str(idx)]\n",
    "            grads['b' + str(idx)] = self.layers['Affine' + str(idx)].db\n",
    "\n",
    "            if self.use_batchnorm and idx != self.hidden_layer_num+1:\n",
    "                grads['gamma' + str(idx)] = self.layers['BatchNorm' + str(idx)].dgamma\n",
    "                grads['beta' + str(idx)] = self.layers['BatchNorm' + str(idx)].dbeta\n",
    "\n",
    "        return grads\n",
    "\n",
    "    \n",
    "class BatchNormalization:\n",
    "    \"\"\"\n",
    "    http://arxiv.org/abs/1502.03167\n",
    "    \"\"\"\n",
    "    def __init__(self, gamma, beta, momentum=0.9, running_mean=None, running_var=None):\n",
    "        self.gamma = gamma\n",
    "        self.beta = beta\n",
    "        self.momentum = momentum\n",
    "        self.input_shape = None # 합성곱 계층은 4차원, 완전연결 계층은 2차원  \n",
    "\n",
    "        # 시험할 때 사용할 평균과 분산\n",
    "        self.running_mean = running_mean\n",
    "        self.running_var = running_var  \n",
    "        \n",
    "        # backward 시에 사용할 중간 데이터\n",
    "        self.batch_size = None\n",
    "        self.xc = None\n",
    "        self.std = None\n",
    "        self.dgamma = None\n",
    "        self.dbeta = None\n",
    "\n",
    "    def forward(self, x, train_flg=True):\n",
    "        self.input_shape = x.shape\n",
    "        if x.ndim != 2:\n",
    "            N, C, H, W = x.shape\n",
    "            x = x.reshape(N, -1)\n",
    "\n",
    "        out = self.__forward(x, train_flg)\n",
    "        \n",
    "        return out.reshape(*self.input_shape)\n",
    "            \n",
    "    def __forward(self, x, train_flg):\n",
    "        if self.running_mean is None:\n",
    "            N, D = x.shape\n",
    "            self.running_mean = np.zeros(D)\n",
    "            self.running_var = np.zeros(D)\n",
    "                        \n",
    "        if train_flg:\n",
    "            mu = x.mean(axis=0)\n",
    "            xc = x - mu\n",
    "            var = np.mean(xc**2, axis=0)\n",
    "            std = np.sqrt(var + 10e-7)\n",
    "            xn = xc / std\n",
    "            \n",
    "            self.batch_size = x.shape[0]\n",
    "            self.xc = xc\n",
    "            self.xn = xn\n",
    "            self.std = std\n",
    "            self.running_mean = self.momentum * self.running_mean + (1-self.momentum) * mu\n",
    "            self.running_var = self.momentum * self.running_var + (1-self.momentum) * var            \n",
    "        else:\n",
    "            xc = x - self.running_mean\n",
    "            xn = xc / ((np.sqrt(self.running_var + 10e-7)))\n",
    "            \n",
    "        out = self.gamma * xn + self.beta \n",
    "        return out\n",
    "\n",
    "    def backward(self, dout):\n",
    "        if dout.ndim != 2:\n",
    "            N, C, H, W = dout.shape\n",
    "            dout = dout.reshape(N, -1)\n",
    "\n",
    "        dx = self.__backward(dout)\n",
    "\n",
    "        dx = dx.reshape(*self.input_shape)\n",
    "        return dx\n",
    "\n",
    "    def __backward(self, dout):\n",
    "        dbeta = dout.sum(axis=0)\n",
    "        dgamma = np.sum(self.xn * dout, axis=0)\n",
    "        dxn = self.gamma * dout\n",
    "        dxc = dxn / self.std\n",
    "        dstd = -np.sum((dxn * self.xc) / (self.std * self.std), axis=0)\n",
    "        dvar = 0.5 * dstd / self.std\n",
    "        dxc += (2.0 / self.batch_size) * self.xc * dvar\n",
    "        dmu = np.sum(dxc, axis=0)\n",
    "        dx = dxc - dmu / self.batch_size\n",
    "        \n",
    "        self.dgamma = dgamma\n",
    "        self.dbeta = dbeta\n",
    "        \n",
    "        return dx"
   ]
  },
  {
   "cell_type": "code",
   "execution_count": 56,
   "id": "35dfb00b",
   "metadata": {},
   "outputs": [
    {
     "data": {
      "image/png": "[encoded data removed]",
      "text/plain": [
       "<Figure size 432x288 with 16 Axes>"
      ]
     },
     "metadata": {
      "needs_background": "light"
     },
     "output_type": "display_data"
    }
   ],
   "source": [
    "from dataset.mnist import load_mnist\n",
    "\n",
    "(x_train, t_train), (x_test, t_test) = load_mnist(normalize=True)\n",
    "\n",
    "# 학습 데이터를 줄임\n",
    "x_train = x_train[:1000]\n",
    "t_train = t_train[:1000]\n",
    "\n",
    "max_epochs = 20\n",
    "train_size = x_train.shape[0]\n",
    "batch_size = 100\n",
    "learning_rate = 0.01\n",
    "\n",
    "\n",
    "def __train(weight_init_std):\n",
    "    bn_network = MultiLayerNetExtend(input_size=784, hidden_size_list=[100, 100, 100, 100, 100], output_size=10, \n",
    "                                    weight_init_std=weight_init_std, use_batchnorm=True)\n",
    "    network = MultiLayerNetExtend(input_size=784, hidden_size_list=[100, 100, 100, 100, 100], output_size=10,\n",
    "                                weight_init_std=weight_init_std)\n",
    "    optimizer = SGD(lr=learning_rate)\n",
    "    \n",
    "    train_acc_list = []\n",
    "    bn_train_acc_list = []\n",
    "    \n",
    "    iter_per_epoch = max(train_size / batch_size, 1)\n",
    "    epoch_cnt = 0\n",
    "    \n",
    "    for i in range(1000000000):\n",
    "        batch_mask = np.random.choice(train_size, batch_size)\n",
    "        x_batch = x_train[batch_mask]\n",
    "        t_batch = t_train[batch_mask]\n",
    "    \n",
    "        for _network in (bn_network, network):\n",
    "            grads = _network.gradient(x_batch, t_batch)\n",
    "            optimizer.update(_network.params, grads)\n",
    "    \n",
    "        if i % iter_per_epoch == 0:\n",
    "            train_acc = network.accuracy(x_train, t_train)\n",
    "            bn_train_acc = bn_network.accuracy(x_train, t_train)\n",
    "            train_acc_list.append(train_acc)\n",
    "            bn_train_acc_list.append(bn_train_acc)\n",
    "    \n",
    "#             print(\"epoch:\" + str(epoch_cnt) + \" | \" + str(train_acc) + \" - \" + str(bn_train_acc))\n",
    "    \n",
    "            epoch_cnt += 1\n",
    "            if epoch_cnt >= max_epochs:\n",
    "                break\n",
    "                \n",
    "    return train_acc_list, bn_train_acc_list\n",
    "\n",
    "\n",
    "# 그래프 그리기==========\n",
    "weight_scale_list = np.logspace(0, -4, num=16)\n",
    "x = np.arange(max_epochs)\n",
    "\n",
    "for i, w in enumerate(weight_scale_list):\n",
    "#     print( \"============== \" + str(i+1) + \"/16\" + \" ==============\")\n",
    "    train_acc_list, bn_train_acc_list = __train(w)\n",
    "    \n",
    "    plt.subplot(4,4,i+1)\n",
    "    plt.title(\"W:\" + str(w))\n",
    "    if i == 15:\n",
    "        plt.plot(x, bn_train_acc_list, label='Batch Normalization', markevery=2)\n",
    "        plt.plot(x, train_acc_list, linestyle = \"--\", label='Normal(without BatchNorm)', markevery=2)\n",
    "    else:\n",
    "        plt.plot(x, bn_train_acc_list, markevery=2)\n",
    "        plt.plot(x, train_acc_list, linestyle=\"--\", markevery=2)\n",
    "\n",
    "    plt.ylim(0, 1.0)\n",
    "    if i % 4:\n",
    "        plt.yticks([])\n",
    "    else:\n",
    "        plt.ylabel(\"accuracy\")\n",
    "    if i < 12:\n",
    "        plt.xticks([])\n",
    "    else:\n",
    "        plt.xlabel(\"epochs\")\n",
    "#     plt.legend(loc='lower right')\n",
    "    \n",
    "plt.show()"
   ]
  },
  {
   "cell_type": "markdown",
   "id": "926e586a",
   "metadata": {},
   "source": [
    "초깃값 분포를 다양하게 시험해 봤을 떄, 배치 정규화를 사용했을 때 학습 진도가 빠른 것으로 나타난다. 배치 정규화를 이용하지 않으면 학습이 전혀 진행되지 않는 case도 존재한다.\n",
    "\n",
    "**배치 정규화를 사용하면 학습이 빨라지며, 가중치 초깃값에 크게 의존하지 않는다**."
   ]
  },
  {
   "cell_type": "markdown",
   "id": "53d98041",
   "metadata": {},
   "source": [
    "## 6.4 오버피팅 방지\n",
    "\n",
    "매개변수가 많고 표현력이 높은 모델을 다루거나 적은 훈련 데이터를 가졌을 때 오버피팅이 자주 발생한다.\n",
    "\n",
    "오버피팅을 방지하는 방법은 크게 두 가지가 있는데, 그 중 하나는 **가중치 감소**다. 큰 가중치에 대해서 그에 맞는 큰 페널티를 부과해 오버피팅을 억제하는 방법이다."
   ]
  },
  {
   "cell_type": "code",
   "execution_count": 54,
   "id": "5b5f25ab",
   "metadata": {},
   "outputs": [
    {
     "data": {
      "image/png": "[encoded data removed]",
      "text/plain": [
       "<Figure size 432x288 with 1 Axes>"
      ]
     },
     "metadata": {
      "needs_background": "light"
     },
     "output_type": "display_data"
    }
   ],
   "source": [
    "from dataset.mnist import load_mnist\n",
    "from common.multi_layer_net import MultiLayerNet\n",
    "from common.optimizer import SGD\n",
    "\n",
    "(x_train, t_train), (x_test, t_test) = load_mnist(normalize=True)\n",
    "\n",
    "# 오버피팅을 재현하기 위해 학습 데이터 수를 줄임\n",
    "x_train = x_train[:300]\n",
    "t_train = t_train[:300]\n",
    "\n",
    "# weight decay（가중치 감쇠） 설정 =======================\n",
    "#weight_decay_lambda = 0 # weight decay를 사용하지 않을 경우\n",
    "weight_decay_lambda = 0.1\n",
    "# ====================================================\n",
    "\n",
    "network = MultiLayerNet(input_size=784, hidden_size_list=[100, 100, 100, 100, 100, 100], output_size=10,\n",
    "                        weight_decay_lambda=weight_decay_lambda)\n",
    "optimizer = SGD(lr=0.01) # 학습률이 0.01인 SGD로 매개변수 갱신\n",
    "\n",
    "max_epochs = 201\n",
    "train_size = x_train.shape[0]\n",
    "batch_size = 100\n",
    "\n",
    "train_loss_list = []\n",
    "train_acc_list = []\n",
    "test_acc_list = []\n",
    "\n",
    "iter_per_epoch = max(train_size / batch_size, 1)\n",
    "epoch_cnt = 0\n",
    "\n",
    "for i in range(1000000000):\n",
    "    batch_mask = np.random.choice(train_size, batch_size)\n",
    "    x_batch = x_train[batch_mask]\n",
    "    t_batch = t_train[batch_mask]\n",
    "\n",
    "    grads = network.gradient(x_batch, t_batch)\n",
    "    optimizer.update(network.params, grads)\n",
    "\n",
    "    if i % iter_per_epoch == 0:\n",
    "        train_acc = network.accuracy(x_train, t_train)\n",
    "        test_acc = network.accuracy(x_test, t_test)\n",
    "        train_acc_list.append(train_acc)\n",
    "        test_acc_list.append(test_acc)\n",
    "\n",
    "#         print(\"epoch:\" + str(epoch_cnt) + \", train acc:\" + str(train_acc) + \", test acc:\" + str(test_acc))\n",
    "\n",
    "        epoch_cnt += 1\n",
    "        if epoch_cnt >= max_epochs:\n",
    "            break\n",
    "\n",
    "\n",
    "# 그래프 그리기==========\n",
    "markers = {'train': 'o', 'test': 's'}\n",
    "x = np.arange(max_epochs)\n",
    "plt.plot(x, train_acc_list, marker='o', label='train', markevery=10)\n",
    "plt.plot(x, test_acc_list, marker='s', label='test', markevery=10)\n",
    "plt.xlabel(\"epochs\")\n",
    "plt.ylabel(\"accuracy\")\n",
    "plt.ylim(0, 1.0)\n",
    "plt.legend(loc='lower right')\n",
    "plt.show()"
   ]
  },
  {
   "cell_type": "markdown",
   "id": "0f3808ee",
   "metadata": {},
   "source": [
    "L2 정규화를 사용했다. 가중치 감소를 통해 모든 가중치 각각의 손실 함수에 $\\frac{1}{2}\\lambda\\textbf{W}^2$를 더했다. (따라서, 가중치의 기울기를 구하는 계산에서는 그동안의 오차역전파법에 따른 결과에 정규화 항을 미분한 $\\lambda\\textbf{W}$를 더한다.) $\\lambda$ 값이 커질수록 손실 함수에 더하는 값도 커지기 때문에 큰 가중치에 대한 페널티도 커진다. 위 코드에서는 $\\lambda=0.1$을 적용했다.\n",
    "\n",
    "오버피팅을 방지하는 또다른 방법은 **드롭아웃**이다. 가중치 감소의 경우, 신경망 모델이 복잡해질 경우 오버피팅을 완벽히 억제하지는 못한다. 드롭아웃은 훈련 때 임의로 은닉층의 뉴런을 무작위로 골라 삭제한다. 뉴런이 삭제되면 신호를 전달하지 않는다. 다만, 시험 때는 삭제하지 않고 모든 뉴런에 신호를 보내며, 각 뉴런의 출력에 훈련 때 삭제한 비율을 곱하여 출력한다."
   ]
  },
  {
   "cell_type": "markdown",
   "id": "4cc5dd22",
   "metadata": {},
   "source": [
    "<div>\n",
    "<img src=\"fig6.9.jpg\" width=\"700\"/>\n",
    "</div>"
   ]
  },
  {
   "cell_type": "code",
   "execution_count": 48,
   "id": "c70b8125",
   "metadata": {},
   "outputs": [],
   "source": [
    "class Dropout:\n",
    "    def __init__(self, dropout_ratio=0.5):\n",
    "        self.dropout_ratio = dropout_ratio\n",
    "        self.mask = None\n",
    "        \n",
    "    def forward(self, x, train_flg=True):\n",
    "        if train_flg:\n",
    "            # 삭제하면 False로 표시\n",
    "            self.mask = np.random.rand(*x.shape) > self.dropout_ratio\n",
    "            return x * self.mask\n",
    "        else:\n",
    "            return x * (1.0 - self.dropout_ratio)\n",
    "    \n",
    "    def backward(self, dout):\n",
    "        # 순전파 때 통과시키지 않은 뉴런은 역전차 때도 신호 차단\n",
    "        return dout * self.mask"
   ]
  },
  {
   "cell_type": "code",
   "execution_count": 67,
   "id": "63ebd8e4",
   "metadata": {},
   "outputs": [
    {
     "name": "stdout",
     "output_type": "stream",
     "text": [
      "train loss:2.3022543228514367\n",
      "=== epoch:1, train acc:0.08, test acc:0.0815 ===\n",
      "train loss:2.3090497515384616\n",
      "train loss:2.307828693880099\n",
      "train loss:2.3101629878513763\n",
      "=== epoch:2, train acc:0.08333333333333333, test acc:0.0834 ===\n",
      "train loss:2.3018804954974126\n",
      "train loss:2.3144312660965234\n",
      "train loss:2.311591030772306\n",
      "=== epoch:3, train acc:0.09, test acc:0.0851 ===\n",
      "train loss:2.30923046235641\n",
      "train loss:2.305597879868679\n",
      "train loss:2.304343578563765\n",
      "=== epoch:4, train acc:0.09, test acc:0.0878 ===\n",
      "train loss:2.305673889887046\n",
      "train loss:2.292502549257458\n",
      "train loss:2.3111161959171485\n",
      "=== epoch:5, train acc:0.09, test acc:0.0888 ===\n",
      "train loss:2.306870440988848\n",
      "train loss:2.2968294075688704\n",
      "train loss:2.299057664977899\n",
      "=== epoch:6, train acc:0.09333333333333334, test acc:0.0927 ===\n",
      "train loss:2.299348670011275\n",
      "train loss:2.300220733074722\n",
      "train loss:2.2922858985533736\n",
      "=== epoch:7, train acc:0.09333333333333334, test acc:0.0939 ===\n",
      "train loss:2.291773737494508\n",
      "train loss:2.293625111151194\n",
      "train loss:2.296888446733311\n",
      "=== epoch:8, train acc:0.09666666666666666, test acc:0.0962 ===\n",
      "train loss:2.2959627017011655\n",
      "train loss:2.296520248484505\n",
      "train loss:2.3005417758788704\n",
      "=== epoch:9, train acc:0.11, test acc:0.0995 ===\n",
      "train loss:2.2906410015324217\n",
      "train loss:2.303315732091444\n",
      "train loss:2.3002190238424145\n",
      "=== epoch:10, train acc:0.10333333333333333, test acc:0.1007 ===\n",
      "train loss:2.2876354782625024\n",
      "train loss:2.293297579296601\n",
      "train loss:2.2980077087274524\n",
      "=== epoch:11, train acc:0.11333333333333333, test acc:0.1045 ===\n",
      "train loss:2.2957887974354607\n",
      "train loss:2.2886971657162705\n",
      "train loss:2.289272031816098\n",
      "=== epoch:12, train acc:0.10333333333333333, test acc:0.1043 ===\n",
      "train loss:2.2978149083557464\n",
      "train loss:2.2993774315545434\n",
      "train loss:2.295113536835993\n",
      "=== epoch:13, train acc:0.11, test acc:0.1072 ===\n",
      "train loss:2.290594779318839\n",
      "train loss:2.3040241792019693\n",
      "train loss:2.2874498697317303\n",
      "=== epoch:14, train acc:0.11333333333333333, test acc:0.1084 ===\n",
      "train loss:2.300602625484383\n",
      "train loss:2.2927727462605123\n",
      "train loss:2.2980380994716767\n",
      "=== epoch:15, train acc:0.12333333333333334, test acc:0.1096 ===\n",
      "train loss:2.2882616100390867\n",
      "train loss:2.2858659137459862\n",
      "train loss:2.289284107894953\n",
      "=== epoch:16, train acc:0.12666666666666668, test acc:0.1131 ===\n",
      "train loss:2.288557196523147\n",
      "train loss:2.2899705298961255\n",
      "train loss:2.2896939984477043\n",
      "=== epoch:17, train acc:0.12666666666666668, test acc:0.1158 ===\n",
      "train loss:2.2902377307602895\n",
      "train loss:2.286356475813774\n",
      "train loss:2.286620346838776\n",
      "=== epoch:18, train acc:0.13333333333333333, test acc:0.1163 ===\n",
      "train loss:2.2849799411088405\n",
      "train loss:2.2833336201892447\n",
      "train loss:2.2891492547101815\n",
      "=== epoch:19, train acc:0.13, test acc:0.1184 ===\n",
      "train loss:2.281685610755252\n",
      "train loss:2.2852440059222077\n",
      "train loss:2.287734567965539\n",
      "=== epoch:20, train acc:0.13, test acc:0.1208 ===\n",
      "train loss:2.291294989692762\n",
      "train loss:2.281288122802565\n",
      "train loss:2.2917380111477366\n",
      "=== epoch:21, train acc:0.13333333333333333, test acc:0.1215 ===\n",
      "train loss:2.2856148124262687\n",
      "train loss:2.2859169738021374\n",
      "train loss:2.285157705993195\n",
      "=== epoch:22, train acc:0.13666666666666666, test acc:0.1233 ===\n",
      "train loss:2.284837327588546\n",
      "train loss:2.2824701347562915\n",
      "train loss:2.285208519406522\n",
      "=== epoch:23, train acc:0.13666666666666666, test acc:0.1245 ===\n",
      "train loss:2.2839602547687354\n",
      "train loss:2.2871486494739486\n",
      "train loss:2.287231909811605\n",
      "=== epoch:24, train acc:0.14, test acc:0.1281 ===\n",
      "train loss:2.2918613138450086\n",
      "train loss:2.2896119211079453\n",
      "train loss:2.280588062139612\n",
      "=== epoch:25, train acc:0.14666666666666667, test acc:0.1307 ===\n",
      "train loss:2.2865628284438615\n",
      "train loss:2.281179929410497\n",
      "train loss:2.2836255753388177\n",
      "=== epoch:26, train acc:0.15666666666666668, test acc:0.1323 ===\n",
      "train loss:2.279505904570167\n",
      "train loss:2.279839449389961\n",
      "train loss:2.286583519456515\n",
      "=== epoch:27, train acc:0.17, test acc:0.1369 ===\n",
      "train loss:2.276510867227073\n",
      "train loss:2.2853501302379984\n",
      "train loss:2.2820446029496004\n",
      "=== epoch:28, train acc:0.17666666666666667, test acc:0.138 ===\n",
      "train loss:2.2777785616459316\n",
      "train loss:2.2784995860168333\n",
      "train loss:2.2792292972696235\n",
      "=== epoch:29, train acc:0.18, test acc:0.139 ===\n",
      "train loss:2.2886566514792994\n",
      "train loss:2.2750651913570517\n",
      "train loss:2.2674411023094203\n",
      "=== epoch:30, train acc:0.17666666666666667, test acc:0.1431 ===\n",
      "train loss:2.277003444291475\n",
      "train loss:2.277045020944076\n",
      "train loss:2.2787695079475427\n",
      "=== epoch:31, train acc:0.18666666666666668, test acc:0.1457 ===\n",
      "train loss:2.283791216981753\n",
      "train loss:2.2696583678421907\n",
      "train loss:2.284800730904397\n",
      "=== epoch:32, train acc:0.18333333333333332, test acc:0.1461 ===\n",
      "train loss:2.277842373839232\n",
      "train loss:2.2792231127784306\n",
      "train loss:2.2761287216032318\n",
      "=== epoch:33, train acc:0.19, test acc:0.1495 ===\n",
      "train loss:2.2781359026128807\n",
      "train loss:2.283795963782332\n",
      "train loss:2.282405735597722\n",
      "=== epoch:34, train acc:0.19666666666666666, test acc:0.1533 ===\n",
      "train loss:2.270218557065036\n",
      "train loss:2.275291175821427\n",
      "train loss:2.2729856041402434\n",
      "=== epoch:35, train acc:0.2, test acc:0.1559 ===\n",
      "train loss:2.273320950496209\n",
      "train loss:2.2869074580567847\n",
      "train loss:2.2771771941971717\n",
      "=== epoch:36, train acc:0.20333333333333334, test acc:0.1608 ===\n",
      "train loss:2.2731772242498987\n",
      "train loss:2.2758273514915053\n",
      "train loss:2.271841424423718\n",
      "=== epoch:37, train acc:0.20333333333333334, test acc:0.1636 ===\n",
      "train loss:2.281424499823681\n",
      "train loss:2.2714870608202693\n",
      "train loss:2.278904760801653\n",
      "=== epoch:38, train acc:0.19666666666666666, test acc:0.1615 ===\n",
      "train loss:2.277240019541184\n",
      "train loss:2.2705822066287684\n",
      "train loss:2.271494643041827\n",
      "=== epoch:39, train acc:0.21333333333333335, test acc:0.1649 ===\n",
      "train loss:2.268197865730399\n",
      "train loss:2.2721440108391384\n",
      "train loss:2.263061775414822\n",
      "=== epoch:40, train acc:0.23, test acc:0.1691 ===\n",
      "train loss:2.274588859361629\n",
      "train loss:2.2684750005283356\n",
      "train loss:2.2808845399677\n",
      "=== epoch:41, train acc:0.23, test acc:0.1748 ===\n",
      "train loss:2.2706432581772424\n",
      "train loss:2.2693450315261954\n",
      "train loss:2.2763377878658293\n",
      "=== epoch:42, train acc:0.23666666666666666, test acc:0.1775 ===\n",
      "train loss:2.2667526687537034\n",
      "train loss:2.267338758442195\n",
      "train loss:2.2725255944531058\n",
      "=== epoch:43, train acc:0.23, test acc:0.1783 ===\n",
      "train loss:2.2741856801670504\n",
      "train loss:2.2665803201203043\n",
      "train loss:2.269434525395939\n",
      "=== epoch:44, train acc:0.23, test acc:0.1832 ===\n",
      "train loss:2.266348722858966\n",
      "train loss:2.273587405379632\n",
      "train loss:2.27070788816005\n",
      "=== epoch:45, train acc:0.24, test acc:0.1886 ===\n",
      "train loss:2.2698114762465162\n",
      "train loss:2.272612863293599\n",
      "train loss:2.2672995500491195\n",
      "=== epoch:46, train acc:0.24333333333333335, test acc:0.1905 ===\n",
      "train loss:2.2799267886348513\n",
      "train loss:2.2665928053458835\n",
      "train loss:2.26850026159656\n",
      "=== epoch:47, train acc:0.24333333333333335, test acc:0.1926 ===\n",
      "train loss:2.2685880106425227\n",
      "train loss:2.2689996417164098\n",
      "train loss:2.2741546759753732\n",
      "=== epoch:48, train acc:0.25, test acc:0.2009 ===\n",
      "train loss:2.261564275797338\n",
      "train loss:2.2649373046416446\n",
      "train loss:2.274267433186567\n",
      "=== epoch:49, train acc:0.26666666666666666, test acc:0.2047 ===\n",
      "train loss:2.269433893151857\n",
      "train loss:2.2650169452391578\n",
      "train loss:2.2519926323315733\n",
      "=== epoch:50, train acc:0.26666666666666666, test acc:0.2103 ===\n",
      "train loss:2.2724871431466873\n",
      "train loss:2.268784643384973\n",
      "train loss:2.267399873038571\n",
      "=== epoch:51, train acc:0.27666666666666667, test acc:0.2158 ===\n",
      "train loss:2.2692712010644946\n",
      "train loss:2.26367931296494\n",
      "train loss:2.2658548185631386\n",
      "=== epoch:52, train acc:0.2833333333333333, test acc:0.2202 ===\n",
      "train loss:2.26878304390847\n",
      "train loss:2.264459042186515\n",
      "train loss:2.260988358999193\n",
      "=== epoch:53, train acc:0.2966666666666667, test acc:0.225 ===\n",
      "train loss:2.2523178502020036\n",
      "train loss:2.2568020083558413\n",
      "train loss:2.259571805497605\n",
      "=== epoch:54, train acc:0.3, test acc:0.232 ===\n",
      "train loss:2.271721457724409\n",
      "train loss:2.256785820259899\n",
      "train loss:2.2764157642265563\n",
      "=== epoch:55, train acc:0.2833333333333333, test acc:0.2294 ===\n",
      "train loss:2.2568980054977676\n",
      "train loss:2.259888932762138\n",
      "train loss:2.26510482217428\n",
      "=== epoch:56, train acc:0.29333333333333333, test acc:0.2377 ===\n"
     ]
    },
    {
     "name": "stdout",
     "output_type": "stream",
     "text": [
      "train loss:2.2666328702507372\n",
      "train loss:2.2479744042573655\n",
      "train loss:2.2669609551310232\n",
      "=== epoch:57, train acc:0.31333333333333335, test acc:0.2445 ===\n",
      "train loss:2.259633674914505\n",
      "train loss:2.2649592864743644\n",
      "train loss:2.2546699653165927\n",
      "=== epoch:58, train acc:0.32, test acc:0.246 ===\n",
      "train loss:2.2649893332403814\n",
      "train loss:2.2656314362810273\n",
      "train loss:2.260212901359407\n",
      "=== epoch:59, train acc:0.31333333333333335, test acc:0.2498 ===\n",
      "train loss:2.256010448664905\n",
      "train loss:2.256912816227248\n",
      "train loss:2.254863847619527\n",
      "=== epoch:60, train acc:0.32, test acc:0.2574 ===\n",
      "train loss:2.261484875935183\n",
      "train loss:2.2520637510857155\n",
      "train loss:2.244010444267213\n",
      "=== epoch:61, train acc:0.3233333333333333, test acc:0.2567 ===\n",
      "train loss:2.251365131863504\n",
      "train loss:2.2519062977753963\n",
      "train loss:2.254858175680154\n",
      "=== epoch:62, train acc:0.35333333333333333, test acc:0.261 ===\n",
      "train loss:2.2527621751603273\n",
      "train loss:2.2458325555278047\n",
      "train loss:2.260331217651252\n",
      "=== epoch:63, train acc:0.35333333333333333, test acc:0.2598 ===\n",
      "train loss:2.254172239975194\n",
      "train loss:2.25241896303273\n",
      "train loss:2.2568660712816997\n",
      "=== epoch:64, train acc:0.36, test acc:0.266 ===\n",
      "train loss:2.254025052155944\n",
      "train loss:2.249715935905588\n",
      "train loss:2.248374718684427\n",
      "=== epoch:65, train acc:0.36666666666666664, test acc:0.2666 ===\n",
      "train loss:2.259648283729049\n",
      "train loss:2.2576176684651745\n",
      "train loss:2.246061250505026\n",
      "=== epoch:66, train acc:0.36, test acc:0.2725 ===\n",
      "train loss:2.255179625526558\n",
      "train loss:2.2605073958575734\n",
      "train loss:2.2547072461533597\n",
      "=== epoch:67, train acc:0.37, test acc:0.2726 ===\n",
      "train loss:2.2516667032664373\n",
      "train loss:2.267658945706156\n",
      "train loss:2.2474061351512953\n",
      "=== epoch:68, train acc:0.37, test acc:0.277 ===\n",
      "train loss:2.254595914798055\n",
      "train loss:2.25310537761134\n",
      "train loss:2.253347478481406\n",
      "=== epoch:69, train acc:0.37, test acc:0.2848 ===\n",
      "train loss:2.253794288149869\n",
      "train loss:2.2460579919614587\n",
      "train loss:2.2517360225829104\n",
      "=== epoch:70, train acc:0.38, test acc:0.2889 ===\n",
      "train loss:2.248927311577706\n",
      "train loss:2.2516032292525416\n",
      "train loss:2.255858126657112\n",
      "=== epoch:71, train acc:0.38, test acc:0.2891 ===\n",
      "train loss:2.2396315385528145\n",
      "train loss:2.25702903937499\n",
      "train loss:2.247785513599012\n",
      "=== epoch:72, train acc:0.37666666666666665, test acc:0.29 ===\n",
      "train loss:2.2388881949532347\n",
      "train loss:2.244557749429143\n",
      "train loss:2.2448640411556955\n",
      "=== epoch:73, train acc:0.37666666666666665, test acc:0.2872 ===\n",
      "train loss:2.253764006383685\n",
      "train loss:2.2403434059978844\n",
      "train loss:2.24863986011041\n",
      "=== epoch:74, train acc:0.37666666666666665, test acc:0.2858 ===\n",
      "train loss:2.2460899613037135\n",
      "train loss:2.250636391635516\n",
      "train loss:2.243183135350721\n",
      "=== epoch:75, train acc:0.38, test acc:0.2896 ===\n",
      "train loss:2.237246554349925\n",
      "train loss:2.2294043931035032\n",
      "train loss:2.2379123497056277\n",
      "=== epoch:76, train acc:0.38333333333333336, test acc:0.2938 ===\n",
      "train loss:2.249538061496601\n",
      "train loss:2.2396848847672732\n",
      "train loss:2.243133210711308\n",
      "=== epoch:77, train acc:0.39, test acc:0.2965 ===\n",
      "train loss:2.2549176912724356\n",
      "train loss:2.234130040260352\n",
      "train loss:2.245221308692081\n",
      "=== epoch:78, train acc:0.3933333333333333, test acc:0.3053 ===\n",
      "train loss:2.2437436563299737\n",
      "train loss:2.2384044793112756\n",
      "train loss:2.224379583596483\n",
      "=== epoch:79, train acc:0.4, test acc:0.3104 ===\n",
      "train loss:2.234922290127821\n",
      "train loss:2.2393945959016515\n",
      "train loss:2.239608880462464\n",
      "=== epoch:80, train acc:0.4066666666666667, test acc:0.3079 ===\n",
      "train loss:2.2324117240289545\n",
      "train loss:2.2409954942433523\n",
      "train loss:2.2402820159693024\n",
      "=== epoch:81, train acc:0.4, test acc:0.311 ===\n",
      "train loss:2.2432916836923873\n",
      "train loss:2.236277307676044\n",
      "train loss:2.224727804126608\n",
      "=== epoch:82, train acc:0.4066666666666667, test acc:0.3151 ===\n",
      "train loss:2.238448209459741\n",
      "train loss:2.241360289985405\n",
      "train loss:2.2567646505881362\n",
      "=== epoch:83, train acc:0.41333333333333333, test acc:0.3243 ===\n",
      "train loss:2.217638111390238\n",
      "train loss:2.25065498117954\n",
      "train loss:2.2301699841885383\n",
      "=== epoch:84, train acc:0.44, test acc:0.3335 ===\n",
      "train loss:2.2374029704954945\n",
      "train loss:2.245011780097127\n",
      "train loss:2.234762156625935\n",
      "=== epoch:85, train acc:0.44333333333333336, test acc:0.3338 ===\n",
      "train loss:2.2378444557762287\n",
      "train loss:2.2406789630123147\n",
      "train loss:2.2377801229094523\n",
      "=== epoch:86, train acc:0.45, test acc:0.3358 ===\n",
      "train loss:2.2374643398284757\n",
      "train loss:2.2324452680985036\n",
      "train loss:2.237680580180622\n",
      "=== epoch:87, train acc:0.44, test acc:0.3344 ===\n",
      "train loss:2.2445657434963304\n",
      "train loss:2.2283900872984317\n",
      "train loss:2.2332416159477337\n",
      "=== epoch:88, train acc:0.43, test acc:0.3307 ===\n",
      "train loss:2.234627525848049\n",
      "train loss:2.230378032313398\n",
      "train loss:2.2274633771887826\n",
      "=== epoch:89, train acc:0.44333333333333336, test acc:0.3354 ===\n",
      "train loss:2.231251922969687\n",
      "train loss:2.239070275398682\n",
      "train loss:2.2303028482414926\n",
      "=== epoch:90, train acc:0.45, test acc:0.3423 ===\n",
      "train loss:2.2308273429721304\n",
      "train loss:2.2247344077472966\n",
      "train loss:2.229200856059173\n",
      "=== epoch:91, train acc:0.45, test acc:0.3437 ===\n",
      "train loss:2.2161651289494135\n",
      "train loss:2.2259574483919677\n",
      "train loss:2.2278750562537866\n",
      "=== epoch:92, train acc:0.4533333333333333, test acc:0.3485 ===\n",
      "train loss:2.2176787329252763\n",
      "train loss:2.227223718048199\n",
      "train loss:2.232316921905369\n",
      "=== epoch:93, train acc:0.45666666666666667, test acc:0.3502 ===\n",
      "train loss:2.2206125881710115\n",
      "train loss:2.2240410077907318\n",
      "train loss:2.223850957674323\n",
      "=== epoch:94, train acc:0.46, test acc:0.3441 ===\n",
      "train loss:2.2345274768711674\n",
      "train loss:2.227233673288385\n",
      "train loss:2.236207610989909\n",
      "=== epoch:95, train acc:0.4533333333333333, test acc:0.3488 ===\n",
      "train loss:2.220059859402497\n",
      "train loss:2.251816614657733\n",
      "train loss:2.244565841920648\n",
      "=== epoch:96, train acc:0.47, test acc:0.3558 ===\n",
      "train loss:2.222642167859557\n",
      "train loss:2.2198633271748407\n",
      "train loss:2.2200068993501496\n",
      "=== epoch:97, train acc:0.47, test acc:0.354 ===\n",
      "train loss:2.2328804056152145\n",
      "train loss:2.219243637411373\n",
      "train loss:2.2125879412361593\n",
      "=== epoch:98, train acc:0.4633333333333333, test acc:0.3573 ===\n",
      "train loss:2.2302275801699647\n",
      "train loss:2.2167614337655435\n",
      "train loss:2.2057275793021383\n",
      "=== epoch:99, train acc:0.47, test acc:0.357 ===\n",
      "train loss:2.215842085514619\n",
      "train loss:2.219823342844922\n",
      "train loss:2.2012325509012807\n",
      "=== epoch:100, train acc:0.47333333333333333, test acc:0.361 ===\n",
      "train loss:2.2189193868509514\n",
      "train loss:2.2211412914604485\n",
      "train loss:2.211435277323024\n",
      "=== epoch:101, train acc:0.47333333333333333, test acc:0.3666 ===\n",
      "train loss:2.2149213620768964\n",
      "train loss:2.2281248121071697\n",
      "train loss:2.2159059159142114\n",
      "=== epoch:102, train acc:0.4766666666666667, test acc:0.3686 ===\n",
      "train loss:2.2251428498711108\n",
      "train loss:2.219880028278144\n",
      "train loss:2.193133936930187\n",
      "=== epoch:103, train acc:0.48, test acc:0.3687 ===\n",
      "train loss:2.209854774706475\n",
      "train loss:2.213754107696399\n",
      "train loss:2.199340567224454\n",
      "=== epoch:104, train acc:0.49333333333333335, test acc:0.3709 ===\n",
      "train loss:2.2232056701675464\n",
      "train loss:2.208745903078628\n",
      "train loss:2.2110279603784355\n",
      "=== epoch:105, train acc:0.49, test acc:0.3698 ===\n",
      "train loss:2.1975235381621534\n",
      "train loss:2.213618404299634\n",
      "train loss:2.2097684685232073\n",
      "=== epoch:106, train acc:0.49, test acc:0.3743 ===\n",
      "train loss:2.218014900148228\n",
      "train loss:2.2061730333883163\n",
      "train loss:2.198641431292243\n",
      "=== epoch:107, train acc:0.49, test acc:0.3742 ===\n",
      "train loss:2.202933327551511\n",
      "train loss:2.21947160436984\n",
      "train loss:2.188133512776961\n",
      "=== epoch:108, train acc:0.48333333333333334, test acc:0.3763 ===\n",
      "train loss:2.2062832399722283\n",
      "train loss:2.2070436174300356\n",
      "train loss:2.212391165614059\n",
      "=== epoch:109, train acc:0.4766666666666667, test acc:0.3718 ===\n",
      "train loss:2.2207360640875864\n",
      "train loss:2.210151202497178\n",
      "train loss:2.214561278816214\n",
      "=== epoch:110, train acc:0.4866666666666667, test acc:0.375 ===\n",
      "train loss:2.2011060436783394\n",
      "train loss:2.200147819848925\n",
      "train loss:2.229151965638952\n",
      "=== epoch:111, train acc:0.48, test acc:0.3759 ===\n",
      "train loss:2.223058673320791\n",
      "train loss:2.196764561881858\n",
      "train loss:2.1979422719594655\n",
      "=== epoch:112, train acc:0.48333333333333334, test acc:0.3761 ===\n",
      "train loss:2.2058589758615805\n",
      "train loss:2.187267279355768\n",
      "train loss:2.2064700101873322\n",
      "=== epoch:113, train acc:0.48333333333333334, test acc:0.3808 ===\n",
      "train loss:2.198960996313871\n",
      "train loss:2.2164919363852644\n",
      "train loss:2.200571136204945\n",
      "=== epoch:114, train acc:0.49333333333333335, test acc:0.3806 ===\n",
      "train loss:2.199214035172117\n"
     ]
    },
    {
     "name": "stdout",
     "output_type": "stream",
     "text": [
      "train loss:2.197667625484882\n",
      "train loss:2.177166892476015\n",
      "=== epoch:115, train acc:0.49, test acc:0.3824 ===\n",
      "train loss:2.2169105360804537\n",
      "train loss:2.205399669569392\n",
      "train loss:2.1888078476557395\n",
      "=== epoch:116, train acc:0.49, test acc:0.3814 ===\n",
      "train loss:2.200989650062727\n",
      "train loss:2.2011153047782077\n",
      "train loss:2.1878532936170902\n",
      "=== epoch:117, train acc:0.4866666666666667, test acc:0.3842 ===\n",
      "train loss:2.2060444808691235\n",
      "train loss:2.1886413191193603\n",
      "train loss:2.1910619165105856\n",
      "=== epoch:118, train acc:0.49, test acc:0.3856 ===\n",
      "train loss:2.18538626768158\n",
      "train loss:2.202663256956136\n",
      "train loss:2.186995379475449\n",
      "=== epoch:119, train acc:0.4866666666666667, test acc:0.3865 ===\n",
      "train loss:2.1976815612587526\n",
      "train loss:2.1929092473344696\n",
      "train loss:2.1962930177348534\n",
      "=== epoch:120, train acc:0.49333333333333335, test acc:0.3847 ===\n",
      "train loss:2.195659298864074\n",
      "train loss:2.2027363182250945\n",
      "train loss:2.1670692895144854\n",
      "=== epoch:121, train acc:0.4866666666666667, test acc:0.3865 ===\n",
      "train loss:2.190854144083145\n",
      "train loss:2.1945891623445006\n",
      "train loss:2.192768085582818\n",
      "=== epoch:122, train acc:0.48333333333333334, test acc:0.385 ===\n",
      "train loss:2.206432074735427\n",
      "train loss:2.16626116265598\n",
      "train loss:2.1826832398105536\n",
      "=== epoch:123, train acc:0.49333333333333335, test acc:0.385 ===\n",
      "train loss:2.2062725017738485\n",
      "train loss:2.1789940906679472\n",
      "train loss:2.1807494127000684\n",
      "=== epoch:124, train acc:0.4866666666666667, test acc:0.3862 ===\n",
      "train loss:2.176066314260613\n",
      "train loss:2.165937934493861\n",
      "train loss:2.175698657293456\n",
      "=== epoch:125, train acc:0.48, test acc:0.3886 ===\n",
      "train loss:2.167525402089779\n",
      "train loss:2.1881052668278986\n",
      "train loss:2.1899224733685876\n",
      "=== epoch:126, train acc:0.49333333333333335, test acc:0.3929 ===\n",
      "train loss:2.181959828866245\n",
      "train loss:2.168506653504822\n",
      "train loss:2.17900108610762\n",
      "=== epoch:127, train acc:0.4866666666666667, test acc:0.3927 ===\n",
      "train loss:2.1814237386658664\n",
      "train loss:2.1845668040181323\n",
      "train loss:2.186075401131555\n",
      "=== epoch:128, train acc:0.48, test acc:0.3952 ===\n",
      "train loss:2.175718165677345\n",
      "train loss:2.195871150186873\n",
      "train loss:2.1701105588969627\n",
      "=== epoch:129, train acc:0.49333333333333335, test acc:0.3996 ===\n",
      "train loss:2.1647879259602347\n",
      "train loss:2.182072584021229\n",
      "train loss:2.172819153106653\n",
      "=== epoch:130, train acc:0.49666666666666665, test acc:0.4012 ===\n",
      "train loss:2.193909097200863\n",
      "train loss:2.192834353266557\n",
      "train loss:2.1770972493564686\n",
      "=== epoch:131, train acc:0.49333333333333335, test acc:0.4054 ===\n",
      "train loss:2.177907579748164\n",
      "train loss:2.151504183939054\n",
      "train loss:2.1729546085058007\n",
      "=== epoch:132, train acc:0.49333333333333335, test acc:0.408 ===\n",
      "train loss:2.1963133949185734\n",
      "train loss:2.1648994539213335\n",
      "train loss:2.161360441683168\n",
      "=== epoch:133, train acc:0.5, test acc:0.4093 ===\n",
      "train loss:2.1677389065614237\n",
      "train loss:2.157886280484638\n",
      "train loss:2.150902732939576\n",
      "=== epoch:134, train acc:0.49666666666666665, test acc:0.4102 ===\n",
      "train loss:2.169895290063335\n",
      "train loss:2.1652452882826143\n",
      "train loss:2.186924561430704\n",
      "=== epoch:135, train acc:0.5066666666666667, test acc:0.407 ===\n",
      "train loss:2.1709429111019087\n",
      "train loss:2.1579873514423635\n",
      "train loss:2.1531483104074085\n",
      "=== epoch:136, train acc:0.5, test acc:0.4076 ===\n",
      "train loss:2.1669680913640987\n",
      "train loss:2.1473101415387896\n",
      "train loss:2.156808811470275\n",
      "=== epoch:137, train acc:0.5133333333333333, test acc:0.4084 ===\n",
      "train loss:2.1487076924577635\n",
      "train loss:2.170347924613822\n",
      "train loss:2.1860896901225235\n",
      "=== epoch:138, train acc:0.5133333333333333, test acc:0.4113 ===\n",
      "train loss:2.1624297225474494\n",
      "train loss:2.1349374607447533\n",
      "train loss:2.15186926056792\n",
      "=== epoch:139, train acc:0.5033333333333333, test acc:0.408 ===\n",
      "train loss:2.1411336115160444\n",
      "train loss:2.1359100476772794\n",
      "train loss:2.1563788063465523\n",
      "=== epoch:140, train acc:0.49666666666666665, test acc:0.4063 ===\n",
      "train loss:2.144060438521043\n",
      "train loss:2.1659779911233783\n",
      "train loss:2.150973657302615\n",
      "=== epoch:141, train acc:0.5033333333333333, test acc:0.4057 ===\n",
      "train loss:2.179947660249397\n",
      "train loss:2.163996033594563\n",
      "train loss:2.1348593426129763\n",
      "=== epoch:142, train acc:0.49333333333333335, test acc:0.4098 ===\n",
      "train loss:2.1378340212312232\n",
      "train loss:2.138472120880946\n",
      "train loss:2.158171740634417\n",
      "=== epoch:143, train acc:0.5, test acc:0.41 ===\n",
      "train loss:2.1394381871638837\n",
      "train loss:2.1402493142525727\n",
      "train loss:2.129189300165474\n",
      "=== epoch:144, train acc:0.5, test acc:0.4134 ===\n",
      "train loss:2.1543643509217048\n",
      "train loss:2.153869208773627\n",
      "train loss:2.140093566422442\n",
      "=== epoch:145, train acc:0.51, test acc:0.4185 ===\n",
      "train loss:2.1642198022821413\n",
      "train loss:2.127458198545785\n",
      "train loss:2.1396283341731803\n",
      "=== epoch:146, train acc:0.5066666666666667, test acc:0.4162 ===\n",
      "train loss:2.170657870526631\n",
      "train loss:2.121463052668969\n",
      "train loss:2.122349299895749\n",
      "=== epoch:147, train acc:0.5033333333333333, test acc:0.4131 ===\n",
      "train loss:2.1507298607321887\n",
      "train loss:2.1456792323354463\n",
      "train loss:2.130200803739784\n",
      "=== epoch:148, train acc:0.5066666666666667, test acc:0.4158 ===\n",
      "train loss:2.1420988197028263\n",
      "train loss:2.1249940865508745\n",
      "train loss:2.1644489610199553\n",
      "=== epoch:149, train acc:0.5066666666666667, test acc:0.4151 ===\n",
      "train loss:2.1316073838708682\n",
      "train loss:2.14311283295111\n",
      "train loss:2.146698643337177\n",
      "=== epoch:150, train acc:0.51, test acc:0.4157 ===\n",
      "train loss:2.1348910455713432\n",
      "train loss:2.1537443350879464\n",
      "train loss:2.1118696942404553\n",
      "=== epoch:151, train acc:0.5133333333333333, test acc:0.4115 ===\n",
      "train loss:2.1318570509149204\n",
      "train loss:2.1455989687235753\n",
      "train loss:2.1221365552529865\n",
      "=== epoch:152, train acc:0.5133333333333333, test acc:0.415 ===\n",
      "train loss:2.1191271848725655\n",
      "train loss:2.1571173514351263\n",
      "train loss:2.0938653429265743\n",
      "=== epoch:153, train acc:0.5133333333333333, test acc:0.4157 ===\n",
      "train loss:2.143231739463519\n",
      "train loss:2.103982470286138\n",
      "train loss:2.12595175577099\n",
      "=== epoch:154, train acc:0.51, test acc:0.4165 ===\n",
      "train loss:2.107636615994848\n",
      "train loss:2.117387627484193\n",
      "train loss:2.1032993681076944\n",
      "=== epoch:155, train acc:0.5233333333333333, test acc:0.419 ===\n",
      "train loss:2.134310066244906\n",
      "train loss:2.1006879420258695\n",
      "train loss:2.0939175810304165\n",
      "=== epoch:156, train acc:0.5133333333333333, test acc:0.4177 ===\n",
      "train loss:2.1167889475576507\n",
      "train loss:2.060573558924633\n",
      "train loss:2.106059431360161\n",
      "=== epoch:157, train acc:0.5066666666666667, test acc:0.4161 ===\n",
      "train loss:2.100878940013777\n",
      "train loss:2.104515677072756\n",
      "train loss:2.0959621237110686\n",
      "=== epoch:158, train acc:0.5033333333333333, test acc:0.4201 ===\n",
      "train loss:2.126602377891253\n",
      "train loss:2.1060280205920594\n",
      "train loss:2.098918852549173\n",
      "=== epoch:159, train acc:0.51, test acc:0.4233 ===\n",
      "train loss:2.0915720987027515\n",
      "train loss:2.1654046554938837\n",
      "train loss:2.13106782361057\n",
      "=== epoch:160, train acc:0.51, test acc:0.4273 ===\n",
      "train loss:2.0802019667427656\n",
      "train loss:2.103937926743722\n",
      "train loss:2.1276116406522156\n",
      "=== epoch:161, train acc:0.51, test acc:0.4305 ===\n",
      "train loss:2.1115001207948283\n",
      "train loss:2.0956853442695587\n",
      "train loss:2.096973071731023\n",
      "=== epoch:162, train acc:0.51, test acc:0.428 ===\n",
      "train loss:2.070597790217603\n",
      "train loss:2.1053538493982127\n",
      "train loss:2.1370162109394313\n",
      "=== epoch:163, train acc:0.5166666666666667, test acc:0.4297 ===\n",
      "train loss:2.07902744861901\n",
      "train loss:2.078942050288348\n",
      "train loss:2.0730702792535296\n",
      "=== epoch:164, train acc:0.5133333333333333, test acc:0.4292 ===\n",
      "train loss:2.078410371719255\n",
      "train loss:2.105714517138498\n",
      "train loss:2.0940277308165793\n",
      "=== epoch:165, train acc:0.5133333333333333, test acc:0.4267 ===\n",
      "train loss:2.1006807197995956\n",
      "train loss:2.0614948182348813\n",
      "train loss:2.101452099214517\n",
      "=== epoch:166, train acc:0.51, test acc:0.4232 ===\n",
      "train loss:2.116086324729243\n",
      "train loss:2.069285393891454\n",
      "train loss:2.092351134177087\n",
      "=== epoch:167, train acc:0.5133333333333333, test acc:0.4228 ===\n",
      "train loss:2.0693442137981157\n",
      "train loss:2.076973590290733\n",
      "train loss:2.0645659167862553\n",
      "=== epoch:168, train acc:0.51, test acc:0.4237 ===\n",
      "train loss:2.1068851602290026\n",
      "train loss:2.0719272405844524\n",
      "train loss:2.084022852992977\n",
      "=== epoch:169, train acc:0.51, test acc:0.4222 ===\n",
      "train loss:2.039362104446981\n",
      "train loss:2.060536957724386\n",
      "train loss:2.085720986844346\n",
      "=== epoch:170, train acc:0.5133333333333333, test acc:0.4218 ===\n",
      "train loss:2.0838298445674153\n",
      "train loss:2.0990665302212683\n",
      "train loss:2.074788447302933\n"
     ]
    },
    {
     "name": "stdout",
     "output_type": "stream",
     "text": [
      "=== epoch:171, train acc:0.5166666666666667, test acc:0.4231 ===\n",
      "train loss:2.0700915209594712\n",
      "train loss:2.104390004237811\n",
      "train loss:2.0812742702485614\n",
      "=== epoch:172, train acc:0.5166666666666667, test acc:0.4239 ===\n",
      "train loss:2.0788996967762863\n",
      "train loss:2.0559855399148814\n",
      "train loss:2.074668164181795\n",
      "=== epoch:173, train acc:0.5166666666666667, test acc:0.426 ===\n",
      "train loss:2.0625509220048155\n",
      "train loss:2.072917559164839\n",
      "train loss:2.047401273366766\n",
      "=== epoch:174, train acc:0.5133333333333333, test acc:0.4271 ===\n",
      "train loss:2.0484830182158746\n",
      "train loss:2.0450250387068323\n",
      "train loss:2.0834021319696445\n",
      "=== epoch:175, train acc:0.5166666666666667, test acc:0.4291 ===\n",
      "train loss:2.0451378835615333\n",
      "train loss:2.0406312996476443\n",
      "train loss:2.034097686227483\n",
      "=== epoch:176, train acc:0.5166666666666667, test acc:0.4255 ===\n",
      "train loss:2.0981386100107846\n",
      "train loss:2.0560119120765252\n",
      "train loss:2.0658050370328995\n",
      "=== epoch:177, train acc:0.5066666666666667, test acc:0.4265 ===\n",
      "train loss:2.070092508794048\n",
      "train loss:2.070442981790608\n",
      "train loss:2.062790185742641\n",
      "=== epoch:178, train acc:0.5133333333333333, test acc:0.4265 ===\n",
      "train loss:2.0416995235635524\n",
      "train loss:2.0536235782972936\n",
      "train loss:2.0107107139814464\n",
      "=== epoch:179, train acc:0.5166666666666667, test acc:0.4277 ===\n",
      "train loss:2.0305635642043893\n",
      "train loss:2.051951923124221\n",
      "train loss:2.0337999801634807\n",
      "=== epoch:180, train acc:0.5133333333333333, test acc:0.4261 ===\n",
      "train loss:2.0514421081601877\n",
      "train loss:2.0280995970791573\n",
      "train loss:2.0174208924144237\n",
      "=== epoch:181, train acc:0.5166666666666667, test acc:0.424 ===\n",
      "train loss:2.0645041729456057\n",
      "train loss:2.0767250624719646\n",
      "train loss:2.0273642820732647\n",
      "=== epoch:182, train acc:0.5233333333333333, test acc:0.4222 ===\n",
      "train loss:2.002317819065749\n",
      "train loss:2.040471431005731\n",
      "train loss:2.0510306928998334\n",
      "=== epoch:183, train acc:0.52, test acc:0.4254 ===\n",
      "train loss:2.018175913229577\n",
      "train loss:2.0307452122128\n",
      "train loss:2.0634956768728845\n",
      "=== epoch:184, train acc:0.5233333333333333, test acc:0.4228 ===\n",
      "train loss:2.040893594538104\n",
      "train loss:1.983777065457358\n",
      "train loss:2.053731804701244\n",
      "=== epoch:185, train acc:0.51, test acc:0.4181 ===\n",
      "train loss:2.042261913629784\n",
      "train loss:2.033735553961746\n",
      "train loss:1.9834193721634035\n",
      "=== epoch:186, train acc:0.5233333333333333, test acc:0.4147 ===\n",
      "train loss:2.031005868841604\n",
      "train loss:2.006933457587931\n",
      "train loss:2.003912366422299\n",
      "=== epoch:187, train acc:0.5133333333333333, test acc:0.4171 ===\n",
      "train loss:2.033901130871204\n",
      "train loss:2.0684131736991973\n",
      "train loss:2.0433709365206174\n",
      "=== epoch:188, train acc:0.5133333333333333, test acc:0.4204 ===\n",
      "train loss:1.9979142697251493\n",
      "train loss:2.049494212796996\n",
      "train loss:2.069187037195266\n",
      "=== epoch:189, train acc:0.5266666666666666, test acc:0.4257 ===\n",
      "train loss:1.9835142463199695\n",
      "train loss:2.0069604348460817\n",
      "train loss:2.0032188447918196\n",
      "=== epoch:190, train acc:0.51, test acc:0.4233 ===\n",
      "train loss:2.012461841667206\n",
      "train loss:2.0170168792532435\n",
      "train loss:1.9864967636127722\n",
      "=== epoch:191, train acc:0.51, test acc:0.4224 ===\n",
      "train loss:2.0287216726294104\n",
      "train loss:2.0026113901666074\n",
      "train loss:2.017483947182351\n",
      "=== epoch:192, train acc:0.52, test acc:0.4235 ===\n",
      "train loss:2.0245393730896843\n",
      "train loss:2.011061469553423\n",
      "train loss:1.9487567377986\n",
      "=== epoch:193, train acc:0.5133333333333333, test acc:0.424 ===\n",
      "train loss:1.965198613441235\n",
      "train loss:1.9887429408697965\n",
      "train loss:1.9190679214929494\n",
      "=== epoch:194, train acc:0.5033333333333333, test acc:0.4187 ===\n",
      "train loss:1.945409537038688\n",
      "train loss:1.9492135323750648\n",
      "train loss:1.9936560097274734\n",
      "=== epoch:195, train acc:0.49666666666666665, test acc:0.4142 ===\n",
      "train loss:2.0301745341451234\n",
      "train loss:1.9503665424678545\n",
      "train loss:1.983867438251786\n",
      "=== epoch:196, train acc:0.5033333333333333, test acc:0.4141 ===\n",
      "train loss:1.930971911140814\n",
      "train loss:2.007527472657247\n",
      "train loss:1.9916809289955062\n",
      "=== epoch:197, train acc:0.5033333333333333, test acc:0.4148 ===\n",
      "train loss:1.9505828087634922\n",
      "train loss:1.9298175300620108\n",
      "train loss:2.007043319382739\n",
      "=== epoch:198, train acc:0.5033333333333333, test acc:0.4127 ===\n",
      "train loss:1.972438403842241\n",
      "train loss:1.9623446949600896\n",
      "train loss:1.9433691652416778\n",
      "=== epoch:199, train acc:0.5033333333333333, test acc:0.4135 ===\n",
      "train loss:1.9207589522479527\n",
      "train loss:1.9910050790136382\n",
      "train loss:1.9448325714546633\n",
      "=== epoch:200, train acc:0.49666666666666665, test acc:0.4139 ===\n",
      "train loss:1.9825572463230845\n",
      "train loss:1.9929221765396108\n",
      "train loss:1.9367370875543337\n",
      "=== epoch:201, train acc:0.5, test acc:0.4178 ===\n",
      "train loss:1.980612209644502\n",
      "train loss:1.9697093389061586\n",
      "train loss:1.9323015751605794\n",
      "=== epoch:202, train acc:0.5, test acc:0.4176 ===\n",
      "train loss:1.942902311456125\n",
      "train loss:2.0049401140764918\n",
      "train loss:1.923291474691072\n",
      "=== epoch:203, train acc:0.49333333333333335, test acc:0.4191 ===\n",
      "train loss:1.9069403962239924\n",
      "train loss:1.9629689922396296\n",
      "train loss:1.962033999550068\n",
      "=== epoch:204, train acc:0.5, test acc:0.4194 ===\n",
      "train loss:1.910976902670404\n",
      "train loss:1.8961314587526517\n",
      "train loss:2.00063134787269\n",
      "=== epoch:205, train acc:0.5, test acc:0.418 ===\n",
      "train loss:1.9146570035231831\n",
      "train loss:1.9177569465243227\n",
      "train loss:1.953869265306768\n",
      "=== epoch:206, train acc:0.49333333333333335, test acc:0.4177 ===\n",
      "train loss:1.9166157643443145\n",
      "train loss:1.9218557831821232\n",
      "train loss:1.9600169771965812\n",
      "=== epoch:207, train acc:0.5, test acc:0.4195 ===\n",
      "train loss:1.882025126594973\n",
      "train loss:1.8755847134011563\n",
      "train loss:1.9298547847741454\n",
      "=== epoch:208, train acc:0.49666666666666665, test acc:0.4194 ===\n",
      "train loss:1.9543500646427905\n",
      "train loss:1.966086008724774\n",
      "train loss:1.8979830428062412\n",
      "=== epoch:209, train acc:0.5033333333333333, test acc:0.4213 ===\n",
      "train loss:1.9272018605567556\n",
      "train loss:1.9445082584077387\n",
      "train loss:1.913998619601338\n",
      "=== epoch:210, train acc:0.5066666666666667, test acc:0.4205 ===\n",
      "train loss:1.9070551814216992\n",
      "train loss:1.845984278926354\n",
      "train loss:1.919618139216429\n",
      "=== epoch:211, train acc:0.5033333333333333, test acc:0.419 ===\n",
      "train loss:1.9060781007863365\n",
      "train loss:1.8932538339025233\n",
      "train loss:1.9348105309091397\n",
      "=== epoch:212, train acc:0.49666666666666665, test acc:0.4182 ===\n",
      "train loss:1.9196986145274735\n",
      "train loss:1.9391594845071536\n",
      "train loss:1.908401133141336\n",
      "=== epoch:213, train acc:0.5033333333333333, test acc:0.4193 ===\n",
      "train loss:1.8435718461820765\n",
      "train loss:1.8493728821528983\n",
      "train loss:1.8809876162965122\n",
      "=== epoch:214, train acc:0.49333333333333335, test acc:0.4157 ===\n",
      "train loss:1.8949823143751596\n",
      "train loss:1.8508130563351224\n",
      "train loss:1.9359295894578212\n",
      "=== epoch:215, train acc:0.4866666666666667, test acc:0.4145 ===\n",
      "train loss:1.8748880162335064\n",
      "train loss:1.956659050851103\n",
      "train loss:1.8668602576080076\n",
      "=== epoch:216, train acc:0.49666666666666665, test acc:0.415 ===\n",
      "train loss:1.8842333306170742\n",
      "train loss:1.8783608411580406\n",
      "train loss:1.8254083715686855\n",
      "=== epoch:217, train acc:0.49, test acc:0.4134 ===\n",
      "train loss:1.8928268682465161\n",
      "train loss:1.9328276221781064\n",
      "train loss:1.9149935423594644\n",
      "=== epoch:218, train acc:0.49333333333333335, test acc:0.4144 ===\n",
      "train loss:1.8725610633152454\n",
      "train loss:1.9056295448567462\n",
      "train loss:1.9089121790531345\n",
      "=== epoch:219, train acc:0.49666666666666665, test acc:0.4176 ===\n",
      "train loss:1.8363499380266066\n",
      "train loss:1.880318260420985\n",
      "train loss:1.8330101956996885\n",
      "=== epoch:220, train acc:0.4866666666666667, test acc:0.4139 ===\n",
      "train loss:1.8782609988873782\n",
      "train loss:1.784594545624901\n",
      "train loss:1.9073969909052755\n",
      "=== epoch:221, train acc:0.49, test acc:0.4135 ===\n",
      "train loss:1.9288117973764853\n",
      "train loss:1.8081141735390647\n",
      "train loss:1.8780083980572084\n",
      "=== epoch:222, train acc:0.49333333333333335, test acc:0.4159 ===\n",
      "train loss:1.7909147533848593\n",
      "train loss:1.815349270328718\n",
      "train loss:1.8582194516387687\n",
      "=== epoch:223, train acc:0.48333333333333334, test acc:0.4117 ===\n",
      "train loss:1.8230007480201338\n",
      "train loss:1.8527376990985684\n",
      "train loss:1.8122764510189144\n",
      "=== epoch:224, train acc:0.49, test acc:0.4147 ===\n",
      "train loss:1.802652423006053\n",
      "train loss:1.814366505137844\n",
      "train loss:1.9042428461751124\n",
      "=== epoch:225, train acc:0.49, test acc:0.4154 ===\n",
      "train loss:1.8364821350273517\n",
      "train loss:1.8420823499384777\n"
     ]
    },
    {
     "name": "stdout",
     "output_type": "stream",
     "text": [
      "train loss:1.7555342707007986\n",
      "=== epoch:226, train acc:0.49666666666666665, test acc:0.4155 ===\n",
      "train loss:1.7997975514187132\n",
      "train loss:1.8437812660284703\n",
      "train loss:1.772330840421009\n",
      "=== epoch:227, train acc:0.49666666666666665, test acc:0.4168 ===\n",
      "train loss:1.8072002550980972\n",
      "train loss:1.8421053822343054\n",
      "train loss:1.7809842614453546\n",
      "=== epoch:228, train acc:0.5033333333333333, test acc:0.4184 ===\n",
      "train loss:1.8038055034871017\n",
      "train loss:1.7351276838865928\n",
      "train loss:1.8022750083985302\n",
      "=== epoch:229, train acc:0.5, test acc:0.4153 ===\n",
      "train loss:1.787200565543894\n",
      "train loss:1.8226544775776188\n",
      "train loss:1.762042103225432\n",
      "=== epoch:230, train acc:0.5, test acc:0.4143 ===\n",
      "train loss:1.7663438354562582\n",
      "train loss:1.7741812577934504\n",
      "train loss:1.8033827054070988\n",
      "=== epoch:231, train acc:0.49666666666666665, test acc:0.4141 ===\n",
      "train loss:1.8307243276022698\n",
      "train loss:1.772674250007239\n",
      "train loss:1.7248665328194348\n",
      "=== epoch:232, train acc:0.49, test acc:0.412 ===\n",
      "train loss:1.760944355506878\n",
      "train loss:1.8198102316691775\n",
      "train loss:1.7545095412631664\n",
      "=== epoch:233, train acc:0.5033333333333333, test acc:0.4173 ===\n",
      "train loss:1.7844626782941575\n",
      "train loss:1.7749533740224495\n",
      "train loss:1.7653128445408846\n",
      "=== epoch:234, train acc:0.5033333333333333, test acc:0.4215 ===\n",
      "train loss:1.712676822716159\n",
      "train loss:1.7944622199291302\n",
      "train loss:1.7561895717041751\n",
      "=== epoch:235, train acc:0.5, test acc:0.4158 ===\n",
      "train loss:1.7376014711169396\n",
      "train loss:1.7841124989795776\n",
      "train loss:1.7328426976254627\n",
      "=== epoch:236, train acc:0.5133333333333333, test acc:0.4257 ===\n",
      "train loss:1.727458759816153\n",
      "train loss:1.7338061674193141\n",
      "train loss:1.7410061685704668\n",
      "=== epoch:237, train acc:0.5066666666666667, test acc:0.4219 ===\n",
      "train loss:1.7629861853059094\n",
      "train loss:1.7485267841806773\n",
      "train loss:1.7333867926311735\n",
      "=== epoch:238, train acc:0.5166666666666667, test acc:0.4274 ===\n",
      "train loss:1.8207521158346844\n",
      "train loss:1.7281615189891641\n",
      "train loss:1.7483141230088157\n",
      "=== epoch:239, train acc:0.5233333333333333, test acc:0.4376 ===\n",
      "train loss:1.753655517730605\n",
      "train loss:1.8106108938961685\n",
      "train loss:1.74166663848329\n",
      "=== epoch:240, train acc:0.5233333333333333, test acc:0.4438 ===\n",
      "train loss:1.7831767654524768\n",
      "train loss:1.8010503361035795\n",
      "train loss:1.721033170627583\n",
      "=== epoch:241, train acc:0.52, test acc:0.4407 ===\n",
      "train loss:1.7301692327639584\n",
      "train loss:1.7003508946743393\n",
      "train loss:1.7037707808809563\n",
      "=== epoch:242, train acc:0.54, test acc:0.4515 ===\n",
      "train loss:1.7521318765925407\n",
      "train loss:1.7094171876241313\n",
      "train loss:1.6297122181997674\n",
      "=== epoch:243, train acc:0.53, test acc:0.4459 ===\n",
      "train loss:1.6668593584521652\n",
      "train loss:1.7482995864045126\n",
      "train loss:1.6836653080889774\n",
      "=== epoch:244, train acc:0.5266666666666666, test acc:0.4429 ===\n",
      "train loss:1.6837736913473582\n",
      "train loss:1.752257038008806\n",
      "train loss:1.6611907133273969\n",
      "=== epoch:245, train acc:0.53, test acc:0.4435 ===\n",
      "train loss:1.7327321534352513\n",
      "train loss:1.6635063390233278\n",
      "train loss:1.6995336549233235\n",
      "=== epoch:246, train acc:0.5366666666666666, test acc:0.4451 ===\n",
      "train loss:1.6378913198737794\n",
      "train loss:1.7085778119600423\n",
      "train loss:1.6605698425165185\n",
      "=== epoch:247, train acc:0.5266666666666666, test acc:0.4446 ===\n",
      "train loss:1.7158586042662523\n",
      "train loss:1.6364389644270856\n",
      "train loss:1.7281790322095778\n",
      "=== epoch:248, train acc:0.5333333333333333, test acc:0.4451 ===\n",
      "train loss:1.6918958583485932\n",
      "train loss:1.7520007488582328\n",
      "train loss:1.6395464804869377\n",
      "=== epoch:249, train acc:0.54, test acc:0.4516 ===\n",
      "train loss:1.7098720507893415\n",
      "train loss:1.695112073747006\n",
      "train loss:1.5908380842660117\n",
      "=== epoch:250, train acc:0.5466666666666666, test acc:0.4538 ===\n",
      "train loss:1.6910149643828343\n",
      "train loss:1.6956369763362167\n",
      "train loss:1.6409941898116267\n",
      "=== epoch:251, train acc:0.5366666666666666, test acc:0.4491 ===\n",
      "train loss:1.576534993764303\n",
      "train loss:1.6770707152073046\n",
      "train loss:1.6665616099828775\n",
      "=== epoch:252, train acc:0.54, test acc:0.4518 ===\n",
      "train loss:1.6944762943603324\n",
      "train loss:1.6375175963940931\n",
      "train loss:1.604335097551875\n",
      "=== epoch:253, train acc:0.5366666666666666, test acc:0.4473 ===\n",
      "train loss:1.7353062638462617\n",
      "train loss:1.6647417013178116\n",
      "train loss:1.6639400236529889\n",
      "=== epoch:254, train acc:0.5566666666666666, test acc:0.4537 ===\n",
      "train loss:1.5976209087240623\n",
      "train loss:1.6317897157544088\n",
      "train loss:1.588208910047205\n",
      "=== epoch:255, train acc:0.5533333333333333, test acc:0.4565 ===\n",
      "train loss:1.5925448192221745\n",
      "train loss:1.6828526398753993\n",
      "train loss:1.6180733488382655\n",
      "=== epoch:256, train acc:0.5533333333333333, test acc:0.4545 ===\n",
      "train loss:1.556982263711881\n",
      "train loss:1.510013227969049\n",
      "train loss:1.6460421600915884\n",
      "=== epoch:257, train acc:0.5566666666666666, test acc:0.4561 ===\n",
      "train loss:1.6069465045730211\n",
      "train loss:1.578089012485615\n",
      "train loss:1.6162356673243743\n",
      "=== epoch:258, train acc:0.5466666666666666, test acc:0.455 ===\n",
      "train loss:1.6330928748417093\n",
      "train loss:1.6540707631695712\n",
      "train loss:1.5388911235259948\n",
      "=== epoch:259, train acc:0.5433333333333333, test acc:0.4529 ===\n",
      "train loss:1.5915716537384592\n",
      "train loss:1.583702469364334\n",
      "train loss:1.66518617197493\n",
      "=== epoch:260, train acc:0.5366666666666666, test acc:0.445 ===\n",
      "train loss:1.628525767371723\n",
      "train loss:1.5776425063398096\n",
      "train loss:1.5831551580631966\n",
      "=== epoch:261, train acc:0.5433333333333333, test acc:0.4484 ===\n",
      "train loss:1.6296024377249392\n",
      "train loss:1.5390182089345874\n",
      "train loss:1.550056435179562\n",
      "=== epoch:262, train acc:0.54, test acc:0.4502 ===\n",
      "train loss:1.4695716403810593\n",
      "train loss:1.593156060432814\n",
      "train loss:1.5265922932664744\n",
      "=== epoch:263, train acc:0.5333333333333333, test acc:0.449 ===\n",
      "train loss:1.6917636948930406\n",
      "train loss:1.6244206140913289\n",
      "train loss:1.6082764163502825\n",
      "=== epoch:264, train acc:0.54, test acc:0.4525 ===\n",
      "train loss:1.4727602861751472\n",
      "train loss:1.5819711265336216\n",
      "train loss:1.6511205970340668\n",
      "=== epoch:265, train acc:0.5433333333333333, test acc:0.4484 ===\n",
      "train loss:1.5614777874441486\n",
      "train loss:1.5902506044736513\n",
      "train loss:1.5640528601423551\n",
      "=== epoch:266, train acc:0.5366666666666666, test acc:0.4475 ===\n",
      "train loss:1.606241063006063\n",
      "train loss:1.5122291419220761\n",
      "train loss:1.5369405433590282\n",
      "=== epoch:267, train acc:0.5266666666666666, test acc:0.4479 ===\n",
      "train loss:1.6014386911938567\n",
      "train loss:1.5892436106908994\n",
      "train loss:1.538790623370623\n",
      "=== epoch:268, train acc:0.5333333333333333, test acc:0.4541 ===\n",
      "train loss:1.4344195216576912\n",
      "train loss:1.5920345532653346\n",
      "train loss:1.5653326526762559\n",
      "=== epoch:269, train acc:0.5533333333333333, test acc:0.4604 ===\n",
      "train loss:1.5510020833623295\n",
      "train loss:1.6058079500222848\n",
      "train loss:1.5178582615892018\n",
      "=== epoch:270, train acc:0.55, test acc:0.4579 ===\n",
      "train loss:1.5998560072496657\n",
      "train loss:1.49949942408837\n",
      "train loss:1.5772381200440242\n",
      "=== epoch:271, train acc:0.56, test acc:0.4629 ===\n",
      "train loss:1.4931876457266373\n",
      "train loss:1.4654240446223576\n",
      "train loss:1.4532153984347653\n",
      "=== epoch:272, train acc:0.5433333333333333, test acc:0.4582 ===\n",
      "train loss:1.4378099724092008\n",
      "train loss:1.6162607089973104\n",
      "train loss:1.5340475132422149\n",
      "=== epoch:273, train acc:0.5566666666666666, test acc:0.4627 ===\n",
      "train loss:1.4988067399386245\n",
      "train loss:1.5064611321774128\n",
      "train loss:1.4519888206023766\n",
      "=== epoch:274, train acc:0.57, test acc:0.468 ===\n",
      "train loss:1.5462684229026982\n",
      "train loss:1.5507277200267102\n",
      "train loss:1.5231577760966308\n",
      "=== epoch:275, train acc:0.5566666666666666, test acc:0.4656 ===\n",
      "train loss:1.4549204789660088\n",
      "train loss:1.5415935963581102\n",
      "train loss:1.45287244662397\n",
      "=== epoch:276, train acc:0.5633333333333334, test acc:0.4672 ===\n",
      "train loss:1.5212971959973915\n",
      "train loss:1.4588966613004999\n",
      "train loss:1.4378627013293077\n",
      "=== epoch:277, train acc:0.5633333333333334, test acc:0.4693 ===\n",
      "train loss:1.4515546433232922\n",
      "train loss:1.4020589034189463\n",
      "train loss:1.5242844292106352\n",
      "=== epoch:278, train acc:0.57, test acc:0.4672 ===\n",
      "train loss:1.5361438407393357\n",
      "train loss:1.510505537294709\n",
      "train loss:1.5045994202476771\n",
      "=== epoch:279, train acc:0.5733333333333334, test acc:0.4722 ===\n",
      "train loss:1.3832975386741984\n",
      "train loss:1.4109544352273156\n",
      "train loss:1.4577644952698463\n",
      "=== epoch:280, train acc:0.57, test acc:0.4729 ===\n",
      "train loss:1.4381497129140346\n",
      "train loss:1.4991905138074666\n",
      "train loss:1.4258493392874332\n",
      "=== epoch:281, train acc:0.5766666666666667, test acc:0.4762 ===\n",
      "train loss:1.495336050041753\n",
      "train loss:1.5040563777355902\n",
      "train loss:1.4828249541382925\n"
     ]
    },
    {
     "name": "stdout",
     "output_type": "stream",
     "text": [
      "=== epoch:282, train acc:0.57, test acc:0.4719 ===\n",
      "train loss:1.5254855031039491\n",
      "train loss:1.4721371039754947\n",
      "train loss:1.3564832844042467\n",
      "=== epoch:283, train acc:0.56, test acc:0.466 ===\n",
      "train loss:1.4554768440295893\n",
      "train loss:1.349201522673294\n",
      "train loss:1.432356684891271\n",
      "=== epoch:284, train acc:0.5633333333333334, test acc:0.4672 ===\n",
      "train loss:1.4536011499509471\n",
      "train loss:1.475829323518979\n",
      "train loss:1.5011994753090188\n",
      "=== epoch:285, train acc:0.5666666666666667, test acc:0.4693 ===\n",
      "train loss:1.3880529476218573\n",
      "train loss:1.385244575796073\n",
      "train loss:1.4216734191293257\n",
      "=== epoch:286, train acc:0.5733333333333334, test acc:0.4783 ===\n",
      "train loss:1.3710034238499231\n",
      "train loss:1.5353266610809908\n",
      "train loss:1.479630245880232\n",
      "=== epoch:287, train acc:0.57, test acc:0.4822 ===\n",
      "train loss:1.4156725098657936\n",
      "train loss:1.388468761238545\n",
      "train loss:1.2907268775461735\n",
      "=== epoch:288, train acc:0.5666666666666667, test acc:0.4871 ===\n",
      "train loss:1.262252348093294\n",
      "train loss:1.4292992866362115\n",
      "train loss:1.5323941721296195\n",
      "=== epoch:289, train acc:0.5766666666666667, test acc:0.4847 ===\n",
      "train loss:1.4676427761350714\n",
      "train loss:1.4827020298583153\n",
      "train loss:1.36178558990811\n",
      "=== epoch:290, train acc:0.5833333333333334, test acc:0.4873 ===\n",
      "train loss:1.5066111249030767\n",
      "train loss:1.3768335763827104\n",
      "train loss:1.4289720065636358\n",
      "=== epoch:291, train acc:0.5766666666666667, test acc:0.4859 ===\n",
      "train loss:1.4134061096144606\n",
      "train loss:1.4280356784716077\n",
      "train loss:1.4065031812545608\n",
      "=== epoch:292, train acc:0.5933333333333334, test acc:0.4939 ===\n",
      "train loss:1.3532204047715164\n",
      "train loss:1.3382563006901982\n",
      "train loss:1.3534891872025474\n",
      "=== epoch:293, train acc:0.5933333333333334, test acc:0.4969 ===\n",
      "train loss:1.5282797186309733\n",
      "train loss:1.4530671782637052\n",
      "train loss:1.3794554065782487\n",
      "=== epoch:294, train acc:0.6066666666666667, test acc:0.4956 ===\n",
      "train loss:1.3533558896351894\n",
      "train loss:1.447220864913918\n",
      "train loss:1.3464443095681977\n",
      "=== epoch:295, train acc:0.6033333333333334, test acc:0.5005 ===\n",
      "train loss:1.3963067139456928\n",
      "train loss:1.2828847493167326\n",
      "train loss:1.3837688956967162\n",
      "=== epoch:296, train acc:0.5966666666666667, test acc:0.502 ===\n",
      "train loss:1.295232501059459\n",
      "train loss:1.3705253666994053\n",
      "train loss:1.4224059967097569\n",
      "=== epoch:297, train acc:0.5933333333333334, test acc:0.492 ===\n",
      "train loss:1.338713252161683\n",
      "train loss:1.3133430587414439\n",
      "train loss:1.3127536957718988\n",
      "=== epoch:298, train acc:0.58, test acc:0.4896 ===\n",
      "train loss:1.3099516864751977\n",
      "train loss:1.312736699412858\n",
      "train loss:1.3050900613653107\n",
      "=== epoch:299, train acc:0.5866666666666667, test acc:0.4945 ===\n",
      "train loss:1.408525061963049\n",
      "train loss:1.4286823833842806\n",
      "train loss:1.2750001663064174\n",
      "=== epoch:300, train acc:0.58, test acc:0.4867 ===\n",
      "train loss:1.3447483357315315\n",
      "train loss:1.1137926424876117\n",
      "train loss:1.2704635907536337\n",
      "=== epoch:301, train acc:0.5766666666666667, test acc:0.4829 ===\n",
      "train loss:1.3880385325052527\n",
      "train loss:1.3241403167183188\n",
      "=============== Final Test Accuracy ===============\n",
      "test acc:0.4845\n"
     ]
    },
    {
     "data": {
      "image/png": "[encoded data removed]",
      "text/plain": [
       "<Figure size 432x288 with 1 Axes>"
      ]
     },
     "metadata": {
      "needs_background": "light"
     },
     "output_type": "display_data"
    }
   ],
   "source": [
    "from common.multi_layer_net_extend import MultiLayerNetExtend\n",
    "from common.trainer import Trainer\n",
    "\n",
    "(x_train, t_train), (x_test, t_test) = load_mnist(normalize=True)\n",
    "\n",
    "# 오버피팅을 재현하기 위해 학습 데이터 수를 줄임\n",
    "x_train = x_train[:300]\n",
    "t_train = t_train[:300]\n",
    "\n",
    "# 드롭아웃 사용 유무와 비울 설정 ========================\n",
    "use_dropout = True  # 드롭아웃을 쓰지 않을 때는 False\n",
    "dropout_ratio = 0.2\n",
    "# ====================================================\n",
    "\n",
    "network = MultiLayerNetExtend(input_size=784, hidden_size_list=[100, 100, 100, 100, 100, 100],\n",
    "                              output_size=10, use_dropout=use_dropout, dropout_ration=dropout_ratio)\n",
    "trainer = Trainer(network, x_train, t_train, x_test, t_test,\n",
    "                  epochs=301, mini_batch_size=100,\n",
    "                  optimizer='sgd', optimizer_param={'lr': 0.01}, verbose=True)\n",
    "trainer.train()\n",
    "\n",
    "train_acc_list, test_acc_list = trainer.train_acc_list, trainer.test_acc_list\n",
    "\n",
    "# 그래프 그리기==========\n",
    "markers = {'train': 'o', 'test': 's'}\n",
    "x = np.arange(len(train_acc_list))\n",
    "plt.plot(x, train_acc_list, marker='o', label='train', markevery=10)\n",
    "plt.plot(x, test_acc_list, marker='s', label='test', markevery=10)\n",
    "plt.xlabel(\"epochs\")\n",
    "plt.ylabel(\"accuracy\")\n",
    "plt.ylim(0, 1.0)\n",
    "plt.legend(loc='lower right')\n",
    "plt.show()"
   ]
  },
  {
   "cell_type": "markdown",
   "id": "f0666c8c",
   "metadata": {},
   "source": [
    "드롭아웃을 통해서도 오버피팅을 억제한 것을 볼 수 있다."
   ]
  },
  {
   "cell_type": "markdown",
   "id": "4ffe212b",
   "metadata": {},
   "source": [
    "## 6.5 하이퍼파라미터 최적화\n",
    "\n",
    "신경망의 대표적 하이퍼파라미터는 각 층의 뉴런 개수, 배치 크기, 매개변수 갱신 시의 학습률, 가중치 감소 등이 있다.\n",
    "\n",
    "하이퍼파라미터 오버피팅을 방지하기 위해 검증 데이터를 사용한다."
   ]
  },
  {
   "cell_type": "code",
   "execution_count": 51,
   "id": "29eff961",
   "metadata": {},
   "outputs": [],
   "source": [
    "def shuffle_dataset(x, t):\n",
    "    \"\"\"데이터셋을 뒤섞는다.\n",
    "    Parameters\n",
    "    ----------\n",
    "    x : 훈련 데이터\n",
    "    t : 정답 레이블\n",
    "    \n",
    "    Returns\n",
    "    -------\n",
    "    x, t : 뒤섞은 훈련 데이터와 정답 레이블\n",
    "    \"\"\"\n",
    "    permutation = np.random.permutation(x.shape[0])\n",
    "    x = x[permutation,:] if x.ndim == 2 else x[permutation,:,:,:]\n",
    "    t = t[permutation]\n",
    "\n",
    "    return x, t\n",
    "\n",
    "(x_train, t_train), (x_test, t_test) = load_mnist()\n",
    "\n",
    "# shuffle train data\n",
    "x_train, t_train = shuffle_dataset(x_train, t_train)\n",
    "\n",
    "# 20% as validation set\n",
    "validation_rate = 0.20\n",
    "validation_num = int(x_train.shape[0] * validation_rate)\n",
    "\n",
    "x_val = x_train[:validation_num]\n",
    "t_val = t_train[:validation_num]\n",
    "x_train = x_train[validation_num:]\n",
    "t_train = t_train[validation_num:]"
   ]
  },
  {
   "cell_type": "markdown",
   "id": "4d002558",
   "metadata": {},
   "source": [
    "하이퍼파라미터 최적화의 원리는 **최적 값이 존재하는 범위를 조금씩 줄여가는 것**이다. 대략적인 범위를 설정해 무작위로 샘플링한 값으로 정확도를 평가하며 반복한다. 범위는 주로 로그 스케일(10의 n승 범위)로 설정한다.\n",
    "\n",
    "딥러닝 시 하이퍼파라미터 최적화는 매우 오랜 시간이 걸리므로 학습을 위한 에폭을 작게 설정해 1회 평가에 걸리는 시간을 단축하는 것이 효과적이다.\n",
    "\n",
    "1. 하이퍼파라미터 값의 범위 설정\n",
    "2. 범위 내 하이퍼파라미터 값 무작위 추출\n",
    "3. 샘플링한 값을 사용해 학습 후 검증 데이터로 정확도 평가 (에폭은 작게)\n",
    "4. 2-3단계를 특정 횟수(100회, etc.)동안 반복해 범위 좁게 갱신\n",
    "\n",
    "하이퍼파라미터의 최초 범위는 주로 $[0.001, 1,000]$, 다시 말해 $[10^{-3}, 10^3]$으로 설정해 계산한다. 가중치 감소 계수와 학습률을 조정할 때는 다음과 같이 구현한다."
   ]
  },
  {
   "cell_type": "code",
   "execution_count": 53,
   "id": "5a619118",
   "metadata": {},
   "outputs": [],
   "source": [
    "weight_decay = 10 ** np.random.uniform(-8, -4)\n",
    "lr = 10 ** np.random.uniform(-6, -2)"
   ]
  },
  {
   "cell_type": "markdown",
   "id": "94b868db",
   "metadata": {},
   "source": [
    "위 경우는 가중치 감소 계수를 $[10^{-8}, 10^{-4}]$, 학습률을 $[10^{-6}, 10^{-2}]$로 설정했다.\n",
    "\n",
    "여러 값을 테스트하면 다음과 같은 결과를 볼 수 있다."
   ]
  },
  {
   "cell_type": "markdown",
   "id": "258f1c54",
   "metadata": {},
   "source": [
    "<div>\n",
    "<img src=\"fig6.10.jpg\" width=\"700\"/>\n",
    "</div>\n",
    "\n",
    "<div>\n",
    "<img src=\"fig6.11.jpg\" width=\"500\"/>\n",
    "</div>"
   ]
  },
  {
   "cell_type": "markdown",
   "id": "f42172f6",
   "metadata": {},
   "source": [
    "학습이 잘 진행될 때의 학습률은 $0.001\\sim0.01$, 가중치 감소 계수는 $10^{-8}\\sim10^{-6}$ 정도임을 알 수 있다. 이를 반복해 하이퍼파라미터의 범위를 더욱 줄여 나간다."
   ]
  },
  {
   "cell_type": "markdown",
   "id": "7becdfbc",
   "metadata": {},
   "source": [
    "## Takeaways:\n",
    "\n",
    "- 매개변수 갱신 방법에는 SGD 외에도 모멘텀, AdaGrad, Adam 등이 있다.\n",
    "- 가중치 초깃값을 정하는 방법은 올바른 학습을 하는 데 매우 중요하다.\n",
    "- 가중치의 초깃값으로는 Xavier 초깃값과 He 초깃값이 효과적이다.\n",
    "- 배치 정규화를 이용하면 학습을 빠르게 진행할 수 있으며, 초깃값에 영향을 덜 받게 된다.\n",
    "- 오버피팅을 억제하는 정규화 기술로는 가중치 감소와 드롭아웃이 있다.\n",
    "- 하이퍼파라미터 값 탐색은 최적 값이 존재할 법한 범위를 점차 좁히면서 하는 것이 효과적이다."
   ]
  },
  {
   "cell_type": "markdown",
   "id": "87556ac7",
   "metadata": {},
   "source": [
    "# 7. 합성곱 신경망 (CNN)\n",
    "\n",
    "현재까지의 신경망은 인접하는 계층의 모든 뉴런과 연결된, 즉 *완전연결*된 네트워크였으며, 완전연결 계층을 어파인 계층이라고 불렀다."
   ]
  },
  {
   "cell_type": "markdown",
   "id": "3442cf16",
   "metadata": {},
   "source": [
    "<div>\n",
    "<img src=\"fig7.1.jpg\" width=\"500\"/>\n",
    "</div>"
   ]
  },
  {
   "cell_type": "markdown",
   "id": "0a35b32f",
   "metadata": {},
   "source": [
    "CNN의 경우, **합성곱 계층**(Convolutional layer)과 **풀링 계층**(Pooling layer)을 통해 연결된다."
   ]
  },
  {
   "cell_type": "markdown",
   "id": "e43dfc3a",
   "metadata": {},
   "source": [
    "<div>\n",
    "<img src=\"fig7.2.jpg\" width=\"500\"/>\n",
    "</div>"
   ]
  },
  {
   "cell_type": "markdown",
   "id": "9b885968",
   "metadata": {},
   "source": [
    "그림에서 볼 수 있듯, `Affine-ReLU`가 `Conv-ReLU-(Pooling)`으로 바뀌었다. (Pooling은 가끔 생략하기도 한다.) CNN에서도 기존 `Affine-ReLU` 연결 역시 사용 가능하다."
   ]
  },
  {
   "cell_type": "markdown",
   "id": "bbdb7db4",
   "metadata": {},
   "source": [
    "## 7.2 합성곱 계층\n",
    "\n",
    "앞서 이야기한 완전연결 계층은 *데이터의 형상이 무시된다는 문제*가 있다. 3차원의 이미지 데이터를 완전연결 계층에 입력하면 1차원 데이터로 변환되며, 모든 입력 데이터가 동등한 뉴런으로 취급된다. 3차원 속에서 의미를 갖는, 공간적 유사 픽셀이나 RGB 채널 등의 정보가 소실된다.\n",
    "\n",
    "합성곱 계층의 경우 형상을 유지하며 전달할 때도 형상을 변화시키지 않는다. 즉, 이미지 데이터의 이해도를 높게 가져갈 수 있다. CNN의 합성곱 계층의 입출력 데이터를 **특징 맵**이라 한다. (입력 데이터는 *입력 특징 맵*, 출력 데이터는 *출력 특징 맵*)\n",
    "\n",
    "**합성곱 연산**은 다음과 같은 필터(커널) 연산이다."
   ]
  },
  {
   "cell_type": "markdown",
   "id": "19939ca9",
   "metadata": {},
   "source": [
    "<div>\n",
    "<img src=\"fig7.3.jpg\" width=\"700\"/>\n",
    "</div>"
   ]
  },
  {
   "cell_type": "markdown",
   "id": "26790537",
   "metadata": {},
   "source": [
    "편향까지 고려한 완전한 합성곱 연산은 다음과 같다. (편향을 모든 원소에 더한다)"
   ]
  },
  {
   "cell_type": "markdown",
   "id": "2509a9e0",
   "metadata": {},
   "source": [
    "<div>\n",
    "<img src=\"fig7.4.jpg\" width=\"700\"/>\n",
    "</div>"
   ]
  },
  {
   "cell_type": "markdown",
   "id": "cbfe613c",
   "metadata": {},
   "source": [
    "합성곱 연산을 되풀이하면 출력 크기가 계속해서 작아지기 때문에, 이를 방지하기 위해 **패딩**을 수행한다. 패딩은 입력 데이터 주위에 특정 픽셀만큼 특정 값(e.g. 0)으로 채우는 것이다.\n",
    "\n",
    "아래 예는 입력 데이터에 패딩 1, 특정 값 0을 적용한 것이다."
   ]
  },
  {
   "cell_type": "markdown",
   "id": "cc7176fb",
   "metadata": {},
   "source": [
    "<div>\n",
    "<img src=\"fig7.5.jpg\" width=\"700\"/>\n",
    "</div>"
   ]
  },
  {
   "cell_type": "markdown",
   "id": "bcce7b9a",
   "metadata": {},
   "source": [
    "**스트라이드**는 필터를 적용하는 위치의 간격을 지칭한다. 스트라이드가 2인 합성곱 연산은 다음과 같이 수행한다."
   ]
  },
  {
   "cell_type": "markdown",
   "id": "dfe15c30",
   "metadata": {},
   "source": [
    "<div>\n",
    "<img src=\"fig7.6.jpg\" width=\"700\"/>\n",
    "</div>"
   ]
  },
  {
   "cell_type": "markdown",
   "id": "87a0ecf7",
   "metadata": {},
   "source": [
    "스트라이드는 패딩과 다르게 출력 크기를 줄인다. 입력 크기를 $(H, W)$, 필터 크기를 $(FH, FW)$, 출력 크기를 $(OH, OW)$, 패딩을 $P$, 스트라이드를 $S$라고 했을 때, 출력 크기는 다음과 같다."
   ]
  },
  {
   "cell_type": "markdown",
   "id": "a4703e21",
   "metadata": {},
   "source": [
    "<div>\n",
    "<img src=\"equ7.1.jpg\" width=\"400\"/>\n",
    "</div>"
   ]
  },
  {
   "cell_type": "markdown",
   "id": "ee9620bf",
   "metadata": {},
   "source": [
    "예를 들어, 입력이 $(4, 4)$, 패딩이 $1$, 스트라이드가 $1$, 필터가 $(3,3)$일 경우 $(OH,OW)=(4,4)$가 된다.\n",
    "\n",
    "*수식이 정수를 출력해야 한다*는 제한이 있으며, 반올림 등의 추가적 작업을 진행하는 프레임워크도 있다.\n",
    "\n",
    "3차원 데이터의 합성곱 연산은 어떨까? 2차원 데이터와 유사하나, 입력 데이터의 채널 수와 필터의 채널 수가 같아야 한다는 제약이 있다. (필터 자체의 크기는 채널마다 동일한 이상 무관하다.)"
   ]
  },
  {
   "cell_type": "markdown",
   "id": "a5d2d4fe",
   "metadata": {},
   "source": [
    "<div>\n",
    "<img src=\"fig7.7.jpg\" width=\"700\"/>\n",
    "</div>"
   ]
  },
  {
   "cell_type": "markdown",
   "id": "a20f586e",
   "metadata": {},
   "source": [
    "3차원 데이터의 합성곱 연산은 주로 블록 연산으로 표현한다. 채널 $C$개, 입력 크기 $(H, W)$의 입력 데이터는 $(C, H, W)$로 표기한다.\n",
    "\n",
    "편향을 추가한 3차원 합성곱 연산의 처리 흐름은 다음과 같다."
   ]
  },
  {
   "cell_type": "markdown",
   "id": "2b927ecd",
   "metadata": {},
   "source": [
    "<div>\n",
    "<img src=\"fig7.8.jpg\" width=\"700\"/>\n",
    "</div>"
   ]
  },
  {
   "cell_type": "markdown",
   "id": "bd5699af",
   "metadata": {},
   "source": [
    "또한, 합성곱 연산에서도 배치 처리를 실시할 수가 있다. 배치의 개수도 입력해야 하기 때문에 계층 사이에 흐르는 데이터는 4차원이 된다.\n",
    "\n",
    "배치 처리를 적용한 처리 흐름은 다음과 같다."
   ]
  },
  {
   "cell_type": "markdown",
   "id": "82e06121",
   "metadata": {},
   "source": [
    "<div>\n",
    "<img src=\"fig7.9.jpg\" width=\"700\"/>\n",
    "</div>"
   ]
  },
  {
   "cell_type": "markdown",
   "id": "f5f08a58",
   "metadata": {},
   "source": [
    "## 7.3 풀링 계층\n",
    "\n",
    "**풀링**은 세로, 가로 방향의 공간을 줄이는 연산이다. 풀링 기법 중에서는 **최대 풀링**이 대표적이며, 연산 방법은 다음과 같다."
   ]
  },
  {
   "cell_type": "markdown",
   "id": "f5744f28",
   "metadata": {},
   "source": [
    "<div>\n",
    "<img src=\"fig7.10.jpg\" width=\"700\"/>\n",
    "</div>"
   ]
  },
  {
   "cell_type": "markdown",
   "id": "9ea5265f",
   "metadata": {},
   "source": [
    "위 예제에서 풀링 윈도우는 $2\\times2$, 스트라이드는 $2$다. 최대 풀링이란 풀링 윈도우 내에서 최댓값을 찾아 붙이는 것이다. 스트라이드의 값은 풀링 윈도우의 값과 동일하게 설정하는 것이 보편적이다.\n",
    "\n",
    "풀링 계층은 다음과 같은 특징을 지닌다.\n",
    "- 학습해야 할 매개변수가 없다. (특별히 학습하는 것이 아니라, 윈도우 설정으로 최댓값만 추출하기에)\n",
    "- 채널 수가 변하지 않는다. (각 채널마다 독립적으로 계산하기에)\n",
    "- 입력의 변화에 영향을 적게 받는다. (최댓값만 추출하므로)"
   ]
  },
  {
   "cell_type": "markdown",
   "id": "f13b7827",
   "metadata": {},
   "source": [
    "합성곱 계층과 풀링 계층을 구현해 보자. for문 대신 **im2col**을 사용하여 입력 데이터를 필터링하기 좋게 전개하는 방법이 보편적이다. 4차원 데이터를 2차원 행렬로 변환 후 계산하고, reshape을 통해 다시 4차원으로 변형한다."
   ]
  },
  {
   "cell_type": "markdown",
   "id": "5e4d2f2f",
   "metadata": {},
   "source": [
    "<div>\n",
    "<img src=\"fig7.11.jpg\" width=\"700\"/>\n",
    "</div>"
   ]
  },
  {
   "cell_type": "code",
   "execution_count": 68,
   "id": "97995e58",
   "metadata": {},
   "outputs": [],
   "source": [
    "def im2col(input_data, filter_h, filter_w, stride=1, pad=0):\n",
    "    \"\"\"다수의 이미지를 입력받아 2차원 배열로 변환한다(평탄화).\n",
    "    \n",
    "    Parameters\n",
    "    ----------\n",
    "    input_data : 4차원 배열 형태의 입력 데이터(이미지 수, 채널 수, 높이, 너비)\n",
    "    filter_h : 필터의 높이\n",
    "    filter_w : 필터의 너비\n",
    "    stride : 스트라이드\n",
    "    pad : 패딩\n",
    "    \n",
    "    Returns\n",
    "    -------\n",
    "    col : 2차원 배열\n",
    "    \"\"\"\n",
    "    N, C, H, W = input_data.shape\n",
    "    out_h = (H + 2*pad - filter_h)//stride + 1\n",
    "    out_w = (W + 2*pad - filter_w)//stride + 1\n",
    "\n",
    "    img = np.pad(input_data, [(0,0), (0,0), (pad, pad), (pad, pad)], 'constant')\n",
    "    col = np.zeros((N, C, filter_h, filter_w, out_h, out_w))\n",
    "\n",
    "    for y in range(filter_h):\n",
    "        y_max = y + stride*out_h\n",
    "        for x in range(filter_w):\n",
    "            x_max = x + stride*out_w\n",
    "            col[:, :, y, x, :, :] = img[:, :, y:y_max:stride, x:x_max:stride]\n",
    "\n",
    "    col = col.transpose(0, 4, 5, 1, 2, 3).reshape(N*out_h*out_w, -1)\n",
    "    return col"
   ]
  },
  {
   "cell_type": "code",
   "execution_count": 70,
   "id": "0dc71a3b",
   "metadata": {},
   "outputs": [],
   "source": [
    "# 역전파를 구현할 시\n",
    "\n",
    "def col2im(col, input_shape, filter_h, filter_w, stride=1, pad=0):\n",
    "    \"\"\"(im2col과 반대) 2차원 배열을 입력받아 다수의 이미지 묶음으로 변환한다.\n",
    "    \n",
    "    Parameters\n",
    "    ----------\n",
    "    col : 2차원 배열(입력 데이터)\n",
    "    input_shape : 원래 이미지 데이터의 형상（예：(10, 1, 28, 28)）\n",
    "    filter_h : 필터의 높이\n",
    "    filter_w : 필터의 너비\n",
    "    stride : 스트라이드\n",
    "    pad : 패딩\n",
    "    \n",
    "    Returns\n",
    "    -------\n",
    "    img : 변환된 이미지들\n",
    "    \"\"\"\n",
    "    N, C, H, W = input_shape\n",
    "    out_h = (H + 2*pad - filter_h)//stride + 1\n",
    "    out_w = (W + 2*pad - filter_w)//stride + 1\n",
    "    col = col.reshape(N, out_h, out_w, C, filter_h, filter_w).transpose(0, 3, 4, 5, 1, 2)\n",
    "\n",
    "    img = np.zeros((N, C, H + 2*pad + stride - 1, W + 2*pad + stride - 1))\n",
    "    for y in range(filter_h):\n",
    "        y_max = y + stride*out_h\n",
    "        for x in range(filter_w):\n",
    "            x_max = x + stride*out_w\n",
    "            img[:, :, y:y_max:stride, x:x_max:stride] += col[:, :, y, x, :, :]\n",
    "\n",
    "    return img[:, :, pad:H + pad, pad:W + pad]"
   ]
  },
  {
   "cell_type": "code",
   "execution_count": 69,
   "id": "17063dcf",
   "metadata": {},
   "outputs": [
    {
     "name": "stdout",
     "output_type": "stream",
     "text": [
      "(9, 75)\n",
      "(90, 75)\n"
     ]
    }
   ],
   "source": [
    "x1 = np.random.rand(1, 3, 7, 7) # (데이터 수, 채널 수, 높이, 너비)\n",
    "col1 = im2col(x1, 5, 5, stride=1, pad=0)\n",
    "print(col1.shape)\n",
    "\n",
    "x2 = np.random.rand(10, 3, 7, 7) # 데이터 10개\n",
    "col2 = im2col(x2, 5, 5, stride=1, pad=0)\n",
    "print(col2.shape)"
   ]
  },
  {
   "cell_type": "code",
   "execution_count": 71,
   "id": "541c0a83",
   "metadata": {},
   "outputs": [],
   "source": [
    "# 합성곱 계층 구현\n",
    "\n",
    "class Convolution:\n",
    "    def __init__(self, W, b, stride=1, pad=0):\n",
    "        self.W = W\n",
    "        self.b = b\n",
    "        self.stride = stride\n",
    "        self.pad = pad\n",
    "        \n",
    "        # 중간 데이터（backward 시 사용）\n",
    "        self.x = None   \n",
    "        self.col = None\n",
    "        self.col_W = None\n",
    "        \n",
    "        # 가중치와 편향 매개변수의 기울기\n",
    "        self.dW = None\n",
    "        self.db = None\n",
    "\n",
    "    def forward(self, x):\n",
    "        FN, C, FH, FW = self.W.shape\n",
    "        N, C, H, W = x.shape\n",
    "        out_h = 1 + int((H + 2*self.pad - FH) / self.stride)\n",
    "        out_w = 1 + int((W + 2*self.pad - FW) / self.stride)\n",
    "\n",
    "        col = im2col(x, FH, FW, self.stride, self.pad)\n",
    "        col_W = self.W.reshape(FN, -1).T\n",
    "\n",
    "        out = np.dot(col, col_W) + self.b\n",
    "        out = out.reshape(N, out_h, out_w, -1).transpose(0, 3, 1, 2)\n",
    "\n",
    "        self.x = x\n",
    "        self.col = col\n",
    "        self.col_W = col_W\n",
    "\n",
    "        return out\n",
    "\n",
    "    def backward(self, dout):\n",
    "        FN, C, FH, FW = self.W.shape\n",
    "        dout = dout.transpose(0,2,3,1).reshape(-1, FN)\n",
    "\n",
    "        self.db = np.sum(dout, axis=0)\n",
    "        self.dW = np.dot(self.col.T, dout)\n",
    "        self.dW = self.dW.transpose(1, 0).reshape(FN, C, FH, FW)\n",
    "\n",
    "        dcol = np.dot(dout, self.col_W.T)\n",
    "        dx = col2im(dcol, self.x.shape, FH, FW, self.stride, self.pad)\n",
    "\n",
    "        return dx"
   ]
  },
  {
   "cell_type": "markdown",
   "id": "c5c04767",
   "metadata": {},
   "source": [
    "풀링 계층 구현의 원리는 다음과 같다."
   ]
  },
  {
   "cell_type": "markdown",
   "id": "81500b38",
   "metadata": {},
   "source": [
    "<div>\n",
    "<img src=\"fig7.12.jpg\" width=\"500\"/>\n",
    "</div>"
   ]
  },
  {
   "cell_type": "markdown",
   "id": "425b7b08",
   "metadata": {},
   "source": [
    "<div>\n",
    "<img src=\"fig7.13.jpg\" width=\"700\"/>\n",
    "</div>"
   ]
  },
  {
   "cell_type": "code",
   "execution_count": 72,
   "id": "30861579",
   "metadata": {},
   "outputs": [],
   "source": [
    "class Pooling:\n",
    "    def __init__(self, pool_h, pool_w, stride=1, pad=0):\n",
    "        self.pool_h = pool_h\n",
    "        self.pool_w = pool_w\n",
    "        self.stride = stride\n",
    "        self.pad = pad\n",
    "        \n",
    "        self.x = None\n",
    "        self.arg_max = None\n",
    "\n",
    "    def forward(self, x):\n",
    "        N, C, H, W = x.shape\n",
    "        out_h = int(1 + (H - self.pool_h) / self.stride)\n",
    "        out_w = int(1 + (W - self.pool_w) / self.stride)\n",
    "\n",
    "        col = im2col(x, self.pool_h, self.pool_w, self.stride, self.pad)\n",
    "        col = col.reshape(-1, self.pool_h*self.pool_w)\n",
    "\n",
    "        arg_max = np.argmax(col, axis=1)\n",
    "        out = np.max(col, axis=1)\n",
    "        out = out.reshape(N, out_h, out_w, C).transpose(0, 3, 1, 2)\n",
    "\n",
    "        self.x = x\n",
    "        self.arg_max = arg_max\n",
    "\n",
    "        return out\n",
    "\n",
    "    def backward(self, dout):\n",
    "        dout = dout.transpose(0, 2, 3, 1)\n",
    "        \n",
    "        pool_size = self.pool_h * self.pool_w\n",
    "        dmax = np.zeros((dout.size, pool_size))\n",
    "        dmax[np.arange(self.arg_max.size), self.arg_max.flatten()] = dout.flatten()\n",
    "        dmax = dmax.reshape(dout.shape + (pool_size,)) \n",
    "        \n",
    "        dcol = dmax.reshape(dmax.shape[0] * dmax.shape[1] * dmax.shape[2], -1)\n",
    "        dx = col2im(dcol, self.x.shape, self.pool_h, self.pool_w, self.stride, self.pad)\n",
    "        \n",
    "        return dx"
   ]
  },
  {
   "cell_type": "markdown",
   "id": "e2a48d7b",
   "metadata": {},
   "source": [
    "## 7.5 CNN 구현하기"
   ]
  },
  {
   "cell_type": "markdown",
   "id": "323d1cdc",
   "metadata": {},
   "source": [
    "<div>\n",
    "<img src=\"fig7.14.jpg\" width=\"700\"/>\n",
    "</div>"
   ]
  },
  {
   "cell_type": "code",
   "execution_count": 73,
   "id": "308772ca",
   "metadata": {},
   "outputs": [],
   "source": [
    "class SimpleConvNet:\n",
    "    \"\"\"단순한 합성곱 신경망\n",
    "    \n",
    "    conv - relu - pool - affine - relu - affine - softmax\n",
    "    \n",
    "    Parameters\n",
    "    ----------\n",
    "    input_size : 입력 크기（MNIST의 경우엔 784）\n",
    "    hidden_size_list : 각 은닉층의 뉴런 수를 담은 리스트（e.g. [100, 100, 100]）\n",
    "    output_size : 출력 크기（MNIST의 경우엔 10）\n",
    "    activation : 활성화 함수 - 'relu' 혹은 'sigmoid'\n",
    "    weight_init_std : 가중치의 표준편차 지정（e.g. 0.01）\n",
    "        'relu'나 'he'로 지정하면 'He 초깃값'으로 설정\n",
    "        'sigmoid'나 'xavier'로 지정하면 'Xavier 초깃값'으로 설정\n",
    "    \"\"\"\n",
    "    def __init__(self, input_dim=(1, 28, 28), \n",
    "                 conv_param={'filter_num':30, 'filter_size':5, 'pad':0, 'stride':1},\n",
    "                 hidden_size=100, output_size=10, weight_init_std=0.01):\n",
    "        filter_num = conv_param['filter_num']\n",
    "        filter_size = conv_param['filter_size']\n",
    "        filter_pad = conv_param['pad']\n",
    "        filter_stride = conv_param['stride']\n",
    "        input_size = input_dim[1]\n",
    "        conv_output_size = (input_size - filter_size + 2*filter_pad) / filter_stride + 1\n",
    "        pool_output_size = int(filter_num * (conv_output_size/2) * (conv_output_size/2))\n",
    "\n",
    "        # 가중치 초기화\n",
    "        self.params = {}\n",
    "        self.params['W1'] = weight_init_std * \\\n",
    "                            np.random.randn(filter_num, input_dim[0], filter_size, filter_size)\n",
    "        self.params['b1'] = np.zeros(filter_num)\n",
    "        self.params['W2'] = weight_init_std * \\\n",
    "                            np.random.randn(pool_output_size, hidden_size)\n",
    "        self.params['b2'] = np.zeros(hidden_size)\n",
    "        self.params['W3'] = weight_init_std * \\\n",
    "                            np.random.randn(hidden_size, output_size)\n",
    "        self.params['b3'] = np.zeros(output_size)\n",
    "\n",
    "        # 계층 생성\n",
    "        self.layers = OrderedDict()\n",
    "        self.layers['Conv1'] = Convolution(self.params['W1'], self.params['b1'],\n",
    "                                           conv_param['stride'], conv_param['pad'])\n",
    "        self.layers['Relu1'] = Relu()\n",
    "        self.layers['Pool1'] = Pooling(pool_h=2, pool_w=2, stride=2)\n",
    "        self.layers['Affine1'] = Affine(self.params['W2'], self.params['b2'])\n",
    "        self.layers['Relu2'] = Relu()\n",
    "        self.layers['Affine2'] = Affine(self.params['W3'], self.params['b3'])\n",
    "\n",
    "        self.last_layer = SoftmaxWithLoss()\n",
    "\n",
    "    def predict(self, x):\n",
    "        for layer in self.layers.values():\n",
    "            x = layer.forward(x)\n",
    "\n",
    "        return x\n",
    "\n",
    "    def loss(self, x, t):\n",
    "        \"\"\"손실 함수를 구한다.\n",
    "        Parameters\n",
    "        ----------\n",
    "        x : 입력 데이터\n",
    "        t : 정답 레이블\n",
    "        \"\"\"\n",
    "        y = self.predict(x)\n",
    "        return self.last_layer.forward(y, t)\n",
    "\n",
    "    def accuracy(self, x, t, batch_size=100):\n",
    "        if t.ndim != 1 : t = np.argmax(t, axis=1)\n",
    "        \n",
    "        acc = 0.0\n",
    "        \n",
    "        for i in range(int(x.shape[0] / batch_size)):\n",
    "            tx = x[i*batch_size:(i+1)*batch_size]\n",
    "            tt = t[i*batch_size:(i+1)*batch_size]\n",
    "            y = self.predict(tx)\n",
    "            y = np.argmax(y, axis=1)\n",
    "            acc += np.sum(y == tt) \n",
    "        \n",
    "        return acc / x.shape[0]\n",
    "\n",
    "    def numerical_gradient(self, x, t):\n",
    "        \"\"\"기울기를 구한다（수치미분）.\n",
    "        Parameters\n",
    "        ----------\n",
    "        x : 입력 데이터\n",
    "        t : 정답 레이블\n",
    "        Returns\n",
    "        -------\n",
    "        각 층의 기울기를 담은 사전(dictionary) 변수\n",
    "            grads['W1']、grads['W2']、... 각 층의 가중치\n",
    "            grads['b1']、grads['b2']、... 각 층의 편향\n",
    "        \"\"\"\n",
    "        loss_w = lambda w: self.loss(x, t)\n",
    "\n",
    "        grads = {}\n",
    "        for idx in (1, 2, 3):\n",
    "            grads['W' + str(idx)] = numerical_gradient(loss_w, self.params['W' + str(idx)])\n",
    "            grads['b' + str(idx)] = numerical_gradient(loss_w, self.params['b' + str(idx)])\n",
    "\n",
    "        return grads\n",
    "\n",
    "    def gradient(self, x, t):\n",
    "        \"\"\"기울기를 구한다(오차역전파법).\n",
    "        Parameters\n",
    "        ----------\n",
    "        x : 입력 데이터\n",
    "        t : 정답 레이블\n",
    "        Returns\n",
    "        -------\n",
    "        각 층의 기울기를 담은 사전(dictionary) 변수\n",
    "            grads['W1']、grads['W2']、... 각 층의 가중치\n",
    "            grads['b1']、grads['b2']、... 각 층의 편향\n",
    "        \"\"\"\n",
    "        # forward\n",
    "        self.loss(x, t)\n",
    "\n",
    "        # backward\n",
    "        dout = 1\n",
    "        dout = self.last_layer.backward(dout)\n",
    "\n",
    "        layers = list(self.layers.values())\n",
    "        layers.reverse()\n",
    "        for layer in layers:\n",
    "            dout = layer.backward(dout)\n",
    "\n",
    "        # 결과 저장\n",
    "        grads = {}\n",
    "        grads['W1'], grads['b1'] = self.layers['Conv1'].dW, self.layers['Conv1'].db\n",
    "        grads['W2'], grads['b2'] = self.layers['Affine1'].dW, self.layers['Affine1'].db\n",
    "        grads['W3'], grads['b3'] = self.layers['Affine2'].dW, self.layers['Affine2'].db\n",
    "\n",
    "        return grads\n",
    "        \n",
    "    def save_params(self, file_name=\"params.pkl\"):\n",
    "        params = {}\n",
    "        for key, val in self.params.items():\n",
    "            params[key] = val\n",
    "        with open(file_name, 'wb') as f:\n",
    "            pickle.dump(params, f)\n",
    "\n",
    "    def load_params(self, file_name=\"params.pkl\"):\n",
    "        with open(file_name, 'rb') as f:\n",
    "            params = pickle.load(f)\n",
    "        for key, val in params.items():\n",
    "            self.params[key] = val\n",
    "\n",
    "        for i, key in enumerate(['Conv1', 'Affine1', 'Affine2']):\n",
    "            self.layers[key].W = self.params['W' + str(i+1)]\n",
    "            self.layers[key].b = self.params['b' + str(i+1)]"
   ]
  },
  {
   "cell_type": "code",
   "execution_count": null,
   "id": "160421d6",
   "metadata": {},
   "outputs": [],
   "source": [
    "# SimpleConvNet으로 학습하기\n",
    "\n",
    "(x_train, t_train), (x_test, t_test) = load_mnist(flatten=False)\n",
    "\n",
    "# 시간이 오래 걸릴 경우 데이터를 줄인다.\n",
    "#x_train, t_train = x_train[:5000], t_train[:5000]\n",
    "#x_test, t_test = x_test[:1000], t_test[:1000]\n",
    "\n",
    "max_epochs = 20\n",
    "\n",
    "network = SimpleConvNet(input_dim=(1,28,28), \n",
    "                        conv_param = {'filter_num': 30, 'filter_size': 5, 'pad': 0, 'stride': 1},\n",
    "                        hidden_size=100, output_size=10, weight_init_std=0.01)\n",
    "                        \n",
    "trainer = Trainer(network, x_train, t_train, x_test, t_test,\n",
    "                  epochs=max_epochs, mini_batch_size=100,\n",
    "                  optimizer='Adam', optimizer_param={'lr': 0.001},\n",
    "                  evaluate_sample_num_per_epoch=1000)\n",
    "trainer.train()\n",
    "\n",
    "# 매개변수 보존\n",
    "network.save_params(\"params.pkl\")\n",
    "print(\"Saved Network Parameters!\")\n",
    "\n",
    "# 그래프 그리기\n",
    "markers = {'train': 'o', 'test': 's'}\n",
    "x = np.arange(max_epochs)\n",
    "plt.plot(x, trainer.train_acc_list, marker='o', label='train', markevery=2)\n",
    "plt.plot(x, trainer.test_acc_list, marker='s', label='test', markevery=2)\n",
    "plt.xlabel(\"epochs\")\n",
    "plt.ylabel(\"accuracy\")\n",
    "plt.ylim(0, 1.0)\n",
    "plt.legend(loc='lower right')\n",
    "plt.show()"
   ]
  },
  {
   "cell_type": "markdown",
   "id": "81a489ae",
   "metadata": {},
   "source": [
    "CNN을 시각화한다면 계층마다 정보가 추출된다. 1차 계층에서는 에지(색상이 바뀐 경계선)나 블롭(국소적으로 덩어리진 영역) 등의 저수준 정보가 추출되며, 보다 깊은 계층은 정확하고 복잡한 정보가 추출된다."
   ]
  },
  {
   "cell_type": "code",
   "execution_count": null,
   "id": "59fa09ba",
   "metadata": {},
   "outputs": [],
   "source": [
    "def filter_show(filters, nx=8, margin=3, scale=10):\n",
    "    \"\"\"\n",
    "    c.f. https://gist.github.com/aidiary/07d530d5e08011832b12#file-draw_weight-py\n",
    "    \"\"\"\n",
    "    FN, C, FH, FW = filters.shape\n",
    "    ny = int(np.ceil(FN / nx))\n",
    "\n",
    "    fig = plt.figure()\n",
    "    fig.subplots_adjust(left=0, right=1, bottom=0, top=1, hspace=0.05, wspace=0.05)\n",
    "\n",
    "    for i in range(FN):\n",
    "        ax = fig.add_subplot(ny, nx, i+1, xticks=[], yticks=[])\n",
    "        ax.imshow(filters[i, 0], cmap=plt.cm.gray_r, interpolation='nearest')\n",
    "    plt.show()\n",
    "\n",
    "\n",
    "network = SimpleConvNet()\n",
    "# 무작위(랜덤) 초기화 후의 가중치\n",
    "filter_show(network.params['W1'])\n",
    "\n",
    "# 학습된 가중치\n",
    "network.load_params(\"params.pkl\")\n",
    "filter_show(network.params['W1'])"
   ]
  },
  {
   "cell_type": "markdown",
   "id": "14463e13",
   "metadata": {},
   "source": [
    "## 7.7 대표적인 CNN\n",
    "\n",
    "**LeNet**은 손글씨 숫자를 인식하는 네트워크다. 합성곱 계층과 풀링 계층을 반복한 후 완전연결 계층을 거치며 결과를 출력한다."
   ]
  },
  {
   "cell_type": "markdown",
   "id": "bcddba6b",
   "metadata": {},
   "source": [
    "<div>\n",
    "<img src=\"fig7.15.jpg\" width=\"700\"/>\n",
    "</div>"
   ]
  },
  {
   "cell_type": "markdown",
   "id": "36cf01b9",
   "metadata": {},
   "source": [
    "LeNet은 초기의 CNN이기 때문에 현재 실무에서 사용되는 CNN과는 거리가 있다. (현재는 ReLU를 활성화 함수로 쓰지만, LeNet은 Sigmoid를 사용하며, 현재는 최대 풀링을 사용하지만, LeNet은 서브샘플링을 한다.)\n",
    "\n",
    "최근 기법인 **AlexNet**의 구성은 다음과 같다."
   ]
  },
  {
   "cell_type": "markdown",
   "id": "07500422",
   "metadata": {},
   "source": [
    "<div>\n",
    "<img src=\"fig7.16.jpg\" width=\"700\"/>\n",
    "</div>"
   ]
  },
  {
   "cell_type": "markdown",
   "id": "82292a0a",
   "metadata": {},
   "source": [
    "AlexNet과 LeNet은 유사하나, AlexNet에서는 ReLU를 사용하며 LRN이라는 국소적 정규화를 실시하는 계층을 이용한다. 또한, 드롭아웃을 사용한다."
   ]
  },
  {
   "cell_type": "markdown",
   "id": "dfa1821e",
   "metadata": {},
   "source": [
    "## Takeaways:\n",
    "\n",
    "- CNN은 지금까지의 완전연결 계층 네트워크에 합성곱 계층과 풀링 계층을 새로 추가한다.\n",
    "- 합성곱 계층과 풀링 계층은 im2col(이미지를 행렬로 전개하는 함수)을 이용하면 간단하고 효율적으로 구현할 수 있다.\n",
    "- CNN을 시각화해보면 계층이 깊어질수록 고급 정보가 추출되는 모습을 확인할 수 있다.\n",
    "- 대표적인 CNN에는 LeNet과 AlexNet이 있다.\n",
    "- 딥러닝의 발전에는 빅 데이터와 GPU가 크게 기여했다."
   ]
  },
  {
   "cell_type": "markdown",
   "id": "287a91ed",
   "metadata": {},
   "source": [
    "# 8. 딥러닝\n",
    "\n",
    "손글씨 데이터의 경우, 다음과 같은 심층 CNN을 구현하면 정확도가 99.38%에 이른다.\n",
    "\n",
    "(구현은 https://github.com/ahn-github/saito-goki/blob/master/ch08/deep_convnet.py 참고)\n",
    "\n",
    "(학습은 https://github.com/ahn-github/saito-goki/blob/master/ch08/train_deepnet.py 참고)"
   ]
  },
  {
   "cell_type": "markdown",
   "id": "78bb0c53",
   "metadata": {},
   "source": [
    "<div>\n",
    "<img src=\"fig8.1.jpg\" width=\"700\"/>\n",
    "</div>"
   ]
  },
  {
   "cell_type": "markdown",
   "id": "e4e911ae",
   "metadata": {},
   "source": [
    "정확도 개선에 이바지하는 방법으로는 앙상블 학습, 학습률 감소, **데이터 확장** 등이 있다.\n",
    "\n",
    "데이터 확장이란 입력 이미지를 알고리즘을 동원해 인위적으로 확장하는 것이다. 회전, 수직/수평 이동, crop, flip 등을 생각하면 간단하다. 밝기 조정이나 확대/축소 등 스케일 변형도 데이터 확장의 일부다.\n",
    "\n",
    "**층을 깊게 하는 이유**는 다음과 같다:\n",
    "\n",
    "1. 신경망의 매개변수 수가 줄어든다. 따라서 넓은 수용 영역을 소화 가능하다. (수용 영역은 뉴런에 변화를 일으키는 국소적인 공간 영역)\n",
    "2. 신경망의 표현력이 개선된다. (활성화 함수가 합성곱 계층 사이에 들어가기 때문)\n",
    "3. 학습 데이터의 양이 줄어 학습을 고속으로 (효율적으로) 수행 가능하다.\n",
    "4. 정보를 계층적으로 전달할 수 있다. (CNN 시각화 참고)"
   ]
  },
  {
   "cell_type": "markdown",
   "id": "69d71357",
   "metadata": {},
   "source": [
    "## 8.2 높은 정확도의 딥러닝 기법\n",
    "\n",
    "**VGG**는 합성곱 계층과 풀링 계층으로 구성되는 CNN이며, 합성곱 계층과 완전연결 계층 등 비중이 있는 층을 모두 16-19층으로 심화한다."
   ]
  },
  {
   "cell_type": "markdown",
   "id": "25c639fd",
   "metadata": {},
   "source": [
    "<div>\n",
    "<img src=\"fig8.2.jpg\" width=\"700\"/>\n",
    "</div>"
   ]
  },
  {
   "cell_type": "markdown",
   "id": "fbbe1512",
   "metadata": {},
   "source": [
    "그림에서 보이듯, VGG는 $3\\times3$의 필터를 사용한 합성곱 계층을 연속으로 거치며, 합성곱 계층을 2-4회 연속으로 풀링 계층을 두어 크기를 절반으로 줄이는 것을 반복하고 마지막에는 완전연결 계층을 통과시켜 결과를 출력한다. 성능 면에서는 GoogLeNet에 뒤지나, 구성이 간단하여 응용하기 좋다.\n",
    "\n",
    "**GoogLeNet**의 경우, 세로 방향 깊이뿐 아니라 가로 방향 깊이도 깊은 CNN을 구현한다. 가로 방향의 폭은 *인셉션 구조*이며, 크기가 다른 필터와 풀링을 여러 개 적용해 그 결과를 결합한다. 인셉션 구조는 다음과 같은 기반을 지닌다."
   ]
  },
  {
   "cell_type": "markdown",
   "id": "5e4919a9",
   "metadata": {},
   "source": [
    "<div>\n",
    "<img src=\"fig8.3.jpg\" width=\"700\"/>\n",
    "</div>"
   ]
  },
  {
   "cell_type": "markdown",
   "id": "a537db8d",
   "metadata": {},
   "source": [
    "GoogLeNet에서는 또한 $1\\times1$ 크기의 필터를 사용한 합성곱 계층을 수시로 사용함으로서 매개변수 제거와 고속 처리에 기여한다. GoogLeNet의 전체 구성은 다음 그림에서 나타난다. (각 사각형은 계층을 나타낸다)"
   ]
  },
  {
   "cell_type": "markdown",
   "id": "428260e2",
   "metadata": {},
   "source": [
    "<div>\n",
    "<img src=\"fig8.4.jpg\" width=\"700\"/>\n",
    "</div>"
   ]
  },
  {
   "cell_type": "markdown",
   "id": "e4d7a601",
   "metadata": {},
   "source": [
    "**ResNet**은 과도하게 깊은 층으로 발생하는 성능 저하의 부작용을 해결하기 위해 *스킵 연결*을 사용한다. 스킵 연결은 입력 데이터를 합성곱 계층을 건너뛰어 출력에 바로 더하는 방식이다."
   ]
  },
  {
   "cell_type": "markdown",
   "id": "33e53505",
   "metadata": {},
   "source": [
    "<div>\n",
    "<img src=\"fig8.5.jpg\" width=\"500\"/>\n",
    "</div>"
   ]
  },
  {
   "cell_type": "markdown",
   "id": "a7efe9c2",
   "metadata": {},
   "source": [
    "역전파 때 스킵 연결이 신호 감쇠를 막아주므로, 기울기의 의미 있는 전달이 가능하다 (스킵 연결이 없다면 층이 많아질수록 기울기가 계속 수정된다). 다시 말해, 원래라면 $F(x)$가 되었을 출력값이 스킵 연결을 통해 $F(x)+x$가 되는 것이다.\n",
    "\n",
    "ResNet의 구성은 VGG 신경망에 기반하며, 합성곱 계층을 2개 층마다 건너뛰며 층을 깊게 한다. 다음과 같다."
   ]
  },
  {
   "cell_type": "markdown",
   "id": "c3868a33",
   "metadata": {},
   "source": [
    "<div>\n",
    "<img src=\"fig8.6.jpg\" width=\"700\"/>\n",
    "</div>"
   ]
  },
  {
   "cell_type": "markdown",
   "id": "399297d6",
   "metadata": {},
   "source": [
    "## 8.3 딥러닝 고속화\n",
    "\n",
    "딥러닝 연산의 대부분은 합성곱 계층 연산에 소요된다. CPU에 비해 GPU의 처리 속도가 더 빠르며, 이는 병렬 수치 연산을 고속으로 처리할 수 있기 때문이다. GPU로 범용 수치 연산을 수행하는 것이 **GPU 컴퓨팅**이다. (CPU는 연속적인 복잡 계산을 잘 처리한다)\n",
    "\n",
    "이보다 더 고속화를 시키기 위해서는 1회 학습에 걸리는 시간을 최대한 단축해야 한다 (딥러닝 학습도 시행착오가 많이 필요하기 때문이다). 이로 인해 딥러닝 학습 *수평 확장* (**분산 학습**)이 소개되었다."
   ]
  },
  {
   "cell_type": "markdown",
   "id": "5e95b23e",
   "metadata": {},
   "source": [
    "## 8.4 딥러닝의 활용\n",
    "\n",
    "딥러닝의 활용 범위 중 하나는 **사물 검출**이며, 이미지 어딘가에 있는 사물의 위치와 종류 (클래스)를 나타내는 것이다. 이를 수행할 때는 CNN 중에서도 *R-CNN*을 많이 활용한다. 처리 흐름은 다음과 같다."
   ]
  },
  {
   "cell_type": "markdown",
   "id": "8d991a13",
   "metadata": {},
   "source": [
    "<div>\n",
    "<img src=\"fig8.7.jpg\" width=\"700\"/>\n",
    "</div>"
   ]
  },
  {
   "cell_type": "markdown",
   "id": "e488691d",
   "metadata": {},
   "source": [
    "후보 영역 추출 탐색 후 각 영역에 CNN을 적용하여 클래스를 분류한다 (주로 SVM 사용). *Faster R-CNN*의 경우 하나의 CNN에서 이를 수행하며, 더 빠르다.\n",
    "\n",
    "또다른 활용 범위는 **분할**이며, 입력 이미지의 모든 픽셀을 분류한다. brute하게 모든 픽셀을 각각 추론하는 대신, *FCN*을 사용하면 단 한 번의 순전파로 모든 픽셀의 클래스를 분류할 수 있다. 완전연결 계층을 해당 기능을 가진 합성곱 계층으로 바꿈으로서, 합성곱 계층만으로 네트워크를 구성한다. 또한 다음 그림과 같이 마지막에 공간 크기를 확대함으로서 줄어든 중간 데이터를 입력 이미지 크기로 확대할 수 있다 (역합성곱 연산으로 선형 확대)."
   ]
  },
  {
   "cell_type": "markdown",
   "id": "7ef0f617",
   "metadata": {},
   "source": [
    "<div>\n",
    "<img src=\"fig8.8.jpg\" width=\"700\"/>\n",
    "</div>"
   ]
  },
  {
   "cell_type": "markdown",
   "id": "87d35f21",
   "metadata": {},
   "source": [
    "또한 **사진 캡션 생성**도 가능한데, 이미지 데이터만으로 그에 알맞는 문장을 자동으로 생성한다. *NIC*를 대표적으로 사용하며, 해당 기법은 심층 CNN과 자연어를 다루는 *순환 신경망*이다. 사진에서 특징을 추출하고(CNN) 이를 RNN으로 전달해 텍스트를 순환적으로 생성한다. (사진이나 자연어와 같은 여러 종류의 정보를 조합하고 처리하는 것을 *멀티모달 처리*라고 한다.)\n",
    "\n",
    "현재는 딥러닝 분야에서 화풍(스타일) 변환, 이미지 생성, 자율 주행, 강화학습 등이 개발되는 중이다."
   ]
  },
  {
   "cell_type": "markdown",
   "id": "9b4b207a",
   "metadata": {},
   "source": [
    "## Takeaways:\n",
    "\n",
    "- 수많은 문제에서 신경망을 더 깊게 하여 성능을 개선할 수 있다.\n",
    "- 이미지 인식 기술 대회인 ILSVRC에서는 최근 딥러닝 기반 기법이 상위권을 독점하고 있으며, 그 깊이도 더욱 깊어지는 추세다.\n",
    "- 유명한 신경망으로 VGG, GoogLeNet, ResNet이 있다.\n",
    "- GPU와 분산 학습, 비트 정밀도 감소 등으로 딥러닝을 고속화할 수 있다.\n",
    "- 딥러닝(신경망)은 사물 인식뿐 아니라 사물 검출과 분할에도 이용할 수 있다.\n",
    "- 딥러닝의 응용 분야로는 사진의 캡션 생성, 이미지 생성, 강화학습, 자율 주행 등이 있다."
   ]
  }
 ],
 "metadata": {
  "kernelspec": {
   "display_name": "Python 3",
   "language": "python",
   "name": "python3"
  },
  "language_info": {
   "codemirror_mode": {
    "name": "ipython",
    "version": 3
   },
   "file_extension": ".py",
   "mimetype": "text/x-python",
   "name": "python",
   "nbconvert_exporter": "python",
   "pygments_lexer": "ipython3",
   "version": "3.8.8"
  }
 },
 "nbformat": 4,
 "nbformat_minor": 5
}
