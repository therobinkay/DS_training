{
 "cells": [
  {
   "cell_type": "code",
   "execution_count": 35,
   "id": "ecc8cc7f",
   "metadata": {},
   "outputs": [],
   "source": [
    "import numpy as np\n",
    "import matplotlib.pyplot as plt\n",
    "import sys, os\n",
    "import pickle"
   ]
  },
  {
   "cell_type": "markdown",
   "id": "a8fdf5ec",
   "metadata": {},
   "source": [
    "# 2. 퍼셉트론\n",
    "\n",
    "퍼셉트론은 다수의 신호를 입력으로, 하나의 신호를 출력으로 하는 알고리즘이다. 딥러닝의 기반이 되는 알고리즘이기도 하다. 가중치 w를 고려하며, 임계값 theta를 넘을 때 신호가 1을 출력하고 넘지 않을 때는 0을 출력한다.\n"
   ]
  },
  {
   "cell_type": "markdown",
   "id": "905a4890",
   "metadata": {},
   "source": [
    "<div>\n",
    "<img src=\"fig2.1.jpg\" width=\"500\"/>\n",
    "</div>"
   ]
  },
  {
   "cell_type": "markdown",
   "id": "b093cea3",
   "metadata": {},
   "source": [
    "<div>\n",
    "<img src=\"equ2.1.jpg\" width=\"500\"/>\n",
    "</div>"
   ]
  },
  {
   "cell_type": "markdown",
   "id": "b52293df",
   "metadata": {},
   "source": [
    "## 2.2 단순 논리 회로 (AND, NAND, OR)\n",
    "\n",
    "논리 회로에는 AND, NAND, OR 게이트가 있다. 단순히 이야기하자면, AND는 y=1을 조건으로 x1과 x2의 교집합, OR는 합집합, NAND는 AND의 반대 게이트 역할을 한다. 게이트마다 가능한 w1, w2, theta 조합은 무한하다.\n",
    "\n",
    "e.g.\n",
    "- AND: x1 = 0, x2 = 1, then y = 0\n",
    "- NAND: x1 = 1, x2 = 1, then y = 0\n",
    "- OR: x1 = 1, x2 = 0, then y = 1"
   ]
  },
  {
   "cell_type": "code",
   "execution_count": 1,
   "id": "739f9fb3",
   "metadata": {},
   "outputs": [
    {
     "name": "stdout",
     "output_type": "stream",
     "text": [
      "0\n",
      "0\n",
      "0\n",
      "1\n"
     ]
    }
   ],
   "source": [
    "# AND gate\n",
    "\n",
    "def AND(x1, x2):\n",
    "    w1, w2, theta = 0.5, 0.5, 0.7\n",
    "    tmp = x1*w1 + x2*w2\n",
    "    if tmp <= theta:\n",
    "        return 0\n",
    "    elif tmp > theta:\n",
    "        return 1\n",
    "    \n",
    "print(AND(0, 0))\n",
    "print(AND(1, 0))\n",
    "print(AND(0, 1))\n",
    "print(AND(1, 1))"
   ]
  },
  {
   "cell_type": "markdown",
   "id": "ab3d10ce",
   "metadata": {},
   "source": [
    "<div>\n",
    "<img src=\"equ2.2.jpg\" width=\"500\"/>\n",
    "</div>"
   ]
  },
  {
   "cell_type": "markdown",
   "id": "26d7f9be",
   "metadata": {},
   "source": [
    "여기서는 임계값 대신 편향 b를 사용했다. 입력 신호에 가중치를 곱한 값과 편향을 합하여 0 이상이면 1을, 그렇지 않다면 0을 출력한다."
   ]
  },
  {
   "cell_type": "code",
   "execution_count": 3,
   "id": "c7bcc0c2",
   "metadata": {},
   "outputs": [
    {
     "name": "stdout",
     "output_type": "stream",
     "text": [
      "[0.  0.5]\n",
      "0.5\n",
      "-0.19999999999999996\n"
     ]
    }
   ],
   "source": [
    "x = np.array([0, 1])\n",
    "w = np.array([0.5, 0.5])\n",
    "b = -0.7\n",
    "\n",
    "print(w*x)\n",
    "print(np.sum(w*x))\n",
    "print(np.sum(w*x)+b)"
   ]
  },
  {
   "cell_type": "markdown",
   "id": "9bc5a9be",
   "metadata": {},
   "source": [
    "**가중치 w는 입력 신호가 결과에 주는 영향력을 조절**하는 매개변수고, **편향 b는 뉴런이 얼마나 쉽게 활성화(1 출력)되는지 조정**하는 매개변수다."
   ]
  },
  {
   "cell_type": "code",
   "execution_count": 11,
   "id": "be467cbd",
   "metadata": {},
   "outputs": [],
   "source": [
    "# AND gate using bias\n",
    "\n",
    "def AND(x1, x2):\n",
    "    x = np.array([x1, x2])\n",
    "    w = np.array([0.5, 0.5])\n",
    "    b = -0.7\n",
    "    tmp = np.sum(w*x) + b\n",
    "    if tmp <= 0:\n",
    "        return 0\n",
    "    else:\n",
    "        return 1"
   ]
  },
  {
   "cell_type": "code",
   "execution_count": 9,
   "id": "614fb604",
   "metadata": {},
   "outputs": [],
   "source": [
    "# NAND gate using bias\n",
    "\n",
    "def NAND(x1, x2):\n",
    "    x = np.array([x1, x2])\n",
    "    w = np.array([-0.5, -0.5]) # Note that w is reversed\n",
    "    b = 0.7                    # Note that b is reversed\n",
    "    tmp = np.sum(w*x) + b\n",
    "    if tmp <= 0:\n",
    "        return 0\n",
    "    else:\n",
    "        return 1"
   ]
  },
  {
   "cell_type": "code",
   "execution_count": 7,
   "id": "b928e5a6",
   "metadata": {},
   "outputs": [],
   "source": [
    "# OR gate using bias\n",
    "\n",
    "def OR(x1, x2):\n",
    "    x = np.array([x1, x2])\n",
    "    w = np.array([0.5, 0.5]) # Note that w is different\n",
    "    b = -0.2                 # Note that b is different\n",
    "    tmp = np.sum(w*x) + b\n",
    "    if tmp <= 0:\n",
    "        return 0\n",
    "    else:\n",
    "        return 1"
   ]
  },
  {
   "cell_type": "markdown",
   "id": "3ba0124f",
   "metadata": {},
   "source": [
    "## 2.4 퍼셉트론의 한계\n",
    "\n",
    "XOR 게이트는 배타적 논리합으로, x1과 x2 중 하나가 1일 때만 1을 출력한다. 하나의 퍼셉트론으로 구분할 수 없는 이유는 그림으로 설명 가능하다."
   ]
  },
  {
   "cell_type": "markdown",
   "id": "989169f7",
   "metadata": {},
   "source": [
    "<div>\n",
    "<img src=\"fig2.2.jpg\" width=\"500\"/>\n",
    "</div>"
   ]
  },
  {
   "cell_type": "markdown",
   "id": "332e650d",
   "metadata": {},
   "source": [
    "퍼셉트론은 직선 하나로 영역을 나누는데, XOR 게이트는 그림에서 보이듯 곡선으로만 영역을 나눌 수 있다. 따라서 비선형 영역이기에 하나의 퍼셉트론으로는 구현할 수 없다.\n",
    "\n",
    "이와 같은 논리 회로를 구현하려면 층을 쌓아 **다층 퍼셉트론**을 구현한다:\n",
    "\n",
    "1. x1과 x2를 NAND 게이트로 입력시킨다.\n",
    "2. x1과 x2를 OR 게이트로 입력시킨다. (1과 독립적으로)\n",
    "3. NAND 출력값과 OR 출력값을 AND 게이트로 입력시킨다."
   ]
  },
  {
   "cell_type": "markdown",
   "id": "2dfab4fe",
   "metadata": {},
   "source": [
    "<div>\n",
    "<img src=\"fig2.3.jpg\" width=\"500\"/>\n",
    "</div>"
   ]
  },
  {
   "cell_type": "code",
   "execution_count": 12,
   "id": "91bacb48",
   "metadata": {},
   "outputs": [
    {
     "name": "stdout",
     "output_type": "stream",
     "text": [
      "0\n",
      "1\n",
      "1\n",
      "0\n"
     ]
    }
   ],
   "source": [
    "# XOR gate\n",
    "\n",
    "def XOR(x1, x2):\n",
    "    s1 = NAND(x1, x2)\n",
    "    s2 = OR(x1, x2)\n",
    "    y = AND(s1, s2)\n",
    "    return y\n",
    "\n",
    "print(XOR(0, 0))\n",
    "print(XOR(1, 0))\n",
    "print(XOR(0, 1))\n",
    "print(XOR(0, 0))"
   ]
  },
  {
   "cell_type": "markdown",
   "id": "97ef3535",
   "metadata": {},
   "source": [
    "## Takeaways:\n",
    "\n",
    "- 퍼셉트론은 입출력을 갖춘 알고리즘이다. 입력을 주면 정해진 규칙에 따른 값을 출력한다.\n",
    "- 퍼셉트론에서는 *가중치*와 *편향*을 매개변수로 설정한다.\n",
    "- 퍼셉트론으로 AND, NAND, OR 게이트 등의 논리 회로를 표현할 수 있다.\n",
    "- XOR 게이트는 단층 퍼셉트론으로는 표현할 수 없다. 2층 퍼셉트론으로 표현할 수 있다.\n",
    "- 단층 퍼셉트론은 직선형 영역만 표현할 수 있고, 다층 퍼셉트론은 비선형 영역도 표현할 수 있다. (다층 퍼셉트론은 이론상 컴퓨터도 표현 가능하다.)"
   ]
  },
  {
   "cell_type": "markdown",
   "id": "5dff2aef",
   "metadata": {},
   "source": [
    "# 3. 신경망\n",
    "\n",
    "퍼셉트론으로 복잡한 함수도 표현이 가능하나, 단점은 가중치 설정은 여전히 수동으로 해야 한다는 점이다. 신경망의 경우 해당 단점이 개선된다."
   ]
  },
  {
   "cell_type": "markdown",
   "id": "011dc05a",
   "metadata": {},
   "source": [
    "## 3.1 신경망의 개념"
   ]
  },
  {
   "cell_type": "markdown",
   "id": "5f6b2221",
   "metadata": {},
   "source": [
    "<div>\n",
    "<img src=\"fig3.1.jpg\" width=\"500\"/>\n",
    "</div>"
   ]
  },
  {
   "cell_type": "markdown",
   "id": "6e451140",
   "metadata": {},
   "source": [
    "신경망의 형태는 퍼셉트론과 다르지 않으나, 신호를 보내는 방식이 다양해진다. 편향을 사용했던 퍼셉트론 공식을 다음과 같이 다른 형태로 바꿔 쓸 수 있다."
   ]
  },
  {
   "cell_type": "markdown",
   "id": "9c1c7ac4",
   "metadata": {},
   "source": [
    "<div>\n",
    "<img src=\"equ3.1.jpg\" width=\"500\"/>\n",
    "</div>"
   ]
  },
  {
   "cell_type": "markdown",
   "id": "499bbdb1",
   "metadata": {},
   "source": [
    "여기서 h(x)를 **활성화 함수**라 칭하며, 해당 함수는 **입력 신호의 총합이 활성화를 일으키는지 판단**한다. 시각화하면 다음과 같이 표현할 수 있다."
   ]
  },
  {
   "cell_type": "markdown",
   "id": "623f6d01",
   "metadata": {},
   "source": [
    "<div>\n",
    "<img src=\"equ3.2.jpg\" width=\"500\"/>\n",
    "</div>"
   ]
  },
  {
   "cell_type": "markdown",
   "id": "67d38f8c",
   "metadata": {},
   "source": [
    "<div>\n",
    "<img src=\"fig3.2.jpg\" width=\"500\"/>\n",
    "</div>"
   ]
  },
  {
   "cell_type": "markdown",
   "id": "778de180",
   "metadata": {},
   "source": [
    "## 3.2 활성화 함수\n",
    "\n",
    "퍼셉트론에서는 활성화 함수를 **계단 함수**로 사용한다."
   ]
  },
  {
   "cell_type": "code",
   "execution_count": 17,
   "id": "5ccddf56",
   "metadata": {},
   "outputs": [],
   "source": [
    "def step_function(x):\n",
    "    return np.array(x>0, dtype=int)"
   ]
  },
  {
   "cell_type": "code",
   "execution_count": 18,
   "id": "b1d039c8",
   "metadata": {},
   "outputs": [
    {
     "data": {
      "image/png": "[encoded data removed]",
      "text/plain": [
       "<Figure size 432x288 with 1 Axes>"
      ]
     },
     "metadata": {
      "needs_background": "light"
     },
     "output_type": "display_data"
    }
   ],
   "source": [
    "# visualize step function\n",
    "\n",
    "x = np.arange(-5.0, 5.0, 0.1)\n",
    "y = step_function(x)\n",
    "plt.plot(x,y)\n",
    "plt.ylim(-0.1, 1.1)\n",
    "plt.show()"
   ]
  },
  {
   "cell_type": "markdown",
   "id": "f6a55e2e",
   "metadata": {},
   "source": [
    "신경망에서는 **시그모이드 함수**를 자주 사용한다."
   ]
  },
  {
   "cell_type": "markdown",
   "id": "1d9cd2f7",
   "metadata": {},
   "source": [
    "<div>\n",
    "<img src=\"equ3.3.jpg\" width=\"500\"/>\n",
    "</div>"
   ]
  },
  {
   "cell_type": "code",
   "execution_count": 19,
   "id": "6d140974",
   "metadata": {},
   "outputs": [],
   "source": [
    "def sigmoid(x):\n",
    "    return 1/(1+np.exp(-x))"
   ]
  },
  {
   "cell_type": "code",
   "execution_count": 20,
   "id": "bb188b70",
   "metadata": {},
   "outputs": [
    {
     "data": {
      "image/png": "[encoded data removed]",
      "text/plain": [
       "<Figure size 432x288 with 1 Axes>"
      ]
     },
     "metadata": {
      "needs_background": "light"
     },
     "output_type": "display_data"
    }
   ],
   "source": [
    "# visualize sigmoid function\n",
    "\n",
    "x = np.arange(-5.0, 5.0, 0.1)\n",
    "y = sigmoid(x)\n",
    "plt.plot(x,y)\n",
    "plt.ylim(-0.1, 1.1)\n",
    "plt.show()"
   ]
  },
  {
   "cell_type": "markdown",
   "id": "f4312606",
   "metadata": {},
   "source": [
    "계단 함수와 시그모이드 함수는 **매끄러움**에서 차이가 있다. 즉, 시그모이드 함수를 사용하는 신경망에서는 계단 함수를 사용하는 퍼셉트론과는 다르게 출력이 연속적으로 변화하며 연속적인 실수가 흐른다.\n",
    "\n",
    "한편 중요한 공통점도 있는데, 두 함수 모두 *비선형 함수*다. **신경망에서는 활성화 함수로 비선형 함수를 사용해야 한다.** 선형 함수를 사용한다면 층을 더한다고 하더라도 은닉층이 없는 네트워크로 표현할 수 있기 때문에, 여러 층으로 구성하는 의미가 없기 때문이다.\n",
    "\n",
    "e.g. h(x) = cx, then 3rd-layer y(x) = h(h(h(x))) = c^3 * x"
   ]
  },
  {
   "cell_type": "markdown",
   "id": "1660455a",
   "metadata": {},
   "source": [
    "한편, 최근에는 주로 ReLU 함수가 활성화 함수로 사용된다."
   ]
  },
  {
   "cell_type": "markdown",
   "id": "9a3e0ccb",
   "metadata": {},
   "source": [
    "<div>\n",
    "<img src=\"equ3.4.jpg\" width=\"500\"/>\n",
    "</div>"
   ]
  },
  {
   "cell_type": "code",
   "execution_count": 21,
   "id": "10dc0f1f",
   "metadata": {},
   "outputs": [],
   "source": [
    "def relu(x):\n",
    "    return np.maximum(0, x)"
   ]
  },
  {
   "cell_type": "code",
   "execution_count": 24,
   "id": "3b091111",
   "metadata": {},
   "outputs": [
    {
     "data": {
      "image/png": "[encoded data removed]",
      "text/plain": [
       "<Figure size 432x288 with 1 Axes>"
      ]
     },
     "metadata": {
      "needs_background": "light"
     },
     "output_type": "display_data"
    }
   ],
   "source": [
    "# visualize ReLU function\n",
    "\n",
    "x = np.arange(-5.0, 5.0, 0.1)\n",
    "y = relu(x)\n",
    "plt.plot(x,y)\n",
    "plt.ylim(-1.1, 6.1)\n",
    "plt.show()"
   ]
  },
  {
   "cell_type": "markdown",
   "id": "e9fa6406",
   "metadata": {},
   "source": [
    "3층 신경망의 경우 **A = XW + B**, 즉 다음 그림과 같이 구현한다."
   ]
  },
  {
   "cell_type": "markdown",
   "id": "dc4cc47d",
   "metadata": {},
   "source": [
    "<div>\n",
    "<img src=\"fig3.3.jpg\" width=\"500\"/>\n",
    "</div>"
   ]
  },
  {
   "cell_type": "markdown",
   "id": "0fdf3ffb",
   "metadata": {},
   "source": [
    "첫 두 층 동안은 내적 곱과 이전에 언급했던 활성화 함수(시그모이드)를 사용하며, 출력층에서는 다른 활성화 함수를 사용한다. 출력층에서 사용하는 활성화 함수는 항등 함수이며, **항등 함수는 입력을 그대로 출력하는 함수**다."
   ]
  },
  {
   "cell_type": "code",
   "execution_count": 26,
   "id": "a55f3ca0",
   "metadata": {},
   "outputs": [],
   "source": [
    "def identity_function(x):\n",
    "    return x"
   ]
  },
  {
   "cell_type": "markdown",
   "id": "aaad5593",
   "metadata": {},
   "source": [
    "<div>\n",
    "<img src=\"fig3.4.jpg\" width=\"500\"/>\n",
    "</div>"
   ]
  },
  {
   "cell_type": "code",
   "execution_count": 27,
   "id": "d26f4f6f",
   "metadata": {},
   "outputs": [
    {
     "name": "stdout",
     "output_type": "stream",
     "text": [
      "[0.31682708 0.69627909]\n"
     ]
    }
   ],
   "source": [
    "# 3-layer neural net\n",
    "\n",
    "# make weight and bias default and save it in a dictionary\n",
    "def init_network():\n",
    "    network = {}\n",
    "    network['W1'] = np.array([[0.1, 0.3, 0.5], [0.2, 0.4, 0.6]])\n",
    "    network['b1'] = np.array([0.1, 0.2, 0.3])\n",
    "    network['W2'] = np.array([[0.1, 0.4], [0.2, 0.5], [0.3, 0.6]])\n",
    "    network['b2'] = np.array([0.1, 0.2])\n",
    "    network['W3'] = np.array([[0.1, 0.3], [0.2, 0.4]])\n",
    "    network['b3'] = np.array([0.1, 0.2])\n",
    "    \n",
    "    return network\n",
    "\n",
    "# forward neural net\n",
    "def forward(network, x):\n",
    "    W1, W2, W3 = network['W1'], network['W2'], network['W3']\n",
    "    b1, b2, b3 = network['b1'], network['b2'], network['b3']\n",
    "    \n",
    "    a1 = np.dot(x, W1) + b1\n",
    "    z1 = sigmoid(a1)\n",
    "    a2 = np.dot(z1, W2) + b2\n",
    "    z2 = sigmoid(a2)\n",
    "    a3 = np.dot(z2, W3) + b3\n",
    "    y = identity_function(a3)\n",
    "    \n",
    "    return y\n",
    "\n",
    "network = init_network()\n",
    "x = np.array([1.0, 0.5])\n",
    "y = forward(network, x)\n",
    "print(y)"
   ]
  },
  {
   "cell_type": "markdown",
   "id": "e0689979",
   "metadata": {},
   "source": [
    "## 3.5 출력층 설계\n",
    "\n",
    "신경망은 분류와 회귀에 모두 사용 가능하며, 분류에 사용되는 출력층 활성화 함수와 회귀에 사용되는 출력층 활성화 함수가 다르다. **회귀에는 항등 함수를, 분류에는 소프트맥스 함수를 사용**한다. 소프트맥스 함수는 다음과 같다. (n은 출력층의 뉴런 수, y_k는 k번째 출력)"
   ]
  },
  {
   "cell_type": "markdown",
   "id": "3526e14a",
   "metadata": {},
   "source": [
    "<div>\n",
    "<img src=\"equ3.5.jpg\" width=\"500\"/>\n",
    "</div>"
   ]
  },
  {
   "cell_type": "markdown",
   "id": "3350beed",
   "metadata": {},
   "source": [
    "<div>\n",
    "<img src=\"fig3.5.jpg\" width=\"500\"/>\n",
    "</div>"
   ]
  },
  {
   "cell_type": "code",
   "execution_count": 28,
   "id": "a130589e",
   "metadata": {},
   "outputs": [
    {
     "name": "stdout",
     "output_type": "stream",
     "text": [
      "[0.01821127 0.24519181 0.73659691]\n"
     ]
    }
   ],
   "source": [
    "def softmax(a):\n",
    "    exp_a = np.exp(a)\n",
    "    sum_exp_a = np.sum(exp_a)\n",
    "    y = exp_a / sum_exp_a\n",
    "    \n",
    "    return y\n",
    "\n",
    "a = np.array([0.3, 2.9, 4.0])\n",
    "print(softmax(a))"
   ]
  },
  {
   "cell_type": "markdown",
   "id": "7c9b9394",
   "metadata": {},
   "source": [
    "소프트맥스 함수는 오버플로 문제에 취약하다. 지수 함수의 결과값은 기하급수적으로 커지기 때문에 임의의 정수 C를 분자와 분모에 곱해준다."
   ]
  },
  {
   "cell_type": "markdown",
   "id": "8ad48403",
   "metadata": {},
   "source": [
    "<div>\n",
    "<img src=\"equ3.6.jpg\" width=\"500\"/>\n",
    "</div>"
   ]
  },
  {
   "cell_type": "markdown",
   "id": "1a68a821",
   "metadata": {},
   "source": [
    "즉, **소프트맥스의 지수 함수를 계산할 때 정수를 더하는 것은 결과에 영향을 미치지 않는다**. 보편적으로 *C'의 값은 입력 신호의 최댓값으로 설정*한다."
   ]
  },
  {
   "cell_type": "code",
   "execution_count": 30,
   "id": "c3980842",
   "metadata": {},
   "outputs": [
    {
     "name": "stdout",
     "output_type": "stream",
     "text": [
      "[9.99954600e-01 4.53978686e-05 2.06106005e-09]\n"
     ]
    }
   ],
   "source": [
    "def softmax(a):\n",
    "    c = np.max(a)\n",
    "    exp_a = np.exp(a - c) # fix overflow\n",
    "    sum_exp_a = np.sum(exp_a)\n",
    "    y = exp_a / sum_exp_a\n",
    "    \n",
    "    return y\n",
    "\n",
    "a = np.array([1010, 1000, 990])\n",
    "print(softmax(a))"
   ]
  },
  {
   "cell_type": "markdown",
   "id": "5e9f7d52",
   "metadata": {},
   "source": [
    "소프트맥스 함수의 출력은 [0, 1]의 범위를 가지며, **출력의 총합은 1**이다. 덕분에 소프트맥스 함수의 출력을 확률로 해석 가능하다."
   ]
  },
  {
   "cell_type": "markdown",
   "id": "42b9a8d3",
   "metadata": {},
   "source": [
    "## 3.6 손글씨 숫자 인식 (실전)\n",
    "\n",
    "**분류 문제에서 출력층의 뉴런 수는 분류하려는 클래스 수와 같도록 한다.**\n",
    "\n",
    "학습된 매개변수를 사용하여 추론하는 과정을 신경망의 **순전파**라고 한다."
   ]
  },
  {
   "cell_type": "code",
   "execution_count": 34,
   "id": "ca916402",
   "metadata": {},
   "outputs": [
    {
     "name": "stdout",
     "output_type": "stream",
     "text": [
      "(60000, 784)\n",
      "(60000,)\n",
      "(10000, 784)\n",
      "(10000,)\n",
      "5\n",
      "(784,)\n",
      "(28, 28)\n"
     ]
    }
   ],
   "source": [
    "sys.path.append(os.pardir)  # 부모 디렉터리의 파일을 가져올 수 있도록 설정\n",
    "from dataset.mnist import load_mnist\n",
    "from PIL import Image\n",
    "\n",
    "def img_show(img):\n",
    "    pil_img = Image.fromarray(np.uint8(img))\n",
    "    pil_img.show()\n",
    "\n",
    "(x_train, t_train), (x_test, t_test) = load_mnist(flatten=True, normalize=False)\n",
    "\n",
    "# print the shape of each data\n",
    "print(x_train.shape)\n",
    "print(t_train.shape)\n",
    "print(x_test.shape)\n",
    "print(t_test.shape)\n",
    "\n",
    "img = x_train[0]\n",
    "label = t_train[0]\n",
    "print(label)  # 5\n",
    "\n",
    "print(img.shape)  # (784,)\n",
    "img = img.reshape(28, 28)  # 형상을 원래 이미지의 크기로 변형\n",
    "print(img.shape)  # (28, 28)\n",
    "\n",
    "img_show(img)"
   ]
  },
  {
   "cell_type": "markdown",
   "id": "6721ac0d",
   "metadata": {},
   "source": [
    "구현은 이전과 거의 흡사하다."
   ]
  },
  {
   "cell_type": "code",
   "execution_count": 37,
   "id": "b153c921",
   "metadata": {},
   "outputs": [],
   "source": [
    "from common.functions import sigmoid, softmax\n",
    "\n",
    "def get_data():\n",
    "    (x_train, t_train), (x_test, t_test) = load_mnist(normalize=True, flatten=True, one_hot_label=False)\n",
    "    return x_test, t_test\n",
    "\n",
    "\n",
    "# read weights and bias from sample_weight.pkl\n",
    "def init_network():\n",
    "    with open(\"sample_weight.pkl\", 'rb') as f:\n",
    "        network = pickle.load(f)\n",
    "    return network\n",
    "\n",
    "\n",
    "def predict(network, x):\n",
    "    W1, W2, W3 = network['W1'], network['W2'], network['W3']\n",
    "    b1, b2, b3 = network['b1'], network['b2'], network['b3']\n",
    "\n",
    "    a1 = np.dot(x, W1) + b1\n",
    "    z1 = sigmoid(a1)\n",
    "    a2 = np.dot(z1, W2) + b2\n",
    "    z2 = sigmoid(a2)\n",
    "    a3 = np.dot(z2, W3) + b3\n",
    "    y = softmax(a3)\n",
    "\n",
    "    return y"
   ]
  },
  {
   "cell_type": "markdown",
   "id": "fd7a1c89",
   "metadata": {},
   "source": [
    "정확도 계산을 위해 확률이 가장 높은 원소의 인덱스를 분류 레이블로 지정 후 대조한다."
   ]
  },
  {
   "cell_type": "code",
   "execution_count": 39,
   "id": "59298166",
   "metadata": {},
   "outputs": [
    {
     "name": "stdout",
     "output_type": "stream",
     "text": [
      "Accuracy:0.9352\n"
     ]
    }
   ],
   "source": [
    "x, t = get_data()\n",
    "network = init_network()\n",
    "\n",
    "accuracy_cnt = 0\n",
    "\n",
    "for i in range(len(x)):\n",
    "    y = predict(network, x[i])\n",
    "    p= np.argmax(y) # 확률이 가장 높은 원소의 인덱스를 얻는다.\n",
    "    if p == t[i]:\n",
    "        accuracy_cnt += 1\n",
    "\n",
    "print(\"Accuracy:\" + str(float(accuracy_cnt) / len(x)))"
   ]
  },
  {
   "cell_type": "markdown",
   "id": "be9819d1",
   "metadata": {},
   "source": [
    "1차원 배열을 입력하면 다음과 같은 배열 형상을 보인다."
   ]
  },
  {
   "cell_type": "markdown",
   "id": "f69cac64",
   "metadata": {},
   "source": [
    "<div>\n",
    "<img src=\"fig3.6.jpg\" width=\"500\"/>\n",
    "</div>"
   ]
  },
  {
   "cell_type": "markdown",
   "id": "df78ac43",
   "metadata": {},
   "source": [
    "여러 장, 다시 말해 고차원의 배열을 입력할 때 입력 데이터를 한 번에 묶어 처리한다면 출력 데이터도 한 번에 받을 수 있게 된다. 하나로 묶은 입력 데이터를 **배치**라고 한다. 배치 처리는 다음과 같은 형상을 보인다."
   ]
  },
  {
   "cell_type": "markdown",
   "id": "03bc518a",
   "metadata": {},
   "source": [
    "<div>\n",
    "<img src=\"fig3.7.jpg\" width=\"500\"/>\n",
    "</div>"
   ]
  },
  {
   "cell_type": "code",
   "execution_count": 40,
   "id": "fdc29973",
   "metadata": {},
   "outputs": [
    {
     "name": "stdout",
     "output_type": "stream",
     "text": [
      "Accuracy:0.9352\n"
     ]
    }
   ],
   "source": [
    "x, t = get_data()\n",
    "network = init_network()\n",
    "\n",
    "batch_size = 100 # 배치 크기\n",
    "accuracy_cnt = 0\n",
    "\n",
    "for i in range(0, len(x), batch_size):\n",
    "    x_batch = x[i:i+batch_size] # batch 길이만큼 잘라서 입력\n",
    "    y_batch = predict(network, x_batch)\n",
    "    p = np.argmax(y_batch, axis=1)\n",
    "    accuracy_cnt += np.sum(p == t[i:i+batch_size])\n",
    "\n",
    "print(\"Accuracy:\" + str(float(accuracy_cnt) / len(x)))"
   ]
  },
  {
   "cell_type": "markdown",
   "id": "c080d315",
   "metadata": {},
   "source": [
    "데이터를 배치로 처리한다면 더 효율적이고 빠르게 처리할 수 있다."
   ]
  },
  {
   "cell_type": "markdown",
   "id": "0349ebce",
   "metadata": {},
   "source": [
    "## Takeaways:\n",
    "\n",
    "- 신경망에서는 활성화 함수로 시그모이드 함수와 ReLU 함수 같은 매끄럽게 변화하는 함수를 이용한다.\n",
    "- 넘파이의 다차원 배열을 잘 사용하면 신경망을 효율적으로 구현할 수 있다.\n",
    "- 기계학습 문제는 크게 회귀와 분류로 나눌 수 있다.\n",
    "- 출력층의 활성화 함수로는 회귀에서는 주로 항등 함수를, 분류에서는 주로 소프트맥스 함수를 이용한다.\n",
    "- 분류에서는 출력층의 뉴런 수로 분류하려는 클래스 수와 같게 설정한다.\n",
    "- 입력 데이터를 묶은 것을 배치라 하며, 추론 처리를 이 배치 단위로 진행하면 결과를 훨씬 빠르게 얻을 수 있다."
   ]
  },
  {
   "cell_type": "markdown",
   "id": "46711691",
   "metadata": {},
   "source": [
    "# 4. 신경망 학습\n",
    "\n",
    "신경망 **학습**이란 훈련 데이터로부터 매개변수 w, b의 최적값을 자동으로 알아내는 것을 뜻한다. 피처를 직접 추출한 후에 학습하는 머신러닝과는 달리 신경망(딥러닝)은 end-to-end 학습, 즉 데이터 그대로를 입력 데이터로 활용해 학습한다."
   ]
  },
  {
   "cell_type": "markdown",
   "id": "9fac98dd",
   "metadata": {},
   "source": [
    "## 4.2 손실 함수\n",
    "\n",
    "최적의 매개변수 값을 탐색할 때 사용되는 지표가 **손실 함수**다. 일반적으로는 평균 제곱 오차와 교차 엔트로피 오차를 사용한다. 손실 함수가 높을수록 오답일 가능성이 높다고 판단한다.\n",
    "\n",
    "평균 제곱 오차는 다음과 같다. (y_k는 신경망의 출력, t_k는 정답 레이블, k는 데이터의 차원 수)"
   ]
  },
  {
   "cell_type": "markdown",
   "id": "4e1f8175",
   "metadata": {},
   "source": [
    "<div>\n",
    "<img src=\"equ4.1.jpg\" width=\"500\"/>\n",
    "</div>"
   ]
  },
  {
   "cell_type": "code",
   "execution_count": 41,
   "id": "c63e01bd",
   "metadata": {},
   "outputs": [
    {
     "name": "stdout",
     "output_type": "stream",
     "text": [
      "0.09750000000000003\n",
      "\n",
      "0.5975\n"
     ]
    }
   ],
   "source": [
    "def mean_squared_error(y, t):\n",
    "    return 0.5 * np.sum((y-t)**2)\n",
    "\n",
    "# correct answer: 2\n",
    "t = [0, 0, 1, 0, 0, 0, 0, 0, 0, 0]\n",
    "\n",
    "# returns the highest probability for 2\n",
    "y = [0.1, 0.05, 0.6, 0.0, 0.05, 0.1, 0.0, 0.1, 0.0, 0.0]\n",
    "print(mean_squared_error(np.array(y), np.array(t)))\n",
    "print(\"\")\n",
    "\n",
    "# returns the highest probability for 7\n",
    "y = [0.1, 0.05, 0.1, 0.0, 0.05, 0.1, 0.0, 0.6, 0.0, 0.0]\n",
    "print(mean_squared_error(np.array(y), np.array(t)))"
   ]
  },
  {
   "cell_type": "markdown",
   "id": "32a350fa",
   "metadata": {},
   "source": [
    "교차 엔트로피 오차는 다음과 같다. (log = ln)"
   ]
  },
  {
   "cell_type": "markdown",
   "id": "d943eaa7",
   "metadata": {},
   "source": [
    "<div>\n",
    "<img src=\"equ4.2.jpg\" width=\"500\"/>\n",
    "</div>"
   ]
  },
  {
   "cell_type": "code",
   "execution_count": 42,
   "id": "5660111a",
   "metadata": {},
   "outputs": [
    {
     "name": "stdout",
     "output_type": "stream",
     "text": [
      "0.510825457099338\n",
      "\n",
      "2.302584092994546\n"
     ]
    }
   ],
   "source": [
    "def cross_entropy_error(y, t):\n",
    "    # to prevent log(0) error\n",
    "    delta = 1e-7\n",
    "    return -np.sum(t * np.log(y + delta))\n",
    "\n",
    "# correct answer: 2\n",
    "t = [0, 0, 1, 0, 0, 0, 0, 0, 0, 0]\n",
    "\n",
    "# returns the highest probability for 2\n",
    "y = [0.1, 0.05, 0.6, 0.0, 0.05, 0.1, 0.0, 0.1, 0.0, 0.0]\n",
    "print(cross_entropy_error(np.array(y), np.array(t)))\n",
    "print(\"\")\n",
    "\n",
    "# returns the highest probability for 7\n",
    "y = [0.1, 0.05, 0.1, 0.0, 0.05, 0.1, 0.0, 0.6, 0.0, 0.0]\n",
    "print(cross_entropy_error(np.array(y), np.array(t)))"
   ]
  },
  {
   "cell_type": "markdown",
   "id": "aa4ae139",
   "metadata": {},
   "source": [
    "교차 엔트로피 오차는 log함수를 쓰기 때문에 정답 출력값이 낮을수록 오차가 기하급수적으로 늘어난다.\n",
    "\n",
    "단일 데이터의 손실 함수만 구하는 것보다, **훈련 데이터 모두에 대한 손실 함수의 합을 구하는 경우**가 더 많다. 교차 엔트로피 오차를 사용할 경우 다음과 같다."
   ]
  },
  {
   "cell_type": "markdown",
   "id": "58cb8577",
   "metadata": {},
   "source": [
    "<div>\n",
    "<img src=\"equ4.3.jpg\" width=\"500\"/>\n",
    "</div>"
   ]
  },
  {
   "cell_type": "markdown",
   "id": "4c430621",
   "metadata": {},
   "source": [
    "(N개의 데이터가 있다고 가정할 때, t_nk는 n번째 데이터의 k차원 값이다.) 마지막에 N으로 나눔으로써 정규화를 하며, 평균 손실 함수를 구한다.\n",
    "\n",
    "커다란 규모의 데이터의 경우, 모든 데이터의 손실 함수를 계산하는 대신 데이터 일부를 추출해 근사치를 계산, 학습한다. 해당 일부를 **미니배치**라고 한다. \n",
    "(예를 들어, 60,000개의 데이터 중 100개를 무작위로 추출해 사용하여 학습하는 것을 **미니배치 학습**이라고 한다.)"
   ]
  },
  {
   "cell_type": "code",
   "execution_count": 55,
   "id": "a4daf315",
   "metadata": {},
   "outputs": [
    {
     "name": "stdout",
     "output_type": "stream",
     "text": [
      "(60000, 784)\n",
      "(60000, 10)\n",
      "\n",
      "(10, 784)\n",
      "(10, 10)\n"
     ]
    }
   ],
   "source": [
    "# by one-hot encoding, get 1 for correct answer and 0 otherwise\n",
    "(x_train, t_train), (x_test, t_test) = load_mnist(normalize=True, one_hot_label=True)\n",
    "\n",
    "print(x_train.shape)\n",
    "print(t_train.shape)\n",
    "print(\"\")\n",
    "\n",
    "# randomly choose 10 from 60000\n",
    "train_size = x_train.shape[0]\n",
    "batch_size = 10\n",
    "batch_mask = np.random.choice(train_size, batch_size)\n",
    "x_batch = x_train[batch_mask]\n",
    "t_batch = t_train[batch_mask]\n",
    "\n",
    "print(x_batch.shape)\n",
    "print(t_batch.shape)"
   ]
  },
  {
   "cell_type": "markdown",
   "id": "e0c1c719",
   "metadata": {},
   "source": [
    "One-hot encoding이 된 정답 레이블을 다룰 때, 미니배치용 교차 엔트로피 오차는 다음과 같이 구할 수 있다."
   ]
  },
  {
   "cell_type": "code",
   "execution_count": 56,
   "id": "1c8777e0",
   "metadata": {},
   "outputs": [],
   "source": [
    "def cross_entropy_error(y, t):\n",
    "    if y_ndim == 1:\n",
    "        t = t.reshape(1, t.size)\n",
    "        y = y.reshape(1, y.size)\n",
    "        \n",
    "    batch_size = y.shape[0]\n",
    "    return -np.sum(t * np.log(y)) / batch_size"
   ]
  },
  {
   "cell_type": "markdown",
   "id": "533217ff",
   "metadata": {},
   "source": [
    "One-hot encoding 대신 숫자 레이블 (2, 7, etc.)이 주어질 때는 다음과 같이 구할 수 있다."
   ]
  },
  {
   "cell_type": "code",
   "execution_count": 57,
   "id": "38e4a70c",
   "metadata": {},
   "outputs": [],
   "source": [
    "def cross_entropy_error(y, t):\n",
    "    if y_ndim == 1:\n",
    "        t = t.reshape(1, t.size)\n",
    "        y = y.reshape(1, y.size)\n",
    "        \n",
    "    batch_size = y.shape[0]\n",
    "    return -np.sum(np.log(y[np.arange(batch_size), t])) / batch_size"
   ]
  },
  {
   "cell_type": "markdown",
   "id": "d0ca9f5c",
   "metadata": {},
   "source": [
    "차이가 있는 이유는 one-hot encoding이 되었을 때는 신경망의 출력(0, 1)만으로 교차 엔트로피를 구할 수 있지만, 숫자 레이블일 경우 각 데이터의 정답 레이블 index의 출력을 받아와야 하기 때문이다.\n",
    "\n",
    "정확도 대신 손실 함수를 지표로 삼는 이유는 **최적화를 진행할 때 미분을 사용하기 때문**이다. 정확도와 달리 손실 함수는 연속적으로 나타낼 수 있다. 따라서 매개변수의 최대 기울기를 계산한 후 손실 함수 값을 최소화할 수 있다. (정확도의 경우, 32%가 나왔다고 가정하면 매개변수를 조금씩 조정해도 정확도는 변하지 않을 것이다. 즉, 미분은 대부분 0이 나오게 된다.)"
   ]
  },
  {
   "cell_type": "code",
   "execution_count": 59,
   "id": "12fe4a50",
   "metadata": {},
   "outputs": [],
   "source": [
    "# differentiation (preventing rounding error)\n",
    "def numerical_diff(f, x):\n",
    "    h = 1e-4\n",
    "    return (f(x+h) - f(x-h)) / (2*h)"
   ]
  },
  {
   "cell_type": "code",
   "execution_count": 60,
   "id": "9eec1ce4",
   "metadata": {},
   "outputs": [
    {
     "data": {
      "image/png": "[encoded data removed]",
      "text/plain": [
       "<Figure size 432x288 with 1 Axes>"
      ]
     },
     "metadata": {
      "needs_background": "light"
     },
     "output_type": "display_data"
    },
    {
     "name": "stdout",
     "output_type": "stream",
     "text": [
      "0.1999999999990898\n",
      "0.2999999999986347\n"
     ]
    }
   ],
   "source": [
    "# example\n",
    "def function_1(x):\n",
    "    return 0.01*x**2 + 0.1*x\n",
    "\n",
    "x = np.arange(0.0, 20.0, 0.1)\n",
    "y = function_1(x)\n",
    "plt.xlabel(\"x\")\n",
    "plt.ylabel(\"f(x)\")\n",
    "plt.plot(x,y)\n",
    "plt.show()\n",
    "\n",
    "print(numerical_diff(function_1, 5))\n",
    "print(numerical_diff(function_1, 10))"
   ]
  },
  {
   "cell_type": "markdown",
   "id": "c061f0b1",
   "metadata": {},
   "source": [
    "## 4.4 기울기\n",
    "\n",
    "When calculating partial differential equations, we use gradients:"
   ]
  },
  {
   "cell_type": "code",
   "execution_count": 63,
   "id": "730795b9",
   "metadata": {},
   "outputs": [],
   "source": [
    "def numerical_gradient(f, x):\n",
    "    h = 1e-4\n",
    "    grad = np.zeros_like(x)\n",
    "    \n",
    "    for idx in range(x.size):\n",
    "        tmp_val = x[idx]\n",
    "        \n",
    "        # calculate f(x+h)\n",
    "        x[idx] = tmp_val + h\n",
    "        fxh1 = f(x)\n",
    "        \n",
    "        # calculate f(x-h)\n",
    "        x[idx] = tmp_val - h\n",
    "        fxh2 = f(x)\n",
    "        \n",
    "        grad[idx] = (fxh1-fxh2) / (2*h)\n",
    "        x[idx] = tmp_val # recover value\n",
    "        \n",
    "    return grad"
   ]
  },
  {
   "cell_type": "code",
   "execution_count": 77,
   "id": "f16bc2c5",
   "metadata": {},
   "outputs": [
    {
     "name": "stdout",
     "output_type": "stream",
     "text": [
      "[6. 8.]\n",
      "[0. 4.]\n",
      "[6. 0.]\n"
     ]
    }
   ],
   "source": [
    "# example\n",
    "def function_2(x):\n",
    "    return x[0]**2 + x[1]**2\n",
    "\n",
    "# getting a gradient in each point\n",
    "print(numerical_gradient(function_2, np.array([3.0, 4.0])))\n",
    "print(numerical_gradient(function_2, np.array([0.0, 2.0])))\n",
    "print(numerical_gradient(function_2, np.array([3.0, 0.0])))"
   ]
  },
  {
   "cell_type": "code",
   "execution_count": 69,
   "id": "ca27fd46",
   "metadata": {},
   "outputs": [
    {
     "data": {
      "image/png": "[encoded data removed]",
      "text/plain": [
       "<Figure size 432x288 with 1 Axes>"
      ]
     },
     "metadata": {
      "needs_background": "light"
     },
     "output_type": "display_data"
    }
   ],
   "source": [
    "# source code for visualization\n",
    "\n",
    "from mpl_toolkits.mplot3d import Axes3D\n",
    "\n",
    "\n",
    "def _numerical_gradient_no_batch(f, x):\n",
    "    h = 1e-4 # 0.0001\n",
    "    grad = np.zeros_like(x) # x와 형상이 같은 배열을 생성\n",
    "    \n",
    "    for idx in range(x.size):\n",
    "        tmp_val = x[idx]\n",
    "        \n",
    "        # f(x+h) 계산\n",
    "        x[idx] = float(tmp_val) + h\n",
    "        fxh1 = f(x)\n",
    "        \n",
    "        # f(x-h) 계산\n",
    "        x[idx] = tmp_val - h \n",
    "        fxh2 = f(x) \n",
    "        \n",
    "        grad[idx] = (fxh1 - fxh2) / (2*h)\n",
    "        x[idx] = tmp_val # 값 복원\n",
    "        \n",
    "    return grad\n",
    "\n",
    "\n",
    "def numerical_gradient(f, X):\n",
    "    if X.ndim == 1:\n",
    "        return _numerical_gradient_no_batch(f, X)\n",
    "    else:\n",
    "        grad = np.zeros_like(X)\n",
    "        \n",
    "        for idx, x in enumerate(X):\n",
    "            grad[idx] = _numerical_gradient_no_batch(f, x)\n",
    "        \n",
    "        return grad\n",
    "\n",
    "\n",
    "def tangent_line(f, x):\n",
    "    d = numerical_gradient(f, x)\n",
    "    print(d)\n",
    "    y = f(x) - d*x\n",
    "    return lambda t: d*t + y\n",
    "     \n",
    "if __name__ == '__main__':\n",
    "    x0 = np.arange(-2, 2.5, 0.25)\n",
    "    x1 = np.arange(-2, 2.5, 0.25)\n",
    "    X, Y = np.meshgrid(x0, x1)\n",
    "    \n",
    "    X = X.flatten()\n",
    "    Y = Y.flatten()\n",
    "    \n",
    "    grad = numerical_gradient(function_2, np.array([X, Y]) )\n",
    "    \n",
    "    plt.figure()\n",
    "    plt.quiver(X, Y, -grad[0], -grad[1],  angles=\"xy\",color=\"#666666\")#,headwidth=10,scale=40,color=\"#444444\")\n",
    "    plt.xlim([-2, 2])\n",
    "    plt.ylim([-2, 2])\n",
    "    plt.xlabel('x0')\n",
    "    plt.ylabel('x1')\n",
    "    plt.grid()\n",
    "    plt.draw()\n",
    "    plt.show()"
   ]
  },
  {
   "cell_type": "markdown",
   "id": "8e0a5dcd",
   "metadata": {},
   "source": [
    "위 시각화 그래프에서 기울기가 가리키는 쪽은 각 장소에서 **함수의 출력 값을 가장 줄이는 방향**이다.\n",
    "\n",
    "경사 하강법은 다음과 같이 나타낼 수 있다."
   ]
  },
  {
   "cell_type": "markdown",
   "id": "315ea6f5",
   "metadata": {},
   "source": [
    "<div>\n",
    "<img src=\"equ4.4.jpg\" width=\"500\"/>\n",
    "</div>"
   ]
  },
  {
   "cell_type": "markdown",
   "id": "269e286e",
   "metadata": {},
   "source": [
    "해당 식은 1회 갱신량을 보여주며, 갱신량은 **학습률**이라고 표현한다. 학습률 값은 미리 지정하며, 학습률 값을 변경하면서 학습이 제대로 되고 있는지 확인한다."
   ]
  },
  {
   "cell_type": "code",
   "execution_count": 75,
   "id": "d54d5d02",
   "metadata": {},
   "outputs": [],
   "source": [
    "def gradient_descent(f, init_x, lr=0.01, step_num=100):\n",
    "    x = init_x\n",
    "    \n",
    "    for i in range(step_num):\n",
    "        grad = numerical_gradient(f, x)\n",
    "        x -= lr * grad\n",
    "    return x"
   ]
  },
  {
   "cell_type": "code",
   "execution_count": 68,
   "id": "dfd5707e",
   "metadata": {},
   "outputs": [
    {
     "name": "stdout",
     "output_type": "stream",
     "text": [
      "[-6.11110793e-10  8.14814391e-10]\n"
     ]
    }
   ],
   "source": [
    "# example\n",
    "init_x = np.array([-3.0, 4.0])\n",
    "print(gradient_descent(function_2, init_x, lr=0.1, step_num=100))"
   ]
  },
  {
   "cell_type": "code",
   "execution_count": 73,
   "id": "4f943c54",
   "metadata": {},
   "outputs": [
    {
     "data": {
      "image/png": "[encoded data removed]",
      "text/plain": [
       "<Figure size 432x288 with 1 Axes>"
      ]
     },
     "metadata": {
      "needs_background": "light"
     },
     "output_type": "display_data"
    }
   ],
   "source": [
    "# source code for visualization\n",
    "\n",
    "from gradient_2d import numerical_gradient\n",
    "\n",
    "\n",
    "def gradient_descent(f, init_x, lr=0.01, step_num=100):\n",
    "    x = init_x\n",
    "    x_history = []\n",
    "\n",
    "    for i in range(step_num):\n",
    "        x_history.append( x.copy() )\n",
    "\n",
    "        grad = numerical_gradient(f, x)\n",
    "        x -= lr * grad\n",
    "\n",
    "    return x, np.array(x_history)\n",
    "\n",
    "init_x = np.array([-3.0, 4.0])\n",
    "\n",
    "x, x_history = gradient_descent(function_2, init_x, lr=0.1, step_num=20)\n",
    "\n",
    "plt.plot( [-5, 5], [0,0], '--b')\n",
    "plt.plot( [0,0], [-5, 5], '--b')\n",
    "plt.plot(x_history[:,0], x_history[:,1], 'o')\n",
    "\n",
    "plt.xlim(-3.5, 3.5)\n",
    "plt.ylim(-4.5, 4.5)\n",
    "plt.xlabel(\"X0\")\n",
    "plt.ylabel(\"X1\")\n",
    "plt.show()"
   ]
  },
  {
   "cell_type": "markdown",
   "id": "081982b3",
   "metadata": {},
   "source": [
    "학습률이 너무 크면 값도 크고, 너무 작으면 거의 갱신되지 않는다. 학습률이 극단적인 값이면 다음과 같은 문제가 발생한다."
   ]
  },
  {
   "cell_type": "code",
   "execution_count": 79,
   "id": "202521d9",
   "metadata": {},
   "outputs": [
    {
     "name": "stdout",
     "output_type": "stream",
     "text": [
      "[-2.58983747e+13 -1.29524862e+12]\n",
      "[-2.99999994  3.99999992]\n"
     ]
    }
   ],
   "source": [
    "init_x = np.array([-3.0, 4.0])\n",
    "print(gradient_descent(function_2, init_x, lr=10.0, step_num=100))\n",
    "\n",
    "init_x = np.array([-3.0, 4.0])\n",
    "print(gradient_descent(function_2, init_x, lr=1e-10, step_num=100))"
   ]
  },
  {
   "cell_type": "markdown",
   "id": "de5d6000",
   "metadata": {},
   "source": [
    "신경망에서도 기울기를 구하곤 한다. 2x3의 형태를 가지며 가중치가 W, 손실 함수가 L일 때 경사는 편미분인 dL/dW로 나라낼 수 있다. 각 원소의 편미분을 구하는 것이며, dL/dW 역시 W와 같은 형태를 가진다."
   ]
  },
  {
   "cell_type": "code",
   "execution_count": 80,
   "id": "d2afcd3c",
   "metadata": {},
   "outputs": [
    {
     "name": "stdout",
     "output_type": "stream",
     "text": [
      "[[ 0.07222616  0.47662636 -0.54885252]\n",
      " [ 0.10833923  0.71493955 -0.82327878]]\n"
     ]
    }
   ],
   "source": [
    "from common.functions import softmax, cross_entropy_error\n",
    "from common.gradient import numerical_gradient\n",
    "\n",
    "\n",
    "class simpleNet:\n",
    "    def __init__(self):\n",
    "        self.W = np.random.randn(2,3) # 정규분포로 초기화\n",
    "\n",
    "    def predict(self, x):\n",
    "        return np.dot(x, self.W)\n",
    "\n",
    "    def loss(self, x, t):\n",
    "        z = self.predict(x)\n",
    "        y = softmax(z)\n",
    "        loss = cross_entropy_error(y, t)\n",
    "\n",
    "        return loss\n",
    "\n",
    "x = np.array([0.6, 0.9])\n",
    "t = np.array([0, 0, 1])\n",
    "\n",
    "net = simpleNet()\n",
    "\n",
    "f = lambda w: net.loss(x, t)\n",
    "dW = numerical_gradient(f, net.W)\n",
    "\n",
    "print(dW)"
   ]
  },
  {
   "cell_type": "markdown",
   "id": "b2d15cc6",
   "metadata": {},
   "source": [
    "## 4.5 학습 알고리즘 구현하기\n",
    "\n",
    "신경망 학습의 절차는 다음과 같다.\n",
    "\n",
    "1. 미니배치 (미니배치로 무작위로 선정하기 때문에 **확률적 경사 하강법[SGD]**라고 불린다.)\n",
    "2. 기울기 산출\n",
    "3. 매개변수 갱신\n",
    "\n",
    "2층 신경망 클래스는 다음과 같이 구현한다."
   ]
  },
  {
   "cell_type": "code",
   "execution_count": 83,
   "id": "ec6a0bec",
   "metadata": {},
   "outputs": [],
   "source": [
    "from common.functions import *\n",
    "from common.gradient import numerical_gradient\n",
    "\n",
    "\n",
    "class TwoLayerNet:\n",
    "\n",
    "    def __init__(self, input_size, hidden_size, output_size, weight_init_std=0.01):\n",
    "        # 가중치 초기화\n",
    "        self.params = {}\n",
    "        self.params['W1'] = weight_init_std * np.random.randn(input_size, hidden_size)\n",
    "        self.params['b1'] = np.zeros(hidden_size)\n",
    "        self.params['W2'] = weight_init_std * np.random.randn(hidden_size, output_size)\n",
    "        self.params['b2'] = np.zeros(output_size)\n",
    "\n",
    "    # 예측 수행\n",
    "    def predict(self, x):\n",
    "        W1, W2 = self.params['W1'], self.params['W2']\n",
    "        b1, b2 = self.params['b1'], self.params['b2']\n",
    "    \n",
    "        a1 = np.dot(x, W1) + b1\n",
    "        z1 = sigmoid(a1)\n",
    "        a2 = np.dot(z1, W2) + b2\n",
    "        y = softmax(a2)\n",
    "        \n",
    "        return y\n",
    "    \n",
    "    # 손실 함수 값 구하기\n",
    "    # x : 입력 데이터, t : 정답 레이블\n",
    "    def loss(self, x, t):\n",
    "        y = self.predict(x)\n",
    "        \n",
    "        return cross_entropy_error(y, t)\n",
    "    \n",
    "    # 정확도 구하기\n",
    "    def accuracy(self, x, t):\n",
    "        y = self.predict(x)\n",
    "        y = np.argmax(y, axis=1)\n",
    "        t = np.argmax(t, axis=1)\n",
    "        \n",
    "        accuracy = np.sum(y == t) / float(x.shape[0])\n",
    "        return accuracy\n",
    "    \n",
    "    # 가중치 매개변수의 기울기 구하기\n",
    "    # x : 입력 데이터, t : 정답 레이블\n",
    "    def numerical_gradient(self, x, t):\n",
    "        loss_W = lambda W: self.loss(x, t)\n",
    "        \n",
    "        grads = {}\n",
    "        grads['W1'] = numerical_gradient(loss_W, self.params['W1'])\n",
    "        grads['b1'] = numerical_gradient(loss_W, self.params['b1'])\n",
    "        grads['W2'] = numerical_gradient(loss_W, self.params['W2'])\n",
    "        grads['b2'] = numerical_gradient(loss_W, self.params['b2'])\n",
    "        \n",
    "        return grads\n",
    "    \n",
    "    # 오차역전파법을 사용해 빠르게 기울기 구하기 (다음 챕터에 후술)\n",
    "    def gradient(self, x, t):\n",
    "        W1, W2 = self.params['W1'], self.params['W2']\n",
    "        b1, b2 = self.params['b1'], self.params['b2']\n",
    "        grads = {}\n",
    "        \n",
    "        batch_num = x.shape[0]\n",
    "        \n",
    "        # forward\n",
    "        a1 = np.dot(x, W1) + b1\n",
    "        z1 = sigmoid(a1)\n",
    "        a2 = np.dot(z1, W2) + b2\n",
    "        y = softmax(a2)\n",
    "        \n",
    "        # backward\n",
    "        dy = (y - t) / batch_num\n",
    "        grads['W2'] = np.dot(z1.T, dy)\n",
    "        grads['b2'] = np.sum(dy, axis=0)\n",
    "        \n",
    "        da1 = np.dot(dy, W2.T)\n",
    "        dz1 = sigmoid_grad(a1) * da1\n",
    "        grads['W1'] = np.dot(x.T, dz1)\n",
    "        grads['b1'] = np.sum(dz1, axis=0)\n",
    "\n",
    "        return grads"
   ]
  },
  {
   "cell_type": "markdown",
   "id": "f6296069",
   "metadata": {},
   "source": [
    "상기한 미니배치 학습을 활용해보자."
   ]
  },
  {
   "cell_type": "code",
   "execution_count": 85,
   "id": "223c8d99",
   "metadata": {},
   "outputs": [
    {
     "name": "stdout",
     "output_type": "stream",
     "text": [
      "train acc, test acc | 0.11236666666666667, 0.1135\n",
      "train acc, test acc | 0.7733166666666667, 0.7774\n",
      "train acc, test acc | 0.8764333333333333, 0.8792\n",
      "train acc, test acc | 0.8994333333333333, 0.902\n",
      "train acc, test acc | 0.9076833333333333, 0.9103\n",
      "train acc, test acc | 0.9144666666666666, 0.9181\n",
      "train acc, test acc | 0.9199666666666667, 0.9224\n",
      "train acc, test acc | 0.9240666666666667, 0.9265\n",
      "train acc, test acc | 0.92845, 0.9299\n",
      "train acc, test acc | 0.9313166666666667, 0.9326\n",
      "train acc, test acc | 0.9346333333333333, 0.9364\n",
      "train acc, test acc | 0.9380833333333334, 0.938\n",
      "train acc, test acc | 0.9400666666666667, 0.939\n",
      "train acc, test acc | 0.9422333333333334, 0.9412\n",
      "train acc, test acc | 0.9438166666666666, 0.9438\n",
      "train acc, test acc | 0.9453333333333334, 0.9441\n",
      "train acc, test acc | 0.9470166666666666, 0.9445\n"
     ]
    },
    {
     "data": {
      "image/png": "[encoded data removed]",
      "text/plain": [
       "<Figure size 432x288 with 1 Axes>"
      ]
     },
     "metadata": {
      "needs_background": "light"
     },
     "output_type": "display_data"
    }
   ],
   "source": [
    "from dataset.mnist import load_mnist\n",
    "\n",
    "# 데이터 읽기\n",
    "(x_train, t_train), (x_test, t_test) = load_mnist(normalize=True, one_hot_label=True)\n",
    "\n",
    "network = TwoLayerNet(input_size=784, hidden_size=50, output_size=10)\n",
    "\n",
    "# 하이퍼파라미터\n",
    "iters_num = 10000  # 반복 횟수를 적절히 설정한다.\n",
    "train_size = x_train.shape[0]\n",
    "batch_size = 100   # 미니배치 크기\n",
    "learning_rate = 0.1\n",
    "\n",
    "train_loss_list = []\n",
    "train_acc_list = []\n",
    "test_acc_list = []\n",
    "\n",
    "# 1에폭당 반복 수\n",
    "iter_per_epoch = max(train_size / batch_size, 1)\n",
    "\n",
    "for i in range(iters_num):\n",
    "    # 미니배치 획득\n",
    "    batch_mask = np.random.choice(train_size, batch_size)\n",
    "    x_batch = x_train[batch_mask]\n",
    "    t_batch = t_train[batch_mask]\n",
    "    \n",
    "    # 기울기 계산\n",
    "    #grad = network.numerical_gradient(x_batch, t_batch)\n",
    "    grad = network.gradient(x_batch, t_batch)\n",
    "    \n",
    "    # 매개변수 갱신\n",
    "    for key in ('W1', 'b1', 'W2', 'b2'):\n",
    "        network.params[key] -= learning_rate * grad[key]\n",
    "    \n",
    "    # 학습 경과 기록\n",
    "    loss = network.loss(x_batch, t_batch)\n",
    "    train_loss_list.append(loss)\n",
    "    \n",
    "    # 1에폭당 정확도 계산\n",
    "    if i % iter_per_epoch == 0:\n",
    "        train_acc = network.accuracy(x_train, t_train)\n",
    "        test_acc = network.accuracy(x_test, t_test)\n",
    "        train_acc_list.append(train_acc)\n",
    "        test_acc_list.append(test_acc)\n",
    "        print(\"train acc, test acc | \" + str(train_acc) + \", \" + str(test_acc))\n",
    "\n",
    "# 그래프 그리기\n",
    "markers = {'train': 'o', 'test': 's'}\n",
    "x = np.arange(len(train_acc_list))\n",
    "plt.plot(x, train_acc_list, label='train acc')\n",
    "plt.plot(x, test_acc_list, label='test acc', linestyle='--')\n",
    "plt.xlabel(\"epochs\")\n",
    "plt.ylabel(\"accuracy\")\n",
    "plt.ylim(0, 1.0)\n",
    "plt.legend(loc='lower right')\n",
    "plt.show()"
   ]
  },
  {
   "cell_type": "markdown",
   "id": "535ded07",
   "metadata": {},
   "source": [
    "에폭이 증가할수록 학습 정확도도 증가했으며, 훈련 데이터와 시험 데이터의 정확도가 거의 일치하므로 오버피팅은 일어나지 않았다."
   ]
  },
  {
   "cell_type": "markdown",
   "id": "5e95a199",
   "metadata": {},
   "source": [
    "## Takeaways:\n",
    "\n",
    "- 기계학습에서 사용하는 데이터셋은 훈련 데이터와 시험 데이터로 나눠 사용한다.\n",
    "- 훈련 데이터에서 학습한 모델의 범용 능력을 시험 데이터로 평가한다.\n",
    "- 신경망 학습은 손실 함수를 지표로, 손실 함수의 값이 작아지는 방향으로 가중치 매개변수를 갱신한다.\n",
    "- 가중치 매개변수를 갱신할 때는 가중치 매개변수의 기울기를 이용하고, 기울어진 방향으로 가중치의 값을 갱신하는 작업을 반복한다.\n",
    "- 아주 작은 값을 주었을 때의 차분으로 미분을 구하는 것을 수치 미분이라고 한다.\n",
    "- 수치 미분을 이용해 가중치 매개변수의 기울기를 구할 수 있다.\n",
    "- 수치 미분을 이용한 계산에는 시간이 걸리지만, 그 구현은 간단하다. (다음 장에서 구현하는 다소 복잡한 오차역전파법은 기울기를 고속으로 구할 수 있다.)"
   ]
  },
  {
   "cell_type": "code",
   "execution_count": null,
   "id": "10f20248",
   "metadata": {},
   "outputs": [],
   "source": []
  }
 ],
 "metadata": {
  "kernelspec": {
   "display_name": "Python 3",
   "language": "python",
   "name": "python3"
  },
  "language_info": {
   "codemirror_mode": {
    "name": "ipython",
    "version": 3
   },
   "file_extension": ".py",
   "mimetype": "text/x-python",
   "name": "python",
   "nbconvert_exporter": "python",
   "pygments_lexer": "ipython3",
   "version": "3.8.8"
  }
 },
 "nbformat": 4,
 "nbformat_minor": 5
}
