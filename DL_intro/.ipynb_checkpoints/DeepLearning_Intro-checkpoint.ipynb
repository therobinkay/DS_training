{
 "cells": [
  {
   "cell_type": "code",
   "execution_count": 35,
   "id": "d8383e6d",
   "metadata": {},
   "outputs": [],
   "source": [
    "import numpy as np\n",
    "import matplotlib.pyplot as plt\n",
    "import sys, os\n",
    "import pickle"
   ]
  },
  {
   "cell_type": "markdown",
   "id": "a8fdf5ec",
   "metadata": {},
   "source": [
    "# 2. 퍼셉트론\n",
    "\n",
    "퍼셉트론은 다수의 신호를 입력으로, 하나의 신호를 출력으로 하는 알고리즘이다. 딥러닝의 기반이 되는 알고리즘이기도 하다. 가중치 w를 고려하며, 임계값 theta를 넘을 때 신호가 1을 출력하고 넘지 않을 때는 0을 출력한다.\n"
   ]
  },
  {
   "cell_type": "markdown",
   "id": "1d416110",
   "metadata": {},
   "source": [
    "<div>\n",
    "<img src=\"fig2.1.jpg\" width=\"500\"/>\n",
    "</div>"
   ]
  },
  {
   "cell_type": "markdown",
   "id": "6b1f7699",
   "metadata": {},
   "source": [
    "<div>\n",
    "<img src=\"equ2.1.jpg\" width=\"500\"/>\n",
    "</div>"
   ]
  },
  {
   "cell_type": "markdown",
   "id": "2ceb7fdf",
   "metadata": {},
   "source": [
    "## 2.2 단순 논리 회로 (AND, NAND, OR)\n",
    "\n",
    "논리 회로에는 AND, NAND, OR 게이트가 있다. 단순히 이야기하자면, AND는 y=1을 조건으로 x1과 x2의 교집합, OR는 합집합, NAND는 AND의 반대 게이트 역할을 한다. 게이트마다 가능한 w1, w2, theta 조합은 무한하다.\n",
    "\n",
    "e.g.\n",
    "- AND: x1 = 0, x2 = 1, then y = 0\n",
    "- NAND: x1 = 1, x2 = 1, then y = 0\n",
    "- OR: x1 = 1, x2 = 0, then y = 1"
   ]
  },
  {
   "cell_type": "code",
   "execution_count": 1,
   "id": "e6d552b7",
   "metadata": {},
   "outputs": [
    {
     "name": "stdout",
     "output_type": "stream",
     "text": [
      "0\n",
      "0\n",
      "0\n",
      "1\n"
     ]
    }
   ],
   "source": [
    "# AND gate\n",
    "\n",
    "def AND(x1, x2):\n",
    "    w1, w2, theta = 0.5, 0.5, 0.7\n",
    "    tmp = x1*w1 + x2*w2\n",
    "    if tmp <= theta:\n",
    "        return 0\n",
    "    elif tmp > theta:\n",
    "        return 1\n",
    "    \n",
    "print(AND(0, 0))\n",
    "print(AND(1, 0))\n",
    "print(AND(0, 1))\n",
    "print(AND(1, 1))"
   ]
  },
  {
   "cell_type": "markdown",
   "id": "cd696e12",
   "metadata": {},
   "source": [
    "<div>\n",
    "<img src=\"equ2.2.jpg\" width=\"500\"/>\n",
    "</div>"
   ]
  },
  {
   "cell_type": "markdown",
   "id": "f5235b64",
   "metadata": {},
   "source": [
    "여기서는 임계값 대신 편향 b를 사용했다. 입력 신호에 가중치를 곱한 값과 편향을 합하여 0 이상이면 1을, 그렇지 않다면 0을 출력한다."
   ]
  },
  {
   "cell_type": "code",
   "execution_count": 3,
   "id": "134b89f8",
   "metadata": {},
   "outputs": [
    {
     "name": "stdout",
     "output_type": "stream",
     "text": [
      "[0.  0.5]\n",
      "0.5\n",
      "-0.19999999999999996\n"
     ]
    }
   ],
   "source": [
    "x = np.array([0, 1])\n",
    "w = np.array([0.5, 0.5])\n",
    "b = -0.7\n",
    "\n",
    "print(w*x)\n",
    "print(np.sum(w*x))\n",
    "print(np.sum(w*x)+b)"
   ]
  },
  {
   "cell_type": "markdown",
   "id": "bfb4e14d",
   "metadata": {},
   "source": [
    "**가중치 w는 입력 신호가 결과에 주는 영향력을 조절**하는 매개변수고, **편향 b는 뉴런이 얼마나 쉽게 활성화(1 출력)되는지 조정**하는 매개변수다."
   ]
  },
  {
   "cell_type": "code",
   "execution_count": 11,
   "id": "52120dbb",
   "metadata": {},
   "outputs": [],
   "source": [
    "# AND gate using bias\n",
    "\n",
    "def AND(x1, x2):\n",
    "    x = np.array([x1, x2])\n",
    "    w = np.array([0.5, 0.5])\n",
    "    b = -0.7\n",
    "    tmp = np.sum(w*x) + b\n",
    "    if tmp <= 0:\n",
    "        return 0\n",
    "    else:\n",
    "        return 1"
   ]
  },
  {
   "cell_type": "code",
   "execution_count": 9,
   "id": "0502dd39",
   "metadata": {},
   "outputs": [],
   "source": [
    "# NAND gate using bias\n",
    "\n",
    "def NAND(x1, x2):\n",
    "    x = np.array([x1, x2])\n",
    "    w = np.array([-0.5, -0.5]) # Note that w is reversed\n",
    "    b = 0.7                    # Note that b is reversed\n",
    "    tmp = np.sum(w*x) + b\n",
    "    if tmp <= 0:\n",
    "        return 0\n",
    "    else:\n",
    "        return 1"
   ]
  },
  {
   "cell_type": "code",
   "execution_count": 7,
   "id": "09d6eafa",
   "metadata": {},
   "outputs": [],
   "source": [
    "# OR gate using bias\n",
    "\n",
    "def OR(x1, x2):\n",
    "    x = np.array([x1, x2])\n",
    "    w = np.array([0.5, 0.5]) # Note that w is different\n",
    "    b = -0.2                 # Note that b is different\n",
    "    tmp = np.sum(w*x) + b\n",
    "    if tmp <= 0:\n",
    "        return 0\n",
    "    else:\n",
    "        return 1"
   ]
  },
  {
   "cell_type": "markdown",
   "id": "d25562fb",
   "metadata": {},
   "source": [
    "## 2.4 퍼셉트론의 한계\n",
    "\n",
    "XOR 게이트는 배타적 논리합으로, x1과 x2 중 하나가 1일 때만 1을 출력한다. 하나의 퍼셉트론으로 구분할 수 없는 이유는 그림으로 설명 가능하다."
   ]
  },
  {
   "cell_type": "markdown",
   "id": "655f57c4",
   "metadata": {},
   "source": [
    "<div>\n",
    "<img src=\"fig2.2.jpg\" width=\"500\"/>\n",
    "</div>"
   ]
  },
  {
   "cell_type": "markdown",
   "id": "9320468d",
   "metadata": {},
   "source": [
    "퍼셉트론은 직선 하나로 영역을 나누는데, XOR 게이트는 그림에서 보이듯 곡선으로만 영역을 나눌 수 있다. 따라서 비선형 영역이기에 하나의 퍼셉트론으로는 구현할 수 없다.\n",
    "\n",
    "이와 같은 논리 회로를 구현하려면 층을 쌓아 **다층 퍼셉트론**을 구현한다:\n",
    "\n",
    "1. x1과 x2를 NAND 게이트로 입력시킨다.\n",
    "2. x1과 x2를 OR 게이트로 입력시킨다. (1과 독립적으로)\n",
    "3. NAND 출력값과 OR 출력값을 AND 게이트로 입력시킨다."
   ]
  },
  {
   "cell_type": "markdown",
   "id": "ac0e1ed4",
   "metadata": {},
   "source": [
    "<div>\n",
    "<img src=\"fig2.3.jpg\" width=\"500\"/>\n",
    "</div>"
   ]
  },
  {
   "cell_type": "code",
   "execution_count": 12,
   "id": "1390bdb3",
   "metadata": {},
   "outputs": [
    {
     "name": "stdout",
     "output_type": "stream",
     "text": [
      "0\n",
      "1\n",
      "1\n",
      "0\n"
     ]
    }
   ],
   "source": [
    "# XOR gate\n",
    "\n",
    "def XOR(x1, x2):\n",
    "    s1 = NAND(x1, x2)\n",
    "    s2 = OR(x1, x2)\n",
    "    y = AND(s1, s2)\n",
    "    return y\n",
    "\n",
    "print(XOR(0, 0))\n",
    "print(XOR(1, 0))\n",
    "print(XOR(0, 1))\n",
    "print(XOR(0, 0))"
   ]
  },
  {
   "cell_type": "markdown",
   "id": "980bd6e8",
   "metadata": {},
   "source": [
    "## Takeaways:\n",
    "\n",
    "- 퍼셉트론은 입출력을 갖춘 알고리즘이다. 입력을 주면 정해진 규칙에 따른 값을 출력한다.\n",
    "- 퍼셉트론에서는 *가중치*와 *편향*을 매개변수로 설정한다.\n",
    "- 퍼셉트론으로 AND, NAND, OR 게이트 등의 논리 회로를 표현할 수 있다.\n",
    "- XOR 게이트는 단층 퍼셉트론으로는 표현할 수 없다. 2층 퍼셉트론으로 표현할 수 있다.\n",
    "- 단층 퍼셉트론은 직선형 영역만 표현할 수 있고, 다층 퍼셉트론은 비선형 영역도 표현할 수 있다. (다층 퍼셉트론은 이론상 컴퓨터도 표현 가능하다.)"
   ]
  },
  {
   "cell_type": "markdown",
   "id": "303df735",
   "metadata": {},
   "source": [
    "# 3. 신경망\n",
    "\n",
    "퍼셉트론으로 복잡한 함수도 표현이 가능하나, 단점은 가중치 설정은 여전히 수동으로 해야 한다는 점이다. 신경망의 경우 해당 단점이 개선된다."
   ]
  },
  {
   "cell_type": "markdown",
   "id": "6ae474bf",
   "metadata": {},
   "source": [
    "## 3.1 신경망의 개념"
   ]
  },
  {
   "cell_type": "markdown",
   "id": "fe05ccf3",
   "metadata": {},
   "source": [
    "<div>\n",
    "<img src=\"fig3.1.jpg\" width=\"500\"/>\n",
    "</div>"
   ]
  },
  {
   "cell_type": "markdown",
   "id": "cd8e30c0",
   "metadata": {},
   "source": [
    "신경망의 형태는 퍼셉트론과 다르지 않으나, 신호를 보내는 방식이 다양해진다. 편향을 사용했던 퍼셉트론 공식을 다음과 같이 다른 형태로 바꿔 쓸 수 있다."
   ]
  },
  {
   "cell_type": "markdown",
   "id": "f660c5a5",
   "metadata": {},
   "source": [
    "<div>\n",
    "<img src=\"equ3.1.jpg\" width=\"500\"/>\n",
    "</div>"
   ]
  },
  {
   "cell_type": "markdown",
   "id": "4bc02106",
   "metadata": {},
   "source": [
    "여기서 h(x)를 **활성화 함수**라 칭하며, 해당 함수는 **입력 신호의 총합이 활성화를 일으키는지 판단**한다. 시각화하면 다음과 같이 표현할 수 있다."
   ]
  },
  {
   "cell_type": "markdown",
   "id": "c6ae4e6d",
   "metadata": {},
   "source": [
    "<div>\n",
    "<img src=\"equ3.2.jpg\" width=\"500\"/>\n",
    "</div>"
   ]
  },
  {
   "cell_type": "markdown",
   "id": "a0f1c30b",
   "metadata": {},
   "source": [
    "<div>\n",
    "<img src=\"fig3.2.jpg\" width=\"500\"/>\n",
    "</div>"
   ]
  },
  {
   "cell_type": "markdown",
   "id": "4cf5216d",
   "metadata": {},
   "source": [
    "## 3.2 활성화 함수\n",
    "\n",
    "퍼셉트론에서는 활성화 함수를 **계단 함수**로 사용한다."
   ]
  },
  {
   "cell_type": "code",
   "execution_count": 17,
   "id": "4f993fd0",
   "metadata": {},
   "outputs": [],
   "source": [
    "def step_function(x):\n",
    "    return np.array(x>0, dtype=int)"
   ]
  },
  {
   "cell_type": "code",
   "execution_count": 18,
   "id": "358fee4a",
   "metadata": {},
   "outputs": [
    {
     "data": {
      "image/png": "[encoded data removed]",
      "text/plain": [
       "<Figure size 432x288 with 1 Axes>"
      ]
     },
     "metadata": {
      "needs_background": "light"
     },
     "output_type": "display_data"
    }
   ],
   "source": [
    "# visualize step function\n",
    "\n",
    "x = np.arange(-5.0, 5.0, 0.1)\n",
    "y = step_function(x)\n",
    "plt.plot(x,y)\n",
    "plt.ylim(-0.1, 1.1)\n",
    "plt.show()"
   ]
  },
  {
   "cell_type": "markdown",
   "id": "2ee63c9e",
   "metadata": {},
   "source": [
    "신경망에서는 **시그모이드 함수**를 자주 사용한다."
   ]
  },
  {
   "cell_type": "markdown",
   "id": "f19d42a1",
   "metadata": {},
   "source": [
    "<div>\n",
    "<img src=\"equ3.3.jpg\" width=\"500\"/>\n",
    "</div>"
   ]
  },
  {
   "cell_type": "code",
   "execution_count": 19,
   "id": "4ea85b79",
   "metadata": {},
   "outputs": [],
   "source": [
    "def sigmoid(x):\n",
    "    return 1/(1+np.exp(-x))"
   ]
  },
  {
   "cell_type": "code",
   "execution_count": 20,
   "id": "397b385c",
   "metadata": {},
   "outputs": [
    {
     "data": {
      "image/png": "[encoded data removed]",
      "text/plain": [
       "<Figure size 432x288 with 1 Axes>"
      ]
     },
     "metadata": {
      "needs_background": "light"
     },
     "output_type": "display_data"
    }
   ],
   "source": [
    "# visualize sigmoid function\n",
    "\n",
    "x = np.arange(-5.0, 5.0, 0.1)\n",
    "y = sigmoid(x)\n",
    "plt.plot(x,y)\n",
    "plt.ylim(-0.1, 1.1)\n",
    "plt.show()"
   ]
  },
  {
   "cell_type": "markdown",
   "id": "7328d99f",
   "metadata": {},
   "source": [
    "계단 함수와 시그모이드 함수는 **매끄러움**에서 차이가 있다. 즉, 시그모이드 함수를 사용하는 신경망에서는 계단 함수를 사용하는 퍼셉트론과는 다르게 출력이 연속적으로 변화하며 연속적인 실수가 흐른다.\n",
    "\n",
    "한편 중요한 공통점도 있는데, 두 함수 모두 *비선형 함수*다. **신경망에서는 활성화 함수로 비선형 함수를 사용해야 한다.** 선형 함수를 사용한다면 층을 더한다고 하더라도 은닉층이 없는 네트워크로 표현할 수 있기 때문에, 여러 층으로 구성하는 의미가 없기 때문이다.\n",
    "\n",
    "e.g. h(x) = cx, then 3rd-layer y(x) = h(h(h(x))) = c^3 * x"
   ]
  },
  {
   "cell_type": "markdown",
   "id": "5e6518a3",
   "metadata": {},
   "source": [
    "한편, 최근에는 주로 ReLU 함수가 활성화 함수로 사용된다."
   ]
  },
  {
   "cell_type": "markdown",
   "id": "ecd8f05b",
   "metadata": {},
   "source": [
    "<div>\n",
    "<img src=\"equ3.4.jpg\" width=\"500\"/>\n",
    "</div>"
   ]
  },
  {
   "cell_type": "code",
   "execution_count": 21,
   "id": "c49c1584",
   "metadata": {},
   "outputs": [],
   "source": [
    "def relu(x):\n",
    "    return np.maximum(0, x)"
   ]
  },
  {
   "cell_type": "code",
   "execution_count": 24,
   "id": "8786ee59",
   "metadata": {},
   "outputs": [
    {
     "data": {
      "image/png": "[encoded data removed]",
      "text/plain": [
       "<Figure size 432x288 with 1 Axes>"
      ]
     },
     "metadata": {
      "needs_background": "light"
     },
     "output_type": "display_data"
    }
   ],
   "source": [
    "# visualize ReLU function\n",
    "\n",
    "x = np.arange(-5.0, 5.0, 0.1)\n",
    "y = relu(x)\n",
    "plt.plot(x,y)\n",
    "plt.ylim(-1.1, 6.1)\n",
    "plt.show()"
   ]
  },
  {
   "cell_type": "markdown",
   "id": "822d3e87",
   "metadata": {},
   "source": [
    "3층 신경망의 경우 **A = XW + B**, 즉 다음 그림과 같이 구현한다."
   ]
  },
  {
   "cell_type": "markdown",
   "id": "9adc96eb",
   "metadata": {},
   "source": [
    "<div>\n",
    "<img src=\"fig3.3.jpg\" width=\"500\"/>\n",
    "</div>"
   ]
  },
  {
   "cell_type": "markdown",
   "id": "ce2163f4",
   "metadata": {},
   "source": [
    "첫 두 층 동안은 내적 곱과 이전에 언급했던 활성화 함수(시그모이드)를 사용하며, 출력층에서는 다른 활성화 함수를 사용한다. 출력층에서 사용하는 활성화 함수는 항등 함수이며, **항등 함수는 입력을 그대로 출력하는 함수**다."
   ]
  },
  {
   "cell_type": "code",
   "execution_count": 26,
   "id": "46f7b586",
   "metadata": {},
   "outputs": [],
   "source": [
    "def identity_function(x):\n",
    "    return x"
   ]
  },
  {
   "cell_type": "markdown",
   "id": "a9449698",
   "metadata": {},
   "source": [
    "<div>\n",
    "<img src=\"fig3.4.jpg\" width=\"500\"/>\n",
    "</div>"
   ]
  },
  {
   "cell_type": "code",
   "execution_count": 27,
   "id": "927fc8ee",
   "metadata": {},
   "outputs": [
    {
     "name": "stdout",
     "output_type": "stream",
     "text": [
      "[0.31682708 0.69627909]\n"
     ]
    }
   ],
   "source": [
    "# 3-layer neural net\n",
    "\n",
    "# make weight and bias default and save it in a dictionary\n",
    "def init_network():\n",
    "    network = {}\n",
    "    network['W1'] = np.array([[0.1, 0.3, 0.5], [0.2, 0.4, 0.6]])\n",
    "    network['b1'] = np.array([0.1, 0.2, 0.3])\n",
    "    network['W2'] = np.array([[0.1, 0.4], [0.2, 0.5], [0.3, 0.6]])\n",
    "    network['b2'] = np.array([0.1, 0.2])\n",
    "    network['W3'] = np.array([[0.1, 0.3], [0.2, 0.4]])\n",
    "    network['b3'] = np.array([0.1, 0.2])\n",
    "    \n",
    "    return network\n",
    "\n",
    "# forward neural net\n",
    "def forward(network, x):\n",
    "    W1, W2, W3 = network['W1'], network['W2'], network['W3']\n",
    "    b1, b2, b3 = network['b1'], network['b2'], network['b3']\n",
    "    \n",
    "    a1 = np.dot(x, W1) + b1\n",
    "    z1 = sigmoid(a1)\n",
    "    a2 = np.dot(z1, W2) + b2\n",
    "    z2 = sigmoid(a2)\n",
    "    a3 = np.dot(z2, W3) + b3\n",
    "    y = identity_function(a3)\n",
    "    \n",
    "    return y\n",
    "\n",
    "network = init_network()\n",
    "x = np.array([1.0, 0.5])\n",
    "y = forward(network, x)\n",
    "print(y)"
   ]
  },
  {
   "cell_type": "markdown",
   "id": "0c00be9d",
   "metadata": {},
   "source": [
    "## 3.5 출력층 설계\n",
    "\n",
    "신경망은 분류와 회귀에 모두 사용 가능하며, 분류에 사용되는 출력층 활성화 함수와 회귀에 사용되는 출력층 활성화 함수가 다르다. **회귀에는 항등 함수를, 분류에는 소프트맥스 함수를 사용**한다. 소프트맥스 함수는 다음과 같다. (n은 출력층의 뉴런 수, y_k는 k번째 출력)"
   ]
  },
  {
   "cell_type": "markdown",
   "id": "31852af6",
   "metadata": {},
   "source": [
    "<div>\n",
    "<img src=\"equ3.5.jpg\" width=\"500\"/>\n",
    "</div>"
   ]
  },
  {
   "cell_type": "markdown",
   "id": "b88e2a77",
   "metadata": {},
   "source": [
    "<div>\n",
    "<img src=\"fig3.5.jpg\" width=\"500\"/>\n",
    "</div>"
   ]
  },
  {
   "cell_type": "code",
   "execution_count": 28,
   "id": "139830f0",
   "metadata": {},
   "outputs": [
    {
     "name": "stdout",
     "output_type": "stream",
     "text": [
      "[0.01821127 0.24519181 0.73659691]\n"
     ]
    }
   ],
   "source": [
    "def softmax(a):\n",
    "    exp_a = np.exp(a)\n",
    "    sum_exp_a = np.sum(exp_a)\n",
    "    y = exp_a / sum_exp_a\n",
    "    \n",
    "    return y\n",
    "\n",
    "a = np.array([0.3, 2.9, 4.0])\n",
    "print(softmax(a))"
   ]
  },
  {
   "cell_type": "markdown",
   "id": "5bde9fdb",
   "metadata": {},
   "source": [
    "소프트맥스 함수는 오버플로 문제에 취약하다. 지수 함수의 결과값은 기하급수적으로 커지기 때문에 임의의 정수 C를 분자와 분모에 곱해준다."
   ]
  },
  {
   "cell_type": "markdown",
   "id": "38bc8c14",
   "metadata": {},
   "source": [
    "<div>\n",
    "<img src=\"equ3.6.jpg\" width=\"500\"/>\n",
    "</div>"
   ]
  },
  {
   "cell_type": "markdown",
   "id": "9255d4d4",
   "metadata": {},
   "source": [
    "즉, **소프트맥스의 지수 함수를 계산할 때 정수를 더하는 것은 결과에 영향을 미치지 않는다**. 보편적으로 *C'의 값은 입력 신호의 최댓값으로 설정*한다."
   ]
  },
  {
   "cell_type": "code",
   "execution_count": 30,
   "id": "04c855f1",
   "metadata": {},
   "outputs": [
    {
     "name": "stdout",
     "output_type": "stream",
     "text": [
      "[9.99954600e-01 4.53978686e-05 2.06106005e-09]\n"
     ]
    }
   ],
   "source": [
    "def softmax(a):\n",
    "    c = np.max(a)\n",
    "    exp_a = np.exp(a - c) # fix overflow\n",
    "    sum_exp_a = np.sum(exp_a)\n",
    "    y = exp_a / sum_exp_a\n",
    "    \n",
    "    return y\n",
    "\n",
    "a = np.array([1010, 1000, 990])\n",
    "print(softmax(a))"
   ]
  },
  {
   "cell_type": "markdown",
   "id": "b89c4583",
   "metadata": {},
   "source": [
    "소프트맥스 함수의 출력은 [0, 1]의 범위를 가지며, **출력의 총합은 1**이다. 덕분에 소프트맥스 함수의 출력을 확률로 해석 가능하다."
   ]
  },
  {
   "cell_type": "markdown",
   "id": "49683073",
   "metadata": {},
   "source": [
    "## 3.6 손글씨 숫자 인식 (실전)\n",
    "\n",
    "**분류 문제에서 출력층의 뉴런 수는 분류하려는 클래스 수와 같도록 한다.**\n",
    "\n",
    "학습된 매개변수를 사용하여 추론하는 과정을 신경망의 **순전파**라고 한다."
   ]
  },
  {
   "cell_type": "code",
   "execution_count": 34,
   "id": "f1d9a092",
   "metadata": {},
   "outputs": [
    {
     "name": "stdout",
     "output_type": "stream",
     "text": [
      "(60000, 784)\n",
      "(60000,)\n",
      "(10000, 784)\n",
      "(10000,)\n",
      "5\n",
      "(784,)\n",
      "(28, 28)\n"
     ]
    }
   ],
   "source": [
    "sys.path.append(os.pardir)  # 부모 디렉터리의 파일을 가져올 수 있도록 설정\n",
    "from dataset.mnist import load_mnist\n",
    "from PIL import Image\n",
    "\n",
    "def img_show(img):\n",
    "    pil_img = Image.fromarray(np.uint8(img))\n",
    "    pil_img.show()\n",
    "\n",
    "(x_train, t_train), (x_test, t_test) = load_mnist(flatten=True, normalize=False)\n",
    "\n",
    "# print the shape of each data\n",
    "print(x_train.shape)\n",
    "print(t_train.shape)\n",
    "print(x_test.shape)\n",
    "print(t_test.shape)\n",
    "\n",
    "img = x_train[0]\n",
    "label = t_train[0]\n",
    "print(label)  # 5\n",
    "\n",
    "print(img.shape)  # (784,)\n",
    "img = img.reshape(28, 28)  # 형상을 원래 이미지의 크기로 변형\n",
    "print(img.shape)  # (28, 28)\n",
    "\n",
    "img_show(img)"
   ]
  },
  {
   "cell_type": "markdown",
   "id": "0c1dae8d",
   "metadata": {},
   "source": [
    "구현은 이전과 거의 흡사하다."
   ]
  },
  {
   "cell_type": "code",
   "execution_count": 37,
   "id": "d7fb37dc",
   "metadata": {},
   "outputs": [],
   "source": [
    "from common.functions import sigmoid, softmax\n",
    "\n",
    "def get_data():\n",
    "    (x_train, t_train), (x_test, t_test) = load_mnist(normalize=True, flatten=True, one_hot_label=False)\n",
    "    return x_test, t_test\n",
    "\n",
    "\n",
    "# read weights and bias from sample_weight.pkl\n",
    "def init_network():\n",
    "    with open(\"sample_weight.pkl\", 'rb') as f:\n",
    "        network = pickle.load(f)\n",
    "    return network\n",
    "\n",
    "\n",
    "def predict(network, x):\n",
    "    W1, W2, W3 = network['W1'], network['W2'], network['W3']\n",
    "    b1, b2, b3 = network['b1'], network['b2'], network['b3']\n",
    "\n",
    "    a1 = np.dot(x, W1) + b1\n",
    "    z1 = sigmoid(a1)\n",
    "    a2 = np.dot(z1, W2) + b2\n",
    "    z2 = sigmoid(a2)\n",
    "    a3 = np.dot(z2, W3) + b3\n",
    "    y = softmax(a3)\n",
    "\n",
    "    return y"
   ]
  },
  {
   "cell_type": "markdown",
   "id": "a7c2aa2e",
   "metadata": {},
   "source": [
    "정확도 계산을 위해 확률이 가장 높은 원소의 인덱스를 분류 레이블로 지정 후 대조한다."
   ]
  },
  {
   "cell_type": "code",
   "execution_count": 39,
   "id": "2827489f",
   "metadata": {},
   "outputs": [
    {
     "name": "stdout",
     "output_type": "stream",
     "text": [
      "Accuracy:0.9352\n"
     ]
    }
   ],
   "source": [
    "x, t = get_data()\n",
    "network = init_network()\n",
    "\n",
    "accuracy_cnt = 0\n",
    "\n",
    "for i in range(len(x)):\n",
    "    y = predict(network, x[i])\n",
    "    p= np.argmax(y) # 확률이 가장 높은 원소의 인덱스를 얻는다.\n",
    "    if p == t[i]:\n",
    "        accuracy_cnt += 1\n",
    "\n",
    "print(\"Accuracy:\" + str(float(accuracy_cnt) / len(x)))"
   ]
  },
  {
   "cell_type": "markdown",
   "id": "1ecc2b6c",
   "metadata": {},
   "source": [
    "1차원 배열을 입력하면 다음과 같은 배열 형상을 보인다."
   ]
  },
  {
   "cell_type": "markdown",
   "id": "1338a86f",
   "metadata": {},
   "source": [
    "<div>\n",
    "<img src=\"fig3.6.jpg\" width=\"500\"/>\n",
    "</div>"
   ]
  },
  {
   "cell_type": "markdown",
   "id": "77def4a4",
   "metadata": {},
   "source": [
    "여러 장, 다시 말해 고차원의 배열을 입력할 때 입력 데이터를 한 번에 묶어 처리한다면 출력 데이터도 한 번에 받을 수 있게 된다. 하나로 묶은 입력 데이터를 **배치**라고 한다. 배치 처리는 다음과 같은 형상을 보인다."
   ]
  },
  {
   "cell_type": "markdown",
   "id": "7678d717",
   "metadata": {},
   "source": [
    "<div>\n",
    "<img src=\"fig3.7.jpg\" width=\"500\"/>\n",
    "</div>"
   ]
  },
  {
   "cell_type": "code",
   "execution_count": 40,
   "id": "8d34bf66",
   "metadata": {},
   "outputs": [
    {
     "name": "stdout",
     "output_type": "stream",
     "text": [
      "Accuracy:0.9352\n"
     ]
    }
   ],
   "source": [
    "x, t = get_data()\n",
    "network = init_network()\n",
    "\n",
    "batch_size = 100 # 배치 크기\n",
    "accuracy_cnt = 0\n",
    "\n",
    "for i in range(0, len(x), batch_size):\n",
    "    x_batch = x[i:i+batch_size] # batch 길이만큼 잘라서 입력\n",
    "    y_batch = predict(network, x_batch)\n",
    "    p = np.argmax(y_batch, axis=1)\n",
    "    accuracy_cnt += np.sum(p == t[i:i+batch_size])\n",
    "\n",
    "print(\"Accuracy:\" + str(float(accuracy_cnt) / len(x)))"
   ]
  },
  {
   "cell_type": "markdown",
   "id": "5b6213e9",
   "metadata": {},
   "source": [
    "데이터를 배치로 처리한다면 더 효율적이고 빠르게 처리할 수 있다."
   ]
  },
  {
   "cell_type": "markdown",
   "id": "48421dbc",
   "metadata": {},
   "source": [
    "## Takeaways:\n",
    "\n",
    "- 신경망에서는 활성화 함수로 시그모이드 함수와 ReLU 함수 같은 매끄럽게 변화하는 함수를 이용한다.\n",
    "- 넘파이의 다차원 배열을 잘 사용하면 신경망을 효율적으로 구현할 수 있다.\n",
    "- 기계학습 문제는 크게 회귀와 분류로 나눌 수 있다.\n",
    "- 출력층의 활성화 함수로는 회귀에서는 주로 항등 함수를, 분류에서는 주로 소프트맥스 함수를 이용한다.\n",
    "- 분류에서는 출력층의 뉴런 수로 분류하려는 클래스 수와 같게 설정한다.\n",
    "- 입력 데이터를 묶은 것을 배치라 하며, 추론 처리를 이 배치 단위로 진행하면 결과를 훨씬 빠르게 얻을 수 있다."
   ]
  },
  {
   "cell_type": "markdown",
   "id": "42bc92ea",
   "metadata": {},
   "source": [
    "# 4. 신경망 학습"
   ]
  },
  {
   "cell_type": "code",
   "execution_count": null,
   "id": "b427e0f6",
   "metadata": {},
   "outputs": [],
   "source": []
  }
 ],
 "metadata": {
  "kernelspec": {
   "display_name": "Python 3",
   "language": "python",
   "name": "python3"
  },
  "language_info": {
   "codemirror_mode": {
    "name": "ipython",
    "version": 3
   },
   "file_extension": ".py",
   "mimetype": "text/x-python",
   "name": "python",
   "nbconvert_exporter": "python",
   "pygments_lexer": "ipython3",
   "version": "3.8.8"
  }
 },
 "nbformat": 4,
 "nbformat_minor": 5
}
