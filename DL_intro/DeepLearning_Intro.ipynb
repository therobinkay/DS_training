{
 "cells": [
  {
   "cell_type": "code",
   "execution_count": 41,
   "id": "bea96e73",
   "metadata": {},
   "outputs": [],
   "source": [
    "import numpy as np\n",
    "import matplotlib.pyplot as plt\n",
    "import sys, os\n",
    "import warnings\n",
    "warnings.filterwarnings(\"ignore\")\n",
    "import pickle\n",
    "from collections import OrderedDict\n",
    "sys.path.append(os.pardir) "
   ]
  },
  {
   "cell_type": "markdown",
   "id": "a8fdf5ec",
   "metadata": {},
   "source": [
    "# 2. 퍼셉트론\n",
    "\n",
    "퍼셉트론은 다수의 신호를 입력으로, 하나의 신호를 출력으로 하는 알고리즘이다. 딥러닝의 기반이 되는 알고리즘이기도 하다. 가중치 $w$를 고려하며, 임계값 $\\theta$를 넘을 때 신호가 1을 출력하고 넘지 않을 때는 0을 출력한다.\n"
   ]
  },
  {
   "cell_type": "markdown",
   "id": "4bd754af",
   "metadata": {},
   "source": [
    "<div>\n",
    "<img src=\"fig2.1.jpg\" width=\"500\"/>\n",
    "</div>"
   ]
  },
  {
   "cell_type": "markdown",
   "id": "d287a59e",
   "metadata": {},
   "source": [
    "<div>\n",
    "<img src=\"equ2.1.jpg\" width=\"500\"/>\n",
    "</div>"
   ]
  },
  {
   "cell_type": "markdown",
   "id": "bc7060c6",
   "metadata": {},
   "source": [
    "## 2.2 단순 논리 회로 (AND, NAND, OR)\n",
    "\n",
    "논리 회로에는 AND, NAND, OR 게이트가 있다. 단순히 이야기하자면, AND는 $y=1$을 조건으로 $x_1$과 $x_2$의 교집합, OR는 합집합, NAND는 AND의 반대 게이트 역할을 한다. 게이트마다 가능한 $w_1$, $w_2$, $\\theta$ 조합은 무한하다.\n",
    "\n",
    "e.g.\n",
    "- AND: $x_1 = 0$, $x_2 = 1$, then $y = 0$\n",
    "- NAND: $x_1 = 1$, $x_2 = 1$, then $y = 0$\n",
    "- OR: $x_1 = 1$, $x_2 = 0$, then $y = 1$"
   ]
  },
  {
   "cell_type": "code",
   "execution_count": 1,
   "id": "12ef6593",
   "metadata": {},
   "outputs": [
    {
     "name": "stdout",
     "output_type": "stream",
     "text": [
      "0\n",
      "0\n",
      "0\n",
      "1\n"
     ]
    }
   ],
   "source": [
    "# AND gate\n",
    "\n",
    "def AND(x1, x2):\n",
    "    w1, w2, theta = 0.5, 0.5, 0.7\n",
    "    tmp = x1*w1 + x2*w2\n",
    "    if tmp <= theta:\n",
    "        return 0\n",
    "    elif tmp > theta:\n",
    "        return 1\n",
    "    \n",
    "print(AND(0, 0))\n",
    "print(AND(1, 0))\n",
    "print(AND(0, 1))\n",
    "print(AND(1, 1))"
   ]
  },
  {
   "cell_type": "markdown",
   "id": "76c5a2f7",
   "metadata": {},
   "source": [
    "<div>\n",
    "<img src=\"equ2.2.jpg\" width=\"500\"/>\n",
    "</div>"
   ]
  },
  {
   "cell_type": "markdown",
   "id": "d4658a86",
   "metadata": {},
   "source": [
    "여기서는 임계값 대신 편향 $b$를 사용했다. 입력 신호에 가중치를 곱한 값과 편향을 합하여 0 이상이면 1을, 그렇지 않다면 0을 출력한다."
   ]
  },
  {
   "cell_type": "code",
   "execution_count": 3,
   "id": "f7e0a704",
   "metadata": {},
   "outputs": [
    {
     "name": "stdout",
     "output_type": "stream",
     "text": [
      "[0.  0.5]\n",
      "0.5\n",
      "-0.19999999999999996\n"
     ]
    }
   ],
   "source": [
    "x = np.array([0, 1])\n",
    "w = np.array([0.5, 0.5])\n",
    "b = -0.7\n",
    "\n",
    "print(w*x)\n",
    "print(np.sum(w*x))\n",
    "print(np.sum(w*x)+b)"
   ]
  },
  {
   "cell_type": "markdown",
   "id": "d7c1bd4e",
   "metadata": {},
   "source": [
    "**가중치 $w$는 입력 신호가 결과에 주는 영향력을 조절**하는 매개변수고, **편향 $b$는 뉴런이 얼마나 쉽게 활성화(1 출력)되는지 조정**하는 매개변수다."
   ]
  },
  {
   "cell_type": "code",
   "execution_count": 11,
   "id": "4eaff420",
   "metadata": {},
   "outputs": [],
   "source": [
    "# AND gate using bias\n",
    "\n",
    "def AND(x1, x2):\n",
    "    x = np.array([x1, x2])\n",
    "    w = np.array([0.5, 0.5])\n",
    "    b = -0.7\n",
    "    tmp = np.sum(w*x) + b\n",
    "    if tmp <= 0:\n",
    "        return 0\n",
    "    else:\n",
    "        return 1"
   ]
  },
  {
   "cell_type": "code",
   "execution_count": 9,
   "id": "eb6e123d",
   "metadata": {},
   "outputs": [],
   "source": [
    "# NAND gate using bias\n",
    "\n",
    "def NAND(x1, x2):\n",
    "    x = np.array([x1, x2])\n",
    "    w = np.array([-0.5, -0.5]) # Note that w is reversed\n",
    "    b = 0.7                    # Note that b is reversed\n",
    "    tmp = np.sum(w*x) + b\n",
    "    if tmp <= 0:\n",
    "        return 0\n",
    "    else:\n",
    "        return 1"
   ]
  },
  {
   "cell_type": "code",
   "execution_count": 7,
   "id": "a301f0ea",
   "metadata": {},
   "outputs": [],
   "source": [
    "# OR gate using bias\n",
    "\n",
    "def OR(x1, x2):\n",
    "    x = np.array([x1, x2])\n",
    "    w = np.array([0.5, 0.5]) # Note that w is different\n",
    "    b = -0.2                 # Note that b is different\n",
    "    tmp = np.sum(w*x) + b\n",
    "    if tmp <= 0:\n",
    "        return 0\n",
    "    else:\n",
    "        return 1"
   ]
  },
  {
   "cell_type": "markdown",
   "id": "52c5fc17",
   "metadata": {},
   "source": [
    "## 2.4 퍼셉트론의 한계\n",
    "\n",
    "XOR 게이트는 배타적 논리합으로, $x_1$과 $x_2$ 중 하나가 1일 때만 1을 출력한다. 하나의 퍼셉트론으로 구분할 수 없는 이유는 그림으로 설명 가능하다."
   ]
  },
  {
   "cell_type": "markdown",
   "id": "c1d7a3a2",
   "metadata": {},
   "source": [
    "<div>\n",
    "<img src=\"fig2.2.jpg\" width=\"500\"/>\n",
    "</div>"
   ]
  },
  {
   "cell_type": "markdown",
   "id": "4b4d3651",
   "metadata": {},
   "source": [
    "퍼셉트론은 직선 하나로 영역을 나누는데, XOR 게이트는 그림에서 보이듯 곡선으로만 영역을 나눌 수 있다. 따라서 비선형 영역이기에 하나의 퍼셉트론으로는 구현할 수 없다.\n",
    "\n",
    "이와 같은 논리 회로를 구현하려면 층을 쌓아 **다층 퍼셉트론**을 구현한다:\n",
    "\n",
    "1. $x_1$과 $x_2$를 NAND 게이트로 입력시킨다.\n",
    "2. $x_1$과 $x_2$를 OR 게이트로 입력시킨다. (1과 독립적으로)\n",
    "3. NAND 출력값과 OR 출력값을 AND 게이트로 입력시킨다."
   ]
  },
  {
   "cell_type": "markdown",
   "id": "7a2baea9",
   "metadata": {},
   "source": [
    "<div>\n",
    "<img src=\"fig2.3.jpg\" width=\"500\"/>\n",
    "</div>"
   ]
  },
  {
   "cell_type": "code",
   "execution_count": 12,
   "id": "ed33be08",
   "metadata": {},
   "outputs": [
    {
     "name": "stdout",
     "output_type": "stream",
     "text": [
      "0\n",
      "1\n",
      "1\n",
      "0\n"
     ]
    }
   ],
   "source": [
    "# XOR gate\n",
    "\n",
    "def XOR(x1, x2):\n",
    "    s1 = NAND(x1, x2)\n",
    "    s2 = OR(x1, x2)\n",
    "    y = AND(s1, s2)\n",
    "    return y\n",
    "\n",
    "print(XOR(0, 0))\n",
    "print(XOR(1, 0))\n",
    "print(XOR(0, 1))\n",
    "print(XOR(0, 0))"
   ]
  },
  {
   "cell_type": "markdown",
   "id": "0bfef60c",
   "metadata": {},
   "source": [
    "## Takeaways:\n",
    "\n",
    "- 퍼셉트론은 입출력을 갖춘 알고리즘이다. 입력을 주면 정해진 규칙에 따른 값을 출력한다.\n",
    "- 퍼셉트론에서는 *가중치*와 *편향*을 매개변수로 설정한다.\n",
    "- 퍼셉트론으로 AND, NAND, OR 게이트 등의 논리 회로를 표현할 수 있다.\n",
    "- XOR 게이트는 단층 퍼셉트론으로는 표현할 수 없다. 2층 퍼셉트론으로 표현할 수 있다.\n",
    "- 단층 퍼셉트론은 직선형 영역만 표현할 수 있고, 다층 퍼셉트론은 비선형 영역도 표현할 수 있다. (다층 퍼셉트론은 이론상 컴퓨터도 표현 가능하다.)"
   ]
  },
  {
   "cell_type": "markdown",
   "id": "abff1595",
   "metadata": {},
   "source": [
    "# 3. 신경망\n",
    "\n",
    "퍼셉트론으로 복잡한 함수도 표현이 가능하나, 단점은 가중치 설정은 여전히 수동으로 해야 한다는 점이다. 신경망의 경우 해당 단점이 개선된다."
   ]
  },
  {
   "cell_type": "markdown",
   "id": "c34ec753",
   "metadata": {},
   "source": [
    "## 3.1 신경망의 개념"
   ]
  },
  {
   "cell_type": "markdown",
   "id": "a7619eb9",
   "metadata": {},
   "source": [
    "<div>\n",
    "<img src=\"fig3.1.jpg\" width=\"500\"/>\n",
    "</div>"
   ]
  },
  {
   "cell_type": "markdown",
   "id": "e06062e7",
   "metadata": {},
   "source": [
    "신경망의 형태는 퍼셉트론과 다르지 않으나, 신호를 보내는 방식이 다양해진다. 편향을 사용했던 퍼셉트론 공식을 다음과 같이 다른 형태로 바꿔 쓸 수 있다."
   ]
  },
  {
   "cell_type": "markdown",
   "id": "87561617",
   "metadata": {},
   "source": [
    "<div>\n",
    "<img src=\"equ3.1.jpg\" width=\"500\"/>\n",
    "</div>"
   ]
  },
  {
   "cell_type": "markdown",
   "id": "1d506474",
   "metadata": {},
   "source": [
    "여기서 h(x)를 **활성화 함수**라 칭하며, 해당 함수는 **입력 신호의 총합이 활성화를 일으키는지 판단**한다. 시각화하면 다음과 같이 표현할 수 있다."
   ]
  },
  {
   "cell_type": "markdown",
   "id": "4515eb80",
   "metadata": {},
   "source": [
    "<div>\n",
    "<img src=\"equ3.2.jpg\" width=\"500\"/>\n",
    "</div>"
   ]
  },
  {
   "cell_type": "markdown",
   "id": "e9548252",
   "metadata": {},
   "source": [
    "<div>\n",
    "<img src=\"fig3.2.jpg\" width=\"500\"/>\n",
    "</div>"
   ]
  },
  {
   "cell_type": "markdown",
   "id": "96dd2c75",
   "metadata": {},
   "source": [
    "## 3.2 활성화 함수\n",
    "\n",
    "퍼셉트론에서는 활성화 함수를 **계단 함수**로 사용한다."
   ]
  },
  {
   "cell_type": "code",
   "execution_count": 17,
   "id": "9126c1c6",
   "metadata": {},
   "outputs": [],
   "source": [
    "def step_function(x):\n",
    "    return np.array(x>0, dtype=int)"
   ]
  },
  {
   "cell_type": "code",
   "execution_count": 18,
   "id": "845eb180",
   "metadata": {},
   "outputs": [
    {
     "data": {
      "image/png": "[encoded data removed]",
      "text/plain": [
       "<Figure size 432x288 with 1 Axes>"
      ]
     },
     "metadata": {
      "needs_background": "light"
     },
     "output_type": "display_data"
    }
   ],
   "source": [
    "# visualize step function\n",
    "\n",
    "x = np.arange(-5.0, 5.0, 0.1)\n",
    "y = step_function(x)\n",
    "plt.plot(x,y)\n",
    "plt.ylim(-0.1, 1.1)\n",
    "plt.show()"
   ]
  },
  {
   "cell_type": "markdown",
   "id": "64085702",
   "metadata": {},
   "source": [
    "신경망에서는 **시그모이드 함수**를 자주 사용한다."
   ]
  },
  {
   "cell_type": "markdown",
   "id": "6e407ada",
   "metadata": {},
   "source": [
    "<div>\n",
    "<img src=\"equ3.3.jpg\" width=\"500\"/>\n",
    "</div>"
   ]
  },
  {
   "cell_type": "code",
   "execution_count": 19,
   "id": "244cd89f",
   "metadata": {},
   "outputs": [],
   "source": [
    "def sigmoid(x):\n",
    "    return 1/(1+np.exp(-x))"
   ]
  },
  {
   "cell_type": "code",
   "execution_count": 20,
   "id": "722740b3",
   "metadata": {},
   "outputs": [
    {
     "data": {
      "image/png": "[encoded data removed]",
      "text/plain": [
       "<Figure size 432x288 with 1 Axes>"
      ]
     },
     "metadata": {
      "needs_background": "light"
     },
     "output_type": "display_data"
    }
   ],
   "source": [
    "# visualize sigmoid function\n",
    "\n",
    "x = np.arange(-5.0, 5.0, 0.1)\n",
    "y = sigmoid(x)\n",
    "plt.plot(x,y)\n",
    "plt.ylim(-0.1, 1.1)\n",
    "plt.show()"
   ]
  },
  {
   "cell_type": "markdown",
   "id": "a18f4fb9",
   "metadata": {},
   "source": [
    "계단 함수와 시그모이드 함수는 **매끄러움**에서 차이가 있다. 즉, 시그모이드 함수를 사용하는 신경망에서는 계단 함수를 사용하는 퍼셉트론과는 다르게 출력이 연속적으로 변화하며 연속적인 실수가 흐른다.\n",
    "\n",
    "한편 중요한 공통점도 있는데, 두 함수 모두 *비선형 함수*다. **신경망에서는 활성화 함수로 비선형 함수를 사용해야 한다.** 선형 함수를 사용한다면 층을 더한다고 하더라도 은닉층이 없는 네트워크로 표현할 수 있기 때문에, 여러 층으로 구성하는 의미가 없기 때문이다.\n",
    "\n",
    "e.g. $h(x) = cx$, then 3rd-layer $y(x) = h(h(h(x))) = c^3 * x$"
   ]
  },
  {
   "cell_type": "markdown",
   "id": "1f576916",
   "metadata": {},
   "source": [
    "한편, 최근에는 주로 ReLU 함수가 활성화 함수로 사용된다."
   ]
  },
  {
   "cell_type": "markdown",
   "id": "220d7351",
   "metadata": {},
   "source": [
    "<div>\n",
    "<img src=\"equ3.4.jpg\" width=\"500\"/>\n",
    "</div>"
   ]
  },
  {
   "cell_type": "code",
   "execution_count": 21,
   "id": "5922967e",
   "metadata": {},
   "outputs": [],
   "source": [
    "def relu(x):\n",
    "    return np.maximum(0, x)"
   ]
  },
  {
   "cell_type": "code",
   "execution_count": 24,
   "id": "2ef8bc19",
   "metadata": {},
   "outputs": [
    {
     "data": {
      "image/png": "[encoded data removed]",
      "text/plain": [
       "<Figure size 432x288 with 1 Axes>"
      ]
     },
     "metadata": {
      "needs_background": "light"
     },
     "output_type": "display_data"
    }
   ],
   "source": [
    "# visualize ReLU function\n",
    "\n",
    "x = np.arange(-5.0, 5.0, 0.1)\n",
    "y = relu(x)\n",
    "plt.plot(x,y)\n",
    "plt.ylim(-1.1, 6.1)\n",
    "plt.show()"
   ]
  },
  {
   "cell_type": "markdown",
   "id": "ee775844",
   "metadata": {},
   "source": [
    "3층 신경망의 경우 **$A = XW + B$**, 즉 다음 그림과 같이 구현한다."
   ]
  },
  {
   "cell_type": "markdown",
   "id": "ee000e2c",
   "metadata": {},
   "source": [
    "<div>\n",
    "<img src=\"fig3.3.jpg\" width=\"500\"/>\n",
    "</div>"
   ]
  },
  {
   "cell_type": "markdown",
   "id": "f730606e",
   "metadata": {},
   "source": [
    "첫 두 층 동안은 내적 곱과 이전에 언급했던 활성화 함수(시그모이드)를 사용하며, 출력층에서는 다른 활성화 함수를 사용한다. 출력층에서 사용하는 활성화 함수는 항등 함수이며, **항등 함수는 입력을 그대로 출력하는 함수**다."
   ]
  },
  {
   "cell_type": "code",
   "execution_count": 26,
   "id": "eb81fe08",
   "metadata": {},
   "outputs": [],
   "source": [
    "def identity_function(x):\n",
    "    return x"
   ]
  },
  {
   "cell_type": "markdown",
   "id": "a8230493",
   "metadata": {},
   "source": [
    "<div>\n",
    "<img src=\"fig3.4.jpg\" width=\"500\"/>\n",
    "</div>"
   ]
  },
  {
   "cell_type": "code",
   "execution_count": 27,
   "id": "8d743aab",
   "metadata": {},
   "outputs": [
    {
     "name": "stdout",
     "output_type": "stream",
     "text": [
      "[0.31682708 0.69627909]\n"
     ]
    }
   ],
   "source": [
    "# 3-layer neural net\n",
    "\n",
    "# make weight and bias default and save it in a dictionary\n",
    "def init_network():\n",
    "    network = {}\n",
    "    network['W1'] = np.array([[0.1, 0.3, 0.5], [0.2, 0.4, 0.6]])\n",
    "    network['b1'] = np.array([0.1, 0.2, 0.3])\n",
    "    network['W2'] = np.array([[0.1, 0.4], [0.2, 0.5], [0.3, 0.6]])\n",
    "    network['b2'] = np.array([0.1, 0.2])\n",
    "    network['W3'] = np.array([[0.1, 0.3], [0.2, 0.4]])\n",
    "    network['b3'] = np.array([0.1, 0.2])\n",
    "    \n",
    "    return network\n",
    "\n",
    "# forward neural net\n",
    "def forward(network, x):\n",
    "    W1, W2, W3 = network['W1'], network['W2'], network['W3']\n",
    "    b1, b2, b3 = network['b1'], network['b2'], network['b3']\n",
    "    \n",
    "    a1 = np.dot(x, W1) + b1\n",
    "    z1 = sigmoid(a1)\n",
    "    a2 = np.dot(z1, W2) + b2\n",
    "    z2 = sigmoid(a2)\n",
    "    a3 = np.dot(z2, W3) + b3\n",
    "    y = identity_function(a3)\n",
    "    \n",
    "    return y\n",
    "\n",
    "network = init_network()\n",
    "x = np.array([1.0, 0.5])\n",
    "y = forward(network, x)\n",
    "print(y)"
   ]
  },
  {
   "cell_type": "markdown",
   "id": "e21fb3d4",
   "metadata": {},
   "source": [
    "## 3.5 출력층 설계\n",
    "\n",
    "신경망은 분류와 회귀에 모두 사용 가능하며, 분류에 사용되는 출력층 활성화 함수와 회귀에 사용되는 출력층 활성화 함수가 다르다. **회귀에는 항등 함수를, 분류에는 소프트맥스 함수를 사용**한다. 소프트맥스 함수는 다음과 같다. ($n$은 출력층의 뉴런 수, $y_k$는 $k$번째 출력)"
   ]
  },
  {
   "cell_type": "markdown",
   "id": "ae7f369b",
   "metadata": {},
   "source": [
    "<div>\n",
    "<img src=\"equ3.5.jpg\" width=\"500\"/>\n",
    "</div>"
   ]
  },
  {
   "cell_type": "markdown",
   "id": "f72f255c",
   "metadata": {},
   "source": [
    "<div>\n",
    "<img src=\"fig3.5.jpg\" width=\"500\"/>\n",
    "</div>"
   ]
  },
  {
   "cell_type": "code",
   "execution_count": 18,
   "id": "6d587b99",
   "metadata": {},
   "outputs": [
    {
     "name": "stdout",
     "output_type": "stream",
     "text": [
      "[0.01821127 0.24519181 0.73659691]\n"
     ]
    }
   ],
   "source": [
    "def softmax(a):\n",
    "    exp_a = np.exp(a)\n",
    "    sum_exp_a = np.sum(exp_a)\n",
    "    y = exp_a / sum_exp_a\n",
    "    \n",
    "    return y\n",
    "\n",
    "a = np.array([0.3, 2.9, 4.0])\n",
    "print(softmax(a))"
   ]
  },
  {
   "cell_type": "markdown",
   "id": "2f7d0404",
   "metadata": {},
   "source": [
    "소프트맥스 함수는 오버플로 문제에 취약하다. 지수 함수의 결과값은 기하급수적으로 커지기 때문에 임의의 정수 $C$를 분자와 분모에 곱해준다."
   ]
  },
  {
   "cell_type": "markdown",
   "id": "9151277f",
   "metadata": {},
   "source": [
    "<div>\n",
    "<img src=\"equ3.6.jpg\" width=\"500\"/>\n",
    "</div>"
   ]
  },
  {
   "cell_type": "markdown",
   "id": "1b8f6246",
   "metadata": {},
   "source": [
    "즉, **소프트맥스의 지수 함수를 계산할 때 정수를 더하는 것은 결과에 영향을 미치지 않는다**. 보편적으로 *$C'$의 값은 입력 신호의 최댓값으로 설정*한다."
   ]
  },
  {
   "cell_type": "code",
   "execution_count": 30,
   "id": "807256f3",
   "metadata": {},
   "outputs": [
    {
     "name": "stdout",
     "output_type": "stream",
     "text": [
      "[9.99954600e-01 4.53978686e-05 2.06106005e-09]\n"
     ]
    }
   ],
   "source": [
    "def softmax(a):\n",
    "    c = np.max(a)\n",
    "    exp_a = np.exp(a - c) # fix overflow\n",
    "    sum_exp_a = np.sum(exp_a)\n",
    "    y = exp_a / sum_exp_a\n",
    "    \n",
    "    return y\n",
    "\n",
    "a = np.array([1010, 1000, 990])\n",
    "print(softmax(a))"
   ]
  },
  {
   "cell_type": "markdown",
   "id": "92d1e732",
   "metadata": {},
   "source": [
    "소프트맥스 함수의 출력은 $[0, 1]$의 범위를 가지며, **출력의 총합은 1**이다. 덕분에 소프트맥스 함수의 출력을 확률로 해석 가능하다."
   ]
  },
  {
   "cell_type": "markdown",
   "id": "0cd8be9e",
   "metadata": {},
   "source": [
    "## 3.6 손글씨 숫자 인식 (실전)\n",
    "\n",
    "**분류 문제에서 출력층의 뉴런 수는 분류하려는 클래스 수와 같도록 한다.**\n",
    "\n",
    "학습된 매개변수를 사용하여 추론하는 과정을 신경망의 **순전파**라고 한다."
   ]
  },
  {
   "cell_type": "code",
   "execution_count": 34,
   "id": "6a5bca10",
   "metadata": {},
   "outputs": [
    {
     "name": "stdout",
     "output_type": "stream",
     "text": [
      "(60000, 784)\n",
      "(60000,)\n",
      "(10000, 784)\n",
      "(10000,)\n",
      "5\n",
      "(784,)\n",
      "(28, 28)\n"
     ]
    }
   ],
   "source": [
    "sys.path.append(os.pardir)  # 부모 디렉터리의 파일을 가져올 수 있도록 설정\n",
    "from dataset.mnist import load_mnist\n",
    "from PIL import Image\n",
    "\n",
    "def img_show(img):\n",
    "    pil_img = Image.fromarray(np.uint8(img))\n",
    "    pil_img.show()\n",
    "\n",
    "(x_train, t_train), (x_test, t_test) = load_mnist(flatten=True, normalize=False)\n",
    "\n",
    "# print the shape of each data\n",
    "print(x_train.shape)\n",
    "print(t_train.shape)\n",
    "print(x_test.shape)\n",
    "print(t_test.shape)\n",
    "\n",
    "img = x_train[0]\n",
    "label = t_train[0]\n",
    "print(label)  # 5\n",
    "\n",
    "print(img.shape)  # (784,)\n",
    "img = img.reshape(28, 28)  # 형상을 원래 이미지의 크기로 변형\n",
    "print(img.shape)  # (28, 28)\n",
    "\n",
    "img_show(img)"
   ]
  },
  {
   "cell_type": "markdown",
   "id": "b375ddba",
   "metadata": {},
   "source": [
    "구현은 이전과 거의 흡사하다."
   ]
  },
  {
   "cell_type": "code",
   "execution_count": 37,
   "id": "02d9c8c0",
   "metadata": {},
   "outputs": [],
   "source": [
    "from common.functions import sigmoid, softmax\n",
    "\n",
    "def get_data():\n",
    "    (x_train, t_train), (x_test, t_test) = load_mnist(normalize=True, flatten=True, one_hot_label=False)\n",
    "    return x_test, t_test\n",
    "\n",
    "\n",
    "# read weights and bias from sample_weight.pkl\n",
    "def init_network():\n",
    "    with open(\"sample_weight.pkl\", 'rb') as f:\n",
    "        network = pickle.load(f)\n",
    "    return network\n",
    "\n",
    "\n",
    "def predict(network, x):\n",
    "    W1, W2, W3 = network['W1'], network['W2'], network['W3']\n",
    "    b1, b2, b3 = network['b1'], network['b2'], network['b3']\n",
    "\n",
    "    a1 = np.dot(x, W1) + b1\n",
    "    z1 = sigmoid(a1)\n",
    "    a2 = np.dot(z1, W2) + b2\n",
    "    z2 = sigmoid(a2)\n",
    "    a3 = np.dot(z2, W3) + b3\n",
    "    y = softmax(a3)\n",
    "\n",
    "    return y"
   ]
  },
  {
   "cell_type": "markdown",
   "id": "43f2c2e4",
   "metadata": {},
   "source": [
    "정확도 계산을 위해 확률이 가장 높은 원소의 인덱스를 분류 레이블로 지정 후 대조한다."
   ]
  },
  {
   "cell_type": "code",
   "execution_count": 39,
   "id": "f1a53fe3",
   "metadata": {},
   "outputs": [
    {
     "name": "stdout",
     "output_type": "stream",
     "text": [
      "Accuracy:0.9352\n"
     ]
    }
   ],
   "source": [
    "x, t = get_data()\n",
    "network = init_network()\n",
    "\n",
    "accuracy_cnt = 0\n",
    "\n",
    "for i in range(len(x)):\n",
    "    y = predict(network, x[i])\n",
    "    p= np.argmax(y) # 확률이 가장 높은 원소의 인덱스를 얻는다.\n",
    "    if p == t[i]:\n",
    "        accuracy_cnt += 1\n",
    "\n",
    "print(\"Accuracy:\" + str(float(accuracy_cnt) / len(x)))"
   ]
  },
  {
   "cell_type": "markdown",
   "id": "5144b2f9",
   "metadata": {},
   "source": [
    "1차원 배열을 입력하면 다음과 같은 배열 형상을 보인다."
   ]
  },
  {
   "cell_type": "markdown",
   "id": "7e255aab",
   "metadata": {},
   "source": [
    "<div>\n",
    "<img src=\"fig3.6.jpg\" width=\"500\"/>\n",
    "</div>"
   ]
  },
  {
   "cell_type": "markdown",
   "id": "2a30ccb0",
   "metadata": {},
   "source": [
    "여러 장, 다시 말해 고차원의 배열을 입력할 때 입력 데이터를 한 번에 묶어 처리한다면 출력 데이터도 한 번에 받을 수 있게 된다. 하나로 묶은 입력 데이터를 **배치**라고 한다. 배치 처리는 다음과 같은 형상을 보인다."
   ]
  },
  {
   "cell_type": "markdown",
   "id": "7bcd1c09",
   "metadata": {},
   "source": [
    "<div>\n",
    "<img src=\"fig3.7.jpg\" width=\"500\"/>\n",
    "</div>"
   ]
  },
  {
   "cell_type": "code",
   "execution_count": 40,
   "id": "a49eacb7",
   "metadata": {},
   "outputs": [
    {
     "name": "stdout",
     "output_type": "stream",
     "text": [
      "Accuracy:0.9352\n"
     ]
    }
   ],
   "source": [
    "x, t = get_data()\n",
    "network = init_network()\n",
    "\n",
    "batch_size = 100 # 배치 크기\n",
    "accuracy_cnt = 0\n",
    "\n",
    "for i in range(0, len(x), batch_size):\n",
    "    x_batch = x[i:i+batch_size] # batch 길이만큼 잘라서 입력\n",
    "    y_batch = predict(network, x_batch)\n",
    "    p = np.argmax(y_batch, axis=1)\n",
    "    accuracy_cnt += np.sum(p == t[i:i+batch_size])\n",
    "\n",
    "print(\"Accuracy:\" + str(float(accuracy_cnt) / len(x)))"
   ]
  },
  {
   "cell_type": "markdown",
   "id": "28d9f8de",
   "metadata": {},
   "source": [
    "데이터를 배치로 처리한다면 더 효율적이고 빠르게 처리할 수 있다."
   ]
  },
  {
   "cell_type": "markdown",
   "id": "15a4c37e",
   "metadata": {},
   "source": [
    "## Takeaways:\n",
    "\n",
    "- 신경망에서는 활성화 함수로 시그모이드 함수와 ReLU 함수 같은 매끄럽게 변화하는 함수를 이용한다.\n",
    "- 넘파이의 다차원 배열을 잘 사용하면 신경망을 효율적으로 구현할 수 있다.\n",
    "- 기계학습 문제는 크게 회귀와 분류로 나눌 수 있다.\n",
    "- 출력층의 활성화 함수로는 회귀에서는 주로 항등 함수를, 분류에서는 주로 소프트맥스 함수를 이용한다.\n",
    "- 분류에서는 출력층의 뉴런 수로 분류하려는 클래스 수와 같게 설정한다.\n",
    "- 입력 데이터를 묶은 것을 배치라 하며, 추론 처리를 이 배치 단위로 진행하면 결과를 훨씬 빠르게 얻을 수 있다."
   ]
  },
  {
   "cell_type": "markdown",
   "id": "82d3d2de",
   "metadata": {},
   "source": [
    "# 4. 신경망 학습\n",
    "\n",
    "신경망 **학습**이란 훈련 데이터로부터 매개변수 $w$, $b$의 최적값을 자동으로 알아내는 것을 뜻한다. 피처를 직접 추출한 후에 학습하는 머신러닝과는 달리 신경망(딥러닝)은 end-to-end 학습, 즉 데이터 그대로를 입력 데이터로 활용해 학습한다."
   ]
  },
  {
   "cell_type": "markdown",
   "id": "6491c9d3",
   "metadata": {},
   "source": [
    "## 4.2 손실 함수\n",
    "\n",
    "최적의 매개변수 값을 탐색할 때 사용되는 지표가 **손실 함수**다. 일반적으로는 평균 제곱 오차와 교차 엔트로피 오차를 사용한다. 손실 함수가 높을수록 오답일 가능성이 높다고 판단한다.\n",
    "\n",
    "평균 제곱 오차는 다음과 같다. ($y_k$는 신경망의 출력, $t_k$는 정답 레이블, $k$는 데이터의 차원 수)"
   ]
  },
  {
   "cell_type": "markdown",
   "id": "3e0f2193",
   "metadata": {},
   "source": [
    "<div>\n",
    "<img src=\"equ4.1.jpg\" width=\"500\"/>\n",
    "</div>"
   ]
  },
  {
   "cell_type": "code",
   "execution_count": 41,
   "id": "a9af573d",
   "metadata": {},
   "outputs": [
    {
     "name": "stdout",
     "output_type": "stream",
     "text": [
      "0.09750000000000003\n",
      "\n",
      "0.5975\n"
     ]
    }
   ],
   "source": [
    "def mean_squared_error(y, t):\n",
    "    return 0.5 * np.sum((y-t)**2)\n",
    "\n",
    "# correct answer: 2\n",
    "t = [0, 0, 1, 0, 0, 0, 0, 0, 0, 0]\n",
    "\n",
    "# returns the highest probability for 2\n",
    "y = [0.1, 0.05, 0.6, 0.0, 0.05, 0.1, 0.0, 0.1, 0.0, 0.0]\n",
    "print(mean_squared_error(np.array(y), np.array(t)))\n",
    "print(\"\")\n",
    "\n",
    "# returns the highest probability for 7\n",
    "y = [0.1, 0.05, 0.1, 0.0, 0.05, 0.1, 0.0, 0.6, 0.0, 0.0]\n",
    "print(mean_squared_error(np.array(y), np.array(t)))"
   ]
  },
  {
   "cell_type": "markdown",
   "id": "b1fe4c52",
   "metadata": {},
   "source": [
    "교차 엔트로피 오차는 다음과 같다. ($\\log$ = $\\ln$)"
   ]
  },
  {
   "cell_type": "markdown",
   "id": "66262ac3",
   "metadata": {},
   "source": [
    "<div>\n",
    "<img src=\"equ4.2.jpg\" width=\"500\"/>\n",
    "</div>"
   ]
  },
  {
   "cell_type": "code",
   "execution_count": 20,
   "id": "e1322162",
   "metadata": {},
   "outputs": [
    {
     "name": "stdout",
     "output_type": "stream",
     "text": [
      "0.510825457099338\n",
      "\n",
      "2.302584092994546\n"
     ]
    }
   ],
   "source": [
    "def cross_entropy_error(y, t):\n",
    "    # to prevent log(0) error\n",
    "    delta = 1e-7\n",
    "    return -np.sum(t * np.log(y + delta))\n",
    "\n",
    "# correct answer: 2\n",
    "t = [0, 0, 1, 0, 0, 0, 0, 0, 0, 0]\n",
    "\n",
    "# returns the highest probability for 2\n",
    "y = [0.1, 0.05, 0.6, 0.0, 0.05, 0.1, 0.0, 0.1, 0.0, 0.0]\n",
    "print(cross_entropy_error(np.array(y), np.array(t)))\n",
    "print(\"\")\n",
    "\n",
    "# returns the highest probability for 7\n",
    "y = [0.1, 0.05, 0.1, 0.0, 0.05, 0.1, 0.0, 0.6, 0.0, 0.0]\n",
    "print(cross_entropy_error(np.array(y), np.array(t)))"
   ]
  },
  {
   "cell_type": "markdown",
   "id": "78d08911",
   "metadata": {},
   "source": [
    "교차 엔트로피 오차는 $\\log$함수를 쓰기 때문에 정답 출력값이 낮을수록 오차가 기하급수적으로 늘어난다.\n",
    "\n",
    "단일 데이터의 손실 함수만 구하는 것보다, **훈련 데이터 모두에 대한 손실 함수의 합을 구하는 경우**가 더 많다. 교차 엔트로피 오차를 사용할 경우 다음과 같다."
   ]
  },
  {
   "cell_type": "markdown",
   "id": "eab428b2",
   "metadata": {},
   "source": [
    "<div>\n",
    "<img src=\"equ4.3.jpg\" width=\"500\"/>\n",
    "</div>"
   ]
  },
  {
   "cell_type": "markdown",
   "id": "61e3b671",
   "metadata": {},
   "source": [
    "($N$개의 데이터가 있다고 가정할 때, $t_{nk}$는 $n$번째 데이터의 $k$차원 값이다.) 마지막에 $N$으로 나눔으로써 정규화를 하며, 평균 손실 함수를 구한다.\n",
    "\n",
    "커다란 규모의 데이터의 경우, 모든 데이터의 손실 함수를 계산하는 대신 데이터 일부를 추출해 근사치를 계산, 학습한다. 해당 일부를 **미니배치**라고 한다. \n",
    "(예를 들어, 60,000개의 데이터 중 100개를 무작위로 추출해 사용하여 학습하는 것을 **미니배치 학습**이라고 한다.)"
   ]
  },
  {
   "cell_type": "code",
   "execution_count": 55,
   "id": "208624be",
   "metadata": {},
   "outputs": [
    {
     "name": "stdout",
     "output_type": "stream",
     "text": [
      "(60000, 784)\n",
      "(60000, 10)\n",
      "\n",
      "(10, 784)\n",
      "(10, 10)\n"
     ]
    }
   ],
   "source": [
    "# by one-hot encoding, get 1 for correct answer and 0 otherwise\n",
    "(x_train, t_train), (x_test, t_test) = load_mnist(normalize=True, one_hot_label=True)\n",
    "\n",
    "print(x_train.shape)\n",
    "print(t_train.shape)\n",
    "print(\"\")\n",
    "\n",
    "# randomly choose 10 from 60000\n",
    "train_size = x_train.shape[0]\n",
    "batch_size = 10\n",
    "batch_mask = np.random.choice(train_size, batch_size)\n",
    "x_batch = x_train[batch_mask]\n",
    "t_batch = t_train[batch_mask]\n",
    "\n",
    "print(x_batch.shape)\n",
    "print(t_batch.shape)"
   ]
  },
  {
   "cell_type": "markdown",
   "id": "ac2243ce",
   "metadata": {},
   "source": [
    "One-hot encoding이 된 정답 레이블을 다룰 때, 미니배치용 교차 엔트로피 오차는 다음과 같이 구할 수 있다."
   ]
  },
  {
   "cell_type": "code",
   "execution_count": 56,
   "id": "1712af12",
   "metadata": {},
   "outputs": [],
   "source": [
    "def cross_entropy_error(y, t):\n",
    "    if y_ndim == 1:\n",
    "        t = t.reshape(1, t.size)\n",
    "        y = y.reshape(1, y.size)\n",
    "        \n",
    "    batch_size = y.shape[0]\n",
    "    return -np.sum(t * np.log(y)) / batch_size"
   ]
  },
  {
   "cell_type": "markdown",
   "id": "cb3a6aa2",
   "metadata": {},
   "source": [
    "One-hot encoding 대신 숫자 레이블 (2, 7, etc.)이 주어질 때는 다음과 같이 구할 수 있다."
   ]
  },
  {
   "cell_type": "code",
   "execution_count": 57,
   "id": "81f97f0f",
   "metadata": {},
   "outputs": [],
   "source": [
    "def cross_entropy_error(y, t):\n",
    "    if y.ndim == 1:\n",
    "        t = t.reshape(1, t.size)\n",
    "        y = y.reshape(1, y.size)\n",
    "        \n",
    "    # 훈련 데이터가 원-핫 벡터라면 정답 레이블의 인덱스로 반환\n",
    "    if t.size == y.size:\n",
    "        t = t.argmax(axis=1)\n",
    "             \n",
    "    batch_size = y.shape[0]\n",
    "    return -np.sum(np.log(y[np.arange(batch_size), t] + 1e-7)) / batch_size"
   ]
  },
  {
   "cell_type": "markdown",
   "id": "1d7b2152",
   "metadata": {},
   "source": [
    "차이가 있는 이유는 one-hot encoding이 되었을 때는 신경망의 출력(0, 1)만으로 교차 엔트로피를 구할 수 있지만, 숫자 레이블일 경우 각 데이터의 정답 레이블 index의 출력을 받아와야 하기 때문이다.\n",
    "\n",
    "정확도 대신 손실 함수를 지표로 삼는 이유는 **최적화를 진행할 때 미분을 사용하기 때문**이다. 정확도와 달리 손실 함수는 연속적으로 나타낼 수 있다. 따라서 매개변수의 최대 기울기를 계산한 후 손실 함수 값을 최소화할 수 있다. (정확도의 경우, 32%가 나왔다고 가정하면 매개변수를 조금씩 조정해도 정확도는 변하지 않을 것이다. 즉, 미분은 대부분 0이 나오게 된다.)"
   ]
  },
  {
   "cell_type": "code",
   "execution_count": 59,
   "id": "6b473b47",
   "metadata": {},
   "outputs": [],
   "source": [
    "# differentiation (preventing rounding error)\n",
    "def numerical_diff(f, x):\n",
    "    h = 1e-4\n",
    "    return (f(x+h) - f(x-h)) / (2*h)"
   ]
  },
  {
   "cell_type": "code",
   "execution_count": 60,
   "id": "420d2c64",
   "metadata": {},
   "outputs": [
    {
     "data": {
      "image/png": "[encoded data removed]",
      "text/plain": [
       "<Figure size 432x288 with 1 Axes>"
      ]
     },
     "metadata": {
      "needs_background": "light"
     },
     "output_type": "display_data"
    },
    {
     "name": "stdout",
     "output_type": "stream",
     "text": [
      "0.1999999999990898\n",
      "0.2999999999986347\n"
     ]
    }
   ],
   "source": [
    "# example\n",
    "def function_1(x):\n",
    "    return 0.01*x**2 + 0.1*x\n",
    "\n",
    "x = np.arange(0.0, 20.0, 0.1)\n",
    "y = function_1(x)\n",
    "plt.xlabel(\"x\")\n",
    "plt.ylabel(\"f(x)\")\n",
    "plt.plot(x,y)\n",
    "plt.show()\n",
    "\n",
    "print(numerical_diff(function_1, 5))\n",
    "print(numerical_diff(function_1, 10))"
   ]
  },
  {
   "cell_type": "markdown",
   "id": "2138ab47",
   "metadata": {},
   "source": [
    "## 4.4 기울기\n",
    "\n",
    "When calculating partial differential equations, we use gradients:"
   ]
  },
  {
   "cell_type": "code",
   "execution_count": 63,
   "id": "abcecbdb",
   "metadata": {},
   "outputs": [],
   "source": [
    "def numerical_gradient(f, x):\n",
    "    h = 1e-4\n",
    "    grad = np.zeros_like(x)\n",
    "    \n",
    "    for idx in range(x.size):\n",
    "        tmp_val = x[idx]\n",
    "        \n",
    "        # calculate f(x+h)\n",
    "        x[idx] = tmp_val + h\n",
    "        fxh1 = f(x)\n",
    "        \n",
    "        # calculate f(x-h)\n",
    "        x[idx] = tmp_val - h\n",
    "        fxh2 = f(x)\n",
    "        \n",
    "        grad[idx] = (fxh1-fxh2) / (2*h)\n",
    "        x[idx] = tmp_val # recover value\n",
    "        \n",
    "    return grad"
   ]
  },
  {
   "cell_type": "code",
   "execution_count": 77,
   "id": "a6f61428",
   "metadata": {},
   "outputs": [
    {
     "name": "stdout",
     "output_type": "stream",
     "text": [
      "[6. 8.]\n",
      "[0. 4.]\n",
      "[6. 0.]\n"
     ]
    }
   ],
   "source": [
    "# example\n",
    "def function_2(x):\n",
    "    return x[0]**2 + x[1]**2\n",
    "\n",
    "# getting a gradient in each point\n",
    "print(numerical_gradient(function_2, np.array([3.0, 4.0])))\n",
    "print(numerical_gradient(function_2, np.array([0.0, 2.0])))\n",
    "print(numerical_gradient(function_2, np.array([3.0, 0.0])))"
   ]
  },
  {
   "cell_type": "code",
   "execution_count": 69,
   "id": "5fc8b832",
   "metadata": {},
   "outputs": [
    {
     "data": {
      "image/png": "[encoded data removed]",
      "text/plain": [
       "<Figure size 432x288 with 1 Axes>"
      ]
     },
     "metadata": {
      "needs_background": "light"
     },
     "output_type": "display_data"
    }
   ],
   "source": [
    "# source code for visualization\n",
    "\n",
    "from mpl_toolkits.mplot3d import Axes3D\n",
    "\n",
    "\n",
    "def _numerical_gradient_no_batch(f, x):\n",
    "    h = 1e-4 # 0.0001\n",
    "    grad = np.zeros_like(x) # x와 형상이 같은 배열을 생성\n",
    "    \n",
    "    for idx in range(x.size):\n",
    "        tmp_val = x[idx]\n",
    "        \n",
    "        # f(x+h) 계산\n",
    "        x[idx] = float(tmp_val) + h\n",
    "        fxh1 = f(x)\n",
    "        \n",
    "        # f(x-h) 계산\n",
    "        x[idx] = tmp_val - h \n",
    "        fxh2 = f(x) \n",
    "        \n",
    "        grad[idx] = (fxh1 - fxh2) / (2*h)\n",
    "        x[idx] = tmp_val # 값 복원\n",
    "        \n",
    "    return grad\n",
    "\n",
    "\n",
    "def numerical_gradient(f, X):\n",
    "    if X.ndim == 1:\n",
    "        return _numerical_gradient_no_batch(f, X)\n",
    "    else:\n",
    "        grad = np.zeros_like(X)\n",
    "        \n",
    "        for idx, x in enumerate(X):\n",
    "            grad[idx] = _numerical_gradient_no_batch(f, x)\n",
    "        \n",
    "        return grad\n",
    "\n",
    "\n",
    "def tangent_line(f, x):\n",
    "    d = numerical_gradient(f, x)\n",
    "    print(d)\n",
    "    y = f(x) - d*x\n",
    "    return lambda t: d*t + y\n",
    "     \n",
    "if __name__ == '__main__':\n",
    "    x0 = np.arange(-2, 2.5, 0.25)\n",
    "    x1 = np.arange(-2, 2.5, 0.25)\n",
    "    X, Y = np.meshgrid(x0, x1)\n",
    "    \n",
    "    X = X.flatten()\n",
    "    Y = Y.flatten()\n",
    "    \n",
    "    grad = numerical_gradient(function_2, np.array([X, Y]) )\n",
    "    \n",
    "    plt.figure()\n",
    "    plt.quiver(X, Y, -grad[0], -grad[1],  angles=\"xy\",color=\"#666666\")#,headwidth=10,scale=40,color=\"#444444\")\n",
    "    plt.xlim([-2, 2])\n",
    "    plt.ylim([-2, 2])\n",
    "    plt.xlabel('x0')\n",
    "    plt.ylabel('x1')\n",
    "    plt.grid()\n",
    "    plt.draw()\n",
    "    plt.show()"
   ]
  },
  {
   "cell_type": "markdown",
   "id": "31343de0",
   "metadata": {},
   "source": [
    "위 시각화 그래프에서 기울기가 가리키는 쪽은 각 장소에서 **함수의 출력 값을 가장 줄이는 방향**이다.\n",
    "\n",
    "경사 하강법은 다음과 같이 나타낼 수 있다."
   ]
  },
  {
   "cell_type": "markdown",
   "id": "51461be8",
   "metadata": {},
   "source": [
    "<div>\n",
    "<img src=\"equ4.4.jpg\" width=\"500\"/>\n",
    "</div>"
   ]
  },
  {
   "cell_type": "markdown",
   "id": "16a37c47",
   "metadata": {},
   "source": [
    "해당 식은 1회 갱신량을 보여주며, 갱신량은 **학습률**이라고 표현한다. 학습률 값은 미리 지정하며, 학습률 값을 변경하면서 학습이 제대로 되고 있는지 확인한다."
   ]
  },
  {
   "cell_type": "code",
   "execution_count": 75,
   "id": "b5dcb9d8",
   "metadata": {},
   "outputs": [],
   "source": [
    "def gradient_descent(f, init_x, lr=0.01, step_num=100):\n",
    "    x = init_x\n",
    "    \n",
    "    for i in range(step_num):\n",
    "        grad = numerical_gradient(f, x)\n",
    "        x -= lr * grad\n",
    "    return x"
   ]
  },
  {
   "cell_type": "code",
   "execution_count": 68,
   "id": "4afba6f0",
   "metadata": {},
   "outputs": [
    {
     "name": "stdout",
     "output_type": "stream",
     "text": [
      "[-6.11110793e-10  8.14814391e-10]\n"
     ]
    }
   ],
   "source": [
    "# example\n",
    "init_x = np.array([-3.0, 4.0])\n",
    "print(gradient_descent(function_2, init_x, lr=0.1, step_num=100))"
   ]
  },
  {
   "cell_type": "code",
   "execution_count": 73,
   "id": "5377f9b7",
   "metadata": {},
   "outputs": [
    {
     "data": {
      "image/png": "[encoded data removed]",
      "text/plain": [
       "<Figure size 432x288 with 1 Axes>"
      ]
     },
     "metadata": {
      "needs_background": "light"
     },
     "output_type": "display_data"
    }
   ],
   "source": [
    "# source code for visualization\n",
    "\n",
    "from gradient_2d import numerical_gradient\n",
    "\n",
    "\n",
    "def gradient_descent(f, init_x, lr=0.01, step_num=100):\n",
    "    x = init_x\n",
    "    x_history = []\n",
    "\n",
    "    for i in range(step_num):\n",
    "        x_history.append( x.copy() )\n",
    "\n",
    "        grad = numerical_gradient(f, x)\n",
    "        x -= lr * grad\n",
    "\n",
    "    return x, np.array(x_history)\n",
    "\n",
    "init_x = np.array([-3.0, 4.0])\n",
    "\n",
    "x, x_history = gradient_descent(function_2, init_x, lr=0.1, step_num=20)\n",
    "\n",
    "plt.plot( [-5, 5], [0,0], '--b')\n",
    "plt.plot( [0,0], [-5, 5], '--b')\n",
    "plt.plot(x_history[:,0], x_history[:,1], 'o')\n",
    "\n",
    "plt.xlim(-3.5, 3.5)\n",
    "plt.ylim(-4.5, 4.5)\n",
    "plt.xlabel(\"X0\")\n",
    "plt.ylabel(\"X1\")\n",
    "plt.show()"
   ]
  },
  {
   "cell_type": "markdown",
   "id": "1621ef2f",
   "metadata": {},
   "source": [
    "학습률이 너무 크면 값도 크고, 너무 작으면 거의 갱신되지 않는다. 학습률이 극단적인 값이면 다음과 같은 문제가 발생한다."
   ]
  },
  {
   "cell_type": "code",
   "execution_count": 79,
   "id": "ca167560",
   "metadata": {},
   "outputs": [
    {
     "name": "stdout",
     "output_type": "stream",
     "text": [
      "[-2.58983747e+13 -1.29524862e+12]\n",
      "[-2.99999994  3.99999992]\n"
     ]
    }
   ],
   "source": [
    "init_x = np.array([-3.0, 4.0])\n",
    "print(gradient_descent(function_2, init_x, lr=10.0, step_num=100))\n",
    "\n",
    "init_x = np.array([-3.0, 4.0])\n",
    "print(gradient_descent(function_2, init_x, lr=1e-10, step_num=100))"
   ]
  },
  {
   "cell_type": "markdown",
   "id": "fcfa110c",
   "metadata": {},
   "source": [
    "신경망에서도 기울기를 구하곤 한다. $2\\times3$의 형태를 가지며 가중치가 $W$, 손실 함수가 $L$일 때 경사는 편미분인 $\\frac{\\partial L}{\\partial W}$로 나타낼 수 있다. 각 원소의 편미분을 구하는 것이며, $\\frac{\\partial L}{\\partial W}$ 역시 $W$와 같은 형태를 가진다."
   ]
  },
  {
   "cell_type": "code",
   "execution_count": 80,
   "id": "fe1ef828",
   "metadata": {},
   "outputs": [
    {
     "name": "stdout",
     "output_type": "stream",
     "text": [
      "[[ 0.07222616  0.47662636 -0.54885252]\n",
      " [ 0.10833923  0.71493955 -0.82327878]]\n"
     ]
    }
   ],
   "source": [
    "from common.functions import softmax, cross_entropy_error\n",
    "from common.gradient import numerical_gradient\n",
    "\n",
    "\n",
    "class simpleNet:\n",
    "    def __init__(self):\n",
    "        self.W = np.random.randn(2,3) # 정규분포로 초기화\n",
    "\n",
    "    def predict(self, x):\n",
    "        return np.dot(x, self.W)\n",
    "\n",
    "    def loss(self, x, t):\n",
    "        z = self.predict(x)\n",
    "        y = softmax(z)\n",
    "        loss = cross_entropy_error(y, t)\n",
    "\n",
    "        return loss\n",
    "\n",
    "x = np.array([0.6, 0.9])\n",
    "t = np.array([0, 0, 1])\n",
    "\n",
    "net = simpleNet()\n",
    "\n",
    "f = lambda w: net.loss(x, t)\n",
    "dW = numerical_gradient(f, net.W)\n",
    "\n",
    "print(dW)"
   ]
  },
  {
   "cell_type": "markdown",
   "id": "7017cd51",
   "metadata": {},
   "source": [
    "## 4.5 학습 알고리즘 구현하기\n",
    "\n",
    "신경망 학습의 절차는 다음과 같다.\n",
    "\n",
    "1. 미니배치 (미니배치로 무작위로 선정하기 때문에 **확률적 경사 하강법[SGD]**라고 불린다.)\n",
    "2. 기울기 산출\n",
    "3. 매개변수 갱신\n",
    "4. 반복\n",
    "\n",
    "2층 신경망 클래스는 다음과 같이 구현한다."
   ]
  },
  {
   "cell_type": "code",
   "execution_count": 83,
   "id": "31951002",
   "metadata": {},
   "outputs": [],
   "source": [
    "from common.functions import *\n",
    "from common.gradient import numerical_gradient\n",
    "\n",
    "\n",
    "class TwoLayerNet:\n",
    "\n",
    "    def __init__(self, input_size, hidden_size, output_size, weight_init_std=0.01):\n",
    "        # 가중치 초기화\n",
    "        self.params = {}\n",
    "        self.params['W1'] = weight_init_std * np.random.randn(input_size, hidden_size)\n",
    "        self.params['b1'] = np.zeros(hidden_size)\n",
    "        self.params['W2'] = weight_init_std * np.random.randn(hidden_size, output_size)\n",
    "        self.params['b2'] = np.zeros(output_size)\n",
    "\n",
    "    # 예측 수행\n",
    "    def predict(self, x):\n",
    "        W1, W2 = self.params['W1'], self.params['W2']\n",
    "        b1, b2 = self.params['b1'], self.params['b2']\n",
    "    \n",
    "        a1 = np.dot(x, W1) + b1\n",
    "        z1 = sigmoid(a1)\n",
    "        a2 = np.dot(z1, W2) + b2\n",
    "        y = softmax(a2)\n",
    "        \n",
    "        return y\n",
    "    \n",
    "    # 손실 함수 값 구하기\n",
    "    # x : 입력 데이터, t : 정답 레이블\n",
    "    def loss(self, x, t):\n",
    "        y = self.predict(x)\n",
    "        \n",
    "        return cross_entropy_error(y, t)\n",
    "    \n",
    "    # 정확도 구하기\n",
    "    def accuracy(self, x, t):\n",
    "        y = self.predict(x)\n",
    "        y = np.argmax(y, axis=1)\n",
    "        t = np.argmax(t, axis=1)\n",
    "        \n",
    "        accuracy = np.sum(y == t) / float(x.shape[0])\n",
    "        return accuracy\n",
    "    \n",
    "    # 가중치 매개변수의 기울기 구하기\n",
    "    # x : 입력 데이터, t : 정답 레이블\n",
    "    def numerical_gradient(self, x, t):\n",
    "        loss_W = lambda W: self.loss(x, t)\n",
    "        \n",
    "        grads = {}\n",
    "        grads['W1'] = numerical_gradient(loss_W, self.params['W1'])\n",
    "        grads['b1'] = numerical_gradient(loss_W, self.params['b1'])\n",
    "        grads['W2'] = numerical_gradient(loss_W, self.params['W2'])\n",
    "        grads['b2'] = numerical_gradient(loss_W, self.params['b2'])\n",
    "        \n",
    "        return grads\n",
    "    \n",
    "    # 오차역전파법을 사용해 빠르게 기울기 구하기 (다음 챕터에 후술)\n",
    "    def gradient(self, x, t):\n",
    "        W1, W2 = self.params['W1'], self.params['W2']\n",
    "        b1, b2 = self.params['b1'], self.params['b2']\n",
    "        grads = {}\n",
    "        \n",
    "        batch_num = x.shape[0]\n",
    "        \n",
    "        # forward\n",
    "        a1 = np.dot(x, W1) + b1\n",
    "        z1 = sigmoid(a1)\n",
    "        a2 = np.dot(z1, W2) + b2\n",
    "        y = softmax(a2)\n",
    "        \n",
    "        # backward\n",
    "        dy = (y - t) / batch_num\n",
    "        grads['W2'] = np.dot(z1.T, dy)\n",
    "        grads['b2'] = np.sum(dy, axis=0)\n",
    "        \n",
    "        da1 = np.dot(dy, W2.T)\n",
    "        dz1 = sigmoid_grad(a1) * da1\n",
    "        grads['W1'] = np.dot(x.T, dz1)\n",
    "        grads['b1'] = np.sum(dz1, axis=0)\n",
    "\n",
    "        return grads"
   ]
  },
  {
   "cell_type": "markdown",
   "id": "1f8ff3ba",
   "metadata": {},
   "source": [
    "상기한 미니배치 학습을 활용해보자."
   ]
  },
  {
   "cell_type": "code",
   "execution_count": 85,
   "id": "eb4bfece",
   "metadata": {},
   "outputs": [
    {
     "name": "stdout",
     "output_type": "stream",
     "text": [
      "train acc, test acc | 0.11236666666666667, 0.1135\n",
      "train acc, test acc | 0.7733166666666667, 0.7774\n",
      "train acc, test acc | 0.8764333333333333, 0.8792\n",
      "train acc, test acc | 0.8994333333333333, 0.902\n",
      "train acc, test acc | 0.9076833333333333, 0.9103\n",
      "train acc, test acc | 0.9144666666666666, 0.9181\n",
      "train acc, test acc | 0.9199666666666667, 0.9224\n",
      "train acc, test acc | 0.9240666666666667, 0.9265\n",
      "train acc, test acc | 0.92845, 0.9299\n",
      "train acc, test acc | 0.9313166666666667, 0.9326\n",
      "train acc, test acc | 0.9346333333333333, 0.9364\n",
      "train acc, test acc | 0.9380833333333334, 0.938\n",
      "train acc, test acc | 0.9400666666666667, 0.939\n",
      "train acc, test acc | 0.9422333333333334, 0.9412\n",
      "train acc, test acc | 0.9438166666666666, 0.9438\n",
      "train acc, test acc | 0.9453333333333334, 0.9441\n",
      "train acc, test acc | 0.9470166666666666, 0.9445\n"
     ]
    },
    {
     "data": {
      "image/png": "[encoded data removed]",
      "text/plain": [
       "<Figure size 432x288 with 1 Axes>"
      ]
     },
     "metadata": {
      "needs_background": "light"
     },
     "output_type": "display_data"
    }
   ],
   "source": [
    "from dataset.mnist import load_mnist\n",
    "\n",
    "# 데이터 읽기\n",
    "(x_train, t_train), (x_test, t_test) = load_mnist(normalize=True, one_hot_label=True)\n",
    "\n",
    "network = TwoLayerNet(input_size=784, hidden_size=50, output_size=10)\n",
    "\n",
    "# 하이퍼파라미터\n",
    "iters_num = 10000  # 반복 횟수를 적절히 설정한다.\n",
    "train_size = x_train.shape[0]\n",
    "batch_size = 100   # 미니배치 크기\n",
    "learning_rate = 0.1\n",
    "\n",
    "train_loss_list = []\n",
    "train_acc_list = []\n",
    "test_acc_list = []\n",
    "\n",
    "# 1에폭당 반복 수\n",
    "iter_per_epoch = max(train_size / batch_size, 1)\n",
    "\n",
    "for i in range(iters_num):\n",
    "    # 미니배치 획득\n",
    "    batch_mask = np.random.choice(train_size, batch_size)\n",
    "    x_batch = x_train[batch_mask]\n",
    "    t_batch = t_train[batch_mask]\n",
    "    \n",
    "    # 기울기 계산\n",
    "    #grad = network.numerical_gradient(x_batch, t_batch)\n",
    "    grad = network.gradient(x_batch, t_batch)\n",
    "    \n",
    "    # 매개변수 갱신\n",
    "    for key in ('W1', 'b1', 'W2', 'b2'):\n",
    "        network.params[key] -= learning_rate * grad[key]\n",
    "    \n",
    "    # 학습 경과 기록\n",
    "    loss = network.loss(x_batch, t_batch)\n",
    "    train_loss_list.append(loss)\n",
    "    \n",
    "    # 1에폭당 정확도 계산\n",
    "    if i % iter_per_epoch == 0:\n",
    "        train_acc = network.accuracy(x_train, t_train)\n",
    "        test_acc = network.accuracy(x_test, t_test)\n",
    "        train_acc_list.append(train_acc)\n",
    "        test_acc_list.append(test_acc)\n",
    "        print(\"train acc, test acc | \" + str(train_acc) + \", \" + str(test_acc))\n",
    "\n",
    "# 그래프 그리기\n",
    "markers = {'train': 'o', 'test': 's'}\n",
    "x = np.arange(len(train_acc_list))\n",
    "plt.plot(x, train_acc_list, label='train acc')\n",
    "plt.plot(x, test_acc_list, label='test acc', linestyle='--')\n",
    "plt.xlabel(\"epochs\")\n",
    "plt.ylabel(\"accuracy\")\n",
    "plt.ylim(0, 1.0)\n",
    "plt.legend(loc='lower right')\n",
    "plt.show()"
   ]
  },
  {
   "cell_type": "markdown",
   "id": "c5d94a77",
   "metadata": {},
   "source": [
    "에폭이 증가할수록 학습 정확도도 증가했으며, 훈련 데이터와 시험 데이터의 정확도가 거의 일치하므로 오버피팅은 일어나지 않았다."
   ]
  },
  {
   "cell_type": "markdown",
   "id": "e7f5b690",
   "metadata": {},
   "source": [
    "## Takeaways:\n",
    "\n",
    "- 기계학습에서 사용하는 데이터셋은 훈련 데이터와 시험 데이터로 나눠 사용한다.\n",
    "- 훈련 데이터에서 학습한 모델의 범용 능력을 시험 데이터로 평가한다.\n",
    "- 신경망 학습은 손실 함수를 지표로, 손실 함수의 값이 작아지는 방향으로 가중치 매개변수를 갱신한다.\n",
    "- 가중치 매개변수를 갱신할 때는 가중치 매개변수의 기울기를 이용하고, 기울어진 방향으로 가중치의 값을 갱신하는 작업을 반복한다.\n",
    "- 아주 작은 값을 주었을 때의 차분으로 미분을 구하는 것을 수치 미분이라고 한다.\n",
    "- 수치 미분을 이용해 가중치 매개변수의 기울기를 구할 수 있다.\n",
    "- 수치 미분을 이용한 계산에는 시간이 걸리지만, 그 구현은 간단하다. (다음 장에서 구현하는 다소 복잡한 오차역전파법은 기울기를 고속으로 구할 수 있다.)"
   ]
  },
  {
   "cell_type": "markdown",
   "id": "e773b06e",
   "metadata": {},
   "source": [
    "# 5. 오차역전파법\n",
    "\n",
    "상기했듯 수치 미분을 활용해 매개변수의 기울기를 구하는 것은 구현이 쉬우나 시간이 오래 걸린다. **오차역전파법**의 경우, 구현은 보다 복잡하지만 효율적으로 기울기를 구할 수 있다.\n",
    "\n",
    "역전파는 계산 그래프로 쉽게 시각적으로 나타낼 수 있으며, 국소적 계산에 집중해 복잡한 계산 과정을 보다 간단히 할 수 있다. Chain Rule도 역전파로 사용할 수 있다."
   ]
  },
  {
   "cell_type": "markdown",
   "id": "938e5426",
   "metadata": {},
   "source": [
    "<div>\n",
    "<img src=\"fig5.1.jpg\" width=\"500\"/>\n",
    "</div>"
   ]
  },
  {
   "cell_type": "markdown",
   "id": "77e2bcac",
   "metadata": {},
   "source": [
    "<div>\n",
    "<img src=\"fig5.2.jpg\" width=\"500\"/>\n",
    "</div>"
   ]
  },
  {
   "cell_type": "markdown",
   "id": "d9465326",
   "metadata": {},
   "source": [
    "**덧셈 노드의 역전파**는 다음과 같다. $z = x + y$라고 가정할 때, $\\frac{\\partial z}{\\partial x}=1$, $\\frac{\\partial z}{\\partial y}=1$이 된다. (예제에서는 역전파 때 상류에서 1.3 값이 흘러온다고 가정하자.)"
   ]
  },
  {
   "cell_type": "markdown",
   "id": "652d5158",
   "metadata": {},
   "source": [
    "<div>\n",
    "<img src=\"fig5.3.jpg\" width=\"500\"/>\n",
    "</div>"
   ]
  },
  {
   "cell_type": "markdown",
   "id": "4a1f4ca7",
   "metadata": {},
   "source": [
    "<div>\n",
    "<img src=\"fig5.4.jpg\" width=\"500\"/>\n",
    "</div>"
   ]
  },
  {
   "cell_type": "markdown",
   "id": "f71eaa86",
   "metadata": {},
   "source": [
    "**곱셈 노드의 역전파**는 다음과 같다. $z = xy$라고 가정할 때, $\\frac{\\partial z}{\\partial x}=y$, $\\frac{\\partial z}{\\partial y}=x$이 된다. (예제에서는 역전파 때 상류에서 1.3 값이 흘러온다고 가정하자.)"
   ]
  },
  {
   "cell_type": "markdown",
   "id": "1cc15970",
   "metadata": {},
   "source": [
    "<div>\n",
    "<img src=\"fig5.5.jpg\" width=\"500\"/>\n",
    "</div>"
   ]
  },
  {
   "cell_type": "markdown",
   "id": "207c2837",
   "metadata": {},
   "source": [
    "<div>\n",
    "<img src=\"fig5.6.jpg\" width=\"500\"/>\n",
    "</div>"
   ]
  },
  {
   "cell_type": "markdown",
   "id": "7f23da46",
   "metadata": {},
   "source": [
    "순전파의 입력 신호를 유지해야 곱셈 노드 역전파가 가능하다.\n",
    "\n",
    "다음 예제를 보자. (옅은 화살표가 순전파, 짙은 화살표가 역전파다.)"
   ]
  },
  {
   "cell_type": "markdown",
   "id": "da8415f4",
   "metadata": {},
   "source": [
    "<div>\n",
    "<img src=\"fig5.7.jpg\" width=\"500\"/>\n",
    "</div>"
   ]
  },
  {
   "cell_type": "markdown",
   "id": "17383e8b",
   "metadata": {},
   "source": [
    "위 예제에서 얻을 수 있는 결론은 다음과 같다.\n",
    "\n",
    "- 사과 가격에 대한 지불 금액의 미분 값은 2.2다.\n",
    "- 사과가 1원 오르면 최종 금액은 2.2원 오른다. ($x$원 오르면 $2.2x$원 오른다.)\n",
    "- 소비세와 사과 가격이 같은 양만큼 오르면 최종 금액에는 소비세가 200만큼, 사과 가격이 2.2만큼 영향을 준다. (단위가 다르다는 것에 유념. 소비세의 1은 100%, 사과 가격의 1은 1원이다.)"
   ]
  },
  {
   "cell_type": "code",
   "execution_count": 86,
   "id": "1795e136",
   "metadata": {},
   "outputs": [],
   "source": [
    "# 곱셈 계층\n",
    "class MulLayer:\n",
    "    # x와 y 초기화\n",
    "    def __init__(self):\n",
    "        self.x = None\n",
    "        self.y = None\n",
    "\n",
    "    # 순전파 처리\n",
    "    def forward(self, x, y):\n",
    "        self.x = x\n",
    "        self.y = y                \n",
    "        out = x * y\n",
    "\n",
    "        return out\n",
    "\n",
    "    # 역전파 처리\n",
    "    def backward(self, dout):\n",
    "        dx = dout * self.y  # x와 y를 바꾼다.\n",
    "        dy = dout * self.x\n",
    "\n",
    "        return dx, dy\n",
    "\n",
    "# 덧셈 계층\n",
    "class AddLayer:\n",
    "    def __init__(self):\n",
    "        pass\n",
    "\n",
    "    def forward(self, x, y):\n",
    "        out = x + y\n",
    "\n",
    "        return out\n",
    "\n",
    "    def backward(self, dout):\n",
    "        dx = dout * 1\n",
    "        dy = dout * 1\n",
    "\n",
    "        return dx, dy"
   ]
  },
  {
   "cell_type": "code",
   "execution_count": 88,
   "id": "91770e23",
   "metadata": {},
   "outputs": [
    {
     "name": "stdout",
     "output_type": "stream",
     "text": [
      "price: 220\n",
      "dApple: 2.2\n",
      "dApple_num: 110\n",
      "dTax: 200\n"
     ]
    }
   ],
   "source": [
    "# 사과 예제 구현\n",
    "apple = 100\n",
    "apple_num = 2\n",
    "tax = 1.1\n",
    "\n",
    "mul_apple_layer = MulLayer()\n",
    "mul_tax_layer = MulLayer()\n",
    "\n",
    "# forward\n",
    "apple_price = mul_apple_layer.forward(apple, apple_num)\n",
    "price = mul_tax_layer.forward(apple_price, tax)\n",
    "\n",
    "# backward\n",
    "dprice = 1\n",
    "dapple_price, dtax = mul_tax_layer.backward(dprice)\n",
    "dapple, dapple_num = mul_apple_layer.backward(dapple_price)\n",
    "\n",
    "print(\"price:\", int(price))\n",
    "print(\"dApple:\", dapple)\n",
    "print(\"dApple_num:\", int(dapple_num))\n",
    "print(\"dTax:\", dtax)"
   ]
  },
  {
   "cell_type": "markdown",
   "id": "c917eb3d",
   "metadata": {},
   "source": [
    "다음 예제도 구현 가능하다."
   ]
  },
  {
   "cell_type": "markdown",
   "id": "a022677d",
   "metadata": {},
   "source": [
    "<div>\n",
    "<img src=\"fig5.8.jpg\" width=\"500\"/>\n",
    "</div>"
   ]
  },
  {
   "cell_type": "code",
   "execution_count": 90,
   "id": "51ecb210",
   "metadata": {},
   "outputs": [
    {
     "name": "stdout",
     "output_type": "stream",
     "text": [
      "price: 715\n",
      "dApple: 2.2\n",
      "dApple_num: 110\n",
      "dOrange: 3.3000000000000003\n",
      "dOrange_num: 165\n",
      "dTax: 650\n"
     ]
    }
   ],
   "source": [
    "apple = 100\n",
    "apple_num = 2\n",
    "orange = 150\n",
    "orange_num = 3\n",
    "tax = 1.1\n",
    "\n",
    "# layer\n",
    "mul_apple_layer = MulLayer()\n",
    "mul_orange_layer = MulLayer()\n",
    "add_apple_orange_layer = AddLayer()\n",
    "mul_tax_layer = MulLayer()\n",
    "\n",
    "# forward\n",
    "apple_price = mul_apple_layer.forward(apple, apple_num)  # (1)\n",
    "orange_price = mul_orange_layer.forward(orange, orange_num)  # (2)\n",
    "all_price = add_apple_orange_layer.forward(apple_price, orange_price)  # (3)\n",
    "price = mul_tax_layer.forward(all_price, tax)  # (4)\n",
    "\n",
    "# backward\n",
    "dprice = 1\n",
    "dall_price, dtax = mul_tax_layer.backward(dprice)  # (4)\n",
    "dapple_price, dorange_price = add_apple_orange_layer.backward(dall_price)  # (3)\n",
    "dorange, dorange_num = mul_orange_layer.backward(dorange_price)  # (2)\n",
    "dapple, dapple_num = mul_apple_layer.backward(dapple_price)  # (1)\n",
    "\n",
    "print(\"price:\", int(price))\n",
    "print(\"dApple:\", dapple)\n",
    "print(\"dApple_num:\", int(dapple_num))\n",
    "print(\"dOrange:\", dorange)\n",
    "print(\"dOrange_num:\", int(dorange_num))\n",
    "print(\"dTax:\", dtax)"
   ]
  },
  {
   "cell_type": "markdown",
   "id": "6f46f392",
   "metadata": {},
   "source": [
    "## 5.5 활성화 함수 계층 구현\n",
    "\n",
    "ReLU 함수의 경우, 미분 $\\frac{\\partial y}{\\partial x}$는 입력 $x$가 양수일 경우 1, 0 이하일 경우 0을 반환한다. 계산 그래프로 나타내면 다음과 같다."
   ]
  },
  {
   "cell_type": "markdown",
   "id": "61e0af46",
   "metadata": {},
   "source": [
    "<div>\n",
    "<img src=\"fig5.9.jpg\" width=\"500\"/>\n",
    "</div>"
   ]
  },
  {
   "cell_type": "markdown",
   "id": "e6cc0cb7",
   "metadata": {},
   "source": [
    "파이썬으로 구현하면 다음과 같다. (mask 변수는 bool type으로, $x\\leq0$일 경우 True, $x>0$일 경우 False다."
   ]
  },
  {
   "cell_type": "code",
   "execution_count": 11,
   "id": "e91baf09",
   "metadata": {},
   "outputs": [
    {
     "name": "stdout",
     "output_type": "stream",
     "text": [
      "[[ 1.  -0.5]\n",
      " [-2.   3. ]]\n",
      "\n",
      "[[False  True]\n",
      " [ True False]]\n"
     ]
    }
   ],
   "source": [
    "class Relu:\n",
    "    def __init__(self):\n",
    "        self.mask = None\n",
    "\n",
    "    def forward(self, x):\n",
    "        self.mask = (x <= 0)\n",
    "        out = x.copy()\n",
    "        out[self.mask] = 0\n",
    "\n",
    "        return out\n",
    "\n",
    "    def backward(self, dout):\n",
    "        dout[self.mask] = 0\n",
    "        dx = dout\n",
    "\n",
    "        return dx\n",
    "    \n",
    "# mask 작동 원리 확인\n",
    "x = np.array([[1.0, -0.5], [-2.0, 3.0]])\n",
    "mask = (x <= 0)\n",
    "print(x)\n",
    "print(\"\")\n",
    "print(mask)"
   ]
  },
  {
   "cell_type": "markdown",
   "id": "25e315ef",
   "metadata": {},
   "source": [
    "Sigmoid 함수의 경우 곱셈과 덧셈 노드 외에도 exp노드와 나눗셈 노드가 존재한다. 미분하면 입력 값이 $\\frac{\\partial L}{\\partial y}$일 때, 마지막 출력 값은 $\\frac{\\partial y}{\\partial x} y^2 \\exp(-x)=\\frac{\\partial y}{\\partial x} y(1-y)$가 된다."
   ]
  },
  {
   "cell_type": "markdown",
   "id": "52e6021c",
   "metadata": {},
   "source": [
    "<div>\n",
    "<img src=\"fig5.10.jpg\" width=\"500\"/>\n",
    "</div>"
   ]
  },
  {
   "cell_type": "markdown",
   "id": "195c7fa9",
   "metadata": {},
   "source": [
    "다시 말해, 순전파의 출력 y만으로도 sigmoid의 역전파를 계산할 수 있다.\n",
    "\n",
    "파이썬으로 구현하면 다음과 같다."
   ]
  },
  {
   "cell_type": "code",
   "execution_count": 9,
   "id": "fb914c94",
   "metadata": {},
   "outputs": [],
   "source": [
    "class Sigmoid:\n",
    "    def __init__(self):\n",
    "        self.out = None\n",
    "\n",
    "    def forward(self, x):\n",
    "        out = sigmoid(x)\n",
    "        self.out = out\n",
    "        return out\n",
    "\n",
    "    def backward(self, dout):\n",
    "        dx = dout * (1.0 - self.out) * self.out\n",
    "\n",
    "        return dx"
   ]
  },
  {
   "cell_type": "markdown",
   "id": "256714ff",
   "metadata": {},
   "source": [
    "행렬의 내적(dot product)을 **어파인 변환**이라고 하며, 어파인 변환을 수행하는 처리는 어파인 계층에서 이뤄진다. 단순 값이 아니라 행렬, 즉 다차원 배열이라는 점에서 계산 그래프를 이해할 때 유념해야 한다."
   ]
  },
  {
   "cell_type": "markdown",
   "id": "1c503230",
   "metadata": {},
   "source": [
    "<div>\n",
    "<img src=\"fig5.11.jpg\" width=\"500\"/>\n",
    "</div>"
   ]
  },
  {
   "cell_type": "markdown",
   "id": "a37e8333",
   "metadata": {},
   "source": [
    "내적에서 유의해야 할 점은 행렬의 형상이다. 예를 들어, $\\textbf{X}$의 경우 $\\frac{\\partial L}{\\partial \\textbf{X}}$와 형상이 같다. $\\textbf{W}$와 $\\frac{\\partial L}{\\partial \\textbf{W}}$도 마찬가지다.\n",
    "\n",
    "입력 데이터를 $N$개로 묶어 순전파하는, 배치용 어파인 계층의 경우 다음과 같다."
   ]
  },
  {
   "cell_type": "markdown",
   "id": "ebcd039c",
   "metadata": {},
   "source": [
    "<div>\n",
    "<img src=\"fig5.12.jpg\" width=\"500\"/>\n",
    "</div>"
   ]
  },
  {
   "cell_type": "markdown",
   "id": "2cee8555",
   "metadata": {},
   "source": [
    "단순히 편향을 더한다면 $N$개 데이터 전부에 편향이 더해지므로, 역전파를 할 때는 각 데이터의 역전파 값이 편향의 원소에 모여야 한다. 즉, 단순히 array `B`를 더하는 것이 아니라 배치 2개가 묶인 array `dY`의 편향을 `np.sum(DY, axis=0)`으로 구한다."
   ]
  },
  {
   "cell_type": "code",
   "execution_count": 15,
   "id": "1d491e82",
   "metadata": {},
   "outputs": [],
   "source": [
    "class Affine:\n",
    "    def __init__(self, W, b):\n",
    "        self.W = W\n",
    "        self.b = b\n",
    "        \n",
    "        self.x = None\n",
    "        self.original_x_shape = None\n",
    "        # 가중치와 편향 매개변수의 미분\n",
    "        self.dW = None\n",
    "        self.db = None\n",
    "\n",
    "    def forward(self, x):\n",
    "        # 텐서 대응\n",
    "        self.original_x_shape = x.shape\n",
    "        x = x.reshape(x.shape[0], -1)\n",
    "        self.x = x\n",
    "\n",
    "        out = np.dot(self.x, self.W) + self.b\n",
    "\n",
    "        return out\n",
    "\n",
    "    def backward(self, dout):\n",
    "        dx = np.dot(dout, self.W.T)\n",
    "        self.dW = np.dot(self.x.T, dout)\n",
    "        self.db = np.sum(dout, axis=0)\n",
    "        \n",
    "        dx = dx.reshape(*self.original_x_shape)  # 입력 데이터 모양 변경(텐서 대응)\n",
    "        return dx"
   ]
  },
  {
   "cell_type": "markdown",
   "id": "b20eb753",
   "metadata": {},
   "source": [
    "이전 장에서 접했던 손글씨 숫자 인식의 계층을 시각화하면 다음과 같다."
   ]
  },
  {
   "cell_type": "markdown",
   "id": "d8949eba",
   "metadata": {},
   "source": [
    "<div>\n",
    "<img src=\"fig5.13.jpg\" width=\"500\"/>\n",
    "</div>"
   ]
  },
  {
   "cell_type": "markdown",
   "id": "ad7dfd96",
   "metadata": {},
   "source": [
    "소프트맥스 계층을 손실 함수인 교차 엔트로피 오차를 포함해 Softmax-with-Loss 계층으로 구현한다. 미분 과정은 복잡하지만 단순 계산의 반복이므로 결과값과 간단화한 계산 그래프를 보자."
   ]
  },
  {
   "cell_type": "markdown",
   "id": "8d31a4a9",
   "metadata": {},
   "source": [
    "<div>\n",
    "<img src=\"fig5.14.jpg\" width=\"700\"/>\n",
    "</div>"
   ]
  },
  {
   "cell_type": "markdown",
   "id": "7c161af9",
   "metadata": {},
   "source": [
    "<div>\n",
    "<img src=\"fig5.15.jpg\" width=\"500\"/>\n",
    "</div>"
   ]
  },
  {
   "cell_type": "markdown",
   "id": "172fb468",
   "metadata": {},
   "source": [
    "신경망 학습의 목적은 신경망의 출력, 즉 Softmax의 출력이 정답 레이블과 가까워지도록 가중치 매개변수를 조정하는 것이다. 따라서 역전파를 할 때 출력값과 정답의 오차를 앞 계층에 효율적으로 전달해야 하며, 따라서 매우 직관적인 오차를 나타내는 $y_1 - t_1$등의 값이 전달되는 것이다."
   ]
  },
  {
   "cell_type": "code",
   "execution_count": 16,
   "id": "77f7d441",
   "metadata": {},
   "outputs": [],
   "source": [
    "class SoftmaxWithLoss:\n",
    "    def __init__(self):\n",
    "        self.loss = None # 손실함수\n",
    "        self.y = None    # softmax의 출력\n",
    "        self.t = None    # 정답 레이블(원-핫 인코딩 형태)\n",
    "        \n",
    "    def forward(self, x, t):\n",
    "        self.t = t\n",
    "        self.y = softmax(x)\n",
    "        self.loss = cross_entropy_error(self.y, self.t)\n",
    "        \n",
    "        return self.loss\n",
    "\n",
    "    def backward(self, dout=1):\n",
    "        batch_size = self.t.shape[0]\n",
    "        if self.t.size == self.y.size: # 정답 레이블이 원-핫 인코딩 형태일 때\n",
    "            dx = (self.y - self.t) / batch_size\n",
    "        else:\n",
    "            dx = self.y.copy()\n",
    "            dx[np.arange(batch_size), self.t] -= 1\n",
    "            dx = dx / batch_size\n",
    "        \n",
    "        return dx"
   ]
  },
  {
   "cell_type": "markdown",
   "id": "7546997b",
   "metadata": {},
   "source": [
    "## 5.7 오차역전파법 구현\n",
    "\n",
    "신경망 학습의 절차를 복습해보자.\n",
    "\n",
    "1. 미니배치\n",
    "2. 기울기 산출\n",
    "3. 매개변수 갱신\n",
    "4. 반복\n",
    "\n",
    "오차역전파법은 이 중 2단계인 기울기 산출에 해당된다.\n",
    "\n",
    "오차역전파법을 활용한 2층 신경망 클래스는 다음과 같이 구현한다."
   ]
  },
  {
   "cell_type": "code",
   "execution_count": 98,
   "id": "899d47d1",
   "metadata": {},
   "outputs": [],
   "source": [
    "from collections import OrderedDict\n",
    "\n",
    "\n",
    "class TwoLayerNet:\n",
    "\n",
    "    def __init__(self, input_size, hidden_size, output_size, weight_init_std = 0.01):\n",
    "        # 가중치 초기화\n",
    "        self.params = {}\n",
    "        self.params['W1'] = weight_init_std * np.random.randn(input_size, hidden_size)\n",
    "        self.params['b1'] = np.zeros(hidden_size)\n",
    "        self.params['W2'] = weight_init_std * np.random.randn(hidden_size, output_size) \n",
    "        self.params['b2'] = np.zeros(output_size)\n",
    "\n",
    "        # 계층 생성\n",
    "        self.layers = OrderedDict()\n",
    "        self.layers['Affine1'] = Affine(self.params['W1'], self.params['b1'])\n",
    "        self.layers['Relu1'] = Relu()\n",
    "        self.layers['Affine2'] = Affine(self.params['W2'], self.params['b2'])\n",
    "\n",
    "        self.lastLayer = SoftmaxWithLoss()\n",
    "        \n",
    "    def predict(self, x):\n",
    "        for layer in self.layers.values():\n",
    "            x = layer.forward(x)\n",
    "        \n",
    "        return x\n",
    "        \n",
    "    # x : 입력 데이터, t : 정답 레이블\n",
    "    def loss(self, x, t):\n",
    "        y = self.predict(x)\n",
    "        return self.lastLayer.forward(y, t)\n",
    "    \n",
    "    def accuracy(self, x, t):\n",
    "        y = self.predict(x)\n",
    "        y = np.argmax(y, axis=1)\n",
    "        if t.ndim != 1 : t = np.argmax(t, axis=1)\n",
    "        \n",
    "        accuracy = np.sum(y == t) / float(x.shape[0])\n",
    "        return accuracy\n",
    "        \n",
    "    # x : 입력 데이터, t : 정답 레이블\n",
    "    def numerical_gradient(self, x, t):\n",
    "        loss_W = lambda W: self.loss(x, t)\n",
    "        \n",
    "        grads = {}\n",
    "        grads['W1'] = numerical_gradient(loss_W, self.params['W1'])\n",
    "        grads['b1'] = numerical_gradient(loss_W, self.params['b1'])\n",
    "        grads['W2'] = numerical_gradient(loss_W, self.params['W2'])\n",
    "        grads['b2'] = numerical_gradient(loss_W, self.params['b2'])\n",
    "        \n",
    "        return grads\n",
    "        \n",
    "    def gradient(self, x, t):\n",
    "        # forward\n",
    "        self.loss(x, t)\n",
    "\n",
    "        # backward\n",
    "        dout = 1\n",
    "        dout = self.lastLayer.backward(dout)\n",
    "        \n",
    "        layers = list(self.layers.values())\n",
    "        layers.reverse()\n",
    "        for layer in layers:\n",
    "            dout = layer.backward(dout)\n",
    "\n",
    "        # 결과 저장\n",
    "        grads = {}\n",
    "        grads['W1'], grads['b1'] = self.layers['Affine1'].dW, self.layers['Affine1'].db\n",
    "        grads['W2'], grads['b2'] = self.layers['Affine2'].dW, self.layers['Affine2'].db\n",
    "\n",
    "        return grads"
   ]
  },
  {
   "cell_type": "markdown",
   "id": "2b08a54c",
   "metadata": {},
   "source": [
    "앞서 배운 수치 미분과 오차역전파법 모두 기울기를 나타내는 방법이다. 따라서 기울기 산출의 정확성을 위해 두 방법을 각각 사용하고 결과값인 기울기를 서로 비교하는 작업(**기울기 확인**)을 한다."
   ]
  },
  {
   "cell_type": "code",
   "execution_count": 99,
   "id": "55bc0e06",
   "metadata": {},
   "outputs": [
    {
     "name": "stdout",
     "output_type": "stream",
     "text": [
      "W1:4.3363130908355303e-10\n",
      "b1:2.251000127279361e-09\n",
      "W2:7.427926275595242e-09\n",
      "b2:1.4094857478663681e-07\n"
     ]
    }
   ],
   "source": [
    "from dataset.mnist import load_mnist\n",
    "\n",
    "# 데이터 읽기\n",
    "(x_train, t_train), (x_test, t_test) = load_mnist(normalize=True, one_hot_label=True)\n",
    "\n",
    "network = TwoLayerNet(input_size=784, hidden_size=50, output_size=10)\n",
    "\n",
    "x_batch = x_train[:3]\n",
    "t_batch = t_train[:3]\n",
    "\n",
    "grad_numerical = network.numerical_gradient(x_batch, t_batch)\n",
    "grad_backprop = network.gradient(x_batch, t_batch)\n",
    "\n",
    "# 각 가중치의 절대 오차의 평균을 구한다.\n",
    "for key in grad_numerical.keys():\n",
    "    diff = np.average( np.abs(grad_backprop[key] - grad_numerical[key]) )\n",
    "    print(key + \":\" + str(diff))"
   ]
  },
  {
   "cell_type": "markdown",
   "id": "6be6aaff",
   "metadata": {},
   "source": [
    "기울기 확인 결과, 큰 차이가 없음을 알 수 있다. (유한한 정밀도의 한계 때문에 0이 나오는 경우는 거의 없다.)\n",
    "\n",
    "오차역전파법을 사용한 학습 또한 구현할 수 있다. 이전 학습 구현과 매우 유사하다."
   ]
  },
  {
   "cell_type": "code",
   "execution_count": 100,
   "id": "987c4a4f",
   "metadata": {},
   "outputs": [
    {
     "name": "stdout",
     "output_type": "stream",
     "text": [
      "0.102 0.1046\n",
      "0.89955 0.9019\n",
      "0.9224166666666667 0.9242\n",
      "0.9346166666666667 0.9313\n",
      "0.9419833333333333 0.9387\n",
      "0.95015 0.9469\n",
      "0.9534 0.9505\n",
      "0.9586333333333333 0.9566\n",
      "0.9632666666666667 0.9597\n",
      "0.9657 0.9626\n",
      "0.9692833333333334 0.9645\n",
      "0.9708833333333333 0.9651\n",
      "0.9735666666666667 0.9683\n",
      "0.9732666666666666 0.9666\n",
      "0.9761166666666666 0.9694\n",
      "0.9779333333333333 0.9715\n",
      "0.9781 0.9706\n"
     ]
    }
   ],
   "source": [
    "# 데이터 읽기\n",
    "(x_train, t_train), (x_test, t_test) = load_mnist(normalize=True, one_hot_label=True)\n",
    "\n",
    "network = TwoLayerNet(input_size=784, hidden_size=50, output_size=10)\n",
    "\n",
    "iters_num = 10000\n",
    "train_size = x_train.shape[0]\n",
    "batch_size = 100\n",
    "learning_rate = 0.1\n",
    "\n",
    "train_loss_list = []\n",
    "train_acc_list = []\n",
    "test_acc_list = []\n",
    "\n",
    "iter_per_epoch = max(train_size / batch_size, 1)\n",
    "\n",
    "for i in range(iters_num):\n",
    "    batch_mask = np.random.choice(train_size, batch_size)\n",
    "    x_batch = x_train[batch_mask]\n",
    "    t_batch = t_train[batch_mask]\n",
    "    \n",
    "    # 기울기 계산\n",
    "    #grad = network.numerical_gradient(x_batch, t_batch) # 수치 미분 방식\n",
    "    grad = network.gradient(x_batch, t_batch) # 오차역전파법 방식(훨씬 빠르다)\n",
    "    \n",
    "    # 갱신\n",
    "    for key in ('W1', 'b1', 'W2', 'b2'):\n",
    "        network.params[key] -= learning_rate * grad[key]\n",
    "    \n",
    "    loss = network.loss(x_batch, t_batch)\n",
    "    train_loss_list.append(loss)\n",
    "    \n",
    "    if i % iter_per_epoch == 0:\n",
    "        train_acc = network.accuracy(x_train, t_train)\n",
    "        test_acc = network.accuracy(x_test, t_test)\n",
    "        train_acc_list.append(train_acc)\n",
    "        test_acc_list.append(test_acc)\n",
    "        print(train_acc, test_acc)"
   ]
  },
  {
   "cell_type": "markdown",
   "id": "7ef0e26e",
   "metadata": {},
   "source": [
    "## Takeaways:\n",
    "- 계산 그래프를 이용하면 계산 과정을 시각적으로 파악할 수 있다.\n",
    "- 계산 그래프의 노드는 국소적 계산으로 구성된다. 국소적 계산을 조합해 전체 계산을 구성한다.\n",
    "- 계산 그래프의 순전파는 통상의 계산을 수행한다. 한편, 계산 그래프의 역전파로는 각 노드의 미분을 구할 수 있다.\n",
    "- 신경망의 구성 요소를 계층으로 구현하여 기울기를 효율적으로 계산할 수 있다. 이를 **오차역전파법**이라고 한다.\n",
    "- 수치 미분과 오차역전파법의 결과를 비교하면 구현이 제대로 되었는지 확인할 수 있다. (기울기 확인)"
   ]
  },
  {
   "cell_type": "markdown",
   "id": "616ec5b7",
   "metadata": {},
   "source": [
    "# 6. 학습 관련 기술들\n",
    "\n",
    "이전에 소개했던 **확률적 경사 하강법 (SGD)**은 기울어진 매개변수 방향으로 계속해서 갱신해 나가는 방법이었다.\n",
    "\n",
    "수식으로는 다음과 같다. ($\\textbf{W}$는 갱신할 가중치 매개변수, $\\frac{\\partial L}{\\partial \\textbf{W}}$는 $\\textbf{W}$에 대한 손실 함수의 기울기, $\\eta$는 학습률, $\\leftarrow$는 우변의 값으로 좌변의 값을 갱신한다는 뜻이다. $\\eta$는 주로 $0.01$이나 $0.001$의 값을 미리 정해 사용한다.)"
   ]
  },
  {
   "cell_type": "markdown",
   "id": "9e04bc5e",
   "metadata": {},
   "source": [
    "<div>\n",
    "<img src=\"equ6.1.jpg\" width=\"500\"/>\n",
    "</div>"
   ]
  },
  {
   "cell_type": "code",
   "execution_count": 2,
   "id": "4021375b",
   "metadata": {},
   "outputs": [],
   "source": [
    "'''\n",
    "SGD의 pseudo-code\n",
    "실제로는 작동하지 않는 의사 코드이나, 설명을 위해 삽입했다.\n",
    "'''\n",
    "\n",
    "class SGD:\n",
    "    def __init__(self, lr=0.01):\n",
    "        self.lr = lr\n",
    "        \n",
    "    def update(self, params, grads):\n",
    "        for key in params.keys():\n",
    "            params[key] -= self.lr * grads[key]\n",
    "            \n",
    "network = TwoLayerNet(...)\n",
    "optimizer = SGD()\n",
    "\n",
    "for i in range(10000):\n",
    "    ...\n",
    "    x_batch, t_batch = get_mini_batch(...) # 미니배치\n",
    "    grads = network.gradient(x_batch, t_batch)\n",
    "    params = network.params\n",
    "    optimizer.update(params, grads)\n",
    "    ..."
   ]
  },
  {
   "cell_type": "markdown",
   "id": "9cc81329",
   "metadata": {},
   "source": [
    "그러나 SGD는 함수에 따라 매우 비효율적일 수 있다. $f(x,y)=\\frac{1}{20} x^2 + y^2$가 주어졌을 때, 그래프와 기울기는 다음과 같다."
   ]
  },
  {
   "cell_type": "markdown",
   "id": "24394273",
   "metadata": {},
   "source": [
    "<div>\n",
    "<img src=\"fig6.1.jpg\" width=\"700\"/>\n",
    "</div>"
   ]
  },
  {
   "cell_type": "markdown",
   "id": "fc00a73f",
   "metadata": {},
   "source": [
    "<div>\n",
    "<img src=\"fig6.2.jpg\" width=\"500\"/>\n",
    "</div>"
   ]
  },
  {
   "cell_type": "markdown",
   "id": "6a484747",
   "metadata": {},
   "source": [
    "이에 SGD를 적용하면 다음 그림과 같이 최적화가 진행된다."
   ]
  },
  {
   "cell_type": "markdown",
   "id": "7ac5f695",
   "metadata": {},
   "source": [
    "<div>\n",
    "<img src=\"fig6.3.jpg\" width=\"500\"/>\n",
    "</div>"
   ]
  },
  {
   "cell_type": "markdown",
   "id": "1ea7c053",
   "metadata": {},
   "source": [
    "방향에 따라 성질이 달라지는 *비등방성* 함수의 경우, SGD의 탐색 경로는 비효율적이다.\n",
    "\n",
    "**모멘텀** 기법은 수식으로 다음과 같이 나타낼 수 있다. ($\\textbf{v}$는 velocity에 해당한다. $\\alpha$는 0.9 등의 값을 지닌 상수다.)"
   ]
  },
  {
   "cell_type": "markdown",
   "id": "6f3d284e",
   "metadata": {},
   "source": [
    "<div>\n",
    "<img src=\"equ6.2.jpg\" width=\"500\"/>\n",
    "</div>"
   ]
  },
  {
   "cell_type": "markdown",
   "id": "471ebba4",
   "metadata": {},
   "source": [
    "모멘텀은 기울기 방향으로 힘을 받아 물체가 가속되는 물리 법칙을 나타내며, $\\alpha\\textbf{v}$는 물체가 아무런 힘을 받지 않을 때 서서히 하강시키는 역할을 한다 (마찰, 공기 저항 등)."
   ]
  },
  {
   "cell_type": "code",
   "execution_count": 102,
   "id": "f17e16a4",
   "metadata": {},
   "outputs": [],
   "source": [
    "class Momentum:\n",
    "\n",
    "    \"\"\"모멘텀 SGD\"\"\"\n",
    "\n",
    "    def __init__(self, lr=0.01, momentum=0.9):\n",
    "        self.lr = lr\n",
    "        self.momentum = momentum\n",
    "        self.v = None\n",
    "        \n",
    "    def update(self, params, grads):\n",
    "        if self.v is None:\n",
    "            self.v = {}\n",
    "            for key, val in params.items():                                \n",
    "                self.v[key] = np.zeros_like(val)\n",
    "                \n",
    "        for key in params.keys():\n",
    "            self.v[key] = self.momentum*self.v[key] - self.lr*grads[key] \n",
    "            params[key] += self.v[key]"
   ]
  },
  {
   "cell_type": "markdown",
   "id": "d9402d0f",
   "metadata": {},
   "source": [
    "<div>\n",
    "<img src=\"fig6.4.jpg\" width=\"500\"/>\n",
    "</div>"
   ]
  },
  {
   "cell_type": "markdown",
   "id": "c68089ca",
   "metadata": {},
   "source": [
    "모멘텀은 SGD와 비교했을 때 지그재그의 정도가 덜하며, 이는 x축 방향으로 일정하게 가속할 수 있기 때문에 SGD보다 x축 이동이 더 빠르기 때문이다.\n",
    "\n",
    "학습률 $\\eta$를 최적의 값으로 정하는 기술로 *학습률 감소*가 있다. 학습을 진행하며 큰 학습률을 점차 줄여나가는 방식이다. **AdaGrad**는 각각의 매개변수에 맞춤형 값을 설정한다."
   ]
  },
  {
   "cell_type": "markdown",
   "id": "51216f5b",
   "metadata": {},
   "source": [
    "<div>\n",
    "<img src=\"equ6.3.jpg\" width=\"500\"/>\n",
    "</div>"
   ]
  },
  {
   "cell_type": "markdown",
   "id": "ffebbf5c",
   "metadata": {},
   "source": [
    "$h$는 기존 기울기 값을 제곱하여 계속 더해주는 역할을 한다. ($\\odot$는 행렬의 원소별 곱셈을 의미) $\\frac{1}{\\sqrt{h}}$를 곱해 갱신하는 것은 매개변수의 원소 중에서 크게 갱신된 원소는 학습률이 낮아진다는 것을 뜻한다 (즉 각각의 매개변수의 값이 달라진다)."
   ]
  },
  {
   "cell_type": "code",
   "execution_count": 103,
   "id": "8166359d",
   "metadata": {},
   "outputs": [],
   "source": [
    "class AdaGrad:\n",
    "\n",
    "    \"\"\"AdaGrad\"\"\"\n",
    "\n",
    "    def __init__(self, lr=0.01):\n",
    "        self.lr = lr\n",
    "        self.h = None\n",
    "        \n",
    "    def update(self, params, grads):\n",
    "        if self.h is None:\n",
    "            self.h = {}\n",
    "            for key, val in params.items():\n",
    "                self.h[key] = np.zeros_like(val)\n",
    "            \n",
    "        for key in params.keys():\n",
    "            self.h[key] += grads[key] * grads[key]\n",
    "            params[key] -= self.lr * grads[key] / (np.sqrt(self.h[key]) + 1e-7)\n",
    "            # 1e-7를 더함으로써 0으로 나누는 에러를 막아준다."
   ]
  },
  {
   "cell_type": "markdown",
   "id": "abc1f408",
   "metadata": {},
   "source": [
    "<div>\n",
    "<img src=\"fig6.5.jpg\" width=\"500\"/>\n",
    "</div>"
   ]
  },
  {
   "cell_type": "markdown",
   "id": "bb7ca4b9",
   "metadata": {},
   "source": [
    "그림에서 보이듯 AdaGrad의 경우 효율적으로 움직인다. 상기했듯 처음에는 크게 움직이나, 큰 움직임에 비례해 갱신 정도도 크게 작아졌고 따라서 지그재그의 움직임도 줄어들었다.\n",
    "\n",
    "물리 법칙을 활용한 모멘텀과 각 매개변수의 움직임에 적응해 그에 따라 갱신 정도를 조정한 AdaGrad를 융합한 것이 **Adam**이다."
   ]
  },
  {
   "cell_type": "code",
   "execution_count": 3,
   "id": "2a215f69",
   "metadata": {},
   "outputs": [],
   "source": [
    "class Adam:\n",
    "\n",
    "    \"\"\"Adam (http://arxiv.org/abs/1412.6980v8)\"\"\"\n",
    "\n",
    "    def __init__(self, lr=0.001, beta1=0.9, beta2=0.999):\n",
    "        self.lr = lr\n",
    "        self.beta1 = beta1\n",
    "        self.beta2 = beta2\n",
    "        self.iter = 0\n",
    "        self.m = None\n",
    "        self.v = None\n",
    "        \n",
    "    def update(self, params, grads):\n",
    "        if self.m is None:\n",
    "            self.m, self.v = {}, {}\n",
    "            for key, val in params.items():\n",
    "                self.m[key] = np.zeros_like(val)\n",
    "                self.v[key] = np.zeros_like(val)\n",
    "        \n",
    "        self.iter += 1\n",
    "        lr_t  = self.lr * np.sqrt(1.0 - self.beta2**self.iter) / (1.0 - self.beta1**self.iter)         \n",
    "        \n",
    "        for key in params.keys():\n",
    "            #self.m[key] = self.beta1*self.m[key] + (1-self.beta1)*grads[key]\n",
    "            #self.v[key] = self.beta2*self.v[key] + (1-self.beta2)*(grads[key]**2)\n",
    "            self.m[key] += (1 - self.beta1) * (grads[key] - self.m[key])\n",
    "            self.v[key] += (1 - self.beta2) * (grads[key]**2 - self.v[key])\n",
    "            \n",
    "            params[key] -= lr_t * self.m[key] / (np.sqrt(self.v[key]) + 1e-7)\n",
    "            \n",
    "            #unbias_m += (1 - self.beta1) * (grads[key] - self.m[key]) # correct bias\n",
    "            #unbisa_b += (1 - self.beta2) * (grads[key]*grads[key] - self.v[key]) # correct bias\n",
    "            #params[key] += self.lr * unbias_m / (np.sqrt(unbisa_b) + 1e-7)"
   ]
  },
  {
   "cell_type": "markdown",
   "id": "0688b8f2",
   "metadata": {},
   "source": [
    "<div>\n",
    "<img src=\"fig6.6.jpg\" width=\"500\"/>\n",
    "</div>"
   ]
  },
  {
   "cell_type": "markdown",
   "id": "5bdc45ed",
   "metadata": {},
   "source": [
    "완벽한 상위호환인 기법은 존재하지 않는다. 풀어야 할 문제가 무엇이냐에 따라서 최적의 기법이 다르다."
   ]
  },
  {
   "cell_type": "code",
   "execution_count": 45,
   "id": "15e6fbec",
   "metadata": {},
   "outputs": [],
   "source": [
    "# 준비 코드\n",
    "\n",
    "class MultiLayerNet:\n",
    "    \"\"\"완전연결 다층 신경망\n",
    "    Parameters\n",
    "    ----------\n",
    "    input_size : 입력 크기（MNIST의 경우엔 784）\n",
    "    hidden_size_list : 각 은닉층의 뉴런 수를 담은 리스트（e.g. [100, 100, 100]）\n",
    "    output_size : 출력 크기（MNIST의 경우엔 10）\n",
    "    activation : 활성화 함수 - 'relu' 혹은 'sigmoid'\n",
    "    weight_init_std : 가중치의 표준편차 지정（e.g. 0.01）\n",
    "        'relu'나 'he'로 지정하면 'He 초깃값'으로 설정\n",
    "        'sigmoid'나 'xavier'로 지정하면 'Xavier 초깃값'으로 설정\n",
    "    weight_decay_lambda : 가중치 감소(L2 법칙)의 세기\n",
    "    \"\"\"\n",
    "    def __init__(self, input_size, hidden_size_list, output_size,\n",
    "                 activation='relu', weight_init_std='relu', weight_decay_lambda=0):\n",
    "        self.input_size = input_size\n",
    "        self.output_size = output_size\n",
    "        self.hidden_size_list = hidden_size_list\n",
    "        self.hidden_layer_num = len(hidden_size_list)\n",
    "        self.weight_decay_lambda = weight_decay_lambda\n",
    "        self.params = {}\n",
    "\n",
    "        # 가중치 초기화\n",
    "        self.__init_weight(weight_init_std)\n",
    "\n",
    "        # 계층 생성\n",
    "        activation_layer = {'sigmoid': Sigmoid, 'relu': Relu}\n",
    "        self.layers = OrderedDict()\n",
    "        for idx in range(1, self.hidden_layer_num+1):\n",
    "            self.layers['Affine' + str(idx)] = Affine(self.params['W' + str(idx)],\n",
    "                                                      self.params['b' + str(idx)])\n",
    "            self.layers['Activation_function' + str(idx)] = activation_layer[activation]()\n",
    "\n",
    "        idx = self.hidden_layer_num + 1\n",
    "        self.layers['Affine' + str(idx)] = Affine(self.params['W' + str(idx)],\n",
    "            self.params['b' + str(idx)])\n",
    "\n",
    "        self.last_layer = SoftmaxWithLoss()\n",
    "\n",
    "    def __init_weight(self, weight_init_std):\n",
    "        \"\"\"가중치 초기화\n",
    "        \n",
    "        Parameters\n",
    "        ----------\n",
    "        weight_init_std : 가중치의 표준편차 지정（e.g. 0.01）\n",
    "            'relu'나 'he'로 지정하면 'He 초깃값'으로 설정\n",
    "            'sigmoid'나 'xavier'로 지정하면 'Xavier 초깃값'으로 설정\n",
    "        \"\"\"\n",
    "        all_size_list = [self.input_size] + self.hidden_size_list + [self.output_size]\n",
    "        for idx in range(1, len(all_size_list)):\n",
    "            scale = weight_init_std\n",
    "            if str(weight_init_std).lower() in ('relu', 'he'):\n",
    "                scale = np.sqrt(2.0 / all_size_list[idx - 1])  # ReLU를 사용할 때의 권장 초깃값\n",
    "            elif str(weight_init_std).lower() in ('sigmoid', 'xavier'):\n",
    "                scale = np.sqrt(1.0 / all_size_list[idx - 1])  # sigmoid를 사용할 때의 권장 초깃값\n",
    "            self.params['W' + str(idx)] = scale * np.random.randn(all_size_list[idx-1], all_size_list[idx])\n",
    "            self.params['b' + str(idx)] = np.zeros(all_size_list[idx])\n",
    "\n",
    "    def predict(self, x):\n",
    "        for layer in self.layers.values():\n",
    "            x = layer.forward(x)\n",
    "\n",
    "        return x\n",
    "\n",
    "    def loss(self, x, t):\n",
    "        \"\"\"손실 함수를 구한다.\n",
    "        \n",
    "        Parameters\n",
    "        ----------\n",
    "        x : 입력 데이터\n",
    "        t : 정답 레이블 \n",
    "        \n",
    "        Returns\n",
    "        -------\n",
    "        손실 함수의 값\n",
    "        \"\"\"\n",
    "        y = self.predict(x)\n",
    "\n",
    "        weight_decay = 0\n",
    "        for idx in range(1, self.hidden_layer_num + 2):\n",
    "            W = self.params['W' + str(idx)]\n",
    "            weight_decay += 0.5 * self.weight_decay_lambda * np.sum(W ** 2)\n",
    "\n",
    "        return self.last_layer.forward(y, t) + weight_decay\n",
    "\n",
    "    def accuracy(self, x, t):\n",
    "        y = self.predict(x)\n",
    "        y = np.argmax(y, axis=1)\n",
    "        if t.ndim != 1 : t = np.argmax(t, axis=1)\n",
    "\n",
    "        accuracy = np.sum(y == t) / float(x.shape[0])\n",
    "        return accuracy\n",
    "\n",
    "    def numerical_gradient(self, x, t):\n",
    "        \"\"\"기울기를 구한다(수치 미분).\n",
    "        \n",
    "        Parameters\n",
    "        ----------\n",
    "        x : 입력 데이터\n",
    "        t : 정답 레이블\n",
    "        \n",
    "        Returns\n",
    "        -------\n",
    "        각 층의 기울기를 담은 딕셔너리(dictionary) 변수\n",
    "            grads['W1']、grads['W2']、... 각 층의 가중치\n",
    "            grads['b1']、grads['b2']、... 각 층의 편향\n",
    "        \"\"\"\n",
    "        loss_W = lambda W: self.loss(x, t)\n",
    "\n",
    "        grads = {}\n",
    "        for idx in range(1, self.hidden_layer_num+2):\n",
    "            grads['W' + str(idx)] = numerical_gradient(loss_W, self.params['W' + str(idx)])\n",
    "            grads['b' + str(idx)] = numerical_gradient(loss_W, self.params['b' + str(idx)])\n",
    "\n",
    "        return grads\n",
    "\n",
    "    def gradient(self, x, t):\n",
    "        \"\"\"기울기를 구한다(오차역전파법).\n",
    "        Parameters\n",
    "        ----------\n",
    "        x : 입력 데이터\n",
    "        t : 정답 레이블\n",
    "        \n",
    "        Returns\n",
    "        -------\n",
    "        각 층의 기울기를 담은 딕셔너리(dictionary) 변수\n",
    "            grads['W1']、grads['W2']、... 각 층의 가중치\n",
    "            grads['b1']、grads['b2']、... 각 층의 편향\n",
    "        \"\"\"\n",
    "        # forward\n",
    "        self.loss(x, t)\n",
    "\n",
    "        # backward\n",
    "        dout = 1\n",
    "        dout = self.last_layer.backward(dout)\n",
    "\n",
    "        layers = list(self.layers.values())\n",
    "        layers.reverse()\n",
    "        for layer in layers:\n",
    "            dout = layer.backward(dout)\n",
    "\n",
    "        # 결과 저장\n",
    "        grads = {}\n",
    "        for idx in range(1, self.hidden_layer_num+2):\n",
    "            grads['W' + str(idx)] = self.layers['Affine' + str(idx)].dW + self.weight_decay_lambda * self.layers['Affine' + str(idx)].W\n",
    "            grads['b' + str(idx)] = self.layers['Affine' + str(idx)].db\n",
    "\n",
    "        return grads\n",
    "    \n",
    "def smooth_curve(x):\n",
    "    \"\"\"손실 함수의 그래프를 매끄럽게 하기 위해 사용\n",
    "    \n",
    "    참고：http://glowingpython.blogspot.jp/2012/02/convolution-with-numpy.html\n",
    "    \"\"\"\n",
    "    window_len = 11\n",
    "    s = np.r_[x[window_len-1:0:-1], x, x[-1:-window_len:-1]]\n",
    "    w = np.kaiser(window_len, 2)\n",
    "    y = np.convolve(w/w.sum(), s, mode='valid')\n",
    "    return y[5:len(y)-5]"
   ]
  },
  {
   "cell_type": "code",
   "execution_count": 110,
   "id": "5157bf90",
   "metadata": {},
   "outputs": [
    {
     "name": "stdout",
     "output_type": "stream",
     "text": [
      "===========iteration:0===========\n",
      "SGD:2.311662734630048\n",
      "Momentum:2.3716283018941295\n",
      "AdaGrad:2.2208593071222156\n",
      "Adam:2.175024281759965\n",
      "===========iteration:100===========\n",
      "SGD:1.6470885490372973\n",
      "Momentum:0.4470334158923053\n",
      "AdaGrad:0.2261960696793332\n",
      "Adam:0.34136444013949907\n",
      "===========iteration:200===========\n",
      "SGD:0.8421017626943341\n",
      "Momentum:0.20239158946078137\n",
      "AdaGrad:0.10852650299142208\n",
      "Adam:0.211245656832963\n",
      "===========iteration:300===========\n",
      "SGD:0.554013440968788\n",
      "Momentum:0.1910216859721129\n",
      "AdaGrad:0.11177511500552675\n",
      "Adam:0.20789179872367194\n",
      "===========iteration:400===========\n",
      "SGD:0.34572559699894534\n",
      "Momentum:0.1287404996798069\n",
      "AdaGrad:0.09702678952170066\n",
      "Adam:0.11772003975231325\n",
      "===========iteration:500===========\n",
      "SGD:0.5191554330313176\n",
      "Momentum:0.21041703257209116\n",
      "AdaGrad:0.09506820839293917\n",
      "Adam:0.1389098618269369\n",
      "===========iteration:600===========\n",
      "SGD:0.3451116520193199\n",
      "Momentum:0.13585173874125972\n",
      "AdaGrad:0.05381503581097388\n",
      "Adam:0.0646988931778746\n",
      "===========iteration:700===========\n",
      "SGD:0.3241265344689419\n",
      "Momentum:0.12185114411426584\n",
      "AdaGrad:0.05474658729717656\n",
      "Adam:0.058456367308954475\n",
      "===========iteration:800===========\n",
      "SGD:0.3080070713972789\n",
      "Momentum:0.06613337650649809\n",
      "AdaGrad:0.03779400060337654\n",
      "Adam:0.06875316495917642\n",
      "===========iteration:900===========\n",
      "SGD:0.2422784858127337\n",
      "Momentum:0.07976544912687933\n",
      "AdaGrad:0.038224147988501295\n",
      "Adam:0.0480426054306404\n",
      "===========iteration:1000===========\n",
      "SGD:0.279266582646853\n",
      "Momentum:0.10462614428648043\n",
      "AdaGrad:0.04738178563550498\n",
      "Adam:0.07320465154326072\n",
      "===========iteration:1100===========\n",
      "SGD:0.3154257258395623\n",
      "Momentum:0.08696537651701232\n",
      "AdaGrad:0.056405175858692584\n",
      "Adam:0.0607983378613222\n",
      "===========iteration:1200===========\n",
      "SGD:0.36156860633559296\n",
      "Momentum:0.14732798288296214\n",
      "AdaGrad:0.030447331413445293\n",
      "Adam:0.08886012973589019\n",
      "===========iteration:1300===========\n",
      "SGD:0.417634162414886\n",
      "Momentum:0.19097326937520978\n",
      "AdaGrad:0.0675924404540112\n",
      "Adam:0.15015400142214613\n",
      "===========iteration:1400===========\n",
      "SGD:0.247222915535472\n",
      "Momentum:0.049089675548872294\n",
      "AdaGrad:0.041680233934099926\n",
      "Adam:0.04667352555962689\n",
      "===========iteration:1500===========\n",
      "SGD:0.1527499834102427\n",
      "Momentum:0.0709727048642187\n",
      "AdaGrad:0.0424318892763048\n",
      "Adam:0.05335340883005707\n",
      "===========iteration:1600===========\n",
      "SGD:0.2775024600357836\n",
      "Momentum:0.05839101641054188\n",
      "AdaGrad:0.02833285723798619\n",
      "Adam:0.0302848244569592\n",
      "===========iteration:1700===========\n",
      "SGD:0.20847010578427894\n",
      "Momentum:0.08283424319287995\n",
      "AdaGrad:0.02246767904928044\n",
      "Adam:0.06340753178090201\n",
      "===========iteration:1800===========\n",
      "SGD:0.29052836729270887\n",
      "Momentum:0.051762857827914274\n",
      "AdaGrad:0.018665173941864763\n",
      "Adam:0.04037944405457812\n",
      "===========iteration:1900===========\n",
      "SGD:0.2697303620791766\n",
      "Momentum:0.09066668603048336\n",
      "AdaGrad:0.019926782646355168\n",
      "Adam:0.06698793333955212\n"
     ]
    },
    {
     "data": {
      "image/png": "[encoded data removed]",
      "text/plain": [
       "<Figure size 432x288 with 1 Axes>"
      ]
     },
     "metadata": {
      "needs_background": "light"
     },
     "output_type": "display_data"
    }
   ],
   "source": [
    "# import os\n",
    "# import sys\n",
    "# sys.path.append(os.pardir)  # 부모 디렉터리의 파일을 가져올 수 있도록 설정\n",
    "# import matplotlib.pyplot as plt\n",
    "# from dataset.mnist import load_mnist\n",
    "# from common.util import smooth_curve\n",
    "# from common.multi_layer_net import MultiLayerNet\n",
    "# from common.optimizer import *\n",
    "\n",
    "\n",
    "# 0. MNIST 데이터 읽기==========\n",
    "(x_train, t_train), (x_test, t_test) = load_mnist(normalize=True)\n",
    "\n",
    "train_size = x_train.shape[0]\n",
    "batch_size = 128\n",
    "max_iterations = 2000\n",
    "\n",
    "\n",
    "# 1. 실험용 설정==========\n",
    "optimizers = {}\n",
    "optimizers['SGD'] = SGD()\n",
    "optimizers['Momentum'] = Momentum()\n",
    "optimizers['AdaGrad'] = AdaGrad()\n",
    "optimizers['Adam'] = Adam()\n",
    "#optimizers['RMSprop'] = RMSprop()\n",
    "\n",
    "networks = {}\n",
    "train_loss = {}\n",
    "for key in optimizers.keys():\n",
    "    networks[key] = MultiLayerNet(\n",
    "        input_size=784, hidden_size_list=[100, 100, 100, 100],\n",
    "        output_size=10)\n",
    "    train_loss[key] = []    \n",
    "\n",
    "\n",
    "# 2. 훈련 시작==========\n",
    "for i in range(max_iterations):\n",
    "    batch_mask = np.random.choice(train_size, batch_size)\n",
    "    x_batch = x_train[batch_mask]\n",
    "    t_batch = t_train[batch_mask]\n",
    "    \n",
    "    for key in optimizers.keys():\n",
    "        grads = networks[key].gradient(x_batch, t_batch)\n",
    "        optimizers[key].update(networks[key].params, grads)\n",
    "    \n",
    "        loss = networks[key].loss(x_batch, t_batch)\n",
    "        train_loss[key].append(loss)\n",
    "    \n",
    "    if i % 100 == 0:\n",
    "        print( \"===========\" + \"iteration:\" + str(i) + \"===========\")\n",
    "        for key in optimizers.keys():\n",
    "            loss = networks[key].loss(x_batch, t_batch)\n",
    "            print(key + \":\" + str(loss))\n",
    "\n",
    "\n",
    "# 3. 그래프 그리기==========\n",
    "markers = {\"SGD\": \"o\", \"Momentum\": \"x\", \"AdaGrad\": \"s\", \"Adam\": \"D\"}\n",
    "x = np.arange(max_iterations)\n",
    "for key in optimizers.keys():\n",
    "    plt.plot(x, smooth_curve(train_loss[key]), marker=markers[key], markevery=100, label=key)\n",
    "plt.xlabel(\"iterations\")\n",
    "plt.ylabel(\"loss\")\n",
    "plt.ylim(0, 1)\n",
    "plt.legend()\n",
    "plt.show()"
   ]
  },
  {
   "cell_type": "markdown",
   "id": "2a4c947f",
   "metadata": {},
   "source": [
    "## 6.2 가중치의 초깃값\n",
    "\n",
    "가중치의 초깃값은 신경망 학습의 성능을 좌우하기도 한다. 오버피팅을 억제해 성능을 높히는 기법으로는 **가중치 감소**가 있다. 가중치 매개변수를 작아지도록 학습해 오버피팅을 방지하는 기법이다. 그러려면 초깃값도 작게 설정하는 것이 대체로 좋으며, 현재까지는 `0.01*np.random.randn(10,100)`을 사용했다.\n",
    "\n",
    "가중치 초깃값을 0으로 설정하면 비효율적인 이유는 오차역전파법에서 모든 가중치의 값이 똑같이 갱신되기 때문이다. (순전파 때 두 번째 층의 뉴런에 같은 값이 전달되며, 결국 역전파 때 두 번째 층의 가중치가 모두 똑같이 갱신된다.) 즉, *초깃값을 무작위로 설정해야 한다.*\n",
    "\n",
    "가중치의 초깃값은 은닉층 활성화값에 다음과 같은 영향을 미친다 (활성화 함수는 시그모이드, 신경망은 5층을 사용한다)."
   ]
  },
  {
   "cell_type": "code",
   "execution_count": 112,
   "id": "2d1fcd8e",
   "metadata": {},
   "outputs": [],
   "source": [
    "def sigmoid(x):\n",
    "    return 1 / (1 + np.exp(-x))\n",
    "\n",
    "\n",
    "def ReLU(x):\n",
    "    return np.maximum(0, x)\n",
    "\n",
    "\n",
    "def tanh(x):\n",
    "    return np.tanh(x)"
   ]
  },
  {
   "cell_type": "code",
   "execution_count": 113,
   "id": "0103a99a",
   "metadata": {},
   "outputs": [
    {
     "data": {
      "image/png": "[encoded data removed]",
      "text/plain": [
       "<Figure size 432x288 with 5 Axes>"
      ]
     },
     "metadata": {
      "needs_background": "light"
     },
     "output_type": "display_data"
    }
   ],
   "source": [
    "input_data = np.random.randn(1000, 100)  # 1000개의 데이터\n",
    "node_num = 100  # 각 은닉층의 노드(뉴런) 수\n",
    "hidden_layer_size = 5  # 은닉층이 5개\n",
    "activations = {}  # 이곳에 활성화 결과를 저장\n",
    "\n",
    "x = input_data\n",
    "\n",
    "for i in range(hidden_layer_size):\n",
    "    if i != 0:\n",
    "        x = activations[i-1]\n",
    "\n",
    "    # 초깃값을 다양하게 바꿔가며 실험해보자！\n",
    "    w = np.random.randn(node_num, node_num) * 1\n",
    "    # w = np.random.randn(node_num, node_num) * 0.01\n",
    "    # w = np.random.randn(node_num, node_num) * np.sqrt(1.0 / node_num)\n",
    "    # w = np.random.randn(node_num, node_num) * np.sqrt(2.0 / node_num)\n",
    "\n",
    "\n",
    "    a = np.dot(x, w)\n",
    "\n",
    "\n",
    "    # 활성화 함수도 바꿔가며 실험해보자！\n",
    "    z = sigmoid(a)\n",
    "    # z = ReLU(a)\n",
    "    # z = tanh(a)\n",
    "\n",
    "    activations[i] = z\n",
    "\n",
    "# 히스토그램 그리기\n",
    "for i, a in activations.items():\n",
    "    plt.subplot(1, len(activations), i+1)\n",
    "    plt.title(str(i+1) + \"-layer\")\n",
    "    if i != 0: plt.yticks([], [])\n",
    "    # plt.xlim(0.1, 1)\n",
    "    # plt.ylim(0, 7000)\n",
    "    plt.hist(a.flatten(), 30, range=(0,1))\n",
    "plt.show()"
   ]
  },
  {
   "cell_type": "markdown",
   "id": "c35daca4",
   "metadata": {},
   "source": [
    "활성화값들이 0과 1에 치우쳐 있으며, 이는 층이 많을수록 더 빈번히 일어나는 현상이다. 시그모이드 함수는 0이나 1에 가까운 값일수록 미분이 0에 가까워지며, 따라서 역전파의 기울기 값이 점점 작아지다가 사라진다. 이를 **기울기 소실** 문제라고 한다.\n",
    "\n",
    "가중치의 표준편차가 0.01이라면 어떨까?"
   ]
  },
  {
   "cell_type": "code",
   "execution_count": 114,
   "id": "e6503f03",
   "metadata": {},
   "outputs": [
    {
     "data": {
      "image/png": "[encoded data removed]",
      "text/plain": [
       "<Figure size 432x288 with 5 Axes>"
      ]
     },
     "metadata": {
      "needs_background": "light"
     },
     "output_type": "display_data"
    }
   ],
   "source": [
    "input_data = np.random.randn(1000, 100)  # 1000개의 데이터\n",
    "node_num = 100  # 각 은닉층의 노드(뉴런) 수\n",
    "hidden_layer_size = 5  # 은닉층이 5개\n",
    "activations = {}  # 이곳에 활성화 결과를 저장\n",
    "\n",
    "x = input_data\n",
    "\n",
    "for i in range(hidden_layer_size):\n",
    "    if i != 0:\n",
    "        x = activations[i-1]\n",
    "\n",
    "    # 초깃값을 다양하게 바꿔가며 실험해보자！\n",
    "    # w = np.random.randn(node_num, node_num) * 1\n",
    "    w = np.random.randn(node_num, node_num) * 0.01\n",
    "    # w = np.random.randn(node_num, node_num) * np.sqrt(1.0 / node_num)\n",
    "    # w = np.random.randn(node_num, node_num) * np.sqrt(2.0 / node_num)\n",
    "\n",
    "\n",
    "    a = np.dot(x, w)\n",
    "\n",
    "\n",
    "    # 활성화 함수도 바꿔가며 실험해보자！\n",
    "    z = sigmoid(a)\n",
    "    # z = ReLU(a)\n",
    "    # z = tanh(a)\n",
    "\n",
    "    activations[i] = z\n",
    "\n",
    "# 히스토그램 그리기\n",
    "for i, a in activations.items():\n",
    "    plt.subplot(1, len(activations), i+1)\n",
    "    plt.title(str(i+1) + \"-layer\")\n",
    "    if i != 0: plt.yticks([], [])\n",
    "    # plt.xlim(0.1, 1)\n",
    "    # plt.ylim(0, 7000)\n",
    "    plt.hist(a.flatten(), 30, range=(0,1))\n",
    "plt.show()"
   ]
  },
  {
   "cell_type": "markdown",
   "id": "dc7e0c8a",
   "metadata": {},
   "source": [
    "이번에는 기울기 소실 문제가 없지만, 활성화값들이 0.5로 치우쳐져 있기에 **표현력이 제한**된다. 즉, *다수의 뉴런이 거의 같은 값을 출력하기에 뉴런을 여러 개 둔 의미가 없다*.\n",
    "\n",
    "새로운 초깃값으로 **Xavier 초깃값**을 설정한다. 이전 층의 노드 수가 $n$개일 때, 초깃값의 표준편차가 $\\frac{1}{\\sqrt{n}}$의 분포가 되도록 설정한다."
   ]
  },
  {
   "cell_type": "code",
   "execution_count": 115,
   "id": "14f3c6fd",
   "metadata": {},
   "outputs": [
    {
     "data": {
      "image/png": "[encoded data removed]",
      "text/plain": [
       "<Figure size 432x288 with 5 Axes>"
      ]
     },
     "metadata": {
      "needs_background": "light"
     },
     "output_type": "display_data"
    }
   ],
   "source": [
    "input_data = np.random.randn(1000, 100)  # 1000개의 데이터\n",
    "node_num = 100  # 각 은닉층의 노드(뉴런) 수\n",
    "hidden_layer_size = 5  # 은닉층이 5개\n",
    "activations = {}  # 이곳에 활성화 결과를 저장\n",
    "\n",
    "x = input_data\n",
    "\n",
    "for i in range(hidden_layer_size):\n",
    "    if i != 0:\n",
    "        x = activations[i-1]\n",
    "\n",
    "    # 초깃값을 다양하게 바꿔가며 실험해보자！\n",
    "    # w = np.random.randn(node_num, node_num) * 1\n",
    "    # w = np.random.randn(node_num, node_num) * 0.01\n",
    "    w = np.random.randn(node_num, node_num) * np.sqrt(1.0 / node_num)\n",
    "    # w = np.random.randn(node_num, node_num) * np.sqrt(2.0 / node_num)\n",
    "\n",
    "\n",
    "    a = np.dot(x, w)\n",
    "\n",
    "\n",
    "    # 활성화 함수도 바꿔가며 실험해보자！\n",
    "    z = sigmoid(a)\n",
    "    # z = ReLU(a)\n",
    "    # z = tanh(a)\n",
    "\n",
    "    activations[i] = z\n",
    "\n",
    "# 히스토그램 그리기\n",
    "for i, a in activations.items():\n",
    "    plt.subplot(1, len(activations), i+1)\n",
    "    plt.title(str(i+1) + \"-layer\")\n",
    "    if i != 0: plt.yticks([], [])\n",
    "    # plt.xlim(0.1, 1)\n",
    "    # plt.ylim(0, 7000)\n",
    "    plt.hist(a.flatten(), 30, range=(0,1))\n",
    "plt.show()"
   ]
  },
  {
   "cell_type": "markdown",
   "id": "f2f9398a",
   "metadata": {},
   "source": [
    "표현력이 제한되지 않고, 기울기 소실 문제도 없는 것을 볼 수 있다. **Xavier 초깃값은 좌우 대칭의 sigmoid 함수와 tanh 함수를 사용할 때 적당하다**. (좌우 대칭이면 중앙 부근이 선형이기 때문)\n",
    "\n",
    "이번에는 시그모이드 함수 대신 ReLU를 사용할 때 특화된 **He 초깃값**을 알아보자. Xavier 초깃값과 매우 유사하나, 음의 영역이 0이기 때문에 더 넓은 분포를 위해 표준편차가 $\\frac{2}{\\sqrt{n}}$인 정규분포를 사용한다."
   ]
  },
  {
   "cell_type": "code",
   "execution_count": 118,
   "id": "bcdcd5df",
   "metadata": {},
   "outputs": [
    {
     "data": {
      "image/png": "[encoded data removed]",
      "text/plain": [
       "<Figure size 432x288 with 5 Axes>"
      ]
     },
     "metadata": {
      "needs_background": "light"
     },
     "output_type": "display_data"
    }
   ],
   "source": [
    "# 0.01일 때\n",
    "\n",
    "x = input_data\n",
    "\n",
    "for i in range(hidden_layer_size):\n",
    "    if i != 0:\n",
    "        x = activations[i-1]\n",
    "\n",
    "    w = np.random.randn(node_num, node_num) * 0.01\n",
    "    a = np.dot(x, w)\n",
    "    z = ReLU(a)\n",
    "    activations[i] = z\n",
    "\n",
    "# 히스토그램 그리기\n",
    "for i, a in activations.items():\n",
    "    plt.subplot(1, len(activations), i+1)\n",
    "    plt.title(str(i+1) + \"-layer\")\n",
    "    if i != 0: plt.yticks([], [])\n",
    "    # plt.xlim(0.1, 1)\n",
    "    # plt.ylim(0, 7000)\n",
    "    plt.hist(a.flatten(), 30, range=(0,1))\n",
    "plt.show()"
   ]
  },
  {
   "cell_type": "markdown",
   "id": "4d5f22c6",
   "metadata": {},
   "source": [
    "ReLU에 표준편차가 0.01인 정규분포를 가중치 초깃값으로 사용했을 때, 각 층의 활성화값들은 매우 작다. 그렇기에 역전파 때 가중치의 기울기 역시 작아지며, 학습의 효과도 미미하다."
   ]
  },
  {
   "cell_type": "code",
   "execution_count": 119,
   "id": "718c2f3a",
   "metadata": {},
   "outputs": [
    {
     "data": {
      "image/png": "[encoded data removed]",
      "text/plain": [
       "<Figure size 432x288 with 5 Axes>"
      ]
     },
     "metadata": {
      "needs_background": "light"
     },
     "output_type": "display_data"
    }
   ],
   "source": [
    "# Xavier 초깃값일 때\n",
    "\n",
    "x = input_data\n",
    "\n",
    "for i in range(hidden_layer_size):\n",
    "    if i != 0:\n",
    "        x = activations[i-1]\n",
    "\n",
    "    w = np.random.randn(node_num, node_num) * np.sqrt(1.0 / node_num)\n",
    "    a = np.dot(x, w)\n",
    "    z = ReLU(a)\n",
    "    activations[i] = z\n",
    "\n",
    "# 히스토그램 그리기\n",
    "for i, a in activations.items():\n",
    "    plt.subplot(1, len(activations), i+1)\n",
    "    plt.title(str(i+1) + \"-layer\")\n",
    "    if i != 0: plt.yticks([], [])\n",
    "    # plt.xlim(0.1, 1)\n",
    "    # plt.ylim(0, 7000)\n",
    "    plt.hist(a.flatten(), 30, range=(0,1))\n",
    "plt.show()"
   ]
  },
  {
   "cell_type": "markdown",
   "id": "710b55aa",
   "metadata": {},
   "source": [
    "ReLU에 Xavier 초깃값을 가중치 초깃값으로 사용했을 때, 층이 깊어지면서 치우침이 커진다. 층이 더욱 깊어진다면 치우침이 더 커져서 기울기 소실 문제가 일어난다."
   ]
  },
  {
   "cell_type": "code",
   "execution_count": 120,
   "id": "152f233e",
   "metadata": {},
   "outputs": [
    {
     "data": {
      "image/png": "[encoded data removed]",
      "text/plain": [
       "<Figure size 432x288 with 5 Axes>"
      ]
     },
     "metadata": {
      "needs_background": "light"
     },
     "output_type": "display_data"
    }
   ],
   "source": [
    "# He 초깃값일 때\n",
    "\n",
    "x = input_data\n",
    "\n",
    "for i in range(hidden_layer_size):\n",
    "    if i != 0:\n",
    "        x = activations[i-1]\n",
    "\n",
    "    w = np.random.randn(node_num, node_num) * np.sqrt(2.0 / node_num)\n",
    "    a = np.dot(x, w)\n",
    "    z = ReLU(a)\n",
    "    activations[i] = z\n",
    "\n",
    "# 히스토그램 그리기\n",
    "for i, a in activations.items():\n",
    "    plt.subplot(1, len(activations), i+1)\n",
    "    plt.title(str(i+1) + \"-layer\")\n",
    "    if i != 0: plt.yticks([], [])\n",
    "    # plt.xlim(0.1, 1)\n",
    "    # plt.ylim(0, 7000)\n",
    "    plt.hist(a.flatten(), 30, range=(0,1))\n",
    "plt.show()"
   ]
  },
  {
   "cell_type": "markdown",
   "id": "80aeff24",
   "metadata": {},
   "source": [
    "ReLU에 He 초깃값을 가중치 초깃값으로 사용했을 때, 모든 층에서 균일하게 분포되기에 역전파 때도 적절한 값이 나올 것이다.\n",
    "\n",
    "**즉, 활성화 함수로 ReLU를 사용할 때는 He 초깃값을, sigmoid나 tanh 등의 S자 모양 곡선일 때는 Xavier 초깃값을 사용한다.**\n",
    "\n",
    "가중치 초깃값을 비교해보자."
   ]
  },
  {
   "cell_type": "code",
   "execution_count": 122,
   "id": "0dc7b78b",
   "metadata": {},
   "outputs": [
    {
     "name": "stdout",
     "output_type": "stream",
     "text": [
      "===========iteration:0===========\n",
      "std=0.01:2.3024469408350017\n",
      "Xavier:2.3192901818354312\n",
      "He:2.3313814543549563\n",
      "===========iteration:100===========\n",
      "std=0.01:2.301278264986246\n",
      "Xavier:2.2506253007398183\n",
      "He:1.4213979231218365\n",
      "===========iteration:200===========\n",
      "std=0.01:2.301728825463247\n",
      "Xavier:2.108312048682505\n",
      "He:0.9220126167681006\n",
      "===========iteration:300===========\n",
      "std=0.01:2.2996518761175513\n",
      "Xavier:1.8168614451462566\n",
      "He:0.5343547778912875\n",
      "===========iteration:400===========\n",
      "std=0.01:2.3020284423036577\n",
      "Xavier:1.3421372127967004\n",
      "He:0.3527625054057355\n",
      "===========iteration:500===========\n",
      "std=0.01:2.3051487308538774\n",
      "Xavier:1.0247786582471803\n",
      "He:0.3972267643526229\n",
      "===========iteration:600===========\n",
      "std=0.01:2.3024236709985333\n",
      "Xavier:0.7165472399511349\n",
      "He:0.3736940062512244\n",
      "===========iteration:700===========\n",
      "std=0.01:2.3009796595597707\n",
      "Xavier:0.5227898275847741\n",
      "He:0.2687048344487937\n",
      "===========iteration:800===========\n",
      "std=0.01:2.3001116592232056\n",
      "Xavier:0.5222204206811707\n",
      "He:0.3324542911923474\n",
      "===========iteration:900===========\n",
      "std=0.01:2.3027308178795547\n",
      "Xavier:0.525564010069651\n",
      "He:0.34408193707966145\n",
      "===========iteration:1000===========\n",
      "std=0.01:2.3008957464979973\n",
      "Xavier:0.36037845109715455\n",
      "He:0.23676041504676637\n",
      "===========iteration:1100===========\n",
      "std=0.01:2.2970740069800506\n",
      "Xavier:0.3628336839358952\n",
      "He:0.20819518951538352\n",
      "===========iteration:1200===========\n",
      "std=0.01:2.304338722369627\n",
      "Xavier:0.4386942422857012\n",
      "He:0.28183157629482924\n",
      "===========iteration:1300===========\n",
      "std=0.01:2.2947014291394057\n",
      "Xavier:0.361280150512199\n",
      "He:0.15839410196694503\n",
      "===========iteration:1400===========\n",
      "std=0.01:2.3039363271572055\n",
      "Xavier:0.42293958759644124\n",
      "He:0.2969878858010322\n",
      "===========iteration:1500===========\n",
      "std=0.01:2.2996375448565134\n",
      "Xavier:0.2734996186176169\n",
      "He:0.15707337289115963\n",
      "===========iteration:1600===========\n",
      "std=0.01:2.306553529519194\n",
      "Xavier:0.36605066865601815\n",
      "He:0.2680311011914507\n",
      "===========iteration:1700===========\n",
      "std=0.01:2.3093387744154983\n",
      "Xavier:0.19056949609080365\n",
      "He:0.13683148038567117\n",
      "===========iteration:1800===========\n",
      "std=0.01:2.304694177467628\n",
      "Xavier:0.2529556674861417\n",
      "He:0.1712893464176553\n",
      "===========iteration:1900===========\n",
      "std=0.01:2.2991221258553853\n",
      "Xavier:0.22114894488184492\n",
      "He:0.1311592878910387\n"
     ]
    },
    {
     "data": {
      "image/png": "[encoded data removed]",
      "text/plain": [
       "<Figure size 432x288 with 1 Axes>"
      ]
     },
     "metadata": {
      "needs_background": "light"
     },
     "output_type": "display_data"
    }
   ],
   "source": [
    "# 0. MNIST 데이터 읽기==========\n",
    "(x_train, t_train), (x_test, t_test) = load_mnist(normalize=True)\n",
    "\n",
    "train_size = x_train.shape[0]\n",
    "batch_size = 128\n",
    "max_iterations = 2000\n",
    "\n",
    "\n",
    "# 1. 실험용 설정==========\n",
    "weight_init_types = {'std=0.01': 0.01, 'Xavier': 'sigmoid', 'He': 'relu'}\n",
    "optimizer = SGD(lr=0.01)\n",
    "\n",
    "networks = {}\n",
    "train_loss = {}\n",
    "for key, weight_type in weight_init_types.items():\n",
    "    networks[key] = MultiLayerNet(input_size=784, hidden_size_list=[100, 100, 100, 100],\n",
    "                                  output_size=10, weight_init_std=weight_type)\n",
    "    train_loss[key] = []\n",
    "\n",
    "\n",
    "# 2. 훈련 시작==========\n",
    "for i in range(max_iterations):\n",
    "    batch_mask = np.random.choice(train_size, batch_size)\n",
    "    x_batch = x_train[batch_mask]\n",
    "    t_batch = t_train[batch_mask]\n",
    "    \n",
    "    for key in weight_init_types.keys():\n",
    "        grads = networks[key].gradient(x_batch, t_batch)\n",
    "        optimizer.update(networks[key].params, grads)\n",
    "    \n",
    "        loss = networks[key].loss(x_batch, t_batch)\n",
    "        train_loss[key].append(loss)\n",
    "    \n",
    "    if i % 100 == 0:\n",
    "        print(\"===========\" + \"iteration:\" + str(i) + \"===========\")\n",
    "        for key in weight_init_types.keys():\n",
    "            loss = networks[key].loss(x_batch, t_batch)\n",
    "            print(key + \":\" + str(loss))\n",
    "\n",
    "\n",
    "# 3. 그래프 그리기==========\n",
    "markers = {'std=0.01': 'o', 'Xavier': 's', 'He': 'D'}\n",
    "x = np.arange(max_iterations)\n",
    "for key in weight_init_types.keys():\n",
    "    plt.plot(x, smooth_curve(train_loss[key]), marker=markers[key], markevery=100, label=key)\n",
    "plt.xlabel(\"iterations\")\n",
    "plt.ylabel(\"loss\")\n",
    "plt.ylim(0, 2.5)\n",
    "plt.legend()\n",
    "plt.show()"
   ]
  },
  {
   "cell_type": "markdown",
   "id": "912fae74",
   "metadata": {},
   "source": [
    "`std=0.01`의 경우 학습이 전혀 이뤄지지 않으며, 나머지 두 개의 초깃값의 경우 학습이 잘 이뤄진다. 진도는 He 초깃값 쪽이 조금 더 빠르다."
   ]
  },
  {
   "cell_type": "markdown",
   "id": "b36dcb47",
   "metadata": {},
   "source": [
    "## 6.3 배치 정규화\n",
    "\n",
    "**배치 정규화**는 각 층에서의 활성화값이 적당히 분포되도록 조정하는 것이다. 다음과 같은 이점이 있다.\n",
    "\n",
    "1. 학습을 빨리 진행할 수 있다 (속도 개선).\n",
    "2. 초깃값에 크게 의존하지 않는다.\n",
    "3. 오버피팅을 억제한다 (드롭아웃 등의 필요성 감소)."
   ]
  },
  {
   "cell_type": "markdown",
   "id": "a50f326b",
   "metadata": {},
   "source": [
    "<div>\n",
    "<img src=\"fig6.7.jpg\" width=\"700\"/>\n",
    "</div>"
   ]
  },
  {
   "cell_type": "markdown",
   "id": "c18be853",
   "metadata": {},
   "source": [
    "배치 정규화는 그림처럼 학습 시 미니배치를 단위로 정규화($N\\sim(0,1)$)한다.\n",
    "\n",
    "수식으로는 아래와 같이 표현한다."
   ]
  },
  {
   "cell_type": "markdown",
   "id": "aa59e7cc",
   "metadata": {},
   "source": [
    "<div>\n",
    "<img src=\"equ6.4.jpg\" width=\"500\"/>\n",
    "</div>"
   ]
  },
  {
   "cell_type": "markdown",
   "id": "f28a47ad",
   "metadata": {},
   "source": [
    "미니배치 $B={x_1, x_2, ..., x_m}$는 $m$개의 입력 데이터의 집합이며, 이에 대한 평균 $\\mu_B$와 분산 $\\sigma^2_B$를 구한 후 $N\\sim(0,1)$으로 정규화한다. $\\epsilon$은 division by 0 error를 막기 위한 작은 수 (`10e-7`, etc.)다.\n",
    "\n",
    "또한, 배치 정규화 계층마다 이 정규화된 데이터에 고유한 확대와 이동 변환을 수행한다."
   ]
  },
  {
   "cell_type": "markdown",
   "id": "9f69c18c",
   "metadata": {},
   "source": [
    "<div>\n",
    "<img src=\"equ6.5.jpg\" width=\"300\"/>\n",
    "</div>"
   ]
  },
  {
   "cell_type": "markdown",
   "id": "3854b7fe",
   "metadata": {},
   "source": [
    "$\\gamma$가 확대를, $\\beta$가 이동을 담당한다. 초깃값은 $\\gamma=1, \\beta=0$이다.\n",
    "\n",
    "계산 그래프는 다음과 같이 나타낸다."
   ]
  },
  {
   "cell_type": "markdown",
   "id": "0a01ac82",
   "metadata": {},
   "source": [
    "<div>\n",
    "<img src=\"fig6.8.jpg\" width=\"700\"/>\n",
    "</div>"
   ]
  },
  {
   "cell_type": "code",
   "execution_count": 38,
   "id": "d864fc3c",
   "metadata": {},
   "outputs": [],
   "source": [
    "# 준비 코드\n",
    "class MultiLayerNetExtend:\n",
    "    \"\"\"완전 연결 다층 신경망(확장판)\n",
    "    가중치 감소, 드롭아웃, 배치 정규화 구현\n",
    "    Parameters\n",
    "    ----------\n",
    "    input_size : 입력 크기（MNIST의 경우엔 784）\n",
    "    hidden_size_list : 각 은닉층의 뉴런 수를 담은 리스트（e.g. [100, 100, 100]）\n",
    "    output_size : 출력 크기（MNIST의 경우엔 10）\n",
    "    activation : 활성화 함수 - 'relu' 혹은 'sigmoid'\n",
    "    weight_init_std : 가중치의 표준편차 지정（e.g. 0.01）\n",
    "        'relu'나 'he'로 지정하면 'He 초깃값'으로 설정\n",
    "        'sigmoid'나 'xavier'로 지정하면 'Xavier 초깃값'으로 설정\n",
    "    weight_decay_lambda : 가중치 감소(L2 법칙)의 세기\n",
    "    use_dropout : 드롭아웃 사용 여부\n",
    "    dropout_ration : 드롭아웃 비율\n",
    "    use_batchNorm : 배치 정규화 사용 여부\n",
    "    \"\"\"\n",
    "    def __init__(self, input_size, hidden_size_list, output_size,\n",
    "                 activation='relu', weight_init_std='relu', weight_decay_lambda=0, \n",
    "                 use_dropout = False, dropout_ration = 0.5, use_batchnorm=False):\n",
    "        self.input_size = input_size\n",
    "        self.output_size = output_size\n",
    "        self.hidden_size_list = hidden_size_list\n",
    "        self.hidden_layer_num = len(hidden_size_list)\n",
    "        self.use_dropout = use_dropout\n",
    "        self.weight_decay_lambda = weight_decay_lambda\n",
    "        self.use_batchnorm = use_batchnorm\n",
    "        self.params = {}\n",
    "\n",
    "        # 가중치 초기화\n",
    "        self.__init_weight(weight_init_std)\n",
    "\n",
    "        # 계층 생성\n",
    "        activation_layer = {'sigmoid': Sigmoid, 'relu': Relu}\n",
    "        self.layers = OrderedDict()\n",
    "        for idx in range(1, self.hidden_layer_num+1):\n",
    "            self.layers['Affine' + str(idx)] = Affine(self.params['W' + str(idx)],\n",
    "                                                      self.params['b' + str(idx)])\n",
    "            if self.use_batchnorm:\n",
    "                self.params['gamma' + str(idx)] = np.ones(hidden_size_list[idx-1])\n",
    "                self.params['beta' + str(idx)] = np.zeros(hidden_size_list[idx-1])\n",
    "                self.layers['BatchNorm' + str(idx)] = BatchNormalization(self.params['gamma' + str(idx)], self.params['beta' + str(idx)])\n",
    "                \n",
    "            self.layers['Activation_function' + str(idx)] = activation_layer[activation]()\n",
    "            \n",
    "            if self.use_dropout:\n",
    "                self.layers['Dropout' + str(idx)] = Dropout(dropout_ration)\n",
    "\n",
    "        idx = self.hidden_layer_num + 1\n",
    "        self.layers['Affine' + str(idx)] = Affine(self.params['W' + str(idx)], self.params['b' + str(idx)])\n",
    "\n",
    "        self.last_layer = SoftmaxWithLoss()\n",
    "\n",
    "    def __init_weight(self, weight_init_std):\n",
    "        \"\"\"가중치 초기화\n",
    "        \n",
    "        Parameters\n",
    "        ----------\n",
    "        weight_init_std : 가중치의 표준편차 지정（e.g. 0.01）\n",
    "            'relu'나 'he'로 지정하면 'He 초깃값'으로 설정\n",
    "            'sigmoid'나 'xavier'로 지정하면 'Xavier 초깃값'으로 설정\n",
    "        \"\"\"\n",
    "        all_size_list = [self.input_size] + self.hidden_size_list + [self.output_size]\n",
    "        for idx in range(1, len(all_size_list)):\n",
    "            scale = weight_init_std\n",
    "            if str(weight_init_std).lower() in ('relu', 'he'):\n",
    "                scale = np.sqrt(2.0 / all_size_list[idx - 1])  # ReLUを使う場合に推奨される初期値\n",
    "            elif str(weight_init_std).lower() in ('sigmoid', 'xavier'):\n",
    "                scale = np.sqrt(1.0 / all_size_list[idx - 1])  # sigmoidを使う場合に推奨される初期値\n",
    "            self.params['W' + str(idx)] = scale * np.random.randn(all_size_list[idx-1], all_size_list[idx])\n",
    "            self.params['b' + str(idx)] = np.zeros(all_size_list[idx])\n",
    "\n",
    "    def predict(self, x, train_flg=False):\n",
    "        for key, layer in self.layers.items():\n",
    "            if \"Dropout\" in key or \"BatchNorm\" in key:\n",
    "                x = layer.forward(x, train_flg)\n",
    "            else:\n",
    "                x = layer.forward(x)\n",
    "\n",
    "        return x\n",
    "\n",
    "    def loss(self, x, t, train_flg=False):\n",
    "        \"\"\"손실 함수를 구한다.\n",
    "        \n",
    "        Parameters\n",
    "        ----------\n",
    "        x : 입력 데이터\n",
    "        t : 정답 레이블 \n",
    "        \"\"\"\n",
    "        y = self.predict(x, train_flg)\n",
    "\n",
    "        weight_decay = 0\n",
    "        for idx in range(1, self.hidden_layer_num + 2):\n",
    "            W = self.params['W' + str(idx)]\n",
    "            weight_decay += 0.5 * self.weight_decay_lambda * np.sum(W**2)\n",
    "\n",
    "        return self.last_layer.forward(y, t) + weight_decay\n",
    "\n",
    "    def accuracy(self, X, T):\n",
    "        Y = self.predict(X, train_flg=False)\n",
    "        Y = np.argmax(Y, axis=1)\n",
    "        if T.ndim != 1 : T = np.argmax(T, axis=1)\n",
    "\n",
    "        accuracy = np.sum(Y == T) / float(X.shape[0])\n",
    "        return accuracy\n",
    "\n",
    "    def numerical_gradient(self, X, T):\n",
    "        \"\"\"기울기를 구한다(수치 미분).\n",
    "        \n",
    "        Parameters\n",
    "        ----------\n",
    "        x : 입력 데이터\n",
    "        t : 정답 레이블\n",
    "        \n",
    "        Returns\n",
    "        -------\n",
    "        각 층의 기울기를 담은 사전(dictionary) 변수\n",
    "            grads['W1']、grads['W2']、... 각 층의 가중치\n",
    "            grads['b1']、grads['b2']、... 각 층의 편향\n",
    "        \"\"\"\n",
    "        loss_W = lambda W: self.loss(X, T, train_flg=True)\n",
    "\n",
    "        grads = {}\n",
    "        for idx in range(1, self.hidden_layer_num+2):\n",
    "            grads['W' + str(idx)] = numerical_gradient(loss_W, self.params['W' + str(idx)])\n",
    "            grads['b' + str(idx)] = numerical_gradient(loss_W, self.params['b' + str(idx)])\n",
    "            \n",
    "            if self.use_batchnorm and idx != self.hidden_layer_num+1:\n",
    "                grads['gamma' + str(idx)] = numerical_gradient(loss_W, self.params['gamma' + str(idx)])\n",
    "                grads['beta' + str(idx)] = numerical_gradient(loss_W, self.params['beta' + str(idx)])\n",
    "\n",
    "        return grads\n",
    "        \n",
    "    def gradient(self, x, t):\n",
    "        # forward\n",
    "        self.loss(x, t, train_flg=True)\n",
    "\n",
    "        # backward\n",
    "        dout = 1\n",
    "        dout = self.last_layer.backward(dout)\n",
    "\n",
    "        layers = list(self.layers.values())\n",
    "        layers.reverse()\n",
    "        for layer in layers:\n",
    "            dout = layer.backward(dout)\n",
    "\n",
    "        # 결과 저장\n",
    "        grads = {}\n",
    "        for idx in range(1, self.hidden_layer_num+2):\n",
    "            grads['W' + str(idx)] = self.layers['Affine' + str(idx)].dW + self.weight_decay_lambda * self.params['W' + str(idx)]\n",
    "            grads['b' + str(idx)] = self.layers['Affine' + str(idx)].db\n",
    "\n",
    "            if self.use_batchnorm and idx != self.hidden_layer_num+1:\n",
    "                grads['gamma' + str(idx)] = self.layers['BatchNorm' + str(idx)].dgamma\n",
    "                grads['beta' + str(idx)] = self.layers['BatchNorm' + str(idx)].dbeta\n",
    "\n",
    "        return grads\n",
    "\n",
    "    \n",
    "class BatchNormalization:\n",
    "    \"\"\"\n",
    "    http://arxiv.org/abs/1502.03167\n",
    "    \"\"\"\n",
    "    def __init__(self, gamma, beta, momentum=0.9, running_mean=None, running_var=None):\n",
    "        self.gamma = gamma\n",
    "        self.beta = beta\n",
    "        self.momentum = momentum\n",
    "        self.input_shape = None # 합성곱 계층은 4차원, 완전연결 계층은 2차원  \n",
    "\n",
    "        # 시험할 때 사용할 평균과 분산\n",
    "        self.running_mean = running_mean\n",
    "        self.running_var = running_var  \n",
    "        \n",
    "        # backward 시에 사용할 중간 데이터\n",
    "        self.batch_size = None\n",
    "        self.xc = None\n",
    "        self.std = None\n",
    "        self.dgamma = None\n",
    "        self.dbeta = None\n",
    "\n",
    "    def forward(self, x, train_flg=True):\n",
    "        self.input_shape = x.shape\n",
    "        if x.ndim != 2:\n",
    "            N, C, H, W = x.shape\n",
    "            x = x.reshape(N, -1)\n",
    "\n",
    "        out = self.__forward(x, train_flg)\n",
    "        \n",
    "        return out.reshape(*self.input_shape)\n",
    "            \n",
    "    def __forward(self, x, train_flg):\n",
    "        if self.running_mean is None:\n",
    "            N, D = x.shape\n",
    "            self.running_mean = np.zeros(D)\n",
    "            self.running_var = np.zeros(D)\n",
    "                        \n",
    "        if train_flg:\n",
    "            mu = x.mean(axis=0)\n",
    "            xc = x - mu\n",
    "            var = np.mean(xc**2, axis=0)\n",
    "            std = np.sqrt(var + 10e-7)\n",
    "            xn = xc / std\n",
    "            \n",
    "            self.batch_size = x.shape[0]\n",
    "            self.xc = xc\n",
    "            self.xn = xn\n",
    "            self.std = std\n",
    "            self.running_mean = self.momentum * self.running_mean + (1-self.momentum) * mu\n",
    "            self.running_var = self.momentum * self.running_var + (1-self.momentum) * var            \n",
    "        else:\n",
    "            xc = x - self.running_mean\n",
    "            xn = xc / ((np.sqrt(self.running_var + 10e-7)))\n",
    "            \n",
    "        out = self.gamma * xn + self.beta \n",
    "        return out\n",
    "\n",
    "    def backward(self, dout):\n",
    "        if dout.ndim != 2:\n",
    "            N, C, H, W = dout.shape\n",
    "            dout = dout.reshape(N, -1)\n",
    "\n",
    "        dx = self.__backward(dout)\n",
    "\n",
    "        dx = dx.reshape(*self.input_shape)\n",
    "        return dx\n",
    "\n",
    "    def __backward(self, dout):\n",
    "        dbeta = dout.sum(axis=0)\n",
    "        dgamma = np.sum(self.xn * dout, axis=0)\n",
    "        dxn = self.gamma * dout\n",
    "        dxc = dxn / self.std\n",
    "        dstd = -np.sum((dxn * self.xc) / (self.std * self.std), axis=0)\n",
    "        dvar = 0.5 * dstd / self.std\n",
    "        dxc += (2.0 / self.batch_size) * self.xc * dvar\n",
    "        dmu = np.sum(dxc, axis=0)\n",
    "        dx = dxc - dmu / self.batch_size\n",
    "        \n",
    "        self.dgamma = dgamma\n",
    "        self.dbeta = dbeta\n",
    "        \n",
    "        return dx"
   ]
  },
  {
   "cell_type": "code",
   "execution_count": 56,
   "id": "4ad8d428",
   "metadata": {},
   "outputs": [
    {
     "data": {
      "image/png": "[encoded data removed]",
      "text/plain": [
       "<Figure size 432x288 with 16 Axes>"
      ]
     },
     "metadata": {
      "needs_background": "light"
     },
     "output_type": "display_data"
    }
   ],
   "source": [
    "from dataset.mnist import load_mnist\n",
    "\n",
    "(x_train, t_train), (x_test, t_test) = load_mnist(normalize=True)\n",
    "\n",
    "# 학습 데이터를 줄임\n",
    "x_train = x_train[:1000]\n",
    "t_train = t_train[:1000]\n",
    "\n",
    "max_epochs = 20\n",
    "train_size = x_train.shape[0]\n",
    "batch_size = 100\n",
    "learning_rate = 0.01\n",
    "\n",
    "\n",
    "def __train(weight_init_std):\n",
    "    bn_network = MultiLayerNetExtend(input_size=784, hidden_size_list=[100, 100, 100, 100, 100], output_size=10, \n",
    "                                    weight_init_std=weight_init_std, use_batchnorm=True)\n",
    "    network = MultiLayerNetExtend(input_size=784, hidden_size_list=[100, 100, 100, 100, 100], output_size=10,\n",
    "                                weight_init_std=weight_init_std)\n",
    "    optimizer = SGD(lr=learning_rate)\n",
    "    \n",
    "    train_acc_list = []\n",
    "    bn_train_acc_list = []\n",
    "    \n",
    "    iter_per_epoch = max(train_size / batch_size, 1)\n",
    "    epoch_cnt = 0\n",
    "    \n",
    "    for i in range(1000000000):\n",
    "        batch_mask = np.random.choice(train_size, batch_size)\n",
    "        x_batch = x_train[batch_mask]\n",
    "        t_batch = t_train[batch_mask]\n",
    "    \n",
    "        for _network in (bn_network, network):\n",
    "            grads = _network.gradient(x_batch, t_batch)\n",
    "            optimizer.update(_network.params, grads)\n",
    "    \n",
    "        if i % iter_per_epoch == 0:\n",
    "            train_acc = network.accuracy(x_train, t_train)\n",
    "            bn_train_acc = bn_network.accuracy(x_train, t_train)\n",
    "            train_acc_list.append(train_acc)\n",
    "            bn_train_acc_list.append(bn_train_acc)\n",
    "    \n",
    "#             print(\"epoch:\" + str(epoch_cnt) + \" | \" + str(train_acc) + \" - \" + str(bn_train_acc))\n",
    "    \n",
    "            epoch_cnt += 1\n",
    "            if epoch_cnt >= max_epochs:\n",
    "                break\n",
    "                \n",
    "    return train_acc_list, bn_train_acc_list\n",
    "\n",
    "\n",
    "# 그래프 그리기==========\n",
    "weight_scale_list = np.logspace(0, -4, num=16)\n",
    "x = np.arange(max_epochs)\n",
    "\n",
    "for i, w in enumerate(weight_scale_list):\n",
    "#     print( \"============== \" + str(i+1) + \"/16\" + \" ==============\")\n",
    "    train_acc_list, bn_train_acc_list = __train(w)\n",
    "    \n",
    "    plt.subplot(4,4,i+1)\n",
    "    plt.title(\"W:\" + str(w))\n",
    "    if i == 15:\n",
    "        plt.plot(x, bn_train_acc_list, label='Batch Normalization', markevery=2)\n",
    "        plt.plot(x, train_acc_list, linestyle = \"--\", label='Normal(without BatchNorm)', markevery=2)\n",
    "    else:\n",
    "        plt.plot(x, bn_train_acc_list, markevery=2)\n",
    "        plt.plot(x, train_acc_list, linestyle=\"--\", markevery=2)\n",
    "\n",
    "    plt.ylim(0, 1.0)\n",
    "    if i % 4:\n",
    "        plt.yticks([])\n",
    "    else:\n",
    "        plt.ylabel(\"accuracy\")\n",
    "    if i < 12:\n",
    "        plt.xticks([])\n",
    "    else:\n",
    "        plt.xlabel(\"epochs\")\n",
    "#     plt.legend(loc='lower right')\n",
    "    \n",
    "plt.show()"
   ]
  },
  {
   "cell_type": "markdown",
   "id": "bf7bd01f",
   "metadata": {},
   "source": [
    "초깃값 분포를 다양하게 시험해 봤을 떄, 배치 정규화를 사용했을 때 학습 진도가 빠른 것으로 나타난다. 배치 정규화를 이용하지 않으면 학습이 전혀 진행되지 않는 case도 존재한다.\n",
    "\n",
    "**배치 정규화를 사용하면 학습이 빨라지며, 가중치 초깃값에 크게 의존하지 않는다**."
   ]
  },
  {
   "cell_type": "markdown",
   "id": "747d14ac",
   "metadata": {},
   "source": [
    "## 6.4 오버피팅 방지\n",
    "\n",
    "매개변수가 많고 표현력이 높은 모델을 다루거나 적은 훈련 데이터를 가졌을 때 오버피팅이 자주 발생한다.\n",
    "\n",
    "오버피팅을 방지하는 방법은 크게 두 가지가 있는데, 그 중 하나는 **가중치 감소**다. 큰 가중치에 대해서 그에 맞는 큰 페널티를 부과해 오버피팅을 억제하는 방법이다."
   ]
  },
  {
   "cell_type": "code",
   "execution_count": 54,
   "id": "7706783f",
   "metadata": {},
   "outputs": [
    {
     "data": {
      "image/png": "[encoded data removed]",
      "text/plain": [
       "<Figure size 432x288 with 1 Axes>"
      ]
     },
     "metadata": {
      "needs_background": "light"
     },
     "output_type": "display_data"
    }
   ],
   "source": [
    "from dataset.mnist import load_mnist\n",
    "from common.multi_layer_net import MultiLayerNet\n",
    "from common.optimizer import SGD\n",
    "\n",
    "(x_train, t_train), (x_test, t_test) = load_mnist(normalize=True)\n",
    "\n",
    "# 오버피팅을 재현하기 위해 학습 데이터 수를 줄임\n",
    "x_train = x_train[:300]\n",
    "t_train = t_train[:300]\n",
    "\n",
    "# weight decay（가중치 감쇠） 설정 =======================\n",
    "#weight_decay_lambda = 0 # weight decay를 사용하지 않을 경우\n",
    "weight_decay_lambda = 0.1\n",
    "# ====================================================\n",
    "\n",
    "network = MultiLayerNet(input_size=784, hidden_size_list=[100, 100, 100, 100, 100, 100], output_size=10,\n",
    "                        weight_decay_lambda=weight_decay_lambda)\n",
    "optimizer = SGD(lr=0.01) # 학습률이 0.01인 SGD로 매개변수 갱신\n",
    "\n",
    "max_epochs = 201\n",
    "train_size = x_train.shape[0]\n",
    "batch_size = 100\n",
    "\n",
    "train_loss_list = []\n",
    "train_acc_list = []\n",
    "test_acc_list = []\n",
    "\n",
    "iter_per_epoch = max(train_size / batch_size, 1)\n",
    "epoch_cnt = 0\n",
    "\n",
    "for i in range(1000000000):\n",
    "    batch_mask = np.random.choice(train_size, batch_size)\n",
    "    x_batch = x_train[batch_mask]\n",
    "    t_batch = t_train[batch_mask]\n",
    "\n",
    "    grads = network.gradient(x_batch, t_batch)\n",
    "    optimizer.update(network.params, grads)\n",
    "\n",
    "    if i % iter_per_epoch == 0:\n",
    "        train_acc = network.accuracy(x_train, t_train)\n",
    "        test_acc = network.accuracy(x_test, t_test)\n",
    "        train_acc_list.append(train_acc)\n",
    "        test_acc_list.append(test_acc)\n",
    "\n",
    "#         print(\"epoch:\" + str(epoch_cnt) + \", train acc:\" + str(train_acc) + \", test acc:\" + str(test_acc))\n",
    "\n",
    "        epoch_cnt += 1\n",
    "        if epoch_cnt >= max_epochs:\n",
    "            break\n",
    "\n",
    "\n",
    "# 그래프 그리기==========\n",
    "markers = {'train': 'o', 'test': 's'}\n",
    "x = np.arange(max_epochs)\n",
    "plt.plot(x, train_acc_list, marker='o', label='train', markevery=10)\n",
    "plt.plot(x, test_acc_list, marker='s', label='test', markevery=10)\n",
    "plt.xlabel(\"epochs\")\n",
    "plt.ylabel(\"accuracy\")\n",
    "plt.ylim(0, 1.0)\n",
    "plt.legend(loc='lower right')\n",
    "plt.show()"
   ]
  },
  {
   "cell_type": "markdown",
   "id": "cafceb8c",
   "metadata": {},
   "source": [
    "L2 정규화를 사용했다. 가중치 감소를 통해 모든 가중치 각각의 손실 함수에 $\\frac{1}{2}\\lambda\\textbf{W}^2$를 더했다. (따라서, 가중치의 기울기를 구하는 계산에서는 그동안의 오차역전파법에 따른 결과에 정규화 항을 미분한 $\\lambda\\textbf{W}$를 더한다.) $\\lambda$ 값이 커질수록 손실 함수에 더하는 값도 커지기 때문에 큰 가중치에 대한 페널티도 커진다. 위 코드에서는 $\\lambda=0.1$을 적용했다.\n",
    "\n",
    "오버피팅을 방지하는 또다른 방법은 **드롭아웃**이다. 가중치 감소의 경우, 신경망 모델이 복잡해질 경우 오버피팅을 완벽히 억제하지는 못한다. 드롭아웃은 훈련 때 임의로 은닉층의 뉴런을 무작위로 골라 삭제한다. 뉴런이 삭제되면 신호를 전달하지 않는다. 다만, 시험 때는 삭제하지 않고 모든 뉴런에 신호를 보내며, 각 뉴런의 출력에 훈련 때 삭제한 비율을 곱하여 출력한다."
   ]
  },
  {
   "cell_type": "markdown",
   "id": "47c090d8",
   "metadata": {},
   "source": [
    "<div>\n",
    "<img src=\"fig6.9.jpg\" width=\"700\"/>\n",
    "</div>"
   ]
  },
  {
   "cell_type": "code",
   "execution_count": 48,
   "id": "25936345",
   "metadata": {},
   "outputs": [],
   "source": [
    "class Dropout:\n",
    "    def __init__(self, dropout_ratio=0.5):\n",
    "        self.dropout_ratio = dropout_ratio\n",
    "        self.mask = None\n",
    "        \n",
    "    def forward(self, x, train_flg=True):\n",
    "        if train_flg:\n",
    "            # 삭제하면 False로 표시\n",
    "            self.mask = np.random.rand(*x.shape) > self.dropout_ratio\n",
    "            return x * self.mask\n",
    "        else:\n",
    "            return x * (1.0 - self.dropout_ratio)\n",
    "    \n",
    "    def backward(self, dout):\n",
    "        # 순전파 때 통과시키지 않은 뉴런은 역전차 때도 신호 차단\n",
    "        return dout * self.mask"
   ]
  },
  {
   "cell_type": "code",
   "execution_count": 49,
   "id": "6daac43b",
   "metadata": {},
   "outputs": [
    {
     "name": "stdout",
     "output_type": "stream",
     "text": [
      "train loss:2.3186823827943512\n",
      "=== epoch:1, train acc:0.15333333333333332, test acc:0.1366 ===\n",
      "train loss:2.331023868554309\n",
      "train loss:2.317613907175263\n",
      "train loss:2.3149365357357867\n",
      "=== epoch:2, train acc:0.15333333333333332, test acc:0.1397 ===\n",
      "train loss:2.333955338431596\n",
      "train loss:2.3301109462366343\n",
      "train loss:2.3290281203840935\n",
      "=== epoch:3, train acc:0.15666666666666668, test acc:0.1391 ===\n",
      "train loss:2.3363180118890665\n",
      "train loss:2.3195725507641898\n",
      "train loss:2.3193529913160726\n",
      "=== epoch:4, train acc:0.16, test acc:0.1416 ===\n",
      "train loss:2.3034800233229715\n",
      "train loss:2.3236030815553925\n",
      "train loss:2.323860586552898\n",
      "=== epoch:5, train acc:0.15333333333333332, test acc:0.1428 ===\n",
      "train loss:2.3200373652459074\n",
      "train loss:2.3003637562594474\n",
      "train loss:2.3225059504434875\n",
      "=== epoch:6, train acc:0.15333333333333332, test acc:0.1426 ===\n",
      "train loss:2.3101043229278146\n",
      "train loss:2.3105502109733798\n",
      "train loss:2.2977789475788755\n",
      "=== epoch:7, train acc:0.15333333333333332, test acc:0.1408 ===\n",
      "train loss:2.3094512895228916\n",
      "train loss:2.3139226345689115\n",
      "train loss:2.3262955314470424\n",
      "=== epoch:8, train acc:0.16333333333333333, test acc:0.1419 ===\n",
      "train loss:2.3184690946356543\n",
      "train loss:2.2978779856258402\n",
      "train loss:2.297598176709646\n",
      "=== epoch:9, train acc:0.16333333333333333, test acc:0.142 ===\n",
      "train loss:2.299545904699817\n",
      "train loss:2.3097716361928264\n",
      "train loss:2.3181708878510032\n",
      "=== epoch:10, train acc:0.16666666666666666, test acc:0.1431 ===\n",
      "train loss:2.30375052782913\n",
      "train loss:2.3065603804907737\n",
      "train loss:2.3055912847003777\n",
      "=== epoch:11, train acc:0.18, test acc:0.145 ===\n",
      "train loss:2.309314152017023\n",
      "train loss:2.316299247398357\n",
      "train loss:2.2955897862222683\n",
      "=== epoch:12, train acc:0.18, test acc:0.1447 ===\n",
      "train loss:2.3055376438867756\n",
      "train loss:2.3064450134365115\n",
      "train loss:2.301593746785638\n",
      "=== epoch:13, train acc:0.17666666666666667, test acc:0.145 ===\n",
      "train loss:2.3025338759453517\n",
      "train loss:2.312389349062456\n",
      "train loss:2.3137440368905446\n",
      "=== epoch:14, train acc:0.17666666666666667, test acc:0.145 ===\n",
      "train loss:2.3054420439818113\n",
      "train loss:2.297089413782576\n",
      "train loss:2.3030346030302735\n",
      "=== epoch:15, train acc:0.17333333333333334, test acc:0.142 ===\n",
      "train loss:2.3150639295849755\n",
      "train loss:2.291547564056761\n",
      "train loss:2.2963656048719527\n",
      "=== epoch:16, train acc:0.18, test acc:0.1424 ===\n",
      "train loss:2.2996035561290515\n",
      "train loss:2.2916043537672572\n",
      "train loss:2.310690655162247\n",
      "=== epoch:17, train acc:0.18666666666666668, test acc:0.1436 ===\n",
      "train loss:2.299953475172204\n",
      "train loss:2.29973791154587\n",
      "train loss:2.301385511190579\n",
      "=== epoch:18, train acc:0.18666666666666668, test acc:0.1421 ===\n",
      "train loss:2.301175310971749\n",
      "train loss:2.2873892172186494\n",
      "train loss:2.2870988222867497\n",
      "=== epoch:19, train acc:0.19333333333333333, test acc:0.1435 ===\n",
      "train loss:2.2861484635572866\n",
      "train loss:2.2961181733618137\n",
      "train loss:2.300223080768918\n",
      "=== epoch:20, train acc:0.2, test acc:0.1446 ===\n",
      "train loss:2.292684765549247\n",
      "train loss:2.287569804373599\n",
      "train loss:2.295631298529054\n",
      "=== epoch:21, train acc:0.19666666666666666, test acc:0.1451 ===\n",
      "train loss:2.2939910612736356\n",
      "train loss:2.2932626010954547\n",
      "train loss:2.28477711974162\n",
      "=== epoch:22, train acc:0.19666666666666666, test acc:0.1464 ===\n",
      "train loss:2.287805915422754\n",
      "train loss:2.293091729265126\n",
      "train loss:2.292823050618421\n",
      "=== epoch:23, train acc:0.19666666666666666, test acc:0.147 ===\n",
      "train loss:2.2812574847661087\n",
      "train loss:2.296207015466404\n",
      "train loss:2.297218963219323\n",
      "=== epoch:24, train acc:0.20333333333333334, test acc:0.148 ===\n",
      "train loss:2.2891470511206777\n",
      "train loss:2.2876741037483526\n",
      "train loss:2.2926418923657046\n",
      "=== epoch:25, train acc:0.20333333333333334, test acc:0.148 ===\n",
      "train loss:2.2883349782251887\n",
      "train loss:2.2730109408484833\n",
      "train loss:2.281337683833206\n",
      "=== epoch:26, train acc:0.20333333333333334, test acc:0.1487 ===\n",
      "train loss:2.28477273130985\n",
      "train loss:2.291392188976864\n",
      "train loss:2.2921672365327823\n",
      "=== epoch:27, train acc:0.21333333333333335, test acc:0.1526 ===\n",
      "train loss:2.287090958026208\n",
      "train loss:2.2785427292447893\n",
      "train loss:2.287752063873807\n",
      "=== epoch:28, train acc:0.21, test acc:0.1538 ===\n",
      "train loss:2.287716209529135\n",
      "train loss:2.2821566414244394\n",
      "train loss:2.2760696009460277\n",
      "=== epoch:29, train acc:0.21, test acc:0.1552 ===\n",
      "train loss:2.283833939394059\n",
      "train loss:2.2882749124538937\n",
      "train loss:2.2730534061858223\n",
      "=== epoch:30, train acc:0.21666666666666667, test acc:0.1601 ===\n",
      "train loss:2.285339244088236\n",
      "train loss:2.276528793350677\n",
      "train loss:2.2707586004188975\n",
      "=== epoch:31, train acc:0.22333333333333333, test acc:0.1619 ===\n",
      "train loss:2.2796712448424348\n",
      "train loss:2.2816849890872177\n",
      "train loss:2.274784424781464\n",
      "=== epoch:32, train acc:0.22666666666666666, test acc:0.1596 ===\n",
      "train loss:2.286125253411037\n",
      "train loss:2.2749781745677824\n",
      "train loss:2.2858102898071815\n",
      "=== epoch:33, train acc:0.22666666666666666, test acc:0.1616 ===\n",
      "train loss:2.2708333308537023\n",
      "train loss:2.283490744776603\n",
      "train loss:2.266916222114234\n",
      "=== epoch:34, train acc:0.22666666666666666, test acc:0.1641 ===\n",
      "train loss:2.2887457392160178\n",
      "train loss:2.278523755479393\n",
      "train loss:2.280641201171862\n",
      "=== epoch:35, train acc:0.23333333333333334, test acc:0.1631 ===\n",
      "train loss:2.2789791155417003\n",
      "train loss:2.278022631164837\n",
      "train loss:2.2875688322940078\n",
      "=== epoch:36, train acc:0.23, test acc:0.1667 ===\n",
      "train loss:2.2712727192487883\n",
      "train loss:2.2800434262024036\n",
      "train loss:2.265941054090884\n",
      "=== epoch:37, train acc:0.23, test acc:0.1687 ===\n",
      "train loss:2.264816809422074\n",
      "train loss:2.2712001006025697\n",
      "train loss:2.2711444452010157\n",
      "=== epoch:38, train acc:0.23, test acc:0.1692 ===\n",
      "train loss:2.2686943912867346\n",
      "train loss:2.2755725987940307\n",
      "train loss:2.2720840669868916\n",
      "=== epoch:39, train acc:0.22666666666666666, test acc:0.1729 ===\n",
      "train loss:2.284018001806242\n",
      "train loss:2.269821791542469\n",
      "train loss:2.2541177481217143\n",
      "=== epoch:40, train acc:0.22333333333333333, test acc:0.1726 ===\n",
      "train loss:2.2646857989894444\n",
      "train loss:2.274843227435531\n",
      "train loss:2.256694270082409\n",
      "=== epoch:41, train acc:0.22666666666666666, test acc:0.1732 ===\n",
      "train loss:2.2807546607500857\n",
      "train loss:2.271246932770269\n",
      "train loss:2.267086226224512\n",
      "=== epoch:42, train acc:0.23, test acc:0.1748 ===\n",
      "train loss:2.277180103413433\n",
      "train loss:2.2569057136672903\n",
      "train loss:2.2716094167950422\n",
      "=== epoch:43, train acc:0.23, test acc:0.1767 ===\n",
      "train loss:2.2567576426028113\n",
      "train loss:2.2612720542897353\n",
      "train loss:2.2712709360989267\n",
      "=== epoch:44, train acc:0.23, test acc:0.1776 ===\n",
      "train loss:2.2618434232111566\n",
      "train loss:2.278705860532001\n",
      "train loss:2.2619675422531738\n",
      "=== epoch:45, train acc:0.22666666666666666, test acc:0.1805 ===\n",
      "train loss:2.263935523414433\n",
      "train loss:2.2700673682172963\n",
      "train loss:2.266688599001499\n",
      "=== epoch:46, train acc:0.22666666666666666, test acc:0.1829 ===\n",
      "train loss:2.275671568841382\n",
      "train loss:2.2627219687728113\n",
      "train loss:2.266732088519005\n",
      "=== epoch:47, train acc:0.22333333333333333, test acc:0.1831 ===\n",
      "train loss:2.2739414738860875\n",
      "train loss:2.2684058194340384\n",
      "train loss:2.2653575797053755\n",
      "=== epoch:48, train acc:0.22666666666666666, test acc:0.186 ===\n",
      "train loss:2.2741023947092134\n",
      "train loss:2.261889267730119\n",
      "train loss:2.252494325327115\n",
      "=== epoch:49, train acc:0.23, test acc:0.1884 ===\n",
      "train loss:2.258833685009362\n",
      "train loss:2.2455288996329466\n",
      "train loss:2.2699532472027837\n",
      "=== epoch:50, train acc:0.23, test acc:0.188 ===\n",
      "train loss:2.2504030734864564\n",
      "train loss:2.2579118328027703\n",
      "train loss:2.248005067163709\n",
      "=== epoch:51, train acc:0.22666666666666666, test acc:0.1889 ===\n",
      "train loss:2.2543796853408478\n",
      "train loss:2.251264463750034\n",
      "train loss:2.2700728002066617\n",
      "=== epoch:52, train acc:0.22666666666666666, test acc:0.1894 ===\n",
      "train loss:2.266020110376394\n",
      "train loss:2.261387910754215\n",
      "train loss:2.2673051267542412\n",
      "=== epoch:53, train acc:0.22666666666666666, test acc:0.1902 ===\n",
      "train loss:2.260945971202263\n",
      "train loss:2.2634759895473704\n",
      "train loss:2.2719279287451672\n",
      "=== epoch:54, train acc:0.22666666666666666, test acc:0.1897 ===\n",
      "train loss:2.261668774105671\n",
      "train loss:2.2606368512295476\n",
      "train loss:2.2497921653884676\n",
      "=== epoch:55, train acc:0.22666666666666666, test acc:0.192 ===\n",
      "train loss:2.2414579626972446\n",
      "train loss:2.2638692181312745\n",
      "train loss:2.256379219706552\n",
      "=== epoch:56, train acc:0.23, test acc:0.1954 ===\n"
     ]
    },
    {
     "name": "stdout",
     "output_type": "stream",
     "text": [
      "train loss:2.2705433841373908\n",
      "train loss:2.265974280676176\n",
      "train loss:2.24448978247407\n",
      "=== epoch:57, train acc:0.23, test acc:0.1968 ===\n",
      "train loss:2.255019356892162\n",
      "train loss:2.2398249825652945\n",
      "train loss:2.256582352379029\n",
      "=== epoch:58, train acc:0.23333333333333334, test acc:0.1976 ===\n",
      "train loss:2.2734037275679237\n",
      "train loss:2.261561914556548\n",
      "train loss:2.2516835012776704\n",
      "=== epoch:59, train acc:0.23666666666666666, test acc:0.199 ===\n",
      "train loss:2.2437651389545237\n",
      "train loss:2.24724829134536\n",
      "train loss:2.259098922888323\n",
      "=== epoch:60, train acc:0.23666666666666666, test acc:0.199 ===\n",
      "train loss:2.2522967009426993\n",
      "train loss:2.245267154188129\n",
      "train loss:2.2395807618657293\n",
      "=== epoch:61, train acc:0.23666666666666666, test acc:0.1998 ===\n",
      "train loss:2.2337059336585527\n",
      "train loss:2.2312131407070406\n",
      "train loss:2.254669835079854\n",
      "=== epoch:62, train acc:0.24, test acc:0.2015 ===\n",
      "train loss:2.242652268432237\n",
      "train loss:2.264192820363621\n",
      "train loss:2.256266992930157\n",
      "=== epoch:63, train acc:0.23666666666666666, test acc:0.2016 ===\n",
      "train loss:2.2483823382970076\n",
      "train loss:2.257733928366598\n",
      "train loss:2.233818288384635\n",
      "=== epoch:64, train acc:0.24333333333333335, test acc:0.2021 ===\n",
      "train loss:2.224569596869179\n",
      "train loss:2.238837478714348\n",
      "train loss:2.2586509800253443\n",
      "=== epoch:65, train acc:0.23666666666666666, test acc:0.2023 ===\n",
      "train loss:2.2553066089527984\n",
      "train loss:2.252842921710383\n",
      "train loss:2.2305126266232436\n",
      "=== epoch:66, train acc:0.24333333333333335, test acc:0.2026 ===\n",
      "train loss:2.2536876443227847\n",
      "train loss:2.240592536458347\n",
      "train loss:2.2621759332006017\n",
      "=== epoch:67, train acc:0.24, test acc:0.2029 ===\n",
      "train loss:2.26911236938887\n",
      "train loss:2.2301872302208583\n",
      "train loss:2.246411483945765\n",
      "=== epoch:68, train acc:0.24666666666666667, test acc:0.2031 ===\n",
      "train loss:2.2463079295727106\n",
      "train loss:2.2428691752153136\n",
      "train loss:2.248775539002078\n",
      "=== epoch:69, train acc:0.24666666666666667, test acc:0.205 ===\n",
      "train loss:2.249634354090658\n",
      "train loss:2.217645577138012\n",
      "train loss:2.2529828795845392\n",
      "=== epoch:70, train acc:0.24666666666666667, test acc:0.2057 ===\n",
      "train loss:2.246323702718406\n",
      "train loss:2.2399110455852935\n",
      "train loss:2.245576397787843\n",
      "=== epoch:71, train acc:0.24333333333333335, test acc:0.2052 ===\n",
      "train loss:2.2477092847951767\n",
      "train loss:2.2401083464156817\n",
      "train loss:2.233204433556363\n",
      "=== epoch:72, train acc:0.24666666666666667, test acc:0.2034 ===\n",
      "train loss:2.2298801283868808\n",
      "train loss:2.245727820793082\n",
      "train loss:2.2323601268903417\n",
      "=== epoch:73, train acc:0.24666666666666667, test acc:0.2056 ===\n",
      "train loss:2.23504813826241\n",
      "train loss:2.251542798065182\n",
      "train loss:2.247567715546196\n",
      "=== epoch:74, train acc:0.25, test acc:0.2066 ===\n",
      "train loss:2.241184172075986\n",
      "train loss:2.241999811827619\n",
      "train loss:2.2195239130071016\n",
      "=== epoch:75, train acc:0.25, test acc:0.2061 ===\n",
      "train loss:2.24757174509769\n",
      "train loss:2.236553493922322\n",
      "train loss:2.2486405826855913\n",
      "=== epoch:76, train acc:0.25333333333333335, test acc:0.2079 ===\n",
      "train loss:2.2467769977342193\n",
      "train loss:2.2526607257565043\n",
      "train loss:2.2136398043033854\n",
      "=== epoch:77, train acc:0.25333333333333335, test acc:0.2086 ===\n",
      "train loss:2.2249276363904595\n",
      "train loss:2.269536513109401\n",
      "train loss:2.2417844444159725\n",
      "=== epoch:78, train acc:0.25333333333333335, test acc:0.2081 ===\n",
      "train loss:2.2196354131414764\n",
      "train loss:2.2302472638368065\n",
      "train loss:2.2352943846248525\n",
      "=== epoch:79, train acc:0.25333333333333335, test acc:0.2069 ===\n",
      "train loss:2.2328465124695724\n",
      "train loss:2.2103816892728094\n",
      "train loss:2.2406836460882924\n",
      "=== epoch:80, train acc:0.25666666666666665, test acc:0.2079 ===\n",
      "train loss:2.221586625916958\n",
      "train loss:2.229095161838214\n",
      "train loss:2.243021134832996\n",
      "=== epoch:81, train acc:0.25333333333333335, test acc:0.2075 ===\n",
      "train loss:2.2488794475081075\n",
      "train loss:2.2274580920769367\n",
      "train loss:2.228462130927169\n",
      "=== epoch:82, train acc:0.25666666666666665, test acc:0.2111 ===\n",
      "train loss:2.2463108289215343\n",
      "train loss:2.214410700086993\n",
      "train loss:2.2507881198569697\n",
      "=== epoch:83, train acc:0.25333333333333335, test acc:0.2103 ===\n",
      "train loss:2.221788798888461\n",
      "train loss:2.2143304151043033\n",
      "train loss:2.237785031933213\n",
      "=== epoch:84, train acc:0.25333333333333335, test acc:0.2124 ===\n",
      "train loss:2.2019186586379607\n",
      "train loss:2.2117829294887534\n",
      "train loss:2.241816405952269\n",
      "=== epoch:85, train acc:0.25666666666666665, test acc:0.2115 ===\n",
      "train loss:2.228489347621081\n",
      "train loss:2.2196317857477608\n",
      "train loss:2.2075074909878456\n",
      "=== epoch:86, train acc:0.26666666666666666, test acc:0.2148 ===\n",
      "train loss:2.236964264458007\n",
      "train loss:2.2285940469227983\n",
      "train loss:2.204205765626327\n",
      "=== epoch:87, train acc:0.26666666666666666, test acc:0.2145 ===\n",
      "train loss:2.216382424008911\n",
      "train loss:2.249503361622225\n",
      "train loss:2.218309228984103\n",
      "=== epoch:88, train acc:0.26666666666666666, test acc:0.2168 ===\n",
      "train loss:2.20332243310413\n",
      "train loss:2.213447853615093\n",
      "train loss:2.2409495760559444\n",
      "=== epoch:89, train acc:0.27, test acc:0.2185 ===\n",
      "train loss:2.2201225654565993\n",
      "train loss:2.201449496256335\n",
      "train loss:2.2107745651006367\n",
      "=== epoch:90, train acc:0.2733333333333333, test acc:0.2191 ===\n",
      "train loss:2.2190911635956256\n",
      "train loss:2.2089669279542012\n",
      "train loss:2.2172273161586187\n",
      "=== epoch:91, train acc:0.2733333333333333, test acc:0.2198 ===\n",
      "train loss:2.2147907066947705\n",
      "train loss:2.185356459018747\n",
      "train loss:2.2211076172060533\n",
      "=== epoch:92, train acc:0.27, test acc:0.2188 ===\n",
      "train loss:2.1996368301360523\n",
      "train loss:2.188472465452951\n",
      "train loss:2.2336146085165685\n",
      "=== epoch:93, train acc:0.2733333333333333, test acc:0.2198 ===\n",
      "train loss:2.225686397110496\n",
      "train loss:2.227375122870047\n",
      "train loss:2.211695260492404\n",
      "=== epoch:94, train acc:0.26666666666666666, test acc:0.2192 ===\n",
      "train loss:2.1995896218292854\n",
      "train loss:2.2067415333715292\n",
      "train loss:2.2124076907835986\n",
      "=== epoch:95, train acc:0.27, test acc:0.2199 ===\n",
      "train loss:2.19200212166266\n",
      "train loss:2.2218401609128757\n",
      "train loss:2.1955241213225833\n",
      "=== epoch:96, train acc:0.27, test acc:0.2215 ===\n",
      "train loss:2.2205250425007637\n",
      "train loss:2.1702822806864757\n",
      "train loss:2.19019097929596\n",
      "=== epoch:97, train acc:0.27666666666666667, test acc:0.2233 ===\n",
      "train loss:2.177161318337787\n",
      "train loss:2.226969618203415\n",
      "train loss:2.1985067026088556\n",
      "=== epoch:98, train acc:0.2733333333333333, test acc:0.2241 ===\n",
      "train loss:2.2044856169047673\n",
      "train loss:2.1937252538375756\n",
      "train loss:2.197050881105866\n",
      "=== epoch:99, train acc:0.2833333333333333, test acc:0.2283 ===\n",
      "train loss:2.217498237831982\n",
      "train loss:2.2072859632404214\n",
      "train loss:2.216530689520002\n",
      "=== epoch:100, train acc:0.28, test acc:0.2299 ===\n",
      "train loss:2.234338059721328\n",
      "train loss:2.2083051837301335\n",
      "train loss:2.1977956817538167\n",
      "=== epoch:101, train acc:0.28, test acc:0.2314 ===\n",
      "train loss:2.169270610904685\n",
      "train loss:2.1898367505964793\n",
      "train loss:2.1940298043725313\n",
      "=== epoch:102, train acc:0.28, test acc:0.2316 ===\n",
      "train loss:2.1386199281041955\n",
      "train loss:2.2005525661457552\n",
      "train loss:2.1916091778842954\n",
      "=== epoch:103, train acc:0.28, test acc:0.2307 ===\n",
      "train loss:2.1697942532432486\n",
      "train loss:2.2305509312620604\n",
      "train loss:2.210474905136305\n",
      "=== epoch:104, train acc:0.28, test acc:0.2319 ===\n",
      "train loss:2.1950317281916814\n",
      "train loss:2.1929576692641675\n",
      "train loss:2.1801679300083308\n",
      "=== epoch:105, train acc:0.2866666666666667, test acc:0.2338 ===\n",
      "train loss:2.191339167627641\n",
      "train loss:2.173279857908112\n",
      "train loss:2.1873336402595003\n",
      "=== epoch:106, train acc:0.29, test acc:0.2362 ===\n",
      "train loss:2.193194638484153\n",
      "train loss:2.1818043865148997\n",
      "train loss:2.159570112231182\n",
      "=== epoch:107, train acc:0.29, test acc:0.2372 ===\n",
      "train loss:2.1829339638949925\n",
      "train loss:2.1777921663710034\n",
      "train loss:2.193199037988764\n",
      "=== epoch:108, train acc:0.29333333333333333, test acc:0.2374 ===\n",
      "train loss:2.185481045020227\n",
      "train loss:2.1681203989981235\n",
      "train loss:2.1706202566765076\n",
      "=== epoch:109, train acc:0.29333333333333333, test acc:0.2365 ===\n",
      "train loss:2.161330664533408\n",
      "train loss:2.183532254455024\n",
      "train loss:2.161515881165364\n",
      "=== epoch:110, train acc:0.29333333333333333, test acc:0.2362 ===\n",
      "train loss:2.1960557009011867\n",
      "train loss:2.2032145020844767\n",
      "train loss:2.1966147723174307\n",
      "=== epoch:111, train acc:0.29333333333333333, test acc:0.2425 ===\n",
      "train loss:2.1711210725803407\n",
      "train loss:2.201822217810762\n",
      "train loss:2.203459342717583\n"
     ]
    },
    {
     "name": "stdout",
     "output_type": "stream",
     "text": [
      "=== epoch:112, train acc:0.29333333333333333, test acc:0.2423 ===\n",
      "train loss:2.205372460318065\n",
      "train loss:2.1998726245922278\n",
      "train loss:2.1728929285539866\n",
      "=== epoch:113, train acc:0.2966666666666667, test acc:0.2437 ===\n",
      "train loss:2.1824491021775025\n",
      "train loss:2.187366444482012\n",
      "train loss:2.1909862118812757\n",
      "=== epoch:114, train acc:0.2966666666666667, test acc:0.2454 ===\n",
      "train loss:2.1676083884443123\n",
      "train loss:2.179415722310384\n",
      "train loss:2.209681324864432\n",
      "=== epoch:115, train acc:0.2966666666666667, test acc:0.2461 ===\n",
      "train loss:2.169575958240136\n",
      "train loss:2.20261870061036\n",
      "train loss:2.1497142002357204\n",
      "=== epoch:116, train acc:0.30333333333333334, test acc:0.2518 ===\n",
      "train loss:2.1845957441639494\n",
      "train loss:2.1696457233885655\n",
      "train loss:2.169570831360298\n",
      "=== epoch:117, train acc:0.3, test acc:0.2546 ===\n",
      "train loss:2.212292053805221\n",
      "train loss:2.1754893372371287\n",
      "train loss:2.1575529327702427\n",
      "=== epoch:118, train acc:0.30333333333333334, test acc:0.2565 ===\n",
      "train loss:2.1681107072069947\n",
      "train loss:2.11789047733513\n",
      "train loss:2.1755681554950383\n",
      "=== epoch:119, train acc:0.30333333333333334, test acc:0.2585 ===\n",
      "train loss:2.2229151782615286\n",
      "train loss:2.1517462218816723\n",
      "train loss:2.171427496277276\n",
      "=== epoch:120, train acc:0.30333333333333334, test acc:0.2602 ===\n",
      "train loss:2.201701745489938\n",
      "train loss:2.133918119663403\n",
      "train loss:2.1314355704986236\n",
      "=== epoch:121, train acc:0.3, test acc:0.2593 ===\n",
      "train loss:2.147320196564753\n",
      "train loss:2.173354945037582\n",
      "train loss:2.1258580030634304\n",
      "=== epoch:122, train acc:0.30333333333333334, test acc:0.2574 ===\n",
      "train loss:2.1897931567191504\n",
      "train loss:2.1506818787352846\n",
      "train loss:2.070727288970757\n",
      "=== epoch:123, train acc:0.2966666666666667, test acc:0.2546 ===\n",
      "train loss:2.155976384433285\n",
      "train loss:2.1370489258270102\n",
      "train loss:2.192577558563237\n",
      "=== epoch:124, train acc:0.30333333333333334, test acc:0.2565 ===\n",
      "train loss:2.1288651181766602\n",
      "train loss:2.1600539526895046\n",
      "train loss:2.1566309452821346\n",
      "=== epoch:125, train acc:0.3, test acc:0.2565 ===\n",
      "train loss:2.1693569324075543\n",
      "train loss:2.19332502563976\n",
      "train loss:2.146559227781607\n",
      "=== epoch:126, train acc:0.30333333333333334, test acc:0.2594 ===\n",
      "train loss:2.168538292670858\n",
      "train loss:2.1787754507863695\n",
      "train loss:2.168328062622213\n",
      "=== epoch:127, train acc:0.30666666666666664, test acc:0.2608 ===\n",
      "train loss:2.1300527230892423\n",
      "train loss:2.1663671089078522\n",
      "train loss:2.1534279082433185\n",
      "=== epoch:128, train acc:0.30666666666666664, test acc:0.2619 ===\n",
      "train loss:2.1358579106188276\n",
      "train loss:2.1364733248281267\n",
      "train loss:2.1099613337548666\n",
      "=== epoch:129, train acc:0.30333333333333334, test acc:0.2627 ===\n",
      "train loss:2.1314502974776532\n",
      "train loss:2.1420926544091086\n",
      "train loss:2.168763100751407\n",
      "=== epoch:130, train acc:0.30666666666666664, test acc:0.2645 ===\n",
      "train loss:2.159325276998491\n",
      "train loss:2.137969488602136\n",
      "train loss:2.1839698008034056\n",
      "=== epoch:131, train acc:0.30666666666666664, test acc:0.2617 ===\n",
      "train loss:2.1341330883572645\n",
      "train loss:2.1392508903307816\n",
      "train loss:2.160112794013669\n",
      "=== epoch:132, train acc:0.30333333333333334, test acc:0.2636 ===\n",
      "train loss:2.158701548504304\n",
      "train loss:2.1622745952739955\n",
      "train loss:2.1370200580416836\n",
      "=== epoch:133, train acc:0.30333333333333334, test acc:0.272 ===\n",
      "train loss:2.1498228807800013\n",
      "train loss:2.110857291434821\n",
      "train loss:2.117942056783921\n",
      "=== epoch:134, train acc:0.31333333333333335, test acc:0.2731 ===\n",
      "train loss:2.055995049999056\n",
      "train loss:2.142193685057534\n",
      "train loss:2.103646262156664\n",
      "=== epoch:135, train acc:0.31, test acc:0.2716 ===\n",
      "train loss:2.0898728886469766\n",
      "train loss:2.109929424585463\n",
      "train loss:2.032025985986998\n",
      "=== epoch:136, train acc:0.3, test acc:0.2723 ===\n",
      "train loss:2.1137422350495454\n",
      "train loss:2.1287624346049503\n",
      "train loss:2.1553947023313436\n",
      "=== epoch:137, train acc:0.3, test acc:0.2728 ===\n",
      "train loss:2.145544254132624\n",
      "train loss:2.0375258067994406\n",
      "train loss:2.1351051755049237\n",
      "=== epoch:138, train acc:0.3, test acc:0.2742 ===\n",
      "train loss:2.056070565626635\n",
      "train loss:2.0812511932240776\n",
      "train loss:2.1573139890721604\n",
      "=== epoch:139, train acc:0.30666666666666664, test acc:0.2745 ===\n",
      "train loss:2.1790135306280156\n",
      "train loss:2.0928935796498753\n",
      "train loss:2.1122394218382725\n",
      "=== epoch:140, train acc:0.31333333333333335, test acc:0.2772 ===\n",
      "train loss:2.1137828303890607\n",
      "train loss:2.1161165692284034\n",
      "train loss:2.115105341552176\n",
      "=== epoch:141, train acc:0.31, test acc:0.2756 ===\n",
      "train loss:2.0737239370995884\n",
      "train loss:2.114911513092023\n",
      "train loss:2.19732297976999\n",
      "=== epoch:142, train acc:0.31333333333333335, test acc:0.2782 ===\n",
      "train loss:2.107214923871977\n",
      "train loss:2.12848652260699\n",
      "train loss:2.0950695895342686\n",
      "=== epoch:143, train acc:0.31666666666666665, test acc:0.2789 ===\n",
      "train loss:2.1127020038455298\n",
      "train loss:2.117491984104226\n",
      "train loss:2.103596247588942\n",
      "=== epoch:144, train acc:0.31333333333333335, test acc:0.2791 ===\n",
      "train loss:2.11176560092105\n",
      "train loss:2.1078961019691476\n",
      "train loss:2.0683733348666133\n",
      "=== epoch:145, train acc:0.31333333333333335, test acc:0.282 ===\n",
      "train loss:2.04152255082847\n",
      "train loss:2.0365482355634685\n",
      "train loss:2.0532849410813387\n",
      "=== epoch:146, train acc:0.31333333333333335, test acc:0.2813 ===\n",
      "train loss:2.0825118367571673\n",
      "train loss:2.028925697866344\n",
      "train loss:2.099993909690717\n",
      "=== epoch:147, train acc:0.31333333333333335, test acc:0.2817 ===\n",
      "train loss:2.136456928199313\n",
      "train loss:2.044818391180552\n",
      "train loss:2.0835401617982394\n",
      "=== epoch:148, train acc:0.32, test acc:0.284 ===\n",
      "train loss:2.0242314433675235\n",
      "train loss:2.1074432941665457\n",
      "train loss:2.0548752006095246\n",
      "=== epoch:149, train acc:0.31333333333333335, test acc:0.2827 ===\n",
      "train loss:2.0747718040658545\n",
      "train loss:2.0599520706002177\n",
      "train loss:2.0413895097475843\n",
      "=== epoch:150, train acc:0.31666666666666665, test acc:0.2833 ===\n",
      "train loss:2.0261086532522303\n",
      "train loss:2.083398838835364\n",
      "train loss:2.05096003486903\n",
      "=== epoch:151, train acc:0.32, test acc:0.2848 ===\n",
      "train loss:2.0181704052318947\n",
      "train loss:2.0338759679174805\n",
      "train loss:2.025770896737724\n",
      "=== epoch:152, train acc:0.31666666666666665, test acc:0.2828 ===\n",
      "train loss:2.128053402815527\n",
      "train loss:2.0433708037364884\n",
      "train loss:2.045280437467075\n",
      "=== epoch:153, train acc:0.32, test acc:0.2851 ===\n",
      "train loss:2.0479976005573035\n",
      "train loss:2.038198422063426\n",
      "train loss:2.0603019818594124\n",
      "=== epoch:154, train acc:0.31666666666666665, test acc:0.2819 ===\n",
      "train loss:2.0769220784129163\n",
      "train loss:2.092456738946491\n",
      "train loss:2.068004570191812\n",
      "=== epoch:155, train acc:0.3233333333333333, test acc:0.2824 ===\n",
      "train loss:1.9249356366207424\n",
      "train loss:2.024440028300563\n",
      "train loss:2.0781015526604754\n",
      "=== epoch:156, train acc:0.32666666666666666, test acc:0.2826 ===\n",
      "train loss:1.9975573615484903\n",
      "train loss:2.0348287043609368\n",
      "train loss:2.0572616981445595\n",
      "=== epoch:157, train acc:0.32666666666666666, test acc:0.284 ===\n",
      "train loss:2.0707353287842154\n",
      "train loss:2.039314006479337\n",
      "train loss:1.9702767286096474\n",
      "=== epoch:158, train acc:0.32666666666666666, test acc:0.2844 ===\n",
      "train loss:2.0558578024461878\n",
      "train loss:1.998903364250705\n",
      "train loss:2.045890631645525\n",
      "=== epoch:159, train acc:0.33, test acc:0.2874 ===\n",
      "train loss:1.9714888481101585\n",
      "train loss:2.0764082126766787\n",
      "train loss:2.0260165005202917\n",
      "=== epoch:160, train acc:0.33, test acc:0.2872 ===\n",
      "train loss:2.0668022489122357\n",
      "train loss:1.9413215281040133\n",
      "train loss:2.0601991151884045\n",
      "=== epoch:161, train acc:0.3333333333333333, test acc:0.2905 ===\n",
      "train loss:2.0494882722295933\n",
      "train loss:2.0793090972955026\n",
      "train loss:2.0496542533711435\n",
      "=== epoch:162, train acc:0.3333333333333333, test acc:0.2916 ===\n",
      "train loss:2.0371705883171893\n",
      "train loss:2.0451714899938556\n",
      "train loss:2.0551795651975784\n",
      "=== epoch:163, train acc:0.34, test acc:0.2941 ===\n",
      "train loss:1.9661665848507783\n",
      "train loss:2.0003495764270287\n",
      "train loss:2.0243223472131735\n",
      "=== epoch:164, train acc:0.34, test acc:0.2943 ===\n",
      "train loss:1.985992332709901\n",
      "train loss:2.0115378817973593\n",
      "train loss:2.0395186239291534\n",
      "=== epoch:165, train acc:0.3433333333333333, test acc:0.2933 ===\n",
      "train loss:2.0213264705897234\n",
      "train loss:2.0223031058995655\n",
      "train loss:2.0566598456029195\n",
      "=== epoch:166, train acc:0.34, test acc:0.2933 ===\n",
      "train loss:1.9789726260101839\n",
      "train loss:1.980483767246426\n"
     ]
    },
    {
     "name": "stdout",
     "output_type": "stream",
     "text": [
      "train loss:2.026818977473867\n",
      "=== epoch:167, train acc:0.34, test acc:0.2955 ===\n",
      "train loss:2.0561660331267797\n",
      "train loss:1.9439744367501663\n",
      "train loss:2.0152187912150445\n",
      "=== epoch:168, train acc:0.3466666666666667, test acc:0.2991 ===\n",
      "train loss:1.9829813075281677\n",
      "train loss:1.9448603713496158\n",
      "train loss:1.9747006613142748\n",
      "=== epoch:169, train acc:0.35, test acc:0.3003 ===\n",
      "train loss:2.076779197866424\n",
      "train loss:2.0654355791549652\n",
      "train loss:2.0134482928247026\n",
      "=== epoch:170, train acc:0.3566666666666667, test acc:0.303 ===\n",
      "train loss:1.9068823018407275\n",
      "train loss:1.9741130178479809\n",
      "train loss:1.9192955913976035\n",
      "=== epoch:171, train acc:0.35333333333333333, test acc:0.3007 ===\n",
      "train loss:1.9894310908405513\n",
      "train loss:2.0032796643265662\n",
      "train loss:1.9760625163483911\n",
      "=== epoch:172, train acc:0.37, test acc:0.3049 ===\n",
      "train loss:1.9139629288685085\n",
      "train loss:1.9628602257619654\n",
      "train loss:1.9655975764596716\n",
      "=== epoch:173, train acc:0.37666666666666665, test acc:0.3045 ===\n",
      "train loss:2.0449205762364335\n",
      "train loss:1.96844148516828\n",
      "train loss:1.9742134925696786\n",
      "=== epoch:174, train acc:0.38, test acc:0.3068 ===\n",
      "train loss:2.008080085316477\n",
      "train loss:1.9125219397265434\n",
      "train loss:2.025490470935479\n",
      "=== epoch:175, train acc:0.38333333333333336, test acc:0.3084 ===\n",
      "train loss:1.9688982229783547\n",
      "train loss:1.9812686999014633\n",
      "train loss:1.9261624989394774\n",
      "=== epoch:176, train acc:0.38666666666666666, test acc:0.31 ===\n",
      "train loss:1.8818709152540274\n",
      "train loss:2.017497176921548\n",
      "train loss:1.9379908663043564\n",
      "=== epoch:177, train acc:0.38666666666666666, test acc:0.3116 ===\n",
      "train loss:1.9512225521836237\n",
      "train loss:1.9691034275067065\n",
      "train loss:1.9312334020711617\n",
      "=== epoch:178, train acc:0.38666666666666666, test acc:0.3132 ===\n",
      "train loss:1.9396487732874563\n",
      "train loss:1.9745774406077614\n",
      "train loss:1.9658932211202294\n",
      "=== epoch:179, train acc:0.38666666666666666, test acc:0.3135 ===\n",
      "train loss:1.9134848919937708\n",
      "train loss:1.8543258757036325\n",
      "train loss:1.8993174346684114\n",
      "=== epoch:180, train acc:0.38, test acc:0.3126 ===\n",
      "train loss:1.9009814208457418\n",
      "train loss:1.9523428607035083\n",
      "train loss:1.942572842385546\n",
      "=== epoch:181, train acc:0.38333333333333336, test acc:0.3132 ===\n",
      "train loss:1.8386633234765528\n",
      "train loss:1.9857905602557395\n",
      "train loss:1.9319656843818873\n",
      "=== epoch:182, train acc:0.38666666666666666, test acc:0.3153 ===\n",
      "train loss:1.882576922995259\n",
      "train loss:2.064550907882859\n",
      "train loss:1.8940966797758338\n",
      "=== epoch:183, train acc:0.39, test acc:0.318 ===\n",
      "train loss:1.9968696016216902\n",
      "train loss:1.8719766545598597\n",
      "train loss:1.8155856705390396\n",
      "=== epoch:184, train acc:0.38333333333333336, test acc:0.3173 ===\n",
      "train loss:2.025390294793465\n",
      "train loss:1.821731308768172\n",
      "train loss:1.8630759503880938\n",
      "=== epoch:185, train acc:0.38666666666666666, test acc:0.3198 ===\n",
      "train loss:1.8664758413275933\n",
      "train loss:1.8238855028329681\n",
      "train loss:1.8951990568804231\n",
      "=== epoch:186, train acc:0.38666666666666666, test acc:0.3185 ===\n",
      "train loss:1.8618700213508197\n",
      "train loss:1.8169539032977484\n",
      "train loss:1.8973074744277736\n",
      "=== epoch:187, train acc:0.38666666666666666, test acc:0.3197 ===\n",
      "train loss:1.8894812188235588\n",
      "train loss:1.9562359203541766\n",
      "train loss:1.8229420097290834\n",
      "=== epoch:188, train acc:0.39, test acc:0.3211 ===\n",
      "train loss:1.8857686867591807\n",
      "train loss:1.9015109107014538\n",
      "train loss:1.8198713459804543\n",
      "=== epoch:189, train acc:0.38333333333333336, test acc:0.3224 ===\n",
      "train loss:1.9002124568256362\n",
      "train loss:1.8200264177733327\n",
      "train loss:1.9756155554964108\n",
      "=== epoch:190, train acc:0.4, test acc:0.3264 ===\n",
      "train loss:1.850037122909014\n",
      "train loss:1.9163446220431928\n",
      "train loss:1.8870377591618603\n",
      "=== epoch:191, train acc:0.4, test acc:0.3296 ===\n",
      "train loss:1.9405582323929322\n",
      "train loss:1.9453966953524313\n",
      "train loss:1.8645867012499442\n",
      "=== epoch:192, train acc:0.41, test acc:0.3351 ===\n",
      "train loss:1.8380168720861747\n",
      "train loss:1.754973599377329\n",
      "train loss:1.9121971706703866\n",
      "=== epoch:193, train acc:0.41, test acc:0.3363 ===\n",
      "train loss:1.9002430359973945\n",
      "train loss:1.838014659072654\n",
      "train loss:1.8768662528772229\n",
      "=== epoch:194, train acc:0.41333333333333333, test acc:0.3366 ===\n",
      "train loss:1.866395029267614\n",
      "train loss:1.8972596054356732\n",
      "train loss:1.8315000685064768\n",
      "=== epoch:195, train acc:0.41333333333333333, test acc:0.3377 ===\n",
      "train loss:1.8941482863946575\n",
      "train loss:1.9005280511979976\n",
      "train loss:1.9326641709857326\n",
      "=== epoch:196, train acc:0.41333333333333333, test acc:0.3404 ===\n",
      "train loss:1.8963282225920692\n",
      "train loss:1.8738102249764466\n",
      "train loss:1.8656279602057262\n",
      "=== epoch:197, train acc:0.41, test acc:0.3423 ===\n",
      "train loss:1.9095736665852616\n",
      "train loss:1.8071882344237622\n",
      "train loss:1.8334908226255209\n",
      "=== epoch:198, train acc:0.4166666666666667, test acc:0.3449 ===\n",
      "train loss:1.8102551026885356\n",
      "train loss:1.761225160624397\n",
      "train loss:1.8343596245971554\n",
      "=== epoch:199, train acc:0.4166666666666667, test acc:0.3445 ===\n",
      "train loss:1.893502603905334\n",
      "train loss:1.7475833213917835\n",
      "train loss:1.8297773349724138\n",
      "=== epoch:200, train acc:0.42, test acc:0.3453 ===\n",
      "train loss:1.826538352273166\n",
      "train loss:1.7718545952783415\n",
      "train loss:1.8178042404856\n",
      "=== epoch:201, train acc:0.4266666666666667, test acc:0.3462 ===\n",
      "train loss:1.9698602499670645\n",
      "train loss:1.844255532324498\n",
      "train loss:1.845487601065164\n",
      "=== epoch:202, train acc:0.4266666666666667, test acc:0.352 ===\n",
      "train loss:1.834474036940623\n",
      "train loss:1.723403697506616\n",
      "train loss:1.935026348465664\n",
      "=== epoch:203, train acc:0.4266666666666667, test acc:0.3524 ===\n",
      "train loss:1.9573428467655145\n",
      "train loss:1.782137936908743\n",
      "train loss:1.7974347098216803\n",
      "=== epoch:204, train acc:0.43666666666666665, test acc:0.3551 ===\n",
      "train loss:1.8711112184352776\n",
      "train loss:1.83358312167197\n",
      "train loss:1.7709336188254698\n",
      "=== epoch:205, train acc:0.43666666666666665, test acc:0.3572 ===\n",
      "train loss:1.8477495821935315\n",
      "train loss:1.9210821644252403\n",
      "train loss:1.752333217109901\n",
      "=== epoch:206, train acc:0.46, test acc:0.3601 ===\n",
      "train loss:1.8476406982025668\n",
      "train loss:1.8268990871036337\n",
      "train loss:1.7363216087749977\n",
      "=== epoch:207, train acc:0.4633333333333333, test acc:0.3632 ===\n",
      "train loss:1.8048382648987513\n",
      "train loss:1.7985118511280394\n",
      "train loss:1.7262567046630781\n",
      "=== epoch:208, train acc:0.45666666666666667, test acc:0.3641 ===\n",
      "train loss:1.8780530711285137\n",
      "train loss:1.7685500369791316\n",
      "train loss:1.7599068998307223\n",
      "=== epoch:209, train acc:0.4633333333333333, test acc:0.3702 ===\n",
      "train loss:1.7233788462692707\n",
      "train loss:1.876643759069285\n",
      "train loss:1.6297491268495587\n",
      "=== epoch:210, train acc:0.4633333333333333, test acc:0.3718 ===\n",
      "train loss:1.845268768102535\n",
      "train loss:1.7343046977837346\n",
      "train loss:1.7676461079732024\n",
      "=== epoch:211, train acc:0.47, test acc:0.3751 ===\n",
      "train loss:1.6745003571187302\n",
      "train loss:1.7966659103847042\n",
      "train loss:1.6143559108970589\n",
      "=== epoch:212, train acc:0.47, test acc:0.3734 ===\n",
      "train loss:1.7998401061172589\n",
      "train loss:1.7595740106502933\n",
      "train loss:1.743883685560769\n",
      "=== epoch:213, train acc:0.47333333333333333, test acc:0.3735 ===\n",
      "train loss:1.7684888360916582\n",
      "train loss:1.8093141854840133\n",
      "train loss:1.7758851113098393\n",
      "=== epoch:214, train acc:0.47333333333333333, test acc:0.3769 ===\n",
      "train loss:1.7102430721742268\n",
      "train loss:1.6894865928133946\n",
      "train loss:1.6566322424318514\n",
      "=== epoch:215, train acc:0.47333333333333333, test acc:0.3736 ===\n",
      "train loss:1.6386325008265752\n",
      "train loss:1.7841338126763437\n",
      "train loss:1.6728835493969405\n",
      "=== epoch:216, train acc:0.47333333333333333, test acc:0.3746 ===\n",
      "train loss:1.784570970308266\n",
      "train loss:1.757376794689992\n",
      "train loss:1.6685916920739892\n",
      "=== epoch:217, train acc:0.47333333333333333, test acc:0.3775 ===\n",
      "train loss:1.6159504237634963\n",
      "train loss:1.7668069232085386\n",
      "train loss:1.7667550024761065\n",
      "=== epoch:218, train acc:0.4666666666666667, test acc:0.3768 ===\n",
      "train loss:1.7087523904012896\n",
      "train loss:1.759822001252496\n",
      "train loss:1.695820027692257\n",
      "=== epoch:219, train acc:0.47333333333333333, test acc:0.3781 ===\n",
      "train loss:1.7826080421153432\n",
      "train loss:1.7224194976952178\n",
      "train loss:1.733631842657597\n",
      "=== epoch:220, train acc:0.47333333333333333, test acc:0.3816 ===\n",
      "train loss:1.7256260272045028\n",
      "train loss:1.7753206817702414\n",
      "train loss:1.7526235841958573\n",
      "=== epoch:221, train acc:0.4766666666666667, test acc:0.3862 ===\n",
      "train loss:1.7576765600006294\n",
      "train loss:1.8113343819536891\n",
      "train loss:1.6336857793074784\n",
      "=== epoch:222, train acc:0.48, test acc:0.3868 ===\n",
      "train loss:1.675457111727326\n",
      "train loss:1.7320537050359668\n",
      "train loss:1.742112742656143\n"
     ]
    },
    {
     "name": "stdout",
     "output_type": "stream",
     "text": [
      "=== epoch:223, train acc:0.48333333333333334, test acc:0.388 ===\n",
      "train loss:1.7942209719651427\n",
      "train loss:1.6591163419941999\n",
      "train loss:1.6643018116134893\n",
      "=== epoch:224, train acc:0.48333333333333334, test acc:0.3894 ===\n",
      "train loss:1.8785339377545358\n",
      "train loss:1.7361305126955917\n",
      "train loss:1.6128810125700224\n",
      "=== epoch:225, train acc:0.49, test acc:0.3919 ===\n",
      "train loss:1.6896279727233177\n",
      "train loss:1.7523451586433467\n",
      "train loss:1.5841379132991875\n",
      "=== epoch:226, train acc:0.5, test acc:0.3952 ===\n",
      "train loss:1.7541809799220727\n",
      "train loss:1.65158311792135\n",
      "train loss:1.7549674989373143\n",
      "=== epoch:227, train acc:0.49666666666666665, test acc:0.3968 ===\n",
      "train loss:1.6790895248838473\n",
      "train loss:1.7670325903669484\n",
      "train loss:1.8411358126802606\n",
      "=== epoch:228, train acc:0.5, test acc:0.3984 ===\n",
      "train loss:1.6472668614964703\n",
      "train loss:1.6568541766513993\n",
      "train loss:1.7738508335841816\n",
      "=== epoch:229, train acc:0.5066666666666667, test acc:0.4007 ===\n",
      "train loss:1.6923660739106299\n",
      "train loss:1.5864382273230333\n",
      "train loss:1.5724884558935386\n",
      "=== epoch:230, train acc:0.5066666666666667, test acc:0.4005 ===\n",
      "train loss:1.6052854080656676\n",
      "train loss:1.8185006100425936\n",
      "train loss:1.648446866665624\n",
      "=== epoch:231, train acc:0.5133333333333333, test acc:0.4067 ===\n",
      "train loss:1.7043842729878966\n",
      "train loss:1.6496635596438782\n",
      "train loss:1.596347486256695\n",
      "=== epoch:232, train acc:0.5066666666666667, test acc:0.4074 ===\n",
      "train loss:1.6011556637504836\n",
      "train loss:1.5184883111563487\n",
      "train loss:1.6049214326230972\n",
      "=== epoch:233, train acc:0.51, test acc:0.405 ===\n",
      "train loss:1.6732923000039222\n",
      "train loss:1.7809803850196462\n",
      "train loss:1.6895575647501\n",
      "=== epoch:234, train acc:0.5133333333333333, test acc:0.4108 ===\n",
      "train loss:1.734041966954002\n",
      "train loss:1.6163340696079742\n",
      "train loss:1.6491090219568374\n",
      "=== epoch:235, train acc:0.5233333333333333, test acc:0.4142 ===\n",
      "train loss:1.6681347952487482\n",
      "train loss:1.6354895245171748\n",
      "train loss:1.6417493377827501\n",
      "=== epoch:236, train acc:0.5233333333333333, test acc:0.4164 ===\n",
      "train loss:1.7380968204713176\n",
      "train loss:1.7256675856066155\n",
      "train loss:1.7466391055369812\n",
      "=== epoch:237, train acc:0.5266666666666666, test acc:0.4206 ===\n",
      "train loss:1.6959666627030539\n",
      "train loss:1.7594857163080553\n",
      "train loss:1.5848931830327624\n",
      "=== epoch:238, train acc:0.5433333333333333, test acc:0.422 ===\n",
      "train loss:1.6544235705392478\n",
      "train loss:1.6757700417814416\n",
      "train loss:1.6555421874194585\n",
      "=== epoch:239, train acc:0.5433333333333333, test acc:0.4214 ===\n",
      "train loss:1.6776408275311956\n",
      "train loss:1.6861187928597507\n",
      "train loss:1.6643286981808512\n",
      "=== epoch:240, train acc:0.5333333333333333, test acc:0.4255 ===\n",
      "train loss:1.7170045050474214\n",
      "train loss:1.5726748329023206\n",
      "train loss:1.673788605231038\n",
      "=== epoch:241, train acc:0.5366666666666666, test acc:0.4284 ===\n",
      "train loss:1.6254459211536014\n",
      "train loss:1.588882272426257\n",
      "train loss:1.5052573332458976\n",
      "=== epoch:242, train acc:0.5366666666666666, test acc:0.4257 ===\n",
      "train loss:1.5798474334574661\n",
      "train loss:1.6626673938613517\n",
      "train loss:1.4925282886515436\n",
      "=== epoch:243, train acc:0.5433333333333333, test acc:0.4253 ===\n",
      "train loss:1.5921660185907731\n",
      "train loss:1.6670459328525182\n",
      "train loss:1.6762876442346604\n",
      "=== epoch:244, train acc:0.54, test acc:0.4288 ===\n",
      "train loss:1.7301491011610066\n",
      "train loss:1.6445413210737658\n",
      "train loss:1.6530312284686994\n",
      "=== epoch:245, train acc:0.5566666666666666, test acc:0.4342 ===\n",
      "train loss:1.61161780564535\n",
      "train loss:1.649533739054204\n",
      "train loss:1.644281152787317\n",
      "=== epoch:246, train acc:0.5566666666666666, test acc:0.4354 ===\n",
      "train loss:1.7563190911733952\n",
      "train loss:1.5750698476128513\n",
      "train loss:1.6023970171361896\n",
      "=== epoch:247, train acc:0.56, test acc:0.4353 ===\n",
      "train loss:1.73665446570553\n",
      "train loss:1.5286516668003154\n",
      "train loss:1.6340378687614827\n",
      "=== epoch:248, train acc:0.57, test acc:0.4369 ===\n",
      "train loss:1.7276782507741533\n",
      "train loss:1.54327658552327\n",
      "train loss:1.7272427765712308\n",
      "=== epoch:249, train acc:0.58, test acc:0.4439 ===\n",
      "train loss:1.494349778680945\n",
      "train loss:1.621513694668794\n",
      "train loss:1.5925070245086466\n",
      "=== epoch:250, train acc:0.5833333333333334, test acc:0.4452 ===\n",
      "train loss:1.6965983912951677\n",
      "train loss:1.662999112642186\n",
      "train loss:1.7349662729379574\n",
      "=== epoch:251, train acc:0.5966666666666667, test acc:0.4507 ===\n",
      "train loss:1.56574187913459\n",
      "train loss:1.4106574664802434\n",
      "train loss:1.589944639324848\n",
      "=== epoch:252, train acc:0.59, test acc:0.45 ===\n",
      "train loss:1.4899536733757863\n",
      "train loss:1.6624839411446106\n",
      "train loss:1.662624672645701\n",
      "=== epoch:253, train acc:0.6, test acc:0.4504 ===\n",
      "train loss:1.565177031159485\n",
      "train loss:1.550366813782768\n",
      "train loss:1.648687830140019\n",
      "=== epoch:254, train acc:0.6, test acc:0.4517 ===\n",
      "train loss:1.582343463901299\n",
      "train loss:1.5587726343373873\n",
      "train loss:1.5474492582400954\n",
      "=== epoch:255, train acc:0.5966666666666667, test acc:0.4517 ===\n",
      "train loss:1.5321581418784402\n",
      "train loss:1.6657972022449348\n",
      "train loss:1.4237300250239233\n",
      "=== epoch:256, train acc:0.5966666666666667, test acc:0.4541 ===\n",
      "train loss:1.7285088090892466\n",
      "train loss:1.557566007369374\n",
      "train loss:1.5478640171700024\n",
      "=== epoch:257, train acc:0.5966666666666667, test acc:0.4574 ===\n",
      "train loss:1.5015947903901048\n",
      "train loss:1.5701539878429884\n",
      "train loss:1.6201641994664733\n",
      "=== epoch:258, train acc:0.5933333333333334, test acc:0.4579 ===\n",
      "train loss:1.4252973997971725\n",
      "train loss:1.6261155030971937\n",
      "train loss:1.5250098274238773\n",
      "=== epoch:259, train acc:0.6, test acc:0.4568 ===\n",
      "train loss:1.5949467852645096\n",
      "train loss:1.5478747622148625\n",
      "train loss:1.5794111355453015\n",
      "=== epoch:260, train acc:0.6066666666666667, test acc:0.4594 ===\n",
      "train loss:1.6117381171756946\n",
      "train loss:1.4928498935526315\n",
      "train loss:1.4619402957268237\n",
      "=== epoch:261, train acc:0.6033333333333334, test acc:0.4603 ===\n",
      "train loss:1.5016915885744033\n",
      "train loss:1.6395641110983783\n",
      "train loss:1.4225263428334132\n",
      "=== epoch:262, train acc:0.6033333333333334, test acc:0.4606 ===\n",
      "train loss:1.5568009393423672\n",
      "train loss:1.4646836403767218\n",
      "train loss:1.445109716749797\n",
      "=== epoch:263, train acc:0.61, test acc:0.4618 ===\n",
      "train loss:1.4753899275903637\n",
      "train loss:1.4063540631061135\n",
      "train loss:1.5100443579918863\n",
      "=== epoch:264, train acc:0.6166666666666667, test acc:0.4645 ===\n",
      "train loss:1.4563409149621518\n",
      "train loss:1.6454397682655122\n",
      "train loss:1.5889227177427718\n",
      "=== epoch:265, train acc:0.6133333333333333, test acc:0.4674 ===\n",
      "train loss:1.3935150988801563\n",
      "train loss:1.5703438579937774\n",
      "train loss:1.5380779797995465\n",
      "=== epoch:266, train acc:0.6233333333333333, test acc:0.4699 ===\n",
      "train loss:1.4499738791199173\n",
      "train loss:1.5247314957066047\n",
      "train loss:1.5842714263945148\n",
      "=== epoch:267, train acc:0.6166666666666667, test acc:0.4716 ===\n",
      "train loss:1.3851418556471577\n",
      "train loss:1.4716693379203312\n",
      "train loss:1.4525153133348312\n",
      "=== epoch:268, train acc:0.62, test acc:0.472 ===\n",
      "train loss:1.4942974334414438\n",
      "train loss:1.447272663042422\n",
      "train loss:1.525028358860063\n",
      "=== epoch:269, train acc:0.6233333333333333, test acc:0.4768 ===\n",
      "train loss:1.5205406148499419\n",
      "train loss:1.479563164178667\n",
      "train loss:1.5277041063417962\n",
      "=== epoch:270, train acc:0.6266666666666667, test acc:0.4785 ===\n",
      "train loss:1.4750673681911008\n",
      "train loss:1.5297487303366122\n",
      "train loss:1.5428886673194913\n",
      "=== epoch:271, train acc:0.6233333333333333, test acc:0.4829 ===\n",
      "train loss:1.4654480326810562\n",
      "train loss:1.5682221907197529\n",
      "train loss:1.4618676222133862\n",
      "=== epoch:272, train acc:0.63, test acc:0.4861 ===\n",
      "train loss:1.3359182473091582\n",
      "train loss:1.4759412771221228\n",
      "train loss:1.4501653637997953\n",
      "=== epoch:273, train acc:0.6266666666666667, test acc:0.4862 ===\n",
      "train loss:1.3776567763617993\n",
      "train loss:1.599094274474898\n",
      "train loss:1.518858063993553\n",
      "=== epoch:274, train acc:0.6366666666666667, test acc:0.4915 ===\n",
      "train loss:1.6016081337174444\n",
      "train loss:1.4071729064799567\n",
      "train loss:1.4125784414958034\n",
      "=== epoch:275, train acc:0.6333333333333333, test acc:0.4906 ===\n",
      "train loss:1.5198918991658925\n",
      "train loss:1.5220810131494498\n",
      "train loss:1.4851841397713645\n",
      "=== epoch:276, train acc:0.6433333333333333, test acc:0.4941 ===\n",
      "train loss:1.4623442927837869\n",
      "train loss:1.428003334109564\n",
      "train loss:1.396638948628205\n",
      "=== epoch:277, train acc:0.64, test acc:0.4961 ===\n",
      "train loss:1.363004725339408\n",
      "train loss:1.3862573920261962\n",
      "train loss:1.5578837266179915\n",
      "=== epoch:278, train acc:0.64, test acc:0.4964 ===\n",
      "train loss:1.4224601086769604\n",
      "train loss:1.5863729295519968\n",
      "train loss:1.6808311172508152\n"
     ]
    },
    {
     "name": "stdout",
     "output_type": "stream",
     "text": [
      "=== epoch:279, train acc:0.65, test acc:0.5026 ===\n",
      "train loss:1.4204865402234605\n",
      "train loss:1.6027278046218771\n",
      "train loss:1.2375019287343665\n",
      "=== epoch:280, train acc:0.6533333333333333, test acc:0.5049 ===\n",
      "train loss:1.4675085582228704\n",
      "train loss:1.5411628047349293\n",
      "train loss:1.5417513965834733\n",
      "=== epoch:281, train acc:0.6566666666666666, test acc:0.504 ===\n",
      "train loss:1.4495924829796882\n",
      "train loss:1.3460746360336315\n",
      "train loss:1.5308729321223087\n",
      "=== epoch:282, train acc:0.6533333333333333, test acc:0.5034 ===\n",
      "train loss:1.4140564743318325\n",
      "train loss:1.564520236371426\n",
      "train loss:1.4681842111501568\n",
      "=== epoch:283, train acc:0.66, test acc:0.5077 ===\n",
      "train loss:1.2426779183055339\n",
      "train loss:1.4591189865284997\n",
      "train loss:1.5427747456145522\n",
      "=== epoch:284, train acc:0.6566666666666666, test acc:0.5074 ===\n",
      "train loss:1.498644889123066\n",
      "train loss:1.4322196478462226\n",
      "train loss:1.248341641206006\n",
      "=== epoch:285, train acc:0.6566666666666666, test acc:0.5052 ===\n",
      "train loss:1.4100077662665733\n",
      "train loss:1.3184253018004528\n",
      "train loss:1.3512778421220861\n",
      "=== epoch:286, train acc:0.6566666666666666, test acc:0.5059 ===\n",
      "train loss:1.6441074132495979\n",
      "train loss:1.373501514385825\n",
      "train loss:1.4683897649906092\n",
      "=== epoch:287, train acc:0.6566666666666666, test acc:0.5129 ===\n",
      "train loss:1.4428743907744683\n",
      "train loss:1.3458608613478538\n",
      "train loss:1.4755353565977174\n",
      "=== epoch:288, train acc:0.6633333333333333, test acc:0.5166 ===\n",
      "train loss:1.338556159663136\n",
      "train loss:1.4739120408187203\n",
      "train loss:1.5746846113459878\n",
      "=== epoch:289, train acc:0.6633333333333333, test acc:0.5164 ===\n",
      "train loss:1.4295041412477212\n",
      "train loss:1.5874928128239874\n",
      "train loss:1.5782946952823638\n",
      "=== epoch:290, train acc:0.6733333333333333, test acc:0.5176 ===\n",
      "train loss:1.5293060225876887\n",
      "train loss:1.5315791688074336\n",
      "train loss:1.302193735641759\n",
      "=== epoch:291, train acc:0.6766666666666666, test acc:0.5222 ===\n",
      "train loss:1.4739395280420413\n",
      "train loss:1.4836399696239149\n",
      "train loss:1.467986923494729\n",
      "=== epoch:292, train acc:0.68, test acc:0.5231 ===\n",
      "train loss:1.4885763529120655\n",
      "train loss:1.5206044358680189\n",
      "train loss:1.327550691759473\n",
      "=== epoch:293, train acc:0.6766666666666666, test acc:0.5217 ===\n",
      "train loss:1.263262863162408\n",
      "train loss:1.3481371953800774\n",
      "train loss:1.4728126032080087\n",
      "=== epoch:294, train acc:0.6733333333333333, test acc:0.5227 ===\n",
      "train loss:1.361395107474065\n",
      "train loss:1.3439700618245434\n",
      "train loss:1.2624409243263717\n",
      "=== epoch:295, train acc:0.67, test acc:0.5226 ===\n",
      "train loss:1.3839065871836191\n",
      "train loss:1.3847927651304193\n",
      "train loss:1.390145761359262\n",
      "=== epoch:296, train acc:0.67, test acc:0.5226 ===\n",
      "train loss:1.3222212697218587\n",
      "train loss:1.4104932729858024\n",
      "train loss:1.3466237414788753\n",
      "=== epoch:297, train acc:0.6766666666666666, test acc:0.5254 ===\n",
      "train loss:1.3980267129806407\n",
      "train loss:1.398281622261741\n",
      "train loss:1.3637861833790532\n",
      "=== epoch:298, train acc:0.6633333333333333, test acc:0.5294 ===\n",
      "train loss:1.2805529733948442\n",
      "train loss:1.3332422240423347\n",
      "train loss:1.4299840243540836\n",
      "=== epoch:299, train acc:0.68, test acc:0.5362 ===\n",
      "train loss:1.3116266141469828\n",
      "train loss:1.4441828494772875\n",
      "train loss:1.4332818815657087\n",
      "=== epoch:300, train acc:0.6933333333333334, test acc:0.5374 ===\n",
      "train loss:1.3595341003520338\n",
      "train loss:1.476370621338731\n",
      "train loss:1.3884752605551096\n",
      "=== epoch:301, train acc:0.6866666666666666, test acc:0.5407 ===\n",
      "train loss:1.3078058972782998\n",
      "train loss:1.42854174250573\n",
      "=============== Final Test Accuracy ===============\n",
      "test acc:0.5401\n"
     ]
    },
    {
     "data": {
      "image/png": "[encoded data removed]",
      "text/plain": [
       "<Figure size 432x288 with 1 Axes>"
      ]
     },
     "metadata": {
      "needs_background": "light"
     },
     "output_type": "display_data"
    }
   ],
   "source": [
    "from common.multi_layer_net_extend import MultiLayerNetExtend\n",
    "from common.trainer import Trainer\n",
    "\n",
    "(x_train, t_train), (x_test, t_test) = load_mnist(normalize=True)\n",
    "\n",
    "# 오버피팅을 재현하기 위해 학습 데이터 수를 줄임\n",
    "x_train = x_train[:300]\n",
    "t_train = t_train[:300]\n",
    "\n",
    "# 드롭아웃 사용 유무와 비울 설정 ========================\n",
    "use_dropout = True  # 드롭아웃을 쓰지 않을 때는 False\n",
    "dropout_ratio = 0.2\n",
    "# ====================================================\n",
    "\n",
    "network = MultiLayerNetExtend(input_size=784, hidden_size_list=[100, 100, 100, 100, 100, 100],\n",
    "                              output_size=10, use_dropout=use_dropout, dropout_ration=dropout_ratio)\n",
    "trainer = Trainer(network, x_train, t_train, x_test, t_test,\n",
    "                  epochs=301, mini_batch_size=100,\n",
    "                  optimizer='sgd', optimizer_param={'lr': 0.01}, verbose=True)\n",
    "trainer.train()\n",
    "\n",
    "train_acc_list, test_acc_list = trainer.train_acc_list, trainer.test_acc_list\n",
    "\n",
    "# 그래프 그리기==========\n",
    "markers = {'train': 'o', 'test': 's'}\n",
    "x = np.arange(len(train_acc_list))\n",
    "plt.plot(x, train_acc_list, marker='o', label='train', markevery=10)\n",
    "plt.plot(x, test_acc_list, marker='s', label='test', markevery=10)\n",
    "plt.xlabel(\"epochs\")\n",
    "plt.ylabel(\"accuracy\")\n",
    "plt.ylim(0, 1.0)\n",
    "plt.legend(loc='lower right')\n",
    "plt.show()"
   ]
  },
  {
   "cell_type": "markdown",
   "id": "261a5449",
   "metadata": {},
   "source": [
    "드롭아웃을 통해서도 오버피팅을 억제한 것을 볼 수 있다."
   ]
  },
  {
   "cell_type": "markdown",
   "id": "088cc842",
   "metadata": {},
   "source": [
    "## 6.5 하이퍼파라미터 최적화\n",
    "\n",
    "신경망의 대표적 하이퍼파라미터는 각 층의 뉴런 개수, 배치 크기, 매개변수 갱신 시의 학습률, 가중치 감소 등이 있다.\n",
    "\n",
    "하이퍼파라미터 오버피팅을 방지하기 위해 검증 데이터를 사용한다."
   ]
  },
  {
   "cell_type": "code",
   "execution_count": 51,
   "id": "c07d7162",
   "metadata": {},
   "outputs": [],
   "source": [
    "def shuffle_dataset(x, t):\n",
    "    \"\"\"데이터셋을 뒤섞는다.\n",
    "    Parameters\n",
    "    ----------\n",
    "    x : 훈련 데이터\n",
    "    t : 정답 레이블\n",
    "    \n",
    "    Returns\n",
    "    -------\n",
    "    x, t : 뒤섞은 훈련 데이터와 정답 레이블\n",
    "    \"\"\"\n",
    "    permutation = np.random.permutation(x.shape[0])\n",
    "    x = x[permutation,:] if x.ndim == 2 else x[permutation,:,:,:]\n",
    "    t = t[permutation]\n",
    "\n",
    "    return x, t\n",
    "\n",
    "(x_train, t_train), (x_test, t_test) = load_mnist()\n",
    "\n",
    "# shuffle train data\n",
    "x_train, t_train = shuffle_dataset(x_train, t_train)\n",
    "\n",
    "# 20% as validation set\n",
    "validation_rate = 0.20\n",
    "validation_num = int(x_train.shape[0] * validation_rate)\n",
    "\n",
    "x_val = x_train[:validation_num]\n",
    "t_val = t_train[:validation_num]\n",
    "x_train = x_train[validation_num:]\n",
    "t_train = t_train[validation_num:]"
   ]
  },
  {
   "cell_type": "markdown",
   "id": "6dd8e2ad",
   "metadata": {},
   "source": [
    "하이퍼파라미터 최적화의 원리는 **최적 값이 존재하는 범위를 조금씩 줄여가는 것**이다. 대략적인 범위를 설정해 무작위로 샘플링한 값으로 정확도를 평가하며 반복한다. 범위는 주로 로그 스케일(10의 n승 범위)로 설정한다.\n",
    "\n",
    "딥러닝 시 하이퍼파라미터 최적화는 매우 오랜 시간이 걸리므로 학습을 위한 에폭을 작게 설정해 1회 평가에 걸리는 시간을 단축하는 것이 효과적이다.\n",
    "\n",
    "1. 하이퍼파라미터 값의 범위 설정\n",
    "2. 범위 내 하이퍼파라미터 값 무작위 추출\n",
    "3. 샘플링한 값을 사용해 학습 후 검증 데이터로 정확도 평가 (에폭은 작게)\n",
    "4. 2-3단계를 특정 횟수(100회, etc.)동안 반복해 범위 좁게 갱신\n",
    "\n",
    "하이퍼파라미터의 최초 범위는 주로 $[0.001, 1,000]$, 다시 말해 $[10^{-3}, 10^3]$으로 설정해 계산한다. 가중치 감소 계수와 학습률을 조정할 때는 다음과 같이 구현한다."
   ]
  },
  {
   "cell_type": "code",
   "execution_count": 53,
   "id": "a39bf867",
   "metadata": {},
   "outputs": [],
   "source": [
    "weight_decay = 10 ** np.random.uniform(-8, -4)\n",
    "lr = 10 ** np.random.uniform(-6, -2)"
   ]
  },
  {
   "cell_type": "markdown",
   "id": "7b1f4209",
   "metadata": {},
   "source": [
    "위 경우는 가중치 감소 계수를 $[10^{-8}, 10^{-4}]$, 학습률을 $[10^{-6}, 10^{-2}]$로 설정했다.\n",
    "\n",
    "여러 값을 테스트하면 다음과 같은 결과를 볼 수 있다."
   ]
  },
  {
   "cell_type": "markdown",
   "id": "95784f13",
   "metadata": {},
   "source": [
    "<div>\n",
    "<img src=\"fig6.10.jpg\" width=\"700\"/>\n",
    "</div>\n",
    "\n",
    "<div>\n",
    "<img src=\"fig6.11.jpg\" width=\"500\"/>\n",
    "</div>"
   ]
  },
  {
   "cell_type": "markdown",
   "id": "fc7c0575",
   "metadata": {},
   "source": [
    "학습이 잘 진행될 때의 학습률은 $0.001\\sim0.01$, 가중치 감소 계수는 $10^{-8}\\sim10^{-6}$ 정도임을 알 수 있다. 이를 반복해 하이퍼파라미터의 범위를 더욱 줄여 나간다."
   ]
  },
  {
   "cell_type": "markdown",
   "id": "ac06608d",
   "metadata": {},
   "source": [
    "## Takeaways:\n",
    "\n",
    "- 매개변수 갱신 방법에는 SGD 외에도 모멘텀, AdaGrad, Adam 등이 있다.\n",
    "- 가중치 초깃값을 정하는 방법은 올바른 학습을 하는 데 매우 중요하다.\n",
    "- 가중치의 초깃값으로는 Xavier 초깃값과 He 초깃값이 효과적이다.\n",
    "- 배치 정규화를 이용하면 학습을 빠르게 진행할 수 있으며, 초깃값에 영향을 덜 받게 된다.\n",
    "- 오버피팅을 억제하는 정규화 기술로는 가중치 감소와 드롭아웃이 있다.\n",
    "- 하이퍼파라미터 값 탐색은 최적 값이 존재할 법한 범위를 점차 좁히면서 하는 것이 효과적이다."
   ]
  },
  {
   "cell_type": "code",
   "execution_count": null,
   "id": "750385e8",
   "metadata": {},
   "outputs": [],
   "source": []
  }
 ],
 "metadata": {
  "kernelspec": {
   "display_name": "Python 3",
   "language": "python",
   "name": "python3"
  },
  "language_info": {
   "codemirror_mode": {
    "name": "ipython",
    "version": 3
   },
   "file_extension": ".py",
   "mimetype": "text/x-python",
   "name": "python",
   "nbconvert_exporter": "python",
   "pygments_lexer": "ipython3",
   "version": "3.8.8"
  }
 },
 "nbformat": 4,
 "nbformat_minor": 5
}
