{
 "cells": [
  {
   "cell_type": "code",
   "execution_count": 35,
   "id": "6d68c463",
   "metadata": {},
   "outputs": [],
   "source": [
    "import numpy as np\n",
    "import matplotlib.pyplot as plt\n",
    "import sys, os\n",
    "import pickle"
   ]
  },
  {
   "cell_type": "markdown",
   "id": "a8fdf5ec",
   "metadata": {},
   "source": [
    "# 2. 퍼셉트론\n",
    "\n",
    "퍼셉트론은 다수의 신호를 입력으로, 하나의 신호를 출력으로 하는 알고리즘이다. 딥러닝의 기반이 되는 알고리즘이기도 하다. 가중치 $w$를 고려하며, 임계값 $\\theta$를 넘을 때 신호가 1을 출력하고 넘지 않을 때는 0을 출력한다.\n"
   ]
  },
  {
   "cell_type": "markdown",
   "id": "026b8cae",
   "metadata": {},
   "source": [
    "<div>\n",
    "<img src=\"fig2.1.jpg\" width=\"500\"/>\n",
    "</div>"
   ]
  },
  {
   "cell_type": "markdown",
   "id": "b2d7b94e",
   "metadata": {},
   "source": [
    "<div>\n",
    "<img src=\"equ2.1.jpg\" width=\"500\"/>\n",
    "</div>"
   ]
  },
  {
   "cell_type": "markdown",
   "id": "f9c39d8d",
   "metadata": {},
   "source": [
    "## 2.2 단순 논리 회로 (AND, NAND, OR)\n",
    "\n",
    "논리 회로에는 AND, NAND, OR 게이트가 있다. 단순히 이야기하자면, AND는 $y=1$을 조건으로 $x_1$과 $x_2$의 교집합, OR는 합집합, NAND는 AND의 반대 게이트 역할을 한다. 게이트마다 가능한 $w_1$, $w_2$, $\\theta$ 조합은 무한하다.\n",
    "\n",
    "e.g.\n",
    "- AND: $x_1 = 0$, $x_2 = 1$, then $y = 0$\n",
    "- NAND: $x_1 = 1$, $x_2 = 1$, then $y = 0$\n",
    "- OR: $x_1 = 1$, $x_2 = 0$, then $y = 1$"
   ]
  },
  {
   "cell_type": "code",
   "execution_count": 1,
   "id": "8ae131fb",
   "metadata": {},
   "outputs": [
    {
     "name": "stdout",
     "output_type": "stream",
     "text": [
      "0\n",
      "0\n",
      "0\n",
      "1\n"
     ]
    }
   ],
   "source": [
    "# AND gate\n",
    "\n",
    "def AND(x1, x2):\n",
    "    w1, w2, theta = 0.5, 0.5, 0.7\n",
    "    tmp = x1*w1 + x2*w2\n",
    "    if tmp <= theta:\n",
    "        return 0\n",
    "    elif tmp > theta:\n",
    "        return 1\n",
    "    \n",
    "print(AND(0, 0))\n",
    "print(AND(1, 0))\n",
    "print(AND(0, 1))\n",
    "print(AND(1, 1))"
   ]
  },
  {
   "cell_type": "markdown",
   "id": "0c4d210b",
   "metadata": {},
   "source": [
    "<div>\n",
    "<img src=\"equ2.2.jpg\" width=\"500\"/>\n",
    "</div>"
   ]
  },
  {
   "cell_type": "markdown",
   "id": "a771b352",
   "metadata": {},
   "source": [
    "여기서는 임계값 대신 편향 $b$를 사용했다. 입력 신호에 가중치를 곱한 값과 편향을 합하여 0 이상이면 1을, 그렇지 않다면 0을 출력한다."
   ]
  },
  {
   "cell_type": "code",
   "execution_count": 3,
   "id": "9e9a68ad",
   "metadata": {},
   "outputs": [
    {
     "name": "stdout",
     "output_type": "stream",
     "text": [
      "[0.  0.5]\n",
      "0.5\n",
      "-0.19999999999999996\n"
     ]
    }
   ],
   "source": [
    "x = np.array([0, 1])\n",
    "w = np.array([0.5, 0.5])\n",
    "b = -0.7\n",
    "\n",
    "print(w*x)\n",
    "print(np.sum(w*x))\n",
    "print(np.sum(w*x)+b)"
   ]
  },
  {
   "cell_type": "markdown",
   "id": "0448f89d",
   "metadata": {},
   "source": [
    "**가중치 $w$는 입력 신호가 결과에 주는 영향력을 조절**하는 매개변수고, **편향 $b$는 뉴런이 얼마나 쉽게 활성화(1 출력)되는지 조정**하는 매개변수다."
   ]
  },
  {
   "cell_type": "code",
   "execution_count": 11,
   "id": "25f3c8d6",
   "metadata": {},
   "outputs": [],
   "source": [
    "# AND gate using bias\n",
    "\n",
    "def AND(x1, x2):\n",
    "    x = np.array([x1, x2])\n",
    "    w = np.array([0.5, 0.5])\n",
    "    b = -0.7\n",
    "    tmp = np.sum(w*x) + b\n",
    "    if tmp <= 0:\n",
    "        return 0\n",
    "    else:\n",
    "        return 1"
   ]
  },
  {
   "cell_type": "code",
   "execution_count": 9,
   "id": "fb6de41d",
   "metadata": {},
   "outputs": [],
   "source": [
    "# NAND gate using bias\n",
    "\n",
    "def NAND(x1, x2):\n",
    "    x = np.array([x1, x2])\n",
    "    w = np.array([-0.5, -0.5]) # Note that w is reversed\n",
    "    b = 0.7                    # Note that b is reversed\n",
    "    tmp = np.sum(w*x) + b\n",
    "    if tmp <= 0:\n",
    "        return 0\n",
    "    else:\n",
    "        return 1"
   ]
  },
  {
   "cell_type": "code",
   "execution_count": 7,
   "id": "0c80bedb",
   "metadata": {},
   "outputs": [],
   "source": [
    "# OR gate using bias\n",
    "\n",
    "def OR(x1, x2):\n",
    "    x = np.array([x1, x2])\n",
    "    w = np.array([0.5, 0.5]) # Note that w is different\n",
    "    b = -0.2                 # Note that b is different\n",
    "    tmp = np.sum(w*x) + b\n",
    "    if tmp <= 0:\n",
    "        return 0\n",
    "    else:\n",
    "        return 1"
   ]
  },
  {
   "cell_type": "markdown",
   "id": "3824c2ac",
   "metadata": {},
   "source": [
    "## 2.4 퍼셉트론의 한계\n",
    "\n",
    "XOR 게이트는 배타적 논리합으로, $x_1$과 $x_2$ 중 하나가 1일 때만 1을 출력한다. 하나의 퍼셉트론으로 구분할 수 없는 이유는 그림으로 설명 가능하다."
   ]
  },
  {
   "cell_type": "markdown",
   "id": "15789617",
   "metadata": {},
   "source": [
    "<div>\n",
    "<img src=\"fig2.2.jpg\" width=\"500\"/>\n",
    "</div>"
   ]
  },
  {
   "cell_type": "markdown",
   "id": "c11cf8a0",
   "metadata": {},
   "source": [
    "퍼셉트론은 직선 하나로 영역을 나누는데, XOR 게이트는 그림에서 보이듯 곡선으로만 영역을 나눌 수 있다. 따라서 비선형 영역이기에 하나의 퍼셉트론으로는 구현할 수 없다.\n",
    "\n",
    "이와 같은 논리 회로를 구현하려면 층을 쌓아 **다층 퍼셉트론**을 구현한다:\n",
    "\n",
    "1. $x_1$과 $x_2$를 NAND 게이트로 입력시킨다.\n",
    "2. $x_1$과 $x_2$를 OR 게이트로 입력시킨다. (1과 독립적으로)\n",
    "3. NAND 출력값과 OR 출력값을 AND 게이트로 입력시킨다."
   ]
  },
  {
   "cell_type": "markdown",
   "id": "e283c8e4",
   "metadata": {},
   "source": [
    "<div>\n",
    "<img src=\"fig2.3.jpg\" width=\"500\"/>\n",
    "</div>"
   ]
  },
  {
   "cell_type": "code",
   "execution_count": 12,
   "id": "79c9c7c2",
   "metadata": {},
   "outputs": [
    {
     "name": "stdout",
     "output_type": "stream",
     "text": [
      "0\n",
      "1\n",
      "1\n",
      "0\n"
     ]
    }
   ],
   "source": [
    "# XOR gate\n",
    "\n",
    "def XOR(x1, x2):\n",
    "    s1 = NAND(x1, x2)\n",
    "    s2 = OR(x1, x2)\n",
    "    y = AND(s1, s2)\n",
    "    return y\n",
    "\n",
    "print(XOR(0, 0))\n",
    "print(XOR(1, 0))\n",
    "print(XOR(0, 1))\n",
    "print(XOR(0, 0))"
   ]
  },
  {
   "cell_type": "markdown",
   "id": "402e6839",
   "metadata": {},
   "source": [
    "## Takeaways:\n",
    "\n",
    "- 퍼셉트론은 입출력을 갖춘 알고리즘이다. 입력을 주면 정해진 규칙에 따른 값을 출력한다.\n",
    "- 퍼셉트론에서는 *가중치*와 *편향*을 매개변수로 설정한다.\n",
    "- 퍼셉트론으로 AND, NAND, OR 게이트 등의 논리 회로를 표현할 수 있다.\n",
    "- XOR 게이트는 단층 퍼셉트론으로는 표현할 수 없다. 2층 퍼셉트론으로 표현할 수 있다.\n",
    "- 단층 퍼셉트론은 직선형 영역만 표현할 수 있고, 다층 퍼셉트론은 비선형 영역도 표현할 수 있다. (다층 퍼셉트론은 이론상 컴퓨터도 표현 가능하다.)"
   ]
  },
  {
   "cell_type": "markdown",
   "id": "ddc4f0a2",
   "metadata": {},
   "source": [
    "# 3. 신경망\n",
    "\n",
    "퍼셉트론으로 복잡한 함수도 표현이 가능하나, 단점은 가중치 설정은 여전히 수동으로 해야 한다는 점이다. 신경망의 경우 해당 단점이 개선된다."
   ]
  },
  {
   "cell_type": "markdown",
   "id": "ab499114",
   "metadata": {},
   "source": [
    "## 3.1 신경망의 개념"
   ]
  },
  {
   "cell_type": "markdown",
   "id": "06081a1f",
   "metadata": {},
   "source": [
    "<div>\n",
    "<img src=\"fig3.1.jpg\" width=\"500\"/>\n",
    "</div>"
   ]
  },
  {
   "cell_type": "markdown",
   "id": "29da5b0b",
   "metadata": {},
   "source": [
    "신경망의 형태는 퍼셉트론과 다르지 않으나, 신호를 보내는 방식이 다양해진다. 편향을 사용했던 퍼셉트론 공식을 다음과 같이 다른 형태로 바꿔 쓸 수 있다."
   ]
  },
  {
   "cell_type": "markdown",
   "id": "b24fc710",
   "metadata": {},
   "source": [
    "<div>\n",
    "<img src=\"equ3.1.jpg\" width=\"500\"/>\n",
    "</div>"
   ]
  },
  {
   "cell_type": "markdown",
   "id": "44c5b626",
   "metadata": {},
   "source": [
    "여기서 h(x)를 **활성화 함수**라 칭하며, 해당 함수는 **입력 신호의 총합이 활성화를 일으키는지 판단**한다. 시각화하면 다음과 같이 표현할 수 있다."
   ]
  },
  {
   "cell_type": "markdown",
   "id": "86f8ad34",
   "metadata": {},
   "source": [
    "<div>\n",
    "<img src=\"equ3.2.jpg\" width=\"500\"/>\n",
    "</div>"
   ]
  },
  {
   "cell_type": "markdown",
   "id": "35d32726",
   "metadata": {},
   "source": [
    "<div>\n",
    "<img src=\"fig3.2.jpg\" width=\"500\"/>\n",
    "</div>"
   ]
  },
  {
   "cell_type": "markdown",
   "id": "eaa65bea",
   "metadata": {},
   "source": [
    "## 3.2 활성화 함수\n",
    "\n",
    "퍼셉트론에서는 활성화 함수를 **계단 함수**로 사용한다."
   ]
  },
  {
   "cell_type": "code",
   "execution_count": 17,
   "id": "22853493",
   "metadata": {},
   "outputs": [],
   "source": [
    "def step_function(x):\n",
    "    return np.array(x>0, dtype=int)"
   ]
  },
  {
   "cell_type": "code",
   "execution_count": 18,
   "id": "d3ae166c",
   "metadata": {},
   "outputs": [
    {
     "data": {
      "image/png": "[encoded data removed]",
      "text/plain": [
       "<Figure size 432x288 with 1 Axes>"
      ]
     },
     "metadata": {
      "needs_background": "light"
     },
     "output_type": "display_data"
    }
   ],
   "source": [
    "# visualize step function\n",
    "\n",
    "x = np.arange(-5.0, 5.0, 0.1)\n",
    "y = step_function(x)\n",
    "plt.plot(x,y)\n",
    "plt.ylim(-0.1, 1.1)\n",
    "plt.show()"
   ]
  },
  {
   "cell_type": "markdown",
   "id": "47ab2b05",
   "metadata": {},
   "source": [
    "신경망에서는 **시그모이드 함수**를 자주 사용한다."
   ]
  },
  {
   "cell_type": "markdown",
   "id": "ff9261fe",
   "metadata": {},
   "source": [
    "<div>\n",
    "<img src=\"equ3.3.jpg\" width=\"500\"/>\n",
    "</div>"
   ]
  },
  {
   "cell_type": "code",
   "execution_count": 19,
   "id": "270171c2",
   "metadata": {},
   "outputs": [],
   "source": [
    "def sigmoid(x):\n",
    "    return 1/(1+np.exp(-x))"
   ]
  },
  {
   "cell_type": "code",
   "execution_count": 20,
   "id": "565fa4e5",
   "metadata": {},
   "outputs": [
    {
     "data": {
      "image/png": "[encoded data removed]",
      "text/plain": [
       "<Figure size 432x288 with 1 Axes>"
      ]
     },
     "metadata": {
      "needs_background": "light"
     },
     "output_type": "display_data"
    }
   ],
   "source": [
    "# visualize sigmoid function\n",
    "\n",
    "x = np.arange(-5.0, 5.0, 0.1)\n",
    "y = sigmoid(x)\n",
    "plt.plot(x,y)\n",
    "plt.ylim(-0.1, 1.1)\n",
    "plt.show()"
   ]
  },
  {
   "cell_type": "markdown",
   "id": "ec2f13cb",
   "metadata": {},
   "source": [
    "계단 함수와 시그모이드 함수는 **매끄러움**에서 차이가 있다. 즉, 시그모이드 함수를 사용하는 신경망에서는 계단 함수를 사용하는 퍼셉트론과는 다르게 출력이 연속적으로 변화하며 연속적인 실수가 흐른다.\n",
    "\n",
    "한편 중요한 공통점도 있는데, 두 함수 모두 *비선형 함수*다. **신경망에서는 활성화 함수로 비선형 함수를 사용해야 한다.** 선형 함수를 사용한다면 층을 더한다고 하더라도 은닉층이 없는 네트워크로 표현할 수 있기 때문에, 여러 층으로 구성하는 의미가 없기 때문이다.\n",
    "\n",
    "e.g. $h(x) = cx$, then 3rd-layer $y(x) = h(h(h(x))) = c^3 * x$"
   ]
  },
  {
   "cell_type": "markdown",
   "id": "983bb68f",
   "metadata": {},
   "source": [
    "한편, 최근에는 주로 ReLU 함수가 활성화 함수로 사용된다."
   ]
  },
  {
   "cell_type": "markdown",
   "id": "5d75cb1e",
   "metadata": {},
   "source": [
    "<div>\n",
    "<img src=\"equ3.4.jpg\" width=\"500\"/>\n",
    "</div>"
   ]
  },
  {
   "cell_type": "code",
   "execution_count": 21,
   "id": "ee11104f",
   "metadata": {},
   "outputs": [],
   "source": [
    "def relu(x):\n",
    "    return np.maximum(0, x)"
   ]
  },
  {
   "cell_type": "code",
   "execution_count": 24,
   "id": "9d6b8258",
   "metadata": {},
   "outputs": [
    {
     "data": {
      "image/png": "[encoded data removed]",
      "text/plain": [
       "<Figure size 432x288 with 1 Axes>"
      ]
     },
     "metadata": {
      "needs_background": "light"
     },
     "output_type": "display_data"
    }
   ],
   "source": [
    "# visualize ReLU function\n",
    "\n",
    "x = np.arange(-5.0, 5.0, 0.1)\n",
    "y = relu(x)\n",
    "plt.plot(x,y)\n",
    "plt.ylim(-1.1, 6.1)\n",
    "plt.show()"
   ]
  },
  {
   "cell_type": "markdown",
   "id": "dcea8657",
   "metadata": {},
   "source": [
    "3층 신경망의 경우 **$A = XW + B$**, 즉 다음 그림과 같이 구현한다."
   ]
  },
  {
   "cell_type": "markdown",
   "id": "c2ea845d",
   "metadata": {},
   "source": [
    "<div>\n",
    "<img src=\"fig3.3.jpg\" width=\"500\"/>\n",
    "</div>"
   ]
  },
  {
   "cell_type": "markdown",
   "id": "a708b38d",
   "metadata": {},
   "source": [
    "첫 두 층 동안은 내적 곱과 이전에 언급했던 활성화 함수(시그모이드)를 사용하며, 출력층에서는 다른 활성화 함수를 사용한다. 출력층에서 사용하는 활성화 함수는 항등 함수이며, **항등 함수는 입력을 그대로 출력하는 함수**다."
   ]
  },
  {
   "cell_type": "code",
   "execution_count": 26,
   "id": "8adb2cde",
   "metadata": {},
   "outputs": [],
   "source": [
    "def identity_function(x):\n",
    "    return x"
   ]
  },
  {
   "cell_type": "markdown",
   "id": "7d3d7743",
   "metadata": {},
   "source": [
    "<div>\n",
    "<img src=\"fig3.4.jpg\" width=\"500\"/>\n",
    "</div>"
   ]
  },
  {
   "cell_type": "code",
   "execution_count": 27,
   "id": "5b30dd68",
   "metadata": {},
   "outputs": [
    {
     "name": "stdout",
     "output_type": "stream",
     "text": [
      "[0.31682708 0.69627909]\n"
     ]
    }
   ],
   "source": [
    "# 3-layer neural net\n",
    "\n",
    "# make weight and bias default and save it in a dictionary\n",
    "def init_network():\n",
    "    network = {}\n",
    "    network['W1'] = np.array([[0.1, 0.3, 0.5], [0.2, 0.4, 0.6]])\n",
    "    network['b1'] = np.array([0.1, 0.2, 0.3])\n",
    "    network['W2'] = np.array([[0.1, 0.4], [0.2, 0.5], [0.3, 0.6]])\n",
    "    network['b2'] = np.array([0.1, 0.2])\n",
    "    network['W3'] = np.array([[0.1, 0.3], [0.2, 0.4]])\n",
    "    network['b3'] = np.array([0.1, 0.2])\n",
    "    \n",
    "    return network\n",
    "\n",
    "# forward neural net\n",
    "def forward(network, x):\n",
    "    W1, W2, W3 = network['W1'], network['W2'], network['W3']\n",
    "    b1, b2, b3 = network['b1'], network['b2'], network['b3']\n",
    "    \n",
    "    a1 = np.dot(x, W1) + b1\n",
    "    z1 = sigmoid(a1)\n",
    "    a2 = np.dot(z1, W2) + b2\n",
    "    z2 = sigmoid(a2)\n",
    "    a3 = np.dot(z2, W3) + b3\n",
    "    y = identity_function(a3)\n",
    "    \n",
    "    return y\n",
    "\n",
    "network = init_network()\n",
    "x = np.array([1.0, 0.5])\n",
    "y = forward(network, x)\n",
    "print(y)"
   ]
  },
  {
   "cell_type": "markdown",
   "id": "b21249e1",
   "metadata": {},
   "source": [
    "## 3.5 출력층 설계\n",
    "\n",
    "신경망은 분류와 회귀에 모두 사용 가능하며, 분류에 사용되는 출력층 활성화 함수와 회귀에 사용되는 출력층 활성화 함수가 다르다. **회귀에는 항등 함수를, 분류에는 소프트맥스 함수를 사용**한다. 소프트맥스 함수는 다음과 같다. ($n$은 출력층의 뉴런 수, $y_k$는 $k$번째 출력)"
   ]
  },
  {
   "cell_type": "markdown",
   "id": "9469c768",
   "metadata": {},
   "source": [
    "<div>\n",
    "<img src=\"equ3.5.jpg\" width=\"500\"/>\n",
    "</div>"
   ]
  },
  {
   "cell_type": "markdown",
   "id": "7576b6eb",
   "metadata": {},
   "source": [
    "<div>\n",
    "<img src=\"fig3.5.jpg\" width=\"500\"/>\n",
    "</div>"
   ]
  },
  {
   "cell_type": "code",
   "execution_count": 28,
   "id": "3d5c9464",
   "metadata": {},
   "outputs": [
    {
     "name": "stdout",
     "output_type": "stream",
     "text": [
      "[0.01821127 0.24519181 0.73659691]\n"
     ]
    }
   ],
   "source": [
    "def softmax(a):\n",
    "    exp_a = np.exp(a)\n",
    "    sum_exp_a = np.sum(exp_a)\n",
    "    y = exp_a / sum_exp_a\n",
    "    \n",
    "    return y\n",
    "\n",
    "a = np.array([0.3, 2.9, 4.0])\n",
    "print(softmax(a))"
   ]
  },
  {
   "cell_type": "markdown",
   "id": "451e53cc",
   "metadata": {},
   "source": [
    "소프트맥스 함수는 오버플로 문제에 취약하다. 지수 함수의 결과값은 기하급수적으로 커지기 때문에 임의의 정수 $C$를 분자와 분모에 곱해준다."
   ]
  },
  {
   "cell_type": "markdown",
   "id": "93af38b1",
   "metadata": {},
   "source": [
    "<div>\n",
    "<img src=\"equ3.6.jpg\" width=\"500\"/>\n",
    "</div>"
   ]
  },
  {
   "cell_type": "markdown",
   "id": "b7ccaed6",
   "metadata": {},
   "source": [
    "즉, **소프트맥스의 지수 함수를 계산할 때 정수를 더하는 것은 결과에 영향을 미치지 않는다**. 보편적으로 *$C'$의 값은 입력 신호의 최댓값으로 설정*한다."
   ]
  },
  {
   "cell_type": "code",
   "execution_count": 30,
   "id": "4d59c500",
   "metadata": {},
   "outputs": [
    {
     "name": "stdout",
     "output_type": "stream",
     "text": [
      "[9.99954600e-01 4.53978686e-05 2.06106005e-09]\n"
     ]
    }
   ],
   "source": [
    "def softmax(a):\n",
    "    c = np.max(a)\n",
    "    exp_a = np.exp(a - c) # fix overflow\n",
    "    sum_exp_a = np.sum(exp_a)\n",
    "    y = exp_a / sum_exp_a\n",
    "    \n",
    "    return y\n",
    "\n",
    "a = np.array([1010, 1000, 990])\n",
    "print(softmax(a))"
   ]
  },
  {
   "cell_type": "markdown",
   "id": "848ba061",
   "metadata": {},
   "source": [
    "소프트맥스 함수의 출력은 $[0, 1]$의 범위를 가지며, **출력의 총합은 1**이다. 덕분에 소프트맥스 함수의 출력을 확률로 해석 가능하다."
   ]
  },
  {
   "cell_type": "markdown",
   "id": "5d13a1e2",
   "metadata": {},
   "source": [
    "## 3.6 손글씨 숫자 인식 (실전)\n",
    "\n",
    "**분류 문제에서 출력층의 뉴런 수는 분류하려는 클래스 수와 같도록 한다.**\n",
    "\n",
    "학습된 매개변수를 사용하여 추론하는 과정을 신경망의 **순전파**라고 한다."
   ]
  },
  {
   "cell_type": "code",
   "execution_count": 34,
   "id": "7a4b4669",
   "metadata": {},
   "outputs": [
    {
     "name": "stdout",
     "output_type": "stream",
     "text": [
      "(60000, 784)\n",
      "(60000,)\n",
      "(10000, 784)\n",
      "(10000,)\n",
      "5\n",
      "(784,)\n",
      "(28, 28)\n"
     ]
    }
   ],
   "source": [
    "sys.path.append(os.pardir)  # 부모 디렉터리의 파일을 가져올 수 있도록 설정\n",
    "from dataset.mnist import load_mnist\n",
    "from PIL import Image\n",
    "\n",
    "def img_show(img):\n",
    "    pil_img = Image.fromarray(np.uint8(img))\n",
    "    pil_img.show()\n",
    "\n",
    "(x_train, t_train), (x_test, t_test) = load_mnist(flatten=True, normalize=False)\n",
    "\n",
    "# print the shape of each data\n",
    "print(x_train.shape)\n",
    "print(t_train.shape)\n",
    "print(x_test.shape)\n",
    "print(t_test.shape)\n",
    "\n",
    "img = x_train[0]\n",
    "label = t_train[0]\n",
    "print(label)  # 5\n",
    "\n",
    "print(img.shape)  # (784,)\n",
    "img = img.reshape(28, 28)  # 형상을 원래 이미지의 크기로 변형\n",
    "print(img.shape)  # (28, 28)\n",
    "\n",
    "img_show(img)"
   ]
  },
  {
   "cell_type": "markdown",
   "id": "cf9afc3e",
   "metadata": {},
   "source": [
    "구현은 이전과 거의 흡사하다."
   ]
  },
  {
   "cell_type": "code",
   "execution_count": 37,
   "id": "d1a3f6e1",
   "metadata": {},
   "outputs": [],
   "source": [
    "from common.functions import sigmoid, softmax\n",
    "\n",
    "def get_data():\n",
    "    (x_train, t_train), (x_test, t_test) = load_mnist(normalize=True, flatten=True, one_hot_label=False)\n",
    "    return x_test, t_test\n",
    "\n",
    "\n",
    "# read weights and bias from sample_weight.pkl\n",
    "def init_network():\n",
    "    with open(\"sample_weight.pkl\", 'rb') as f:\n",
    "        network = pickle.load(f)\n",
    "    return network\n",
    "\n",
    "\n",
    "def predict(network, x):\n",
    "    W1, W2, W3 = network['W1'], network['W2'], network['W3']\n",
    "    b1, b2, b3 = network['b1'], network['b2'], network['b3']\n",
    "\n",
    "    a1 = np.dot(x, W1) + b1\n",
    "    z1 = sigmoid(a1)\n",
    "    a2 = np.dot(z1, W2) + b2\n",
    "    z2 = sigmoid(a2)\n",
    "    a3 = np.dot(z2, W3) + b3\n",
    "    y = softmax(a3)\n",
    "\n",
    "    return y"
   ]
  },
  {
   "cell_type": "markdown",
   "id": "9b13787f",
   "metadata": {},
   "source": [
    "정확도 계산을 위해 확률이 가장 높은 원소의 인덱스를 분류 레이블로 지정 후 대조한다."
   ]
  },
  {
   "cell_type": "code",
   "execution_count": 39,
   "id": "184f7ccc",
   "metadata": {},
   "outputs": [
    {
     "name": "stdout",
     "output_type": "stream",
     "text": [
      "Accuracy:0.9352\n"
     ]
    }
   ],
   "source": [
    "x, t = get_data()\n",
    "network = init_network()\n",
    "\n",
    "accuracy_cnt = 0\n",
    "\n",
    "for i in range(len(x)):\n",
    "    y = predict(network, x[i])\n",
    "    p= np.argmax(y) # 확률이 가장 높은 원소의 인덱스를 얻는다.\n",
    "    if p == t[i]:\n",
    "        accuracy_cnt += 1\n",
    "\n",
    "print(\"Accuracy:\" + str(float(accuracy_cnt) / len(x)))"
   ]
  },
  {
   "cell_type": "markdown",
   "id": "983218f7",
   "metadata": {},
   "source": [
    "1차원 배열을 입력하면 다음과 같은 배열 형상을 보인다."
   ]
  },
  {
   "cell_type": "markdown",
   "id": "d43540be",
   "metadata": {},
   "source": [
    "<div>\n",
    "<img src=\"fig3.6.jpg\" width=\"500\"/>\n",
    "</div>"
   ]
  },
  {
   "cell_type": "markdown",
   "id": "e1b33864",
   "metadata": {},
   "source": [
    "여러 장, 다시 말해 고차원의 배열을 입력할 때 입력 데이터를 한 번에 묶어 처리한다면 출력 데이터도 한 번에 받을 수 있게 된다. 하나로 묶은 입력 데이터를 **배치**라고 한다. 배치 처리는 다음과 같은 형상을 보인다."
   ]
  },
  {
   "cell_type": "markdown",
   "id": "f3322e6f",
   "metadata": {},
   "source": [
    "<div>\n",
    "<img src=\"fig3.7.jpg\" width=\"500\"/>\n",
    "</div>"
   ]
  },
  {
   "cell_type": "code",
   "execution_count": 40,
   "id": "afdc8703",
   "metadata": {},
   "outputs": [
    {
     "name": "stdout",
     "output_type": "stream",
     "text": [
      "Accuracy:0.9352\n"
     ]
    }
   ],
   "source": [
    "x, t = get_data()\n",
    "network = init_network()\n",
    "\n",
    "batch_size = 100 # 배치 크기\n",
    "accuracy_cnt = 0\n",
    "\n",
    "for i in range(0, len(x), batch_size):\n",
    "    x_batch = x[i:i+batch_size] # batch 길이만큼 잘라서 입력\n",
    "    y_batch = predict(network, x_batch)\n",
    "    p = np.argmax(y_batch, axis=1)\n",
    "    accuracy_cnt += np.sum(p == t[i:i+batch_size])\n",
    "\n",
    "print(\"Accuracy:\" + str(float(accuracy_cnt) / len(x)))"
   ]
  },
  {
   "cell_type": "markdown",
   "id": "48ba3500",
   "metadata": {},
   "source": [
    "데이터를 배치로 처리한다면 더 효율적이고 빠르게 처리할 수 있다."
   ]
  },
  {
   "cell_type": "markdown",
   "id": "db1fb5d8",
   "metadata": {},
   "source": [
    "## Takeaways:\n",
    "\n",
    "- 신경망에서는 활성화 함수로 시그모이드 함수와 ReLU 함수 같은 매끄럽게 변화하는 함수를 이용한다.\n",
    "- 넘파이의 다차원 배열을 잘 사용하면 신경망을 효율적으로 구현할 수 있다.\n",
    "- 기계학습 문제는 크게 회귀와 분류로 나눌 수 있다.\n",
    "- 출력층의 활성화 함수로는 회귀에서는 주로 항등 함수를, 분류에서는 주로 소프트맥스 함수를 이용한다.\n",
    "- 분류에서는 출력층의 뉴런 수로 분류하려는 클래스 수와 같게 설정한다.\n",
    "- 입력 데이터를 묶은 것을 배치라 하며, 추론 처리를 이 배치 단위로 진행하면 결과를 훨씬 빠르게 얻을 수 있다."
   ]
  },
  {
   "cell_type": "markdown",
   "id": "b84b9492",
   "metadata": {},
   "source": [
    "# 4. 신경망 학습\n",
    "\n",
    "신경망 **학습**이란 훈련 데이터로부터 매개변수 $w$, $b$의 최적값을 자동으로 알아내는 것을 뜻한다. 피처를 직접 추출한 후에 학습하는 머신러닝과는 달리 신경망(딥러닝)은 end-to-end 학습, 즉 데이터 그대로를 입력 데이터로 활용해 학습한다."
   ]
  },
  {
   "cell_type": "markdown",
   "id": "4027ace2",
   "metadata": {},
   "source": [
    "## 4.2 손실 함수\n",
    "\n",
    "최적의 매개변수 값을 탐색할 때 사용되는 지표가 **손실 함수**다. 일반적으로는 평균 제곱 오차와 교차 엔트로피 오차를 사용한다. 손실 함수가 높을수록 오답일 가능성이 높다고 판단한다.\n",
    "\n",
    "평균 제곱 오차는 다음과 같다. ($y_k$는 신경망의 출력, $t_k$는 정답 레이블, $k$는 데이터의 차원 수)"
   ]
  },
  {
   "cell_type": "markdown",
   "id": "d86afd69",
   "metadata": {},
   "source": [
    "<div>\n",
    "<img src=\"equ4.1.jpg\" width=\"500\"/>\n",
    "</div>"
   ]
  },
  {
   "cell_type": "code",
   "execution_count": 41,
   "id": "ebb9531d",
   "metadata": {},
   "outputs": [
    {
     "name": "stdout",
     "output_type": "stream",
     "text": [
      "0.09750000000000003\n",
      "\n",
      "0.5975\n"
     ]
    }
   ],
   "source": [
    "def mean_squared_error(y, t):\n",
    "    return 0.5 * np.sum((y-t)**2)\n",
    "\n",
    "# correct answer: 2\n",
    "t = [0, 0, 1, 0, 0, 0, 0, 0, 0, 0]\n",
    "\n",
    "# returns the highest probability for 2\n",
    "y = [0.1, 0.05, 0.6, 0.0, 0.05, 0.1, 0.0, 0.1, 0.0, 0.0]\n",
    "print(mean_squared_error(np.array(y), np.array(t)))\n",
    "print(\"\")\n",
    "\n",
    "# returns the highest probability for 7\n",
    "y = [0.1, 0.05, 0.1, 0.0, 0.05, 0.1, 0.0, 0.6, 0.0, 0.0]\n",
    "print(mean_squared_error(np.array(y), np.array(t)))"
   ]
  },
  {
   "cell_type": "markdown",
   "id": "be495f73",
   "metadata": {},
   "source": [
    "교차 엔트로피 오차는 다음과 같다. ($\\log$ = $\\ln$)"
   ]
  },
  {
   "cell_type": "markdown",
   "id": "aca3427c",
   "metadata": {},
   "source": [
    "<div>\n",
    "<img src=\"equ4.2.jpg\" width=\"500\"/>\n",
    "</div>"
   ]
  },
  {
   "cell_type": "code",
   "execution_count": 42,
   "id": "b2ef239d",
   "metadata": {},
   "outputs": [
    {
     "name": "stdout",
     "output_type": "stream",
     "text": [
      "0.510825457099338\n",
      "\n",
      "2.302584092994546\n"
     ]
    }
   ],
   "source": [
    "def cross_entropy_error(y, t):\n",
    "    # to prevent log(0) error\n",
    "    delta = 1e-7\n",
    "    return -np.sum(t * np.log(y + delta))\n",
    "\n",
    "# correct answer: 2\n",
    "t = [0, 0, 1, 0, 0, 0, 0, 0, 0, 0]\n",
    "\n",
    "# returns the highest probability for 2\n",
    "y = [0.1, 0.05, 0.6, 0.0, 0.05, 0.1, 0.0, 0.1, 0.0, 0.0]\n",
    "print(cross_entropy_error(np.array(y), np.array(t)))\n",
    "print(\"\")\n",
    "\n",
    "# returns the highest probability for 7\n",
    "y = [0.1, 0.05, 0.1, 0.0, 0.05, 0.1, 0.0, 0.6, 0.0, 0.0]\n",
    "print(cross_entropy_error(np.array(y), np.array(t)))"
   ]
  },
  {
   "cell_type": "markdown",
   "id": "049ec980",
   "metadata": {},
   "source": [
    "교차 엔트로피 오차는 $\\log$함수를 쓰기 때문에 정답 출력값이 낮을수록 오차가 기하급수적으로 늘어난다.\n",
    "\n",
    "단일 데이터의 손실 함수만 구하는 것보다, **훈련 데이터 모두에 대한 손실 함수의 합을 구하는 경우**가 더 많다. 교차 엔트로피 오차를 사용할 경우 다음과 같다."
   ]
  },
  {
   "cell_type": "markdown",
   "id": "402517a1",
   "metadata": {},
   "source": [
    "<div>\n",
    "<img src=\"equ4.3.jpg\" width=\"500\"/>\n",
    "</div>"
   ]
  },
  {
   "cell_type": "markdown",
   "id": "8200e83d",
   "metadata": {},
   "source": [
    "($N$개의 데이터가 있다고 가정할 때, $t_{nk}$는 $n$번째 데이터의 $k$차원 값이다.) 마지막에 $N$으로 나눔으로써 정규화를 하며, 평균 손실 함수를 구한다.\n",
    "\n",
    "커다란 규모의 데이터의 경우, 모든 데이터의 손실 함수를 계산하는 대신 데이터 일부를 추출해 근사치를 계산, 학습한다. 해당 일부를 **미니배치**라고 한다. \n",
    "(예를 들어, 60,000개의 데이터 중 100개를 무작위로 추출해 사용하여 학습하는 것을 **미니배치 학습**이라고 한다.)"
   ]
  },
  {
   "cell_type": "code",
   "execution_count": 55,
   "id": "11b70c70",
   "metadata": {},
   "outputs": [
    {
     "name": "stdout",
     "output_type": "stream",
     "text": [
      "(60000, 784)\n",
      "(60000, 10)\n",
      "\n",
      "(10, 784)\n",
      "(10, 10)\n"
     ]
    }
   ],
   "source": [
    "# by one-hot encoding, get 1 for correct answer and 0 otherwise\n",
    "(x_train, t_train), (x_test, t_test) = load_mnist(normalize=True, one_hot_label=True)\n",
    "\n",
    "print(x_train.shape)\n",
    "print(t_train.shape)\n",
    "print(\"\")\n",
    "\n",
    "# randomly choose 10 from 60000\n",
    "train_size = x_train.shape[0]\n",
    "batch_size = 10\n",
    "batch_mask = np.random.choice(train_size, batch_size)\n",
    "x_batch = x_train[batch_mask]\n",
    "t_batch = t_train[batch_mask]\n",
    "\n",
    "print(x_batch.shape)\n",
    "print(t_batch.shape)"
   ]
  },
  {
   "cell_type": "markdown",
   "id": "fa8d57e6",
   "metadata": {},
   "source": [
    "One-hot encoding이 된 정답 레이블을 다룰 때, 미니배치용 교차 엔트로피 오차는 다음과 같이 구할 수 있다."
   ]
  },
  {
   "cell_type": "code",
   "execution_count": 56,
   "id": "97f1007c",
   "metadata": {},
   "outputs": [],
   "source": [
    "def cross_entropy_error(y, t):\n",
    "    if y_ndim == 1:\n",
    "        t = t.reshape(1, t.size)\n",
    "        y = y.reshape(1, y.size)\n",
    "        \n",
    "    batch_size = y.shape[0]\n",
    "    return -np.sum(t * np.log(y)) / batch_size"
   ]
  },
  {
   "cell_type": "markdown",
   "id": "478c425b",
   "metadata": {},
   "source": [
    "One-hot encoding 대신 숫자 레이블 (2, 7, etc.)이 주어질 때는 다음과 같이 구할 수 있다."
   ]
  },
  {
   "cell_type": "code",
   "execution_count": 57,
   "id": "904251a4",
   "metadata": {},
   "outputs": [],
   "source": [
    "def cross_entropy_error(y, t):\n",
    "    if y_ndim == 1:\n",
    "        t = t.reshape(1, t.size)\n",
    "        y = y.reshape(1, y.size)\n",
    "        \n",
    "    batch_size = y.shape[0]\n",
    "    return -np.sum(np.log(y[np.arange(batch_size), t])) / batch_size"
   ]
  },
  {
   "cell_type": "markdown",
   "id": "067c9f7e",
   "metadata": {},
   "source": [
    "차이가 있는 이유는 one-hot encoding이 되었을 때는 신경망의 출력(0, 1)만으로 교차 엔트로피를 구할 수 있지만, 숫자 레이블일 경우 각 데이터의 정답 레이블 index의 출력을 받아와야 하기 때문이다.\n",
    "\n",
    "정확도 대신 손실 함수를 지표로 삼는 이유는 **최적화를 진행할 때 미분을 사용하기 때문**이다. 정확도와 달리 손실 함수는 연속적으로 나타낼 수 있다. 따라서 매개변수의 최대 기울기를 계산한 후 손실 함수 값을 최소화할 수 있다. (정확도의 경우, 32%가 나왔다고 가정하면 매개변수를 조금씩 조정해도 정확도는 변하지 않을 것이다. 즉, 미분은 대부분 0이 나오게 된다.)"
   ]
  },
  {
   "cell_type": "code",
   "execution_count": 59,
   "id": "90b73bfd",
   "metadata": {},
   "outputs": [],
   "source": [
    "# differentiation (preventing rounding error)\n",
    "def numerical_diff(f, x):\n",
    "    h = 1e-4\n",
    "    return (f(x+h) - f(x-h)) / (2*h)"
   ]
  },
  {
   "cell_type": "code",
   "execution_count": 60,
   "id": "78f82e99",
   "metadata": {},
   "outputs": [
    {
     "data": {
      "image/png": "[encoded data removed]",
      "text/plain": [
       "<Figure size 432x288 with 1 Axes>"
      ]
     },
     "metadata": {
      "needs_background": "light"
     },
     "output_type": "display_data"
    },
    {
     "name": "stdout",
     "output_type": "stream",
     "text": [
      "0.1999999999990898\n",
      "0.2999999999986347\n"
     ]
    }
   ],
   "source": [
    "# example\n",
    "def function_1(x):\n",
    "    return 0.01*x**2 + 0.1*x\n",
    "\n",
    "x = np.arange(0.0, 20.0, 0.1)\n",
    "y = function_1(x)\n",
    "plt.xlabel(\"x\")\n",
    "plt.ylabel(\"f(x)\")\n",
    "plt.plot(x,y)\n",
    "plt.show()\n",
    "\n",
    "print(numerical_diff(function_1, 5))\n",
    "print(numerical_diff(function_1, 10))"
   ]
  },
  {
   "cell_type": "markdown",
   "id": "841ddde1",
   "metadata": {},
   "source": [
    "## 4.4 기울기\n",
    "\n",
    "When calculating partial differential equations, we use gradients:"
   ]
  },
  {
   "cell_type": "code",
   "execution_count": 63,
   "id": "61243839",
   "metadata": {},
   "outputs": [],
   "source": [
    "def numerical_gradient(f, x):\n",
    "    h = 1e-4\n",
    "    grad = np.zeros_like(x)\n",
    "    \n",
    "    for idx in range(x.size):\n",
    "        tmp_val = x[idx]\n",
    "        \n",
    "        # calculate f(x+h)\n",
    "        x[idx] = tmp_val + h\n",
    "        fxh1 = f(x)\n",
    "        \n",
    "        # calculate f(x-h)\n",
    "        x[idx] = tmp_val - h\n",
    "        fxh2 = f(x)\n",
    "        \n",
    "        grad[idx] = (fxh1-fxh2) / (2*h)\n",
    "        x[idx] = tmp_val # recover value\n",
    "        \n",
    "    return grad"
   ]
  },
  {
   "cell_type": "code",
   "execution_count": 77,
   "id": "223d1a4e",
   "metadata": {},
   "outputs": [
    {
     "name": "stdout",
     "output_type": "stream",
     "text": [
      "[6. 8.]\n",
      "[0. 4.]\n",
      "[6. 0.]\n"
     ]
    }
   ],
   "source": [
    "# example\n",
    "def function_2(x):\n",
    "    return x[0]**2 + x[1]**2\n",
    "\n",
    "# getting a gradient in each point\n",
    "print(numerical_gradient(function_2, np.array([3.0, 4.0])))\n",
    "print(numerical_gradient(function_2, np.array([0.0, 2.0])))\n",
    "print(numerical_gradient(function_2, np.array([3.0, 0.0])))"
   ]
  },
  {
   "cell_type": "code",
   "execution_count": 69,
   "id": "230e7957",
   "metadata": {},
   "outputs": [
    {
     "data": {
      "image/png": "[encoded data removed]",
      "text/plain": [
       "<Figure size 432x288 with 1 Axes>"
      ]
     },
     "metadata": {
      "needs_background": "light"
     },
     "output_type": "display_data"
    }
   ],
   "source": [
    "# source code for visualization\n",
    "\n",
    "from mpl_toolkits.mplot3d import Axes3D\n",
    "\n",
    "\n",
    "def _numerical_gradient_no_batch(f, x):\n",
    "    h = 1e-4 # 0.0001\n",
    "    grad = np.zeros_like(x) # x와 형상이 같은 배열을 생성\n",
    "    \n",
    "    for idx in range(x.size):\n",
    "        tmp_val = x[idx]\n",
    "        \n",
    "        # f(x+h) 계산\n",
    "        x[idx] = float(tmp_val) + h\n",
    "        fxh1 = f(x)\n",
    "        \n",
    "        # f(x-h) 계산\n",
    "        x[idx] = tmp_val - h \n",
    "        fxh2 = f(x) \n",
    "        \n",
    "        grad[idx] = (fxh1 - fxh2) / (2*h)\n",
    "        x[idx] = tmp_val # 값 복원\n",
    "        \n",
    "    return grad\n",
    "\n",
    "\n",
    "def numerical_gradient(f, X):\n",
    "    if X.ndim == 1:\n",
    "        return _numerical_gradient_no_batch(f, X)\n",
    "    else:\n",
    "        grad = np.zeros_like(X)\n",
    "        \n",
    "        for idx, x in enumerate(X):\n",
    "            grad[idx] = _numerical_gradient_no_batch(f, x)\n",
    "        \n",
    "        return grad\n",
    "\n",
    "\n",
    "def tangent_line(f, x):\n",
    "    d = numerical_gradient(f, x)\n",
    "    print(d)\n",
    "    y = f(x) - d*x\n",
    "    return lambda t: d*t + y\n",
    "     \n",
    "if __name__ == '__main__':\n",
    "    x0 = np.arange(-2, 2.5, 0.25)\n",
    "    x1 = np.arange(-2, 2.5, 0.25)\n",
    "    X, Y = np.meshgrid(x0, x1)\n",
    "    \n",
    "    X = X.flatten()\n",
    "    Y = Y.flatten()\n",
    "    \n",
    "    grad = numerical_gradient(function_2, np.array([X, Y]) )\n",
    "    \n",
    "    plt.figure()\n",
    "    plt.quiver(X, Y, -grad[0], -grad[1],  angles=\"xy\",color=\"#666666\")#,headwidth=10,scale=40,color=\"#444444\")\n",
    "    plt.xlim([-2, 2])\n",
    "    plt.ylim([-2, 2])\n",
    "    plt.xlabel('x0')\n",
    "    plt.ylabel('x1')\n",
    "    plt.grid()\n",
    "    plt.draw()\n",
    "    plt.show()"
   ]
  },
  {
   "cell_type": "markdown",
   "id": "de111c6a",
   "metadata": {},
   "source": [
    "위 시각화 그래프에서 기울기가 가리키는 쪽은 각 장소에서 **함수의 출력 값을 가장 줄이는 방향**이다.\n",
    "\n",
    "경사 하강법은 다음과 같이 나타낼 수 있다."
   ]
  },
  {
   "cell_type": "markdown",
   "id": "caee1f4b",
   "metadata": {},
   "source": [
    "<div>\n",
    "<img src=\"equ4.4.jpg\" width=\"500\"/>\n",
    "</div>"
   ]
  },
  {
   "cell_type": "markdown",
   "id": "c622a279",
   "metadata": {},
   "source": [
    "해당 식은 1회 갱신량을 보여주며, 갱신량은 **학습률**이라고 표현한다. 학습률 값은 미리 지정하며, 학습률 값을 변경하면서 학습이 제대로 되고 있는지 확인한다."
   ]
  },
  {
   "cell_type": "code",
   "execution_count": 75,
   "id": "00bc4407",
   "metadata": {},
   "outputs": [],
   "source": [
    "def gradient_descent(f, init_x, lr=0.01, step_num=100):\n",
    "    x = init_x\n",
    "    \n",
    "    for i in range(step_num):\n",
    "        grad = numerical_gradient(f, x)\n",
    "        x -= lr * grad\n",
    "    return x"
   ]
  },
  {
   "cell_type": "code",
   "execution_count": 68,
   "id": "fb58e4a0",
   "metadata": {},
   "outputs": [
    {
     "name": "stdout",
     "output_type": "stream",
     "text": [
      "[-6.11110793e-10  8.14814391e-10]\n"
     ]
    }
   ],
   "source": [
    "# example\n",
    "init_x = np.array([-3.0, 4.0])\n",
    "print(gradient_descent(function_2, init_x, lr=0.1, step_num=100))"
   ]
  },
  {
   "cell_type": "code",
   "execution_count": 73,
   "id": "3a227e1b",
   "metadata": {},
   "outputs": [
    {
     "data": {
      "image/png": "[encoded data removed]",
      "text/plain": [
       "<Figure size 432x288 with 1 Axes>"
      ]
     },
     "metadata": {
      "needs_background": "light"
     },
     "output_type": "display_data"
    }
   ],
   "source": [
    "# source code for visualization\n",
    "\n",
    "from gradient_2d import numerical_gradient\n",
    "\n",
    "\n",
    "def gradient_descent(f, init_x, lr=0.01, step_num=100):\n",
    "    x = init_x\n",
    "    x_history = []\n",
    "\n",
    "    for i in range(step_num):\n",
    "        x_history.append( x.copy() )\n",
    "\n",
    "        grad = numerical_gradient(f, x)\n",
    "        x -= lr * grad\n",
    "\n",
    "    return x, np.array(x_history)\n",
    "\n",
    "init_x = np.array([-3.0, 4.0])\n",
    "\n",
    "x, x_history = gradient_descent(function_2, init_x, lr=0.1, step_num=20)\n",
    "\n",
    "plt.plot( [-5, 5], [0,0], '--b')\n",
    "plt.plot( [0,0], [-5, 5], '--b')\n",
    "plt.plot(x_history[:,0], x_history[:,1], 'o')\n",
    "\n",
    "plt.xlim(-3.5, 3.5)\n",
    "plt.ylim(-4.5, 4.5)\n",
    "plt.xlabel(\"X0\")\n",
    "plt.ylabel(\"X1\")\n",
    "plt.show()"
   ]
  },
  {
   "cell_type": "markdown",
   "id": "a165bdfc",
   "metadata": {},
   "source": [
    "학습률이 너무 크면 값도 크고, 너무 작으면 거의 갱신되지 않는다. 학습률이 극단적인 값이면 다음과 같은 문제가 발생한다."
   ]
  },
  {
   "cell_type": "code",
   "execution_count": 79,
   "id": "131b291e",
   "metadata": {},
   "outputs": [
    {
     "name": "stdout",
     "output_type": "stream",
     "text": [
      "[-2.58983747e+13 -1.29524862e+12]\n",
      "[-2.99999994  3.99999992]\n"
     ]
    }
   ],
   "source": [
    "init_x = np.array([-3.0, 4.0])\n",
    "print(gradient_descent(function_2, init_x, lr=10.0, step_num=100))\n",
    "\n",
    "init_x = np.array([-3.0, 4.0])\n",
    "print(gradient_descent(function_2, init_x, lr=1e-10, step_num=100))"
   ]
  },
  {
   "cell_type": "markdown",
   "id": "1d44bf57",
   "metadata": {},
   "source": [
    "신경망에서도 기울기를 구하곤 한다. $2\\times3$의 형태를 가지며 가중치가 $W$, 손실 함수가 $L$일 때 경사는 편미분인 $\\frac{\\partial L}{\\partial W}$로 나타낼 수 있다. 각 원소의 편미분을 구하는 것이며, $\\frac{\\partial L}{\\partial W}$ 역시 $W$와 같은 형태를 가진다."
   ]
  },
  {
   "cell_type": "code",
   "execution_count": 80,
   "id": "e3f651a7",
   "metadata": {},
   "outputs": [
    {
     "name": "stdout",
     "output_type": "stream",
     "text": [
      "[[ 0.07222616  0.47662636 -0.54885252]\n",
      " [ 0.10833923  0.71493955 -0.82327878]]\n"
     ]
    }
   ],
   "source": [
    "from common.functions import softmax, cross_entropy_error\n",
    "from common.gradient import numerical_gradient\n",
    "\n",
    "\n",
    "class simpleNet:\n",
    "    def __init__(self):\n",
    "        self.W = np.random.randn(2,3) # 정규분포로 초기화\n",
    "\n",
    "    def predict(self, x):\n",
    "        return np.dot(x, self.W)\n",
    "\n",
    "    def loss(self, x, t):\n",
    "        z = self.predict(x)\n",
    "        y = softmax(z)\n",
    "        loss = cross_entropy_error(y, t)\n",
    "\n",
    "        return loss\n",
    "\n",
    "x = np.array([0.6, 0.9])\n",
    "t = np.array([0, 0, 1])\n",
    "\n",
    "net = simpleNet()\n",
    "\n",
    "f = lambda w: net.loss(x, t)\n",
    "dW = numerical_gradient(f, net.W)\n",
    "\n",
    "print(dW)"
   ]
  },
  {
   "cell_type": "markdown",
   "id": "0fd2b4c6",
   "metadata": {},
   "source": [
    "## 4.5 학습 알고리즘 구현하기\n",
    "\n",
    "신경망 학습의 절차는 다음과 같다.\n",
    "\n",
    "1. 미니배치 (미니배치로 무작위로 선정하기 때문에 **확률적 경사 하강법[SGD]**라고 불린다.)\n",
    "2. 기울기 산출\n",
    "3. 매개변수 갱신\n",
    "4. 반복\n",
    "\n",
    "2층 신경망 클래스는 다음과 같이 구현한다."
   ]
  },
  {
   "cell_type": "code",
   "execution_count": 83,
   "id": "5b23f26c",
   "metadata": {},
   "outputs": [],
   "source": [
    "from common.functions import *\n",
    "from common.gradient import numerical_gradient\n",
    "\n",
    "\n",
    "class TwoLayerNet:\n",
    "\n",
    "    def __init__(self, input_size, hidden_size, output_size, weight_init_std=0.01):\n",
    "        # 가중치 초기화\n",
    "        self.params = {}\n",
    "        self.params['W1'] = weight_init_std * np.random.randn(input_size, hidden_size)\n",
    "        self.params['b1'] = np.zeros(hidden_size)\n",
    "        self.params['W2'] = weight_init_std * np.random.randn(hidden_size, output_size)\n",
    "        self.params['b2'] = np.zeros(output_size)\n",
    "\n",
    "    # 예측 수행\n",
    "    def predict(self, x):\n",
    "        W1, W2 = self.params['W1'], self.params['W2']\n",
    "        b1, b2 = self.params['b1'], self.params['b2']\n",
    "    \n",
    "        a1 = np.dot(x, W1) + b1\n",
    "        z1 = sigmoid(a1)\n",
    "        a2 = np.dot(z1, W2) + b2\n",
    "        y = softmax(a2)\n",
    "        \n",
    "        return y\n",
    "    \n",
    "    # 손실 함수 값 구하기\n",
    "    # x : 입력 데이터, t : 정답 레이블\n",
    "    def loss(self, x, t):\n",
    "        y = self.predict(x)\n",
    "        \n",
    "        return cross_entropy_error(y, t)\n",
    "    \n",
    "    # 정확도 구하기\n",
    "    def accuracy(self, x, t):\n",
    "        y = self.predict(x)\n",
    "        y = np.argmax(y, axis=1)\n",
    "        t = np.argmax(t, axis=1)\n",
    "        \n",
    "        accuracy = np.sum(y == t) / float(x.shape[0])\n",
    "        return accuracy\n",
    "    \n",
    "    # 가중치 매개변수의 기울기 구하기\n",
    "    # x : 입력 데이터, t : 정답 레이블\n",
    "    def numerical_gradient(self, x, t):\n",
    "        loss_W = lambda W: self.loss(x, t)\n",
    "        \n",
    "        grads = {}\n",
    "        grads['W1'] = numerical_gradient(loss_W, self.params['W1'])\n",
    "        grads['b1'] = numerical_gradient(loss_W, self.params['b1'])\n",
    "        grads['W2'] = numerical_gradient(loss_W, self.params['W2'])\n",
    "        grads['b2'] = numerical_gradient(loss_W, self.params['b2'])\n",
    "        \n",
    "        return grads\n",
    "    \n",
    "    # 오차역전파법을 사용해 빠르게 기울기 구하기 (다음 챕터에 후술)\n",
    "    def gradient(self, x, t):\n",
    "        W1, W2 = self.params['W1'], self.params['W2']\n",
    "        b1, b2 = self.params['b1'], self.params['b2']\n",
    "        grads = {}\n",
    "        \n",
    "        batch_num = x.shape[0]\n",
    "        \n",
    "        # forward\n",
    "        a1 = np.dot(x, W1) + b1\n",
    "        z1 = sigmoid(a1)\n",
    "        a2 = np.dot(z1, W2) + b2\n",
    "        y = softmax(a2)\n",
    "        \n",
    "        # backward\n",
    "        dy = (y - t) / batch_num\n",
    "        grads['W2'] = np.dot(z1.T, dy)\n",
    "        grads['b2'] = np.sum(dy, axis=0)\n",
    "        \n",
    "        da1 = np.dot(dy, W2.T)\n",
    "        dz1 = sigmoid_grad(a1) * da1\n",
    "        grads['W1'] = np.dot(x.T, dz1)\n",
    "        grads['b1'] = np.sum(dz1, axis=0)\n",
    "\n",
    "        return grads"
   ]
  },
  {
   "cell_type": "markdown",
   "id": "36d0c267",
   "metadata": {},
   "source": [
    "상기한 미니배치 학습을 활용해보자."
   ]
  },
  {
   "cell_type": "code",
   "execution_count": 85,
   "id": "7a9bfe58",
   "metadata": {},
   "outputs": [
    {
     "name": "stdout",
     "output_type": "stream",
     "text": [
      "train acc, test acc | 0.11236666666666667, 0.1135\n",
      "train acc, test acc | 0.7733166666666667, 0.7774\n",
      "train acc, test acc | 0.8764333333333333, 0.8792\n",
      "train acc, test acc | 0.8994333333333333, 0.902\n",
      "train acc, test acc | 0.9076833333333333, 0.9103\n",
      "train acc, test acc | 0.9144666666666666, 0.9181\n",
      "train acc, test acc | 0.9199666666666667, 0.9224\n",
      "train acc, test acc | 0.9240666666666667, 0.9265\n",
      "train acc, test acc | 0.92845, 0.9299\n",
      "train acc, test acc | 0.9313166666666667, 0.9326\n",
      "train acc, test acc | 0.9346333333333333, 0.9364\n",
      "train acc, test acc | 0.9380833333333334, 0.938\n",
      "train acc, test acc | 0.9400666666666667, 0.939\n",
      "train acc, test acc | 0.9422333333333334, 0.9412\n",
      "train acc, test acc | 0.9438166666666666, 0.9438\n",
      "train acc, test acc | 0.9453333333333334, 0.9441\n",
      "train acc, test acc | 0.9470166666666666, 0.9445\n"
     ]
    },
    {
     "data": {
      "image/png": "[encoded data removed]",
      "text/plain": [
       "<Figure size 432x288 with 1 Axes>"
      ]
     },
     "metadata": {
      "needs_background": "light"
     },
     "output_type": "display_data"
    }
   ],
   "source": [
    "from dataset.mnist import load_mnist\n",
    "\n",
    "# 데이터 읽기\n",
    "(x_train, t_train), (x_test, t_test) = load_mnist(normalize=True, one_hot_label=True)\n",
    "\n",
    "network = TwoLayerNet(input_size=784, hidden_size=50, output_size=10)\n",
    "\n",
    "# 하이퍼파라미터\n",
    "iters_num = 10000  # 반복 횟수를 적절히 설정한다.\n",
    "train_size = x_train.shape[0]\n",
    "batch_size = 100   # 미니배치 크기\n",
    "learning_rate = 0.1\n",
    "\n",
    "train_loss_list = []\n",
    "train_acc_list = []\n",
    "test_acc_list = []\n",
    "\n",
    "# 1에폭당 반복 수\n",
    "iter_per_epoch = max(train_size / batch_size, 1)\n",
    "\n",
    "for i in range(iters_num):\n",
    "    # 미니배치 획득\n",
    "    batch_mask = np.random.choice(train_size, batch_size)\n",
    "    x_batch = x_train[batch_mask]\n",
    "    t_batch = t_train[batch_mask]\n",
    "    \n",
    "    # 기울기 계산\n",
    "    #grad = network.numerical_gradient(x_batch, t_batch)\n",
    "    grad = network.gradient(x_batch, t_batch)\n",
    "    \n",
    "    # 매개변수 갱신\n",
    "    for key in ('W1', 'b1', 'W2', 'b2'):\n",
    "        network.params[key] -= learning_rate * grad[key]\n",
    "    \n",
    "    # 학습 경과 기록\n",
    "    loss = network.loss(x_batch, t_batch)\n",
    "    train_loss_list.append(loss)\n",
    "    \n",
    "    # 1에폭당 정확도 계산\n",
    "    if i % iter_per_epoch == 0:\n",
    "        train_acc = network.accuracy(x_train, t_train)\n",
    "        test_acc = network.accuracy(x_test, t_test)\n",
    "        train_acc_list.append(train_acc)\n",
    "        test_acc_list.append(test_acc)\n",
    "        print(\"train acc, test acc | \" + str(train_acc) + \", \" + str(test_acc))\n",
    "\n",
    "# 그래프 그리기\n",
    "markers = {'train': 'o', 'test': 's'}\n",
    "x = np.arange(len(train_acc_list))\n",
    "plt.plot(x, train_acc_list, label='train acc')\n",
    "plt.plot(x, test_acc_list, label='test acc', linestyle='--')\n",
    "plt.xlabel(\"epochs\")\n",
    "plt.ylabel(\"accuracy\")\n",
    "plt.ylim(0, 1.0)\n",
    "plt.legend(loc='lower right')\n",
    "plt.show()"
   ]
  },
  {
   "cell_type": "markdown",
   "id": "06d6805d",
   "metadata": {},
   "source": [
    "에폭이 증가할수록 학습 정확도도 증가했으며, 훈련 데이터와 시험 데이터의 정확도가 거의 일치하므로 오버피팅은 일어나지 않았다."
   ]
  },
  {
   "cell_type": "markdown",
   "id": "0fbf4a6a",
   "metadata": {},
   "source": [
    "## Takeaways:\n",
    "\n",
    "- 기계학습에서 사용하는 데이터셋은 훈련 데이터와 시험 데이터로 나눠 사용한다.\n",
    "- 훈련 데이터에서 학습한 모델의 범용 능력을 시험 데이터로 평가한다.\n",
    "- 신경망 학습은 손실 함수를 지표로, 손실 함수의 값이 작아지는 방향으로 가중치 매개변수를 갱신한다.\n",
    "- 가중치 매개변수를 갱신할 때는 가중치 매개변수의 기울기를 이용하고, 기울어진 방향으로 가중치의 값을 갱신하는 작업을 반복한다.\n",
    "- 아주 작은 값을 주었을 때의 차분으로 미분을 구하는 것을 수치 미분이라고 한다.\n",
    "- 수치 미분을 이용해 가중치 매개변수의 기울기를 구할 수 있다.\n",
    "- 수치 미분을 이용한 계산에는 시간이 걸리지만, 그 구현은 간단하다. (다음 장에서 구현하는 다소 복잡한 오차역전파법은 기울기를 고속으로 구할 수 있다.)"
   ]
  },
  {
   "cell_type": "markdown",
   "id": "27bcb705",
   "metadata": {},
   "source": [
    "# 5. 오차역전파법\n",
    "\n",
    "상기했듯 수치 미분을 활용해 매개변수의 기울기를 구하는 것은 구현이 쉬우나 시간이 오래 걸린다. **오차역전파법**의 경우, 구현은 보다 복잡하지만 효율적으로 기울기를 구할 수 있다.\n",
    "\n",
    "역전파는 계산 그래프로 쉽게 시각적으로 나타낼 수 있으며, 국소적 계산에 집중해 복잡한 계산 과정을 보다 간단히 할 수 있다. Chain Rule도 역전파로 사용할 수 있다."
   ]
  },
  {
   "cell_type": "markdown",
   "id": "8e51daa0",
   "metadata": {},
   "source": [
    "<div>\n",
    "<img src=\"fig5.1.jpg\" width=\"500\"/>\n",
    "</div>"
   ]
  },
  {
   "cell_type": "markdown",
   "id": "beb163d4",
   "metadata": {},
   "source": [
    "<div>\n",
    "<img src=\"fig5.2.jpg\" width=\"500\"/>\n",
    "</div>"
   ]
  },
  {
   "cell_type": "markdown",
   "id": "2475f116",
   "metadata": {},
   "source": [
    "**덧셈 노드의 역전파**는 다음과 같다. $z = x + y$라고 가정할 때, $\\frac{\\partial z}{\\partial x}=1$, $\\frac{\\partial z}{\\partial y}=1$이 된다. (예제에서는 역전파 때 상류에서 1.3 값이 흘러온다고 가정하자.)"
   ]
  },
  {
   "cell_type": "markdown",
   "id": "5e7814e9",
   "metadata": {},
   "source": [
    "<div>\n",
    "<img src=\"fig5.3.jpg\" width=\"500\"/>\n",
    "</div>"
   ]
  },
  {
   "cell_type": "markdown",
   "id": "95cf8e67",
   "metadata": {},
   "source": [
    "<div>\n",
    "<img src=\"fig5.4.jpg\" width=\"500\"/>\n",
    "</div>"
   ]
  },
  {
   "cell_type": "markdown",
   "id": "20f8dd2d",
   "metadata": {},
   "source": [
    "**곱셈 노드의 역전파**는 다음과 같다. $z = xy$라고 가정할 때, $\\frac{\\partial z}{\\partial x}=y$, $\\frac{\\partial z}{\\partial y}=x$이 된다. (예제에서는 역전파 때 상류에서 1.3 값이 흘러온다고 가정하자.)"
   ]
  },
  {
   "cell_type": "markdown",
   "id": "77f7993a",
   "metadata": {},
   "source": [
    "<div>\n",
    "<img src=\"fig5.5.jpg\" width=\"500\"/>\n",
    "</div>"
   ]
  },
  {
   "cell_type": "markdown",
   "id": "7edfc538",
   "metadata": {},
   "source": [
    "<div>\n",
    "<img src=\"fig5.6.jpg\" width=\"500\"/>\n",
    "</div>"
   ]
  },
  {
   "cell_type": "markdown",
   "id": "d4838211",
   "metadata": {},
   "source": [
    "순전파의 입력 신호를 유지해야 곱셈 노드 역전파가 가능하다.\n",
    "\n",
    "다음 예제를 보자. (옅은 화살표가 순전파, 짙은 화살표가 역전파다.)"
   ]
  },
  {
   "cell_type": "markdown",
   "id": "d0220e78",
   "metadata": {},
   "source": [
    "<div>\n",
    "<img src=\"fig5.7.jpg\" width=\"500\"/>\n",
    "</div>"
   ]
  },
  {
   "cell_type": "markdown",
   "id": "7429051d",
   "metadata": {},
   "source": [
    "위 예제에서 얻을 수 있는 결론은 다음과 같다.\n",
    "\n",
    "- 사과 가격에 대한 지불 금액의 미분 값은 2.2다.\n",
    "- 사과가 1원 오르면 최종 금액은 2.2원 오른다. ($x$원 오르면 $2.2x$원 오른다.)\n",
    "- 소비세와 사과 가격이 같은 양만큼 오르면 최종 금액에는 소비세가 200만큼, 사과 가격이 2.2만큼 영향을 준다. (단위가 다르다는 것에 유념. 소비세의 1은 100%, 사과 가격의 1은 1원이다.)"
   ]
  },
  {
   "cell_type": "code",
   "execution_count": 86,
   "id": "353a5ecf",
   "metadata": {},
   "outputs": [],
   "source": [
    "# 곱셈 계층\n",
    "class MulLayer:\n",
    "    # x와 y 초기화\n",
    "    def __init__(self):\n",
    "        self.x = None\n",
    "        self.y = None\n",
    "\n",
    "    # 순전파 처리\n",
    "    def forward(self, x, y):\n",
    "        self.x = x\n",
    "        self.y = y                \n",
    "        out = x * y\n",
    "\n",
    "        return out\n",
    "\n",
    "    # 역전파 처리\n",
    "    def backward(self, dout):\n",
    "        dx = dout * self.y  # x와 y를 바꾼다.\n",
    "        dy = dout * self.x\n",
    "\n",
    "        return dx, dy\n",
    "\n",
    "# 덧셈 계층\n",
    "class AddLayer:\n",
    "    def __init__(self):\n",
    "        pass\n",
    "\n",
    "    def forward(self, x, y):\n",
    "        out = x + y\n",
    "\n",
    "        return out\n",
    "\n",
    "    def backward(self, dout):\n",
    "        dx = dout * 1\n",
    "        dy = dout * 1\n",
    "\n",
    "        return dx, dy"
   ]
  },
  {
   "cell_type": "code",
   "execution_count": 88,
   "id": "d0ca77e5",
   "metadata": {},
   "outputs": [
    {
     "name": "stdout",
     "output_type": "stream",
     "text": [
      "price: 220\n",
      "dApple: 2.2\n",
      "dApple_num: 110\n",
      "dTax: 200\n"
     ]
    }
   ],
   "source": [
    "# 사과 예제 구현\n",
    "apple = 100\n",
    "apple_num = 2\n",
    "tax = 1.1\n",
    "\n",
    "mul_apple_layer = MulLayer()\n",
    "mul_tax_layer = MulLayer()\n",
    "\n",
    "# forward\n",
    "apple_price = mul_apple_layer.forward(apple, apple_num)\n",
    "price = mul_tax_layer.forward(apple_price, tax)\n",
    "\n",
    "# backward\n",
    "dprice = 1\n",
    "dapple_price, dtax = mul_tax_layer.backward(dprice)\n",
    "dapple, dapple_num = mul_apple_layer.backward(dapple_price)\n",
    "\n",
    "print(\"price:\", int(price))\n",
    "print(\"dApple:\", dapple)\n",
    "print(\"dApple_num:\", int(dapple_num))\n",
    "print(\"dTax:\", dtax)"
   ]
  },
  {
   "cell_type": "markdown",
   "id": "0e2f0b01",
   "metadata": {},
   "source": [
    "다음 예제도 구현 가능하다."
   ]
  },
  {
   "cell_type": "markdown",
   "id": "58c40637",
   "metadata": {},
   "source": [
    "<div>\n",
    "<img src=\"fig5.8.jpg\" width=\"500\"/>\n",
    "</div>"
   ]
  },
  {
   "cell_type": "code",
   "execution_count": 90,
   "id": "93104bcd",
   "metadata": {},
   "outputs": [
    {
     "name": "stdout",
     "output_type": "stream",
     "text": [
      "price: 715\n",
      "dApple: 2.2\n",
      "dApple_num: 110\n",
      "dOrange: 3.3000000000000003\n",
      "dOrange_num: 165\n",
      "dTax: 650\n"
     ]
    }
   ],
   "source": [
    "apple = 100\n",
    "apple_num = 2\n",
    "orange = 150\n",
    "orange_num = 3\n",
    "tax = 1.1\n",
    "\n",
    "# layer\n",
    "mul_apple_layer = MulLayer()\n",
    "mul_orange_layer = MulLayer()\n",
    "add_apple_orange_layer = AddLayer()\n",
    "mul_tax_layer = MulLayer()\n",
    "\n",
    "# forward\n",
    "apple_price = mul_apple_layer.forward(apple, apple_num)  # (1)\n",
    "orange_price = mul_orange_layer.forward(orange, orange_num)  # (2)\n",
    "all_price = add_apple_orange_layer.forward(apple_price, orange_price)  # (3)\n",
    "price = mul_tax_layer.forward(all_price, tax)  # (4)\n",
    "\n",
    "# backward\n",
    "dprice = 1\n",
    "dall_price, dtax = mul_tax_layer.backward(dprice)  # (4)\n",
    "dapple_price, dorange_price = add_apple_orange_layer.backward(dall_price)  # (3)\n",
    "dorange, dorange_num = mul_orange_layer.backward(dorange_price)  # (2)\n",
    "dapple, dapple_num = mul_apple_layer.backward(dapple_price)  # (1)\n",
    "\n",
    "print(\"price:\", int(price))\n",
    "print(\"dApple:\", dapple)\n",
    "print(\"dApple_num:\", int(dapple_num))\n",
    "print(\"dOrange:\", dorange)\n",
    "print(\"dOrange_num:\", int(dorange_num))\n",
    "print(\"dTax:\", dtax)"
   ]
  },
  {
   "cell_type": "markdown",
   "id": "327a64dd",
   "metadata": {},
   "source": [
    "## 5.5 활성화 함수 계층 구현\n",
    "\n",
    "ReLU 함수의 경우, 미분 $\\frac{\\partial y}{\\partial x}$는 입력 $x$가 양수일 경우 1, 0 이하일 경우 0을 반환한다. 계산 그래프로 나타내면 다음과 같다."
   ]
  },
  {
   "cell_type": "markdown",
   "id": "a4f1e974",
   "metadata": {},
   "source": [
    "<div>\n",
    "<img src=\"fig5.9.jpg\" width=\"500\"/>\n",
    "</div>"
   ]
  },
  {
   "cell_type": "markdown",
   "id": "e65d5f1b",
   "metadata": {},
   "source": [
    "파이썬으로 구현하면 다음과 같다. (mask 변수는 bool type으로, $x\\leq0$일 경우 True, $x>0$일 경우 False다."
   ]
  },
  {
   "cell_type": "code",
   "execution_count": 94,
   "id": "9c2c79fe",
   "metadata": {},
   "outputs": [
    {
     "name": "stdout",
     "output_type": "stream",
     "text": [
      "[[ 1.  -0.5]\n",
      " [-2.   3. ]]\n",
      "\n",
      "[[False  True]\n",
      " [ True False]]\n"
     ]
    }
   ],
   "source": [
    "class Relu:\n",
    "    def __init__(self):\n",
    "        self.mask = None\n",
    "\n",
    "    def forward(self, x):\n",
    "        self.mask = (x <= 0)\n",
    "        out = x.copy()\n",
    "        out[self.mask] = 0\n",
    "\n",
    "        return out\n",
    "\n",
    "    def backward(self, dout):\n",
    "        dout[self.mask] = 0\n",
    "        dx = dout\n",
    "\n",
    "        return dx\n",
    "    \n",
    "# mask 작동 원리 확인\n",
    "x = np.array([[1.0, -0.5], [-2.0, 3.0]])\n",
    "mask = (x <= 0)\n",
    "print(x)\n",
    "print(\"\")\n",
    "print(mask)"
   ]
  },
  {
   "cell_type": "markdown",
   "id": "d100700e",
   "metadata": {},
   "source": [
    "Sigmoid 함수의 경우 곱셈과 덧셈 노드 외에도 exp노드와 나눗셈 노드가 존재한다. 미분하면 입력 값이 $\\frac{\\partial L}{\\partial y}$일 때, 마지막 출력 값은 $\\frac{\\partial y}{\\partial x} y^2 \\exp(-x)=\\frac{\\partial y}{\\partial x} y(1-y)$가 된다."
   ]
  },
  {
   "cell_type": "markdown",
   "id": "75154d47",
   "metadata": {},
   "source": [
    "<div>\n",
    "<img src=\"fig5.10.jpg\" width=\"500\"/>\n",
    "</div>"
   ]
  },
  {
   "cell_type": "markdown",
   "id": "ab40db03",
   "metadata": {},
   "source": [
    "다시 말해, 순전파의 출력 y만으로도 sigmoid의 역전파를 계산할 수 있다.\n",
    "\n",
    "파이썬으로 구현하면 다음과 같다."
   ]
  },
  {
   "cell_type": "code",
   "execution_count": 95,
   "id": "ad2340c7",
   "metadata": {},
   "outputs": [],
   "source": [
    "class Sigmoid:\n",
    "    def __init__(self):\n",
    "        self.out = None\n",
    "\n",
    "    def forward(self, x):\n",
    "        out = sigmoid(x)\n",
    "        self.out = out\n",
    "        return out\n",
    "\n",
    "    def backward(self, dout):\n",
    "        dx = dout * (1.0 - self.out) * self.out\n",
    "\n",
    "        return dx"
   ]
  },
  {
   "cell_type": "markdown",
   "id": "94f86e20",
   "metadata": {},
   "source": [
    "행렬의 내적(dot product)을 **어파인 변환**이라고 하며, 어파인 변환을 수행하는 처리는 어파인 계층에서 이뤄진다. 단순 값이 아니라 행렬, 즉 다차원 배열이라는 점에서 계산 그래프를 이해할 때 유념해야 한다."
   ]
  },
  {
   "cell_type": "markdown",
   "id": "f47d4c94",
   "metadata": {},
   "source": [
    "<div>\n",
    "<img src=\"fig5.11.jpg\" width=\"500\"/>\n",
    "</div>"
   ]
  },
  {
   "cell_type": "markdown",
   "id": "c572e711",
   "metadata": {},
   "source": [
    "내적에서 유의해야 할 점은 행렬의 형상이다. 예를 들어, $\\textbf{X}$의 경우 $\\frac{\\partial L}{\\partial \\textbf{X}}$와 형상이 같다. $\\textbf{W}$와 $\\frac{\\partial L}{\\partial \\textbf{W}}$도 마찬가지다.\n",
    "\n",
    "입력 데이터를 $N$개로 묶어 순전파하는, 배치용 어파인 계층의 경우 다음과 같다."
   ]
  },
  {
   "cell_type": "markdown",
   "id": "8cb72b47",
   "metadata": {},
   "source": [
    "<div>\n",
    "<img src=\"fig5.12.jpg\" width=\"500\"/>\n",
    "</div>"
   ]
  },
  {
   "cell_type": "markdown",
   "id": "6a5af595",
   "metadata": {},
   "source": [
    "단순히 편향을 더한다면 $N$개 데이터 전부에 편향이 더해지므로, 역전파를 할 때는 각 데이터의 역전파 값이 편향의 원소에 모여야 한다. 즉, 단순히 array `B`를 더하는 것이 아니라 배치 2개가 묶인 array `dY`의 편향을 `np.sum(DY, axis=0)`으로 구한다."
   ]
  },
  {
   "cell_type": "code",
   "execution_count": 96,
   "id": "45c7e170",
   "metadata": {},
   "outputs": [],
   "source": [
    "class Affine:\n",
    "    def __init__(self, W, b):\n",
    "        self.W = W\n",
    "        self.b = b\n",
    "        \n",
    "        self.x = None\n",
    "        self.original_x_shape = None\n",
    "        # 가중치와 편향 매개변수의 미분\n",
    "        self.dW = None\n",
    "        self.db = None\n",
    "\n",
    "    def forward(self, x):\n",
    "        # 텐서 대응\n",
    "        self.original_x_shape = x.shape\n",
    "        x = x.reshape(x.shape[0], -1)\n",
    "        self.x = x\n",
    "\n",
    "        out = np.dot(self.x, self.W) + self.b\n",
    "\n",
    "        return out\n",
    "\n",
    "    def backward(self, dout):\n",
    "        dx = np.dot(dout, self.W.T)\n",
    "        self.dW = np.dot(self.x.T, dout)\n",
    "        self.db = np.sum(dout, axis=0)\n",
    "        \n",
    "        dx = dx.reshape(*self.original_x_shape)  # 입력 데이터 모양 변경(텐서 대응)\n",
    "        return dx"
   ]
  },
  {
   "cell_type": "markdown",
   "id": "5c2d264c",
   "metadata": {},
   "source": [
    "이전 장에서 접했던 손글씨 숫자 인식의 계층을 시각화하면 다음과 같다."
   ]
  },
  {
   "cell_type": "markdown",
   "id": "889a6c22",
   "metadata": {},
   "source": [
    "<div>\n",
    "<img src=\"fig5.13.jpg\" width=\"500\"/>\n",
    "</div>"
   ]
  },
  {
   "cell_type": "markdown",
   "id": "ea2d0504",
   "metadata": {},
   "source": [
    "소프트맥스 계층을 손실 함수인 교차 엔트로피 오차를 포함해 Softmax-with-Loss 계층으로 구현한다. 미분 과정은 복잡하지만 단순 계산의 반복이므로 결과값과 간단화한 계산 그래프를 보자."
   ]
  },
  {
   "cell_type": "markdown",
   "id": "6e5a58c3",
   "metadata": {},
   "source": [
    "<div>\n",
    "<img src=\"fig5.14.jpg\" width=\"700\"/>\n",
    "</div>"
   ]
  },
  {
   "cell_type": "markdown",
   "id": "276eadb5",
   "metadata": {},
   "source": [
    "<div>\n",
    "<img src=\"fig5.15.jpg\" width=\"500\"/>\n",
    "</div>"
   ]
  },
  {
   "cell_type": "markdown",
   "id": "184fd3c8",
   "metadata": {},
   "source": [
    "신경망 학습의 목적은 신경망의 출력, 즉 Softmax의 출력이 정답 레이블과 가까워지도록 가중치 매개변수를 조정하는 것이다. 따라서 역전파를 할 때 출력값과 정답의 오차를 앞 계층에 효율적으로 전달해야 하며, 따라서 매우 직관적인 오차를 나타내는 $y_1 - t_1$등의 값이 전달되는 것이다."
   ]
  },
  {
   "cell_type": "code",
   "execution_count": 97,
   "id": "f745193e",
   "metadata": {},
   "outputs": [],
   "source": [
    "class SoftmaxWithLoss:\n",
    "    def __init__(self):\n",
    "        self.loss = None # 손실함수\n",
    "        self.y = None    # softmax의 출력\n",
    "        self.t = None    # 정답 레이블(원-핫 인코딩 형태)\n",
    "        \n",
    "    def forward(self, x, t):\n",
    "        self.t = t\n",
    "        self.y = softmax(x)\n",
    "        self.loss = cross_entropy_error(self.y, self.t)\n",
    "        \n",
    "        return self.loss\n",
    "\n",
    "    def backward(self, dout=1):\n",
    "        batch_size = self.t.shape[0]\n",
    "        if self.t.size == self.y.size: # 정답 레이블이 원-핫 인코딩 형태일 때\n",
    "            dx = (self.y - self.t) / batch_size\n",
    "        else:\n",
    "            dx = self.y.copy()\n",
    "            dx[np.arange(batch_size), self.t] -= 1\n",
    "            dx = dx / batch_size\n",
    "        \n",
    "        return dx"
   ]
  },
  {
   "cell_type": "markdown",
   "id": "195d4c5b",
   "metadata": {},
   "source": [
    "## 5.7 오차역전파법 구현\n",
    "\n",
    "신경망 학습의 절차를 복습해보자.\n",
    "\n",
    "1. 미니배치\n",
    "2. 기울기 산출\n",
    "3. 매개변수 갱신\n",
    "4. 반복\n",
    "\n",
    "오차역전파법은 이 중 2단계인 기울기 산출에 해당된다.\n",
    "\n",
    "오차역전파법을 활용한 2층 신경망 클래스는 다음과 같이 구현한다."
   ]
  },
  {
   "cell_type": "code",
   "execution_count": 98,
   "id": "4e462de7",
   "metadata": {},
   "outputs": [],
   "source": [
    "from collections import OrderedDict\n",
    "\n",
    "\n",
    "class TwoLayerNet:\n",
    "\n",
    "    def __init__(self, input_size, hidden_size, output_size, weight_init_std = 0.01):\n",
    "        # 가중치 초기화\n",
    "        self.params = {}\n",
    "        self.params['W1'] = weight_init_std * np.random.randn(input_size, hidden_size)\n",
    "        self.params['b1'] = np.zeros(hidden_size)\n",
    "        self.params['W2'] = weight_init_std * np.random.randn(hidden_size, output_size) \n",
    "        self.params['b2'] = np.zeros(output_size)\n",
    "\n",
    "        # 계층 생성\n",
    "        self.layers = OrderedDict()\n",
    "        self.layers['Affine1'] = Affine(self.params['W1'], self.params['b1'])\n",
    "        self.layers['Relu1'] = Relu()\n",
    "        self.layers['Affine2'] = Affine(self.params['W2'], self.params['b2'])\n",
    "\n",
    "        self.lastLayer = SoftmaxWithLoss()\n",
    "        \n",
    "    def predict(self, x):\n",
    "        for layer in self.layers.values():\n",
    "            x = layer.forward(x)\n",
    "        \n",
    "        return x\n",
    "        \n",
    "    # x : 입력 데이터, t : 정답 레이블\n",
    "    def loss(self, x, t):\n",
    "        y = self.predict(x)\n",
    "        return self.lastLayer.forward(y, t)\n",
    "    \n",
    "    def accuracy(self, x, t):\n",
    "        y = self.predict(x)\n",
    "        y = np.argmax(y, axis=1)\n",
    "        if t.ndim != 1 : t = np.argmax(t, axis=1)\n",
    "        \n",
    "        accuracy = np.sum(y == t) / float(x.shape[0])\n",
    "        return accuracy\n",
    "        \n",
    "    # x : 입력 데이터, t : 정답 레이블\n",
    "    def numerical_gradient(self, x, t):\n",
    "        loss_W = lambda W: self.loss(x, t)\n",
    "        \n",
    "        grads = {}\n",
    "        grads['W1'] = numerical_gradient(loss_W, self.params['W1'])\n",
    "        grads['b1'] = numerical_gradient(loss_W, self.params['b1'])\n",
    "        grads['W2'] = numerical_gradient(loss_W, self.params['W2'])\n",
    "        grads['b2'] = numerical_gradient(loss_W, self.params['b2'])\n",
    "        \n",
    "        return grads\n",
    "        \n",
    "    def gradient(self, x, t):\n",
    "        # forward\n",
    "        self.loss(x, t)\n",
    "\n",
    "        # backward\n",
    "        dout = 1\n",
    "        dout = self.lastLayer.backward(dout)\n",
    "        \n",
    "        layers = list(self.layers.values())\n",
    "        layers.reverse()\n",
    "        for layer in layers:\n",
    "            dout = layer.backward(dout)\n",
    "\n",
    "        # 결과 저장\n",
    "        grads = {}\n",
    "        grads['W1'], grads['b1'] = self.layers['Affine1'].dW, self.layers['Affine1'].db\n",
    "        grads['W2'], grads['b2'] = self.layers['Affine2'].dW, self.layers['Affine2'].db\n",
    "\n",
    "        return grads"
   ]
  },
  {
   "cell_type": "markdown",
   "id": "9e248faf",
   "metadata": {},
   "source": [
    "앞서 배운 수치 미분과 오차역전파법 모두 기울기를 나타내는 방법이다. 따라서 기울기 산출의 정확성을 위해 두 방법을 각각 사용하고 결과값인 기울기를 서로 비교하는 작업(**기울기 확인**)을 한다."
   ]
  },
  {
   "cell_type": "code",
   "execution_count": 99,
   "id": "7e3e7727",
   "metadata": {},
   "outputs": [
    {
     "name": "stdout",
     "output_type": "stream",
     "text": [
      "W1:4.3363130908355303e-10\n",
      "b1:2.251000127279361e-09\n",
      "W2:7.427926275595242e-09\n",
      "b2:1.4094857478663681e-07\n"
     ]
    }
   ],
   "source": [
    "from dataset.mnist import load_mnist\n",
    "\n",
    "# 데이터 읽기\n",
    "(x_train, t_train), (x_test, t_test) = load_mnist(normalize=True, one_hot_label=True)\n",
    "\n",
    "network = TwoLayerNet(input_size=784, hidden_size=50, output_size=10)\n",
    "\n",
    "x_batch = x_train[:3]\n",
    "t_batch = t_train[:3]\n",
    "\n",
    "grad_numerical = network.numerical_gradient(x_batch, t_batch)\n",
    "grad_backprop = network.gradient(x_batch, t_batch)\n",
    "\n",
    "# 각 가중치의 절대 오차의 평균을 구한다.\n",
    "for key in grad_numerical.keys():\n",
    "    diff = np.average( np.abs(grad_backprop[key] - grad_numerical[key]) )\n",
    "    print(key + \":\" + str(diff))"
   ]
  },
  {
   "cell_type": "markdown",
   "id": "d4851ae1",
   "metadata": {},
   "source": [
    "기울기 확인 결과, 큰 차이가 없음을 알 수 있다. (유한한 정밀도의 한계 때문에 0이 나오는 경우는 거의 없다.)\n",
    "\n",
    "오차역전파법을 사용한 학습 또한 구현할 수 있다. 이전 학습 구현과 매우 유사하다."
   ]
  },
  {
   "cell_type": "code",
   "execution_count": 100,
   "id": "46f33d81",
   "metadata": {},
   "outputs": [
    {
     "name": "stdout",
     "output_type": "stream",
     "text": [
      "0.102 0.1046\n",
      "0.89955 0.9019\n",
      "0.9224166666666667 0.9242\n",
      "0.9346166666666667 0.9313\n",
      "0.9419833333333333 0.9387\n",
      "0.95015 0.9469\n",
      "0.9534 0.9505\n",
      "0.9586333333333333 0.9566\n",
      "0.9632666666666667 0.9597\n",
      "0.9657 0.9626\n",
      "0.9692833333333334 0.9645\n",
      "0.9708833333333333 0.9651\n",
      "0.9735666666666667 0.9683\n",
      "0.9732666666666666 0.9666\n",
      "0.9761166666666666 0.9694\n",
      "0.9779333333333333 0.9715\n",
      "0.9781 0.9706\n"
     ]
    }
   ],
   "source": [
    "# 데이터 읽기\n",
    "(x_train, t_train), (x_test, t_test) = load_mnist(normalize=True, one_hot_label=True)\n",
    "\n",
    "network = TwoLayerNet(input_size=784, hidden_size=50, output_size=10)\n",
    "\n",
    "iters_num = 10000\n",
    "train_size = x_train.shape[0]\n",
    "batch_size = 100\n",
    "learning_rate = 0.1\n",
    "\n",
    "train_loss_list = []\n",
    "train_acc_list = []\n",
    "test_acc_list = []\n",
    "\n",
    "iter_per_epoch = max(train_size / batch_size, 1)\n",
    "\n",
    "for i in range(iters_num):\n",
    "    batch_mask = np.random.choice(train_size, batch_size)\n",
    "    x_batch = x_train[batch_mask]\n",
    "    t_batch = t_train[batch_mask]\n",
    "    \n",
    "    # 기울기 계산\n",
    "    #grad = network.numerical_gradient(x_batch, t_batch) # 수치 미분 방식\n",
    "    grad = network.gradient(x_batch, t_batch) # 오차역전파법 방식(훨씬 빠르다)\n",
    "    \n",
    "    # 갱신\n",
    "    for key in ('W1', 'b1', 'W2', 'b2'):\n",
    "        network.params[key] -= learning_rate * grad[key]\n",
    "    \n",
    "    loss = network.loss(x_batch, t_batch)\n",
    "    train_loss_list.append(loss)\n",
    "    \n",
    "    if i % iter_per_epoch == 0:\n",
    "        train_acc = network.accuracy(x_train, t_train)\n",
    "        test_acc = network.accuracy(x_test, t_test)\n",
    "        train_acc_list.append(train_acc)\n",
    "        test_acc_list.append(test_acc)\n",
    "        print(train_acc, test_acc)"
   ]
  },
  {
   "cell_type": "markdown",
   "id": "1f8f4355",
   "metadata": {},
   "source": [
    "## Takeaways:\n",
    "- 계산 그래프를 이용하면 계산 과정을 시각적으로 파악할 수 있다.\n",
    "- 계산 그래프의 노드는 국소적 계산으로 구성된다. 국소적 계산을 조합해 전체 계산을 구성한다.\n",
    "- 계산 그래프의 순전파는 통상의 계산을 수행한다. 한편, 계산 그래프의 역전파로는 각 노드의 미분을 구할 수 있다.\n",
    "- 신경망의 구성 요소를 계층으로 구현하여 기울기를 효율적으로 계산할 수 있다. 이를 **오차역전파법**이라고 한다.\n",
    "- 수치 미분과 오차역전파법의 결과를 비교하면 구현이 제대로 되었는지 확인할 수 있다. (기울기 확인)"
   ]
  },
  {
   "cell_type": "markdown",
   "id": "659da1a5",
   "metadata": {},
   "source": [
    "# 6. 학습 관련 기술들\n",
    "\n",
    "이전에 소개했던 **확률적 경사 하강법 (SGD)**은 기울어진 매개변수 방향으로 계속해서 갱신해 나가는 방법이었다.\n",
    "\n",
    "수식으로는 다음과 같다. ($\\textbf{W}$는 갱신할 가중치 매개변수, $\\frac{\\partial L}{\\partial \\textbf{W}}$는 $\\textbf{W}$에 대한 손실 함수의 기울기, $\\eta$는 학습률, $\\leftarrow$는 우변의 값으로 좌변의 값을 갱신한다는 뜻이다. $\\eta$는 주로 $0.01$이나 $0.001$의 값을 미리 정해 사용한다.)"
   ]
  },
  {
   "cell_type": "markdown",
   "id": "ca952eb4",
   "metadata": {},
   "source": [
    "<div>\n",
    "<img src=\"equ6.1.jpg\" width=\"500\"/>\n",
    "</div>"
   ]
  },
  {
   "cell_type": "code",
   "execution_count": 101,
   "id": "a619f596",
   "metadata": {},
   "outputs": [],
   "source": [
    "'''\n",
    "SGD의 pseudo-code\n",
    "실제로는 작동하지 않는 의사 코드이나, 설명을 위해 삽입했다.\n",
    "'''\n",
    "\n",
    "class SGD:\n",
    "    def __init__(self, lr=0.01):\n",
    "        self.lr = lr\n",
    "        \n",
    "    def update(self, params, grads):\n",
    "        for key in params.keys():\n",
    "            params[key] -= self.lr * grads[key]\n",
    "            \n",
    "network = TwoLayerNet(...)\n",
    "optimizer = SGD()\n",
    "\n",
    "for i in range(10000):\n",
    "    ...\n",
    "    x_batch, t_batch = get_mini_batch(...) # 미니배치\n",
    "    grads = network.gradient(x_batch, t_batch)\n",
    "    params = network.params\n",
    "    optimizer.update(params, grads)\n",
    "    ..."
   ]
  },
  {
   "cell_type": "markdown",
   "id": "03720d16",
   "metadata": {},
   "source": [
    "그러나 SGD는 함수에 따라 매우 비효율적일 수 있다. $f(x,y)=\\frac{1}{20} x^2 + y^2$가 주어졌을 때, 그래프와 기울기는 다음과 같다."
   ]
  },
  {
   "cell_type": "markdown",
   "id": "65e6eace",
   "metadata": {},
   "source": [
    "<div>\n",
    "<img src=\"fig6.1.jpg\" width=\"700\"/>\n",
    "</div>"
   ]
  },
  {
   "cell_type": "markdown",
   "id": "301a986c",
   "metadata": {},
   "source": [
    "<div>\n",
    "<img src=\"fig6.2.jpg\" width=\"500\"/>\n",
    "</div>"
   ]
  },
  {
   "cell_type": "markdown",
   "id": "050fb095",
   "metadata": {},
   "source": [
    "이에 SGD를 적용하면 다음 그림과 같이 최적화가 진행된다."
   ]
  },
  {
   "cell_type": "markdown",
   "id": "5798c22a",
   "metadata": {},
   "source": [
    "<div>\n",
    "<img src=\"fig6.3.jpg\" width=\"500\"/>\n",
    "</div>"
   ]
  },
  {
   "cell_type": "markdown",
   "id": "588914d8",
   "metadata": {},
   "source": [
    "방향에 따라 성질이 달라지는 *비등방성* 함수의 경우, SGD의 탐색 경로는 비효율적이다.\n",
    "\n",
    "**모멘텀** 기법은 수식으로 다음과 같이 나타낼 수 있다. ($\\textbf{v}$는 velocity에 해당한다. $\\alpha$는 0.9 등의 값을 지닌 상수다.)"
   ]
  },
  {
   "cell_type": "markdown",
   "id": "eea67b98",
   "metadata": {},
   "source": [
    "<div>\n",
    "<img src=\"equ6.2.jpg\" width=\"500\"/>\n",
    "</div>"
   ]
  },
  {
   "cell_type": "markdown",
   "id": "ebe34ef6",
   "metadata": {},
   "source": [
    "모멘텀은 기울기 방향으로 힘을 받아 물체가 가속되는 물리 법칙을 나타내며, $\\alpha\\textbf{v}$는 물체가 아무런 힘을 받지 않을 때 서서히 하강시키는 역할을 한다 (마찰, 공기 저항 등)."
   ]
  },
  {
   "cell_type": "code",
   "execution_count": 102,
   "id": "02e55d99",
   "metadata": {},
   "outputs": [],
   "source": [
    "class Momentum:\n",
    "\n",
    "    \"\"\"모멘텀 SGD\"\"\"\n",
    "\n",
    "    def __init__(self, lr=0.01, momentum=0.9):\n",
    "        self.lr = lr\n",
    "        self.momentum = momentum\n",
    "        self.v = None\n",
    "        \n",
    "    def update(self, params, grads):\n",
    "        if self.v is None:\n",
    "            self.v = {}\n",
    "            for key, val in params.items():                                \n",
    "                self.v[key] = np.zeros_like(val)\n",
    "                \n",
    "        for key in params.keys():\n",
    "            self.v[key] = self.momentum*self.v[key] - self.lr*grads[key] \n",
    "            params[key] += self.v[key]"
   ]
  },
  {
   "cell_type": "markdown",
   "id": "e795971f",
   "metadata": {},
   "source": [
    "<div>\n",
    "<img src=\"fig6.4.jpg\" width=\"500\"/>\n",
    "</div>"
   ]
  },
  {
   "cell_type": "markdown",
   "id": "840fd01f",
   "metadata": {},
   "source": [
    "모멘텀은 SGD와 비교했을 때 지그재그의 정도가 덜하며, 이는 x축 방향으로 일정하게 가속할 수 있기 때문에 SGD보다 x축 이동이 더 빠르기 때문이다.\n",
    "\n",
    "학습률 $\\eta$를 최적의 값으로 정하는 기술로 *학습률 감소*가 있다. 학습을 진행하며 큰 학습률을 점차 줄여나가는 방식이다. **AdaGrad**는 각각의 매개변수에 맞춤형 값을 설정한다."
   ]
  },
  {
   "cell_type": "markdown",
   "id": "f3d209ed",
   "metadata": {},
   "source": [
    "<div>\n",
    "<img src=\"equ6.3.jpg\" width=\"500\"/>\n",
    "</div>"
   ]
  },
  {
   "cell_type": "markdown",
   "id": "bbb5e3a3",
   "metadata": {},
   "source": [
    "$h$는 기존 기울기 값을 제곱하여 계속 더해주는 역할을 한다. ($\\odot$는 행렬의 원소별 곱셈을 의미) $\\frac{1}{\\sqrt{h}}$를 곱해 갱신하는 것은 매개변수의 원소 중에서 크게 갱신된 원소는 학습률이 낮아진다는 것을 뜻한다 (즉 각각의 매개변수의 값이 달라진다)."
   ]
  },
  {
   "cell_type": "code",
   "execution_count": 103,
   "id": "daef2c14",
   "metadata": {},
   "outputs": [],
   "source": [
    "class AdaGrad:\n",
    "\n",
    "    \"\"\"AdaGrad\"\"\"\n",
    "\n",
    "    def __init__(self, lr=0.01):\n",
    "        self.lr = lr\n",
    "        self.h = None\n",
    "        \n",
    "    def update(self, params, grads):\n",
    "        if self.h is None:\n",
    "            self.h = {}\n",
    "            for key, val in params.items():\n",
    "                self.h[key] = np.zeros_like(val)\n",
    "            \n",
    "        for key in params.keys():\n",
    "            self.h[key] += grads[key] * grads[key]\n",
    "            params[key] -= self.lr * grads[key] / (np.sqrt(self.h[key]) + 1e-7)\n",
    "            # 1e-7를 더함으로써 0으로 나누는 에러를 막아준다."
   ]
  },
  {
   "cell_type": "markdown",
   "id": "08868eb9",
   "metadata": {},
   "source": [
    "<div>\n",
    "<img src=\"fig6.5.jpg\" width=\"500\"/>\n",
    "</div>"
   ]
  },
  {
   "cell_type": "markdown",
   "id": "6d255013",
   "metadata": {},
   "source": [
    "그림에서 보이듯 AdaGrad의 경우 효율적으로 움직인다. 상기했듯 처음에는 크게 움직이나, 큰 움직임에 비례해 갱신 정도도 크게 작아졌고 따라서 지그재그의 움직임도 줄어들었다.\n",
    "\n",
    "물리 법칙을 활용한 모멘텀과 각 매개변수의 움직임에 적응해 그에 따라 갱신 정도를 조정한 AdaGrad를 융합한 것이 **Adam**이다."
   ]
  },
  {
   "cell_type": "code",
   "execution_count": 104,
   "id": "43971ab0",
   "metadata": {},
   "outputs": [],
   "source": [
    "class Adam:\n",
    "\n",
    "    \"\"\"Adam (http://arxiv.org/abs/1412.6980v8)\"\"\"\n",
    "\n",
    "    def __init__(self, lr=0.001, beta1=0.9, beta2=0.999):\n",
    "        self.lr = lr\n",
    "        self.beta1 = beta1\n",
    "        self.beta2 = beta2\n",
    "        self.iter = 0\n",
    "        self.m = None\n",
    "        self.v = None\n",
    "        \n",
    "    def update(self, params, grads):\n",
    "        if self.m is None:\n",
    "            self.m, self.v = {}, {}\n",
    "            for key, val in params.items():\n",
    "                self.m[key] = np.zeros_like(val)\n",
    "                self.v[key] = np.zeros_like(val)\n",
    "        \n",
    "        self.iter += 1\n",
    "        lr_t  = self.lr * np.sqrt(1.0 - self.beta2**self.iter) / (1.0 - self.beta1**self.iter)         \n",
    "        \n",
    "        for key in params.keys():\n",
    "            #self.m[key] = self.beta1*self.m[key] + (1-self.beta1)*grads[key]\n",
    "            #self.v[key] = self.beta2*self.v[key] + (1-self.beta2)*(grads[key]**2)\n",
    "            self.m[key] += (1 - self.beta1) * (grads[key] - self.m[key])\n",
    "            self.v[key] += (1 - self.beta2) * (grads[key]**2 - self.v[key])\n",
    "            \n",
    "            params[key] -= lr_t * self.m[key] / (np.sqrt(self.v[key]) + 1e-7)\n",
    "            \n",
    "            #unbias_m += (1 - self.beta1) * (grads[key] - self.m[key]) # correct bias\n",
    "            #unbisa_b += (1 - self.beta2) * (grads[key]*grads[key] - self.v[key]) # correct bias\n",
    "            #params[key] += self.lr * unbias_m / (np.sqrt(unbisa_b) + 1e-7)"
   ]
  },
  {
   "cell_type": "markdown",
   "id": "eda6c8b0",
   "metadata": {},
   "source": [
    "<div>\n",
    "<img src=\"fig6.6.jpg\" width=\"500\"/>\n",
    "</div>"
   ]
  },
  {
   "cell_type": "markdown",
   "id": "dadb5521",
   "metadata": {},
   "source": [
    "완벽한 상위호환인 기법은 존재하지 않는다. 풀어야 할 문제가 무엇이냐에 따라서 최적의 기법이 다르다."
   ]
  },
  {
   "cell_type": "code",
   "execution_count": 109,
   "id": "964649b4",
   "metadata": {},
   "outputs": [],
   "source": [
    "# 준비 코드\n",
    "\n",
    "class MultiLayerNet:\n",
    "    \"\"\"완전연결 다층 신경망\n",
    "    Parameters\n",
    "    ----------\n",
    "    input_size : 입력 크기（MNIST의 경우엔 784）\n",
    "    hidden_size_list : 각 은닉층의 뉴런 수를 담은 리스트（e.g. [100, 100, 100]）\n",
    "    output_size : 출력 크기（MNIST의 경우엔 10）\n",
    "    activation : 활성화 함수 - 'relu' 혹은 'sigmoid'\n",
    "    weight_init_std : 가중치의 표준편차 지정（e.g. 0.01）\n",
    "        'relu'나 'he'로 지정하면 'He 초깃값'으로 설정\n",
    "        'sigmoid'나 'xavier'로 지정하면 'Xavier 초깃값'으로 설정\n",
    "    weight_decay_lambda : 가중치 감소(L2 법칙)의 세기\n",
    "    \"\"\"\n",
    "    def __init__(self, input_size, hidden_size_list, output_size,\n",
    "                 activation='relu', weight_init_std='relu', weight_decay_lambda=0):\n",
    "        self.input_size = input_size\n",
    "        self.output_size = output_size\n",
    "        self.hidden_size_list = hidden_size_list\n",
    "        self.hidden_layer_num = len(hidden_size_list)\n",
    "        self.weight_decay_lambda = weight_decay_lambda\n",
    "        self.params = {}\n",
    "\n",
    "        # 가중치 초기화\n",
    "        self.__init_weight(weight_init_std)\n",
    "\n",
    "        # 계층 생성\n",
    "        activation_layer = {'sigmoid': Sigmoid, 'relu': Relu}\n",
    "        self.layers = OrderedDict()\n",
    "        for idx in range(1, self.hidden_layer_num+1):\n",
    "            self.layers['Affine' + str(idx)] = Affine(self.params['W' + str(idx)],\n",
    "                                                      self.params['b' + str(idx)])\n",
    "            self.layers['Activation_function' + str(idx)] = activation_layer[activation]()\n",
    "\n",
    "        idx = self.hidden_layer_num + 1\n",
    "        self.layers['Affine' + str(idx)] = Affine(self.params['W' + str(idx)],\n",
    "            self.params['b' + str(idx)])\n",
    "\n",
    "        self.last_layer = SoftmaxWithLoss()\n",
    "\n",
    "    def __init_weight(self, weight_init_std):\n",
    "        \"\"\"가중치 초기화\n",
    "        \n",
    "        Parameters\n",
    "        ----------\n",
    "        weight_init_std : 가중치의 표준편차 지정（e.g. 0.01）\n",
    "            'relu'나 'he'로 지정하면 'He 초깃값'으로 설정\n",
    "            'sigmoid'나 'xavier'로 지정하면 'Xavier 초깃값'으로 설정\n",
    "        \"\"\"\n",
    "        all_size_list = [self.input_size] + self.hidden_size_list + [self.output_size]\n",
    "        for idx in range(1, len(all_size_list)):\n",
    "            scale = weight_init_std\n",
    "            if str(weight_init_std).lower() in ('relu', 'he'):\n",
    "                scale = np.sqrt(2.0 / all_size_list[idx - 1])  # ReLU를 사용할 때의 권장 초깃값\n",
    "            elif str(weight_init_std).lower() in ('sigmoid', 'xavier'):\n",
    "                scale = np.sqrt(1.0 / all_size_list[idx - 1])  # sigmoid를 사용할 때의 권장 초깃값\n",
    "            self.params['W' + str(idx)] = scale * np.random.randn(all_size_list[idx-1], all_size_list[idx])\n",
    "            self.params['b' + str(idx)] = np.zeros(all_size_list[idx])\n",
    "\n",
    "    def predict(self, x):\n",
    "        for layer in self.layers.values():\n",
    "            x = layer.forward(x)\n",
    "\n",
    "        return x\n",
    "\n",
    "    def loss(self, x, t):\n",
    "        \"\"\"손실 함수를 구한다.\n",
    "        \n",
    "        Parameters\n",
    "        ----------\n",
    "        x : 입력 데이터\n",
    "        t : 정답 레이블 \n",
    "        \n",
    "        Returns\n",
    "        -------\n",
    "        손실 함수의 값\n",
    "        \"\"\"\n",
    "        y = self.predict(x)\n",
    "\n",
    "        weight_decay = 0\n",
    "        for idx in range(1, self.hidden_layer_num + 2):\n",
    "            W = self.params['W' + str(idx)]\n",
    "            weight_decay += 0.5 * self.weight_decay_lambda * np.sum(W ** 2)\n",
    "\n",
    "        return self.last_layer.forward(y, t) + weight_decay\n",
    "\n",
    "    def accuracy(self, x, t):\n",
    "        y = self.predict(x)\n",
    "        y = np.argmax(y, axis=1)\n",
    "        if t.ndim != 1 : t = np.argmax(t, axis=1)\n",
    "\n",
    "        accuracy = np.sum(y == t) / float(x.shape[0])\n",
    "        return accuracy\n",
    "\n",
    "    def numerical_gradient(self, x, t):\n",
    "        \"\"\"기울기를 구한다(수치 미분).\n",
    "        \n",
    "        Parameters\n",
    "        ----------\n",
    "        x : 입력 데이터\n",
    "        t : 정답 레이블\n",
    "        \n",
    "        Returns\n",
    "        -------\n",
    "        각 층의 기울기를 담은 딕셔너리(dictionary) 변수\n",
    "            grads['W1']、grads['W2']、... 각 층의 가중치\n",
    "            grads['b1']、grads['b2']、... 각 층의 편향\n",
    "        \"\"\"\n",
    "        loss_W = lambda W: self.loss(x, t)\n",
    "\n",
    "        grads = {}\n",
    "        for idx in range(1, self.hidden_layer_num+2):\n",
    "            grads['W' + str(idx)] = numerical_gradient(loss_W, self.params['W' + str(idx)])\n",
    "            grads['b' + str(idx)] = numerical_gradient(loss_W, self.params['b' + str(idx)])\n",
    "\n",
    "        return grads\n",
    "\n",
    "    def gradient(self, x, t):\n",
    "        \"\"\"기울기를 구한다(오차역전파법).\n",
    "        Parameters\n",
    "        ----------\n",
    "        x : 입력 데이터\n",
    "        t : 정답 레이블\n",
    "        \n",
    "        Returns\n",
    "        -------\n",
    "        각 층의 기울기를 담은 딕셔너리(dictionary) 변수\n",
    "            grads['W1']、grads['W2']、... 각 층의 가중치\n",
    "            grads['b1']、grads['b2']、... 각 층의 편향\n",
    "        \"\"\"\n",
    "        # forward\n",
    "        self.loss(x, t)\n",
    "\n",
    "        # backward\n",
    "        dout = 1\n",
    "        dout = self.last_layer.backward(dout)\n",
    "\n",
    "        layers = list(self.layers.values())\n",
    "        layers.reverse()\n",
    "        for layer in layers:\n",
    "            dout = layer.backward(dout)\n",
    "\n",
    "        # 결과 저장\n",
    "        grads = {}\n",
    "        for idx in range(1, self.hidden_layer_num+2):\n",
    "            grads['W' + str(idx)] = self.layers['Affine' + str(idx)].dW + self.weight_decay_lambda * self.layers['Affine' + str(idx)].W\n",
    "            grads['b' + str(idx)] = self.layers['Affine' + str(idx)].db\n",
    "\n",
    "        return grads\n",
    "    \n",
    "def smooth_curve(x):\n",
    "    \"\"\"손실 함수의 그래프를 매끄럽게 하기 위해 사용\n",
    "    \n",
    "    참고：http://glowingpython.blogspot.jp/2012/02/convolution-with-numpy.html\n",
    "    \"\"\"\n",
    "    window_len = 11\n",
    "    s = np.r_[x[window_len-1:0:-1], x, x[-1:-window_len:-1]]\n",
    "    w = np.kaiser(window_len, 2)\n",
    "    y = np.convolve(w/w.sum(), s, mode='valid')\n",
    "    return y[5:len(y)-5]"
   ]
  },
  {
   "cell_type": "code",
   "execution_count": 110,
   "id": "b58fb55d",
   "metadata": {},
   "outputs": [
    {
     "name": "stdout",
     "output_type": "stream",
     "text": [
      "===========iteration:0===========\n",
      "SGD:2.311662734630048\n",
      "Momentum:2.3716283018941295\n",
      "AdaGrad:2.2208593071222156\n",
      "Adam:2.175024281759965\n",
      "===========iteration:100===========\n",
      "SGD:1.6470885490372973\n",
      "Momentum:0.4470334158923053\n",
      "AdaGrad:0.2261960696793332\n",
      "Adam:0.34136444013949907\n",
      "===========iteration:200===========\n",
      "SGD:0.8421017626943341\n",
      "Momentum:0.20239158946078137\n",
      "AdaGrad:0.10852650299142208\n",
      "Adam:0.211245656832963\n",
      "===========iteration:300===========\n",
      "SGD:0.554013440968788\n",
      "Momentum:0.1910216859721129\n",
      "AdaGrad:0.11177511500552675\n",
      "Adam:0.20789179872367194\n",
      "===========iteration:400===========\n",
      "SGD:0.34572559699894534\n",
      "Momentum:0.1287404996798069\n",
      "AdaGrad:0.09702678952170066\n",
      "Adam:0.11772003975231325\n",
      "===========iteration:500===========\n",
      "SGD:0.5191554330313176\n",
      "Momentum:0.21041703257209116\n",
      "AdaGrad:0.09506820839293917\n",
      "Adam:0.1389098618269369\n",
      "===========iteration:600===========\n",
      "SGD:0.3451116520193199\n",
      "Momentum:0.13585173874125972\n",
      "AdaGrad:0.05381503581097388\n",
      "Adam:0.0646988931778746\n",
      "===========iteration:700===========\n",
      "SGD:0.3241265344689419\n",
      "Momentum:0.12185114411426584\n",
      "AdaGrad:0.05474658729717656\n",
      "Adam:0.058456367308954475\n",
      "===========iteration:800===========\n",
      "SGD:0.3080070713972789\n",
      "Momentum:0.06613337650649809\n",
      "AdaGrad:0.03779400060337654\n",
      "Adam:0.06875316495917642\n",
      "===========iteration:900===========\n",
      "SGD:0.2422784858127337\n",
      "Momentum:0.07976544912687933\n",
      "AdaGrad:0.038224147988501295\n",
      "Adam:0.0480426054306404\n",
      "===========iteration:1000===========\n",
      "SGD:0.279266582646853\n",
      "Momentum:0.10462614428648043\n",
      "AdaGrad:0.04738178563550498\n",
      "Adam:0.07320465154326072\n",
      "===========iteration:1100===========\n",
      "SGD:0.3154257258395623\n",
      "Momentum:0.08696537651701232\n",
      "AdaGrad:0.056405175858692584\n",
      "Adam:0.0607983378613222\n",
      "===========iteration:1200===========\n",
      "SGD:0.36156860633559296\n",
      "Momentum:0.14732798288296214\n",
      "AdaGrad:0.030447331413445293\n",
      "Adam:0.08886012973589019\n",
      "===========iteration:1300===========\n",
      "SGD:0.417634162414886\n",
      "Momentum:0.19097326937520978\n",
      "AdaGrad:0.0675924404540112\n",
      "Adam:0.15015400142214613\n",
      "===========iteration:1400===========\n",
      "SGD:0.247222915535472\n",
      "Momentum:0.049089675548872294\n",
      "AdaGrad:0.041680233934099926\n",
      "Adam:0.04667352555962689\n",
      "===========iteration:1500===========\n",
      "SGD:0.1527499834102427\n",
      "Momentum:0.0709727048642187\n",
      "AdaGrad:0.0424318892763048\n",
      "Adam:0.05335340883005707\n",
      "===========iteration:1600===========\n",
      "SGD:0.2775024600357836\n",
      "Momentum:0.05839101641054188\n",
      "AdaGrad:0.02833285723798619\n",
      "Adam:0.0302848244569592\n",
      "===========iteration:1700===========\n",
      "SGD:0.20847010578427894\n",
      "Momentum:0.08283424319287995\n",
      "AdaGrad:0.02246767904928044\n",
      "Adam:0.06340753178090201\n",
      "===========iteration:1800===========\n",
      "SGD:0.29052836729270887\n",
      "Momentum:0.051762857827914274\n",
      "AdaGrad:0.018665173941864763\n",
      "Adam:0.04037944405457812\n",
      "===========iteration:1900===========\n",
      "SGD:0.2697303620791766\n",
      "Momentum:0.09066668603048336\n",
      "AdaGrad:0.019926782646355168\n",
      "Adam:0.06698793333955212\n"
     ]
    },
    {
     "data": {
      "image/png": "[encoded data removed]",
      "text/plain": [
       "<Figure size 432x288 with 1 Axes>"
      ]
     },
     "metadata": {
      "needs_background": "light"
     },
     "output_type": "display_data"
    }
   ],
   "source": [
    "# import os\n",
    "# import sys\n",
    "# sys.path.append(os.pardir)  # 부모 디렉터리의 파일을 가져올 수 있도록 설정\n",
    "# import matplotlib.pyplot as plt\n",
    "# from dataset.mnist import load_mnist\n",
    "# from common.util import smooth_curve\n",
    "# from common.multi_layer_net import MultiLayerNet\n",
    "# from common.optimizer import *\n",
    "\n",
    "\n",
    "# 0. MNIST 데이터 읽기==========\n",
    "(x_train, t_train), (x_test, t_test) = load_mnist(normalize=True)\n",
    "\n",
    "train_size = x_train.shape[0]\n",
    "batch_size = 128\n",
    "max_iterations = 2000\n",
    "\n",
    "\n",
    "# 1. 실험용 설정==========\n",
    "optimizers = {}\n",
    "optimizers['SGD'] = SGD()\n",
    "optimizers['Momentum'] = Momentum()\n",
    "optimizers['AdaGrad'] = AdaGrad()\n",
    "optimizers['Adam'] = Adam()\n",
    "#optimizers['RMSprop'] = RMSprop()\n",
    "\n",
    "networks = {}\n",
    "train_loss = {}\n",
    "for key in optimizers.keys():\n",
    "    networks[key] = MultiLayerNet(\n",
    "        input_size=784, hidden_size_list=[100, 100, 100, 100],\n",
    "        output_size=10)\n",
    "    train_loss[key] = []    \n",
    "\n",
    "\n",
    "# 2. 훈련 시작==========\n",
    "for i in range(max_iterations):\n",
    "    batch_mask = np.random.choice(train_size, batch_size)\n",
    "    x_batch = x_train[batch_mask]\n",
    "    t_batch = t_train[batch_mask]\n",
    "    \n",
    "    for key in optimizers.keys():\n",
    "        grads = networks[key].gradient(x_batch, t_batch)\n",
    "        optimizers[key].update(networks[key].params, grads)\n",
    "    \n",
    "        loss = networks[key].loss(x_batch, t_batch)\n",
    "        train_loss[key].append(loss)\n",
    "    \n",
    "    if i % 100 == 0:\n",
    "        print( \"===========\" + \"iteration:\" + str(i) + \"===========\")\n",
    "        for key in optimizers.keys():\n",
    "            loss = networks[key].loss(x_batch, t_batch)\n",
    "            print(key + \":\" + str(loss))\n",
    "\n",
    "\n",
    "# 3. 그래프 그리기==========\n",
    "markers = {\"SGD\": \"o\", \"Momentum\": \"x\", \"AdaGrad\": \"s\", \"Adam\": \"D\"}\n",
    "x = np.arange(max_iterations)\n",
    "for key in optimizers.keys():\n",
    "    plt.plot(x, smooth_curve(train_loss[key]), marker=markers[key], markevery=100, label=key)\n",
    "plt.xlabel(\"iterations\")\n",
    "plt.ylabel(\"loss\")\n",
    "plt.ylim(0, 1)\n",
    "plt.legend()\n",
    "plt.show()"
   ]
  },
  {
   "cell_type": "markdown",
   "id": "71f12433",
   "metadata": {},
   "source": [
    "## 6.2 가중치의 초깃값\n",
    "\n",
    "가중치의 초깃값은 신경망 학습의 성능을 좌우하기도 한다. 오버피팅을 억제해 성능을 높히는 기법으로는 **가중치 감소**가 있다. 가중치 매개변수를 작아지도록 학습해 오버피팅을 방지하는 기법이다. 그러려면 초깃값도 작게 설정하는 것이 대체로 좋으며, 현재까지는 `0.01*np.random.randn(10,100)`을 사용했다.\n",
    "\n",
    "가중치 초깃값을 0으로 설정하면 비효율적인 이유는 오차역전파법에서 모든 가중치의 값이 똑같이 갱신되기 때문이다. (순전파 때 두 번째 층의 뉴런에 같은 값이 전달되며, 결국 역전파 때 두 번째 층의 가중치가 모두 똑같이 갱신된다.) 즉, *초깃값을 무작위로 설정해야 한다.*\n",
    "\n",
    "가중치의 초깃값은 은닉층 활성화값에 다음과 같은 영향을 미친다 (활성화 함수는 시그모이드, 신경망은 5층을 사용한다)."
   ]
  },
  {
   "cell_type": "code",
   "execution_count": 112,
   "id": "f4d63071",
   "metadata": {},
   "outputs": [],
   "source": [
    "def sigmoid(x):\n",
    "    return 1 / (1 + np.exp(-x))\n",
    "\n",
    "\n",
    "def ReLU(x):\n",
    "    return np.maximum(0, x)\n",
    "\n",
    "\n",
    "def tanh(x):\n",
    "    return np.tanh(x)"
   ]
  },
  {
   "cell_type": "code",
   "execution_count": 113,
   "id": "0cd6b21e",
   "metadata": {},
   "outputs": [
    {
     "data": {
      "image/png": "[encoded data removed]",
      "text/plain": [
       "<Figure size 432x288 with 5 Axes>"
      ]
     },
     "metadata": {
      "needs_background": "light"
     },
     "output_type": "display_data"
    }
   ],
   "source": [
    "input_data = np.random.randn(1000, 100)  # 1000개의 데이터\n",
    "node_num = 100  # 각 은닉층의 노드(뉴런) 수\n",
    "hidden_layer_size = 5  # 은닉층이 5개\n",
    "activations = {}  # 이곳에 활성화 결과를 저장\n",
    "\n",
    "x = input_data\n",
    "\n",
    "for i in range(hidden_layer_size):\n",
    "    if i != 0:\n",
    "        x = activations[i-1]\n",
    "\n",
    "    # 초깃값을 다양하게 바꿔가며 실험해보자！\n",
    "    w = np.random.randn(node_num, node_num) * 1\n",
    "    # w = np.random.randn(node_num, node_num) * 0.01\n",
    "    # w = np.random.randn(node_num, node_num) * np.sqrt(1.0 / node_num)\n",
    "    # w = np.random.randn(node_num, node_num) * np.sqrt(2.0 / node_num)\n",
    "\n",
    "\n",
    "    a = np.dot(x, w)\n",
    "\n",
    "\n",
    "    # 활성화 함수도 바꿔가며 실험해보자！\n",
    "    z = sigmoid(a)\n",
    "    # z = ReLU(a)\n",
    "    # z = tanh(a)\n",
    "\n",
    "    activations[i] = z\n",
    "\n",
    "# 히스토그램 그리기\n",
    "for i, a in activations.items():\n",
    "    plt.subplot(1, len(activations), i+1)\n",
    "    plt.title(str(i+1) + \"-layer\")\n",
    "    if i != 0: plt.yticks([], [])\n",
    "    # plt.xlim(0.1, 1)\n",
    "    # plt.ylim(0, 7000)\n",
    "    plt.hist(a.flatten(), 30, range=(0,1))\n",
    "plt.show()"
   ]
  },
  {
   "cell_type": "markdown",
   "id": "0298dd6f",
   "metadata": {},
   "source": [
    "활성화값들이 0과 1에 치우쳐 있으며, 이는 층이 많을수록 더 빈번히 일어나는 현상이다. 시그모이드 함수는 0이나 1에 가까운 값일수록 미분이 0에 가까워지며, 따라서 역전파의 기울기 값이 점점 작아지다가 사라진다. 이를 **기울기 소실** 문제라고 한다.\n",
    "\n",
    "가중치의 표준편차가 0.01이라면 어떨까?"
   ]
  },
  {
   "cell_type": "code",
   "execution_count": 114,
   "id": "a899814d",
   "metadata": {},
   "outputs": [
    {
     "data": {
      "image/png": "[encoded data removed]",
      "text/plain": [
       "<Figure size 432x288 with 5 Axes>"
      ]
     },
     "metadata": {
      "needs_background": "light"
     },
     "output_type": "display_data"
    }
   ],
   "source": [
    "input_data = np.random.randn(1000, 100)  # 1000개의 데이터\n",
    "node_num = 100  # 각 은닉층의 노드(뉴런) 수\n",
    "hidden_layer_size = 5  # 은닉층이 5개\n",
    "activations = {}  # 이곳에 활성화 결과를 저장\n",
    "\n",
    "x = input_data\n",
    "\n",
    "for i in range(hidden_layer_size):\n",
    "    if i != 0:\n",
    "        x = activations[i-1]\n",
    "\n",
    "    # 초깃값을 다양하게 바꿔가며 실험해보자！\n",
    "    # w = np.random.randn(node_num, node_num) * 1\n",
    "    w = np.random.randn(node_num, node_num) * 0.01\n",
    "    # w = np.random.randn(node_num, node_num) * np.sqrt(1.0 / node_num)\n",
    "    # w = np.random.randn(node_num, node_num) * np.sqrt(2.0 / node_num)\n",
    "\n",
    "\n",
    "    a = np.dot(x, w)\n",
    "\n",
    "\n",
    "    # 활성화 함수도 바꿔가며 실험해보자！\n",
    "    z = sigmoid(a)\n",
    "    # z = ReLU(a)\n",
    "    # z = tanh(a)\n",
    "\n",
    "    activations[i] = z\n",
    "\n",
    "# 히스토그램 그리기\n",
    "for i, a in activations.items():\n",
    "    plt.subplot(1, len(activations), i+1)\n",
    "    plt.title(str(i+1) + \"-layer\")\n",
    "    if i != 0: plt.yticks([], [])\n",
    "    # plt.xlim(0.1, 1)\n",
    "    # plt.ylim(0, 7000)\n",
    "    plt.hist(a.flatten(), 30, range=(0,1))\n",
    "plt.show()"
   ]
  },
  {
   "cell_type": "markdown",
   "id": "7c3f5522",
   "metadata": {},
   "source": [
    "이번에는 기울기 소실 문제가 없지만, 활성화값들이 0.5로 치우쳐져 있기에 **표현력이 제한**된다. 즉, *다수의 뉴런이 거의 같은 값을 출력하기에 뉴런을 여러 개 둔 의미가 없다*.\n",
    "\n",
    "새로운 초깃값으로 **Xavier 초깃값**을 설정한다. 이전 층의 노드 수가 $n$개일 때, 초깃값의 표준편차가 $\\frac{1}{\\sqrt{n}}$의 분포가 되도록 설정한다."
   ]
  },
  {
   "cell_type": "code",
   "execution_count": 115,
   "id": "27b37fac",
   "metadata": {},
   "outputs": [
    {
     "data": {
      "image/png": "[encoded data removed]",
      "text/plain": [
       "<Figure size 432x288 with 5 Axes>"
      ]
     },
     "metadata": {
      "needs_background": "light"
     },
     "output_type": "display_data"
    }
   ],
   "source": [
    "input_data = np.random.randn(1000, 100)  # 1000개의 데이터\n",
    "node_num = 100  # 각 은닉층의 노드(뉴런) 수\n",
    "hidden_layer_size = 5  # 은닉층이 5개\n",
    "activations = {}  # 이곳에 활성화 결과를 저장\n",
    "\n",
    "x = input_data\n",
    "\n",
    "for i in range(hidden_layer_size):\n",
    "    if i != 0:\n",
    "        x = activations[i-1]\n",
    "\n",
    "    # 초깃값을 다양하게 바꿔가며 실험해보자！\n",
    "    # w = np.random.randn(node_num, node_num) * 1\n",
    "    # w = np.random.randn(node_num, node_num) * 0.01\n",
    "    w = np.random.randn(node_num, node_num) * np.sqrt(1.0 / node_num)\n",
    "    # w = np.random.randn(node_num, node_num) * np.sqrt(2.0 / node_num)\n",
    "\n",
    "\n",
    "    a = np.dot(x, w)\n",
    "\n",
    "\n",
    "    # 활성화 함수도 바꿔가며 실험해보자！\n",
    "    z = sigmoid(a)\n",
    "    # z = ReLU(a)\n",
    "    # z = tanh(a)\n",
    "\n",
    "    activations[i] = z\n",
    "\n",
    "# 히스토그램 그리기\n",
    "for i, a in activations.items():\n",
    "    plt.subplot(1, len(activations), i+1)\n",
    "    plt.title(str(i+1) + \"-layer\")\n",
    "    if i != 0: plt.yticks([], [])\n",
    "    # plt.xlim(0.1, 1)\n",
    "    # plt.ylim(0, 7000)\n",
    "    plt.hist(a.flatten(), 30, range=(0,1))\n",
    "plt.show()"
   ]
  },
  {
   "cell_type": "markdown",
   "id": "9eb2c64e",
   "metadata": {},
   "source": [
    "표현력이 제한되지 않고, 기울기 소실 문제도 없는 것을 볼 수 있다. **Xavier 초깃값은 좌우 대칭의 sigmoid 함수와 tanh 함수를 사용할 때 적당하다**. (좌우 대칭이면 중앙 부근이 선형이기 때문)\n",
    "\n",
    "이번에는 시그모이드 함수 대신 ReLU를 사용할 때 특화된 **He 초깃값**을 알아보자. Xavier 초깃값과 매우 유사하나, 음의 영역이 0이기 때문에 더 넓은 분포를 위해 표준편차가 $\\frac{2}{\\sqrt{n}}$인 정규분포를 사용한다."
   ]
  },
  {
   "cell_type": "code",
   "execution_count": 118,
   "id": "3435bc29",
   "metadata": {},
   "outputs": [
    {
     "data": {
      "image/png": "[encoded data removed]",
      "text/plain": [
       "<Figure size 432x288 with 5 Axes>"
      ]
     },
     "metadata": {
      "needs_background": "light"
     },
     "output_type": "display_data"
    }
   ],
   "source": [
    "# 0.01일 때\n",
    "\n",
    "x = input_data\n",
    "\n",
    "for i in range(hidden_layer_size):\n",
    "    if i != 0:\n",
    "        x = activations[i-1]\n",
    "\n",
    "    w = np.random.randn(node_num, node_num) * 0.01\n",
    "    a = np.dot(x, w)\n",
    "    z = ReLU(a)\n",
    "    activations[i] = z\n",
    "\n",
    "# 히스토그램 그리기\n",
    "for i, a in activations.items():\n",
    "    plt.subplot(1, len(activations), i+1)\n",
    "    plt.title(str(i+1) + \"-layer\")\n",
    "    if i != 0: plt.yticks([], [])\n",
    "    # plt.xlim(0.1, 1)\n",
    "    # plt.ylim(0, 7000)\n",
    "    plt.hist(a.flatten(), 30, range=(0,1))\n",
    "plt.show()"
   ]
  },
  {
   "cell_type": "markdown",
   "id": "c41b9c64",
   "metadata": {},
   "source": [
    "ReLU에 표준편차가 0.01인 정규분포를 가중치 초깃값으로 사용했을 때, 각 층의 활성화값들은 매우 작다. 그렇기에 역전파 때 가중치의 기울기 역시 작아지며, 학습의 효과도 미미하다."
   ]
  },
  {
   "cell_type": "code",
   "execution_count": 119,
   "id": "3dfa72e5",
   "metadata": {},
   "outputs": [
    {
     "data": {
      "image/png": "[encoded data removed]",
      "text/plain": [
       "<Figure size 432x288 with 5 Axes>"
      ]
     },
     "metadata": {
      "needs_background": "light"
     },
     "output_type": "display_data"
    }
   ],
   "source": [
    "# Xavier 초깃값일 때\n",
    "\n",
    "x = input_data\n",
    "\n",
    "for i in range(hidden_layer_size):\n",
    "    if i != 0:\n",
    "        x = activations[i-1]\n",
    "\n",
    "    w = np.random.randn(node_num, node_num) * np.sqrt(1.0 / node_num)\n",
    "    a = np.dot(x, w)\n",
    "    z = ReLU(a)\n",
    "    activations[i] = z\n",
    "\n",
    "# 히스토그램 그리기\n",
    "for i, a in activations.items():\n",
    "    plt.subplot(1, len(activations), i+1)\n",
    "    plt.title(str(i+1) + \"-layer\")\n",
    "    if i != 0: plt.yticks([], [])\n",
    "    # plt.xlim(0.1, 1)\n",
    "    # plt.ylim(0, 7000)\n",
    "    plt.hist(a.flatten(), 30, range=(0,1))\n",
    "plt.show()"
   ]
  },
  {
   "cell_type": "markdown",
   "id": "6d405953",
   "metadata": {},
   "source": [
    "ReLU에 Xavier 초깃값을 가중치 초깃값으로 사용했을 때, 층이 깊어지면서 치우침이 커진다. 층이 더욱 깊어진다면 치우침이 더 커져서 기울기 소실 문제가 일어난다."
   ]
  },
  {
   "cell_type": "code",
   "execution_count": 120,
   "id": "f7f81eb2",
   "metadata": {},
   "outputs": [
    {
     "data": {
      "image/png": "[encoded data removed]",
      "text/plain": [
       "<Figure size 432x288 with 5 Axes>"
      ]
     },
     "metadata": {
      "needs_background": "light"
     },
     "output_type": "display_data"
    }
   ],
   "source": [
    "# He 초깃값일 때\n",
    "\n",
    "x = input_data\n",
    "\n",
    "for i in range(hidden_layer_size):\n",
    "    if i != 0:\n",
    "        x = activations[i-1]\n",
    "\n",
    "    w = np.random.randn(node_num, node_num) * np.sqrt(2.0 / node_num)\n",
    "    a = np.dot(x, w)\n",
    "    z = ReLU(a)\n",
    "    activations[i] = z\n",
    "\n",
    "# 히스토그램 그리기\n",
    "for i, a in activations.items():\n",
    "    plt.subplot(1, len(activations), i+1)\n",
    "    plt.title(str(i+1) + \"-layer\")\n",
    "    if i != 0: plt.yticks([], [])\n",
    "    # plt.xlim(0.1, 1)\n",
    "    # plt.ylim(0, 7000)\n",
    "    plt.hist(a.flatten(), 30, range=(0,1))\n",
    "plt.show()"
   ]
  },
  {
   "cell_type": "markdown",
   "id": "ac4fd976",
   "metadata": {},
   "source": [
    "ReLU에 He 초깃값을 가중치 초깃값으로 사용했을 때, 모든 층에서 균일하게 분포되기에 역전파 때도 적절한 값이 나올 것이다.\n",
    "\n",
    "**즉, 활성화 함수로 ReLU를 사용할 때는 He 초깃값을, sigmoid나 tanh 등의 S자 모양 곡선일 때는 Xavier 초깃값을 사용한다.**\n",
    "\n",
    "가중치 초깃값을 비교해보자."
   ]
  },
  {
   "cell_type": "code",
   "execution_count": 122,
   "id": "91e41837",
   "metadata": {},
   "outputs": [
    {
     "name": "stdout",
     "output_type": "stream",
     "text": [
      "===========iteration:0===========\n",
      "std=0.01:2.3024469408350017\n",
      "Xavier:2.3192901818354312\n",
      "He:2.3313814543549563\n",
      "===========iteration:100===========\n",
      "std=0.01:2.301278264986246\n",
      "Xavier:2.2506253007398183\n",
      "He:1.4213979231218365\n",
      "===========iteration:200===========\n",
      "std=0.01:2.301728825463247\n",
      "Xavier:2.108312048682505\n",
      "He:0.9220126167681006\n",
      "===========iteration:300===========\n",
      "std=0.01:2.2996518761175513\n",
      "Xavier:1.8168614451462566\n",
      "He:0.5343547778912875\n",
      "===========iteration:400===========\n",
      "std=0.01:2.3020284423036577\n",
      "Xavier:1.3421372127967004\n",
      "He:0.3527625054057355\n",
      "===========iteration:500===========\n",
      "std=0.01:2.3051487308538774\n",
      "Xavier:1.0247786582471803\n",
      "He:0.3972267643526229\n",
      "===========iteration:600===========\n",
      "std=0.01:2.3024236709985333\n",
      "Xavier:0.7165472399511349\n",
      "He:0.3736940062512244\n",
      "===========iteration:700===========\n",
      "std=0.01:2.3009796595597707\n",
      "Xavier:0.5227898275847741\n",
      "He:0.2687048344487937\n",
      "===========iteration:800===========\n",
      "std=0.01:2.3001116592232056\n",
      "Xavier:0.5222204206811707\n",
      "He:0.3324542911923474\n",
      "===========iteration:900===========\n",
      "std=0.01:2.3027308178795547\n",
      "Xavier:0.525564010069651\n",
      "He:0.34408193707966145\n",
      "===========iteration:1000===========\n",
      "std=0.01:2.3008957464979973\n",
      "Xavier:0.36037845109715455\n",
      "He:0.23676041504676637\n",
      "===========iteration:1100===========\n",
      "std=0.01:2.2970740069800506\n",
      "Xavier:0.3628336839358952\n",
      "He:0.20819518951538352\n",
      "===========iteration:1200===========\n",
      "std=0.01:2.304338722369627\n",
      "Xavier:0.4386942422857012\n",
      "He:0.28183157629482924\n",
      "===========iteration:1300===========\n",
      "std=0.01:2.2947014291394057\n",
      "Xavier:0.361280150512199\n",
      "He:0.15839410196694503\n",
      "===========iteration:1400===========\n",
      "std=0.01:2.3039363271572055\n",
      "Xavier:0.42293958759644124\n",
      "He:0.2969878858010322\n",
      "===========iteration:1500===========\n",
      "std=0.01:2.2996375448565134\n",
      "Xavier:0.2734996186176169\n",
      "He:0.15707337289115963\n",
      "===========iteration:1600===========\n",
      "std=0.01:2.306553529519194\n",
      "Xavier:0.36605066865601815\n",
      "He:0.2680311011914507\n",
      "===========iteration:1700===========\n",
      "std=0.01:2.3093387744154983\n",
      "Xavier:0.19056949609080365\n",
      "He:0.13683148038567117\n",
      "===========iteration:1800===========\n",
      "std=0.01:2.304694177467628\n",
      "Xavier:0.2529556674861417\n",
      "He:0.1712893464176553\n",
      "===========iteration:1900===========\n",
      "std=0.01:2.2991221258553853\n",
      "Xavier:0.22114894488184492\n",
      "He:0.1311592878910387\n"
     ]
    },
    {
     "data": {
      "image/png": "[encoded data removed]",
      "text/plain": [
       "<Figure size 432x288 with 1 Axes>"
      ]
     },
     "metadata": {
      "needs_background": "light"
     },
     "output_type": "display_data"
    }
   ],
   "source": [
    "# 0. MNIST 데이터 읽기==========\n",
    "(x_train, t_train), (x_test, t_test) = load_mnist(normalize=True)\n",
    "\n",
    "train_size = x_train.shape[0]\n",
    "batch_size = 128\n",
    "max_iterations = 2000\n",
    "\n",
    "\n",
    "# 1. 실험용 설정==========\n",
    "weight_init_types = {'std=0.01': 0.01, 'Xavier': 'sigmoid', 'He': 'relu'}\n",
    "optimizer = SGD(lr=0.01)\n",
    "\n",
    "networks = {}\n",
    "train_loss = {}\n",
    "for key, weight_type in weight_init_types.items():\n",
    "    networks[key] = MultiLayerNet(input_size=784, hidden_size_list=[100, 100, 100, 100],\n",
    "                                  output_size=10, weight_init_std=weight_type)\n",
    "    train_loss[key] = []\n",
    "\n",
    "\n",
    "# 2. 훈련 시작==========\n",
    "for i in range(max_iterations):\n",
    "    batch_mask = np.random.choice(train_size, batch_size)\n",
    "    x_batch = x_train[batch_mask]\n",
    "    t_batch = t_train[batch_mask]\n",
    "    \n",
    "    for key in weight_init_types.keys():\n",
    "        grads = networks[key].gradient(x_batch, t_batch)\n",
    "        optimizer.update(networks[key].params, grads)\n",
    "    \n",
    "        loss = networks[key].loss(x_batch, t_batch)\n",
    "        train_loss[key].append(loss)\n",
    "    \n",
    "    if i % 100 == 0:\n",
    "        print(\"===========\" + \"iteration:\" + str(i) + \"===========\")\n",
    "        for key in weight_init_types.keys():\n",
    "            loss = networks[key].loss(x_batch, t_batch)\n",
    "            print(key + \":\" + str(loss))\n",
    "\n",
    "\n",
    "# 3. 그래프 그리기==========\n",
    "markers = {'std=0.01': 'o', 'Xavier': 's', 'He': 'D'}\n",
    "x = np.arange(max_iterations)\n",
    "for key in weight_init_types.keys():\n",
    "    plt.plot(x, smooth_curve(train_loss[key]), marker=markers[key], markevery=100, label=key)\n",
    "plt.xlabel(\"iterations\")\n",
    "plt.ylabel(\"loss\")\n",
    "plt.ylim(0, 2.5)\n",
    "plt.legend()\n",
    "plt.show()"
   ]
  },
  {
   "cell_type": "markdown",
   "id": "487a2a7a",
   "metadata": {},
   "source": [
    "`std=0.01`의 경우 학습이 전혀 이뤄지지 않으며, 나머지 두 개의 초깃값의 경우 학습이 잘 이뤄진다. 진도는 He 초깃값 쪽이 조금 더 빠르다."
   ]
  },
  {
   "cell_type": "markdown",
   "id": "0ae7f103",
   "metadata": {},
   "source": [
    "## 6.3 배치 정규화"
   ]
  },
  {
   "cell_type": "code",
   "execution_count": null,
   "id": "5f7a6ba0",
   "metadata": {},
   "outputs": [],
   "source": []
  }
 ],
 "metadata": {
  "kernelspec": {
   "display_name": "Python 3",
   "language": "python",
   "name": "python3"
  },
  "language_info": {
   "codemirror_mode": {
    "name": "ipython",
    "version": 3
   },
   "file_extension": ".py",
   "mimetype": "text/x-python",
   "name": "python",
   "nbconvert_exporter": "python",
   "pygments_lexer": "ipython3",
   "version": "3.8.8"
  }
 },
 "nbformat": 4,
 "nbformat_minor": 5
}
